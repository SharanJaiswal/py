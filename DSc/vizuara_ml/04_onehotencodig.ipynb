{
 "cells": [
  {
   "cell_type": "code",
   "execution_count": 4,
   "id": "dcc4ddf4",
   "metadata": {},
   "outputs": [],
   "source": [
    "# One Hot Encoding using OneHotEncoder of sklearn.preprocessing\n",
    "\n",
    "import pandas as pd\n",
    "from sklearn.preprocessing import OneHotEncoder"
   ]
  },
  {
   "cell_type": "code",
   "execution_count": 5,
   "id": "85a4a76a",
   "metadata": {},
   "outputs": [
    {
     "name": "stdout",
     "output_type": "stream",
     "text": [
      "Employee Data : \n",
      "   Employee id Gender Remarks\n",
      "0           10      M    Good\n",
      "1           20      F    Nice\n",
      "2           15      F    Good\n",
      "3           25      M   Great\n",
      "4           30      F    Nice\n"
     ]
    }
   ],
   "source": [
    "# Building a dummy employee dataset for example\n",
    "data = {'Employee id': [10, 20, 15, 25, 30],\n",
    "        'Gender': ['M', 'F', 'F', 'M', 'F'],\n",
    "        'Remarks': ['Good', 'Nice', 'Good', 'Great', 'Nice'],\n",
    "}\n",
    "\n",
    "# Converting into a pandas dataframe\n",
    "df = pd.DataFrame(data)\n",
    "\n",
    "# Print the dataframe:\n",
    "print(f\"Employee Data : \\n{df}\")"
   ]
  },
  {
   "cell_type": "code",
   "execution_count": 12,
   "id": "6449e0a2",
   "metadata": {},
   "outputs": [
    {
     "name": "stdout",
     "output_type": "stream",
     "text": [
      "['Gender', 'Remarks']\n",
      "OneHotEncoder(sparse_output=False)\n",
      "----------\n",
      "[[0. 1. 1. 0. 0.]\n",
      " [1. 0. 0. 0. 1.]\n",
      " [1. 0. 1. 0. 0.]\n",
      " [0. 1. 0. 1. 0.]\n",
      " [1. 0. 0. 0. 1.]]\n",
      "----------\n",
      "['Gender_F' 'Gender_M' 'Remarks_Good' 'Remarks_Great' 'Remarks_Nice']\n",
      "   Gender_F  Gender_M  Remarks_Good  Remarks_Great  Remarks_Nice\n",
      "0       0.0       1.0           1.0            0.0           0.0\n",
      "1       1.0       0.0           0.0            0.0           1.0\n",
      "2       1.0       0.0           1.0            0.0           0.0\n",
      "3       0.0       1.0           0.0            1.0           0.0\n",
      "4       1.0       0.0           0.0            0.0           1.0\n",
      "----------\n",
      "   Employee id Gender Remarks  Gender_F  Gender_M  Remarks_Good  \\\n",
      "0           10      M    Good       0.0       1.0           1.0   \n",
      "1           20      F    Nice       1.0       0.0           0.0   \n",
      "2           15      F    Good       1.0       0.0           1.0   \n",
      "3           25      M   Great       0.0       1.0           0.0   \n",
      "4           30      F    Nice       1.0       0.0           0.0   \n",
      "\n",
      "   Remarks_Great  Remarks_Nice  \n",
      "0            0.0           0.0  \n",
      "1            0.0           1.0  \n",
      "2            0.0           0.0  \n",
      "3            1.0           0.0  \n",
      "4            0.0           1.0  \n",
      "Encoded Employee Data : \n",
      "   Employee id  Gender_F  Gender_M  Remarks_Good  Remarks_Great  Remarks_Nice\n",
      "0           10       0.0       1.0           1.0            0.0           0.0\n",
      "1           20       1.0       0.0           0.0            0.0           1.0\n",
      "2           15       1.0       0.0           1.0            0.0           0.0\n",
      "3           25       0.0       1.0           0.0            1.0           0.0\n",
      "4           30       1.0       0.0           0.0            0.0           1.0\n"
     ]
    }
   ],
   "source": [
    "# Extract categorical columns from the dataFrame\n",
    "# Here we extract the columns with object datatype as they are the categorical columns\n",
    "categorical_columns = df.select_dtypes(include=['object']).columns.tolist()\n",
    "print(categorical_columns)\n",
    "\n",
    "# Initialize OneHotEncoder\n",
    "encoder = OneHotEncoder(sparse_output=False)    # here, we have set sparse_output to False to get a dense array as output otherwise it will return a sparse matrix\n",
    "print(encoder)\n",
    "print(\"----------\")\n",
    "\n",
    "# Apply one-hot encoding to the categorical columns\n",
    "one_hot_encoded = encoder.fit_transform(df[categorical_columns])\n",
    "print(one_hot_encoded)\n",
    "print(\"----------\")\n",
    "\n",
    "# Create a dataframe with the one-hot encoded columns\n",
    "# We use get_feature_names_out() to get the columns names for the encoded data\n",
    "one_hot_df = pd.DataFrame(one_hot_encoded, columns=encoder.get_feature_names_out(categorical_columns))\n",
    "print(encoder.get_feature_names_out(categorical_columns))\n",
    "print(one_hot_df)\n",
    "print(\"----------\")\n",
    "\n",
    "# Concatenate the one-hot encoded columns back to the original dataframe\n",
    "df_encoded = pd.concat([df, one_hot_df], axis=1)\n",
    "print(df_encoded)\n",
    "\n",
    "# Drop the original categorical columns if not needed\n",
    "df_encoded = df_encoded.drop(columns=categorical_columns, axis=1)\n",
    "\n",
    "# Display the resulting dataframe\n",
    "print(f\"Encoded Employee Data : \\n{df_encoded}\")"
   ]
  },
  {
   "cell_type": "markdown",
   "id": "27fbf919",
   "metadata": {},
   "source": [
    "### Factoring: Use your knowledge of dta to come up with own encoding\n",
    "eg: A+, A-, B+, B-, O+, O-, AB+, AB-\n",
    "\n",
    "oneHotEncoding will require 8 columns to represent data but if we factor the data as [A,B,O,AB] & [+,-], then this will need only 6 cols, that speeds up the calculation."
   ]
  },
  {
   "cell_type": "markdown",
   "id": "88928ce4",
   "metadata": {},
   "source": [
    "### Standardizing Numerical Features\n",
    "Suppose we have several features F_i, where lets say, one has values ranging [0,2], second has range [3,3000], another features has range [5, 89]. This will take a lot of time to deal with these data.\n",
    "\n",
    "##### Workaround: \n",
    "##### X_i = (X_i - MU_X)/(SIGMA_X)"
   ]
  }
 ],
 "metadata": {
  "kernelspec": {
   "display_name": "pythonlab",
   "language": "python",
   "name": "python3"
  },
  "language_info": {
   "codemirror_mode": {
    "name": "ipython",
    "version": 3
   },
   "file_extension": ".py",
   "mimetype": "text/x-python",
   "name": "python",
   "nbconvert_exporter": "python",
   "pygments_lexer": "ipython3",
   "version": "3.10.18"
  }
 },
 "nbformat": 4,
 "nbformat_minor": 5
}
