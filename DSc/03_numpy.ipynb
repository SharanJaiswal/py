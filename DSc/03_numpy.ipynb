{
 "cells": [
  {
   "cell_type": "code",
   "execution_count": 1,
   "metadata": {},
   "outputs": [],
   "source": [
    "import numpy as np"
   ]
  },
  {
   "cell_type": "code",
   "execution_count": 2,
   "metadata": {},
   "outputs": [
    {
     "data": {
      "text/plain": [
       "0.00409561915288581"
      ]
     },
     "execution_count": 2,
     "metadata": {},
     "output_type": "execute_result"
    }
   ],
   "source": [
    "np.random.rand()    # uniform dist. [0,1)"
   ]
  },
  {
   "cell_type": "code",
   "execution_count": 3,
   "metadata": {},
   "outputs": [
    {
     "data": {
      "text/plain": [
       "-1.0535779282148625"
      ]
     },
     "execution_count": 3,
     "metadata": {},
     "output_type": "execute_result"
    }
   ],
   "source": [
    "np.random.randn()   # normal dist. [0,1)"
   ]
  },
  {
   "cell_type": "code",
   "execution_count": 4,
   "metadata": {},
   "outputs": [
    {
     "name": "stdout",
     "output_type": "stream",
     "text": [
      "<class 'numpy.ndarray'> [[ 1 78 62  2  4 87  3 96 77 86 75 82 20 55 19]\n",
      " [16 74 16 58 19 69  2 28 67 12 68 59 48 61 33]]\n"
     ]
    },
    {
     "data": {
      "text/plain": [
       "array([False,  True,  True,  True, False,  True, False,  True,  True,\n",
       "        True,  True,  True, False,  True, False])"
      ]
     },
     "execution_count": 4,
     "metadata": {},
     "output_type": "execute_result"
    }
   ],
   "source": [
    "a=np.random.randint(100, size=(2, 15))    # literally, instead of size, there should be shape. BUT HERE IT IS SIZE. We can aslo give the lower limit(inclusive) and upper limit(exclusive), and size of any shape\n",
    "\n",
    "print(type(a), a)\n",
    "np.any(a>50, axis=0)"
   ]
  },
  {
   "cell_type": "code",
   "execution_count": 5,
   "metadata": {},
   "outputs": [
    {
     "data": {
      "text/plain": [
       "array([[False, False, False, False, False, False, False, False, False,\n",
       "        False, False, False, False,  True, False],\n",
       "       [False, False, False,  True, False, False, False,  True, False,\n",
       "        False, False,  True,  True, False,  True]])"
      ]
     },
     "execution_count": 5,
     "metadata": {},
     "output_type": "execute_result"
    }
   ],
   "source": [
    "((a>20) & (a<60))"
   ]
  },
  {
   "cell_type": "code",
   "execution_count": 6,
   "metadata": {},
   "outputs": [
    {
     "data": {
      "text/plain": [
       "array([[4, 7, 3, 4, 5],\n",
       "       [2, 4, 6, 7, 7],\n",
       "       [7, 4, 3, 4, 4]])"
      ]
     },
     "execution_count": 6,
     "metadata": {},
     "output_type": "execute_result"
    }
   ],
   "source": [
    "np.random.choice([2,3,4,5,6,7,8], size=(3, 5))"
   ]
  },
  {
   "cell_type": "code",
   "execution_count": 7,
   "metadata": {},
   "outputs": [
    {
     "data": {
      "text/plain": [
       "array([4, 4, 4, 4, 3, 3, 4, 4, 4, 2, 4, 3, 2, 3, 4, 3, 4, 4, 3, 4, 4, 3,\n",
       "       3, 4, 4, 4, 4, 4, 3, 4, 4, 4, 2, 4, 3, 4, 4, 3, 3, 4, 4, 4, 3, 4,\n",
       "       4, 4, 4, 4, 4, 2, 3, 4, 3, 3, 3, 3, 2, 3, 4, 3, 4, 4, 2, 4, 4, 4,\n",
       "       4, 2, 3, 4, 3, 4, 3, 3, 4, 4, 3, 3, 4, 4, 3, 4, 4, 3, 4, 4, 3, 3,\n",
       "       4, 4, 4, 3, 4, 3, 4, 4, 4, 3, 4, 4])"
      ]
     },
     "execution_count": 7,
     "metadata": {},
     "output_type": "execute_result"
    }
   ],
   "source": [
    "np.random.choice([2,3,4,5], p=[0.1, 0.3, 0.6, 0.0], size=(100,))    # we can specify the probablities of random variable/choices also"
   ]
  },
  {
   "cell_type": "code",
   "execution_count": 8,
   "metadata": {},
   "outputs": [
    {
     "data": {
      "text/plain": [
       "array([5, 2, 3, 4, 1])"
      ]
     },
     "execution_count": 8,
     "metadata": {},
     "output_type": "execute_result"
    }
   ],
   "source": [
    "b = np.array([1, 2, 3, 4, 5])\n",
    "np.random.shuffle(b)    # or, permutation()\n",
    "b   # shuffles the array inplace. In multi-dimension array, all the elements are shuffeled."
   ]
  },
  {
   "cell_type": "code",
   "execution_count": 9,
   "metadata": {},
   "outputs": [],
   "source": [
    "# seed makes the random numbers predictable. That is, everytime, for the same code, same random output will be generated.\n",
    "# np.random.seed()    # seed(int_val)"
   ]
  },
  {
   "cell_type": "code",
   "execution_count": 10,
   "metadata": {},
   "outputs": [
    {
     "data": {
      "text/plain": [
       "array([  0,   1,   2,   3,   4,   5,   6,   7,   8,   9,  10,  11,  12,\n",
       "        13,  14,  15,  16,  17,  18,  19,  20,  21,  22,  23,  24,  25,\n",
       "        26,  27,  28,  29,  30,  31,  32,  33,  34,  35,  36,  37,  38,\n",
       "        39,  40,  41,  42,  43,  44,  45,  46,  47,  48,  49,  50,  51,\n",
       "        52,  53,  54,  55,  56,  57,  58,  59,  60,  61,  62,  63,  64,\n",
       "        65,  66,  67,  68,  69,  70,  71,  72,  73,  74,  75,  76,  77,\n",
       "        78,  79,  80,  81,  82,  83,  84,  85,  86,  87,  88,  89,  90,\n",
       "        91,  92,  93,  94,  95,  96,  97,  98,  99, 100, 101, 102, 103,\n",
       "       104, 105, 106, 107, 108, 109, 110, 111, 112, 113, 114, 115, 116,\n",
       "       117, 118, 119, 120, 121, 122, 123, 124, 125, 126, 127, 128, 129,\n",
       "       130, 131, 132, 133, 134, 135, 136, 137, 138, 139, 140, 141, 142,\n",
       "       143, 144, 145, 146, 147, 148, 149, 150, 151, 152, 153, 154, 155,\n",
       "       156, 157, 158, 159, 160, 161, 162, 163, 164, 165, 166, 167, 168,\n",
       "       169, 170, 171, 172, 173, 174, 175, 176, 177, 178, 179, 180, 181,\n",
       "       182, 183, 184, 185, 186, 187, 188, 189, 190, 191, 192, 193, 194,\n",
       "       195, 196, 197, 198, 199, 200, 201, 202, 203, 204, 205, 206, 207,\n",
       "       208, 209, 210, 211, 212, 213, 214, 215, 216, 217, 218, 219, 220,\n",
       "       221, 222, 223, 224, 225, 226, 227, 228, 229, 230, 231, 232, 233,\n",
       "       234, 235, 236, 237, 238, 239, 240, 241, 242, 243, 244, 245, 246,\n",
       "       247, 248, 249, 250, 251, 252, 253, 254, 255, 256, 257, 258, 259,\n",
       "       260, 261, 262, 263, 264, 265, 266, 267, 268, 269, 270, 271, 272,\n",
       "       273, 274, 275, 276, 277, 278, 279, 280, 281, 282, 283, 284, 285,\n",
       "       286, 287, 288, 289, 290, 291, 292, 293, 294, 295, 296, 297, 298,\n",
       "       299, 300, 301, 302, 303, 304, 305, 306, 307, 308, 309, 310, 311,\n",
       "       312, 313, 314, 315, 316, 317, 318, 319, 320, 321, 322, 323, 324,\n",
       "       325, 326, 327, 328, 329, 330, 331, 332, 333, 334, 335, 336, 337,\n",
       "       338, 339, 340, 341, 342, 343, 344, 345, 346, 347, 348, 349, 350,\n",
       "       351, 352, 353, 354, 355, 356, 357, 358, 359, 360, 361, 362, 363,\n",
       "       364, 365, 366, 367, 368, 369, 370, 371, 372, 373, 374, 375, 376,\n",
       "       377, 378, 379, 380, 381, 382, 383, 384, 385, 386, 387, 388, 389,\n",
       "       390, 391, 392, 393, 394, 395, 396, 397, 398, 399, 400, 401, 402,\n",
       "       403, 404, 405, 406, 407, 408, 409, 410, 411, 412, 413, 414, 415,\n",
       "       416, 417, 418, 419, 420, 421, 422, 423, 424, 425, 426, 427, 428,\n",
       "       429, 430, 431, 432, 433, 434, 435, 436, 437, 438, 439, 440, 441,\n",
       "       442, 443, 444, 445, 446, 447, 448, 449, 450, 451, 452, 453, 454,\n",
       "       455, 456, 457, 458, 459, 460, 461, 462, 463, 464, 465, 466, 467,\n",
       "       468, 469, 470, 471, 472, 473, 474, 475, 476, 477, 478, 479, 480,\n",
       "       481, 482, 483, 484, 485, 486, 487, 488, 489, 490, 491, 492, 493,\n",
       "       494, 495, 496, 497, 498, 499, 500, 501, 502, 503, 504, 505, 506,\n",
       "       507, 508, 509, 510, 511, 512, 513, 514, 515, 516, 517, 518, 519,\n",
       "       520, 521, 522, 523, 524, 525, 526, 527, 528, 529, 530, 531, 532,\n",
       "       533, 534, 535, 536, 537, 538, 539, 540, 541, 542, 543, 544, 545,\n",
       "       546, 547, 548, 549, 550, 551, 552, 553, 554, 555, 556, 557, 558,\n",
       "       559, 560, 561, 562, 563, 564, 565, 566, 567, 568, 569, 570, 571,\n",
       "       572, 573, 574, 575, 576, 577, 578, 579, 580, 581, 582, 583, 584,\n",
       "       585, 586, 587, 588, 589, 590, 591, 592, 593, 594, 595, 596, 597,\n",
       "       598, 599, 600, 601, 602, 603, 604, 605, 606, 607, 608, 609, 610,\n",
       "       611, 612, 613, 614, 615, 616, 617, 618, 619, 620, 621, 622, 623,\n",
       "       624, 625, 626, 627, 628, 629, 630, 631, 632, 633, 634, 635, 636,\n",
       "       637, 638, 639, 640, 641, 642, 643, 644, 645, 646, 647, 648, 649,\n",
       "       650, 651, 652, 653, 654, 655, 656, 657, 658, 659, 660, 661, 662,\n",
       "       663, 664, 665, 666, 667, 668, 669, 670, 671, 672, 673, 674, 675,\n",
       "       676, 677, 678, 679, 680, 681, 682, 683, 684, 685, 686, 687, 688,\n",
       "       689, 690, 691, 692, 693, 694, 695, 696, 697, 698, 699, 700, 701,\n",
       "       702, 703, 704, 705, 706, 707, 708, 709, 710, 711, 712, 713, 714,\n",
       "       715, 716, 717, 718, 719, 720, 721, 722, 723, 724, 725, 726, 727,\n",
       "       728, 729, 730, 731, 732, 733, 734, 735, 736, 737, 738, 739, 740,\n",
       "       741, 742, 743, 744, 745, 746, 747, 748, 749, 750, 751, 752, 753,\n",
       "       754, 755, 756, 757, 758, 759, 760, 761, 762, 763, 764, 765, 766,\n",
       "       767, 768, 769, 770, 771, 772, 773, 774, 775, 776, 777, 778, 779,\n",
       "       780, 781, 782, 783, 784, 785, 786, 787, 788, 789, 790, 791, 792,\n",
       "       793, 794, 795, 796, 797, 798, 799, 800, 801, 802, 803, 804, 805,\n",
       "       806, 807, 808, 809, 810, 811, 812, 813, 814, 815, 816, 817, 818,\n",
       "       819, 820, 821, 822, 823, 824, 825, 826, 827, 828, 829, 830, 831,\n",
       "       832, 833, 834, 835, 836, 837, 838, 839, 840, 841, 842, 843, 844,\n",
       "       845, 846, 847, 848, 849, 850, 851, 852, 853, 854, 855, 856, 857,\n",
       "       858, 859, 860, 861, 862, 863, 864, 865, 866, 867, 868, 869, 870,\n",
       "       871, 872, 873, 874, 875, 876, 877, 878, 879, 880, 881, 882, 883,\n",
       "       884, 885, 886, 887, 888, 889, 890, 891, 892, 893, 894, 895, 896,\n",
       "       897, 898, 899, 900, 901, 902, 903, 904, 905, 906, 907, 908, 909,\n",
       "       910, 911, 912, 913, 914, 915, 916, 917, 918, 919, 920, 921, 922,\n",
       "       923, 924, 925, 926, 927, 928, 929, 930, 931, 932, 933, 934, 935,\n",
       "       936, 937, 938, 939, 940, 941, 942, 943, 944, 945, 946, 947, 948,\n",
       "       949, 950, 951, 952, 953, 954, 955, 956, 957, 958, 959, 960, 961,\n",
       "       962, 963, 964, 965, 966, 967, 968, 969, 970, 971, 972, 973, 974,\n",
       "       975, 976, 977, 978, 979, 980, 981, 982, 983, 984, 985, 986, 987,\n",
       "       988, 989, 990, 991, 992, 993, 994, 995, 996, 997, 998, 999])"
      ]
     },
     "execution_count": 10,
     "metadata": {},
     "output_type": "execute_result"
    }
   ],
   "source": [
    "array = np.arange(1000)\n",
    "array"
   ]
  },
  {
   "cell_type": "code",
   "execution_count": 11,
   "metadata": {},
   "outputs": [
    {
     "data": {
      "text/plain": [
       "array([ 1,  5, 78])"
      ]
     },
     "execution_count": 11,
     "metadata": {},
     "output_type": "execute_result"
    }
   ],
   "source": [
    "array[[1,5,78]]"
   ]
  },
  {
   "cell_type": "code",
   "execution_count": 12,
   "metadata": {},
   "outputs": [
    {
     "name": "stdout",
     "output_type": "stream",
     "text": [
      "8000\n"
     ]
    }
   ],
   "source": [
    "print(array.size * array.itemsize)  # or simply array.nbytes"
   ]
  },
  {
   "cell_type": "code",
   "execution_count": 13,
   "metadata": {},
   "outputs": [],
   "source": [
    "# if two np arrays of any equal dimensions are there, a1 and a2\n",
    "# then a1<arithmetic_operator>a2 will return numpy array where corresponding array elements are processed"
   ]
  },
  {
   "cell_type": "code",
   "execution_count": 14,
   "metadata": {},
   "outputs": [
    {
     "data": {
      "text/plain": [
       "1"
      ]
     },
     "execution_count": 14,
     "metadata": {},
     "output_type": "execute_result"
    }
   ],
   "source": [
    "a=np.array([1, 2, 3])\n",
    "a.ndim"
   ]
  },
  {
   "cell_type": "code",
   "execution_count": 15,
   "metadata": {},
   "outputs": [
    {
     "data": {
      "text/plain": [
       "dtype('int64')"
      ]
     },
     "execution_count": 15,
     "metadata": {},
     "output_type": "execute_result"
    }
   ],
   "source": [
    "a.dtype"
   ]
  },
  {
   "cell_type": "code",
   "execution_count": 16,
   "metadata": {},
   "outputs": [
    {
     "data": {
      "text/plain": [
       "6"
      ]
     },
     "execution_count": 16,
     "metadata": {},
     "output_type": "execute_result"
    }
   ],
   "source": [
    "a= np.array([[1,2,3], [4,5,6], [7,8,9]], ndmin=6)\n",
    "a.ndim"
   ]
  },
  {
   "cell_type": "code",
   "execution_count": 17,
   "metadata": {},
   "outputs": [
    {
     "data": {
      "text/plain": [
       "(1, 1, 1, 1, 3, 3)"
      ]
     },
     "execution_count": 17,
     "metadata": {},
     "output_type": "execute_result"
    }
   ],
   "source": [
    "a.shape"
   ]
  },
  {
   "cell_type": "code",
   "execution_count": 18,
   "metadata": {},
   "outputs": [
    {
     "data": {
      "text/plain": [
       "array([[[[[[1, 2, 3],\n",
       "           [4, 5, 6],\n",
       "           [7, 8, 9]]]]]])"
      ]
     },
     "execution_count": 18,
     "metadata": {},
     "output_type": "execute_result"
    }
   ],
   "source": [
    "a"
   ]
  },
  {
   "cell_type": "code",
   "execution_count": 19,
   "metadata": {},
   "outputs": [
    {
     "data": {
      "text/plain": [
       "2"
      ]
     },
     "execution_count": 19,
     "metadata": {},
     "output_type": "execute_result"
    }
   ],
   "source": [
    "a= np.array([[1,2,3], [4,5,6], [7,8,9]])\n",
    "a.ndim"
   ]
  },
  {
   "cell_type": "code",
   "execution_count": 20,
   "metadata": {},
   "outputs": [
    {
     "data": {
      "text/plain": [
       "9"
      ]
     },
     "execution_count": 20,
     "metadata": {},
     "output_type": "execute_result"
    }
   ],
   "source": [
    "a.size"
   ]
  },
  {
   "cell_type": "code",
   "execution_count": 21,
   "metadata": {},
   "outputs": [
    {
     "data": {
      "text/plain": [
       "8"
      ]
     },
     "execution_count": 21,
     "metadata": {},
     "output_type": "execute_result"
    }
   ],
   "source": [
    "a.itemsize"
   ]
  },
  {
   "cell_type": "code",
   "execution_count": 22,
   "metadata": {},
   "outputs": [
    {
     "name": "stdout",
     "output_type": "stream",
     "text": [
      "float64\n",
      "8\n"
     ]
    },
    {
     "data": {
      "text/plain": [
       "array([[1., 2., 3.],\n",
       "       [4., 5., 6.],\n",
       "       [7., 8., 9.]])"
      ]
     },
     "execution_count": 22,
     "metadata": {},
     "output_type": "execute_result"
    }
   ],
   "source": [
    "a= np.array([[1,2,3], [4,5,6], [7,8,9]], dtype=np.float64)\n",
    "print(a.dtype)\n",
    "print(a.itemsize)\n",
    "a"
   ]
  },
  {
   "cell_type": "code",
   "execution_count": 23,
   "metadata": {},
   "outputs": [
    {
     "data": {
      "text/plain": [
       "(3, 3)"
      ]
     },
     "execution_count": 23,
     "metadata": {},
     "output_type": "execute_result"
    }
   ],
   "source": [
    "a.shape"
   ]
  },
  {
   "cell_type": "code",
   "execution_count": 24,
   "metadata": {},
   "outputs": [
    {
     "data": {
      "text/plain": [
       "array([[1.+0.j, 2.+0.j, 3.+0.j],\n",
       "       [4.+0.j, 5.+0.j, 6.+0.j],\n",
       "       [7.+0.j, 8.+0.j, 9.+0.j]])"
      ]
     },
     "execution_count": 24,
     "metadata": {},
     "output_type": "execute_result"
    }
   ],
   "source": [
    "a= np.array([[1,2,3], [4,5,6], [7,8,9]], dtype=complex)\n",
    "a"
   ]
  },
  {
   "cell_type": "code",
   "execution_count": 25,
   "metadata": {},
   "outputs": [
    {
     "data": {
      "text/plain": [
       "array([[0., 0., 0., 0.],\n",
       "       [0., 0., 0., 0.],\n",
       "       [0., 0., 0., 0.]])"
      ]
     },
     "execution_count": 25,
     "metadata": {},
     "output_type": "execute_result"
    }
   ],
   "source": [
    "a=np.zeros( (3, 4) )    # if 1d array is there, np.zeros(length of 1 d array)\n",
    "a"
   ]
  },
  {
   "cell_type": "code",
   "execution_count": 26,
   "metadata": {},
   "outputs": [
    {
     "data": {
      "text/plain": [
       "array([[1, 1, 1, 1, 1],\n",
       "       [1, 1, 1, 1, 1]], dtype=int8)"
      ]
     },
     "execution_count": 26,
     "metadata": {},
     "output_type": "execute_result"
    }
   ],
   "source": [
    "a = np.ones( (2, 5) , dtype=np.int8)\n",
    "a"
   ]
  },
  {
   "cell_type": "code",
   "execution_count": 27,
   "metadata": {},
   "outputs": [
    {
     "data": {
      "text/plain": [
       "array([[99, 99],\n",
       "       [99, 99]])"
      ]
     },
     "execution_count": 27,
     "metadata": {},
     "output_type": "execute_result"
    }
   ],
   "source": [
    "# generic\n",
    "np.full( (2,2), 99 )"
   ]
  },
  {
   "cell_type": "code",
   "execution_count": 28,
   "metadata": {},
   "outputs": [
    {
     "data": {
      "text/plain": [
       "array([[78, 78, 78, 78, 78],\n",
       "       [78, 78, 78, 78, 78]], dtype=int8)"
      ]
     },
     "execution_count": 28,
     "metadata": {},
     "output_type": "execute_result"
    }
   ],
   "source": [
    "np.full_like(a, 78) # returns new array of shape of a, with 78"
   ]
  },
  {
   "cell_type": "code",
   "execution_count": 29,
   "metadata": {},
   "outputs": [
    {
     "data": {
      "text/plain": [
       "array([[56, 56, 56, 56, 56],\n",
       "       [56, 56, 56, 56, 56]])"
      ]
     },
     "execution_count": 29,
     "metadata": {},
     "output_type": "execute_result"
    }
   ],
   "source": [
    "np.full(a.shape, 56)    # a wont get changed"
   ]
  },
  {
   "cell_type": "code",
   "execution_count": 30,
   "metadata": {},
   "outputs": [
    {
     "data": {
      "text/plain": [
       "array([1, 2, 3, 4])"
      ]
     },
     "execution_count": 30,
     "metadata": {},
     "output_type": "execute_result"
    }
   ],
   "source": [
    "np.arange(1,5)"
   ]
  },
  {
   "cell_type": "code",
   "execution_count": 31,
   "metadata": {},
   "outputs": [
    {
     "data": {
      "text/plain": [
       "array([1, 3])"
      ]
     },
     "execution_count": 31,
     "metadata": {},
     "output_type": "execute_result"
    }
   ],
   "source": [
    "np.arange(1,5,2)"
   ]
  },
  {
   "cell_type": "code",
   "execution_count": 32,
   "metadata": {},
   "outputs": [
    {
     "data": {
      "text/plain": [
       "array([1.        , 1.44444444, 1.88888889, 2.33333333, 2.77777778,\n",
       "       3.22222222, 3.66666667, 4.11111111, 4.55555556, 5.        ])"
      ]
     },
     "execution_count": 32,
     "metadata": {},
     "output_type": "execute_result"
    }
   ],
   "source": [
    "np.linspace(1, 5, 10)   # linearly spaced 10 numbers between 1 and 5 both included"
   ]
  },
  {
   "cell_type": "code",
   "execution_count": 33,
   "metadata": {},
   "outputs": [
    {
     "data": {
      "text/plain": [
       "array([[1, 2],\n",
       "       [3, 4],\n",
       "       [5, 6]])"
      ]
     },
     "execution_count": 33,
     "metadata": {},
     "output_type": "execute_result"
    }
   ],
   "source": [
    "a = np.array([[1,2,3], [4,5,6]])\n",
    "a = a.reshape(3,2)  # this returns a new VIEW of BASE array a; a is not changed unless we assign it back to\n",
    "a"
   ]
  },
  {
   "cell_type": "code",
   "execution_count": 34,
   "metadata": {},
   "outputs": [
    {
     "name": "stdout",
     "output_type": "stream",
     "text": [
      "[[1 2 3]\n",
      " [4 5 6]]\n"
     ]
    },
    {
     "ename": "ValueError",
     "evalue": "cannot reshape array of size 6 into shape (5)",
     "output_type": "error",
     "traceback": [
      "\u001b[0;31m---------------------------------------------------------------------------\u001b[0m",
      "\u001b[0;31mValueError\u001b[0m                                Traceback (most recent call last)",
      "Cell \u001b[0;32mIn[34], line 2\u001b[0m\n\u001b[1;32m      1\u001b[0m \u001b[38;5;28mprint\u001b[39m(a\u001b[38;5;241m.\u001b[39mreshape(\u001b[38;5;241m-\u001b[39m\u001b[38;5;241m1\u001b[39m, \u001b[38;5;241m3\u001b[39m))   \u001b[38;5;66;03m# -1 means whatever is required to make it 3 columns\u001b[39;00m\n\u001b[0;32m----> 2\u001b[0m \u001b[38;5;28mprint\u001b[39m(\u001b[43ma\u001b[49m\u001b[38;5;241;43m.\u001b[39;49m\u001b[43mreshape\u001b[49m\u001b[43m(\u001b[49m\u001b[38;5;241;43m-\u001b[39;49m\u001b[38;5;241;43m1\u001b[39;49m\u001b[43m,\u001b[49m\u001b[43m \u001b[49m\u001b[38;5;241;43m5\u001b[39;49m\u001b[43m)\u001b[49m)  \u001b[38;5;66;03m# error as 5 columns not possible with 6 elements\u001b[39;00m\n",
      "\u001b[0;31mValueError\u001b[0m: cannot reshape array of size 6 into shape (5)"
     ]
    }
   ],
   "source": [
    "print(a.reshape(-1, 3))   # -1 means whatever is required to make it 3 columns\n",
    "print(a.reshape(-1, 5))  # error as 5 columns not possible with 6 elements"
   ]
  },
  {
   "cell_type": "code",
   "execution_count": 35,
   "metadata": {},
   "outputs": [
    {
     "data": {
      "text/plain": [
       "array([1, 2, 3, 4, 5, 6])"
      ]
     },
     "execution_count": 35,
     "metadata": {},
     "output_type": "execute_result"
    }
   ],
   "source": [
    "a = a.ravel()   # to flatten the array. Not fixed to give copy or view of original array\n",
    "a"
   ]
  },
  {
   "cell_type": "code",
   "execution_count": 36,
   "metadata": {},
   "outputs": [
    {
     "data": {
      "text/plain": [
       "array([1, 2, 3, 4, 5, 6])"
      ]
     },
     "execution_count": 36,
     "metadata": {},
     "output_type": "execute_result"
    }
   ],
   "source": [
    "a.flatten() # gives a copy of flattened array"
   ]
  },
  {
   "cell_type": "code",
   "execution_count": 37,
   "metadata": {},
   "outputs": [
    {
     "data": {
      "text/plain": [
       "array([1, 2, 3, 4, 5, 6])"
      ]
     },
     "execution_count": 37,
     "metadata": {},
     "output_type": "execute_result"
    }
   ],
   "source": [
    "a.reshape(-1) # gives a view of flattened array"
   ]
  },
  {
   "cell_type": "code",
   "execution_count": 38,
   "metadata": {},
   "outputs": [
    {
     "data": {
      "text/plain": [
       "<numpy.flatiter at 0x7fc06d30ee00>"
      ]
     },
     "execution_count": 38,
     "metadata": {},
     "output_type": "execute_result"
    }
   ],
   "source": [
    "a.flat  # gives flatter iterable object, NOT numpy array"
   ]
  },
  {
   "cell_type": "code",
   "execution_count": 39,
   "metadata": {},
   "outputs": [
    {
     "name": "stdout",
     "output_type": "stream",
     "text": [
      "1 9 [ 6 15 24]\n"
     ]
    }
   ],
   "source": [
    "a= np.array([[1,2,3], [4,5,6], [7,8,9]])\n",
    "print(a.min(), a.max(), a.sum(axis=1) )"
   ]
  },
  {
   "cell_type": "code",
   "execution_count": 40,
   "metadata": {},
   "outputs": [
    {
     "data": {
      "text/plain": [
       "array([[1.        , 1.41421356, 1.73205081],\n",
       "       [2.        , 2.23606798, 2.44948974],\n",
       "       [2.64575131, 2.82842712, 3.        ]])"
      ]
     },
     "execution_count": 40,
     "metadata": {},
     "output_type": "execute_result"
    }
   ],
   "source": [
    "np.sqrt(a)"
   ]
  },
  {
   "cell_type": "code",
   "execution_count": 41,
   "metadata": {},
   "outputs": [
    {
     "data": {
      "text/plain": [
       "np.float64(2.581988897471611)"
      ]
     },
     "execution_count": 41,
     "metadata": {},
     "output_type": "execute_result"
    }
   ],
   "source": [
    "np.std(a)"
   ]
  },
  {
   "cell_type": "code",
   "execution_count": 42,
   "metadata": {},
   "outputs": [
    {
     "name": "stdout",
     "output_type": "stream",
     "text": [
      "[[1 2 3]\n",
      " [4 5 6]\n",
      " [7 8 9]]\n",
      "[[1 1 1]\n",
      " [1 1 1]\n",
      " [1 1 1]]\n"
     ]
    },
    {
     "data": {
      "text/plain": [
       "array([[ 6,  6,  6],\n",
       "       [15, 15, 15],\n",
       "       [24, 24, 24]])"
      ]
     },
     "execution_count": 42,
     "metadata": {},
     "output_type": "execute_result"
    }
   ],
   "source": [
    "b=np.array([[1,1,1], [1,1,1], [1,1,1]]) # matrix product\n",
    "print(a)\n",
    "print(b)\n",
    "np.dot(a,b)"
   ]
  },
  {
   "cell_type": "code",
   "execution_count": 43,
   "metadata": {},
   "outputs": [
    {
     "name": "stdout",
     "output_type": "stream",
     "text": [
      "[[0 1]\n",
      " [2 3]\n",
      " [4 5]] [[ 6  7]\n",
      " [ 8  9]\n",
      " [10 11]]\n",
      "[[ 0  1]\n",
      " [ 2  3]\n",
      " [ 4  5]\n",
      " [ 6  7]\n",
      " [ 8  9]\n",
      " [10 11]]\n",
      "[[ 0  1  6  7]\n",
      " [ 2  3  8  9]\n",
      " [ 4  5 10 11]]\n"
     ]
    }
   ],
   "source": [
    "# stacking two arrays together\n",
    "a=np.arange(6).reshape(3,2)\n",
    "b=np.arange(6,12).reshape(3,2)\n",
    "print(a, b)\n",
    "print(np.vstack((a,b)))\n",
    "print(np.hstack((a,b)))"
   ]
  },
  {
   "cell_type": "code",
   "execution_count": 44,
   "metadata": {},
   "outputs": [
    {
     "name": "stdout",
     "output_type": "stream",
     "text": [
      "[[ 0  1  2  3  4  5  6  7  8  9 10 11 12 13 14]\n",
      " [15 16 17 18 19 20 21 22 23 24 25 26 27 28 29]]\n",
      "[array([[ 0,  1,  2,  3,  4],\n",
      "       [15, 16, 17, 18, 19]]), array([[ 5,  6,  7,  8,  9],\n",
      "       [20, 21, 22, 23, 24]]), array([[10, 11, 12, 13, 14],\n",
      "       [25, 26, 27, 28, 29]])]\n"
     ]
    }
   ],
   "source": [
    "a=np.array([np.arange(15), np.arange(15,30)])\n",
    "print(a)\n",
    "print(np.hsplit(a,3))\n",
    "# similar goes with vsplit. Remember, the dimension of array will NOT gets reduced in both the cases"
   ]
  },
  {
   "cell_type": "code",
   "execution_count": 45,
   "metadata": {},
   "outputs": [
    {
     "name": "stdout",
     "output_type": "stream",
     "text": [
      "[[False False False False]\n",
      " [False  True  True  True]\n",
      " [ True  True  True  True]]\n",
      "[ 5  6  7  8  9 10 11]\n",
      "[[ 0  1  2  3]\n",
      " [ 4 -1 -1 -1]\n",
      " [-1 -1 -1 -1]]\n"
     ]
    }
   ],
   "source": [
    "# np array indexing with boolean array\n",
    "a=np.arange(12).reshape(3,4)\n",
    "b = a > 4   # boolean array of dimension of 'a'. Another way to get just the indexes of True, is to use arr.where(conditional_expr) which return an array of indexes of elements, each array contains indx of specific 1-dim from n-dimensions, which holds true.\n",
    "print(b)\n",
    "print(a[b]) # or directly a[a>4]\n",
    "a[b]=-1\n",
    "print(a)"
   ]
  },
  {
   "cell_type": "code",
   "execution_count": 46,
   "metadata": {},
   "outputs": [],
   "source": [
    "# there are many other search and sort ways:\n",
    "# np.sort(arr)"
   ]
  },
  {
   "cell_type": "code",
   "execution_count": 47,
   "metadata": {},
   "outputs": [
    {
     "name": "stdout",
     "output_type": "stream",
     "text": [
      "0\n",
      "1\n",
      "2\n",
      "3\n",
      "4\n",
      "5\n",
      "6\n",
      "7\n",
      "8\n",
      "9\n",
      "10\n",
      "11\n",
      "0\n",
      "4\n",
      "8\n",
      "1\n",
      "5\n",
      "9\n",
      "2\n",
      "6\n",
      "10\n",
      "3\n",
      "7\n",
      "11\n"
     ]
    }
   ],
   "source": [
    "# np.nditer() function\n",
    "a = np.arange(12).reshape(3,4)\n",
    "\n",
    "for x in np.nditer(a, order='C'):\n",
    "    print(x)\n",
    "\n",
    "for x in np.nditer(a, order='F'):\n",
    "    print(x)"
   ]
  },
  {
   "cell_type": "code",
   "execution_count": 48,
   "metadata": {},
   "outputs": [
    {
     "name": "stdout",
     "output_type": "stream",
     "text": [
      "[0 4 8]\n",
      "[1 5 9]\n",
      "[ 2  6 10]\n",
      "[ 3  7 11]\n"
     ]
    }
   ],
   "source": [
    "# printing 1D array instead of 0D array\n",
    "a = np.arange(12).reshape(3,4)\n",
    "for x in np.nditer(a, order='F', flags=['external_loop']):\n",
    "    print(x)"
   ]
  },
  {
   "cell_type": "code",
   "execution_count": 49,
   "metadata": {},
   "outputs": [
    {
     "data": {
      "text/plain": [
       "array([[  0,   1,   4,   9],\n",
       "       [ 16,  25,  36,  49],\n",
       "       [ 64,  81, 100, 121]])"
      ]
     },
     "execution_count": 49,
     "metadata": {},
     "output_type": "execute_result"
    }
   ],
   "source": [
    "for x in np.nditer(a, op_flags=['readwrite']):\n",
    "    x[...] = x*x\n",
    "a"
   ]
  },
  {
   "cell_type": "code",
   "execution_count": 50,
   "metadata": {},
   "outputs": [
    {
     "name": "stdout",
     "output_type": "stream",
     "text": [
      "[[ 3]\n",
      " [ 7]\n",
      " [11]]\n",
      "0 3\n",
      "1 3\n",
      "4 3\n",
      "9 3\n",
      "16 7\n",
      "25 7\n",
      "36 7\n",
      "49 7\n",
      "64 11\n",
      "81 11\n",
      "100 11\n",
      "121 11\n"
     ]
    }
   ],
   "source": [
    "b=np.arange(3, 15,4).reshape(3, 1)\n",
    "print(b)\n",
    "for x,y in np.nditer([a,b], order='C'): # this will work only if dimensions are equal or if one of the array dimension is 1\n",
    "    print(x,y)"
   ]
  },
  {
   "cell_type": "code",
   "execution_count": 51,
   "metadata": {},
   "outputs": [
    {
     "name": "stdout",
     "output_type": "stream",
     "text": [
      "(0, 0) 0\n",
      "(0, 1) 1\n",
      "(0, 2) 4\n",
      "(0, 3) 9\n",
      "(1, 0) 16\n",
      "(1, 1) 25\n",
      "(1, 2) 36\n",
      "(1, 3) 49\n",
      "(2, 0) 64\n",
      "(2, 1) 81\n",
      "(2, 2) 100\n",
      "(2, 3) 121\n"
     ]
    }
   ],
   "source": [
    "for idx, ele in np.ndenumerate(a):  # iterates and gives index as well\n",
    "    print(idx, ele)"
   ]
  },
  {
   "cell_type": "code",
   "execution_count": 52,
   "metadata": {
    "scrolled": true
   },
   "outputs": [
    {
     "data": {
      "text/plain": [
       "array([[0.80259763, 0.01704257],\n",
       "       [0.10309517, 0.61277243],\n",
       "       [0.47278359, 0.10967548],\n",
       "       [0.13306625, 0.49129331]])"
      ]
     },
     "execution_count": 52,
     "metadata": {},
     "output_type": "execute_result"
    }
   ],
   "source": [
    "np.random.rand(4,2)"
   ]
  },
  {
   "cell_type": "code",
   "execution_count": 53,
   "metadata": {},
   "outputs": [
    {
     "data": {
      "text/plain": [
       "array([[0.85242385, 0.08794625, 0.81088088, 0.71854727],\n",
       "       [0.90579629, 0.72682667, 0.61698637, 0.13623122],\n",
       "       [0.55871468, 0.16486333, 0.04796378, 0.24874347]])"
      ]
     },
     "execution_count": 53,
     "metadata": {},
     "output_type": "execute_result"
    }
   ],
   "source": [
    "np.random.random((3,4))"
   ]
  },
  {
   "cell_type": "code",
   "execution_count": 54,
   "metadata": {},
   "outputs": [
    {
     "data": {
      "text/plain": [
       "array([[5.12553324, 3.49817864, 6.88842621, 9.1125871 ],\n",
       "       [9.93257869, 1.60331894, 1.79734571, 7.5552144 ],\n",
       "       [0.79539037, 2.90011644, 1.85746608, 0.85287855]])"
      ]
     },
     "execution_count": 54,
     "metadata": {},
     "output_type": "execute_result"
    }
   ],
   "source": [
    "np.random.random_sample(a.shape)*10"
   ]
  },
  {
   "cell_type": "code",
   "execution_count": 55,
   "metadata": {},
   "outputs": [
    {
     "data": {
      "text/plain": [
       "array([[0.72433004, 4.80000441, 5.23318776, 8.12084482],\n",
       "       [7.95565637, 2.07589184, 7.75222641, 3.05717321],\n",
       "       [1.98642582, 3.28161294, 2.76509794, 1.76661247]])"
      ]
     },
     "execution_count": 55,
     "metadata": {},
     "output_type": "execute_result"
    }
   ],
   "source": [
    "np.random.random(a.shape)*10"
   ]
  },
  {
   "cell_type": "code",
   "execution_count": 56,
   "metadata": {},
   "outputs": [
    {
     "data": {
      "text/plain": [
       "array([1, 2, 3])"
      ]
     },
     "execution_count": 56,
     "metadata": {},
     "output_type": "execute_result"
    }
   ],
   "source": [
    "a= np.array([1,2,3])\n",
    "a"
   ]
  },
  {
   "cell_type": "code",
   "execution_count": 57,
   "metadata": {},
   "outputs": [
    {
     "data": {
      "text/plain": [
       "array([[1, 2, 3],\n",
       "       [1, 2, 3],\n",
       "       [1, 2, 3]])"
      ]
     },
     "execution_count": 57,
     "metadata": {},
     "output_type": "execute_result"
    }
   ],
   "source": [
    "# axis param only possible when array is at least 2D or above. Still it is optional. If axis param is not given in any dimensional array, then 1D array is returned where each elemet is repreated n times.\n",
    "a= np.array([[1,2,3]])\n",
    "np.repeat(a, 3, axis=0)"
   ]
  },
  {
   "cell_type": "code",
   "execution_count": 58,
   "metadata": {},
   "outputs": [
    {
     "data": {
      "text/plain": [
       "array([[1, 2, 3],\n",
       "       [1, 2, 3],\n",
       "       [1, 2, 3],\n",
       "       [4, 5, 6],\n",
       "       [4, 5, 6],\n",
       "       [4, 5, 6]])"
      ]
     },
     "execution_count": 58,
     "metadata": {},
     "output_type": "execute_result"
    }
   ],
   "source": [
    "a= np.array([[1,2,3], [4,5,6]])\n",
    "np.repeat(a,3, axis=0)"
   ]
  },
  {
   "cell_type": "code",
   "execution_count": 59,
   "metadata": {},
   "outputs": [
    {
     "data": {
      "text/plain": [
       "array([[1., 0., 0.],\n",
       "       [0., 1., 0.],\n",
       "       [0., 0., 1.]])"
      ]
     },
     "execution_count": 59,
     "metadata": {},
     "output_type": "execute_result"
    }
   ],
   "source": [
    "np.identity(3)"
   ]
  },
  {
   "cell_type": "code",
   "execution_count": 60,
   "metadata": {},
   "outputs": [
    {
     "data": {
      "text/plain": [
       "array([[1., 1., 1., 1., 1.],\n",
       "       [1., 0., 0., 0., 1.],\n",
       "       [1., 0., 9., 0., 1.],\n",
       "       [1., 0., 0., 0., 1.],\n",
       "       [1., 1., 1., 1., 1.]])"
      ]
     },
     "execution_count": 60,
     "metadata": {},
     "output_type": "execute_result"
    }
   ],
   "source": [
    "a = np.ones((5,5))\n",
    "z = np.zeros((3,3))\n",
    "z[1,1] = 9\n",
    "a[1:-1, 1:-1] = z\n",
    "a"
   ]
  },
  {
   "cell_type": "markdown",
   "metadata": {},
   "source": [
    "### Linear Algebra"
   ]
  },
  {
   "cell_type": "code",
   "execution_count": 61,
   "metadata": {},
   "outputs": [
    {
     "name": "stdout",
     "output_type": "stream",
     "text": [
      "[[1. 1. 1.]\n",
      " [1. 1. 1.]]\n",
      "[[2 2]\n",
      " [2 2]\n",
      " [2 2]]\n"
     ]
    },
    {
     "data": {
      "text/plain": [
       "array([[6., 6.],\n",
       "       [6., 6.]])"
      ]
     },
     "execution_count": 61,
     "metadata": {},
     "output_type": "execute_result"
    }
   ],
   "source": [
    "a = np.ones((2,3))\n",
    "print(a)\n",
    "b = np.full((3,2), 2)\n",
    "print(b)\n",
    "\n",
    "np.matmul(a,b)  # or, a @ b"
   ]
  },
  {
   "cell_type": "code",
   "execution_count": 62,
   "metadata": {},
   "outputs": [
    {
     "data": {
      "text/plain": [
       "np.float64(1.0)"
      ]
     },
     "execution_count": 62,
     "metadata": {},
     "output_type": "execute_result"
    }
   ],
   "source": [
    "c = np.identity(3)\n",
    "np.linalg.det(c)"
   ]
  },
  {
   "cell_type": "markdown",
   "metadata": {},
   "source": [
    "https://docs.scipy.org/doc/numpy/reference/routines.math.html\n",
    "\n",
    "https://docs.scipy.org/doc/numpy/reference/routines.linalg.html"
   ]
  },
  {
   "cell_type": "markdown",
   "metadata": {},
   "source": [
    "### Statistics"
   ]
  },
  {
   "cell_type": "code",
   "execution_count": 63,
   "metadata": {},
   "outputs": [
    {
     "data": {
      "text/plain": [
       "array([[1, 2, 3],\n",
       "       [4, 5, 6]])"
      ]
     },
     "execution_count": 63,
     "metadata": {},
     "output_type": "execute_result"
    }
   ],
   "source": [
    "stats = np.array([[1,2,3],[4,5,6]])\n",
    "stats"
   ]
  },
  {
   "cell_type": "code",
   "execution_count": 64,
   "metadata": {},
   "outputs": [
    {
     "data": {
      "text/plain": [
       "np.int64(1)"
      ]
     },
     "execution_count": 64,
     "metadata": {},
     "output_type": "execute_result"
    }
   ],
   "source": [
    "np.min(stats)"
   ]
  },
  {
   "cell_type": "code",
   "execution_count": 65,
   "metadata": {},
   "outputs": [
    {
     "data": {
      "text/plain": [
       "array([1, 2, 3])"
      ]
     },
     "execution_count": 65,
     "metadata": {},
     "output_type": "execute_result"
    }
   ],
   "source": [
    "np.min(stats, axis=0)"
   ]
  },
  {
   "cell_type": "code",
   "execution_count": 66,
   "metadata": {},
   "outputs": [
    {
     "data": {
      "text/plain": [
       "array([1, 4])"
      ]
     },
     "execution_count": 66,
     "metadata": {},
     "output_type": "execute_result"
    }
   ],
   "source": [
    "np.min(stats, axis=1)"
   ]
  },
  {
   "cell_type": "code",
   "execution_count": 67,
   "metadata": {},
   "outputs": [
    {
     "data": {
      "text/plain": [
       "np.int64(6)"
      ]
     },
     "execution_count": 67,
     "metadata": {},
     "output_type": "execute_result"
    }
   ],
   "source": [
    "np.max(stats)"
   ]
  },
  {
   "cell_type": "code",
   "execution_count": 68,
   "metadata": {},
   "outputs": [
    {
     "data": {
      "text/plain": [
       "array([4, 5, 6])"
      ]
     },
     "execution_count": 68,
     "metadata": {},
     "output_type": "execute_result"
    }
   ],
   "source": [
    "np.max(stats, axis=0)"
   ]
  },
  {
   "cell_type": "code",
   "execution_count": 69,
   "metadata": {},
   "outputs": [
    {
     "data": {
      "text/plain": [
       "array([3, 6])"
      ]
     },
     "execution_count": 69,
     "metadata": {},
     "output_type": "execute_result"
    }
   ],
   "source": [
    "np.max(stats, axis=1)"
   ]
  },
  {
   "cell_type": "code",
   "execution_count": 70,
   "metadata": {},
   "outputs": [
    {
     "data": {
      "text/plain": [
       "np.float64(1.707825127659933)"
      ]
     },
     "execution_count": 70,
     "metadata": {},
     "output_type": "execute_result"
    }
   ],
   "source": [
    "np.std(stats)"
   ]
  },
  {
   "cell_type": "code",
   "execution_count": 71,
   "metadata": {},
   "outputs": [
    {
     "data": {
      "text/plain": [
       "array([1.5, 1.5, 1.5])"
      ]
     },
     "execution_count": 71,
     "metadata": {},
     "output_type": "execute_result"
    }
   ],
   "source": [
    "np.std(stats, axis=0)"
   ]
  },
  {
   "cell_type": "code",
   "execution_count": 72,
   "metadata": {},
   "outputs": [
    {
     "data": {
      "text/plain": [
       "np.float64(2.9166666666666665)"
      ]
     },
     "execution_count": 72,
     "metadata": {},
     "output_type": "execute_result"
    }
   ],
   "source": [
    "np.var(stats)"
   ]
  },
  {
   "cell_type": "code",
   "execution_count": 73,
   "metadata": {},
   "outputs": [
    {
     "data": {
      "text/plain": [
       "array([0.66666667, 0.66666667])"
      ]
     },
     "execution_count": 73,
     "metadata": {},
     "output_type": "execute_result"
    }
   ],
   "source": [
    "np.var(stats, axis=1)"
   ]
  },
  {
   "cell_type": "code",
   "execution_count": 74,
   "metadata": {},
   "outputs": [
    {
     "data": {
      "text/plain": [
       "np.int64(21)"
      ]
     },
     "execution_count": 74,
     "metadata": {},
     "output_type": "execute_result"
    }
   ],
   "source": [
    "np.sum(stats)"
   ]
  },
  {
   "cell_type": "code",
   "execution_count": 75,
   "metadata": {},
   "outputs": [
    {
     "data": {
      "text/plain": [
       "array([ 6, 15])"
      ]
     },
     "execution_count": 75,
     "metadata": {},
     "output_type": "execute_result"
    }
   ],
   "source": [
    "np.sum(stats, axis=1)"
   ]
  },
  {
   "cell_type": "code",
   "execution_count": 76,
   "metadata": {},
   "outputs": [
    {
     "data": {
      "text/plain": [
       "array([[1, 2, 3],\n",
       "       [4, 5, 6]])"
      ]
     },
     "execution_count": 76,
     "metadata": {},
     "output_type": "execute_result"
    }
   ],
   "source": [
    "np.conjugate(stats)"
   ]
  },
  {
   "cell_type": "code",
   "execution_count": 77,
   "metadata": {},
   "outputs": [
    {
     "data": {
      "text/plain": [
       "array([[1, 4],\n",
       "       [2, 5],\n",
       "       [3, 6]])"
      ]
     },
     "execution_count": 77,
     "metadata": {},
     "output_type": "execute_result"
    }
   ],
   "source": [
    "np.transpose(stats) # or, stats.T"
   ]
  },
  {
   "cell_type": "markdown",
   "metadata": {},
   "source": [
    "### Load data from a file"
   ]
  },
  {
   "cell_type": "code",
   "execution_count": 78,
   "metadata": {},
   "outputs": [
    {
     "data": {
      "text/plain": [
       "array([[ 1,  2,  3,  4,  5],\n",
       "       [ 6,  7,  8,  9, 10],\n",
       "       [11, 12, 13, 14, 15],\n",
       "       [16, 17, 18, 19, 20],\n",
       "       [21, 22, 23, 24, 25],\n",
       "       [26, 27, 28, 29, 30]])"
      ]
     },
     "execution_count": 78,
     "metadata": {},
     "output_type": "execute_result"
    }
   ],
   "source": [
    "a = np.arange(1,31).reshape(6,5)\n",
    "a"
   ]
  },
  {
   "cell_type": "code",
   "execution_count": 79,
   "metadata": {},
   "outputs": [
    {
     "data": {
      "text/plain": [
       "array([ 2,  8, 14, 20])"
      ]
     },
     "execution_count": 79,
     "metadata": {},
     "output_type": "execute_result"
    }
   ],
   "source": [
    "a[[0,1,2,3],[1,2,3,4]]"
   ]
  },
  {
   "cell_type": "code",
   "execution_count": 80,
   "metadata": {},
   "outputs": [
    {
     "data": {
      "text/plain": [
       "array([[ 2,  3,  4,  5],\n",
       "       [ 7,  8,  9, 10],\n",
       "       [12, 13, 14, 15],\n",
       "       [17, 18, 19, 20]])"
      ]
     },
     "execution_count": 80,
     "metadata": {},
     "output_type": "execute_result"
    }
   ],
   "source": [
    "a[0:4,1:5]"
   ]
  },
  {
   "cell_type": "code",
   "execution_count": 81,
   "metadata": {},
   "outputs": [
    {
     "data": {
      "text/plain": [
       "array([[ 4,  5],\n",
       "       [24, 25],\n",
       "       [29, 30]])"
      ]
     },
     "execution_count": 81,
     "metadata": {},
     "output_type": "execute_result"
    }
   ],
   "source": [
    "a[[0,4,5], 3:]"
   ]
  },
  {
   "cell_type": "markdown",
   "metadata": {},
   "source": [
    "i - integer;\n",
    "b - boolean;\n",
    "u - unsigned integer;\n",
    "f - float;\n",
    "c - complex float;\n",
    "m - timedelta;\n",
    "M - datetime;\n",
    "O - object;\n",
    "S - string;\n",
    "U - unicode string;\n",
    "V - fixed chunk of memory for other type ( void );"
   ]
  },
  {
   "cell_type": "code",
   "execution_count": 82,
   "metadata": {},
   "outputs": [
    {
     "data": {
      "text/plain": [
       "array([[  1,  13,  21,  11, 196,  75,   4,   3,  34,   6,   7,   8,   0,\n",
       "          1,   2,   3,   4,   5],\n",
       "       [  3,  42,  12,  33, 766,  75,   4,  55,   6,   4,   3,   4,   5,\n",
       "          6,   7,   0,  11,  12],\n",
       "       [  1,  22,  33,  11, 999,  11,   2,   1,  78,   0,   1,   2,   9,\n",
       "          8,   7,   1,  76,  88]], dtype=int16)"
      ]
     },
     "execution_count": 82,
     "metadata": {},
     "output_type": "execute_result"
    }
   ],
   "source": [
    "np.genfromtxt('./sosurveydataset/numdata.csv', delimiter=',').astype('int16')   # OR 'i16'.  From higher byte to lower byte, data is simply lost, not get rounded off"
   ]
  },
  {
   "cell_type": "code",
   "execution_count": 83,
   "metadata": {},
   "outputs": [
    {
     "data": {
      "text/plain": [
       "[array([0, 1, 2]), array([3, 4]), array([5, 6]), array([7, 8])]"
      ]
     },
     "execution_count": 83,
     "metadata": {},
     "output_type": "execute_result"
    }
   ],
   "source": [
    "np.array_split(np.arange(9), 4)"
   ]
  },
  {
   "cell_type": "code",
   "execution_count": 84,
   "metadata": {},
   "outputs": [],
   "source": [
    "# arr.view() V/S arr.copy() \n",
    "# Former BASED ON the original array, later creates a new array without reference to the original array arr as BASE.\n",
    "# any change to original arr or viewed arr will be reflected in both the arrays. But copy is independent.\n",
    "# to check if an array is view or copy, use arr.base. If it is None, then it is copy, else view.\n",
    "# ARR.BASE - Its not a method, its an attribute which returns the base array if the array is a view, else returns None."
   ]
  },
  {
   "cell_type": "markdown",
   "metadata": {},
   "source": [
    "## DISTRIBUTIONS"
   ]
  },
  {
   "cell_type": "code",
   "execution_count": 85,
   "metadata": {},
   "outputs": [
    {
     "data": {
      "text/plain": [
       "array([[-0.47247458,  1.61499448, -1.44531106, ...,  4.79254836,\n",
       "         2.37296728,  2.27336693],\n",
       "       [-0.43513848, -1.26507075,  3.72936626, ...,  0.069531  ,\n",
       "         1.50855065,  1.49148721],\n",
       "       [ 1.3709085 ,  3.41881815, -4.0926448 , ..., -0.20914157,\n",
       "        -0.77882357,  1.68892938],\n",
       "       ...,\n",
       "       [-2.20280374,  3.28719174, -2.11589914, ...,  1.68891299,\n",
       "        -1.40877869,  2.24816518],\n",
       "       [ 3.8059042 ,  1.65729694,  2.57081768, ..., -2.18525865,\n",
       "         2.95206519,  1.23166209],\n",
       "       [ 1.40472204,  0.53662949,  1.93317825, ...,  2.41070068,\n",
       "         0.40414215,  3.6299274 ]], shape=(100, 200))"
      ]
     },
     "execution_count": 85,
     "metadata": {},
     "output_type": "execute_result"
    }
   ],
   "source": [
    "np.random.normal(loc=1, scale=2, size=(100,200))  # mean, stddev, size"
   ]
  },
  {
   "cell_type": "code",
   "execution_count": 86,
   "metadata": {},
   "outputs": [
    {
     "data": {
      "text/plain": [
       "array([8, 4, 5, 4, 4, 5, 4, 5, 5, 6])"
      ]
     },
     "execution_count": 86,
     "metadata": {},
     "output_type": "execute_result"
    }
   ],
   "source": [
    "np.random.binomial(n=10, p=0.5, size=10)   # n=number of trials, p=probability of each trial, size=number of such experiments"
   ]
  },
  {
   "cell_type": "code",
   "execution_count": 87,
   "metadata": {},
   "outputs": [
    {
     "data": {
      "text/plain": [
       "array([[2.50682387, 8.6164977 , 7.80414477, 3.9535945 ],\n",
       "       [2.65059193, 3.84749012, 2.46293039, 9.38515814],\n",
       "       [4.92368662, 5.62718065, 6.48468186, 3.76486786]])"
      ]
     },
     "execution_count": 87,
     "metadata": {},
     "output_type": "execute_result"
    }
   ],
   "source": [
    "np.random.uniform(low=1.0, high=10.0, size=(3,4))   # low(inclusive), high(exclusive), size"
   ]
  },
  {
   "cell_type": "code",
   "execution_count": 88,
   "metadata": {},
   "outputs": [
    {
     "data": {
      "text/plain": [
       "array([0, 1, 2, 1, 3, 2, 2, 2, 0, 2, 1, 2, 3, 2, 2, 2, 0, 3, 2, 1, 3, 2,\n",
       "       1, 5, 3, 4, 2, 0, 2, 3, 2, 2, 4, 2, 0, 2, 1, 1, 1, 1, 2, 2, 1, 0,\n",
       "       2, 1, 1, 5, 2, 4, 4, 0, 4, 4, 3, 2, 3, 2, 1, 5, 3, 2, 2, 1, 1, 4,\n",
       "       4, 6, 0, 3, 1, 2, 2, 0, 4, 4, 3, 2, 3, 1, 2, 0, 1, 1, 2, 0, 2, 5,\n",
       "       2, 1, 3, 1, 1, 0, 3, 2, 1, 0, 2, 2, 3, 5, 2, 1, 3, 0, 0, 1, 2, 4,\n",
       "       4, 1, 1, 1, 1, 2, 0, 4, 0, 0, 4, 1, 2, 1, 2, 0, 3, 2, 2, 3, 0, 2,\n",
       "       0, 1, 2, 1, 2, 1, 2, 3, 3, 4, 2, 2, 1, 2, 0, 1, 2, 2, 1, 2, 1, 2,\n",
       "       2, 1, 2, 5, 2, 0, 3, 1, 0, 0, 1, 5, 1, 5, 1, 2, 2, 0, 2, 4, 0, 1,\n",
       "       2, 5, 4, 2, 3, 1, 3, 5, 1, 3, 3, 2, 3, 2, 1, 4, 1, 3, 3, 4, 4, 1,\n",
       "       4, 2, 0, 4, 1, 0, 0, 0, 1, 3, 2, 1, 4, 3, 0, 3, 2, 0, 2, 2, 2, 3,\n",
       "       1, 0, 5, 1, 3, 4, 2, 0, 0, 1, 1, 3, 1, 0, 3, 4, 0, 6, 2, 2, 2, 2,\n",
       "       0, 3, 2, 2, 3, 6, 2, 1, 3, 0, 3, 4, 4, 0, 0, 6, 1, 2, 2, 2, 2, 3,\n",
       "       1, 2, 1, 1, 1, 0, 0, 3, 3, 3, 1, 6, 6, 1, 3, 2, 6, 4, 2, 2, 3, 2,\n",
       "       2, 1, 1, 0, 1, 1, 1, 3, 2, 2, 0, 2, 1, 1, 0, 2, 4, 2, 0, 0, 1, 2,\n",
       "       2, 2, 1, 1, 0, 2, 2, 0, 3, 3, 0, 1, 1, 0, 3, 1, 1, 2, 8, 2, 0, 2,\n",
       "       0, 1, 1, 3, 3, 0, 0, 1, 2, 0, 1, 1, 3, 1, 0, 3, 1, 2, 2, 1, 1, 1,\n",
       "       0, 2, 0, 4, 5, 2, 2, 1, 4, 4, 2, 0, 4, 4, 0, 1, 3, 0, 3, 3, 1, 2,\n",
       "       0, 0, 3, 0, 3, 2, 4, 1, 0, 2, 1, 3, 3, 5, 1, 3, 1, 2, 3, 4, 1, 3,\n",
       "       4, 0, 1, 0, 4, 3, 2, 2, 1, 1, 2, 5, 1, 2, 0, 1, 4, 1, 1, 0, 3, 0,\n",
       "       2, 1, 2, 2, 7, 2, 4, 0, 1, 2, 1, 1, 4, 1, 2, 0, 4, 0, 1, 2, 1, 1,\n",
       "       2, 3, 4, 5, 3, 1, 3, 2, 1, 0, 1, 1, 2, 4, 2, 2, 2, 0, 3, 6, 3, 1,\n",
       "       2, 6, 4, 2, 4, 4, 1, 4, 1, 0, 1, 3, 1, 1, 1, 3, 3, 2, 5, 1, 2, 3,\n",
       "       4, 4, 2, 2, 0, 0, 2, 4, 3, 0, 6, 2, 0, 3, 2, 2, 5, 1, 5, 1, 1, 3,\n",
       "       1, 0, 4, 3, 6, 1, 1, 2, 0, 1, 2, 2, 3, 0, 1, 1, 2, 2, 1, 3, 3, 2,\n",
       "       4, 3, 4, 3, 2, 4, 2, 3, 0, 0, 2, 0, 0, 1, 0, 2, 2, 3, 4, 2, 1, 2,\n",
       "       4, 4, 0, 0, 1, 3, 0, 3, 2, 3, 2, 0, 1, 3, 2, 4, 0, 2, 3, 3, 0, 2,\n",
       "       2, 1, 3, 4, 2, 4, 0, 7, 2, 1, 0, 1, 3, 0, 4, 3, 1, 2, 1, 3, 0, 3,\n",
       "       2, 1, 6, 1, 3, 2, 2, 0, 4, 3, 1, 1, 4, 5, 3, 3, 1, 2, 3, 3, 2, 1,\n",
       "       7, 6, 1, 2, 1, 4, 0, 3, 3, 2, 3, 5, 1, 1, 0, 1, 3, 2, 0, 0, 4, 4,\n",
       "       0, 2, 4, 1, 3, 0, 0, 1, 2, 1, 2, 2, 1, 2, 2, 3, 3, 2, 3, 3, 0, 1,\n",
       "       0, 1, 0, 1, 2, 2, 3, 0, 1, 0, 1, 2, 2, 1, 0, 1, 2, 5, 1, 3, 1, 4,\n",
       "       1, 2, 1, 2, 1, 3, 2, 3, 2, 0, 0, 5, 3, 2, 5, 2, 2, 1, 0, 2, 4, 4,\n",
       "       1, 2, 2, 3, 4, 2, 3, 3, 0, 1, 4, 2, 2, 5, 3, 1, 3, 2, 2, 1, 4, 3,\n",
       "       4, 0, 1, 3, 3, 2, 1, 1, 3, 4, 0, 3, 2, 2, 7, 1, 2, 2, 4, 2, 3, 3,\n",
       "       2, 3, 1, 1, 0, 1, 1, 2, 1, 1, 0, 2, 0, 2, 4, 3, 2, 4, 0, 4, 1, 0,\n",
       "       2, 3, 3, 3, 0, 1, 0, 2, 1, 1, 0, 0, 1, 2, 2, 1, 2, 1, 0, 1, 1, 2,\n",
       "       3, 3, 2, 3, 1, 0, 2, 4, 1, 1, 1, 2, 3, 3, 0, 0, 1, 3, 0, 0, 1, 3,\n",
       "       5, 1, 4, 1, 2, 2, 1, 2, 1, 2, 3, 2, 0, 3, 1, 2, 2, 2, 3, 1, 1, 2,\n",
       "       0, 2, 0, 2, 1, 1, 3, 2, 0, 2, 2, 4, 2, 2, 3, 2, 2, 6, 2, 2, 3, 2,\n",
       "       2, 3, 2, 3, 1, 3, 0, 2, 5, 1, 1, 4, 0, 0, 2, 4, 2, 1, 1, 0, 3, 5,\n",
       "       1, 3, 2, 0, 1, 1, 1, 0, 3, 3, 0, 0, 2, 3, 1, 2, 1, 3, 3, 1, 0, 0,\n",
       "       0, 3, 5, 3, 3, 1, 6, 1, 1, 2, 1, 1, 0, 5, 2, 1, 4, 1, 2, 1, 2, 0,\n",
       "       2, 1, 1, 5, 3, 4, 2, 0, 1, 2, 3, 1, 2, 2, 4, 1, 3, 2, 1, 2, 1, 2,\n",
       "       1, 1, 1, 4, 2, 0, 5, 1, 3, 2, 4, 2, 1, 1, 0, 1, 0, 2, 2, 2, 2, 2,\n",
       "       2, 1, 1, 1, 2, 2, 2, 1, 1, 1, 3, 0, 0, 3, 1, 3, 2, 3, 3, 3, 4, 2,\n",
       "       4, 3, 1, 7, 1, 3, 3, 2, 4, 2])"
      ]
     },
     "execution_count": 88,
     "metadata": {},
     "output_type": "execute_result"
    }
   ],
   "source": [
    "np.random.poisson(lam=2, size=1000)"
   ]
  },
  {
   "cell_type": "markdown",
   "metadata": {},
   "source": [
    "### UFUNC\n",
    "They only work on numpy array"
   ]
  },
  {
   "cell_type": "code",
   "execution_count": 89,
   "metadata": {},
   "outputs": [
    {
     "data": {
      "text/plain": [
       "array([5, 7, 9], dtype=object)"
      ]
     },
     "execution_count": 89,
     "metadata": {},
     "output_type": "execute_result"
    }
   ],
   "source": [
    "# CREATING OWN UFUNC\n",
    "def addn(x, y):\n",
    "    return x + y\n",
    "\n",
    "my_add = np.frompyfunc(addn, 2, 1)   # 2 input args, 1 output arg\n",
    "my_add([1,2,3], [4,5,6])"
   ]
  },
  {
   "cell_type": "code",
   "execution_count": 90,
   "metadata": {},
   "outputs": [
    {
     "name": "stdout",
     "output_type": "stream",
     "text": [
      "[30 32 34 36 38 40]\n",
      "[-10 -10 -10 -10 -10 -10]\n",
      "[0.5        0.52380952 0.54545455 0.56521739 0.58333333 0.6       ]\n",
      "[200 231 264 299 336 375]\n",
      "[ 7766279631452241920  3105570700629903195  5729018530666381312\n",
      " -4649523274362944347 -1849127232522420224  1824414961309619599]\n",
      "[10 11 12 13 14 15]\n",
      "(array([0, 0, 0, 0, 0, 0]), array([10, 11, 12, 13, 14, 15]))\n",
      "(array([0.5       , 0.52380952, 0.54545455, 0.56521739, 0.58333333,\n",
      "       0.6       ]), array([0., 0., 0., 0., 0., 0.]))\n",
      "[10 11 12 13 14 15]\n"
     ]
    }
   ],
   "source": [
    "arr1 = np.array([10, 11, 12, 13, 14, 15])\n",
    "arr2 = np.array([20, 21, 22, 23, 24, 25])\n",
    "\n",
    "print(np.add(arr1, arr2))\n",
    "print(np.subtract(arr1, arr2))\n",
    "print(np.divide(arr1, arr2))\n",
    "print(np.multiply(arr1, arr2))\n",
    "print(np.power(arr1, arr2))\n",
    "print(np.remainder(arr1, arr2)) # mod() can be used as well in place of remainder()\n",
    "print(np.divmod(arr1, arr2))\n",
    "print(np.modf(np.divide(arr1, arr2)))  # returns two arrays, one with fractional part and other with integral part of each element of arr1\n",
    "print(np.absolute(arr1))    # abs() also, in place of absolute()"
   ]
  },
  {
   "cell_type": "markdown",
   "metadata": {},
   "source": [
    "### TRUNCATE|FIX - ROUNDING - FLOOR - CEIL"
   ]
  },
  {
   "cell_type": "code",
   "execution_count": 91,
   "metadata": {},
   "outputs": [
    {
     "name": "stdout",
     "output_type": "stream",
     "text": [
      "[-3.  3.]\n",
      "[-3.  3.]\n",
      "[-3.17  3.67]\n",
      "[-4.  3.]\n",
      "[-3.  4.]\n"
     ]
    }
   ],
   "source": [
    "print(np.trunc([-3.1666, 3.6667]))\n",
    "print(np.fix([-3.1666, 3.6667]))\n",
    "\n",
    "print(np.around([-3.1666, 3.6667], 2))  # rounding to 2 decimal places. First ignore sign, then round off as positive number, then restore the sign\n",
    "print(np.floor([-3.1666, 3.6667]))\n",
    "print(np.ceil([-3.1666, 3.6667]))"
   ]
  },
  {
   "cell_type": "markdown",
   "metadata": {},
   "source": [
    "### Logarithm\n",
    "By default, only numpy provided log ufuncs are log2, log10, log {e}.\n",
    "Other base ufunc need to be made from frompyfunc()"
   ]
  },
  {
   "cell_type": "code",
   "execution_count": 92,
   "metadata": {},
   "outputs": [
    {
     "name": "stdout",
     "output_type": "stream",
     "text": [
      "[0.         1.         1.5849625  2.         2.32192809 2.5849625\n",
      " 2.80735492 3.         3.169925  ]\n",
      "[0.         0.30103    0.47712125 0.60205999 0.69897    0.77815125\n",
      " 0.84509804 0.90308999 0.95424251]\n",
      "[0.         0.69314718 1.09861229 1.38629436 1.60943791 1.79175947\n",
      " 1.94591015 2.07944154 2.19722458]\n",
      "[np.float64(0.0) np.float64(0.6309297535714574) np.float64(1.0)\n",
      " np.float64(1.2618595071429148) np.float64(1.4649735207179269)\n",
      " np.float64(1.6309297535714573) np.float64(1.7712437491614221)\n",
      " np.float64(1.892789260714372) np.float64(2.0)]\n"
     ]
    }
   ],
   "source": [
    "print(np.log2(np.arange(1, 10)))\n",
    "print(np.log10(np.arange(1, 10)))\n",
    "print(np.log(np.arange(1, 10)))\n",
    "\n",
    "\n",
    "def log3(x):\n",
    "    return np.log(x)/np.log(3)\n",
    "\n",
    "log3_v = np.frompyfunc(log3, 1, 1)\n",
    "print(log3_v(np.arange(1, 10)))"
   ]
  },
  {
   "cell_type": "markdown",
   "metadata": {},
   "source": [
    "### SUMMATIONS - PRODUCTS - DIFFERENCE"
   ]
  },
  {
   "cell_type": "code",
   "execution_count": 93,
   "metadata": {},
   "outputs": [
    {
     "name": "stdout",
     "output_type": "stream",
     "text": [
      "[2 4 6]\n",
      "6\n",
      "6\n",
      "[2 4 6]\n",
      "12\n",
      "[6 6]\n",
      "[1 3 6]\n",
      "[ 1  3  6  7  9 12]\n",
      "[[1 2 3]\n",
      " [2 4 6]]\n",
      "[[1 3 6]\n",
      " [1 3 6]]\n",
      "\n",
      "\n",
      "PRODUCTS\n",
      "\n",
      "6\n",
      "36\n",
      "[1 4 9]\n",
      "[6 6]\n",
      "[1 2 6]\n",
      "[ 1  2  6  6 12 36]\n",
      "[[1 2 3]\n",
      " [1 4 9]]\n",
      "[[1 2 6]\n",
      " [1 2 6]]\n",
      "\n",
      "\n",
      "DIFFERENCE\n",
      "\n",
      "[1 1]\n",
      "[[1 1]\n",
      " [1 1]]\n",
      "[[0 0 0]]\n",
      "[[1 1]\n",
      " [1 1]]\n"
     ]
    }
   ],
   "source": [
    "arr1 = np.array([1, 2, 3])\n",
    "arr2 = np.array([1, 2, 3])\n",
    "\n",
    "print(np.add(arr1, arr2))\n",
    "\n",
    "\n",
    "print(np.sum(arr1))\n",
    "print(np.sum(arr1, axis=0))   # same as above as arr1 is 1D array\n",
    "# print(np.sum(arr1, axis=1))   # error as arr1 is 1D array\n",
    "print(np.sum([arr1, arr2], axis=0))   # sum of each column\n",
    "print(np.sum([arr1, arr2]))\n",
    "print(np.sum([arr1, arr2], axis=1))\n",
    "\n",
    "\n",
    "print(np.cumsum(arr1))\n",
    "print(np.cumsum([arr1, arr2]))\n",
    "print(np.cumsum([arr1, arr2], axis=0))\n",
    "print(np.cumsum([arr1, arr2], axis=1))\n",
    "\n",
    "\n",
    "print(\"\\n\\nPRODUCTS\\n\")\n",
    "\n",
    "print(np.prod(arr1))\n",
    "print(np.prod([arr1, arr2]))\n",
    "print(np.prod([arr1, arr2], axis=0))\n",
    "print(np.prod([arr1, arr2], axis=1))\n",
    "\n",
    "print(np.cumprod(arr1))\n",
    "print(np.cumprod([arr1, arr2]))\n",
    "print(np.cumprod([arr1, arr2], axis=0))\n",
    "print(np.cumprod([arr1, arr2], axis=1))\n",
    "\n",
    "\n",
    "print(\"\\n\\nDIFFERENCE\\n\")\n",
    "\n",
    "print(np.diff(arr1))\n",
    "print(np.diff([arr1, arr2]))\n",
    "print(np.diff([arr1, arr2], axis=0))\n",
    "print(np.diff([arr1, arr2], axis=1))\n"
   ]
  },
  {
   "cell_type": "markdown",
   "metadata": {},
   "source": [
    "### SET OPERATIONS"
   ]
  },
  {
   "cell_type": "code",
   "execution_count": 94,
   "metadata": {},
   "outputs": [
    {
     "name": "stdout",
     "output_type": "stream",
     "text": [
      "[1 2 3 4 5 6 7]\n",
      "[1 2 3 4 5 6 7 8 9]\n",
      "[5 6 7]\n",
      "[5 6 7]\n",
      "[1 2 3 4]\n",
      "[1 2 3 4]\n",
      "[1 2 3 4 8 9]\n",
      "[1 2 3 4 8 9]\n"
     ]
    }
   ],
   "source": [
    "arr = np.array([1, 1, 1, 2, 3, 4, 5, 5, 6, 7])\n",
    "\n",
    "print(np.unique(arr))\n",
    "\n",
    "print(np.union1d(arr, [5,6,7,8,9]))   # union of two 1D arrays\n",
    "\n",
    "arr1 = np.unique(arr)\n",
    "print(np.intersect1d(arr, [5,6,7,8,9]))\n",
    "print(np.intersect1d(arr1, [5,6,7,8,9], assume_unique=True))  # faster if both arrays are unique\n",
    "\n",
    "print(np.setdiff1d(arr, [5,6,7,8,9]))\n",
    "print(np.setdiff1d(arr1, [5,6,7,8,9], assume_unique=True))  # faster if both arrays are unique\n",
    "\n",
    "print(np.setxor1d(arr, [5,6,7,8,9]))   # elements in arr1 or arr2 but not in both\n",
    "print(np.setxor1d(arr1, [5,6,7,8,9], assume_unique=True))   # elements in arr1 or arr2 but not in both"
   ]
  },
  {
   "cell_type": "code",
   "execution_count": 95,
   "metadata": {},
   "outputs": [
    {
     "name": "stdout",
     "output_type": "stream",
     "text": [
      "2\n",
      "[1 0]\n",
      "[1 0]\n"
     ]
    }
   ],
   "source": [
    "arr = np.array([1, 3, 7, 2])\n",
    "np.argmax(arr)      # Output: 2  (since arr[2] == 7 is the max)\n",
    "\n",
    "arr2 = np.array([[1, 4], [6, 2]])\n",
    "print(np.argmax(arr2))     # Output: 2 (the flattened index)\n",
    "print(np.argmax(arr2, axis=0))  # Output: [1 0], max along each column\n",
    "print(np.argmax(arr2, axis=1))  # Output: [1 0], max along each row"
   ]
  }
 ],
 "metadata": {
  "kernelspec": {
   "display_name": "pythonlab",
   "language": "python",
   "name": "python3"
  },
  "language_info": {
   "codemirror_mode": {
    "name": "ipython",
    "version": 3
   },
   "file_extension": ".py",
   "mimetype": "text/x-python",
   "name": "python",
   "nbconvert_exporter": "python",
   "pygments_lexer": "ipython3",
   "version": "3.10.18"
  }
 },
 "nbformat": 4,
 "nbformat_minor": 2
}
