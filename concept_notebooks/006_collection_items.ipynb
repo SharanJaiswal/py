{
 "cells": [
  {
   "cell_type": "code",
   "execution_count": null,
   "metadata": {},
   "outputs": [],
   "source": [
    "import collections"
   ]
  },
  {
   "cell_type": "markdown",
   "metadata": {},
   "source": [
    "# NAMEDTUPLE"
   ]
  },
  {
   "cell_type": "code",
   "execution_count": null,
   "metadata": {},
   "outputs": [],
   "source": [
    "# namedtuple is just the more readable format of the tuple, where each element denotes some particular value in context.\n",
    "# we didn't take dictionary into consideration because we might need our container to be immutable. Also, we also didn't want to type everytime key for each new record/entry.\n",
    "Color = collections.namedtuple('Color', ['red', 'green', 'blue'])   # takes class name to be made, return the class itself, which is derived class of the class NamedTuple, using factory func namedtuple\n",
    "# instead of list as the second argument, we can give any iterable. eg., 'x y z' OR {'x':0, 'y':0, 'z':9}\n",
    "color=Color(55,155,255) # class constructor\n",
    "white=Color(red=255, green=255, blue=255)\n",
    "# we can access the entry within namedtuple by two ways: color.red OR color[idx]\n",
    "print(color.red, white[2])"
   ]
  },
  {
   "cell_type": "code",
   "execution_count": null,
   "metadata": {},
   "outputs": [],
   "source": [
    "import math\n",
    "Coordinates=collections.namedtuple('Coordinates', {'x': math.inf, 'y': math.inf, 'z':-math.inf})    # this doesnt make the value of the keys as the default value. Only keys are parsed for namedtuple\n",
    "# c1=Coordinates(x=7, z=0)      # error will be generated because only keys are read from the iterable(here dictionary) while creating the Coordinates class namedtuple\n",
    "c1=Coordinates(x=7, y=6, z=0)   # id d1 is some dictionary, then the Coordinates(**d1) will give a named tuple object\n",
    "print(c1.x, c1.y, c1.z)\n",
    "print(c1)\n",
    "math.inf*0  # IYKYK"
   ]
  },
  {
   "cell_type": "raw",
   "metadata": {},
   "source": [
    "obj._asdict()   # returns dict\n",
    "obj.fields  # returns a tuple of the fields\n",
    "obj = obj._replace('field_i'=new_value)     # this replaces the value of the field of that object, BUT NOT IN-PLACE change happens. Hence we assign the intermediate changed object to same object"
   ]
  },
  {
   "cell_type": "code",
   "execution_count": null,
   "metadata": {},
   "outputs": [],
   "source": [
    "print(white._asdict())\n",
    "print(white._fields)"
   ]
  },
  {
   "cell_type": "code",
   "execution_count": null,
   "metadata": {},
   "outputs": [],
   "source": [
    "Scientists = collections.namedtuple('Scienctist', ['name', 'field', 'born', 'nobel'])\n",
    "Scientists"
   ]
  },
  {
   "cell_type": "code",
   "execution_count": null,
   "metadata": {},
   "outputs": [],
   "source": [
    "dir(Scientists)"
   ]
  },
  {
   "cell_type": "code",
   "execution_count": null,
   "metadata": {},
   "outputs": [],
   "source": [
    "Scientists(name='Ada Lovelace', field='math', born=1815, nobel=False)"
   ]
  },
  {
   "cell_type": "code",
   "execution_count": null,
   "metadata": {},
   "outputs": [],
   "source": [
    "ada = Scientists(name='Ada Lovelace', field='math', born=1815, nobel=False)\n",
    "ada.name"
   ]
  },
  {
   "cell_type": "code",
   "execution_count": null,
   "metadata": {},
   "outputs": [],
   "source": [
    "# namedtuples are immutable. Hence use obj._replace() method\n",
    "ada.name = 'Sharan'"
   ]
  },
  {
   "cell_type": "code",
   "execution_count": null,
   "metadata": {},
   "outputs": [],
   "source": [
    "ada._replace(name='Sharan') # it may contain comma separated 'key'=val pairs more than 1 in number"
   ]
  },
  {
   "cell_type": "code",
   "execution_count": null,
   "metadata": {},
   "outputs": [],
   "source": [
    "print(ada)\n",
    "ada1=ada._replace(name='Sharan', born=1998)\n",
    "print(ada1)"
   ]
  },
  {
   "cell_type": "code",
   "execution_count": null,
   "metadata": {},
   "outputs": [],
   "source": [
    "prof_list = [\n",
    "    Scientists(name='Ada Lovelace', field='math', born=1815, nobel=False),\n",
    "    Scientists(name='Emmy Noether', field='math', born=1882, nobel=False)\n",
    "    ]\n",
    "\n",
    "print(prof_list[0].name)\n",
    "del prof_list[0]    # mutable list\n",
    "print(prof_list[0].name)\n",
    "prof_list[0].name = 'Sharan'    # still immutable namedtuple"
   ]
  },
  {
   "cell_type": "code",
   "execution_count": null,
   "metadata": {},
   "outputs": [],
   "source": [
    "prof_list = (\n",
    "    Scientists(name='Ada Lovelace', field='math', born=1815, nobel=False),\n",
    "    Scientists(name='Emmy Noether', field='math', born=1882, nobel=False)\n",
    "    )\n",
    "# named tuple supports indexing also, but still doesnt allow the direct change of the value of its members\n",
    "print(prof_list[0][0])         # name\n",
    "# del prof_list[0]             # immutable tuple\n",
    "prof_list[0][0] = 'Sharan'     # immutable tuple"
   ]
  },
  {
   "cell_type": "code",
   "execution_count": null,
   "metadata": {},
   "outputs": [],
   "source": [
    "names_and_ages = tuple(map(lambda x : {'name': x.name, 'age': 2021-x.born}, prof_list))\n",
    "names_and_ages\n",
    "\n",
    "# This could be acheived in more pythonic eay by using tuple comprehension"
   ]
  },
  {
   "cell_type": "code",
   "execution_count": null,
   "metadata": {},
   "outputs": [],
   "source": [
    "prof_list = (\n",
    "    Scientists(name='Ada Lovelace', field='math', born=1815, nobel=False),\n",
    "    Scientists(name='Emmy Noether', field='chemistry', born=1882, nobel=False),\n",
    "    Scientists(name='Noether', field='physics', born=1882, nobel=False),\n",
    "    Scientists(name='Emmy', field='physics', born=1882, nobel=False)\n",
    "    )\n",
    "\n",
    "def reducer(acc, ele):\n",
    "    acc[ele.field].append(ele.name)\n",
    "    return acc\n",
    "\n",
    "from functools import reduce\n",
    "reduce(\n",
    "    reducer,\n",
    "    prof_list,\n",
    "    {'math': [], 'physics': [], 'chemistry': [], 'astronomy': []}\n",
    ")"
   ]
  },
  {
   "cell_type": "code",
   "execution_count": null,
   "metadata": {},
   "outputs": [],
   "source": [
    "import collections\n",
    "from functools import reduce\n",
    "scientists_by_field = reduce(\n",
    "    reducer,\n",
    "    prof_list,\n",
    "    collections.defaultdict(list)\n",
    ")\n",
    "print(scientists_by_field)"
   ]
  },
  {
   "cell_type": "code",
   "execution_count": null,
   "metadata": {},
   "outputs": [],
   "source": [
    "# Not efficient\n",
    "import functools\n",
    "scientists_by_field = functools.reduce(\n",
    "    lambda acc, val: {**acc, **{val.field: acc[val.field] + [val.name]}},\n",
    "    prof_list,\n",
    "    {'math': [], 'physics': [], 'chemistry': [], 'astronomy': []}\n",
    ")\n",
    "scientists_by_field"
   ]
  },
  {
   "cell_type": "code",
   "execution_count": null,
   "metadata": {},
   "outputs": [],
   "source": [
    "prof_list = (\n",
    "    Scientists(name='Ada Lovelace', field='math', born=1815, nobel=False),\n",
    "    Scientists(name='Emmy Noether', field='chemistry', born=1882, nobel=False),\n",
    "    Scientists(name='Noether', field='physics', born=1882, nobel=False),\n",
    "    Scientists(name='Emmy', field='physics', born=1882, nobel=False)\n",
    "    )\n",
    "\n",
    "from functools import reduce\n",
    "reduce(\n",
    "    # reduce(lambda acc, val: (acc[val.field].append(val.name), acc)[1], prof_list, defaultdict(list))  # bettergeneric\n",
    "    lambda acc, sci: (acc[sci.field].append(sci.name), acc)[1],\n",
    "    prof_list,\n",
    "    {'math': [], 'physics': [], 'chemistry': [], 'astronomy': []}\n",
    ")"
   ]
  },
  {
   "cell_type": "markdown",
   "metadata": {},
   "source": [
    "# DEFAULTDICT\n",
    "Unlike the normal dictionary which raises KeyError, default dict returns the default value if we provide it. The default value is provided with the help of return value of function"
   ]
  },
  {
   "cell_type": "code",
   "execution_count": null,
   "metadata": {},
   "outputs": [],
   "source": [
    "from collections import defaultdict\n",
    "\n",
    "def def_value():    # default factory can be 'list', 'int', etc.\n",
    "    return 'Not Present'\n",
    "\n",
    "d = defaultdict(def_value)\n",
    "d['a'] = 1\n",
    "d['b'] = 2\n",
    "\n",
    "print(d['a'])\n",
    "print(d['b'])\n",
    "print(d['c'])\n",
    "# Whats happening here is that everytime when we are trying to access the key, the key is created with the default value of the dafault_factory fucntions return value"
   ]
  },
  {
   "cell_type": "code",
   "execution_count": null,
   "metadata": {},
   "outputs": [],
   "source": [
    "import itertools\n",
    "\n",
    "a_list = [(\"Animal\", \"cat\"), \n",
    "          (\"Animal\", \"dog\"), \n",
    "          (\"Bird\", \"peacock\"), \n",
    "          (\"Bird\", \"pigeon\")]\n",
    "  \n",
    "an_iterator = itertools.groupby(a_list, lambda x : x[0])\n",
    "\n",
    "print(an_iterator)\n",
    "\n",
    "for key, group in an_iterator:\n",
    "    key_and_group = {key : list(group)}\n",
    "    print(key_and_group)"
   ]
  },
  {
   "cell_type": "code",
   "execution_count": null,
   "metadata": {},
   "outputs": [],
   "source": [
    "scientists_by_field = {\n",
    "    item[0]: list(item[1])\n",
    "    for item in itertools.groupby(prof_list, lambda x: x.field)\n",
    "}\n",
    "scientists_by_field"
   ]
  },
  {
   "cell_type": "markdown",
   "metadata": {},
   "source": [
    "# COUNTER"
   ]
  },
  {
   "cell_type": "code",
   "execution_count": null,
   "metadata": {},
   "outputs": [],
   "source": [
    "from collections import Counter\n",
    "# takes any iterable and outputs the Counter dictionary of each element of the iterable as a key and their frequency as the value\n",
    "# Also, takes the comma separated elements of the series of key=freq as an input and gives the Counter dictionary as an output.\n",
    "c=Counter('Sharan')\n",
    "print(c)\n",
    "print(Counter(['a', 'b', 'a', 'c', 'c']))\n",
    "print({'a':1, 'b':2})\n",
    "print(Counter(cats=4, dogs=7))"
   ]
  },
  {
   "cell_type": "code",
   "execution_count": null,
   "metadata": {},
   "outputs": [],
   "source": [
    "# accessing the value of the key of the counter element can be acheived by cobj['key']. No cobj[idx] way is used. \n",
    "# If in case the key is not present and we use count['key'], it'll give 0 as an answer.\n",
    "print(c['S'], c['z'])"
   ]
  },
  {
   "cell_type": "code",
   "execution_count": null,
   "metadata": {},
   "outputs": [],
   "source": [
    "print(c.elements())\n",
    "print(list(c.elements()))\n",
    "\n",
    "print(\"*\"*10)\n",
    "# top N most common elements in the counter object. Returns a list of tuples where elements of the are in the form of ('key', value)\n",
    "print(c.most_common(1)) # topmost common element\n",
    "print(c.most_common(2)) # 2 topmost common elements\n",
    "print(c.most_common())  # list of tuples containg all elements of the counter\n",
    "\n",
    "print(\"*\"*10)\n",
    "# updating counter element frequency using other iterable. Uncommon element will also get updated and added to the original counter\n",
    "c=Counter(a=4, b=2, c=0, d=-2)\n",
    "d=['a', 'b', 'b', 'c', 'f']\n",
    "c.subtract(d)   # inplace update happens. Doesn't returns anything\n",
    "print(c)\n",
    "e={'a':1, 'b':-3}\n",
    "c.subtract(e)\n",
    "print(c)\n",
    "\n",
    "print(\"*\"*10)\n",
    "# adds the frequency of the elements. Uncommon element will also get updated and added to the original counter\n",
    "c.update(d)\n",
    "c.update(e)\n",
    "print(c)\n",
    "\n",
    "print(\"*\"*10)\n",
    "c.clear()\n",
    "print(c)"
   ]
  },
  {
   "cell_type": "code",
   "execution_count": null,
   "metadata": {},
   "outputs": [],
   "source": [
    "# for below + - & | operations, suppose Counter with all the elements, perform operation (If not present then its freq is 0), Output only those where freq >= 1.\n",
    "c=Counter(a=4, b=2, c=0, d=-2, g=1)\n",
    "d=Counter(['a', 'b', 'b', 'f'])\n",
    "print(c+d)\n",
    "print(c-d)\n",
    "\n",
    "print(\"*\"*10)\n",
    "print(c & d)    # intersection. Only minimum of COMMON ELEMENTS\n",
    "print(c | d)    # union. Only maximum of COMMON ELEMENTS"
   ]
  },
  {
   "cell_type": "markdown",
   "metadata": {},
   "source": [
    "# DEQUE\n",
    "like a list but it is actually a deque. Used over list because its easier to add/remove elements from ends of the container"
   ]
  },
  {
   "cell_type": "code",
   "execution_count": null,
   "metadata": {},
   "outputs": [],
   "source": [
    "from collections import deque\n",
    "\n",
    "d=deque(\"Sharan Jaiswal\")\n",
    "print(d)\n",
    "\n",
    "# appending the element to the ends of the deque\n",
    "d.append('4')\n",
    "d.appendleft(3)\n",
    "print(d)\n",
    "\n",
    "# popping the elelemnts from the ends of the deque\n",
    "print(d.pop())\n",
    "print(d.popleft())\n",
    "print(d)\n",
    "\n",
    "#extending the deque with the use of the iterable\n",
    "d.extend([5,6,7,8,9])\n",
    "d.extend('456') # do remember that it is a string and string elements are iterable\n",
    "d.extendleft({'q':3, 't':1})    # only keys will be taken, the value/freq of the key not rendered by the deque\n",
    "print(d)\n",
    "\n",
    "# rotation of the element\n",
    "d.rotate(-1)    # rotate left if negative integer is supplied\n",
    "print(d)\n",
    "d.rotate(4)     # rotate right if positive number is supplied\n",
    "print(d)\n",
    "\n",
    "d.clear()\n",
    "print(d)"
   ]
  },
  {
   "cell_type": "code",
   "execution_count": null,
   "metadata": {},
   "outputs": [],
   "source": [
    "# MAXIMUM ALLOWABLE SIZE/LENGHT OF THE DEQUE CONTAINER\n",
    "# Can only be mentioned during the creation of the deque. Cannot be changed further. New element added from one side, will pop element on the other end, maintaining the size of the container\n",
    "d=deque('hello', maxlen=6)\n",
    "print(d)\n",
    "print(d.maxlen)\n",
    "\n",
    "print(\"*\"*10)\n",
    "d.extend('bete')\n",
    "print(d)\n",
    "d.extendleft('moj')\n",
    "print(d)"
   ]
  }
 ],
 "metadata": {
  "interpreter": {
   "hash": "a6570200391abd47b22bafa3ab36aba8327b6bca09374d4d4cb5f21cfca217ce"
  },
  "kernelspec": {
   "display_name": "Python 3 (ipykernel)",
   "language": "python",
   "name": "python3"
  },
  "language_info": {
   "codemirror_mode": {
    "name": "ipython",
    "version": 3
   },
   "file_extension": ".py",
   "mimetype": "text/x-python",
   "name": "python",
   "nbconvert_exporter": "python",
   "pygments_lexer": "ipython3",
   "version": "3.9.5"
  }
 },
 "nbformat": 4,
 "nbformat_minor": 2
}
