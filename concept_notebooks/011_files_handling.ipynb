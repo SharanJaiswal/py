{
 "cells": [
  {
   "cell_type": "markdown",
   "id": "c6fa178b",
   "metadata": {},
   "source": [
    "# FILES"
   ]
  },
  {
   "cell_type": "markdown",
   "id": "bc03a002",
   "metadata": {},
   "source": [
    "**open(<\\[path/\\]file> [, <\\'mode[type]\\'>])**   function takes two parameters; filename, and mode; returns a file handler with the help of which we can open, close, write, read the particular file. FH doesn't contain actual data, its a kind of Porthole.\n",
    "\n",
    "**r:** Default value. Opens a file for reading, error if the file does not exist\n",
    "\n",
    "**w:** Opens a file for writing, creates the file if it does not exist\n",
    "\n",
    "**a:** Opens a file for appending, creates the file if it does not exist\n",
    "\n",
    "**x:** Creates the specified file, returns an error if the file exists\n",
    "\n",
    "**t:** Optional. Default value. Text mode\n",
    "\n",
    "**b:** Optional. Binary mode (e.g. images)\n",
    "\n",
    "FH is actually a file object which has **read(\\[no of characters. all by default\\])** method for reading the content of the file. **readline()** acts as similar to **next()** function of iterator. Everytime when it is called, its reads a next line. To avoid error throw, Use for loop, because it'll not throw error. It'll just return nothing after line ends."
   ]
  },
  {
   "cell_type": "code",
   "execution_count": 1,
   "id": "a6f155d4",
   "metadata": {
    "scrolled": true
   },
   "outputs": [
    {
     "data": {
      "text/plain": [
       "'Woops! I\\nhave deleted the content!'"
      ]
     },
     "execution_count": 1,
     "metadata": {},
     "output_type": "execute_result"
    }
   ],
   "source": [
    "f = open(\"forfilehandling.txt\", \"r\")\n",
    "f.read()    # f.read() will output a stream of characters, where newline will be a character. print() function interprets newline character and operates its value. readline() also interpret newline character."
   ]
  },
  {
   "cell_type": "code",
   "execution_count": 2,
   "id": "f33f8c03",
   "metadata": {},
   "outputs": [
    {
     "name": "stdout",
     "output_type": "stream",
     "text": [
      "Woops! I\n",
      "have deleted the content!\n"
     ]
    }
   ],
   "source": [
    "f.close()\n",
    "f = open(\"forfilehandling.txt\", \"r\")\n",
    "print(f.read())\n",
    "f.close()"
   ]
  },
  {
   "cell_type": "code",
   "execution_count": 3,
   "id": "8da2c483",
   "metadata": {},
   "outputs": [
    {
     "name": "stdout",
     "output_type": "stream",
     "text": [
      "<class '_io.TextIOWrapper'>\n",
      "Woops\n",
      "! I\n",
      "hav\n"
     ]
    }
   ],
   "source": [
    "f = open(\"forfilehandling.txt\", \"r\")\n",
    "print(type(f))\n",
    "print(f.read(5))    # first five characters\n",
    "print(f.read(7))    # next seven characters\n",
    "f.close()"
   ]
  },
  {
   "cell_type": "markdown",
   "id": "36ceb883",
   "metadata": {},
   "source": [
    "#### There is a difference between readlines and readline function."
   ]
  },
  {
   "cell_type": "code",
   "execution_count": 4,
   "id": "f49daddc",
   "metadata": {},
   "outputs": [
    {
     "name": "stdout",
     "output_type": "stream",
     "text": [
      "['Woops! I\\n', 'have deleted the content!']\n"
     ]
    }
   ],
   "source": [
    "f = open(\"forfilehandling.txt\", \"r\")\n",
    "lines=f.readlines()    # just f.readline() returns a list of lines appended by the '\\n', ie.e, ['line1\\n', 'line2\\n', ....]\n",
    "print(lines)\n",
    "f.close()"
   ]
  },
  {
   "cell_type": "code",
   "execution_count": 5,
   "id": "128c4a99",
   "metadata": {},
   "outputs": [
    {
     "name": "stdout",
     "output_type": "stream",
     "text": [
      "Woops! I\n",
      "\n",
      "have deleted the content!\n",
      "\n"
     ]
    }
   ],
   "source": [
    "f = open(\"forfilehandling.txt\", \"r\")\n",
    "print(f.readline())\n",
    "print(f.readline())\n",
    "print(f.readline())\n",
    "\n",
    "f.close()"
   ]
  },
  {
   "cell_type": "code",
   "execution_count": 6,
   "id": "455074a0",
   "metadata": {},
   "outputs": [
    {
     "name": "stdout",
     "output_type": "stream",
     "text": [
      "Woops! I\n",
      "\n",
      "have deleted the content!\n",
      "2\n"
     ]
    }
   ],
   "source": [
    "count = 0\n",
    "f = open(\"forfilehandling.txt\", \"r\")\n",
    "for x in f:    # FH is sequence of lines. Item of f is lines, not characters. Hence count gives number of lines\n",
    "    print(x)\n",
    "    count = count + 1\n",
    "\n",
    "print(count)\n",
    "f.close()"
   ]
  },
  {
   "cell_type": "markdown",
   "id": "98a963bf",
   "metadata": {},
   "source": [
    "#### writelines method"
   ]
  },
  {
   "cell_type": "code",
   "execution_count": 7,
   "id": "aaecaf27",
   "metadata": {},
   "outputs": [],
   "source": [
    "#writelines()\n",
    "with open(\"newb.txt\", \"a\") as f:\n",
    "    f.write(\"\\nPython is awesome\")"
   ]
  },
  {
   "cell_type": "markdown",
   "id": "f0ea277e",
   "metadata": {},
   "source": [
    "## Writing to a file using \"append\" mode"
   ]
  },
  {
   "cell_type": "code",
   "execution_count": 11,
   "id": "9faa5342",
   "metadata": {},
   "outputs": [
    {
     "name": "stdout",
     "output_type": "stream",
     "text": [
      "Woops! I\n",
      "have deleted the content!\n",
      "Now the file has more content!\n"
     ]
    }
   ],
   "source": [
    "f = open(\"forfilehandling.txt\", \"a\")\n",
    "f.write(\"\\nNow the file has more content!\")\n",
    "f.close()\n",
    "\n",
    "f = open(\"forfilehandling.txt\", \"r\")\n",
    "print(f.read())\n",
    "f.close()"
   ]
  },
  {
   "cell_type": "markdown",
   "id": "df1a18a6",
   "metadata": {},
   "source": [
    "## Writing to a file using \"write\" mode"
   ]
  },
  {
   "cell_type": "code",
   "execution_count": 9,
   "id": "85e4a218",
   "metadata": {},
   "outputs": [
    {
     "name": "stdout",
     "output_type": "stream",
     "text": [
      "Woops! I\n",
      "have deleted the content!\n"
     ]
    }
   ],
   "source": [
    "f = open(\"forfilehandling.txt\", \"w\")\n",
    "f.write(\"Woops! I\\nhave deleted the content!\")    # we need to enter the escape characters in the f.write() function string parameter\n",
    "f.close()\n",
    "\n",
    "#open and read the file after the appending:\n",
    "f = open(\"forfilehandling.txt\", \"r\")\n",
    "print(f.read())\n",
    "f.close()"
   ]
  },
  {
   "cell_type": "markdown",
   "id": "2c33325f",
   "metadata": {},
   "source": [
    "## File/Folder deletion\n",
    "\n",
    "**import os**\n",
    "\n",
    "os.remove(\"forfilehandling.txt\")    # file deletion\n",
    "\n",
    "========================================================\n",
    "\n",
    "if os.path.exists(\"forfilehandling.txt\"):    # check if file exists\n",
    "  \n",
    "  os.remove(\"forfilehandling.txt\")\n",
    "  \n",
    "else:\n",
    "\n",
    "  print(\"The file does not exist\")\n",
    "\n",
    "========================================================\n",
    "\n",
    "os.rmdir(\"myfolder\")    # empty folder delete\n",
    "\n",
    "========================================================\n",
    "\n",
    "cur_dir=os.getcwd()    # gives pwd string\n",
    "\n",
    "========================================================\n",
    "\n",
    "os.chdir(\"\\<path\\>\") # change directory\n",
    "\n",
    "========================================================\n",
    "\n",
    "print(os.listdir(\\[\\<path\\>\\]))    # outputs list with its items conating all the name of files and directories. Path is optional\n",
    "\n",
    "========================================================\n",
    "\n",
    "os.mkdir(\\[path/\\]directory)\n",
    "\n",
    "========================================================\n",
    "\n",
    "os.rename(curname, newname)    # works for both directory as well as file\n",
    "\n",
    "========================================================\n",
    "\n"
   ]
  },
  {
   "cell_type": "markdown",
   "id": "ec875669",
   "metadata": {},
   "source": [
    "### **f.close()**\n",
    "You should always close your files, in some cases, due to buffering, changes made to a file may not show until you close the file. It is generally in **'finally:'** block"
   ]
  },
  {
   "cell_type": "markdown",
   "id": "c48e22e6",
   "metadata": {},
   "source": [
    "### using 'with' syntax\n",
    "It automatically closes the file after it opens. If error will be there while opening the file, then therer will be no situation of closing of a file."
   ]
  },
  {
   "cell_type": "code",
   "execution_count": 10,
   "id": "2ddfd5a9",
   "metadata": {},
   "outputs": [
    {
     "name": "stdout",
     "output_type": "stream",
     "text": [
      "Woops!\n",
      " I\n",
      "have dele\n"
     ]
    }
   ],
   "source": [
    "with open(\"forfilehandling.txt\", \"r\") as f:\n",
    "    content = f.read(6)\n",
    "    print(content)\n",
    "    \n",
    "    more_content = f.read(12)\n",
    "    print(more_content)"
   ]
  }
 ],
 "metadata": {
  "kernelspec": {
   "display_name": "Python 3.8.5 64-bit ('base': conda)",
   "language": "python",
   "name": "python385jvsc74a57bd0a6570200391abd47b22bafa3ab36aba8327b6bca09374d4d4cb5f21cfca217ce"
  },
  "language_info": {
   "codemirror_mode": {
    "name": "ipython",
    "version": 3
   },
   "file_extension": ".py",
   "mimetype": "text/x-python",
   "name": "python",
   "nbconvert_exporter": "python",
   "pygments_lexer": "ipython3",
   "version": "3.8.5"
  },
  "metadata": {
   "interpreter": {
    "hash": "a6570200391abd47b22bafa3ab36aba8327b6bca09374d4d4cb5f21cfca217ce"
   }
  }
 },
 "nbformat": 4,
 "nbformat_minor": 5
}
