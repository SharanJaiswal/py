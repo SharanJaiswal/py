{
 "cells": [
  {
   "cell_type": "code",
   "execution_count": 1,
   "source": [
    "# LEVELS: Allows us to separate the information to be logged, based on ceratin categories. There are 5 standard logging levels:\n",
    "# DEBUG: Detailed information, typically of interest only when diagnosing problems.\n",
    "# INFO: Confirmation that things are working as expected.\n",
    "# WARNING: An indication that something unexpected happened, or indication of some problem in the near future (eg., disk space low). The software is still working as expected.\n",
    "# ERROR: Due to a more serious problem, the software has not been able to perform some functions.\n",
    "# CRITICAL: A serious error, indicating that the program itself may be unable to continue running.\n",
    "# NOTSET"
   ],
   "outputs": [],
   "metadata": {}
  },
  {
   "cell_type": "code",
   "execution_count": 2,
   "source": [
    "import logging\n",
    "\n",
    "# warning is set as the default logging level so that warning and above can be logged.\n",
    "# To set the logging level to info or above, we have to change the basicConfig of the logging level\n",
    "# logging.basicConfig(level=logging.INFO)\n",
    "# logging.basicConfig(level=logging.WARNING)\n",
    "logging.basicConfig(filename='operation.log', level=logging.DEBUG, format='%(asctime)s:%(levelname)s:%(message)s')\n",
    "\n",
    "def add(x,y):\n",
    "    return x+y\n",
    "\n",
    "num1=4\n",
    "num2=4\n",
    "# print('Add: {} + {} = {}'.format(num1, num2, add))\n",
    "logging.debug('Add: {} + {} = {}'.format(num1, num2, add(num1, num2)))\n",
    "logging.info('Add: {} + {} = {}'.format(num1, num2, add(num1, num2)))\n",
    "logging.warning('Add: {} + {} = {}'.format(num1, num2, add(num1, num2)))\n",
    "logging.error('Add: {} + {} = {}'.format(num1, num2, add(num1, num2)))\n",
    "logging.critical('Add: {} + {} = {}'.format(num1, num2, add(num1, num2)))"
   ],
   "outputs": [],
   "metadata": {}
  }
 ],
 "metadata": {
  "orig_nbformat": 4,
  "language_info": {
   "name": "python",
   "version": "3.9.5",
   "mimetype": "text/x-python",
   "codemirror_mode": {
    "name": "ipython",
    "version": 3
   },
   "pygments_lexer": "ipython3",
   "nbconvert_exporter": "python",
   "file_extension": ".py"
  },
  "kernelspec": {
   "name": "python3",
   "display_name": "Python 3.9.5 64-bit ('base': conda)"
  },
  "interpreter": {
   "hash": "a6570200391abd47b22bafa3ab36aba8327b6bca09374d4d4cb5f21cfca217ce"
  }
 },
 "nbformat": 4,
 "nbformat_minor": 2
}