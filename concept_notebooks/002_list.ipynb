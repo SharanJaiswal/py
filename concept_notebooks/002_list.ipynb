{
 "cells": [
  {
   "cell_type": "markdown",
   "metadata": {},
   "source": [
    "# LIST\n",
    "Ordered, Indexed and Changeable. Allows duplicate. Elements can be of any data type."
   ]
  },
  {
   "cell_type": "code",
   "execution_count": null,
   "metadata": {},
   "outputs": [],
   "source": [
    "# list.append(elmnt) (element can be string, number, object etc.)\n",
    "fruits = ['apple', 'banana', 'cherry']\n",
    "fruits.append(\"orange\")\n",
    "print(fruits)\n",
    "b = [\"Ford\", \"BMW\", \"Volvo\"]\n",
    "fruits.append(b)\n",
    "print(fruits)\n",
    "\n",
    "fruits = ['apple', 'banana', 'cherry']\n",
    "cars = ['Ford', 'BMW', 'Volvo']\n",
    "fruits.extend(cars) # iterable will be in the (). Required. Any iterable (list, set, tuple, etc.)\n",
    "print(fruits)\n",
    "fruits = ['apple', 'banana', 'cherry']\n",
    "points = (1, 4, 5, 9)\n",
    "fruits.extend(points)\n",
    "print(fruits)\n",
    "\n",
    "fruits = ['apple', 'banana', 'cherry']\n",
    "car = {\"brand\": \"Ford\", \"model\": \"Mustang\",  \"year\": 1964}\n",
    "fruits.extend(car)\n",
    "car['test']='value' # this will not get added to the list, after we have extnded the list\n",
    "print(fruits)\n",
    "\n",
    "fruits = ['apple', 'banana', 'cherry']\n",
    "veg_tup = (\"potato\", \"onion\", \"capsicum\")\n",
    "fruits.extend(veg_tup)\n",
    "print(fruits)"
   ]
  },
  {
   "cell_type": "code",
   "execution_count": null,
   "metadata": {},
   "outputs": [],
   "source": [
    "fruits = ['apple', 'banana', 'cherry']\n",
    "veg_list = [\"potato\", \"onion\", \"capsicum\"]\n",
    "fruits = fruits + veg_list  # concats only list with list\n",
    "print(fruits)\n",
    "\n",
    "fruits = ['apple', 'banana', 'cherry']\n",
    "fruits.insert(1, \"orange\")  # An element of any type (string, number, object etc.)\n",
    "print(fruits)\n",
    "\n",
    "thislist = [\"apple\", \"banana\", \"cherry\"]\n",
    "thislist[1:2] = [\"watermelon\", \"guava\", \"apricot\", \"tomato\"]    # RHS could be any collection. LHS will be list\n",
    "print(thislist)\n",
    "\n",
    "fruits = ['apple', 'banana', 'cherry']\n",
    "put = [\"musk\", \"melons\"]\n",
    "fruits.insert(1, put)\n",
    "print(fruits)\n",
    "\n",
    "\n",
    "fruits = ['apple', 'banana', 'cherry']\n",
    "put = [\"musk\", \"melons\"]\n",
    "fruits[1:1] = put\n",
    "print(fruits)"
   ]
  },
  {
   "cell_type": "code",
   "execution_count": null,
   "metadata": {},
   "outputs": [],
   "source": [
    "fruits = ['apple', 'banana', 'cherry', 'orange']\n",
    "fruits.clear()  # to remove ALL ELEMENTS from the list\n",
    "print(fruits)\n",
    "\n",
    "fruits = ['apple', 'banana', 'cherry']\n",
    "x = fruits.pop(1)   # list.pop([pos]) --> pos default value is -1, which returns the last item. returns removed value (x). It can give IndexError if index mentioned goes out of range, or empty list.\n",
    "print(fruits, x)\n",
    "x=fruits.pop()\n",
    "print(x)\n",
    "fruits = []\n",
    "#x = fruits.pop()   # it will throw IndexError because the list is empty.\n",
    "\n",
    "fruits = ['apple', 'banana', 'cherry']\n",
    "fruits.remove(\"banana\") # removes the first occurrence of the element with the REQUIRED specified value. Required. Any type (string, number, list etc.) \n",
    "                        # The element you want to remove. Throws ValueError if element to be removed does not exists in the list.\n",
    "print(fruits)"
   ]
  },
  {
   "cell_type": "code",
   "execution_count": null,
   "metadata": {},
   "outputs": [],
   "source": [
    "fruits = ['apple', 'banana', 'cherry', 'orange']\n",
    "x = fruits.copy()\n",
    "print(x)\n",
    "\n",
    "# list1 = list2     this list1 is just a reference to list2. To copy the list2 into list1, use .copy()\n",
    "newfruits = list(fruits)    # another way of list copying\n",
    "print(newfruits)"
   ]
  },
  {
   "cell_type": "code",
   "execution_count": null,
   "metadata": {},
   "outputs": [],
   "source": [
    "fruits = ['apple', 'banana', 'cherry']\n",
    "x = fruits.count(\"cherry\")  # Required. Any type (string, number, list, tuple, etc.). The value to search for.\n",
    "print(x)"
   ]
  },
  {
   "cell_type": "code",
   "execution_count": null,
   "metadata": {},
   "outputs": [],
   "source": [
    "fruits = ['apple', 'cherry', 'banana', 'cherry']\n",
    "x = fruits.index(\"cherry\")  # list.index(elmnt[[,start][,end]]) . elmnt is Required. Any type (string, number, list, etc.). \n",
    "# The element to search for. only returns the first occurrence of the value. It throws ValueError if elemnt to be searched doesn't exist in the list.\n",
    "print(x)"
   ]
  },
  {
   "cell_type": "code",
   "execution_count": null,
   "metadata": {},
   "outputs": [],
   "source": [
    "dir(fruits)"
   ]
  },
  {
   "cell_type": "code",
   "execution_count": null,
   "metadata": {},
   "outputs": [],
   "source": [
    "fruits = ['zebra', 'elephant', 'apple', 'banana', 'cherry']\n",
    "fruits.reverse()    # reverses list\n",
    "print(fruits)"
   ]
  },
  {
   "cell_type": "code",
   "execution_count": null,
   "metadata": {},
   "outputs": [],
   "source": [
    "fruits = ['zebra', 'elephant', 'apple', 'banana', 'cherry']\n",
    "rev = fruits.reverse()    # reverses list inplace but doesn't returns anything\n",
    "fruits.append('nashpati')\n",
    "print(rev)\n",
    "print(fruits)"
   ]
  },
  {
   "cell_type": "code",
   "execution_count": null,
   "metadata": {},
   "outputs": [],
   "source": [
    "alph = [\"b\", \"a\", \"c\", \"d\"]\n",
    "ralph = reversed(alph)  # (<any iterable object>)  .returns a reversed iterator (fixed sized window w/ reverse object logic) object, not a list. \n",
    "                        # Original list won't get affected\n",
    "alph.append('nashpati')\n",
    "alph.pop(2) # reversed(list) returns the new reversed object that reference the input list of length len(list)\n",
    "# If any change happens, then it will reference the list of length len(list)\n",
    "alph[0:0] = ['f', 'h']\n",
    "print(alph)\n",
    "print(ralph)\n",
    "for ele in ralph:\n",
    "    print(ele)\n",
    "\n",
    "print(\"*\"*4)\n",
    "\n",
    "x = iter([\"apple\", \"banana\", \"cherry\"]) # iter(object, [sentinel])\n",
    "# object reurned is iterator object. sentinel is the part of callable iterable object where the iteration will stop when the value to return is the same as the sentinel \n",
    "# iter() takes iterable but returns an iterator object. sentinel is special value that is used to represent the end of a sequence.\n",
    "# if element is not returend to the iterator object pointer, then StopIteration exception is raised\n",
    "print(next(x))\n",
    "print(next(x))\n",
    "print(next(x))\n",
    "# print(next(x))\n",
    "\n",
    "class DoubleIt:\n",
    "    def __init__(self):\n",
    "        self.start = 1\n",
    "\n",
    "    def __iter__(self):\n",
    "        return self\n",
    "\n",
    "    def __next__(self):\n",
    "        self.start *= 2\n",
    "        return self.start\n",
    "\n",
    "    __call__ = __next__ # Here we make this class object (which served as iterable) as callable, if we are providing the sentinel, beacuse sentinel requires the callable object.\n",
    "\n",
    "# If sentinel is given then the first parameter should be callable. If the the first object is not callable, then we make it callable.\n",
    "# If sentinel is reached then the StopIteration is raised. Sentinal is not sent back.\n",
    "my_iter = iter(DoubleIt(), 16)\n",
    "for x in my_iter:\n",
    "    print(x)"
   ]
  },
  {
   "cell_type": "code",
   "execution_count": null,
   "metadata": {},
   "outputs": [],
   "source": [
    "lst = [1,2,3,4,5,6]\n",
    "itr = iter(lst)\n",
    "for ele in itr:\n",
    "    print(ele)"
   ]
  },
  {
   "cell_type": "code",
   "execution_count": null,
   "metadata": {},
   "outputs": [],
   "source": [
    "cars = ['Ford', 'BMW', 'Volvo']\n",
    "cars.sort() # list.sort([reverse=True|False], [key=myFunc]) . key can be the function to specify the sorting criteria(s). \n",
    "            # sorting by defalult, w/o key, is following ascii character sorting. A->a->0. So, use (key=str.lower)\n",
    "print(cars)\n",
    "\n",
    "cars = ['Ford', 'BMW', 'Volvo']\n",
    "cars.sort(reverse=True)\n",
    "print(cars)\n",
    "\n",
    "def myFunc(e):\n",
    "  return len(e)\n",
    "cars = ['Ford', 'Mitsubishi', 'BMW', 'VW']\n",
    "cars.sort(key=myFunc)\n",
    "print(cars)\n",
    "\n",
    "\n",
    "def myFunc(e):\n",
    "  return e['year']\n",
    "cars = [\n",
    "  {'car': 'Ford', 'year': 2005},\n",
    "  {'car': 'Mitsubishi', 'year': 2000},\n",
    "  {'car': 'BMW', 'year': 2019},\n",
    "  {'car': 'VW', 'year': 2011}\n",
    "]\n",
    "cars.sort(key=myFunc)\n",
    "print(cars)\n",
    "\n",
    "def myFunc(e):\n",
    "  return len(e)\n",
    "cars = ['Ford', 'Mitsubishi', 'BMW', 'VW']\n",
    "cars.sort(reverse=True, key=myFunc)\n",
    "print(cars)"
   ]
  },
  {
   "cell_type": "markdown",
   "metadata": {},
   "source": [
    "# List Comprehension\n",
    "List comprehension offers a shorter syntax when you want to create a new list based on the values of an existing list.\n",
    "The expression is the current item in the iteration, but it is also the outcome, which you can manipulate before it ends up like a list item in the new list\n",
    "\n",
    "<code>newlist = \\[expression or ternary expression for item in iterable if condition == True\\]</code>"
   ]
  },
  {
   "cell_type": "markdown",
   "metadata": {},
   "source": [
    "[x for x in range() if func_retus_bool(attr)]\n",
    "\n",
    "[manipulation iteration filteration]"
   ]
  },
  {
   "cell_type": "code",
   "execution_count": null,
   "metadata": {},
   "outputs": [],
   "source": [
    "# w/o LC\n",
    "fruits = [\"apple\", \"banana\", \"cherry\", \"kiwi\", \"mango\"]\n",
    "newlist = []\n",
    "for x in fruits:\n",
    "  if \"a\" in x:\n",
    "    newlist.append(x)\n",
    "print(newlist) "
   ]
  },
  {
   "cell_type": "code",
   "execution_count": null,
   "metadata": {},
   "outputs": [],
   "source": [
    "# w/ LC\n",
    "fruits = [\"apple\", \"banana\", \"cherry\", \"kiwi\", \"mango\"]\n",
    "newlist = [x for x in fruits if \"a\" in x]\n",
    "print(newlist)\n",
    "newlist = [x.upper() for x in fruits]\n",
    "print(newlist)\n",
    "newlist = ['hello' for x in fruits]\n",
    "print(newlist)\n",
    "newlist = [x if x != \"banana\" else \"orange\" for x in fruits]\n",
    "print(newlist)\n",
    "newlist = [print(x) for x in fruits]\n",
    "print(newlist)"
   ]
  },
  {
   "cell_type": "code",
   "execution_count": null,
   "metadata": {},
   "outputs": [],
   "source": [
    "# Removing duplicates from the list\n",
    "mylist = [\"a\", \"b\", \"a\", \"c\", \"c\"]\n",
    "mylist = list(dict.fromkeys(mylist))\n",
    "print(mylist) "
   ]
  },
  {
   "cell_type": "code",
   "execution_count": null,
   "metadata": {
    "scrolled": true
   },
   "outputs": [],
   "source": [
    "listOfList = [ [1, 2, 3, 4, 5],\n",
    "                [11, 22, 33, 44, 55],\n",
    "                [17, 18, 19, 20, 21] ]\n",
    "flatList = [ item for elem in listOfList for item in elem]\n",
    "print('Flat List : ', flatList)\n",
    "\n",
    "flatList = []\n",
    "for elem in listOfList:\n",
    "    flatList.extend(elem)\n",
    "print('Flat List : ', flatList)"
   ]
  },
  {
   "cell_type": "code",
   "execution_count": null,
   "metadata": {},
   "outputs": [],
   "source": [
    "lst = [1, 2, 3, 4, 5, 11, 22, 33, 44, 55, 17, 18, 19, 20, 21]\n",
    "print(lst*2)\n",
    "\n",
    "print(lst+2)"
   ]
  },
  {
   "cell_type": "code",
   "execution_count": null,
   "metadata": {},
   "outputs": [],
   "source": [
    "lst1=[i for i in range(1,6)]\n",
    "lst2=[i for i in range(6,13)]\n",
    "lst3=[i for i in range(11,16)]\n",
    "\n",
    "print(lst1, lst2, lst3)\n",
    "print(*lst1, *lst2, *lst3)\n",
    "\n",
    "# range() is just an iterable. It is not list. for it to be list(or any other iterable), it needs to gets converted to that desired iteratble\n",
    "print(range(10))\n",
    "lst=range(10)\n",
    "print(lst)\n",
    "print(list(lst))"
   ]
  },
  {
   "cell_type": "code",
   "execution_count": null,
   "metadata": {},
   "outputs": [],
   "source": [
    "whos"
   ]
  }
 ],
 "metadata": {
  "interpreter": {
   "hash": "a6570200391abd47b22bafa3ab36aba8327b6bca09374d4d4cb5f21cfca217ce"
  },
  "kernelspec": {
   "display_name": "Python 3.9.5 64-bit ('base': conda)",
   "name": "python3"
  },
  "language_info": {
   "codemirror_mode": {
    "name": "ipython",
    "version": 3
   },
   "file_extension": ".py",
   "mimetype": "text/x-python",
   "name": "python",
   "nbconvert_exporter": "python",
   "pygments_lexer": "ipython3",
   "version": "3.9.5"
  },
  "metadata": {
   "interpreter": {
    "hash": "a6570200391abd47b22bafa3ab36aba8327b6bca09374d4d4cb5f21cfca217ce"
   }
  }
 },
 "nbformat": 4,
 "nbformat_minor": 2
}
