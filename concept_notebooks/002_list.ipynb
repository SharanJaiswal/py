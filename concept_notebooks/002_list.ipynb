{
 "cells": [
  {
   "cell_type": "markdown",
   "metadata": {},
   "source": [
    "# LIST\n",
    "Ordered, Indexed and Changeable. Allows duplicate. Elements can be of any data type."
   ]
  },
  {
   "cell_type": "code",
   "execution_count": 4,
   "metadata": {},
   "outputs": [
    {
     "name": "stdout",
     "output_type": "stream",
     "text": [
      "['apple', 'banana', 'cherry', 'orange']\n",
      "['apple', 'banana', 'cherry', 'orange', ['Ford', 'BMW', 'Volvo']]\n",
      "['apple', 'banana', 'cherry', 'Ford', 'BMW', 'Volvo']\n",
      "['apple', 'banana', 'cherry', 1, 4, 5, 9]\n",
      "['apple', 'banana', 'cherry', 'brand', 'model', 'year']\n",
      "['apple', 'banana', 'cherry', 'potato', 'onion', 'capsicum']\n"
     ]
    }
   ],
   "source": [
    "# list.append(elmnt) (element can be string, number, object etc.)\n",
    "fruits = ['apple', 'banana', 'cherry']\n",
    "fruits.append(\"orange\")\n",
    "print(fruits)\n",
    "b = [\"Ford\", \"BMW\", \"Volvo\"]\n",
    "fruits.append(b)\n",
    "print(fruits)\n",
    "\n",
    "fruits = ['apple', 'banana', 'cherry']\n",
    "cars = ['Ford', 'BMW', 'Volvo']\n",
    "fruits.extend(cars) # iterable will be in the (). Required. Any iterable (list, set, tuple, etc.)\n",
    "print(fruits)\n",
    "fruits = ['apple', 'banana', 'cherry']\n",
    "points = (1, 4, 5, 9)\n",
    "fruits.extend(points)\n",
    "print(fruits)\n",
    "\n",
    "fruits = ['apple', 'banana', 'cherry']\n",
    "car = {\"brand\": \"Ford\", \"model\": \"Mustang\",  \"year\": 1964}\n",
    "fruits.extend(car)\n",
    "car['test']='value' # this will not get added to the list, after we have extnded the list\n",
    "print(fruits)\n",
    "\n",
    "fruits = ['apple', 'banana', 'cherry']\n",
    "veg_tup = (\"potato\", \"onion\", \"capsicum\")\n",
    "fruits.extend(veg_tup)\n",
    "print(fruits)"
   ]
  },
  {
   "cell_type": "code",
   "execution_count": 5,
   "metadata": {},
   "outputs": [
    {
     "name": "stdout",
     "output_type": "stream",
     "text": [
      "['apple', 'banana', 'cherry', 'potato', 'onion', 'capsicum']\n",
      "['apple', 'orange', 'banana', 'cherry']\n",
      "['apple', 'watermelon', 'guava', 'apricot', 'tomato', 'cherry']\n",
      "['apple', ['musk', 'melons'], 'banana', 'cherry']\n",
      "['apple', 'musk', 'melons', 'banana', 'cherry']\n"
     ]
    }
   ],
   "source": [
    "fruits = ['apple', 'banana', 'cherry']\n",
    "veg_list = [\"potato\", \"onion\", \"capsicum\"]\n",
    "fruits = fruits + veg_list  # concats only list with list\n",
    "print(fruits)\n",
    "\n",
    "fruits = ['apple', 'banana', 'cherry']\n",
    "fruits.insert(1, \"orange\")  # An element of any type (string, number, object etc.)\n",
    "print(fruits)\n",
    "\n",
    "thislist = [\"apple\", \"banana\", \"cherry\"]\n",
    "thislist[1:2] = [\"watermelon\", \"guava\", \"apricot\", \"tomato\"]    # RHS could be any collection. LHS will be list\n",
    "print(thislist)\n",
    "\n",
    "fruits = ['apple', 'banana', 'cherry']\n",
    "put = [\"musk\", \"melons\"]\n",
    "fruits.insert(1, put)\n",
    "print(fruits)\n",
    "\n",
    "\n",
    "fruits = ['apple', 'banana', 'cherry']\n",
    "put = [\"musk\", \"melons\"]\n",
    "fruits[1:1] = put\n",
    "print(fruits)"
   ]
  },
  {
   "cell_type": "code",
   "execution_count": 6,
   "metadata": {},
   "outputs": [
    {
     "name": "stdout",
     "output_type": "stream",
     "text": [
      "[]\n",
      "['apple', 'cherry'] banana\n",
      "cherry\n",
      "['apple', 'cherry']\n"
     ]
    }
   ],
   "source": [
    "fruits = ['apple', 'banana', 'cherry', 'orange']\n",
    "fruits.clear()  # to remove ALL ELEMENTS from the list\n",
    "print(fruits)\n",
    "\n",
    "fruits = ['apple', 'banana', 'cherry']\n",
    "x = fruits.pop(1)   # list.pop([pos]) --> pos default value is -1, which returns the last item. returns removed value (x).\n",
    "print(fruits, x)\n",
    "x=fruits.pop()\n",
    "print(x)\n",
    "fruits = []\n",
    "#x = fruits.pop()   # it will throw IndexError because the list is empty.\n",
    "\n",
    "fruits = ['apple', 'banana', 'cherry']\n",
    "fruits.remove(\"banana\") # removes the first occurrence of the element with the REQUIRED specified value. Required. Any type (string, number, list etc.) \n",
    "                        # The element you want to remove. Throws error if element to be removed does not exists in the list.\n",
    "print(fruits)"
   ]
  },
  {
   "cell_type": "code",
   "execution_count": 7,
   "metadata": {},
   "outputs": [
    {
     "name": "stdout",
     "output_type": "stream",
     "text": [
      "['apple', 'banana', 'cherry', 'orange']\n",
      "['apple', 'banana', 'cherry', 'orange']\n"
     ]
    }
   ],
   "source": [
    "fruits = ['apple', 'banana', 'cherry', 'orange']\n",
    "x = fruits.copy()\n",
    "print(x)\n",
    "\n",
    "# list1 = list2     this list1 is just a reference to list2. To copy the list2 into list1, use .copy()\n",
    "newfruits = list(fruits)    # another way of list copying\n",
    "print(newfruits)"
   ]
  },
  {
   "cell_type": "code",
   "execution_count": 8,
   "metadata": {},
   "outputs": [
    {
     "name": "stdout",
     "output_type": "stream",
     "text": [
      "1\n"
     ]
    }
   ],
   "source": [
    "fruits = ['apple', 'banana', 'cherry']\n",
    "x = fruits.count(\"cherry\")  # Required. Any type (string, number, list, tuple, etc.). The value to search for.\n",
    "print(x)"
   ]
  },
  {
   "cell_type": "code",
   "execution_count": 9,
   "metadata": {},
   "outputs": [
    {
     "name": "stdout",
     "output_type": "stream",
     "text": [
      "1\n"
     ]
    }
   ],
   "source": [
    "fruits = ['apple', 'cherry', 'banana', 'cherry']\n",
    "x = fruits.index(\"cherry\")  # list.index(elmnt[[,start][,end]]) . elmnt is Required. Any type (string, number, list, etc.). \n",
    "# The element to search for. only returns the first occurrence of the value. It throws error if elemnt to be searched doesn't exist in the list.\n",
    "print(x)"
   ]
  },
  {
   "cell_type": "code",
   "execution_count": 10,
   "metadata": {},
   "outputs": [
    {
     "data": {
      "text/plain": [
       "['__add__',\n",
       " '__class__',\n",
       " '__class_getitem__',\n",
       " '__contains__',\n",
       " '__delattr__',\n",
       " '__delitem__',\n",
       " '__dir__',\n",
       " '__doc__',\n",
       " '__eq__',\n",
       " '__format__',\n",
       " '__ge__',\n",
       " '__getattribute__',\n",
       " '__getitem__',\n",
       " '__gt__',\n",
       " '__hash__',\n",
       " '__iadd__',\n",
       " '__imul__',\n",
       " '__init__',\n",
       " '__init_subclass__',\n",
       " '__iter__',\n",
       " '__le__',\n",
       " '__len__',\n",
       " '__lt__',\n",
       " '__mul__',\n",
       " '__ne__',\n",
       " '__new__',\n",
       " '__reduce__',\n",
       " '__reduce_ex__',\n",
       " '__repr__',\n",
       " '__reversed__',\n",
       " '__rmul__',\n",
       " '__setattr__',\n",
       " '__setitem__',\n",
       " '__sizeof__',\n",
       " '__str__',\n",
       " '__subclasshook__',\n",
       " 'append',\n",
       " 'clear',\n",
       " 'copy',\n",
       " 'count',\n",
       " 'extend',\n",
       " 'index',\n",
       " 'insert',\n",
       " 'pop',\n",
       " 'remove',\n",
       " 'reverse',\n",
       " 'sort']"
      ]
     },
     "execution_count": 10,
     "metadata": {},
     "output_type": "execute_result"
    }
   ],
   "source": [
    "dir(fruits)"
   ]
  },
  {
   "cell_type": "code",
   "execution_count": 11,
   "metadata": {},
   "outputs": [
    {
     "name": "stdout",
     "output_type": "stream",
     "text": [
      "['cherry', 'banana', 'apple', 'elephant', 'zebra']\n"
     ]
    }
   ],
   "source": [
    "fruits = ['zebra', 'elephant', 'apple', 'banana', 'cherry']\n",
    "fruits.reverse()    # reverses list\n",
    "print(fruits)"
   ]
  },
  {
   "cell_type": "code",
   "execution_count": 12,
   "metadata": {},
   "outputs": [
    {
     "name": "stdout",
     "output_type": "stream",
     "text": [
      "None\n",
      "['cherry', 'banana', 'apple', 'elephant', 'zebra', 'nashpati']\n"
     ]
    }
   ],
   "source": [
    "fruits = ['zebra', 'elephant', 'apple', 'banana', 'cherry']\n",
    "rev = fruits.reverse()    # reverses list inplace but doesn't returns anything\n",
    "fruits.append('nashpati')\n",
    "print(rev)\n",
    "print(fruits)"
   ]
  },
  {
   "cell_type": "code",
   "execution_count": 1,
   "metadata": {},
   "outputs": [
    {
     "name": "stdout",
     "output_type": "stream",
     "text": [
      "['f', 'h', 'b', 'a', 'd', 'nashpati']\n",
      "<list_reverseiterator object at 0x7ff2329fe610>\n",
      "a\n",
      "b\n",
      "h\n",
      "f\n",
      "****\n",
      "apple\n",
      "banana\n",
      "cherry\n",
      "2\n",
      "4\n",
      "8\n"
     ]
    }
   ],
   "source": [
    "alph = [\"b\", \"a\", \"c\", \"d\"]\n",
    "ralph = reversed(alph)  # (<any iterable object>)  .returns a reversed iterator (fixed sized window w/ reverse object logicc) object, not a list. \n",
    "                        # Original list won't get affected\n",
    "alph.append('nashpati')\n",
    "alph.pop(2) # reversed(list) returns the new reversed object that reference the input list of length len(list)\n",
    "# If any change happens, then it will reference the list of length len(list)\n",
    "alph[0:0] = ['f', 'h']\n",
    "print(alph)\n",
    "print(ralph)\n",
    "for ele in ralph:\n",
    "    print(ele)\n",
    "\n",
    "print(\"*\"*4)\n",
    "\n",
    "x = iter([\"apple\", \"banana\", \"cherry\"]) # iter(object, [sentinel])\n",
    "# object is iterable object. sentinel is the part of callable iterator object where the iteration will stop when the value to return is the same as the sentinel \n",
    "# returns an iterator object. Its is special value that is used to represent the end of a sequence.\n",
    "print(next(x))\n",
    "print(next(x))\n",
    "print(next(x))\n",
    "# print(next(x))\n",
    "\n",
    "class DoubleIt:\n",
    "    def __init__(self):\n",
    "        self.start = 1\n",
    "\n",
    "    def __iter__(self):\n",
    "        return self\n",
    "\n",
    "    def __next__(self):\n",
    "        self.start *= 2\n",
    "        return self.start\n",
    "\n",
    "    __call__ = __next__ # Here we make the object callable, if we are providing the sentinel, beacuse sentinel requires the callable object.\n",
    "\n",
    "# If sentinel is given then the first parameter should be callable. If the the first object is not callable, then we make it callable.\n",
    "# If sentinel is reached then the StopIteration is raised. Sentinal is not sent back.\n",
    "my_iter = iter(DoubleIt(), 16)\n",
    "for x in my_iter:\n",
    "    print(x)"
   ]
  },
  {
   "cell_type": "code",
   "execution_count": 14,
   "metadata": {},
   "outputs": [
    {
     "name": "stdout",
     "output_type": "stream",
     "text": [
      "1\n",
      "2\n",
      "3\n",
      "4\n",
      "5\n",
      "6\n"
     ]
    }
   ],
   "source": [
    "lst = [1,2,3,4,5,6]\n",
    "itr = iter(lst)\n",
    "for ele in itr:\n",
    "    print(ele)"
   ]
  },
  {
   "cell_type": "code",
   "execution_count": 15,
   "metadata": {},
   "outputs": [
    {
     "name": "stdout",
     "output_type": "stream",
     "text": [
      "['BMW', 'Ford', 'Volvo']\n",
      "['Volvo', 'Ford', 'BMW']\n",
      "['VW', 'BMW', 'Ford', 'Mitsubishi']\n",
      "[{'car': 'Mitsubishi', 'year': 2000}, {'car': 'Ford', 'year': 2005}, {'car': 'VW', 'year': 2011}, {'car': 'BMW', 'year': 2019}]\n",
      "['Mitsubishi', 'Ford', 'BMW', 'VW']\n"
     ]
    }
   ],
   "source": [
    "cars = ['Ford', 'BMW', 'Volvo']\n",
    "cars.sort() # list.sort([reverse=True|False], [key=myFunc]) . key can be the function to specify the sorting criteria(s). \n",
    "            # sorting by defalult, w/o key, is following ascii character sorting. A->a->0. So, use (key=str.lower)\n",
    "print(cars)\n",
    "\n",
    "cars = ['Ford', 'BMW', 'Volvo']\n",
    "cars.sort(reverse=True)\n",
    "print(cars)\n",
    "\n",
    "def myFunc(e):\n",
    "  return len(e)\n",
    "cars = ['Ford', 'Mitsubishi', 'BMW', 'VW']\n",
    "cars.sort(key=myFunc)\n",
    "print(cars)\n",
    "\n",
    "\n",
    "def myFunc(e):\n",
    "  return e['year']\n",
    "cars = [\n",
    "  {'car': 'Ford', 'year': 2005},\n",
    "  {'car': 'Mitsubishi', 'year': 2000},\n",
    "  {'car': 'BMW', 'year': 2019},\n",
    "  {'car': 'VW', 'year': 2011}\n",
    "]\n",
    "cars.sort(key=myFunc)\n",
    "print(cars)\n",
    "\n",
    "def myFunc(e):\n",
    "  return len(e)\n",
    "cars = ['Ford', 'Mitsubishi', 'BMW', 'VW']\n",
    "cars.sort(reverse=True, key=myFunc)\n",
    "print(cars)"
   ]
  },
  {
   "cell_type": "markdown",
   "metadata": {},
   "source": [
    "# List Comprehension\n",
    "List comprehension offers a shorter syntax when you want to create a new list based on the values of an existing list.\n",
    "The expression is the current item in the iteration, but it is also the outcome, which you can manipulate before it ends up like a list item in the new list\n",
    "\n",
    "<code>newlist = \\[expression or ternary expression for item in iterable if condition == True\\]</code>"
   ]
  },
  {
   "cell_type": "code",
   "execution_count": 16,
   "metadata": {},
   "outputs": [
    {
     "name": "stdout",
     "output_type": "stream",
     "text": [
      "['apple', 'banana', 'mango']\n"
     ]
    }
   ],
   "source": [
    "# w/o LC\n",
    "fruits = [\"apple\", \"banana\", \"cherry\", \"kiwi\", \"mango\"]\n",
    "newlist = []\n",
    "for x in fruits:\n",
    "  if \"a\" in x:\n",
    "    newlist.append(x)\n",
    "print(newlist) "
   ]
  },
  {
   "cell_type": "code",
   "execution_count": 17,
   "metadata": {},
   "outputs": [
    {
     "name": "stdout",
     "output_type": "stream",
     "text": [
      "['apple', 'banana', 'mango']\n",
      "['APPLE', 'BANANA', 'CHERRY', 'KIWI', 'MANGO']\n",
      "['hello', 'hello', 'hello', 'hello', 'hello']\n",
      "['apple', 'orange', 'cherry', 'kiwi', 'mango']\n",
      "apple\n",
      "banana\n",
      "cherry\n",
      "kiwi\n",
      "mango\n",
      "[None, None, None, None, None]\n"
     ]
    }
   ],
   "source": [
    "# w/ LC\n",
    "fruits = [\"apple\", \"banana\", \"cherry\", \"kiwi\", \"mango\"]\n",
    "newlist = [x for x in fruits if \"a\" in x]\n",
    "print(newlist)\n",
    "newlist = [x.upper() for x in fruits]\n",
    "print(newlist)\n",
    "newlist = ['hello' for x in fruits]\n",
    "print(newlist)\n",
    "newlist = [x if x != \"banana\" else \"orange\" for x in fruits]\n",
    "print(newlist)\n",
    "newlist = [print(x) for x in fruits]\n",
    "print(newlist)"
   ]
  },
  {
   "cell_type": "code",
   "execution_count": 18,
   "metadata": {},
   "outputs": [
    {
     "name": "stdout",
     "output_type": "stream",
     "text": [
      "['a', 'b', 'c']\n"
     ]
    }
   ],
   "source": [
    "# Removing duplicates from the list\n",
    "mylist = [\"a\", \"b\", \"a\", \"c\", \"c\"]\n",
    "mylist = list(dict.fromkeys(mylist))\n",
    "print(mylist) "
   ]
  },
  {
   "cell_type": "code",
   "execution_count": 19,
   "metadata": {
    "scrolled": true
   },
   "outputs": [
    {
     "name": "stdout",
     "output_type": "stream",
     "text": [
      "Flat List :  [1, 2, 3, 4, 5, 11, 22, 33, 44, 55, 17, 18, 19, 20, 21]\n",
      "Flat List :  [1, 2, 3, 4, 5, 11, 22, 33, 44, 55, 17, 18, 19, 20, 21]\n"
     ]
    }
   ],
   "source": [
    "listOfList = [ [1, 2, 3, 4, 5],\n",
    "                [11, 22, 33, 44, 55],\n",
    "                [17, 18, 19, 20, 21] ]\n",
    "flatList = [ item for elem in listOfList for item in elem]\n",
    "print('Flat List : ', flatList)\n",
    "\n",
    "flatList = []\n",
    "for elem in listOfList:\n",
    "    flatList.extend(elem)\n",
    "print('Flat List : ', flatList)"
   ]
  },
  {
   "cell_type": "code",
   "execution_count": 20,
   "metadata": {},
   "outputs": [
    {
     "name": "stdout",
     "output_type": "stream",
     "text": [
      "[1, 2, 3, 4, 5, 11, 22, 33, 44, 55, 17, 18, 19, 20, 21, 1, 2, 3, 4, 5, 11, 22, 33, 44, 55, 17, 18, 19, 20, 21]\n"
     ]
    },
    {
     "ename": "TypeError",
     "evalue": "can only concatenate list (not \"int\") to list",
     "output_type": "error",
     "traceback": [
      "\u001b[0;31m---------------------------------------------------------------------------\u001b[0m",
      "\u001b[0;31mTypeError\u001b[0m                                 Traceback (most recent call last)",
      "\u001b[0;32m/tmp/ipykernel_13836/2073403005.py\u001b[0m in \u001b[0;36m<module>\u001b[0;34m\u001b[0m\n\u001b[1;32m      2\u001b[0m \u001b[0mprint\u001b[0m\u001b[0;34m(\u001b[0m\u001b[0mlst\u001b[0m\u001b[0;34m*\u001b[0m\u001b[0;36m2\u001b[0m\u001b[0;34m)\u001b[0m\u001b[0;34m\u001b[0m\u001b[0;34m\u001b[0m\u001b[0m\n\u001b[1;32m      3\u001b[0m \u001b[0;34m\u001b[0m\u001b[0m\n\u001b[0;32m----> 4\u001b[0;31m \u001b[0mprint\u001b[0m\u001b[0;34m(\u001b[0m\u001b[0mlst\u001b[0m\u001b[0;34m+\u001b[0m\u001b[0;36m2\u001b[0m\u001b[0;34m)\u001b[0m\u001b[0;34m\u001b[0m\u001b[0;34m\u001b[0m\u001b[0m\n\u001b[0m",
      "\u001b[0;31mTypeError\u001b[0m: can only concatenate list (not \"int\") to list"
     ]
    }
   ],
   "source": [
    "lst = [1, 2, 3, 4, 5, 11, 22, 33, 44, 55, 17, 18, 19, 20, 21]\n",
    "print(lst*2)\n",
    "\n",
    "print(lst+2)"
   ]
  },
  {
   "cell_type": "code",
   "execution_count": 3,
   "metadata": {},
   "outputs": [
    {
     "name": "stdout",
     "output_type": "stream",
     "text": [
      "[1, 2, 3, 4, 5] [6, 7, 8, 9, 10] [11, 12, 13, 14, 15]\n",
      "1 2 3 4 5 6 7 8 9 10 11 12 13 14 15\n",
      "range(0, 10)\n",
      "range(0, 10)\n"
     ]
    }
   ],
   "source": [
    "lst1=[i for i in range(1,6)]\n",
    "lst2=[i for i in range(6,11)]\n",
    "lst3=[i for i in range(11,16)]\n",
    "\n",
    "print(lst1, lst2, lst3)\n",
    "print(*lst1, *lst2, *lst3)\n",
    "\n",
    "# range() is just an iterable. It is not list. for it to be list(or any other iterable), it needs to gets converted to that desired iteratble\n",
    "print(range(10))\n",
    "lst=range(10)\n",
    "print(lst)"
   ]
  },
  {
   "cell_type": "markdown",
   "metadata": {},
   "source": [
    "[x for x in range() if func_retus_bool(attr)]"
   ]
  },
  {
   "cell_type": "code",
   "execution_count": 21,
   "metadata": {},
   "outputs": [
    {
     "name": "stdout",
     "output_type": "stream",
     "text": [
      "Variable     Type                    Data/Info\n",
      "----------------------------------------------\n",
      "DoubleIt     type                    <class '__main__.DoubleIt'>\n",
      "alph         list                    n=6\n",
      "b            list                    n=3\n",
      "car          dict                    n=4\n",
      "cars         list                    n=4\n",
      "ele          int                     6\n",
      "elem         list                    n=5\n",
      "flatList     list                    n=15\n",
      "fruits       list                    n=5\n",
      "itr          list_iterator           <list_iterator object at 0x7fac5d62c5b0>\n",
      "listOfList   list                    n=3\n",
      "lst          list                    n=15\n",
      "myFunc       function                <function myFunc at 0x7fac6c0a7940>\n",
      "my_iter      callable_iterator       <callable_iterator object at 0x7fac5d62ed00>\n",
      "mylist       list                    n=3\n",
      "newfruits    list                    n=4\n",
      "newlist      list                    n=5\n",
      "os           module                  <module 'os' from '/home/<...>da3/lib/python3.9/os.py'>\n",
      "points       tuple                   n=4\n",
      "put          list                    n=2\n",
      "ralph        list_reverseiterator    <list_reverseiterator object at 0x7fac6c162580>\n",
      "rev          NoneType                None\n",
      "sys          module                  <module 'sys' (built-in)>\n",
      "thislist     list                    n=6\n",
      "veg_list     list                    n=3\n",
      "veg_tup      tuple                   n=3\n",
      "x            str                     mango\n"
     ]
    }
   ],
   "source": [
    "whos"
   ]
  }
 ],
 "metadata": {
  "interpreter": {
   "hash": "a6570200391abd47b22bafa3ab36aba8327b6bca09374d4d4cb5f21cfca217ce"
  },
  "kernelspec": {
   "display_name": "Python 3.9.5 64-bit ('base': conda)",
   "name": "python3"
  },
  "language_info": {
   "codemirror_mode": {
    "name": "ipython",
    "version": 3
   },
   "file_extension": ".py",
   "mimetype": "text/x-python",
   "name": "python",
   "nbconvert_exporter": "python",
   "pygments_lexer": "ipython3",
   "version": "3.9.5"
  },
  "metadata": {
   "interpreter": {
    "hash": "a6570200391abd47b22bafa3ab36aba8327b6bca09374d4d4cb5f21cfca217ce"
   }
  }
 },
 "nbformat": 4,
 "nbformat_minor": 2
}
