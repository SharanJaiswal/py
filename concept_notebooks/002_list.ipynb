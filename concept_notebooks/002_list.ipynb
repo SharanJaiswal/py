{
 "cells": [
  {
   "cell_type": "markdown",
   "source": [
    "# LIST\n",
    "Ordered, Indexed and Changeable. Allows duplicate. Elements can be of any data type."
   ],
   "metadata": {}
  },
  {
   "cell_type": "code",
   "execution_count": 3,
   "source": [
    "# list.append(elmnt) (element can be string, number, object etc.)\n",
    "fruits = ['apple', 'banana', 'cherry']\n",
    "fruits.append(\"orange\")\n",
    "print(fruits)\n",
    "b = [\"Ford\", \"BMW\", \"Volvo\"]\n",
    "fruits.append(b)\n",
    "print(fruits)\n",
    "\n",
    "fruits = ['apple', 'banana', 'cherry']\n",
    "cars = ['Ford', 'BMW', 'Volvo']\n",
    "fruits.extend(cars) # iterable will be in the (). Required. Any iterable (list, set, tuple, etc.)\n",
    "print(fruits)\n",
    "fruits = ['apple', 'banana', 'cherry']\n",
    "points = (1, 4, 5, 9)\n",
    "fruits.extend(points)\n",
    "print(fruits)\n",
    "\n",
    "fruits = ['apple', 'banana', 'cherry']\n",
    "car = {\"brand\": \"Ford\", \"model\": \"Mustang\",  \"year\": 1964}\n",
    "fruits.extend(car)\n",
    "print(fruits)\n",
    "\n",
    "fruits = ['apple', 'banana', 'cherry']\n",
    "veg_tup = (\"potato\", \"onion\", \"capsicum\")\n",
    "fruits.extend(veg_tup)\n",
    "print(fruits)"
   ],
   "outputs": [
    {
     "output_type": "stream",
     "name": "stdout",
     "text": [
      "['apple', 'banana', 'cherry', 'orange']\n",
      "['apple', 'banana', 'cherry', 'orange', ['Ford', 'BMW', 'Volvo']]\n",
      "['apple', 'banana', 'cherry', 'Ford', 'BMW', 'Volvo']\n",
      "['apple', 'banana', 'cherry', 1, 4, 5, 9]\n",
      "['apple', 'banana', 'cherry', 'brand', 'model', 'year']\n",
      "['apple', 'banana', 'cherry', 'potato', 'onion', 'capsicum']\n"
     ]
    }
   ],
   "metadata": {}
  },
  {
   "cell_type": "code",
   "execution_count": 4,
   "source": [
    "fruits = ['apple', 'banana', 'cherry']\n",
    "veg_list = [\"potato\", \"onion\", \"capsicum\"]\n",
    "fruits = fruits + veg_list  # concats only list with list\n",
    "print(fruits)\n",
    "\n",
    "fruits = ['apple', 'banana', 'cherry']\n",
    "fruits.insert(1, \"orange\")  # An element of any type (string, number, object etc.)\n",
    "print(fruits)\n",
    "\n",
    "thislist = [\"apple\", \"banana\", \"cherry\"]\n",
    "thislist[1:2] = [\"watermelon\", \"guava\", \"apricot\", \"tomato\"]    # RHS could be any collection. LHS will be list\n",
    "print(thislist)\n",
    "\n",
    "fruits = ['apple', 'banana', 'cherry']\n",
    "put = [\"musk\", \"melons\"]\n",
    "fruits.insert(1, put)\n",
    "print(fruits)\n",
    "\n",
    "\n",
    "fruits = ['apple', 'banana', 'cherry']\n",
    "put = [\"musk\", \"melons\"]\n",
    "fruits[1:1] = put\n",
    "print(fruits)"
   ],
   "outputs": [
    {
     "output_type": "stream",
     "name": "stdout",
     "text": [
      "['apple', 'banana', 'cherry', 'potato', 'onion', 'capsicum']\n",
      "['apple', 'orange', 'banana', 'cherry']\n",
      "['apple', 'watermelon', 'guava', 'apricot', 'tomato', 'cherry']\n",
      "['apple', ['musk', 'melons'], 'banana', 'cherry']\n",
      "['apple', 'musk', 'melons', 'banana', 'cherry']\n"
     ]
    }
   ],
   "metadata": {}
  },
  {
   "cell_type": "code",
   "execution_count": 5,
   "source": [
    "fruits = ['apple', 'banana', 'cherry', 'orange']\n",
    "fruits.clear()  # to remove ALL ELEMENTS from the list\n",
    "print(fruits)\n",
    "\n",
    "fruits = ['apple', 'banana', 'cherry']\n",
    "x = fruits.pop(1)   # list.pop([pos]) --> pos default value is -1, which returns the last item. returns removed value (x).\n",
    "print(fruits, x)\n",
    "x=fruits.pop()\n",
    "print(x)\n",
    "fruits = []\n",
    "#x = fruits.pop()   # it will throw IndexError because the list is empty.\n",
    "\n",
    "fruits = ['apple', 'banana', 'cherry']\n",
    "fruits.remove(\"banana\") # removes the first occurrence of the element with the REQUIRED specified value. Required. Any type (string, number, list etc.) The element you want to remove. Throws error if element to be removed does not exists in the list.\n",
    "print(fruits)"
   ],
   "outputs": [
    {
     "output_type": "stream",
     "name": "stdout",
     "text": [
      "[]\n",
      "['apple', 'cherry'] banana\n",
      "cherry\n",
      "['apple', 'cherry']\n"
     ]
    }
   ],
   "metadata": {}
  },
  {
   "cell_type": "code",
   "execution_count": 6,
   "source": [
    "fruits = ['apple', 'banana', 'cherry', 'orange']\n",
    "x = fruits.copy()\n",
    "print(x)\n",
    "\n",
    "# list1 = list2     this list1 is just a reference to list2. To copy the list2 into list1, use .copy()\n",
    "newfruits = list(fruits)    # another way of list copying\n",
    "print(newfruits)"
   ],
   "outputs": [
    {
     "output_type": "stream",
     "name": "stdout",
     "text": [
      "['apple', 'banana', 'cherry', 'orange']\n",
      "['apple', 'banana', 'cherry', 'orange']\n"
     ]
    }
   ],
   "metadata": {}
  },
  {
   "cell_type": "code",
   "execution_count": 7,
   "source": [
    "fruits = ['apple', 'banana', 'cherry']\n",
    "x = fruits.count(\"cherry\")  # Required. Any type (string, number, list, tuple, etc.). The value to search for.\n",
    "print(x)"
   ],
   "outputs": [
    {
     "output_type": "stream",
     "name": "stdout",
     "text": [
      "1\n"
     ]
    }
   ],
   "metadata": {}
  },
  {
   "cell_type": "code",
   "execution_count": 8,
   "source": [
    "fruits = ['apple', 'cherry', 'banana', 'cherry']\n",
    "x = fruits.index(\"cherry\")  # list.index(elmnt[[,start][,end]]) . elmnt is Required. Any type (string, number, list, etc.). The element to search for. only returns the first occurrence of the value. It throws error if elemnt to be searched doesn't exist in the list.\n",
    "print(x)"
   ],
   "outputs": [
    {
     "output_type": "stream",
     "name": "stdout",
     "text": [
      "1\n"
     ]
    }
   ],
   "metadata": {}
  },
  {
   "cell_type": "code",
   "execution_count": 9,
   "source": [
    "dir(fruits)"
   ],
   "outputs": [
    {
     "output_type": "execute_result",
     "data": {
      "text/plain": [
       "['__add__',\n",
       " '__class__',\n",
       " '__contains__',\n",
       " '__delattr__',\n",
       " '__delitem__',\n",
       " '__dir__',\n",
       " '__doc__',\n",
       " '__eq__',\n",
       " '__format__',\n",
       " '__ge__',\n",
       " '__getattribute__',\n",
       " '__getitem__',\n",
       " '__gt__',\n",
       " '__hash__',\n",
       " '__iadd__',\n",
       " '__imul__',\n",
       " '__init__',\n",
       " '__init_subclass__',\n",
       " '__iter__',\n",
       " '__le__',\n",
       " '__len__',\n",
       " '__lt__',\n",
       " '__mul__',\n",
       " '__ne__',\n",
       " '__new__',\n",
       " '__reduce__',\n",
       " '__reduce_ex__',\n",
       " '__repr__',\n",
       " '__reversed__',\n",
       " '__rmul__',\n",
       " '__setattr__',\n",
       " '__setitem__',\n",
       " '__sizeof__',\n",
       " '__str__',\n",
       " '__subclasshook__',\n",
       " 'append',\n",
       " 'clear',\n",
       " 'copy',\n",
       " 'count',\n",
       " 'extend',\n",
       " 'index',\n",
       " 'insert',\n",
       " 'pop',\n",
       " 'remove',\n",
       " 'reverse',\n",
       " 'sort']"
      ]
     },
     "metadata": {},
     "execution_count": 9
    }
   ],
   "metadata": {}
  },
  {
   "cell_type": "code",
   "execution_count": 10,
   "source": [
    "fruits = ['zebra', 'elephant', 'apple', 'banana', 'cherry']\n",
    "fruits.reverse()    # reverses list\n",
    "print(fruits)"
   ],
   "outputs": [
    {
     "output_type": "stream",
     "name": "stdout",
     "text": [
      "['cherry', 'banana', 'apple', 'elephant', 'zebra']\n"
     ]
    }
   ],
   "metadata": {}
  },
  {
   "cell_type": "code",
   "execution_count": 11,
   "source": [
    "fruits = ['zebra', 'elephant', 'apple', 'banana', 'cherry']\n",
    "rev = fruits.reverse()    # reverses list\n",
    "fruits.append('nashpati')\n",
    "print(rev)"
   ],
   "outputs": [
    {
     "output_type": "stream",
     "name": "stdout",
     "text": [
      "None\n"
     ]
    }
   ],
   "metadata": {}
  },
  {
   "cell_type": "code",
   "execution_count": 34,
   "source": [
    "alph = [\"b\", \"a\", \"c\", \"d\"]\n",
    "ralph = reversed(alph)  # (<any iterable object>)  .returns a reversed iterator object, not a list. Original list won't get affected\n",
    "alph.append('nashpati')\n",
    "alph.pop(2) # reversed(list) returns the new reversed object that reference the input list of length len(list)\n",
    "# If any change happens, then it will reference the list of length len(list)\n",
    "alph[0:0] = ['f', 'h']\n",
    "print(alph)\n",
    "print(ralph)\n",
    "for ele in ralph:\n",
    "    print(ele)\n",
    "\n",
    "x = iter([\"apple\", \"banana\", \"cherry\"]) # iter(object, [sentinel])  . object is iterable object. sentinel is the object is a callable object the iteration will stop when the returned value is the same as the sentinel  returns an iterator object. Its is special value that is used to represent the end of a sequence.\n",
    "print(next(x))\n",
    "print(next(x))\n",
    "print(next(x))\n",
    "# print(next(x))\n",
    "\n",
    "class DoubleIt:\n",
    "    def __init__(self):\n",
    "        self.start = 1\n",
    "\n",
    "    def __iter__(self):\n",
    "        return self\n",
    "\n",
    "    def __next__(self):\n",
    "        self.start *= 2\n",
    "        return self.start\n",
    "\n",
    "    __call__ = __next__ # Here we make the obkect callable, if we are providing the sentinel, beacuse sentinel requires the callable object.\n",
    "\n",
    "# If sentinel is given then the first parameter should be callable. If the the first object is not callable, then we make it callable.\n",
    "# If sentinel is reached then the StopIteration is raised. Sentinal is not sent back.\n",
    "my_iter = iter(DoubleIt(), 16)\n",
    "for x in my_iter:\n",
    "    print(x)"
   ],
   "outputs": [
    {
     "output_type": "stream",
     "name": "stdout",
     "text": [
      "['f', 'h', 'b', 'a', 'd', 'nashpati']\n",
      "<list_reverseiterator object at 0x7f4058305fd0>\n",
      "a\n",
      "b\n",
      "h\n",
      "f\n",
      "apple\n",
      "banana\n",
      "cherry\n",
      "2\n",
      "4\n",
      "8\n"
     ]
    }
   ],
   "metadata": {}
  },
  {
   "cell_type": "code",
   "execution_count": 27,
   "source": [
    "lst = [1,2,3,4,5,6]\n",
    "itr = iter(lst)\n",
    "for ele in itr:\n",
    "    print(ele)"
   ],
   "outputs": [
    {
     "output_type": "stream",
     "name": "stdout",
     "text": [
      "1\n",
      "2\n",
      "3\n",
      "4\n",
      "5\n",
      "6\n"
     ]
    }
   ],
   "metadata": {}
  },
  {
   "cell_type": "code",
   "execution_count": 13,
   "source": [
    "cars = ['Ford', 'BMW', 'Volvo']\n",
    "cars.sort() # list.sort([reverse=True|False], [key=myFunc]) . key can be the function to specify the sorting criteria(s). sorting by defalult, w/o key, is following ascii character sorting. A->a->0. So, use (key=str.lower)\n",
    "print(cars)\n",
    "\n",
    "cars = ['Ford', 'BMW', 'Volvo']\n",
    "cars.sort(reverse=True)\n",
    "print(cars)\n",
    "\n",
    "def myFunc(e):\n",
    "  return len(e)\n",
    "cars = ['Ford', 'Mitsubishi', 'BMW', 'VW']\n",
    "cars.sort(key=myFunc)\n",
    "print(cars)\n",
    "\n",
    "\n",
    "def myFunc(e):\n",
    "  return e['year']\n",
    "cars = [\n",
    "  {'car': 'Ford', 'year': 2005},\n",
    "  {'car': 'Mitsubishi', 'year': 2000},\n",
    "  {'car': 'BMW', 'year': 2019},\n",
    "  {'car': 'VW', 'year': 2011}\n",
    "]\n",
    "cars.sort(key=myFunc)\n",
    "print(cars)\n",
    "\n",
    "def myFunc(e):\n",
    "  return len(e)\n",
    "cars = ['Ford', 'Mitsubishi', 'BMW', 'VW']\n",
    "cars.sort(reverse=True, key=myFunc)\n",
    "print(cars)"
   ],
   "outputs": [
    {
     "output_type": "stream",
     "name": "stdout",
     "text": [
      "['BMW', 'Ford', 'Volvo']\n",
      "['Volvo', 'Ford', 'BMW']\n",
      "['VW', 'BMW', 'Ford', 'Mitsubishi']\n",
      "[{'car': 'Mitsubishi', 'year': 2000}, {'car': 'Ford', 'year': 2005}, {'car': 'VW', 'year': 2011}, {'car': 'BMW', 'year': 2019}]\n",
      "['Mitsubishi', 'Ford', 'BMW', 'VW']\n"
     ]
    }
   ],
   "metadata": {}
  },
  {
   "cell_type": "markdown",
   "source": [
    "# List Comprehension\n",
    "List comprehension offers a shorter syntax when you want to create a new list based on the values of an existing list.\n",
    "The expression is the current item in the iteration, but it is also the outcome, which you can manipulate before it ends up like a list item in the new list\n",
    "\n",
    "<code>newlist = \\[expression for item in iterable if condition == True\\]</code>"
   ],
   "metadata": {}
  },
  {
   "cell_type": "code",
   "execution_count": 14,
   "source": [
    "# w/o LC\n",
    "fruits = [\"apple\", \"banana\", \"cherry\", \"kiwi\", \"mango\"]\n",
    "newlist = []\n",
    "for x in fruits:\n",
    "  if \"a\" in x:\n",
    "    newlist.append(x)\n",
    "print(newlist) "
   ],
   "outputs": [
    {
     "output_type": "stream",
     "name": "stdout",
     "text": [
      "['apple', 'banana', 'mango']\n"
     ]
    }
   ],
   "metadata": {}
  },
  {
   "cell_type": "code",
   "execution_count": 15,
   "source": [
    "# w/ LC\n",
    "fruits = [\"apple\", \"banana\", \"cherry\", \"kiwi\", \"mango\"]\n",
    "newlist = [x for x in fruits if \"a\" in x]\n",
    "print(newlist)\n",
    "newlist = [x.upper() for x in fruits]\n",
    "newlist = ['hello' for x in fruits]\n",
    "newlist = [x if x != \"banana\" else \"orange\" for x in fruits]\n",
    "newlist = [print(x) for x in fruits]"
   ],
   "outputs": [
    {
     "output_type": "stream",
     "name": "stdout",
     "text": [
      "['apple', 'banana', 'mango']\n",
      "apple\n",
      "banana\n",
      "cherry\n",
      "kiwi\n",
      "mango\n"
     ]
    }
   ],
   "metadata": {}
  },
  {
   "cell_type": "code",
   "execution_count": 16,
   "source": [
    "# Removing duplicates from the list\n",
    "mylist = [\"a\", \"b\", \"a\", \"c\", \"c\"]\n",
    "mylist = list(dict.fromkeys(mylist))\n",
    "print(mylist) "
   ],
   "outputs": [
    {
     "output_type": "stream",
     "name": "stdout",
     "text": [
      "['a', 'b', 'c']\n"
     ]
    }
   ],
   "metadata": {}
  },
  {
   "cell_type": "code",
   "execution_count": 17,
   "source": [
    "listOfList = [ [1, 2, 3, 4, 5],\n",
    "                [11, 22, 33, 44, 55],\n",
    "                [17, 18, 19, 20, 21] ]\n",
    "flatList = [ item for elem in listOfList for item in elem]\n",
    "print('Flat List : ', flatList)\n",
    "\n",
    "flatList = []\n",
    "for elem in listOfList:\n",
    "    flatList.extend(elem)\n",
    "print('Flat List : ', flatList)"
   ],
   "outputs": [
    {
     "output_type": "stream",
     "name": "stdout",
     "text": [
      "Flat List :  [1, 2, 3, 4, 5, 11, 22, 33, 44, 55, 17, 18, 19, 20, 21]\n",
      "Flat List :  [1, 2, 3, 4, 5, 11, 22, 33, 44, 55, 17, 18, 19, 20, 21]\n"
     ]
    }
   ],
   "metadata": {
    "scrolled": true
   }
  },
  {
   "cell_type": "code",
   "execution_count": 18,
   "source": [
    "lst = [1, 2, 3, 4, 5, 11, 22, 33, 44, 55, 17, 18, 19, 20, 21]\n",
    "print(lst*2)\n",
    "\n",
    "print(lst+2)"
   ],
   "outputs": [
    {
     "output_type": "stream",
     "name": "stdout",
     "text": [
      "[1, 2, 3, 4, 5, 11, 22, 33, 44, 55, 17, 18, 19, 20, 21, 1, 2, 3, 4, 5, 11, 22, 33, 44, 55, 17, 18, 19, 20, 21]\n"
     ]
    },
    {
     "output_type": "error",
     "ename": "TypeError",
     "evalue": "can only concatenate list (not \"int\") to list",
     "traceback": [
      "\u001b[0;31m---------------------------------------------------------------------------\u001b[0m",
      "\u001b[0;31mTypeError\u001b[0m                                 Traceback (most recent call last)",
      "\u001b[0;32m<ipython-input-18-0856afac4d05>\u001b[0m in \u001b[0;36m<module>\u001b[0;34m\u001b[0m\n\u001b[1;32m      2\u001b[0m \u001b[0mprint\u001b[0m\u001b[0;34m(\u001b[0m\u001b[0mlst\u001b[0m\u001b[0;34m*\u001b[0m\u001b[0;36m2\u001b[0m\u001b[0;34m)\u001b[0m\u001b[0;34m\u001b[0m\u001b[0;34m\u001b[0m\u001b[0m\n\u001b[1;32m      3\u001b[0m \u001b[0;34m\u001b[0m\u001b[0m\n\u001b[0;32m----> 4\u001b[0;31m \u001b[0mprint\u001b[0m\u001b[0;34m(\u001b[0m\u001b[0mlst\u001b[0m\u001b[0;34m+\u001b[0m\u001b[0;36m2\u001b[0m\u001b[0;34m)\u001b[0m\u001b[0;34m\u001b[0m\u001b[0;34m\u001b[0m\u001b[0m\n\u001b[0m",
      "\u001b[0;31mTypeError\u001b[0m: can only concatenate list (not \"int\") to list"
     ]
    }
   ],
   "metadata": {}
  },
  {
   "cell_type": "markdown",
   "source": [
    "[x for x in range() if func_retus_bool(attr)]"
   ],
   "metadata": {}
  },
  {
   "cell_type": "code",
   "execution_count": 22,
   "source": [
    "whos"
   ],
   "outputs": [
    {
     "output_type": "stream",
     "name": "stdout",
     "text": [
      "Variable     Type                    Data/Info\n",
      "----------------------------------------------\n",
      "DoubleIt     type                    <class '__main__.DoubleIt'>\n",
      "alph         list                    n=6\n",
      "b            list                    n=3\n",
      "car          dict                    n=3\n",
      "cars         list                    n=4\n",
      "ele          str                     f\n",
      "elem         list                    n=5\n",
      "flatList     list                    n=15\n",
      "fruits       list                    n=5\n",
      "listOfList   list                    n=3\n",
      "lst          list                    n=6\n",
      "myFunc       function                <function myFunc at 0x7f404a7de430>\n",
      "my_iter      callable_iterator       <callable_iterator object at 0x7f404a7ea700>\n",
      "mylist       list                    n=3\n",
      "newfruits    list                    n=4\n",
      "newlist      list                    n=5\n",
      "os           module                  <module 'os' from '/home/<...>da3/lib/python3.8/os.py'>\n",
      "points       tuple                   n=4\n",
      "put          list                    n=2\n",
      "ralph        list_reverseiterator    <list_reverseiterator object at 0x7f404a7e6eb0>\n",
      "rev          NoneType                None\n",
      "sys          module                  <module 'sys' (built-in)>\n",
      "thislist     list                    n=6\n",
      "veg_list     list                    n=3\n",
      "veg_tup      tuple                   n=3\n",
      "x            str                     mango\n"
     ]
    }
   ],
   "metadata": {}
  }
 ],
 "metadata": {
  "kernelspec": {
   "name": "python3",
   "display_name": "Python 3.8.5 64-bit ('base': conda)"
  },
  "language_info": {
   "codemirror_mode": {
    "name": "ipython",
    "version": 3
   },
   "file_extension": ".py",
   "mimetype": "text/x-python",
   "name": "python",
   "nbconvert_exporter": "python",
   "pygments_lexer": "ipython3",
   "version": "3.8.5"
  },
  "metadata": {
   "interpreter": {
    "hash": "a6570200391abd47b22bafa3ab36aba8327b6bca09374d4d4cb5f21cfca217ce"
   }
  },
  "interpreter": {
   "hash": "a6570200391abd47b22bafa3ab36aba8327b6bca09374d4d4cb5f21cfca217ce"
  }
 },
 "nbformat": 4,
 "nbformat_minor": 2
}