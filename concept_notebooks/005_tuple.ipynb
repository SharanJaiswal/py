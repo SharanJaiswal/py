{
 "cells": [
  {
   "cell_type": "markdown",
   "metadata": {},
   "source": [
    "# TUPLE\n",
    "Ordered, Indexed and Unchangeable. Allows duplicate. Elements can be of any data type."
   ]
  },
  {
   "cell_type": "code",
   "execution_count": 1,
   "metadata": {},
   "outputs": [
    {
     "name": "stdout",
     "output_type": "stream",
     "text": [
      "2\n"
     ]
    }
   ],
   "source": [
    "thistuple = (1, 3, 7, 8, 7, 5, 4, 6, 8, 5)\n",
    "x = thistuple.count(5)\n",
    "print(x)"
   ]
  },
  {
   "cell_type": "code",
   "execution_count": 2,
   "metadata": {},
   "outputs": [
    {
     "name": "stdout",
     "output_type": "stream",
     "text": [
      "3\n"
     ]
    }
   ],
   "source": [
    "thistuple = (1, 3, 7, 8, 7, 5, 4, 6, 8, 5)\n",
    "x = thistuple.index(8)  # return first index of occurence. Raises exception if not found\n",
    "print(x)"
   ]
  },
  {
   "cell_type": "code",
   "execution_count": 3,
   "metadata": {},
   "outputs": [
    {
     "name": "stdout",
     "output_type": "stream",
     "text": [
      "<class 'tuple'>\n",
      "<class 'str'>\n"
     ]
    }
   ],
   "source": [
    "thistuple = (\"apple\",)\n",
    "print(type(thistuple))\n",
    "\n",
    "#NOT a tuple\n",
    "thistuple = (\"apple\")\n",
    "print(type(thistuple))"
   ]
  },
  {
   "cell_type": "markdown",
   "metadata": {},
   "source": [
    "## Updating Tuple\n",
    "Since they are immutable. Therefore, we first cast them as LIST, then change its contents, and then we'll make them again tuple with changes items."
   ]
  },
  {
   "cell_type": "code",
   "execution_count": 4,
   "metadata": {},
   "outputs": [
    {
     "name": "stdout",
     "output_type": "stream",
     "text": [
      "('kiwi', 'cherry')\n",
      "Tuple x no longer exists\n"
     ]
    }
   ],
   "source": [
    "x = (\"apple\", \"banana\", \"cherry\")\n",
    "y = list(x)\n",
    "y[1] = \"kiwi\"\n",
    "y.remove(\"apple\")\n",
    "x = tuple(y)\n",
    "print(x)\n",
    "\n",
    "del x\n",
    "try:\n",
    "    print(x)\n",
    "except:\n",
    "    print(\"Tuple x no longer exists\")"
   ]
  },
  {
   "cell_type": "markdown",
   "metadata": {},
   "source": [
    "# HOWEVER\n",
    "Joining of Tuple can be done easily."
   ]
  },
  {
   "cell_type": "code",
   "execution_count": 5,
   "metadata": {},
   "outputs": [
    {
     "name": "stdout",
     "output_type": "stream",
     "text": [
      "('a', 'b', 'c', 1, 2, 3)\n",
      "('apple', 'banana', 'cherry', 'apple', 'banana', 'cherry')\n"
     ]
    }
   ],
   "source": [
    "tuple1 = (\"a\", \"b\", \"c\")\n",
    "tuple2 = (1, 2, 3)\n",
    "tuple3 = tuple1 + tuple2\n",
    "print(tuple3)\n",
    "\n",
    "fruits = (\"apple\", \"banana\", \"cherry\")\n",
    "mytuple = fruits * 2\n",
    "print(mytuple)"
   ]
  },
  {
   "cell_type": "code",
   "execution_count": 6,
   "metadata": {},
   "outputs": [
    {
     "name": "stdout",
     "output_type": "stream",
     "text": [
      "apple\n",
      "banana\n",
      "cherry\n",
      "###############\n",
      "apple\n",
      "banana\n",
      "['cherry', 'strawberry', 'raspberry']\n",
      "###############\n",
      "apple\n",
      "['mango', 'papaya', 'pineapple']\n",
      "cherry\n"
     ]
    }
   ],
   "source": [
    "# n(var on LHS) = n(var on RHS)\n",
    "# if LHS is tuple, it expects RHS to be tuple.\n",
    "# if RHS is tuple, LHS may[not] be tuple\n",
    "\n",
    "fruits = (\"apple\", \"banana\", \"cherry\")\n",
    "green, yellow, red = fruits\n",
    "print(green)\n",
    "print(yellow)\n",
    "print(red)\n",
    "\n",
    "print('#'*15)\n",
    "\n",
    "fruits = (\"apple\", \"banana\", \"cherry\", \"strawberry\", \"raspberry\")\n",
    "green, yellow, *red = fruits\n",
    "print(green)\n",
    "print(yellow)\n",
    "print(red)\n",
    "\n",
    "print('#'*15)\n",
    "\n",
    "fruits = (\"apple\", \"mango\", \"papaya\", \"pineapple\", \"cherry\")\n",
    "(green, *tropic, red) = fruits\n",
    "print(green)\n",
    "print(tropic)\n",
    "print(red)"
   ]
  },
  {
   "cell_type": "code",
   "execution_count": 7,
   "metadata": {},
   "outputs": [
    {
     "name": "stdout",
     "output_type": "stream",
     "text": [
      "True\n",
      "False\n",
      "106\n",
      "74\n"
     ]
    }
   ],
   "source": [
    "# tuples(or any other sequences) can be compared. Underlying concept is, corresponding elements are compared.\n",
    "\n",
    "print((0,1,2) < (5,1,2))\n",
    "print(('jones', 'Sally') < ('Jones', 'Sam'))\n",
    "print(ord('j'))\n",
    "print(ord('J'))"
   ]
  },
  {
   "cell_type": "markdown",
   "metadata": {},
   "source": [
    "ord chr"
   ]
  }
 ],
 "metadata": {
  "kernelspec": {
   "display_name": "Python 3.8.5 64-bit ('base': conda)",
   "language": "python",
   "name": "python385jvsc74a57bd0a6570200391abd47b22bafa3ab36aba8327b6bca09374d4d4cb5f21cfca217ce"
  },
  "language_info": {
   "codemirror_mode": {
    "name": "ipython",
    "version": 3
   },
   "file_extension": ".py",
   "mimetype": "text/x-python",
   "name": "python",
   "nbconvert_exporter": "python",
   "pygments_lexer": "ipython3",
   "version": "3.8.5"
  },
  "metadata": {
   "interpreter": {
    "hash": "a6570200391abd47b22bafa3ab36aba8327b6bca09374d4d4cb5f21cfca217ce"
   }
  }
 },
 "nbformat": 4,
 "nbformat_minor": 2
}
