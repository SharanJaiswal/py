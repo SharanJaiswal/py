{
 "cells": [
  {
   "cell_type": "code",
   "execution_count": 1,
   "source": [
    "# to run the bash commands, start the command with '!'\n",
    "!conda list"
   ],
   "outputs": [
    {
     "output_type": "stream",
     "name": "stdout",
     "text": [
      "# packages in environment at /home/sharan/miniconda3:\n",
      "#\n",
      "# Name                    Version                   Build  Channel\n",
      "_libgcc_mutex             0.1                        main  \n",
      "_openmp_mutex             4.5                       1_gnu  \n",
      "argon2-cffi               20.1.0           py39h27cfd23_1  \n",
      "async_generator           1.10               pyhd3eb1b0_0  \n",
      "attrs                     21.2.0             pyhd3eb1b0_0  \n",
      "backcall                  0.2.0              pyhd3eb1b0_0  \n",
      "blas                      1.0                         mkl  \n",
      "bleach                    4.0.0              pyhd3eb1b0_0  \n",
      "bottleneck                1.3.2            py39hdd57654_1  \n",
      "brotlipy                  0.7.0           py39h27cfd23_1003  \n",
      "ca-certificates           2021.7.5             h06a4308_1  \n",
      "certifi                   2021.5.30        py39h06a4308_0  \n",
      "cffi                      1.14.6           py39h400218f_0  \n",
      "chardet                   4.0.0           py39h06a4308_1003  \n",
      "conda                     4.10.3           py39h06a4308_0  \n",
      "conda-package-handling    1.7.3            py39h27cfd23_1  \n",
      "cryptography              3.4.7            py39hd23ed53_0  \n",
      "dbus                      1.13.18              hb2f20db_0  \n",
      "debugpy                   1.4.1            py39h295c915_0  \n",
      "decorator                 5.0.9              pyhd3eb1b0_0  \n",
      "defusedxml                0.7.1              pyhd3eb1b0_0  \n",
      "entrypoints               0.3              py39h06a4308_0  \n",
      "expat                     2.4.1                h2531618_2  \n",
      "fontconfig                2.13.1               h6c09931_0  \n",
      "freetype                  2.10.4               h5ab3b9f_0  \n",
      "glib                      2.69.1               h5202010_0  \n",
      "gst-plugins-base          1.14.0               h8213a91_2  \n",
      "gstreamer                 1.14.0               h28cd5cc_2  \n",
      "icu                       58.2                 he6710b0_3  \n",
      "idna                      2.10               pyhd3eb1b0_0  \n",
      "importlib-metadata        3.10.0           py39h06a4308_0  \n",
      "importlib_metadata        3.10.0               hd3eb1b0_0  \n",
      "intel-openmp              2021.3.0          h06a4308_3350  \n",
      "ipykernel                 6.2.0            py39h06a4308_1  \n",
      "ipython                   7.26.0           py39hb070fc8_0  \n",
      "ipython_genutils          0.2.0              pyhd3eb1b0_1  \n",
      "ipywidgets                7.6.3              pyhd3eb1b0_1  \n",
      "jedi                      0.18.0           py39h06a4308_1  \n",
      "jinja2                    3.0.1              pyhd3eb1b0_0  \n",
      "jpeg                      9b                   h024ee3a_2  \n",
      "jsonschema                3.2.0                      py_2  \n",
      "jupyter                   1.0.0            py39h06a4308_7  \n",
      "jupyter_client            6.1.12             pyhd3eb1b0_0  \n",
      "jupyter_console           6.4.0              pyhd3eb1b0_0  \n",
      "jupyter_core              4.7.1            py39h06a4308_0  \n",
      "jupyterlab_pygments       0.1.2                      py_0  \n",
      "jupyterlab_widgets        1.0.0              pyhd3eb1b0_1  \n",
      "ld_impl_linux-64          2.35.1               h7274673_9  \n",
      "libffi                    3.3                  he6710b0_2  \n",
      "libgcc-ng                 9.3.0               h5101ec6_17  \n",
      "libgomp                   9.3.0               h5101ec6_17  \n",
      "libpng                    1.6.37               hbc83047_0  \n",
      "libsodium                 1.0.18               h7b6447c_0  \n",
      "libstdcxx-ng              9.3.0               hd4cf53a_17  \n",
      "libuuid                   1.0.3                h1bed415_2  \n",
      "libxcb                    1.14                 h7b6447c_0  \n",
      "libxml2                   2.9.12               h03d6c58_0  \n",
      "markupsafe                2.0.1            py39h27cfd23_0  \n",
      "matplotlib-inline         0.1.2              pyhd3eb1b0_2  \n",
      "mistune                   0.8.4           py39h27cfd23_1000  \n",
      "mkl                       2021.3.0           h06a4308_520  \n",
      "mkl-service               2.4.0            py39h7f8727e_0  \n",
      "mkl_fft                   1.3.0            py39h42c9631_2  \n",
      "mkl_random                1.2.2            py39h51133e4_0  \n",
      "nbclient                  0.5.3              pyhd3eb1b0_0  \n",
      "nbconvert                 6.1.0            py39h06a4308_0  \n",
      "nbformat                  5.1.3              pyhd3eb1b0_0  \n",
      "ncurses                   6.2                  he6710b0_1  \n",
      "nest-asyncio              1.5.1              pyhd3eb1b0_0  \n",
      "notebook                  6.4.3            py39h06a4308_0  \n",
      "numexpr                   2.7.3            py39h22e1b3c_1  \n",
      "numpy                     1.20.3           py39hf144106_0  \n",
      "numpy-base                1.20.3           py39h74d4b33_0  \n",
      "openssl                   1.1.1l               h7f8727e_0  \n",
      "packaging                 21.0               pyhd3eb1b0_0  \n",
      "pandas                    1.3.2            py39h8c16a72_0  \n",
      "pandocfilters             1.4.3            py39h06a4308_1  \n",
      "parso                     0.8.2              pyhd3eb1b0_0  \n",
      "pcre                      8.45                 h295c915_0  \n",
      "pexpect                   4.8.0              pyhd3eb1b0_3  \n",
      "pickleshare               0.7.5           pyhd3eb1b0_1003  \n",
      "pip                       21.1.3           py39h06a4308_0  \n",
      "prometheus_client         0.11.0             pyhd3eb1b0_0  \n",
      "prompt-toolkit            3.0.17             pyh06a4308_0  \n",
      "prompt_toolkit            3.0.17               hd3eb1b0_0  \n",
      "ptyprocess                0.7.0              pyhd3eb1b0_2  \n",
      "pycosat                   0.6.3            py39h27cfd23_0  \n",
      "pycparser                 2.20                       py_2  \n",
      "pygments                  2.10.0             pyhd3eb1b0_0  \n",
      "pyopenssl                 20.0.1             pyhd3eb1b0_1  \n",
      "pyparsing                 2.4.7              pyhd3eb1b0_0  \n",
      "pyqt                      5.9.2            py39h2531618_6  \n",
      "pyrsistent                0.18.0           py39h7f8727e_0  \n",
      "pysocks                   1.7.1            py39h06a4308_0  \n",
      "python                    3.9.5                h12debd9_4  \n",
      "python-dateutil           2.8.2              pyhd3eb1b0_0  \n",
      "pytz                      2021.1             pyhd3eb1b0_0  \n",
      "pyzmq                     22.2.1           py39h295c915_1  \n",
      "qt                        5.9.7                h5867ecd_1  \n",
      "qtconsole                 5.1.0              pyhd3eb1b0_0  \n",
      "qtpy                      1.10.0             pyhd3eb1b0_0  \n",
      "readline                  8.1                  h27cfd23_0  \n",
      "requests                  2.25.1             pyhd3eb1b0_0  \n",
      "ruamel_yaml               0.15.100         py39h27cfd23_0  \n",
      "send2trash                1.5.0              pyhd3eb1b0_1  \n",
      "setuptools                52.0.0           py39h06a4308_0  \n",
      "sip                       4.19.13          py39h2531618_0  \n",
      "six                       1.16.0             pyhd3eb1b0_0  \n",
      "sqlite                    3.36.0               hc218d9a_0  \n",
      "terminado                 0.9.4            py39h06a4308_0  \n",
      "testpath                  0.5.0              pyhd3eb1b0_0  \n",
      "tk                        8.6.10               hbc83047_0  \n",
      "tornado                   6.1              py39h27cfd23_0  \n",
      "tqdm                      4.61.2             pyhd3eb1b0_1  \n",
      "traitlets                 5.0.5              pyhd3eb1b0_0  \n",
      "tzdata                    2021a                h52ac0ba_0  \n",
      "urllib3                   1.26.6             pyhd3eb1b0_1  \n",
      "wcwidth                   0.2.5                      py_0  \n",
      "webencodings              0.5.1            py39h06a4308_1  \n",
      "wheel                     0.36.2             pyhd3eb1b0_0  \n",
      "widgetsnbextension        3.5.1            py39h06a4308_0  \n",
      "xz                        5.2.5                h7b6447c_0  \n",
      "yaml                      0.2.5                h7b6447c_0  \n",
      "zeromq                    4.3.4                h2531618_0  \n",
      "zipp                      3.5.0              pyhd3eb1b0_0  \n",
      "zlib                      1.2.11               h7b6447c_3  \n"
     ]
    }
   ],
   "metadata": {
    "scrolled": true
   }
  },
  {
   "cell_type": "code",
   "execution_count": 1,
   "source": [
    "# magic command starts with % or %%\n",
    "%lsmagic"
   ],
   "outputs": [
    {
     "output_type": "execute_result",
     "data": {
      "application/json": {
       "line": {
        "automagic": "AutoMagics",
        "autocall": "AutoMagics",
        "alias_magic": "BasicMagics",
        "lsmagic": "BasicMagics",
        "magic": "BasicMagics",
        "page": "BasicMagics",
        "pprint": "BasicMagics",
        "colors": "BasicMagics",
        "xmode": "BasicMagics",
        "quickref": "BasicMagics",
        "doctest_mode": "BasicMagics",
        "gui": "BasicMagics",
        "precision": "BasicMagics",
        "notebook": "BasicMagics",
        "save": "CodeMagics",
        "pastebin": "CodeMagics",
        "loadpy": "CodeMagics",
        "load": "CodeMagics",
        "edit": "KernelMagics",
        "config": "ConfigMagics",
        "prun": "ExecutionMagics",
        "pdb": "ExecutionMagics",
        "debug": "ExecutionMagics",
        "tb": "ExecutionMagics",
        "run": "ExecutionMagics",
        "timeit": "ExecutionMagics",
        "time": "ExecutionMagics",
        "macro": "ExecutionMagics",
        "load_ext": "ExtensionMagics",
        "unload_ext": "ExtensionMagics",
        "reload_ext": "ExtensionMagics",
        "history": "HistoryMagics",
        "recall": "HistoryMagics",
        "rerun": "HistoryMagics",
        "logstart": "LoggingMagics",
        "logstop": "LoggingMagics",
        "logoff": "LoggingMagics",
        "logon": "LoggingMagics",
        "logstate": "LoggingMagics",
        "pinfo": "NamespaceMagics",
        "pinfo2": "NamespaceMagics",
        "pdef": "NamespaceMagics",
        "pdoc": "NamespaceMagics",
        "psource": "NamespaceMagics",
        "pfile": "NamespaceMagics",
        "psearch": "NamespaceMagics",
        "who_ls": "NamespaceMagics",
        "who": "NamespaceMagics",
        "whos": "NamespaceMagics",
        "reset": "NamespaceMagics",
        "reset_selective": "NamespaceMagics",
        "xdel": "NamespaceMagics",
        "alias": "OSMagics",
        "unalias": "OSMagics",
        "rehashx": "OSMagics",
        "pwd": "OSMagics",
        "cd": "OSMagics",
        "env": "OSMagics",
        "set_env": "OSMagics",
        "pushd": "OSMagics",
        "popd": "OSMagics",
        "dirs": "OSMagics",
        "dhist": "OSMagics",
        "sc": "OSMagics",
        "sx": "OSMagics",
        "system": "OSMagics",
        "bookmark": "OSMagics",
        "pycat": "OSMagics",
        "pip": "PackagingMagics",
        "conda": "PackagingMagics",
        "matplotlib": "PylabMagics",
        "pylab": "PylabMagics",
        "killbgscripts": "ScriptMagics",
        "autoawait": "AsyncMagics",
        "ed": "Other",
        "hist": "Other",
        "rep": "Other",
        "clear": "KernelMagics",
        "less": "KernelMagics",
        "more": "KernelMagics",
        "man": "KernelMagics",
        "connect_info": "KernelMagics",
        "qtconsole": "KernelMagics",
        "autosave": "KernelMagics",
        "mkdir": "Other",
        "rmdir": "Other",
        "mv": "Other",
        "rm": "Other",
        "cp": "Other",
        "cat": "Other",
        "ls": "Other",
        "ll": "Other",
        "lf": "Other",
        "lk": "Other",
        "ldir": "Other",
        "lx": "Other",
        "store": "StoreMagics"
       },
       "cell": {
        "js": "DisplayMagics",
        "javascript": "DisplayMagics",
        "latex": "DisplayMagics",
        "svg": "DisplayMagics",
        "html": "DisplayMagics",
        "markdown": "DisplayMagics",
        "prun": "ExecutionMagics",
        "debug": "ExecutionMagics",
        "timeit": "ExecutionMagics",
        "time": "ExecutionMagics",
        "capture": "ExecutionMagics",
        "sx": "OSMagics",
        "system": "OSMagics",
        "!": "OSMagics",
        "writefile": "OSMagics",
        "script": "ScriptMagics",
        "sh": "Other",
        "bash": "Other",
        "perl": "Other",
        "ruby": "Other",
        "python": "Other",
        "python2": "Other",
        "python3": "Other",
        "pypy": "Other",
        "SVG": "Other",
        "HTML": "Other",
        "file": "Other"
       }
      },
      "text/plain": [
       "Available line magics:\n",
       "%alias  %alias_magic  %autoawait  %autocall  %automagic  %autosave  %bookmark  %cat  %cd  %clear  %colors  %conda  %config  %connect_info  %cp  %debug  %dhist  %dirs  %doctest_mode  %ed  %edit  %env  %gui  %hist  %history  %killbgscripts  %ldir  %less  %lf  %lk  %ll  %load  %load_ext  %loadpy  %logoff  %logon  %logstart  %logstate  %logstop  %ls  %lsmagic  %lx  %macro  %magic  %man  %matplotlib  %mkdir  %more  %mv  %notebook  %page  %pastebin  %pdb  %pdef  %pdoc  %pfile  %pinfo  %pinfo2  %pip  %popd  %pprint  %precision  %prun  %psearch  %psource  %pushd  %pwd  %pycat  %pylab  %qtconsole  %quickref  %recall  %rehashx  %reload_ext  %rep  %rerun  %reset  %reset_selective  %rm  %rmdir  %run  %save  %sc  %set_env  %store  %sx  %system  %tb  %time  %timeit  %unalias  %unload_ext  %who  %who_ls  %whos  %xdel  %xmode\n",
       "\n",
       "Available cell magics:\n",
       "%%!  %%HTML  %%SVG  %%bash  %%capture  %%debug  %%file  %%html  %%javascript  %%js  %%latex  %%markdown  %%perl  %%prun  %%pypy  %%python  %%python2  %%python3  %%ruby  %%script  %%sh  %%svg  %%sx  %%system  %%time  %%timeit  %%writefile\n",
       "\n",
       "Automagic is ON, % prefix IS NOT needed for line magics."
      ]
     },
     "metadata": {},
     "execution_count": 1
    }
   ],
   "metadata": {
    "scrolled": true
   }
  },
  {
   "cell_type": "code",
   "execution_count": 3,
   "source": [
    "%pwd"
   ],
   "outputs": [
    {
     "output_type": "execute_result",
     "data": {
      "text/plain": [
       "'/home/sharan/projects/py/concept_notebooks'"
      ]
     },
     "metadata": {},
     "execution_count": 3
    }
   ],
   "metadata": {}
  },
  {
   "cell_type": "code",
   "execution_count": 4,
   "source": [
    "%ls -la"
   ],
   "outputs": [
    {
     "output_type": "stream",
     "name": "stdout",
     "text": [
      "total 260\r\n",
      "drwxrwxr-x 3 sharan sharan  4096 Aug  6 01:18 \u001b[0m\u001b[01;34m.\u001b[0m/\r\n",
      "drwxrwxr-x 7 sharan sharan  4096 Jun 12 01:42 \u001b[01;34m..\u001b[0m/\r\n",
      "-rw-rw-r-- 1 sharan sharan 20386 Aug  6 01:18 000_notebookdemo.ipynb\r\n",
      "-rw-rw-r-- 1 sharan sharan 20096 Aug  4 00:47 001_strings.ipynb\r\n",
      "-rw-rw-r-- 1 sharan sharan 15877 Aug  4 01:37 002_list.ipynb\r\n",
      "-rw-rw-r-- 1 sharan sharan 13180 Aug  4 02:58 003_dict.ipynb\r\n",
      "-rw-rw-r-- 1 sharan sharan 11447 Jun 11 14:19 004_set.ipynb\r\n",
      "-rw-rw-r-- 1 sharan sharan  5344 Aug  4 04:02 005_tuple.ipynb\r\n",
      "-rw-rw-r-- 1 sharan sharan 53879 Aug  5 02:17 006_pyds.ipynb\r\n",
      "-rw-rw-r-- 1 sharan sharan 33549 Aug  5 23:12 007_OOPs.ipynb\r\n",
      "-rw-rw-r-- 1 sharan sharan 11241 Jun 10 03:57 008_Iterators_Iterable_and_generators.ipynb\r\n",
      "-rw-rw-r-- 1 sharan sharan 15037 Aug  5 23:47 009_decorators.ipynb\r\n",
      "-rw-rw-r-- 1 sharan sharan  6041 Jun 12 00:51 010_scpyvsdcpy.ipynb\r\n",
      "-rw-rw-r-- 1 sharan sharan  5418 Jun  3 00:41 datetime.md\r\n",
      "-rw-rw-r-- 1 sharan sharan  9751 Jun 11 14:58 files_handling.ipynb\r\n",
      "-rw-rw-r-- 1 sharan sharan    34 Jun  4 03:38 forfilehandling.txt\r\n",
      "drwxrwxr-x 2 sharan sharan  4096 Aug  6 01:12 \u001b[01;34m.ipynb_checkpoints\u001b[0m/\r\n",
      "-rw-rw-r-- 1 sharan sharan    36 Jun  4 03:38 newb.txt\r\n"
     ]
    }
   ],
   "metadata": {}
  },
  {
   "cell_type": "code",
   "execution_count": 6,
   "source": [
    "# it gives the list of different methods and variables that are available in the current working [python] session. All of these will stay until deleted explicitedly OR kernel terminates. It will come again whwn kernel starts.\n",
    "dir()\n",
    "# to delete specific entity, run command \"del <name_from_list>\""
   ],
   "outputs": [
    {
     "output_type": "execute_result",
     "data": {
      "text/plain": [
       "['In',\n",
       " 'Out',\n",
       " '_',\n",
       " '_2',\n",
       " '_3',\n",
       " '__',\n",
       " '___',\n",
       " '__builtin__',\n",
       " '__builtins__',\n",
       " '__doc__',\n",
       " '__loader__',\n",
       " '__name__',\n",
       " '__package__',\n",
       " '__spec__',\n",
       " '_dh',\n",
       " '_exit_code',\n",
       " '_i',\n",
       " '_i1',\n",
       " '_i2',\n",
       " '_i3',\n",
       " '_i4',\n",
       " '_i5',\n",
       " '_i6',\n",
       " '_ih',\n",
       " '_ii',\n",
       " '_iii',\n",
       " '_oh',\n",
       " 'exit',\n",
       " 'get_ipython',\n",
       " 'quit']"
      ]
     },
     "metadata": {},
     "execution_count": 6
    }
   ],
   "metadata": {
    "scrolled": true
   }
  },
  {
   "cell_type": "markdown",
   "source": [
    "<code>x = \"Hello World\"\n",
    "    print(x)\n",
    "print(x)\n",
    "</code>"
   ],
   "metadata": {}
  },
  {
   "cell_type": "markdown",
   "source": [
    "papermill nbformat nbconvert https://github.com/ipython-contrib/jupyter_contrib_nbextensions https://github.com/trending/jupyter-notebook"
   ],
   "metadata": {}
  },
  {
   "cell_type": "markdown",
   "source": [
    "id() function returns a unique ID of the python object"
   ],
   "metadata": {}
  },
  {
   "cell_type": "code",
   "execution_count": 1,
   "source": [
    "print('saint')\n",
    "print('sharan', end='')\n",
    "print('Jaiswal')"
   ],
   "outputs": [
    {
     "output_type": "stream",
     "name": "stdout",
     "text": [
      "saint\n",
      "sharanJaiswal\n"
     ]
    }
   ],
   "metadata": {}
  }
 ],
 "metadata": {
  "interpreter": {
   "hash": "a6570200391abd47b22bafa3ab36aba8327b6bca09374d4d4cb5f21cfca217ce"
  },
  "kernelspec": {
   "name": "python3",
   "display_name": "Python 3.9.5 64-bit ('base': conda)"
  },
  "language_info": {
   "codemirror_mode": {
    "name": "ipython",
    "version": 3
   },
   "file_extension": ".py",
   "mimetype": "text/x-python",
   "name": "python",
   "nbconvert_exporter": "python",
   "pygments_lexer": "ipython3",
   "version": "3.9.5"
  },
  "metadata": {
   "interpreter": {
    "hash": "a6570200391abd47b22bafa3ab36aba8327b6bca09374d4d4cb5f21cfca217ce"
   }
  }
 },
 "nbformat": 4,
 "nbformat_minor": 2
}