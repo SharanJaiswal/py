{
 "cells": [
  {
   "cell_type": "code",
   "execution_count": 1,
   "metadata": {
    "scrolled": true
   },
   "outputs": [
    {
     "name": "stdout",
     "output_type": "stream",
     "text": [
      "# packages in environment at /home/sharan/miniconda3:\r\n",
      "#\r\n",
      "# Name                    Version                   Build  Channel\r\n",
      "_libgcc_mutex             0.1                        main  \r\n",
      "argon2-cffi               20.1.0           py38h27cfd23_1  \r\n",
      "async_generator           1.10               pyhd3eb1b0_0  \r\n",
      "attrs                     21.2.0             pyhd3eb1b0_0  \r\n",
      "backcall                  0.2.0              pyhd3eb1b0_0  \r\n",
      "blas                      1.0                         mkl  \r\n",
      "bleach                    3.3.0              pyhd3eb1b0_0  \r\n",
      "brotlipy                  0.7.0           py38h27cfd23_1003  \r\n",
      "ca-certificates           2021.5.25            h06a4308_1  \r\n",
      "certifi                   2021.5.30        py38h06a4308_0  \r\n",
      "cffi                      1.14.5           py38h261ae71_0  \r\n",
      "chardet                   4.0.0           py38h06a4308_1003  \r\n",
      "conda                     4.10.1           py38h06a4308_1  \r\n",
      "conda-package-handling    1.7.3            py38h27cfd23_1  \r\n",
      "cryptography              3.4.7            py38hd23ed53_0  \r\n",
      "cycler                    0.10.0                   py38_0  \r\n",
      "dbus                      1.13.18              hb2f20db_0  \r\n",
      "decorator                 5.0.9              pyhd3eb1b0_0  \r\n",
      "defusedxml                0.7.1              pyhd3eb1b0_0  \r\n",
      "entrypoints               0.3                      py38_0  \r\n",
      "expat                     2.4.1                h2531618_2  \r\n",
      "fontconfig                2.13.1               h6c09931_0  \r\n",
      "freetype                  2.10.4               h5ab3b9f_0  \r\n",
      "glib                      2.68.2               h36276a3_0  \r\n",
      "gst-plugins-base          1.14.0               h8213a91_2  \r\n",
      "gstreamer                 1.14.0               h28cd5cc_2  \r\n",
      "icu                       58.2                 he6710b0_3  \r\n",
      "idna                      2.10               pyhd3eb1b0_0  \r\n",
      "importlib-metadata        3.10.0           py38h06a4308_0  \r\n",
      "importlib_metadata        3.10.0               hd3eb1b0_0  \r\n",
      "intel-openmp              2021.2.0           h06a4308_610  \r\n",
      "ipykernel                 5.3.4            py38h5ca1d4c_0  \r\n",
      "ipython                   7.22.0           py38hb070fc8_0  \r\n",
      "ipython_genutils          0.2.0              pyhd3eb1b0_1  \r\n",
      "ipywidgets                7.6.3              pyhd3eb1b0_1  \r\n",
      "jedi                      0.17.0                   py38_0  \r\n",
      "jinja2                    3.0.0              pyhd3eb1b0_0  \r\n",
      "jpeg                      9b                   h024ee3a_2  \r\n",
      "jsonschema                3.2.0                      py_2  \r\n",
      "jupyter                   1.0.0                    py38_7  \r\n",
      "jupyter_client            6.1.12             pyhd3eb1b0_0  \r\n",
      "jupyter_console           6.4.0              pyhd3eb1b0_0  \r\n",
      "jupyter_core              4.7.1            py38h06a4308_0  \r\n",
      "jupyterlab_pygments       0.1.2                      py_0  \r\n",
      "jupyterlab_widgets        1.0.0              pyhd3eb1b0_1  \r\n",
      "kiwisolver                1.3.1            py38h2531618_0  \r\n",
      "lcms2                     2.12                 h3be6417_0  \r\n",
      "ld_impl_linux-64          2.33.1               h53a641e_7  \r\n",
      "libffi                    3.3                  he6710b0_2  \r\n",
      "libgcc-ng                 9.1.0                hdf63c60_0  \r\n",
      "libpng                    1.6.37               hbc83047_0  \r\n",
      "libsodium                 1.0.18               h7b6447c_0  \r\n",
      "libstdcxx-ng              9.1.0                hdf63c60_0  \r\n",
      "libtiff                   4.1.0                h2733197_1  \r\n",
      "libuuid                   1.0.3                h1bed415_2  \r\n",
      "libxcb                    1.14                 h7b6447c_0  \r\n",
      "libxml2                   2.9.10               hb55368b_3  \r\n",
      "lz4-c                     1.9.3                h2531618_0  \r\n",
      "markupsafe                2.0.1            py38h27cfd23_0  \r\n",
      "matplotlib                3.3.4            py38h06a4308_0  \r\n",
      "matplotlib-base           3.3.4            py38h62a2d02_0  \r\n",
      "mistune                   0.8.4           py38h7b6447c_1000  \r\n",
      "mkl                       2021.2.0           h06a4308_296  \r\n",
      "mkl-service               2.3.0            py38h27cfd23_1  \r\n",
      "mkl_fft                   1.3.0            py38h42c9631_2  \r\n",
      "mkl_random                1.2.1            py38ha9443f7_2  \r\n",
      "nbclient                  0.5.3              pyhd3eb1b0_0  \r\n",
      "nbconvert                 6.0.7                    py38_0  \r\n",
      "nbformat                  5.1.3              pyhd3eb1b0_0  \r\n",
      "ncurses                   6.2                  he6710b0_1  \r\n",
      "nest-asyncio              1.5.1              pyhd3eb1b0_0  \r\n",
      "notebook                  6.4.0            py38h06a4308_0  \r\n",
      "numpy                     1.20.2           py38h2d18471_0  \r\n",
      "numpy-base                1.20.2           py38hfae3a4d_0  \r\n",
      "olefile                   0.46                       py_0  \r\n",
      "openssl                   1.1.1k               h27cfd23_0  \r\n",
      "packaging                 20.9               pyhd3eb1b0_0  \r\n",
      "pandas                    1.2.4            py38h2531618_0  \r\n",
      "pandoc                    2.12                 h06a4308_0  \r\n",
      "pandocfilters             1.4.3            py38h06a4308_1  \r\n",
      "parso                     0.8.2              pyhd3eb1b0_0  \r\n",
      "pcre                      8.44                 he6710b0_0  \r\n",
      "pexpect                   4.8.0              pyhd3eb1b0_3  \r\n",
      "pickleshare               0.7.5           pyhd3eb1b0_1003  \r\n",
      "pillow                    8.2.0            py38he98fc37_0  \r\n",
      "pip                       21.1.1           py38h06a4308_0  \r\n",
      "prometheus_client         0.10.1             pyhd3eb1b0_0  \r\n",
      "prompt-toolkit            3.0.17             pyh06a4308_0  \r\n",
      "prompt_toolkit            3.0.17               hd3eb1b0_0  \r\n",
      "ptyprocess                0.7.0              pyhd3eb1b0_2  \r\n",
      "pycosat                   0.6.3            py38h7b6447c_1  \r\n",
      "pycparser                 2.20                       py_2  \r\n",
      "pygments                  2.9.0              pyhd3eb1b0_0  \r\n",
      "pyopenssl                 20.0.1             pyhd3eb1b0_1  \r\n",
      "pyparsing                 2.4.7              pyhd3eb1b0_0  \r\n",
      "pyqt                      5.9.2            py38h05f1152_4  \r\n",
      "pyrsistent                0.17.3           py38h7b6447c_0  \r\n",
      "pysocks                   1.7.1            py38h06a4308_0  \r\n",
      "python                    3.8.5                h7579374_1  \r\n",
      "python-dateutil           2.8.1              pyhd3eb1b0_0  \r\n",
      "pytz                      2021.1             pyhd3eb1b0_0  \r\n",
      "pyzmq                     20.0.0           py38h2531618_1  \r\n",
      "qt                        5.9.7                h5867ecd_1  \r\n",
      "qtconsole                 5.0.3              pyhd3eb1b0_0  \r\n",
      "qtpy                      1.9.0                      py_0  \r\n",
      "readline                  8.1                  h27cfd23_0  \r\n",
      "requests                  2.25.1             pyhd3eb1b0_0  \r\n",
      "ruamel_yaml               0.15.100         py38h27cfd23_0  \r\n",
      "send2trash                1.5.0              pyhd3eb1b0_1  \r\n",
      "setuptools                52.0.0           py38h06a4308_0  \r\n",
      "sip                       4.19.13          py38he6710b0_0  \r\n",
      "six                       1.15.0           py38h06a4308_0  \r\n",
      "sqlite                    3.35.4               hdfb4753_0  \r\n",
      "terminado                 0.9.4            py38h06a4308_0  \r\n",
      "testpath                  0.4.4              pyhd3eb1b0_0  \r\n",
      "tk                        8.6.10               hbc83047_0  \r\n",
      "tornado                   6.1              py38h27cfd23_0  \r\n",
      "tqdm                      4.59.0             pyhd3eb1b0_1  \r\n",
      "traitlets                 5.0.5              pyhd3eb1b0_0  \r\n",
      "urllib3                   1.26.4             pyhd3eb1b0_0  \r\n",
      "wcwidth                   0.2.5                      py_0  \r\n",
      "webencodings              0.5.1                    py38_1  \r\n",
      "wheel                     0.36.2             pyhd3eb1b0_0  \r\n",
      "widgetsnbextension        3.5.1                    py38_0  \r\n",
      "xz                        5.2.5                h7b6447c_0  \r\n",
      "yaml                      0.2.5                h7b6447c_0  \r\n",
      "zeromq                    4.3.4                h2531618_0  \r\n",
      "zipp                      3.4.1              pyhd3eb1b0_0  \r\n",
      "zlib                      1.2.11               h7b6447c_3  \r\n",
      "zstd                      1.4.9                haebb681_0  \r\n"
     ]
    }
   ],
   "source": [
    "# to run the bash commands, start the command with '!'\n",
    "!conda list"
   ]
  },
  {
   "cell_type": "code",
   "execution_count": 2,
   "metadata": {
    "scrolled": true
   },
   "outputs": [
    {
     "data": {
      "application/json": {
       "cell": {
        "!": "OSMagics",
        "HTML": "Other",
        "SVG": "Other",
        "bash": "Other",
        "capture": "ExecutionMagics",
        "debug": "ExecutionMagics",
        "file": "Other",
        "html": "DisplayMagics",
        "javascript": "DisplayMagics",
        "js": "DisplayMagics",
        "latex": "DisplayMagics",
        "markdown": "DisplayMagics",
        "perl": "Other",
        "prun": "ExecutionMagics",
        "pypy": "Other",
        "python": "Other",
        "python2": "Other",
        "python3": "Other",
        "ruby": "Other",
        "script": "ScriptMagics",
        "sh": "Other",
        "svg": "DisplayMagics",
        "sx": "OSMagics",
        "system": "OSMagics",
        "time": "ExecutionMagics",
        "timeit": "ExecutionMagics",
        "writefile": "OSMagics"
       },
       "line": {
        "alias": "OSMagics",
        "alias_magic": "BasicMagics",
        "autoawait": "AsyncMagics",
        "autocall": "AutoMagics",
        "automagic": "AutoMagics",
        "autosave": "KernelMagics",
        "bookmark": "OSMagics",
        "cat": "Other",
        "cd": "OSMagics",
        "clear": "KernelMagics",
        "colors": "BasicMagics",
        "conda": "PackagingMagics",
        "config": "ConfigMagics",
        "connect_info": "KernelMagics",
        "cp": "Other",
        "debug": "ExecutionMagics",
        "dhist": "OSMagics",
        "dirs": "OSMagics",
        "doctest_mode": "BasicMagics",
        "ed": "Other",
        "edit": "KernelMagics",
        "env": "OSMagics",
        "gui": "BasicMagics",
        "hist": "Other",
        "history": "HistoryMagics",
        "killbgscripts": "ScriptMagics",
        "ldir": "Other",
        "less": "KernelMagics",
        "lf": "Other",
        "lk": "Other",
        "ll": "Other",
        "load": "CodeMagics",
        "load_ext": "ExtensionMagics",
        "loadpy": "CodeMagics",
        "logoff": "LoggingMagics",
        "logon": "LoggingMagics",
        "logstart": "LoggingMagics",
        "logstate": "LoggingMagics",
        "logstop": "LoggingMagics",
        "ls": "Other",
        "lsmagic": "BasicMagics",
        "lx": "Other",
        "macro": "ExecutionMagics",
        "magic": "BasicMagics",
        "man": "KernelMagics",
        "matplotlib": "PylabMagics",
        "mkdir": "Other",
        "more": "KernelMagics",
        "mv": "Other",
        "notebook": "BasicMagics",
        "page": "BasicMagics",
        "pastebin": "CodeMagics",
        "pdb": "ExecutionMagics",
        "pdef": "NamespaceMagics",
        "pdoc": "NamespaceMagics",
        "pfile": "NamespaceMagics",
        "pinfo": "NamespaceMagics",
        "pinfo2": "NamespaceMagics",
        "pip": "PackagingMagics",
        "popd": "OSMagics",
        "pprint": "BasicMagics",
        "precision": "BasicMagics",
        "prun": "ExecutionMagics",
        "psearch": "NamespaceMagics",
        "psource": "NamespaceMagics",
        "pushd": "OSMagics",
        "pwd": "OSMagics",
        "pycat": "OSMagics",
        "pylab": "PylabMagics",
        "qtconsole": "KernelMagics",
        "quickref": "BasicMagics",
        "recall": "HistoryMagics",
        "rehashx": "OSMagics",
        "reload_ext": "ExtensionMagics",
        "rep": "Other",
        "rerun": "HistoryMagics",
        "reset": "NamespaceMagics",
        "reset_selective": "NamespaceMagics",
        "rm": "Other",
        "rmdir": "Other",
        "run": "ExecutionMagics",
        "save": "CodeMagics",
        "sc": "OSMagics",
        "set_env": "OSMagics",
        "store": "StoreMagics",
        "sx": "OSMagics",
        "system": "OSMagics",
        "tb": "ExecutionMagics",
        "time": "ExecutionMagics",
        "timeit": "ExecutionMagics",
        "unalias": "OSMagics",
        "unload_ext": "ExtensionMagics",
        "who": "NamespaceMagics",
        "who_ls": "NamespaceMagics",
        "whos": "NamespaceMagics",
        "xdel": "NamespaceMagics",
        "xmode": "BasicMagics"
       }
      },
      "text/plain": [
       "Available line magics:\n",
       "%alias  %alias_magic  %autoawait  %autocall  %automagic  %autosave  %bookmark  %cat  %cd  %clear  %colors  %conda  %config  %connect_info  %cp  %debug  %dhist  %dirs  %doctest_mode  %ed  %edit  %env  %gui  %hist  %history  %killbgscripts  %ldir  %less  %lf  %lk  %ll  %load  %load_ext  %loadpy  %logoff  %logon  %logstart  %logstate  %logstop  %ls  %lsmagic  %lx  %macro  %magic  %man  %matplotlib  %mkdir  %more  %mv  %notebook  %page  %pastebin  %pdb  %pdef  %pdoc  %pfile  %pinfo  %pinfo2  %pip  %popd  %pprint  %precision  %prun  %psearch  %psource  %pushd  %pwd  %pycat  %pylab  %qtconsole  %quickref  %recall  %rehashx  %reload_ext  %rep  %rerun  %reset  %reset_selective  %rm  %rmdir  %run  %save  %sc  %set_env  %store  %sx  %system  %tb  %time  %timeit  %unalias  %unload_ext  %who  %who_ls  %whos  %xdel  %xmode\n",
       "\n",
       "Available cell magics:\n",
       "%%!  %%HTML  %%SVG  %%bash  %%capture  %%debug  %%file  %%html  %%javascript  %%js  %%latex  %%markdown  %%perl  %%prun  %%pypy  %%python  %%python2  %%python3  %%ruby  %%script  %%sh  %%svg  %%sx  %%system  %%time  %%timeit  %%writefile\n",
       "\n",
       "Automagic is ON, % prefix IS NOT needed for line magics."
      ]
     },
     "execution_count": 2,
     "metadata": {},
     "output_type": "execute_result"
    }
   ],
   "source": [
    "# magic command starts with % or %%\n",
    "%lsmagic"
   ]
  },
  {
   "cell_type": "code",
   "execution_count": 3,
   "metadata": {},
   "outputs": [
    {
     "data": {
      "text/plain": [
       "'/home/sharan/projects/py/concept_notebooks'"
      ]
     },
     "execution_count": 3,
     "metadata": {},
     "output_type": "execute_result"
    }
   ],
   "source": [
    "%pwd"
   ]
  },
  {
   "cell_type": "code",
   "execution_count": 4,
   "metadata": {},
   "outputs": [
    {
     "name": "stdout",
     "output_type": "stream",
     "text": [
      "total 260\r\n",
      "drwxrwxr-x 3 sharan sharan  4096 Aug  6 01:18 \u001b[0m\u001b[01;34m.\u001b[0m/\r\n",
      "drwxrwxr-x 7 sharan sharan  4096 Jun 12 01:42 \u001b[01;34m..\u001b[0m/\r\n",
      "-rw-rw-r-- 1 sharan sharan 20386 Aug  6 01:18 000_notebookdemo.ipynb\r\n",
      "-rw-rw-r-- 1 sharan sharan 20096 Aug  4 00:47 001_strings.ipynb\r\n",
      "-rw-rw-r-- 1 sharan sharan 15877 Aug  4 01:37 002_list.ipynb\r\n",
      "-rw-rw-r-- 1 sharan sharan 13180 Aug  4 02:58 003_dict.ipynb\r\n",
      "-rw-rw-r-- 1 sharan sharan 11447 Jun 11 14:19 004_set.ipynb\r\n",
      "-rw-rw-r-- 1 sharan sharan  5344 Aug  4 04:02 005_tuple.ipynb\r\n",
      "-rw-rw-r-- 1 sharan sharan 53879 Aug  5 02:17 006_pyds.ipynb\r\n",
      "-rw-rw-r-- 1 sharan sharan 33549 Aug  5 23:12 007_OOPs.ipynb\r\n",
      "-rw-rw-r-- 1 sharan sharan 11241 Jun 10 03:57 008_Iterators_Iterable_and_generators.ipynb\r\n",
      "-rw-rw-r-- 1 sharan sharan 15037 Aug  5 23:47 009_decorators.ipynb\r\n",
      "-rw-rw-r-- 1 sharan sharan  6041 Jun 12 00:51 010_scpyvsdcpy.ipynb\r\n",
      "-rw-rw-r-- 1 sharan sharan  5418 Jun  3 00:41 datetime.md\r\n",
      "-rw-rw-r-- 1 sharan sharan  9751 Jun 11 14:58 files_handling.ipynb\r\n",
      "-rw-rw-r-- 1 sharan sharan    34 Jun  4 03:38 forfilehandling.txt\r\n",
      "drwxrwxr-x 2 sharan sharan  4096 Aug  6 01:12 \u001b[01;34m.ipynb_checkpoints\u001b[0m/\r\n",
      "-rw-rw-r-- 1 sharan sharan    36 Jun  4 03:38 newb.txt\r\n"
     ]
    }
   ],
   "source": [
    "%ls -la"
   ]
  },
  {
   "cell_type": "code",
   "execution_count": 5,
   "metadata": {},
   "outputs": [],
   "source": [
    "# this allows matplotlib charts to be displayed in our notebooks.\n",
    "# Without running this command prior to execute the matplotlib commands to display the plots inside notebooks,\n",
    "# will make that commands/programs to hang in loop.\n",
    "# In that case, restart kernel and then execute %matplotlib inline, then run those commands\n",
    "%matplotlib inline"
   ]
  },
  {
   "cell_type": "code",
   "execution_count": 6,
   "metadata": {
    "scrolled": true
   },
   "outputs": [
    {
     "data": {
      "text/plain": [
       "['In',\n",
       " 'Out',\n",
       " '_',\n",
       " '_2',\n",
       " '_3',\n",
       " '__',\n",
       " '___',\n",
       " '__builtin__',\n",
       " '__builtins__',\n",
       " '__doc__',\n",
       " '__loader__',\n",
       " '__name__',\n",
       " '__package__',\n",
       " '__spec__',\n",
       " '_dh',\n",
       " '_exit_code',\n",
       " '_i',\n",
       " '_i1',\n",
       " '_i2',\n",
       " '_i3',\n",
       " '_i4',\n",
       " '_i5',\n",
       " '_i6',\n",
       " '_ih',\n",
       " '_ii',\n",
       " '_iii',\n",
       " '_oh',\n",
       " 'exit',\n",
       " 'get_ipython',\n",
       " 'quit']"
      ]
     },
     "execution_count": 6,
     "metadata": {},
     "output_type": "execute_result"
    }
   ],
   "source": [
    "# it gives the list of different methods and variables that are available in the current working [python] session. All of these will stay until deleted explicitedly OR kernel terminates. It will come again whwn kernel starts.\n",
    "dir()\n",
    "# to delete specific entity, run command \"del <name_from_list>\""
   ]
  },
  {
   "cell_type": "markdown",
   "metadata": {},
   "source": [
    "<code>x = \"Hello World\"\n",
    "    print(x)\n",
    "print(x)\n",
    "</code>"
   ]
  },
  {
   "cell_type": "markdown",
   "metadata": {},
   "source": [
    "papermill nbformat nbconvert https://github.com/ipython-contrib/jupyter_contrib_nbextensions https://github.com/trending/jupyter-notebook"
   ]
  }
 ],
 "metadata": {
  "interpreter": {
   "hash": "a6570200391abd47b22bafa3ab36aba8327b6bca09374d4d4cb5f21cfca217ce"
  },
  "kernelspec": {
   "display_name": "Python 3",
   "language": "python",
   "name": "python3"
  },
  "language_info": {
   "codemirror_mode": {
    "name": "ipython",
    "version": 3
   },
   "file_extension": ".py",
   "mimetype": "text/x-python",
   "name": "python",
   "nbconvert_exporter": "python",
   "pygments_lexer": "ipython3",
   "version": "3.8.5"
  },
  "metadata": {
   "interpreter": {
    "hash": "a6570200391abd47b22bafa3ab36aba8327b6bca09374d4d4cb5f21cfca217ce"
   }
  }
 },
 "nbformat": 4,
 "nbformat_minor": 2
}
