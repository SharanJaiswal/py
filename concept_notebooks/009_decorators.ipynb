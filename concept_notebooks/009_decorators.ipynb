{
 "cells": [
  {
   "cell_type": "markdown",
   "id": "9dffc9b8",
   "metadata": {},
   "source": [
    "# DECORATORS"
   ]
  },
  {
   "cell_type": "markdown",
   "id": "83d75bf6",
   "metadata": {},
   "source": [
    "##### Copying of function:\n",
    "Even after deleting the RHS function, the copy of the returned value will still persist in the LHS variable. This is called copying of the function."
   ]
  },
  {
   "cell_type": "code",
   "execution_count": 34,
   "id": "2b8c7a32",
   "metadata": {},
   "outputs": [],
   "source": [
    "def welcome():\n",
    "    print(\"welcome you\")"
   ]
  },
  {
   "cell_type": "code",
   "execution_count": 35,
   "id": "6536f82a",
   "metadata": {
    "scrolled": true
   },
   "outputs": [
    {
     "name": "stdout",
     "output_type": "stream",
     "text": [
      "welcome you\n"
     ]
    }
   ],
   "source": [
    "welcome()"
   ]
  },
  {
   "cell_type": "code",
   "execution_count": 36,
   "id": "11fc5999",
   "metadata": {},
   "outputs": [
    {
     "name": "stdout",
     "output_type": "stream",
     "text": [
      "welcome you\n"
     ]
    }
   ],
   "source": [
    "wel=welcome()"
   ]
  },
  {
   "cell_type": "code",
   "execution_count": 37,
   "id": "9aacba6c",
   "metadata": {},
   "outputs": [],
   "source": [
    "wel"
   ]
  },
  {
   "cell_type": "code",
   "execution_count": 38,
   "id": "22444cb4",
   "metadata": {},
   "outputs": [],
   "source": [
    "del welcome"
   ]
  },
  {
   "cell_type": "markdown",
   "id": "f27c32fe",
   "metadata": {},
   "source": [
    "lets nake a new function"
   ]
  },
  {
   "cell_type": "code",
   "execution_count": 39,
   "id": "58eefd74",
   "metadata": {},
   "outputs": [],
   "source": [
    "def welcome():\n",
    "    return \"welcome you\""
   ]
  },
  {
   "cell_type": "code",
   "execution_count": 40,
   "id": "3ea554a1",
   "metadata": {},
   "outputs": [],
   "source": [
    "wel=welcome()    # we are doing a function copying"
   ]
  },
  {
   "cell_type": "code",
   "execution_count": 41,
   "id": "eb1d3b53",
   "metadata": {},
   "outputs": [
    {
     "data": {
      "text/plain": [
       "'welcome you'"
      ]
     },
     "execution_count": 41,
     "metadata": {},
     "output_type": "execute_result"
    }
   ],
   "source": [
    "wel"
   ]
  },
  {
   "cell_type": "code",
   "execution_count": 42,
   "id": "299cdc30",
   "metadata": {},
   "outputs": [],
   "source": [
    "del welcome"
   ]
  },
  {
   "cell_type": "code",
   "execution_count": 43,
   "id": "3693b165",
   "metadata": {
    "scrolled": true
   },
   "outputs": [
    {
     "data": {
      "text/plain": [
       "'welcome you'"
      ]
     },
     "execution_count": 43,
     "metadata": {},
     "output_type": "execute_result"
    }
   ],
   "source": [
    "wel"
   ]
  },
  {
   "cell_type": "markdown",
   "id": "2fb1d02a",
   "metadata": {},
   "source": [
    "## closures:\n",
    "Defining functions inside a functions. Child fucntion is called closure function. The nested child function, in its definition, can be able to call or use the function and/or variables of the parent function. Closure remember its values and variables in its enclosing scope, even its parent function gets destroyed.\n",
    "\n",
    "The child function is just its defination. To use the child function, one needs to call it somewhere, using the parent function, or, be it in technical concept, the child function eeds to be called from its parent scope."
   ]
  },
  {
   "cell_type": "code",
   "execution_count": 11,
   "id": "50d5ca51",
   "metadata": {},
   "outputs": [],
   "source": [
    "def print_msg(msg):\n",
    "    greet=\"Hello\"\n",
    "    \n",
    "    def printer():\n",
    "        print(greet, msg)\n",
    "        \n",
    "    printer()    # calling the child function in the scope of the parent function."
   ]
  },
  {
   "cell_type": "code",
   "execution_count": 12,
   "id": "bbdb6907",
   "metadata": {},
   "outputs": [
    {
     "name": "stdout",
     "output_type": "stream",
     "text": [
      "Hello Python theek thaak hi hai!\n"
     ]
    }
   ],
   "source": [
    "print_msg(\"Python theek thaak hi hai!\")"
   ]
  },
  {
   "cell_type": "code",
   "execution_count": 13,
   "id": "052accd6",
   "metadata": {},
   "outputs": [],
   "source": [
    "def main_welcome(stringz):\n",
    "    msg=\"kaise ho aap log\"\n",
    "    def sub_welcome():\n",
    "        print(\"Welcome to my world\")\n",
    "        print(msg, stringz)\n",
    "        print(\"kahtam\")\n",
    "    return sub_welcome()    # Its a kind of calling a child function from the parent function's scope."
   ]
  },
  {
   "cell_type": "code",
   "execution_count": 14,
   "id": "db73a9b2",
   "metadata": {
    "scrolled": true
   },
   "outputs": [
    {
     "name": "stdout",
     "output_type": "stream",
     "text": [
      "Welcome to my world\n",
      "kaise ho aap log sharan here\n",
      "kahtam\n"
     ]
    }
   ],
   "source": [
    "main_welcome(\"sharan here\")"
   ]
  },
  {
   "cell_type": "code",
   "execution_count": 15,
   "id": "90f00d7c",
   "metadata": {},
   "outputs": [],
   "source": [
    "def main_welcome(stringz):\n",
    "    msg=\"kaise ho aap log\"\n",
    "    def sub_welcome():\n",
    "        print(\"Welcome to my world\")\n",
    "        print(msg, stringz)\n",
    "        print(\"kahtam\")\n",
    "    return sub_welcome    # Its a kind of calling a child function from the parent function's scope, but the whole function is being returned."
   ]
  },
  {
   "cell_type": "code",
   "execution_count": 16,
   "id": "50f0dfb7",
   "metadata": {},
   "outputs": [
    {
     "data": {
      "text/plain": [
       "<function __main__.main_welcome.<locals>.sub_welcome()>"
      ]
     },
     "execution_count": 16,
     "metadata": {},
     "output_type": "execute_result"
    }
   ],
   "source": [
    "main_welcome(\"sharan here\")"
   ]
  },
  {
   "cell_type": "code",
   "execution_count": 17,
   "id": "ead26a56",
   "metadata": {},
   "outputs": [],
   "source": [
    "func_itself = main_welcome(\"sharan here\")\n",
    "#perfect example of function copying. Here, 'func_itself' becomes function now.\n",
    "#So to call it, we need to put parenthesis after its name,\n",
    "#because, its catching the whole function itself, not just the value returned by the called function.\n",
    "#Recall the working of returning lambda from a user defined functio. There also we didn't put () while catching\n",
    "#lambda. But while calling it from catching variable, we used () '''"
   ]
  },
  {
   "cell_type": "code",
   "execution_count": 18,
   "id": "944d3be5",
   "metadata": {},
   "outputs": [
    {
     "data": {
      "text/plain": [
       "<function __main__.main_welcome.<locals>.sub_welcome()>"
      ]
     },
     "execution_count": 18,
     "metadata": {},
     "output_type": "execute_result"
    }
   ],
   "source": [
    "func_itself"
   ]
  },
  {
   "cell_type": "code",
   "execution_count": 19,
   "id": "13b49175",
   "metadata": {},
   "outputs": [
    {
     "name": "stdout",
     "output_type": "stream",
     "text": [
      "Welcome to my world\n",
      "kaise ho aap log sharan here\n",
      "kahtam\n"
     ]
    }
   ],
   "source": [
    "func_itself()"
   ]
  },
  {
   "cell_type": "markdown",
   "id": "45345bc9",
   "metadata": {},
   "source": [
    "## closures and initial concept decorators\n",
    "##### passing \\[inbuilt\\] function as argument to a function receiving function as a parameter."
   ]
  },
  {
   "cell_type": "code",
   "execution_count": 20,
   "id": "e349ffad",
   "metadata": {},
   "outputs": [],
   "source": [
    "def main_welcome(func):\n",
    "    msg=\"kaise ho aap log\"\n",
    "    def sub_welcome():\n",
    "        print(\"Welcome to my world\")\n",
    "        print(msg)\n",
    "        func(\"ki haal?\")\n",
    "        print(\"kahtam\")\n",
    "    return sub_welcome()"
   ]
  },
  {
   "cell_type": "code",
   "execution_count": 21,
   "id": "a88d64a9",
   "metadata": {},
   "outputs": [
    {
     "name": "stdout",
     "output_type": "stream",
     "text": [
      "Welcome to my world\n",
      "kaise ho aap log\n",
      "ki haal?\n",
      "kahtam\n"
     ]
    }
   ],
   "source": [
    "main_welcome(print) # passing an inbuilt function"
   ]
  },
  {
   "cell_type": "markdown",
   "id": "393bbb88",
   "metadata": {},
   "source": [
    "##### passing an user defined function"
   ]
  },
  {
   "cell_type": "code",
   "execution_count": 22,
   "id": "28272982",
   "metadata": {},
   "outputs": [],
   "source": [
    "def main_welcome(func):\n",
    "    msg=\"kaise ho aap log\"\n",
    "    def sub_welcome():\n",
    "        print(\"Welcome to my world\")\n",
    "        print(msg)\n",
    "        print(\"executing now the\", func.__name__, \"function.\")\n",
    "        func()\n",
    "        print(\"kahtam\")\n",
    "    return sub_welcome"
   ]
  },
  {
   "cell_type": "code",
   "execution_count": 23,
   "id": "361f598f",
   "metadata": {},
   "outputs": [],
   "source": [
    "def pet_name():\n",
    "    print(\"nahi bataunga\")"
   ]
  },
  {
   "cell_type": "code",
   "execution_count": 24,
   "id": "fbdc757d",
   "metadata": {
    "scrolled": true
   },
   "outputs": [],
   "source": [
    "whl_func = main_welcome(pet_name)"
   ]
  },
  {
   "cell_type": "code",
   "execution_count": 25,
   "id": "19abefe2",
   "metadata": {
    "scrolled": true
   },
   "outputs": [
    {
     "name": "stdout",
     "output_type": "stream",
     "text": [
      "Welcome to my world\n",
      "kaise ho aap log\n",
      "executing now the pet_name function.\n",
      "nahi bataunga\n",
      "kahtam\n"
     ]
    }
   ],
   "source": [
    "whl_func()"
   ]
  },
  {
   "cell_type": "markdown",
   "id": "93762a1e",
   "metadata": {},
   "source": [
    "### PURE DECORATOR:\n",
    "by definition, python decorators are the functions that takes another functions, add some functionality to it and then returns it.\n",
    "\n",
    "Decorators makes extensive use of decorators.\n",
    "\n",
    "Calling a function from the another function. Just put the name of the calling function just before the to be called function name, prepending it with the '@', and run it. This will automatically pass that to be called function to the '@' prepended function, and will run that calling function.\n",
    "\n",
    "This is helpful when we need to call one function to several function. So we mention calling function names before the to be called function name."
   ]
  },
  {
   "cell_type": "code",
   "execution_count": 26,
   "id": "217c0730",
   "metadata": {},
   "outputs": [],
   "source": [
    "@main_welcome\n",
    "def pet_name():\n",
    "    print(\"nahi bataunga\")"
   ]
  },
  {
   "cell_type": "code",
   "execution_count": 27,
   "id": "0da3ecda",
   "metadata": {},
   "outputs": [
    {
     "name": "stdout",
     "output_type": "stream",
     "text": [
      "Welcome to my world\n",
      "kaise ho aap log\n",
      "executing now the pet_name function.\n",
      "nahi bataunga\n",
      "kahtam\n"
     ]
    }
   ],
   "source": [
    "# now calling the pet_name will ensure that pet_name will get pass to the decorator, and eventually decorator will get called\n",
    "pet_name()"
   ]
  },
  {
   "cell_type": "markdown",
   "id": "1eaebe65",
   "metadata": {},
   "source": [
    "###### decorating functions with parameters\n",
    "Passing the parameters of decorators' parameter function's parameters to closure."
   ]
  },
  {
   "cell_type": "code",
   "execution_count": 28,
   "id": "015c7664",
   "metadata": {},
   "outputs": [],
   "source": [
    "def smart_divide(func):\n",
    "    def denom_check(a, b):    # since the inner function replaces our original function, the parametrs should be passed to our inner function\n",
    "        print(\"Dividing\", a, \"by\", b)\n",
    "        if b == 0:\n",
    "            print(\"Cannot divide by 0\")\n",
    "            return    # returning 'None' from the decorator\n",
    "        #else part\n",
    "        return func(a, b)\n",
    "    return denom_check\n",
    "\n",
    "@smart_divide\n",
    "def divide(a, b):\n",
    "    return a/b"
   ]
  },
  {
   "cell_type": "code",
   "execution_count": 29,
   "id": "75dea228",
   "metadata": {},
   "outputs": [
    {
     "name": "stdout",
     "output_type": "stream",
     "text": [
      "Dividing 15 by 3\n",
      "5.0\n",
      "Dividing 5 by 0\n",
      "Cannot divide by 0\n",
      "None\n"
     ]
    }
   ],
   "source": [
    "val1 = divide(15, 3)\n",
    "print(val1)\n",
    "\n",
    "val2 = divide(5, 0)\n",
    "print(val2)"
   ]
  },
  {
   "cell_type": "markdown",
   "id": "62b82884",
   "metadata": {},
   "source": [
    "#### Decorating function with same/different decorators"
   ]
  },
  {
   "cell_type": "code",
   "execution_count": 30,
   "id": "47a14a18",
   "metadata": {},
   "outputs": [],
   "source": [
    "def star(func):\n",
    "    def inner(arg):\n",
    "        print(\"*\"*30)\n",
    "        func(arg)\n",
    "        print(\"*\"*30)\n",
    "    return inner"
   ]
  },
  {
   "cell_type": "code",
   "execution_count": 31,
   "id": "4b692eef",
   "metadata": {},
   "outputs": [],
   "source": [
    "def percent(func):\n",
    "    def inner(arg):\n",
    "        print(\"%\" * 30)\n",
    "        func(arg)\n",
    "        print(\"%\" * 30)\n",
    "    return inner"
   ]
  },
  {
   "cell_type": "markdown",
   "id": "415303c8",
   "metadata": {},
   "source": [
    "the below two cells are similar as writing:\n",
    "    \n",
    "    def printer(msg):\n",
    "        print(msg)\n",
    "    \n",
    "    printer = star(percent(printer))"
   ]
  },
  {
   "cell_type": "code",
   "execution_count": 32,
   "id": "dd0b1dfd",
   "metadata": {},
   "outputs": [],
   "source": [
    "@star\n",
    "@percent\n",
    "def printer(msg):\n",
    "    print(msg)"
   ]
  },
  {
   "cell_type": "code",
   "execution_count": 33,
   "id": "64770773",
   "metadata": {},
   "outputs": [
    {
     "name": "stdout",
     "output_type": "stream",
     "text": [
      "******************************\n",
      "%%%%%%%%%%%%%%%%%%%%%%%%%%%%%%\n",
      "Decorators are wonderful\n",
      "%%%%%%%%%%%%%%%%%%%%%%%%%%%%%%\n",
      "******************************\n"
     ]
    }
   ],
   "source": [
    "printer(\"Decorators are wonderful\")"
   ]
  }
 ],
 "metadata": {
  "kernelspec": {
   "display_name": "Python 3.8.5 64-bit ('base': conda)",
   "language": "python",
   "name": "python385jvsc74a57bd0a6570200391abd47b22bafa3ab36aba8327b6bca09374d4d4cb5f21cfca217ce"
  },
  "language_info": {
   "codemirror_mode": {
    "name": "ipython",
    "version": 3
   },
   "file_extension": ".py",
   "mimetype": "text/x-python",
   "name": "python",
   "nbconvert_exporter": "python",
   "pygments_lexer": "ipython3",
   "version": "3.8.5"
  }
 },
 "nbformat": 4,
 "nbformat_minor": 5
}
