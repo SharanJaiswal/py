{
 "cells": [
  {
   "cell_type": "markdown",
   "id": "54704855",
   "metadata": {},
   "source": [
    "## Start of OOPs in Python"
   ]
  },
  {
   "cell_type": "code",
   "execution_count": 1,
   "id": "fe15f521",
   "metadata": {},
   "outputs": [
    {
     "data": {
      "text/plain": [
       "<__main__.Car at 0x7f9bcc5be760>"
      ]
     },
     "execution_count": 1,
     "metadata": {},
     "output_type": "execute_result"
    }
   ],
   "source": [
    "class Car:\n",
    "    pass\n",
    "\n",
    "# initialize an object\n",
    "car1 = Car()\n",
    "car1"
   ]
  },
  {
   "cell_type": "code",
   "execution_count": 2,
   "id": "f6ccce8f",
   "metadata": {},
   "outputs": [],
   "source": [
    "car1.windows=5\n",
    "car1.doors=5"
   ]
  },
  {
   "cell_type": "code",
   "execution_count": 3,
   "id": "cbe97925",
   "metadata": {},
   "outputs": [
    {
     "name": "stdout",
     "output_type": "stream",
     "text": [
      "3\n"
     ]
    }
   ],
   "source": [
    "car2 = Car()\n",
    "car2.windows=3\n",
    "car2.doors=2\n",
    "\n",
    "print(car2.windows)"
   ]
  },
  {
   "cell_type": "code",
   "execution_count": 4,
   "id": "391405f3",
   "metadata": {},
   "outputs": [
    {
     "name": "stdout",
     "output_type": "stream",
     "text": [
      "petrol\n"
     ]
    }
   ],
   "source": [
    "car2.enginetype=\"petrol\"\n",
    "print(car2.enginetype)"
   ]
  },
  {
   "cell_type": "markdown",
   "id": "d85469e3",
   "metadata": {},
   "source": [
    "so far we have seen that there is no limit on the number of attributes. It is a bad approach. To overcome this, there is \\_\\_init\\_\\_() in built function. It is initialization constructor, used to initialize the number of properties that should be initialized inside of that particular class."
   ]
  },
  {
   "cell_type": "markdown",
   "id": "7a15da98",
   "metadata": {},
   "source": [
    "even if no 'Pass' is mentioned inside the class definition, instances can create its own attributes. These attributes is limited to that instance only, and is not creted by default for any other instances. These attributes can be easily used in class defined functions, if that method's definitionhas mention of that attribute created, like \"self.\\<out_attr\\>\""
   ]
  },
  {
   "cell_type": "code",
   "execution_count": 5,
   "id": "000770e2",
   "metadata": {},
   "outputs": [
    {
     "name": "stdout",
     "output_type": "stream",
     "text": [
      "7 7\n"
     ]
    }
   ],
   "source": [
    "# prog to add two complex numbers using custom funvtion\n",
    "\n",
    "class Complex:\n",
    "    def __init__(self, real, img):\n",
    "        self.real=real\n",
    "        self.img=img\n",
    "        \n",
    "    def add(self, number):\n",
    "        real=self.real+number.real\n",
    "        img=self.img+number.img\n",
    "        result=Complex(real, img)\n",
    "        return result\n",
    "    \n",
    "n1=Complex(4,5)\n",
    "n2=Complex(3,2)\n",
    "\n",
    "result=n1.add(n2)\n",
    "print(result.real, result.img)"
   ]
  },
  {
   "cell_type": "code",
   "execution_count": 6,
   "id": "be31412c",
   "metadata": {
    "scrolled": false
   },
   "outputs": [
    {
     "data": {
      "text/plain": [
       "['__class__',\n",
       " '__delattr__',\n",
       " '__dict__',\n",
       " '__dir__',\n",
       " '__doc__',\n",
       " '__eq__',\n",
       " '__format__',\n",
       " '__ge__',\n",
       " '__getattribute__',\n",
       " '__gt__',\n",
       " '__hash__',\n",
       " '__init__',\n",
       " '__init_subclass__',\n",
       " '__le__',\n",
       " '__lt__',\n",
       " '__module__',\n",
       " '__ne__',\n",
       " '__new__',\n",
       " '__reduce__',\n",
       " '__reduce_ex__',\n",
       " '__repr__',\n",
       " '__setattr__',\n",
       " '__sizeof__',\n",
       " '__str__',\n",
       " '__subclasshook__',\n",
       " '__weakref__',\n",
       " 'doors',\n",
       " 'windows']"
      ]
     },
     "execution_count": 6,
     "metadata": {},
     "output_type": "execute_result"
    }
   ],
   "source": [
    "dir(car1)"
   ]
  },
  {
   "cell_type": "code",
   "execution_count": 7,
   "id": "defefe59",
   "metadata": {},
   "outputs": [],
   "source": [
    "class Samp():\n",
    "    def __init__(self, atr1, atr2, atr3):\n",
    "        self.atr1=atr1\n",
    "        self._atr2=atr2\n",
    "        self.__atr3=atr3"
   ]
  },
  {
   "cell_type": "code",
   "execution_count": 8,
   "id": "ecf2fcb5",
   "metadata": {},
   "outputs": [],
   "source": [
    "obj1=Samp(2,3,6)"
   ]
  },
  {
   "cell_type": "code",
   "execution_count": 9,
   "id": "1eb6efae",
   "metadata": {},
   "outputs": [
    {
     "data": {
      "text/plain": [
       "['_Samp__atr3',\n",
       " '__class__',\n",
       " '__delattr__',\n",
       " '__dict__',\n",
       " '__dir__',\n",
       " '__doc__',\n",
       " '__eq__',\n",
       " '__format__',\n",
       " '__ge__',\n",
       " '__getattribute__',\n",
       " '__gt__',\n",
       " '__hash__',\n",
       " '__init__',\n",
       " '__init_subclass__',\n",
       " '__le__',\n",
       " '__lt__',\n",
       " '__module__',\n",
       " '__ne__',\n",
       " '__new__',\n",
       " '__reduce__',\n",
       " '__reduce_ex__',\n",
       " '__repr__',\n",
       " '__setattr__',\n",
       " '__sizeof__',\n",
       " '__str__',\n",
       " '__subclasshook__',\n",
       " '__weakref__',\n",
       " '_atr2',\n",
       " 'atr1']"
      ]
     },
     "execution_count": 9,
     "metadata": {},
     "output_type": "execute_result"
    }
   ],
   "source": [
    "dir(obj1)"
   ]
  },
  {
   "cell_type": "code",
   "execution_count": 5,
   "id": "759abe82",
   "metadata": {},
   "outputs": [],
   "source": [
    "class Caar:\n",
    "    def __init__(self, window, door, enginetype):\n",
    "        # creating/initializing attributes/variables(windows, doors, enginetypes) inside this class.\n",
    "        # append no more than single underscore. Prepend no more than double underscores.\n",
    "        self.windows=window    # no underscore : public access specifier\n",
    "        self._doors=door    # 1 underscore : protected access specifier can be accessed from their class as well as from the derived class\n",
    "        self.__enginetypes=enginetype    # 2 underscores : private access specifier can only be accessed from their class\n",
    "        \n",
    "    def self_driving(self):\n",
    "        return \"This is a {} engine car\".format(self._enginetypes)"
   ]
  },
  {
   "cell_type": "code",
   "execution_count": 6,
   "id": "6d35d261",
   "metadata": {},
   "outputs": [],
   "source": [
    "caar1=Caar(4, 5, \"petrol\")\n",
    "# as soon as Caaris called, by defalult __init__() constructor is called, and it initializes the variables/attribute. The value of them is taken from the object creation"
   ]
  },
  {
   "cell_type": "markdown",
   "id": "70148987",
   "metadata": {},
   "source": [
    "the self is referencing the object, and for that object all the variables/attributs are created"
   ]
  },
  {
   "cell_type": "code",
   "execution_count": 7,
   "id": "4381a031",
   "metadata": {},
   "outputs": [],
   "source": [
    "caar2=Caar(3,4,\"diesel\")"
   ]
  },
  {
   "cell_type": "code",
   "execution_count": 8,
   "id": "1144c3f3",
   "metadata": {},
   "outputs": [
    {
     "name": "stdout",
     "output_type": "stream",
     "text": [
      "4\n",
      "4\n",
      "diesel\n"
     ]
    }
   ],
   "source": [
    "print(caar1.windows)\n",
    "print(caar2._doors)\n",
    "print(caar2._Caar__enginetypes)"
   ]
  },
  {
   "cell_type": "code",
   "execution_count": 14,
   "id": "ad2428d3",
   "metadata": {},
   "outputs": [
    {
     "data": {
      "text/plain": [
       "'This is a petrol engine car'"
      ]
     },
     "execution_count": 14,
     "metadata": {},
     "output_type": "execute_result"
    }
   ],
   "source": [
    "caar1.self_driving()"
   ]
  },
  {
   "cell_type": "markdown",
   "id": "7b135214",
   "metadata": {},
   "source": [
    "# INHERITANCE"
   ]
  },
  {
   "cell_type": "code",
   "execution_count": 3,
   "id": "f5f8d21a",
   "metadata": {},
   "outputs": [],
   "source": [
    "class Caaar:\n",
    "    def __init__(self, window, door, enginetype):\n",
    "        self.windows=window\n",
    "        self.doors=door\n",
    "        self.enginetypes=enginetype\n",
    "        \n",
    "    def drives(self):\n",
    "        print(\"The person drives the car\")"
   ]
  },
  {
   "cell_type": "markdown",
   "id": "f125382a",
   "metadata": {},
   "source": [
    "#### making child class"
   ]
  },
  {
   "cell_type": "code",
   "execution_count": 4,
   "id": "0f952f8c",
   "metadata": {
    "scrolled": true
   },
   "outputs": [],
   "source": [
    "class audi(Caaar):\n",
    "    def __init__(self, windows, doors, enginetypes, enableai):\n",
    "        super().__init__(windows, doors, enginetypes)   # instead of 'super()', one can use the name of the parent class. e.g., Caaar.__init__(sel.......\n",
    "        self.enableai=enableai\n",
    "    def selfdriving(self):\n",
    "        print(\"Audi supports self-driving\")"
   ]
  },
  {
   "cell_type": "code",
   "execution_count": 5,
   "id": "f76011de",
   "metadata": {},
   "outputs": [
    {
     "name": "stdout",
     "output_type": "stream",
     "text": [
      "5 5 diesel\n"
     ]
    }
   ],
   "source": [
    "audiQ7=audi(5,5,\"diesel\", True)\n",
    "print(audiQ7.windows, audiQ7.doors, audiQ7.enginetypes)"
   ]
  },
  {
   "cell_type": "code",
   "execution_count": 18,
   "id": "55988df4",
   "metadata": {
    "scrolled": false
   },
   "outputs": [
    {
     "data": {
      "text/plain": [
       "['__class__',\n",
       " '__delattr__',\n",
       " '__dict__',\n",
       " '__dir__',\n",
       " '__doc__',\n",
       " '__eq__',\n",
       " '__format__',\n",
       " '__ge__',\n",
       " '__getattribute__',\n",
       " '__gt__',\n",
       " '__hash__',\n",
       " '__init__',\n",
       " '__init_subclass__',\n",
       " '__le__',\n",
       " '__lt__',\n",
       " '__module__',\n",
       " '__ne__',\n",
       " '__new__',\n",
       " '__reduce__',\n",
       " '__reduce_ex__',\n",
       " '__repr__',\n",
       " '__setattr__',\n",
       " '__sizeof__',\n",
       " '__str__',\n",
       " '__subclasshook__',\n",
       " '__weakref__',\n",
       " 'doors',\n",
       " 'drives',\n",
       " 'enableai',\n",
       " 'enginetypes',\n",
       " 'selfdriving',\n",
       " 'windows']"
      ]
     },
     "execution_count": 18,
     "metadata": {},
     "output_type": "execute_result"
    }
   ],
   "source": [
    "dir(audiQ7)"
   ]
  },
  {
   "cell_type": "markdown",
   "id": "ddc81a90",
   "metadata": {},
   "source": [
    "## MULTIPLE INHERITANCE"
   ]
  },
  {
   "cell_type": "code",
   "execution_count": 19,
   "id": "130806b1",
   "metadata": {},
   "outputs": [],
   "source": [
    "class A:\n",
    "    def method1(self):\n",
    "        print(\"A class method is called here.\")\n",
    "    \n",
    "    def meth_a(self):\n",
    "        print(\"this is met A!\")"
   ]
  },
  {
   "cell_type": "code",
   "execution_count": 20,
   "id": "68dcf51b",
   "metadata": {},
   "outputs": [],
   "source": [
    "class B(A):\n",
    "    def method1(self):\n",
    "        print(\"B class method is called here.\")\n",
    "    \n",
    "    def meth_b(self):\n",
    "        print(\"this is met B!\")"
   ]
  },
  {
   "cell_type": "code",
   "execution_count": 21,
   "id": "7f3f6a1f",
   "metadata": {},
   "outputs": [],
   "source": [
    "class C(A):\n",
    "    def method1(self):\n",
    "        print(\"C class method is called here.\")\n",
    "    \n",
    "    def meth_c(self):\n",
    "        print(\"this is met C!\")"
   ]
  },
  {
   "cell_type": "code",
   "execution_count": 22,
   "id": "98ced3df",
   "metadata": {},
   "outputs": [],
   "source": [
    "class D(B,C):\n",
    "    def method1(self):\n",
    "        print(\"D class method is called here.\")\n",
    "    \n",
    "    def meth_d(self):\n",
    "        print(\"this is met D!\")"
   ]
  },
  {
   "cell_type": "markdown",
   "id": "b622b842",
   "metadata": {},
   "source": [
    "**Making instance of class D**"
   ]
  },
  {
   "cell_type": "code",
   "execution_count": 23,
   "id": "2b27d800",
   "metadata": {},
   "outputs": [],
   "source": [
    "d=D()"
   ]
  },
  {
   "cell_type": "code",
   "execution_count": 24,
   "id": "b210f193",
   "metadata": {},
   "outputs": [
    {
     "name": "stdout",
     "output_type": "stream",
     "text": [
      "this is met D!\n"
     ]
    }
   ],
   "source": [
    "d.meth_d()"
   ]
  },
  {
   "cell_type": "code",
   "execution_count": 25,
   "id": "4b7c7289",
   "metadata": {},
   "outputs": [
    {
     "name": "stdout",
     "output_type": "stream",
     "text": [
      "D class method is called here.\n"
     ]
    }
   ],
   "source": [
    "d.method1()"
   ]
  },
  {
   "cell_type": "code",
   "execution_count": 26,
   "id": "a9d7da3b",
   "metadata": {},
   "outputs": [
    {
     "name": "stdout",
     "output_type": "stream",
     "text": [
      "B class method is called here.\n",
      "this is met B!\n",
      "this is met B!\n",
      "this is met A!\n"
     ]
    }
   ],
   "source": [
    "# calling method1 of parent class with the instance of child class. (two methods)\n",
    "B.method1(d)    # M1\n",
    "B.meth_b(d)    # M1\n",
    "\n",
    "d.meth_b()    # M2\n",
    "d.meth_a()"
   ]
  },
  {
   "cell_type": "code",
   "execution_count": 27,
   "id": "7f460392",
   "metadata": {},
   "outputs": [
    {
     "name": "stdout",
     "output_type": "stream",
     "text": [
      "C class method is called here.\n",
      "this is met C!\n"
     ]
    }
   ],
   "source": [
    "C.method1(d)\n",
    "C.meth_c(d)"
   ]
  },
  {
   "cell_type": "code",
   "execution_count": 28,
   "id": "f77ad8e5",
   "metadata": {
    "scrolled": true
   },
   "outputs": [
    {
     "name": "stdout",
     "output_type": "stream",
     "text": [
      "A class method is called here.\n",
      "this is met A!\n"
     ]
    }
   ],
   "source": [
    "# since A is parent of parent of D, so relevant attributes of A will also be inherited to D\n",
    "A.method1(d)\n",
    "A.meth_a(d)"
   ]
  },
  {
   "cell_type": "markdown",
   "id": "f377697f",
   "metadata": {},
   "source": [
    "###### Calling methods from the parent class as soon as class method is called"
   ]
  },
  {
   "cell_type": "code",
   "execution_count": 29,
   "id": "00fed485",
   "metadata": {},
   "outputs": [],
   "source": [
    "class E(D):\n",
    "    def method1(self):\n",
    "        print(\"E class method is called here.\")\n",
    "        A.method1(self)    # calling parent class method using class. requires self keyword\n",
    "        B.method1(self)\n",
    "        C.method1(self)\n",
    "        D.method1(self)\n",
    "        # super() return temporary object of the super class of the subclass. Simply, its like an object of an parent class. Hence we dont provide self as parameter to the parent method call\n",
    "        super().method1()    # this doesn't need self keyword, and is orthodox method to call parent class method\n",
    "        # super().super().method1()  # bakaiti nahi chalta idhar"
   ]
  },
  {
   "cell_type": "code",
   "execution_count": 30,
   "id": "96e54d6e",
   "metadata": {},
   "outputs": [],
   "source": [
    "e=E()"
   ]
  },
  {
   "cell_type": "code",
   "execution_count": 31,
   "id": "a40ad024",
   "metadata": {
    "scrolled": true
   },
   "outputs": [
    {
     "name": "stdout",
     "output_type": "stream",
     "text": [
      "E class method is called here.\n",
      "A class method is called here.\n",
      "B class method is called here.\n",
      "C class method is called here.\n",
      "D class method is called here.\n",
      "D class method is called here.\n"
     ]
    }
   ],
   "source": [
    "e.method1()"
   ]
  },
  {
   "cell_type": "markdown",
   "id": "7ce2163f",
   "metadata": {},
   "source": [
    "## OOPs magic methods in Class\n",
    "Some magic happens in the background that helps to create the class's object."
   ]
  },
  {
   "cell_type": "code",
   "execution_count": 32,
   "id": "9284445f",
   "metadata": {},
   "outputs": [],
   "source": [
    "c=Caaar(4,5,\"diesel\")"
   ]
  },
  {
   "cell_type": "code",
   "execution_count": 33,
   "id": "8a565fa3",
   "metadata": {},
   "outputs": [
    {
     "data": {
      "text/plain": [
       "<__main__.Caaar at 0x7f9bcc55cdc0>"
      ]
     },
     "execution_count": 33,
     "metadata": {},
     "output_type": "execute_result"
    }
   ],
   "source": [
    "c"
   ]
  },
  {
   "cell_type": "code",
   "execution_count": 34,
   "id": "30963e94",
   "metadata": {
    "scrolled": false
   },
   "outputs": [
    {
     "data": {
      "text/plain": [
       "['__class__',\n",
       " '__delattr__',\n",
       " '__dict__',\n",
       " '__dir__',\n",
       " '__doc__',\n",
       " '__eq__',\n",
       " '__format__',\n",
       " '__ge__',\n",
       " '__getattribute__',\n",
       " '__gt__',\n",
       " '__hash__',\n",
       " '__init__',\n",
       " '__init_subclass__',\n",
       " '__le__',\n",
       " '__lt__',\n",
       " '__module__',\n",
       " '__ne__',\n",
       " '__new__',\n",
       " '__reduce__',\n",
       " '__reduce_ex__',\n",
       " '__repr__',\n",
       " '__setattr__',\n",
       " '__sizeof__',\n",
       " '__str__',\n",
       " '__subclasshook__',\n",
       " '__weakref__',\n",
       " 'doors',\n",
       " 'drives',\n",
       " 'enginetypes',\n",
       " 'windows']"
      ]
     },
     "execution_count": 34,
     "metadata": {},
     "output_type": "execute_result"
    }
   ],
   "source": [
    "dir(c)    # all the double underscore enclodes methods listed below are called magic methods"
   ]
  },
  {
   "cell_type": "code",
   "execution_count": 35,
   "id": "8d5dcd74",
   "metadata": {},
   "outputs": [],
   "source": [
    "class Caaar:\n",
    "    def __init__(self, window, door, enginetype):\n",
    "        self.windows=window\n",
    "        self.doors=door\n",
    "        self.enginetypes=enginetype\n",
    "        \n",
    "    def drives(self):\n",
    "        print(\"The person drives the car\")\n",
    "    \n",
    "    def __str__(self):\n",
    "        return \"The object has been initialized\""
   ]
  },
  {
   "cell_type": "code",
   "execution_count": 36,
   "id": "a4a92cfc",
   "metadata": {},
   "outputs": [],
   "source": [
    "c=Caaar(4, 5, \"Diesel\")"
   ]
  },
  {
   "cell_type": "markdown",
   "id": "7b09c08b",
   "metadata": {},
   "source": [
    "We can override magic methods. print(\\<objects\\>) calls \\_\\_str()\\_\\_. Here we'll override it, with our custom function definition."
   ]
  },
  {
   "cell_type": "code",
   "execution_count": 37,
   "id": "eae4544d",
   "metadata": {},
   "outputs": [
    {
     "name": "stdout",
     "output_type": "stream",
     "text": [
      "The object has been initialized\n"
     ]
    }
   ],
   "source": [
    "print(c)"
   ]
  },
  {
   "cell_type": "code",
   "execution_count": 38,
   "id": "b582728e",
   "metadata": {},
   "outputs": [
    {
     "data": {
      "text/plain": [
       "<__main__.Caaar at 0x7f9bcc594370>"
      ]
     },
     "execution_count": 38,
     "metadata": {},
     "output_type": "execute_result"
    }
   ],
   "source": [
    "c\n",
    "# it'll be the same as it was giving in print(c). But now we've overridden __str__() which is called by print(<obj>)"
   ]
  },
  {
   "cell_type": "code",
   "execution_count": 39,
   "id": "5d088c30",
   "metadata": {},
   "outputs": [
    {
     "data": {
      "text/plain": [
       "32"
      ]
     },
     "execution_count": 39,
     "metadata": {},
     "output_type": "execute_result"
    }
   ],
   "source": [
    "c.__sizeof__()"
   ]
  },
  {
   "cell_type": "code",
   "execution_count": 40,
   "id": "4d8c0cc5",
   "metadata": {},
   "outputs": [
    {
     "data": {
      "text/plain": [
       "'The object has been initialized'"
      ]
     },
     "execution_count": 40,
     "metadata": {},
     "output_type": "execute_result"
    }
   ],
   "source": [
    "c.__str__()"
   ]
  },
  {
   "cell_type": "code",
   "execution_count": 10,
   "id": "5c5d8c4f",
   "metadata": {},
   "outputs": [],
   "source": [
    "class Caaar:\n",
    "    def __new__(self, window, door, enginetype):\n",
    "        print(\"New is being called even before init. It is called during class\\'s object creation\")\n",
    "    def __init__(self, window, door, enginetype):\n",
    "        self.windows=window\n",
    "        self.doors=door\n",
    "        self.enginetypes=enginetype\n",
    "        \n",
    "    def drives(self):\n",
    "        print(\"The person drives the car\")\n",
    "    \n",
    "    def __str__(self):\n",
    "        return \"The object has been initialized\""
   ]
  },
  {
   "cell_type": "code",
   "execution_count": 11,
   "id": "42bd3022",
   "metadata": {},
   "outputs": [
    {
     "name": "stdout",
     "output_type": "stream",
     "text": [
      "New is being called even before init. It is called during class's object creation\n"
     ]
    }
   ],
   "source": [
    "c=Caaar(6, 7, \"Petrollllll\")"
   ]
  },
  {
   "cell_type": "markdown",
   "id": "39c0ca22",
   "metadata": {},
   "source": [
    "## Class methods and Class Variables"
   ]
  },
  {
   "cell_type": "code",
   "execution_count": 43,
   "id": "63356f97",
   "metadata": {},
   "outputs": [],
   "source": [
    "class Bike:\n",
    "    base_price = 100000    # class var. Any obj of this class will have common base price at any instance. Value may vary at different time, but for every obj, value will be same.\n",
    "    \n",
    "    def __init__(self, window, door, power):\n",
    "        self.windows = window\n",
    "        self.doors = door\n",
    "        self.power = power\n",
    "        \n",
    "    def what_base_price(self):\n",
    "        print(\"The base price : {}\".format(self.base_price))\n",
    "        \n",
    "    @classmethod    # decorator\n",
    "    def revise_base_price(cls, inflation):\n",
    "        cls.base_price = cls.base_price + cls.base_price * inflation"
   ]
  },
  {
   "cell_type": "markdown",
   "id": "ccf96c8c",
   "metadata": {},
   "source": [
    "**ways to access base price:**"
   ]
  },
  {
   "cell_type": "code",
   "execution_count": 44,
   "id": "d68d6af0",
   "metadata": {},
   "outputs": [
    {
     "name": "stdout",
     "output_type": "stream",
     "text": [
      "100000\n",
      "The base price : 100000\n",
      "100000\n"
     ]
    }
   ],
   "source": [
    "bike1 = Bike(4, 5, 2000)\n",
    "print(bike1.base_price)    # M1\n",
    "bike1.what_base_price()    # M2\n",
    "\n",
    "print(Bike.base_price)    # M3"
   ]
  },
  {
   "cell_type": "code",
   "execution_count": 45,
   "id": "0d7b1101",
   "metadata": {},
   "outputs": [],
   "source": [
    "# updating inflated rate for the first time\n",
    "Bike.revise_base_price(0.10)"
   ]
  },
  {
   "cell_type": "code",
   "execution_count": 46,
   "id": "3dfcf7b5",
   "metadata": {},
   "outputs": [
    {
     "name": "stdout",
     "output_type": "stream",
     "text": [
      "110000.0\n",
      "The base price : 110000.0\n",
      "110000.0\n"
     ]
    }
   ],
   "source": [
    "print(bike1.base_price)    # M1\n",
    "bike1.what_base_price()    # M2\n",
    "\n",
    "print(Bike.base_price)    # M3"
   ]
  },
  {
   "cell_type": "markdown",
   "id": "4932f563",
   "metadata": {},
   "source": [
    "**Here we are seeing that the class variable is also getting updated from the object. But this not allowed in real world practice. So avoid/restrict updation of class variable using its instance.**"
   ]
  },
  {
   "cell_type": "code",
   "execution_count": 47,
   "id": "9c1368a4",
   "metadata": {},
   "outputs": [],
   "source": [
    "bike1.revise_base_price(0.10)"
   ]
  },
  {
   "cell_type": "code",
   "execution_count": 48,
   "id": "eb35749c",
   "metadata": {},
   "outputs": [
    {
     "name": "stdout",
     "output_type": "stream",
     "text": [
      "121000.0\n",
      "The base price : 121000.0\n",
      "121000.0\n"
     ]
    }
   ],
   "source": [
    "print(bike1.base_price)    # M1\n",
    "bike1.what_base_price()    # M2\n",
    "\n",
    "print(Bike.base_price)    # M3"
   ]
  },
  {
   "cell_type": "code",
   "execution_count": 49,
   "id": "e8011ce0",
   "metadata": {},
   "outputs": [],
   "source": [
    "bike2 = Bike(9, 12, 2000)"
   ]
  },
  {
   "cell_type": "code",
   "execution_count": 50,
   "id": "c0f6a1e7",
   "metadata": {},
   "outputs": [
    {
     "name": "stdout",
     "output_type": "stream",
     "text": [
      "121000.0\n",
      "The base price : 121000.0\n",
      "121000.0\n"
     ]
    }
   ],
   "source": [
    "# for object bike2\n",
    "print(bike2.base_price)    # M1\n",
    "bike2.what_base_price()    # M2\n",
    "\n",
    "print(Bike.base_price)    # M3"
   ]
  },
  {
   "cell_type": "markdown",
   "id": "a756c2c4",
   "metadata": {},
   "source": [
    "## Static Methods in Python\n",
    "As soon as the class gets loaded, the first thing that gets initialized is STATIC METHOD. Its lifetime is until when application is running. Unlike the other way, it doesn't get initialized everytime, when the instance being made. Initialize class for just once, and it will live forever. It can be called with classname, instancename, etc. It is fast."
   ]
  },
  {
   "cell_type": "code",
   "execution_count": 51,
   "id": "ed098a18",
   "metadata": {},
   "outputs": [],
   "source": [
    "class Bike:\n",
    "    base_price = 100000    # class var. Any obj of this class will have common base price at any instance. Value may vary at different time, but for every obj, value will be same.\n",
    "    \n",
    "    def __init__(self, window, door, power):\n",
    "        self.windows = window\n",
    "        self.doors = door\n",
    "        self.power = power\n",
    "        \n",
    "    def what_base_price(self):\n",
    "        print(\"The base price : {}\".format(self.base_price))\n",
    "        \n",
    "    @classmethod    # decorator\n",
    "    def revise_base_price(cls, inflation):\n",
    "        cls.base_price = cls.base_price + cls.base_price * inflation\n",
    "        \n",
    "    @staticmethod\n",
    "    def check_year(year):    # we don't provide here neither INSTANCE nor CLASS parameter (or dont provide any parameter if we want), in static method, because multiple copies of static method is not allowed to create. Even then also, we can able to call this method, withe help of class\n",
    "        if year==2021:\n",
    "            return True\n",
    "        else:\n",
    "            return False"
   ]
  },
  {
   "cell_type": "code",
   "execution_count": 52,
   "id": "e779bbdc",
   "metadata": {},
   "outputs": [
    {
     "data": {
      "text/plain": [
       "True"
      ]
     },
     "execution_count": 52,
     "metadata": {},
     "output_type": "execute_result"
    }
   ],
   "source": [
    "Bike.check_year(2021)"
   ]
  },
  {
   "cell_type": "code",
   "execution_count": 53,
   "id": "853e605c",
   "metadata": {},
   "outputs": [],
   "source": [
    "bike1 = Bike(4, 5, 2000)"
   ]
  },
  {
   "cell_type": "code",
   "execution_count": 54,
   "id": "73f5e930",
   "metadata": {},
   "outputs": [
    {
     "data": {
      "text/plain": [
       "False"
      ]
     },
     "execution_count": 54,
     "metadata": {},
     "output_type": "execute_result"
    }
   ],
   "source": [
    "bike1.check_year(2034)"
   ]
  },
  {
   "cell_type": "markdown",
   "id": "aea65f74",
   "metadata": {},
   "source": [
    "**Use Case:**\n",
    "If check_year gives True in statement *if(bike1.check_year(<today_year_val>)*, then *Pass*. Else, call *Bike.revise_base_price* and update the base_price."
   ]
  },
  {
   "cell_type": "code",
   "execution_count": 1,
   "id": "ac55760c",
   "metadata": {},
   "outputs": [
    {
     "name": "stdout",
     "output_type": "stream",
     "text": [
      "6\n",
      "diesel\n",
      "9\n"
     ]
    }
   ],
   "source": [
    "class Car:\n",
    "    def __init__(self, win, eng):\n",
    "        self.window = win   # the attributes\n",
    "        self.engine = eng   # the attributes\n",
    "\n",
    "class Alto(Car):\n",
    "    def __init__(self, gate, windows, engines): # the parameters\n",
    "        self.gates = gate    # |       |    # the attributes\n",
    "        super().__init__(windows, engines)  # the parameters from the enclosing method __init__ of the derives class\n",
    "\n",
    "alto = Alto(6, 9, 'diesel')\n",
    "print(alto.gates)   # printing attributes\n",
    "print(alto.engine)  # printing attributes\n",
    "print(alto.window)  # printing attributes"
   ]
  },
  {
   "cell_type": "code",
   "execution_count": 2,
   "id": "2bc5175c",
   "metadata": {},
   "outputs": [
    {
     "name": "stdout",
     "output_type": "stream",
     "text": [
      "namba\n",
      "class method w/o init, neither with self nor cls as parameter.\n",
      "namba\n",
      "AFTER THE VALUE OF CLASS VAR CHANGED FROM ONE OF ITS OBJECT INSTANCE\n",
      "nimba\n",
      "namba\n",
      "namba\n",
      "AFTER THE VALUE OF CLASS VAR CHANGED FROM ONE OF ITS CLASS ITSELF\n",
      "NIMBUZZ\n",
      "nimba\n",
      "NIMBUZZ\n"
     ]
    }
   ],
   "source": [
    "class Jabba:\n",
    "    varval = 'namba'\n",
    "    def normal():\n",
    "        print(\"class method w/o init, neither with self nor cls as parameter.\")\n",
    "\n",
    "jab = Jabba()\n",
    "print(jab.varval)\n",
    "#jab.normal()   IT WONT WORK\n",
    "Jabba.normal()\n",
    "print(Jabba.varval)\n",
    "print('AFTER THE VALUE OF CLASS VAR CHANGED FROM ONE OF ITS OBJECT INSTANCE')\n",
    "jab.varval = 'nimba'    # if we change the class variable value fromm its object instance, then for that instance only the value gets updated. Not for the other object instances or for the class. Just for that instance. THIS IS HALF TRUTH\n",
    "print(jab.varval)\n",
    "print(Jabba.varval)\n",
    "jab2 = Jabba()\n",
    "print(jab2.varval)\n",
    "print('AFTER THE VALUE OF CLASS VAR CHANGED FROM ONE OF ITS CLASS ITSELF')\n",
    "Jabba.varval = 'NIMBUZZ'\n",
    "print(Jabba.varval) # If we change the class variable with the help of the class itself, then for all the derived object instances of that class, that updated value will be reflected, unless any explicit change of value occurs from the specific object, before or after of the change of the class value from the help of the class itself.\n",
    "print(jab.varval)\n",
    "print(jab2.varval)"
   ]
  },
  {
   "cell_type": "code",
   "execution_count": 1,
   "id": "5c97d596",
   "metadata": {},
   "outputs": [
    {
     "name": "stdout",
     "output_type": "stream",
     "text": [
      "Ross Object created.\n",
      "Ross Object created.\n",
      "Rachel Object created.\n",
      "Rachel Object created.\n",
      "deleting the class Ross object instance.\n",
      "deleting the class Rachel object instance.\n",
      "bitch\n",
      "bitch\n",
      "boss\n",
      "deleting the class Ross object instance.\n",
      "deleting the class Rachel object instance.\n"
     ]
    }
   ],
   "source": [
    "# DESTRUCTOR\n",
    "class Ross:\n",
    "    def __init__(self):\n",
    "        print('Ross Object created.')\n",
    "\n",
    "    def __del__(self):\n",
    "        print('deleting the class Ross object instance.')\n",
    "\n",
    "class Rachel(Ross):\n",
    "    val = 'bitch'\n",
    "\n",
    "    def __init__(self):\n",
    "        print('Rachel Object created.')\n",
    "        self.var = 'boss'\n",
    "\n",
    "    def __del__(self):\n",
    "        print('deleting the class Rachel object instance.')\n",
    "\n",
    "ross1 = Ross()\n",
    "ross2 = Ross()\n",
    "\n",
    "rachel1 = Rachel()\n",
    "rachel2 = Rachel()\n",
    "\n",
    "del ross1   # class object got deleted\n",
    "del rachel1 # class object got deleted\n",
    "\n",
    "print(Rachel.val)\n",
    "\n",
    "del Ross    # class got deleted. Just class, not its object created. Now, no further object can be created with that class, unless new class is defined with the same name.\n",
    "del Rachel  # same as above\n",
    "\n",
    "print(rachel2.val)\n",
    "print(rachel2.var)\n",
    "\n",
    "del ross2\n",
    "del rachel2"
   ]
  },
  {
   "cell_type": "code",
   "execution_count": null,
   "id": "efbfeb87",
   "metadata": {},
   "outputs": [],
   "source": []
  }
 ],
 "metadata": {
  "interpreter": {
   "hash": "a6570200391abd47b22bafa3ab36aba8327b6bca09374d4d4cb5f21cfca217ce"
  },
  "kernelspec": {
   "display_name": "Python 3",
   "language": "python",
   "name": "python3"
  },
  "language_info": {
   "codemirror_mode": {
    "name": "ipython",
    "version": 3
   },
   "file_extension": ".py",
   "mimetype": "text/x-python",
   "name": "python",
   "nbconvert_exporter": "python",
   "pygments_lexer": "ipython3",
   "version": "3.8.5"
  },
  "metadata": {
   "interpreter": {
    "hash": "a6570200391abd47b22bafa3ab36aba8327b6bca09374d4d4cb5f21cfca217ce"
   }
  }
 },
 "nbformat": 4,
 "nbformat_minor": 5
}
