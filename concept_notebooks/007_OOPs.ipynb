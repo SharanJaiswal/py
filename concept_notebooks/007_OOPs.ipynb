{
 "cells": [
  {
   "cell_type": "markdown",
   "source": [
    "## Start of OOPs in Python"
   ],
   "metadata": {}
  },
  {
   "cell_type": "code",
   "execution_count": null,
   "source": [
    "# class Car(Object):     IS SAME AS     class Car:\n",
    "# creating object of class by approach \" obj = Class(<arguments[s]) \" is same as \" with Class(<arguments[s]) as obj : \"     # Later gives liberty to be careless about obj scope"
   ],
   "outputs": [],
   "metadata": {}
  },
  {
   "cell_type": "code",
   "execution_count": 1,
   "source": [
    "class Car:\n",
    "    pass\n",
    "\n",
    "# initialize an object\n",
    "car1 = Car()\n",
    "car1"
   ],
   "outputs": [
    {
     "output_type": "execute_result",
     "data": {
      "text/plain": [
       "<__main__.Car at 0x7f9bcc5be760>"
      ]
     },
     "metadata": {},
     "execution_count": 1
    }
   ],
   "metadata": {}
  },
  {
   "cell_type": "code",
   "execution_count": 2,
   "source": [
    "car1.windows=5\n",
    "car1.doors=5"
   ],
   "outputs": [],
   "metadata": {}
  },
  {
   "cell_type": "code",
   "execution_count": 3,
   "source": [
    "car2 = Car()\n",
    "car2.windows=3\n",
    "car2.doors=2\n",
    "\n",
    "print(car2.windows)"
   ],
   "outputs": [
    {
     "output_type": "stream",
     "name": "stdout",
     "text": [
      "3\n"
     ]
    }
   ],
   "metadata": {}
  },
  {
   "cell_type": "code",
   "execution_count": 4,
   "source": [
    "car2.enginetype=\"petrol\"\n",
    "print(car2.enginetype)"
   ],
   "outputs": [
    {
     "output_type": "stream",
     "name": "stdout",
     "text": [
      "petrol\n"
     ]
    }
   ],
   "metadata": {}
  },
  {
   "cell_type": "markdown",
   "source": [
    "so far we have seen that there is no limit on the number of attributes. It is a bad approach. To overcome this, there is \\_\\_init\\_\\_() in built function. It is initialization constructor, used to initialize the number of properties that should be initialized inside of that particular class."
   ],
   "metadata": {}
  },
  {
   "cell_type": "markdown",
   "source": [
    "even if no 'Pass' is mentioned inside the class definition, instances can create its own attributes. These attributes is limited to that instance only, and is not creted by default for any other instances. These attributes can be easily used in class defined functions, if that method's definitionhas mention of that attribute created, like \"self.\\<out_attr\\>\""
   ],
   "metadata": {}
  },
  {
   "cell_type": "code",
   "execution_count": 5,
   "source": [
    "# prog to add two complex numbers using custom funvtion\n",
    "\n",
    "class Complex:\n",
    "    # It is not necessary that __init__ should be placed before every class method. __init__ itself is optional\n",
    "    # It's just used to store the object's own variable during its instantiation, or to call some method during its instantiation. or some other instabtiation operation\n",
    "    # 'self' is just a conventional name accepted for first agrgument of every class method. We can use any other name also, but it should be be first argument, and hence should be unique in that methods only.\n",
    "    # Other class method can adopt same name for their first argument(self). But they be different also.\n",
    "    # Even what has been used as object identifier in one method, maynot be used i other. Or, maybe that name can be used for the other arguments other than self.\n",
    "    # Hence, every method will have its own identifier for object and other parameter references, and is scoped till that method only\n",
    "    def __init__(self, real, img):\n",
    "        self.real=real\n",
    "        self.img=img\n",
    "        \n",
    "    def add(self, number):\n",
    "        real=self.real+number.real\n",
    "        img=self.img+number.img\n",
    "        result=Complex(real, img)\n",
    "        return result\n",
    "    \n",
    "n1=Complex(4,5)\n",
    "n2=Complex(3,2)\n",
    "\n",
    "result=n1.add(n2)\n",
    "print(result.real, result.img)"
   ],
   "outputs": [
    {
     "output_type": "stream",
     "name": "stdout",
     "text": [
      "7 7\n"
     ]
    }
   ],
   "metadata": {}
  },
  {
   "cell_type": "code",
   "execution_count": 6,
   "source": [
    "dir(car1)"
   ],
   "outputs": [
    {
     "output_type": "execute_result",
     "data": {
      "text/plain": [
       "['__class__',\n",
       " '__delattr__',\n",
       " '__dict__',\n",
       " '__dir__',\n",
       " '__doc__',\n",
       " '__eq__',\n",
       " '__format__',\n",
       " '__ge__',\n",
       " '__getattribute__',\n",
       " '__gt__',\n",
       " '__hash__',\n",
       " '__init__',\n",
       " '__init_subclass__',\n",
       " '__le__',\n",
       " '__lt__',\n",
       " '__module__',\n",
       " '__ne__',\n",
       " '__new__',\n",
       " '__reduce__',\n",
       " '__reduce_ex__',\n",
       " '__repr__',\n",
       " '__setattr__',\n",
       " '__sizeof__',\n",
       " '__str__',\n",
       " '__subclasshook__',\n",
       " '__weakref__',\n",
       " 'doors',\n",
       " 'windows']"
      ]
     },
     "metadata": {},
     "execution_count": 6
    }
   ],
   "metadata": {
    "scrolled": false
   }
  },
  {
   "cell_type": "code",
   "execution_count": 7,
   "source": [
    "class Samp():\n",
    "    def __init__(self, atr1, atr2, atr3):\n",
    "        self.atr1=atr1\n",
    "        self._atr2=atr2\n",
    "        self.__atr3=atr3"
   ],
   "outputs": [],
   "metadata": {}
  },
  {
   "cell_type": "code",
   "execution_count": 8,
   "source": [
    "obj1=Samp(2,3,6)"
   ],
   "outputs": [],
   "metadata": {}
  },
  {
   "cell_type": "code",
   "execution_count": 9,
   "source": [
    "dir(obj1)"
   ],
   "outputs": [
    {
     "output_type": "execute_result",
     "data": {
      "text/plain": [
       "['_Samp__atr3',\n",
       " '__class__',\n",
       " '__delattr__',\n",
       " '__dict__',\n",
       " '__dir__',\n",
       " '__doc__',\n",
       " '__eq__',\n",
       " '__format__',\n",
       " '__ge__',\n",
       " '__getattribute__',\n",
       " '__gt__',\n",
       " '__hash__',\n",
       " '__init__',\n",
       " '__init_subclass__',\n",
       " '__le__',\n",
       " '__lt__',\n",
       " '__module__',\n",
       " '__ne__',\n",
       " '__new__',\n",
       " '__reduce__',\n",
       " '__reduce_ex__',\n",
       " '__repr__',\n",
       " '__setattr__',\n",
       " '__sizeof__',\n",
       " '__str__',\n",
       " '__subclasshook__',\n",
       " '__weakref__',\n",
       " '_atr2',\n",
       " 'atr1']"
      ]
     },
     "metadata": {},
     "execution_count": 9
    }
   ],
   "metadata": {}
  },
  {
   "cell_type": "code",
   "execution_count": 5,
   "source": [
    "class Caar:\n",
    "    def __init__(self, window, door, enginetype):\n",
    "        # creating/initializing attributes/variables(windows, doors, enginetypes) inside this class.\n",
    "        # append no more than single underscore. Prepend no more than double underscores.\n",
    "        self.windows=window    # no underscore : public access specifier\n",
    "        self._doors=door    # 1 underscore : protected access specifier can be accessed from their class as well as from the derived class\n",
    "        self.__enginetypes=enginetype    # 2 underscores : private access specifier can only be accessed from their class\n",
    "        \n",
    "    def self_driving(self):\n",
    "        return \"This is a {} engine car\".format(self._enginetypes)"
   ],
   "outputs": [],
   "metadata": {}
  },
  {
   "cell_type": "code",
   "execution_count": 6,
   "source": [
    "caar1=Caar(4, 5, \"petrol\")\n",
    "# as soon as Caaris called, by defalult __init__() constructor is called, and it initializes the variables/attribute. The value of them is taken from the object creation"
   ],
   "outputs": [],
   "metadata": {}
  },
  {
   "cell_type": "markdown",
   "source": [
    "the self is referencing the object, and for that object all the variables/attributs are created"
   ],
   "metadata": {}
  },
  {
   "cell_type": "code",
   "execution_count": 7,
   "source": [
    "caar2=Caar(3,4,\"diesel\")"
   ],
   "outputs": [],
   "metadata": {}
  },
  {
   "cell_type": "code",
   "execution_count": 8,
   "source": [
    "print(caar1.windows)\n",
    "print(caar2._doors)\n",
    "print(caar2._Caar__enginetypes)"
   ],
   "outputs": [
    {
     "output_type": "stream",
     "name": "stdout",
     "text": [
      "4\n",
      "4\n",
      "diesel\n"
     ]
    }
   ],
   "metadata": {}
  },
  {
   "cell_type": "code",
   "execution_count": 14,
   "source": [
    "caar1.self_driving()"
   ],
   "outputs": [
    {
     "output_type": "execute_result",
     "data": {
      "text/plain": [
       "'This is a petrol engine car'"
      ]
     },
     "metadata": {},
     "execution_count": 14
    }
   ],
   "metadata": {}
  },
  {
   "cell_type": "markdown",
   "source": [
    "# INHERITANCE"
   ],
   "metadata": {}
  },
  {
   "cell_type": "code",
   "execution_count": 3,
   "source": [
    "class Caaar:\n",
    "    def __init__(self, window, door, enginetype):\n",
    "        self.windows=window\n",
    "        self.doors=door\n",
    "        self.enginetypes=enginetype\n",
    "        \n",
    "    def drives(self):\n",
    "        print(\"The person drives the car\")"
   ],
   "outputs": [],
   "metadata": {}
  },
  {
   "cell_type": "markdown",
   "source": [
    "#### making child class"
   ],
   "metadata": {}
  },
  {
   "cell_type": "code",
   "execution_count": 4,
   "source": [
    "class audi(Caaar):\n",
    "    def __init__(self, windows, doors, enginetypes, enableai):\n",
    "        # It is not necessary that parent class constructor should be called first\n",
    "        super().__init__(windows, doors, enginetypes)   # instead of 'super()', one can use the name of the parent class. e.g., Caaar.__init__(sel.......\n",
    "        self.enableai=enableai\n",
    "# Some or all of the incoming arguments can be commonly shared between both parent and derived class. Although, they will have their own copies of the attributes, with the same value(s)\n",
    "    def selfdriving(self):\n",
    "        print(\"Audi supports self-driving\")"
   ],
   "outputs": [],
   "metadata": {
    "scrolled": true
   }
  },
  {
   "cell_type": "code",
   "execution_count": 5,
   "source": [
    "audiQ7=audi(5,5,\"diesel\", True)\n",
    "print(audiQ7.windows, audiQ7.doors, audiQ7.enginetypes)"
   ],
   "outputs": [
    {
     "output_type": "stream",
     "name": "stdout",
     "text": [
      "5 5 diesel\n"
     ]
    }
   ],
   "metadata": {}
  },
  {
   "cell_type": "code",
   "execution_count": 18,
   "source": [
    "dir(audiQ7)"
   ],
   "outputs": [
    {
     "output_type": "execute_result",
     "data": {
      "text/plain": [
       "['__class__',\n",
       " '__delattr__',\n",
       " '__dict__',\n",
       " '__dir__',\n",
       " '__doc__',\n",
       " '__eq__',\n",
       " '__format__',\n",
       " '__ge__',\n",
       " '__getattribute__',\n",
       " '__gt__',\n",
       " '__hash__',\n",
       " '__init__',\n",
       " '__init_subclass__',\n",
       " '__le__',\n",
       " '__lt__',\n",
       " '__module__',\n",
       " '__ne__',\n",
       " '__new__',\n",
       " '__reduce__',\n",
       " '__reduce_ex__',\n",
       " '__repr__',\n",
       " '__setattr__',\n",
       " '__sizeof__',\n",
       " '__str__',\n",
       " '__subclasshook__',\n",
       " '__weakref__',\n",
       " 'doors',\n",
       " 'drives',\n",
       " 'enableai',\n",
       " 'enginetypes',\n",
       " 'selfdriving',\n",
       " 'windows']"
      ]
     },
     "metadata": {},
     "execution_count": 18
    }
   ],
   "metadata": {
    "scrolled": false
   }
  },
  {
   "cell_type": "markdown",
   "source": [
    "## MULTIPLE INHERITANCE"
   ],
   "metadata": {}
  },
  {
   "cell_type": "code",
   "execution_count": 19,
   "source": [
    "class A:\n",
    "    def method1(self):\n",
    "        print(\"A class method is called here.\")\n",
    "    \n",
    "    def meth_a(self):\n",
    "        print(\"this is met A!\")"
   ],
   "outputs": [],
   "metadata": {}
  },
  {
   "cell_type": "code",
   "execution_count": 20,
   "source": [
    "class B(A):\n",
    "    def method1(self):\n",
    "        print(\"B class method is called here.\")\n",
    "    \n",
    "    def meth_b(self):\n",
    "        print(\"this is met B!\")"
   ],
   "outputs": [],
   "metadata": {}
  },
  {
   "cell_type": "code",
   "execution_count": 21,
   "source": [
    "class C(A):\n",
    "    def method1(self):\n",
    "        print(\"C class method is called here.\")\n",
    "    \n",
    "    def meth_c(self):\n",
    "        print(\"this is met C!\")"
   ],
   "outputs": [],
   "metadata": {}
  },
  {
   "cell_type": "code",
   "execution_count": 22,
   "source": [
    "class D(B,C):\n",
    "    def method1(self):\n",
    "        print(\"D class method is called here.\")\n",
    "    \n",
    "    def meth_d(self):\n",
    "        print(\"this is met D!\")"
   ],
   "outputs": [],
   "metadata": {}
  },
  {
   "cell_type": "markdown",
   "source": [
    "**Making instance of class D**"
   ],
   "metadata": {}
  },
  {
   "cell_type": "code",
   "execution_count": 23,
   "source": [
    "d=D()"
   ],
   "outputs": [],
   "metadata": {}
  },
  {
   "cell_type": "code",
   "execution_count": 24,
   "source": [
    "d.meth_d()"
   ],
   "outputs": [
    {
     "output_type": "stream",
     "name": "stdout",
     "text": [
      "this is met D!\n"
     ]
    }
   ],
   "metadata": {}
  },
  {
   "cell_type": "code",
   "execution_count": 25,
   "source": [
    "d.method1()"
   ],
   "outputs": [
    {
     "output_type": "stream",
     "name": "stdout",
     "text": [
      "D class method is called here.\n"
     ]
    }
   ],
   "metadata": {}
  },
  {
   "cell_type": "code",
   "execution_count": 26,
   "source": [
    "# calling method1 of parent class with the instance of child class. (two methods)\n",
    "B.method1(d)    # M1\n",
    "B.meth_b(d)    # M1\n",
    "\n",
    "d.meth_b()    # M2\n",
    "d.meth_a()"
   ],
   "outputs": [
    {
     "output_type": "stream",
     "name": "stdout",
     "text": [
      "B class method is called here.\n",
      "this is met B!\n",
      "this is met B!\n",
      "this is met A!\n"
     ]
    }
   ],
   "metadata": {}
  },
  {
   "cell_type": "code",
   "execution_count": 27,
   "source": [
    "C.method1(d)\n",
    "C.meth_c(d)"
   ],
   "outputs": [
    {
     "output_type": "stream",
     "name": "stdout",
     "text": [
      "C class method is called here.\n",
      "this is met C!\n"
     ]
    }
   ],
   "metadata": {}
  },
  {
   "cell_type": "code",
   "execution_count": 28,
   "source": [
    "# since A is parent of parent of D, so relevant attributes of A will also be inherited to D\n",
    "A.method1(d)\n",
    "A.meth_a(d)"
   ],
   "outputs": [
    {
     "output_type": "stream",
     "name": "stdout",
     "text": [
      "A class method is called here.\n",
      "this is met A!\n"
     ]
    }
   ],
   "metadata": {
    "scrolled": true
   }
  },
  {
   "cell_type": "markdown",
   "source": [
    "###### Calling methods from the parent class as soon as class method is called"
   ],
   "metadata": {}
  },
  {
   "cell_type": "code",
   "execution_count": 29,
   "source": [
    "class E(D):\n",
    "    def method1(self):\n",
    "        print(\"E class method is called here.\")\n",
    "        A.method1(self)    # calling parent class method using class. requires self keyword\n",
    "        B.method1(self)\n",
    "        C.method1(self)\n",
    "        D.method1(self)\n",
    "        # super() return temporary object of the super class of the subclass. Simply, its like an object of an parent class. Hence we dont provide self as parameter to the parent method call\n",
    "        super().method1()    # this doesn't need self keyword, and is orthodox method to call parent class method\n",
    "        # super().super().method1()  # bakaiti nahi chalta idhar"
   ],
   "outputs": [],
   "metadata": {}
  },
  {
   "cell_type": "code",
   "execution_count": 30,
   "source": [
    "e=E()"
   ],
   "outputs": [],
   "metadata": {}
  },
  {
   "cell_type": "code",
   "execution_count": 31,
   "source": [
    "e.method1()"
   ],
   "outputs": [
    {
     "output_type": "stream",
     "name": "stdout",
     "text": [
      "E class method is called here.\n",
      "A class method is called here.\n",
      "B class method is called here.\n",
      "C class method is called here.\n",
      "D class method is called here.\n",
      "D class method is called here.\n"
     ]
    }
   ],
   "metadata": {
    "scrolled": true
   }
  },
  {
   "cell_type": "markdown",
   "source": [
    "## OOPs magic methods in Class\n",
    "Some magic happens in the background that helps to create the class's object."
   ],
   "metadata": {}
  },
  {
   "cell_type": "code",
   "execution_count": 32,
   "source": [
    "c=Caaar(4,5,\"diesel\")"
   ],
   "outputs": [],
   "metadata": {}
  },
  {
   "cell_type": "code",
   "execution_count": 33,
   "source": [
    "c"
   ],
   "outputs": [
    {
     "output_type": "execute_result",
     "data": {
      "text/plain": [
       "<__main__.Caaar at 0x7f9bcc55cdc0>"
      ]
     },
     "metadata": {},
     "execution_count": 33
    }
   ],
   "metadata": {}
  },
  {
   "cell_type": "code",
   "execution_count": 34,
   "source": [
    "dir(c)    # all the double underscore enclodes methods listed below are called magic methods"
   ],
   "outputs": [
    {
     "output_type": "execute_result",
     "data": {
      "text/plain": [
       "['__class__',\n",
       " '__delattr__',\n",
       " '__dict__',\n",
       " '__dir__',\n",
       " '__doc__',\n",
       " '__eq__',\n",
       " '__format__',\n",
       " '__ge__',\n",
       " '__getattribute__',\n",
       " '__gt__',\n",
       " '__hash__',\n",
       " '__init__',\n",
       " '__init_subclass__',\n",
       " '__le__',\n",
       " '__lt__',\n",
       " '__module__',\n",
       " '__ne__',\n",
       " '__new__',\n",
       " '__reduce__',\n",
       " '__reduce_ex__',\n",
       " '__repr__',\n",
       " '__setattr__',\n",
       " '__sizeof__',\n",
       " '__str__',\n",
       " '__subclasshook__',\n",
       " '__weakref__',\n",
       " 'doors',\n",
       " 'drives',\n",
       " 'enginetypes',\n",
       " 'windows']"
      ]
     },
     "metadata": {},
     "execution_count": 34
    }
   ],
   "metadata": {
    "scrolled": false
   }
  },
  {
   "cell_type": "code",
   "execution_count": 35,
   "source": [
    "class Caaar:\n",
    "    def __init__(self, window, door, enginetype):\n",
    "        self.windows=window\n",
    "        self.doors=door\n",
    "        self.enginetypes=enginetype\n",
    "        \n",
    "    def drives(self):\n",
    "        print(\"The person drives the car\")\n",
    "    \n",
    "    def __str__(self):\n",
    "        return \"The object has been initialized\""
   ],
   "outputs": [],
   "metadata": {}
  },
  {
   "cell_type": "code",
   "execution_count": 36,
   "source": [
    "c=Caaar(4, 5, \"Diesel\")"
   ],
   "outputs": [],
   "metadata": {}
  },
  {
   "cell_type": "markdown",
   "source": [
    "We can override magic methods. print(\\<objects\\>) calls \\_\\_str()\\_\\_. Here we'll override it, with our custom function definition."
   ],
   "metadata": {}
  },
  {
   "cell_type": "code",
   "execution_count": 37,
   "source": [
    "print(c)"
   ],
   "outputs": [
    {
     "output_type": "stream",
     "name": "stdout",
     "text": [
      "The object has been initialized\n"
     ]
    }
   ],
   "metadata": {}
  },
  {
   "cell_type": "code",
   "execution_count": 38,
   "source": [
    "c\n",
    "# it'll be the same as it was giving in print(c). But now we've overridden __str__() which is called by print(<obj>)"
   ],
   "outputs": [
    {
     "output_type": "execute_result",
     "data": {
      "text/plain": [
       "<__main__.Caaar at 0x7f9bcc594370>"
      ]
     },
     "metadata": {},
     "execution_count": 38
    }
   ],
   "metadata": {}
  },
  {
   "cell_type": "code",
   "execution_count": 39,
   "source": [
    "c.__sizeof__()"
   ],
   "outputs": [
    {
     "output_type": "execute_result",
     "data": {
      "text/plain": [
       "32"
      ]
     },
     "metadata": {},
     "execution_count": 39
    }
   ],
   "metadata": {}
  },
  {
   "cell_type": "code",
   "execution_count": 40,
   "source": [
    "c.__str__()"
   ],
   "outputs": [
    {
     "output_type": "execute_result",
     "data": {
      "text/plain": [
       "'The object has been initialized'"
      ]
     },
     "metadata": {},
     "execution_count": 40
    }
   ],
   "metadata": {}
  },
  {
   "cell_type": "code",
   "execution_count": 12,
   "source": [
    "class Caaar:\n",
    "    def __new__(self, window, door, enginetype):\n",
    "        print(\"New is being called even before init. It is called during class\\'s object creation\")\n",
    "    def __init__(self, window, door, enginetype):\n",
    "        self.windows=window\n",
    "        self.doors=door\n",
    "        self.enginetypes=enginetype\n",
    "        \n",
    "    def drives(self):\n",
    "        print(\"The person drives the car\", self.windows, self.doors, self.enginetypes)\n",
    "    \n",
    "    def __str__(self):  # can be here __repr__ also\n",
    "        print(\"The object has been initialized.\", self.windows)"
   ],
   "outputs": [],
   "metadata": {}
  },
  {
   "cell_type": "code",
   "execution_count": 13,
   "source": [
    "c=Caaar(6, 7, \"Petrollllll\")"
   ],
   "outputs": [
    {
     "output_type": "stream",
     "name": "stdout",
     "text": [
      "New is being called even before init. It is called during class's object creation\n"
     ]
    }
   ],
   "metadata": {}
  },
  {
   "cell_type": "code",
   "execution_count": 14,
   "source": [
    "c.windows"
   ],
   "outputs": [
    {
     "output_type": "error",
     "ename": "AttributeError",
     "evalue": "'NoneType' object has no attribute 'windows'",
     "traceback": [
      "\u001b[0;31m---------------------------------------------------------------------------\u001b[0m",
      "\u001b[0;31mAttributeError\u001b[0m                            Traceback (most recent call last)",
      "\u001b[0;32m<ipython-input-14-7a9eedcd14cc>\u001b[0m in \u001b[0;36m<module>\u001b[0;34m\u001b[0m\n\u001b[0;32m----> 1\u001b[0;31m \u001b[0mc\u001b[0m\u001b[0;34m.\u001b[0m\u001b[0mwindows\u001b[0m\u001b[0;34m\u001b[0m\u001b[0;34m\u001b[0m\u001b[0m\n\u001b[0m",
      "\u001b[0;31mAttributeError\u001b[0m: 'NoneType' object has no attribute 'windows'"
     ]
    }
   ],
   "metadata": {}
  },
  {
   "cell_type": "code",
   "execution_count": null,
   "source": [
    "c.drives()"
   ],
   "outputs": [],
   "metadata": {}
  },
  {
   "cell_type": "markdown",
   "source": [
    "## Class methods and Class Variables"
   ],
   "metadata": {}
  },
  {
   "cell_type": "code",
   "execution_count": 43,
   "source": [
    "class Bike:\n",
    "    base_price = 100000    # class var. Any obj of this class will have common base price at any instance. Value may vary at different time, but for every obj, value will be same.\n",
    "    \n",
    "    def __init__(self, window, door, power):\n",
    "        self.windows = window\n",
    "        self.doors = door\n",
    "        self.power = power\n",
    "        \n",
    "    def what_base_price(self):\n",
    "        print(\"The base price : {}\".format(self.base_price))\n",
    "        \n",
    "    @classmethod    # decorator\n",
    "    def revise_base_price(cls, inflation):\n",
    "        cls.base_price = cls.base_price + cls.base_price * inflation"
   ],
   "outputs": [],
   "metadata": {}
  },
  {
   "cell_type": "markdown",
   "source": [
    "**ways to access base price:**"
   ],
   "metadata": {}
  },
  {
   "cell_type": "code",
   "execution_count": 44,
   "source": [
    "bike1 = Bike(4, 5, 2000)\n",
    "print(bike1.base_price)    # M1\n",
    "bike1.what_base_price()    # M2\n",
    "\n",
    "print(Bike.base_price)    # M3"
   ],
   "outputs": [
    {
     "output_type": "stream",
     "name": "stdout",
     "text": [
      "100000\n",
      "The base price : 100000\n",
      "100000\n"
     ]
    }
   ],
   "metadata": {}
  },
  {
   "cell_type": "code",
   "execution_count": 45,
   "source": [
    "# updating inflated rate for the first time\n",
    "Bike.revise_base_price(0.10)"
   ],
   "outputs": [],
   "metadata": {}
  },
  {
   "cell_type": "code",
   "execution_count": 46,
   "source": [
    "print(bike1.base_price)    # M1\n",
    "bike1.what_base_price()    # M2\n",
    "\n",
    "print(Bike.base_price)    # M3"
   ],
   "outputs": [
    {
     "output_type": "stream",
     "name": "stdout",
     "text": [
      "110000.0\n",
      "The base price : 110000.0\n",
      "110000.0\n"
     ]
    }
   ],
   "metadata": {}
  },
  {
   "cell_type": "markdown",
   "source": [
    "**Here we are seeing that the class variable is also getting updated from the object. But this not allowed in real world practice. So avoid/restrict updation of class variable using its instance.**"
   ],
   "metadata": {}
  },
  {
   "cell_type": "code",
   "execution_count": 47,
   "source": [
    "bike1.revise_base_price(0.10)"
   ],
   "outputs": [],
   "metadata": {}
  },
  {
   "cell_type": "code",
   "execution_count": 48,
   "source": [
    "print(bike1.base_price)    # M1\n",
    "bike1.what_base_price()    # M2\n",
    "\n",
    "print(Bike.base_price)    # M3"
   ],
   "outputs": [
    {
     "output_type": "stream",
     "name": "stdout",
     "text": [
      "121000.0\n",
      "The base price : 121000.0\n",
      "121000.0\n"
     ]
    }
   ],
   "metadata": {}
  },
  {
   "cell_type": "code",
   "execution_count": 49,
   "source": [
    "bike2 = Bike(9, 12, 2000)"
   ],
   "outputs": [],
   "metadata": {}
  },
  {
   "cell_type": "code",
   "execution_count": 50,
   "source": [
    "# for object bike2\n",
    "print(bike2.base_price)    # M1\n",
    "bike2.what_base_price()    # M2\n",
    "\n",
    "print(Bike.base_price)    # M3"
   ],
   "outputs": [
    {
     "output_type": "stream",
     "name": "stdout",
     "text": [
      "121000.0\n",
      "The base price : 121000.0\n",
      "121000.0\n"
     ]
    }
   ],
   "metadata": {}
  },
  {
   "cell_type": "markdown",
   "source": [
    "## Static Methods in Python\n",
    "As soon as the class gets loaded, the first thing that gets initialized is STATIC METHOD. Its lifetime is until when application is running. Unlike the other way, it doesn't get initialized everytime, when the instance being made. Initialize class for just once, and it will live forever. It can be called with classname, instancename, etc. It is fast."
   ],
   "metadata": {}
  },
  {
   "cell_type": "code",
   "execution_count": 51,
   "source": [
    "class Bike:\n",
    "    base_price = 100000    # class var. Any obj of this class will have common base price at any instance. Value may vary at different time, but for every obj, value will be same.\n",
    "\n",
    "    def __init__(self, window, door, power):\n",
    "        self.windows = window\n",
    "        self.doors = door\n",
    "        self.power = power\n",
    "\n",
    "    def what_base_price(self):\n",
    "        print(\"The base price : {}\".format(self.base_price))\n",
    "\n",
    "    @classmethod    # decorator\n",
    "    def revise_base_price(cls, inflation):\n",
    "        cls.base_price = cls.base_price + cls.base_price * inflation\n",
    "\n",
    "    @staticmethod\n",
    "    def check_year(year):    # we don't provide here neither INSTANCE nor CLASS parameter (or dont provide any parameter if we want), in static method, because multiple copies of static method is not allowed to create. Even then also, we can able to call this method, withe help of class\n",
    "        if year==2021:\n",
    "            return True\n",
    "        else:\n",
    "            return False"
   ],
   "outputs": [],
   "metadata": {}
  },
  {
   "cell_type": "code",
   "execution_count": 52,
   "source": [
    "Bike.check_year(2021)"
   ],
   "outputs": [
    {
     "output_type": "execute_result",
     "data": {
      "text/plain": [
       "True"
      ]
     },
     "metadata": {},
     "execution_count": 52
    }
   ],
   "metadata": {}
  },
  {
   "cell_type": "code",
   "execution_count": 53,
   "source": [
    "bike1 = Bike(4, 5, 2000)"
   ],
   "outputs": [],
   "metadata": {}
  },
  {
   "cell_type": "code",
   "execution_count": 54,
   "source": [
    "bike1.check_year(2034)"
   ],
   "outputs": [
    {
     "output_type": "execute_result",
     "data": {
      "text/plain": [
       "False"
      ]
     },
     "metadata": {},
     "execution_count": 54
    }
   ],
   "metadata": {}
  },
  {
   "cell_type": "markdown",
   "source": [
    "**Use Case:**\n",
    "If check_year gives True in statement *if(bike1.check_year(<today_year_val>)*, then *Pass*. Else, call *Bike.revise_base_price* and update the base_price."
   ],
   "metadata": {}
  },
  {
   "cell_type": "code",
   "execution_count": 1,
   "source": [
    "class Car:\n",
    "    def __init__(self, win, eng):\n",
    "        self.window = win   # the attributes\n",
    "        self.engine = eng   # the attributes\n",
    "\n",
    "class Alto(Car):\n",
    "    def __init__(self, gate, windows, engines): # the parameters\n",
    "        self.gates = gate    # |       |    # the attributes\n",
    "        super().__init__(windows, engines)  # the parameters from the enclosing method __init__ of the derives class\n",
    "\n",
    "alto = Alto(6, 9, 'diesel')\n",
    "print(alto.gates)   # printing attributes\n",
    "print(alto.engine)  # printing attributes\n",
    "print(alto.window)  # printing attributes"
   ],
   "outputs": [
    {
     "output_type": "stream",
     "name": "stdout",
     "text": [
      "6\n",
      "diesel\n",
      "9\n"
     ]
    }
   ],
   "metadata": {}
  },
  {
   "cell_type": "code",
   "execution_count": 2,
   "source": [
    "class Jabba:\n",
    "    varval = 'namba'\n",
    "    def normal():\n",
    "        print(\"class method w/o init, neither with self nor cls as parameter.\")\n",
    "\n",
    "jab = Jabba()\n",
    "print(jab.varval)\n",
    "#jab.normal()   IT WONT WORK\n",
    "Jabba.normal()\n",
    "print(Jabba.varval)\n",
    "print('AFTER THE VALUE OF CLASS VAR CHANGED FROM ONE OF ITS OBJECT INSTANCE')\n",
    "jab.varval = 'nimba'    # if we change the class variable value fromm its object instance, then for that instance only the value gets updated. Not for the other object instances or for the class. Just for that instance. THIS IS HALF TRUTH\n",
    "print(jab.varval)\n",
    "print(Jabba.varval)\n",
    "jab2 = Jabba()\n",
    "print(jab2.varval)\n",
    "print('AFTER THE VALUE OF CLASS VAR CHANGED FROM ONE OF ITS CLASS ITSELF')\n",
    "Jabba.varval = 'NIMBUZZ'\n",
    "print(Jabba.varval) # If we change the class variable with the help of the class itself, then for all the derived object instances of that class, that updated value will be reflected, unless any explicit change of value occurs from the specific object, before or after of the change of the class value from the help of the class itself.\n",
    "print(jab.varval)\n",
    "print(jab2.varval)"
   ],
   "outputs": [
    {
     "output_type": "stream",
     "name": "stdout",
     "text": [
      "namba\n",
      "class method w/o init, neither with self nor cls as parameter.\n",
      "namba\n",
      "AFTER THE VALUE OF CLASS VAR CHANGED FROM ONE OF ITS OBJECT INSTANCE\n",
      "nimba\n",
      "namba\n",
      "namba\n",
      "AFTER THE VALUE OF CLASS VAR CHANGED FROM ONE OF ITS CLASS ITSELF\n",
      "NIMBUZZ\n",
      "nimba\n",
      "NIMBUZZ\n"
     ]
    }
   ],
   "metadata": {}
  },
  {
   "cell_type": "code",
   "execution_count": 1,
   "source": [
    "# DESTRUCTOR\n",
    "class Ross:\n",
    "    def __init__(self):\n",
    "        print('Ross Object created.')\n",
    "\n",
    "    def __del__(self):\n",
    "        print('deleting the class Ross object instance.')\n",
    "\n",
    "class Rachel(Ross):\n",
    "    val = 'bitch'\n",
    "\n",
    "    def __init__(self):\n",
    "        print('Rachel Object created.')\n",
    "        self.var = 'boss'\n",
    "\n",
    "    def __del__(self):\n",
    "        print('deleting the class Rachel object instance.')\n",
    "\n",
    "ross1 = Ross()\n",
    "ross2 = Ross()\n",
    "\n",
    "rachel1 = Rachel()\n",
    "rachel2 = Rachel()\n",
    "\n",
    "del ross1   # class object got deleted\n",
    "del rachel1 # class object got deleted\n",
    "\n",
    "print(Rachel.val)\n",
    "\n",
    "del Ross    # class got deleted. Just class, not its object created. Now, no further object can be created with that class, unless new class is defined with the same name.\n",
    "del Rachel  # same as above\n",
    "\n",
    "print(rachel2.val)\n",
    "print(rachel2.var)\n",
    "\n",
    "del ross2\n",
    "del rachel2"
   ],
   "outputs": [
    {
     "output_type": "stream",
     "name": "stdout",
     "text": [
      "Ross Object created.\n",
      "Ross Object created.\n",
      "Rachel Object created.\n",
      "Rachel Object created.\n",
      "deleting the class Ross object instance.\n",
      "deleting the class Rachel object instance.\n",
      "bitch\n",
      "bitch\n",
      "boss\n",
      "deleting the class Ross object instance.\n",
      "deleting the class Rachel object instance.\n"
     ]
    }
   ],
   "metadata": {}
  },
  {
   "cell_type": "code",
   "execution_count": null,
   "source": [
    "# from operator import attrgetter\n",
    "\"\"\"\n",
    "Return a callable object that fetches the given attribute(s) from its operand.\n",
    "After f = attrgetter('name'), the call f(r) returns r.name.\n",
    "After g = attrgetter('name', 'date'), the call g(r) returns (r.name, r.date).\n",
    "After h = attrgetter('name.first', 'name.last'), the call h(r) returns (r.name.first, r.name.last).\n",
    "It can be used as key=attrgettr('attr1', 'attr2') in sorted() function\n",
    "\"\"\""
   ],
   "outputs": [],
   "metadata": {}
  }
 ],
 "metadata": {
  "interpreter": {
   "hash": "a6570200391abd47b22bafa3ab36aba8327b6bca09374d4d4cb5f21cfca217ce"
  },
  "kernelspec": {
   "name": "python3",
   "display_name": "Python 3.8.5 64-bit ('base': conda)"
  },
  "language_info": {
   "codemirror_mode": {
    "name": "ipython",
    "version": 3
   },
   "file_extension": ".py",
   "mimetype": "text/x-python",
   "name": "python",
   "nbconvert_exporter": "python",
   "pygments_lexer": "ipython3",
   "version": "3.8.5"
  },
  "metadata": {
   "interpreter": {
    "hash": "a6570200391abd47b22bafa3ab36aba8327b6bca09374d4d4cb5f21cfca217ce"
   }
  }
 },
 "nbformat": 4,
 "nbformat_minor": 5
}