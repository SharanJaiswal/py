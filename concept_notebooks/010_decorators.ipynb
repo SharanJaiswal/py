{
 "cells": [
  {
   "cell_type": "markdown",
   "id": "ce2a82dc",
   "metadata": {},
   "source": [
    "# DECORATORS"
   ]
  },
  {
   "cell_type": "markdown",
   "id": "27111764",
   "metadata": {},
   "source": [
    "#### First Class Functions:\n",
    "A programming language is said to have first-class function if it treats functions as first-class citizens.\n",
    "\n",
    "#### First-Class Citizens(Programming)\n",
    "A first-class citizen (sometimes called first-class object) in a programming language is an entity which supports all the operations generally available to other entities. These operations typically include being passed as an argument, returned from a function, and assigned to a variable."
   ]
  },
  {
   "cell_type": "code",
   "execution_count": 27,
   "id": "0bcc5a0c",
   "metadata": {},
   "outputs": [
    {
     "name": "stdout",
     "output_type": "stream",
     "text": [
      "Log: Hi\n"
     ]
    }
   ],
   "source": [
    "def logger(msg):\n",
    "    def log_msg():\n",
    "        print(\"Log:\", msg)\n",
    "\n",
    "    return log_msg\n",
    "\n",
    "log_hi = logger('Hi')   # equivalent to log_hi=log_msg\n",
    "log_hi()    # hence we are calling the log_msg after it gets copied to hog_hi"
   ]
  },
  {
   "cell_type": "code",
   "execution_count": 29,
   "id": "38bf500f",
   "metadata": {},
   "outputs": [
    {
     "name": "stdout",
     "output_type": "stream",
     "text": [
      "<function html_tag.<locals>.wrap_text at 0x7f8d6c6f3e50>\n",
      "<hi>Test Headline!</hi>\n",
      "<hi>Another Headline!</hi>\n"
     ]
    }
   ],
   "source": [
    "def html_tag(tag):\n",
    "    def wrap_text(msg):\n",
    "        print('<{0}>{1}</{0}>'.format(tag, msg))\n",
    "    return wrap_text\n",
    "\n",
    "print_h1 = html_tag('hi')   # Calls and executes html_tag() function. SInce it executes it, hence it copies the wrap_text function. This statement won't print anything\n",
    "print(print_h1) # proof that closure function is copied\n",
    "print_h1('Test Headline!')  # Since print_h1 is now a function identifier, hence to execute the function we need to provide (). SInce it take args, hence wee provided args\n",
    "print_h1('Another Headline!')"
   ]
  },
  {
   "cell_type": "markdown",
   "id": "05975549",
   "metadata": {},
   "source": [
    "##### Copying of function:\n",
    "Even after deleting the RHS function, the copy of the returned value will still persist in the LHS variable. This is called copying of the function."
   ]
  },
  {
   "cell_type": "code",
   "execution_count": 1,
   "id": "5926764b",
   "metadata": {},
   "outputs": [],
   "source": [
    "def welcome():\n",
    "    print(\"welcome you\")"
   ]
  },
  {
   "cell_type": "code",
   "execution_count": 2,
   "id": "8b38b654",
   "metadata": {
    "scrolled": true
   },
   "outputs": [
    {
     "name": "stdout",
     "output_type": "stream",
     "text": [
      "welcome you\n"
     ]
    }
   ],
   "source": [
    "welcome()"
   ]
  },
  {
   "cell_type": "code",
   "execution_count": 3,
   "id": "84487497",
   "metadata": {},
   "outputs": [
    {
     "name": "stdout",
     "output_type": "stream",
     "text": [
      "welcome you\n"
     ]
    }
   ],
   "source": [
    "wel=welcome()"
   ]
  },
  {
   "cell_type": "code",
   "execution_count": 37,
   "id": "ed5770f6",
   "metadata": {},
   "outputs": [],
   "source": [
    "wel"
   ]
  },
  {
   "cell_type": "code",
   "execution_count": 38,
   "id": "abfe9da7",
   "metadata": {},
   "outputs": [],
   "source": [
    "del welcome"
   ]
  },
  {
   "cell_type": "markdown",
   "id": "95741ac1",
   "metadata": {},
   "source": [
    "lets nake a new function"
   ]
  },
  {
   "cell_type": "code",
   "execution_count": 1,
   "id": "5675a019",
   "metadata": {},
   "outputs": [],
   "source": [
    "def welcome():\n",
    "    return \"welcome you\""
   ]
  },
  {
   "cell_type": "code",
   "execution_count": 2,
   "id": "f7bc3840",
   "metadata": {},
   "outputs": [],
   "source": [
    "wel=welcome()    # we are doing a function copying"
   ]
  },
  {
   "cell_type": "code",
   "execution_count": 41,
   "id": "7dd33112",
   "metadata": {},
   "outputs": [
    {
     "data": {
      "text/plain": [
       "'welcome you'"
      ]
     },
     "execution_count": 41,
     "metadata": {},
     "output_type": "execute_result"
    }
   ],
   "source": [
    "wel"
   ]
  },
  {
   "cell_type": "code",
   "execution_count": 42,
   "id": "9a278398",
   "metadata": {},
   "outputs": [],
   "source": [
    "del welcome"
   ]
  },
  {
   "cell_type": "code",
   "execution_count": 43,
   "id": "3eff2903",
   "metadata": {
    "scrolled": true
   },
   "outputs": [
    {
     "data": {
      "text/plain": [
       "'welcome you'"
      ]
     },
     "execution_count": 43,
     "metadata": {},
     "output_type": "execute_result"
    }
   ],
   "source": [
    "wel"
   ]
  },
  {
   "cell_type": "markdown",
   "id": "7710c50c",
   "metadata": {},
   "source": [
    "## closures:\n",
    "Defining functions inside a functions. Child fucntion is called closure function. The nested child function, in its definition, can be able to call or use the function and/or variables of the parent function. Closure remember its values and variables in its enclosing scope, even its parent function gets destroyed.\n",
    "\n",
    "The child function is just its defination. To use the child function, one needs to call it somewhere, using the parent function, or, be it in technical concept, the child function needs to be called from its parent scope."
   ]
  },
  {
   "cell_type": "code",
   "execution_count": 30,
   "id": "b87c653f",
   "metadata": {},
   "outputs": [
    {
     "name": "stdout",
     "output_type": "stream",
     "text": [
      "Hi\n",
      "Hi\n"
     ]
    }
   ],
   "source": [
    "def outer_func():\n",
    "    message = 'Hi'\n",
    "\n",
    "    def inner_func():\n",
    "        print(message)\n",
    "\n",
    "    return inner_func\n",
    "\n",
    "my_func = outer_func()\n",
    "\n",
    "my_func()\n",
    "my_func()"
   ]
  },
  {
   "cell_type": "code",
   "execution_count": 32,
   "id": "6cd18746",
   "metadata": {},
   "outputs": [
    {
     "name": "stdout",
     "output_type": "stream",
     "text": [
      "Hi\n",
      "Hello\n"
     ]
    }
   ],
   "source": [
    "def outer_func(msg):\n",
    "    message = msg\n",
    "\n",
    "    def inner_func():\n",
    "        print(message)\n",
    "\n",
    "    return inner_func\n",
    "\n",
    "hi_func = outer_func('Hi')\n",
    "hello_func = outer_func('Hello')\n",
    "\n",
    "hi_func()\n",
    "hello_func()"
   ]
  },
  {
   "cell_type": "code",
   "execution_count": 3,
   "id": "89f01808",
   "metadata": {},
   "outputs": [
    {
     "name": "stdout",
     "output_type": "stream",
     "text": [
      "6\n",
      "9\n",
      "5\n",
      "10\n"
     ]
    }
   ],
   "source": [
    "import logging\n",
    "logging.basicConfig(filename='example.log', level=logging.INFO)\n",
    "\n",
    "def logger(func):\n",
    "    def log_func(*args):\n",
    "        logging.info('Running \"{}\" with arguments {}'.format(func.__name__, args))\n",
    "        print(func(*args))\n",
    "    return log_func\n",
    "\n",
    "def add(x, y):\n",
    "    return x+y\n",
    "\n",
    "def sub(x, Y):\n",
    "    return x-Y\n",
    "\n",
    "add_logger = logger(add)\n",
    "sub_logger = logger(sub)\n",
    "\n",
    "add_logger(3, 3)\n",
    "add_logger(4, 5)\n",
    "sub_logger(10, 5)\n",
    "sub_logger(20, 10)"
   ]
  },
  {
   "cell_type": "code",
   "execution_count": 38,
   "id": "395de8be",
   "metadata": {},
   "outputs": [
    {
     "name": "stdout",
     "output_type": "stream",
     "text": [
      "Heyy!\n",
      "None\n"
     ]
    }
   ],
   "source": [
    "def outer():\n",
    "    def inner():\n",
    "        print('Heyy!')\n",
    "    return inner()  # returns nothing as the inner function definition doesn't returns anything. Here inner() function gets executed\n",
    "    \n",
    "var1 = outer()\n",
    "print(var1)"
   ]
  },
  {
   "cell_type": "code",
   "execution_count": 11,
   "id": "35224426",
   "metadata": {},
   "outputs": [],
   "source": [
    "def print_msg(msg):\n",
    "    greet=\"Hello\"\n",
    "    \n",
    "    def printer():\n",
    "        print(greet, msg)\n",
    "        \n",
    "    printer()    # calling the child function in the scope of the parent function."
   ]
  },
  {
   "cell_type": "code",
   "execution_count": 12,
   "id": "34ea6ad9",
   "metadata": {},
   "outputs": [
    {
     "name": "stdout",
     "output_type": "stream",
     "text": [
      "Hello Python theek thaak hi hai!\n"
     ]
    }
   ],
   "source": [
    "print_msg(\"Python theek thaak hi hai!\")"
   ]
  },
  {
   "cell_type": "code",
   "execution_count": 1,
   "id": "3cf8b3a3",
   "metadata": {},
   "outputs": [],
   "source": [
    "def main_welcome(stringz):\n",
    "    msg=\"kaise ho aap log\"\n",
    "    def sub_welcome():\n",
    "        print(\"Welcome to my world\")\n",
    "        print(msg, stringz)\n",
    "        print(\"kahtam\")\n",
    "    return sub_welcome()    # Its a kind of calling a child function from the parent function's scope."
   ]
  },
  {
   "cell_type": "code",
   "execution_count": 2,
   "id": "7d836f12",
   "metadata": {
    "scrolled": true
   },
   "outputs": [
    {
     "name": "stdout",
     "output_type": "stream",
     "text": [
      "Welcome to my world\n",
      "kaise ho aap log sharan here\n",
      "kahtam\n"
     ]
    }
   ],
   "source": [
    "main_welcome(\"sharan here\")"
   ]
  },
  {
   "cell_type": "code",
   "execution_count": 15,
   "id": "a4be01b1",
   "metadata": {},
   "outputs": [],
   "source": [
    "def main_welcome(stringz):\n",
    "    msg=\"kaise ho aap log\"\n",
    "    def sub_welcome():\n",
    "        print(\"Welcome to my world\")\n",
    "        print(msg, stringz)\n",
    "        print(\"kahtam\")\n",
    "    return sub_welcome    # Its a kind of calling a child function from the parent function's scope, but the whole function is being returned."
   ]
  },
  {
   "cell_type": "code",
   "execution_count": 16,
   "id": "81a4f9d6",
   "metadata": {},
   "outputs": [
    {
     "data": {
      "text/plain": [
       "<function __main__.main_welcome.<locals>.sub_welcome()>"
      ]
     },
     "execution_count": 16,
     "metadata": {},
     "output_type": "execute_result"
    }
   ],
   "source": [
    "main_welcome(\"sharan here\")"
   ]
  },
  {
   "cell_type": "code",
   "execution_count": 17,
   "id": "f92dbcec",
   "metadata": {},
   "outputs": [],
   "source": [
    "func_itself = main_welcome(\"sharan here\")\n",
    "#perfect example of function copying. Here, 'func_itself' becomes function now.\n",
    "#So to call it, we need to put parenthesis after its name,\n",
    "#because, its catching the whole function itself, not just the value returned by the called function.\n",
    "#Recall the working of returning lambda from a user defined functio. There also we didn't put () while catching\n",
    "#lambda. But while calling it from catching variable, we used () '''"
   ]
  },
  {
   "cell_type": "code",
   "execution_count": 18,
   "id": "4b9939de",
   "metadata": {},
   "outputs": [
    {
     "data": {
      "text/plain": [
       "<function __main__.main_welcome.<locals>.sub_welcome()>"
      ]
     },
     "execution_count": 18,
     "metadata": {},
     "output_type": "execute_result"
    }
   ],
   "source": [
    "func_itself"
   ]
  },
  {
   "cell_type": "code",
   "execution_count": 19,
   "id": "c5a46186",
   "metadata": {},
   "outputs": [
    {
     "name": "stdout",
     "output_type": "stream",
     "text": [
      "Welcome to my world\n",
      "kaise ho aap log sharan here\n",
      "kahtam\n"
     ]
    }
   ],
   "source": [
    "func_itself()"
   ]
  },
  {
   "cell_type": "markdown",
   "id": "5aa45ebf",
   "metadata": {},
   "source": [
    "## closures and initial concept decorators\n",
    "passing \\[inbuilt\\] function as argument to a function receiving function as a parameter.\n",
    "\n",
    "Decorator takes original function, passes it to wrapper, returns wrapper, where wrapper returns or EXECUTES ORIGINAL FUNCTION.\n",
    "\n",
    "This helps to adds some functionality to original function(NOT REALLY). Actually, the whole plot is, execute someting more in wrapper inaddition to execution of original function."
   ]
  },
  {
   "cell_type": "code",
   "execution_count": 20,
   "id": "a21a6293",
   "metadata": {},
   "outputs": [],
   "source": [
    "def main_welcome(func): # it is decorator function\n",
    "    msg=\"kaise ho aap log\"\n",
    "    def sub_welcome():  # it is wrapper function\n",
    "        print(\"Welcome to my world\")\n",
    "        print(msg)\n",
    "        func(\"ki haal?\")    # it is original function\n",
    "        print(\"kahtam\")\n",
    "    return sub_welcome()"
   ]
  },
  {
   "cell_type": "code",
   "execution_count": 21,
   "id": "11681cb9",
   "metadata": {},
   "outputs": [
    {
     "name": "stdout",
     "output_type": "stream",
     "text": [
      "Welcome to my world\n",
      "kaise ho aap log\n",
      "ki haal?\n",
      "kahtam\n"
     ]
    }
   ],
   "source": [
    "main_welcome(print) # passing an inbuilt function"
   ]
  },
  {
   "cell_type": "markdown",
   "id": "e1ab77fb",
   "metadata": {},
   "source": [
    "##### passing an user defined function"
   ]
  },
  {
   "cell_type": "code",
   "execution_count": 22,
   "id": "df1c268e",
   "metadata": {},
   "outputs": [],
   "source": [
    "def main_welcome(func):\n",
    "    msg=\"kaise ho aap log\"\n",
    "    def sub_welcome():\n",
    "        print(\"Welcome to my world\")\n",
    "        print(msg)\n",
    "        print(\"executing now the\", func.__name__, \"function.\")\n",
    "        func()\n",
    "        print(\"kahtam\")\n",
    "    return sub_welcome"
   ]
  },
  {
   "cell_type": "code",
   "execution_count": 23,
   "id": "6307184c",
   "metadata": {},
   "outputs": [],
   "source": [
    "def pet_name():\n",
    "    print(\"nahi bataunga\")"
   ]
  },
  {
   "cell_type": "code",
   "execution_count": 24,
   "id": "9847ef1d",
   "metadata": {
    "scrolled": true
   },
   "outputs": [],
   "source": [
    "whl_func = main_welcome(pet_name)"
   ]
  },
  {
   "cell_type": "code",
   "execution_count": 25,
   "id": "c481bf98",
   "metadata": {
    "scrolled": true
   },
   "outputs": [
    {
     "name": "stdout",
     "output_type": "stream",
     "text": [
      "Welcome to my world\n",
      "kaise ho aap log\n",
      "executing now the pet_name function.\n",
      "nahi bataunga\n",
      "kahtam\n"
     ]
    }
   ],
   "source": [
    "whl_func()"
   ]
  },
  {
   "cell_type": "markdown",
   "id": "d4abc861",
   "metadata": {},
   "source": [
    "### PURE DECORATOR:\n",
    "by definition, python decorators are the functions that takes another functions, add some functionality to it and then returns it.\n",
    "\n",
    "Decorators makes extensive use of decorators.\n",
    "\n",
    "Calling a function from the another function. Just put the name of the calling function just before the to be called function name, prepending it with the '@', and run it. This will automatically pass that to be called function to the '@' prepended function, and will run that calling function.\n",
    "\n",
    "This is helpful when we need to call one function to several function. So we mention calling function names before the to be called function name."
   ]
  },
  {
   "cell_type": "markdown",
   "id": "73ecdae4",
   "metadata": {},
   "source": [
    "#### wrapper_catch_var = decorator(orig_func)\n",
    "for the orig func where @decorator is not written above its defination is same as\n",
    "#### orig_func = decorator(orig_func)\n",
    "for orig func where @decorator is written, and orig func is called as orig_func()\n"
   ]
  },
  {
   "cell_type": "markdown",
   "id": "e31fe0c5",
   "metadata": {},
   "source": [
    "### Everytime a script runs, the function gets declared. So that during its call, binding takes place easily. Hence, whenever the decorated function gets declared for future binding, then at the back, its whole declaration gets changed. The function object returned by the decorator comes in place of it. Hence, we see a kind of behaviour where even we dont call the decoratd function, the code above its wrapper gets executed. Even __name__ == '__main__' cant do anything."
   ]
  },
  {
   "cell_type": "code",
   "execution_count": 26,
   "id": "f7d6e549",
   "metadata": {},
   "outputs": [],
   "source": [
    "@main_welcome\n",
    "def pet_name():\n",
    "    print(\"nahi bataunga\")"
   ]
  },
  {
   "cell_type": "code",
   "execution_count": 27,
   "id": "b39e3cd6",
   "metadata": {},
   "outputs": [
    {
     "name": "stdout",
     "output_type": "stream",
     "text": [
      "Welcome to my world\n",
      "kaise ho aap log\n",
      "executing now the pet_name function.\n",
      "nahi bataunga\n",
      "kahtam\n"
     ]
    }
   ],
   "source": [
    "# now calling the pet_name will ensure that pet_name will get pass to the decorator, and eventually decorator will get called\n",
    "pet_name()"
   ]
  },
  {
   "cell_type": "markdown",
   "id": "7719dd9d",
   "metadata": {},
   "source": [
    "###### decorating functions with parameters\n",
    "Passing the parameters of decorators' parameter function's parameters to closure."
   ]
  },
  {
   "cell_type": "code",
   "execution_count": 1,
   "id": "eaf7ec3c",
   "metadata": {},
   "outputs": [],
   "source": [
    "def smart_divide(func):\n",
    "    def denom_check(a, b):    # since the inner function replaces our original function, the parametrs should be passed to our inner function\n",
    "        print(\"Dividing\", a, \"by\", b)\n",
    "        if b == 0:\n",
    "            print(\"Cannot divide by 0\")\n",
    "            # return\n",
    "        else:\n",
    "            return func(a, b)\n",
    "            # func(a, b)\n",
    "    return denom_check\n",
    "\n",
    "@smart_divide\n",
    "def divide(a, b):\n",
    "    return a/b"
   ]
  },
  {
   "cell_type": "code",
   "execution_count": 2,
   "id": "a609deeb",
   "metadata": {},
   "outputs": [
    {
     "name": "stdout",
     "output_type": "stream",
     "text": [
      "Dividing 15 by 3\n",
      "5.0\n",
      "Dividing 5 by 0\n",
      "Cannot divide by 0\n",
      "None\n"
     ]
    }
   ],
   "source": [
    "val1 = divide(15, 3)\n",
    "print(val1)\n",
    "\n",
    "val2 = divide(5, 0)\n",
    "print(val2)"
   ]
  },
  {
   "cell_type": "code",
   "execution_count": 26,
   "id": "df33062d",
   "metadata": {},
   "outputs": [
    {
     "name": "stdout",
     "output_type": "stream",
     "text": [
      "Dividing 15 by 3\n",
      "5.0\n",
      "Dividing 5 by 0\n",
      "Cannot divide by 0\n"
     ]
    }
   ],
   "source": [
    "def smart_divide(func):\n",
    "    def denom_check(a, b):    # since the inner function replaces our original function, the parametrs should be passed to our inner function\n",
    "        print(\"Dividing\", a, \"by\", b)\n",
    "        if b == 0:\n",
    "            print(\"Cannot divide by 0\")\n",
    "            # return  # returning 'None' from the decorator\n",
    "        else:\n",
    "            func(a, b)\n",
    "    return denom_check\n",
    "\n",
    "@smart_divide\n",
    "def divide(a, b):\n",
    "    print(a/b)\n",
    "\n",
    "divide(15,3)\n",
    "divide(5,0)"
   ]
  },
  {
   "cell_type": "markdown",
   "id": "9e262d1f",
   "metadata": {},
   "source": [
    "#### Decorating function with same/different decorators"
   ]
  },
  {
   "cell_type": "code",
   "execution_count": 30,
   "id": "744c2ecc",
   "metadata": {},
   "outputs": [],
   "source": [
    "def star(func):\n",
    "    def inner(arg):\n",
    "        print(\"*\"*30)\n",
    "        func(arg)\n",
    "        print(\"*\"*30)\n",
    "    return inner"
   ]
  },
  {
   "cell_type": "code",
   "execution_count": 31,
   "id": "6ffd3afd",
   "metadata": {},
   "outputs": [],
   "source": [
    "def percent(func):\n",
    "    def inner(arg):\n",
    "        print(\"%\" * 30)\n",
    "        func(arg)\n",
    "        print(\"%\" * 30)\n",
    "    return inner"
   ]
  },
  {
   "cell_type": "markdown",
   "id": "055d6f1d",
   "metadata": {},
   "source": [
    "the below two cells are similar as writing:\n",
    "    \n",
    "    def printer(msg):\n",
    "        print(msg)\n",
    "    \n",
    "    printer = star(percent(printer))"
   ]
  },
  {
   "cell_type": "code",
   "execution_count": 32,
   "id": "ffab40b2",
   "metadata": {},
   "outputs": [],
   "source": [
    "@star\n",
    "@percent\n",
    "def printer(msg):\n",
    "    print(msg)"
   ]
  },
  {
   "cell_type": "code",
   "execution_count": 33,
   "id": "8a7eb7e7",
   "metadata": {},
   "outputs": [
    {
     "name": "stdout",
     "output_type": "stream",
     "text": [
      "******************************\n",
      "%%%%%%%%%%%%%%%%%%%%%%%%%%%%%%\n",
      "Decorators are wonderful\n",
      "%%%%%%%%%%%%%%%%%%%%%%%%%%%%%%\n",
      "******************************\n"
     ]
    }
   ],
   "source": [
    "printer(\"Decorators are wonderful\")"
   ]
  },
  {
   "cell_type": "code",
   "execution_count": 2,
   "id": "ea573939",
   "metadata": {},
   "outputs": [
    {
     "name": "stdout",
     "output_type": "stream",
     "text": [
      "wrapper executed this before display_info\n",
      "display_info ran with arguments (John, 25)\n",
      "wrapper executed this before display\n",
      "display function ran.\n"
     ]
    }
   ],
   "source": [
    "# ANOTHER ONE!! [DJ KHALID]\n",
    "\n",
    "def decorator_function(original_function):\n",
    "    def wrapper_function(*args, **kwargs):\n",
    "        print('wrapper executed this before {}'.format(original_function.__name__))\n",
    "        return original_function(*args, **kwargs)   # no purpose of using return keyword\n",
    "    return wrapper_function\n",
    "\n",
    "@decorator_function\n",
    "def display():\n",
    "    print('display function ran.')\n",
    "\n",
    "@decorator_function\n",
    "def display_info(name, age):\n",
    "    print(f'display_info ran with arguments ({name}, {age})')\n",
    "\n",
    "display_info('John', 25)\n",
    "\n",
    "display()"
   ]
  },
  {
   "cell_type": "markdown",
   "id": "ada3c6f4",
   "metadata": {},
   "source": [
    "##### Decorators without parameters, takes function as a parameter and returns wrapper function.\n",
    "##### While decorators with parameters, takes few *args **kwargs as parameters and returns another function which takes up the decorated function and returns wrapper"
   ]
  },
  {
   "cell_type": "code",
   "execution_count": 1,
   "id": "62ebbff2",
   "metadata": {},
   "outputs": [
    {
     "name": "stdout",
     "output_type": "stream",
     "text": [
      "line1\n",
      "The args are ('otr1', 'otr2', 'otr3', 'otr4').\n",
      "Function name is say_my_name.\n",
      "line1\n",
      "The args are ('otr5', 'otr6', 'otr7', 'otr8').\n",
      "Function name is who_are_you.\n",
      "**********\n",
      "The args are ('Sharan', 'Jaiswal'). They have been passed to the original function.\n",
      "My name is ('Sharan', 'Jaiswal').\n",
      "The args are ('Saint', 'Saheb'). They have been passed to the original function.\n",
      "My name is ('Saint', 'Saheb').\n"
     ]
    }
   ],
   "source": [
    "# Whats gets executed in decorators even before calling the decorated function\n",
    "# Before the actual wrapper function that replaces the orig_func, till that point, everything in the decorators will gets executed, even before calling the orig_func.\n",
    "# This happens because in the background binding takes place beforehand, so that whenever decorated function is called, the wrapper|closure function gets executed.\n",
    "\n",
    "def outer_decor(*args):\n",
    "    print(\"line1\")\n",
    "    print(f'The args are {args}.')\n",
    "    def mid_decor(orig_func):\n",
    "        print(f'Function name is {orig_func.__name__}.')\n",
    "        def replacing_func(*args):  # This set of args is different from the outer_decor args. This is working fine because of the scoping rules.\n",
    "                                    # Not a single value of args tyiple from outer_decor is accessible here even if they outnumber the count of the local elements of the args tuple.\n",
    "            print(f'The args are {args}. They have been passed to the original function.')\n",
    "            orig_func(*args)\n",
    "            # print(args[3], args[4])   # This line wont work because the scope of args tuple is looking for local var args. Even if the nonlocal has more indexed vars, they wont be used here\n",
    "        return replacing_func\n",
    "    return mid_decor\n",
    "\n",
    "@outer_decor(\"otr1\", \"otr2\", \"otr3\", \"otr4\")\n",
    "def say_my_name(*args):\n",
    "    print(f'My name is {args}.')\n",
    "\n",
    "@outer_decor('otr5', 'otr6', 'otr7', 'otr8')\n",
    "def who_are_you(*args):\n",
    "    print(f'My name is {args}.')\n",
    "\n",
    "print(\"*\"*10)\n",
    "\n",
    "say_my_name(\"Sharan\", \"Jaiswal\")\n",
    "who_are_you(\"Saint\", \"Saheb\")"
   ]
  },
  {
   "cell_type": "code",
   "execution_count": 1,
   "id": "e2dad7f4",
   "metadata": {},
   "outputs": [
    {
     "name": "stdout",
     "output_type": "stream",
     "text": [
      "Decorator for 'stringJoin'\n",
      "Decorator for 'summation'\n",
      "\n",
      "******** Everything printed above is a part of the of decorated function definition process. ********\n",
      "\n",
      "stringJoin started ...\n",
      "I like Geeksforgeeks\n",
      "*****\n",
      "summation started ...\n",
      "1729\n"
     ]
    }
   ],
   "source": [
    "# Decorators with parameters in Python  (Multi-level Decorators)\n",
    "# WORKING (if decorator was not present):--> decodecorator(decodecorator_params)(function_decorated)(params_of_function_decorated)\n",
    "\n",
    "def decodecorator(dataType, message1, message2):\n",
    "    def decorator(fun):\n",
    "        print(message1)\n",
    "        def wrapper(*args, **kwargs):\n",
    "            print(message2)\n",
    "            if all([type(arg) == dataType for arg in args]):\n",
    "                return fun(*args, **kwargs)\n",
    "            return \"Invalid Input\"\n",
    "        return wrapper\n",
    "    return decorator\n",
    "\n",
    "@decodecorator(str, \"Decorator for 'stringJoin'\", \"stringJoin started ...\")\n",
    "def stringJoin(*args):\n",
    "    st = ''\n",
    "    for i in args:\n",
    "        st += i\n",
    "    return st\n",
    "\n",
    "@decodecorator(int, \"Decorator for 'summation'\\n\", \"summation started ...\")\n",
    "def summation(*args):\n",
    "    summ = 0\n",
    "    for arg in args:\n",
    "        summ += arg\n",
    "    return summ\n",
    "\n",
    "print('******** Everything printed above is a part of the of decorated function definition process. ********\\n')\n",
    "print(stringJoin(\"I \", 'like ', \"Geeks\", 'for', \"geeks\"))\n",
    "print('*****')\n",
    "print(summation(19, 2, 8, 533, 67, 981, 119))"
   ]
  },
  {
   "cell_type": "code",
   "execution_count": 9,
   "id": "f4a82854",
   "metadata": {},
   "outputs": [
    {
     "name": "stdout",
     "output_type": "stream",
     "text": [
      "call method executed this before display_info\n",
      "display_info ran with arguments (John, 25)\n",
      "call method executed this before display\n",
      "display function ran.\n"
     ]
    }
   ],
   "source": [
    "# Classes as decorators (Although prefer FUNCTIONS AS A DECORATORS)\n",
    "\n",
    "class decorator_class(object):\n",
    "    def __init__(self, original_function):\n",
    "        self.original_function = original_function  # this will be our function with the instance of this class.\n",
    "                                                    # Here, free variabls are available made, to be used by __call__ method [wrapper function]\n",
    "    \n",
    "    # mimicing wrapper functionality\n",
    "    # The __call__ method enables Python programmers to write classes where the instances behave like functions and can be called like a function.\n",
    "    # When the instance is called as a function; if this method is defined, x(arg1, arg2, ...) is a shorthand for x.__call__(arg1, arg2, ...).\n",
    "    def __call__(self, *args, **kwargs):\n",
    "        print('call method executed this before {}'.format(self.original_function.__name__))\n",
    "        self.original_function(*args, **kwargs) # We can append the return keyword justin case to return the value returned by the original function, if any.\n",
    "\n",
    "@decorator_class\n",
    "def display():\n",
    "    print('display function ran.')\n",
    "\n",
    "@decorator_class\n",
    "def display_info(name, age):\n",
    "    print(f'display_info ran with arguments ({name}, {age})')\n",
    "\n",
    "display_info('John', 25)\n",
    "\n",
    "display()"
   ]
  },
  {
   "cell_type": "code",
   "execution_count": 45,
   "id": "8327b321",
   "metadata": {},
   "outputs": [
    {
     "name": "stdout",
     "output_type": "stream",
     "text": [
      "Hey my name is also sharan\n",
      "Entered name is : jaiswal\n"
     ]
    }
   ],
   "source": [
    "# Applying decorator on the class methods\n",
    "\n",
    "def check_name(method):\n",
    "    def inner(obj_ref):\n",
    "        if obj_ref.name == 'sharan':\n",
    "            print(f'Hey my name is also {obj_ref.name}')\n",
    "        else:\n",
    "            method(obj_ref)\n",
    "    return inner\n",
    "\n",
    "class Printing:\n",
    "    def __init__(self, name):\n",
    "        self.name = name\n",
    "    \n",
    "    @check_name\n",
    "    def print_name(self):\n",
    "        print(f'Entered name is : {self.name}')\n",
    "        \n",
    "p = Printing('sharan')\n",
    "p.print_name()\n",
    "p = Printing('jaiswal')\n",
    "p.print_name()"
   ]
  },
  {
   "cell_type": "code",
   "execution_count": 72,
   "id": "79d0c56b",
   "metadata": {},
   "outputs": [
    {
     "name": "stdout",
     "output_type": "stream",
     "text": [
      "John\n",
      "Smith\n",
      "JohnSmith@email.com\n",
      "John Smith\n"
     ]
    }
   ],
   "source": [
    "# PROPERTY DECORATORS\n",
    "\n",
    "class Emp:\n",
    "    def __init__(self, first, last):\n",
    "        self.first = first\n",
    "        self.last = last\n",
    "        self.email = first+last+'@email.com'\n",
    "\n",
    "    def fullname(self):\n",
    "        return f'{self.first} {self.last}'\n",
    "\n",
    "emp_1 = Emp('John', 'Smith')\n",
    "\n",
    "print(emp_1.first)\n",
    "print(emp_1.last)\n",
    "print(emp_1.email)\n",
    "print(emp_1.fullname())"
   ]
  },
  {
   "cell_type": "code",
   "execution_count": 73,
   "id": "ea4f88e8",
   "metadata": {},
   "outputs": [
    {
     "name": "stdout",
     "output_type": "stream",
     "text": [
      "Jhonny\n",
      "Smith\n",
      "JhonnySmith@email.com\n",
      "Jhonny Smith\n"
     ]
    }
   ],
   "source": [
    "# But on changing the firstname of a particular instance of the class, will change the return value of the fullname() method but won't change the email value because\n",
    "# the email value is formed already with the concatenation of first+last names. We have not defined any provision to auto update the email value for an instance on updating firstname\n",
    "# Even if we try to , the first thing that comes is making an 'email()' method to retrieve email. But that will force us to change the codebase to replace 'email' by 'email()'\n",
    "# because previously 'obj.email' was mere attribute, but now it will be 'obj.email()' method.\n",
    "# Hence, to overcome this issue, we have decorator. It will make us to use the parameterless method (except self) to call it in the form of 'obj.method' instead of 'obj.method()'\n",
    "# Do remember that, this will make the method non-callable. It will now onwards will be accessed as a attribute\n",
    "# This is practised when we want to change to be reflected in the object attribute which is dependent on other attribute. Hence we change dependent attribute to wrapped method\n",
    "\n",
    "del Emp\n",
    "del emp_1\n",
    "\n",
    "class Emp:\n",
    "    def __init__(self, first, last):\n",
    "        self.first = first\n",
    "        self.last = last\n",
    "\n",
    "    @property\n",
    "    def email(self):\n",
    "        return self.first+self.last+'@email.com'\n",
    "\n",
    "    # we can also use @property here\n",
    "    def fullname(self):\n",
    "        return f'{self.first} {self.last}'\n",
    "\n",
    "emp_1 = Emp('John', 'Smith')\n",
    "\n",
    "emp_1.first = 'Jhonny'\n",
    "\n",
    "print(emp_1.first)\n",
    "print(emp_1.last)\n",
    "print(emp_1.email)  # Observe that we are not calling it as 'obj.email()'\n",
    "# print(emp_1.email())\n",
    "print(emp_1.fullname())"
   ]
  },
  {
   "cell_type": "code",
   "execution_count": 13,
   "id": "950f59e8",
   "metadata": {},
   "outputs": [
    {
     "name": "stdout",
     "output_type": "stream",
     "text": [
      "Kayden\n",
      "Kross\n",
      "Kayden Kross @email.com\n",
      "Kayden Kross\n",
      "Kayden (.)(.) Kross\n",
      "Deleted full name\n",
      "None\n",
      "None\n",
      "None None @email.com\n",
      "None None\n",
      "None None None\n"
     ]
    }
   ],
   "source": [
    "# making attribute dependent method as a setter\n",
    "# for attribute to be a setter, it needs to be a decorated with @property. Also, the new defination of the same method has to decorated with '@<same_method_name>.setter'\n",
    "# It is not restricted to setting only those attributes which were used in the original method. It can set any other attributes also which were not mentioned in the org defination\n",
    "# In much similar way deleter function also works, with only restriction that it wont accept any argument except 'self'\n",
    "\n",
    "# del Emp\n",
    "# del emp_1\n",
    "\n",
    "class Emp:\n",
    "    def __init__(self, first, last):\n",
    "        self.first = first\n",
    "        self.last = last\n",
    "        self.middle = None\n",
    "        # self.email = f'{self.first} {self.middle} {self.last} @email.com' # this wont work now as it is being made as an method. AttributeError\n",
    "\n",
    "    @property\n",
    "    def email(self):\n",
    "        # return self.first+self.last+'@email.com'  # this wont work because '+' dont work on NoneTypes\n",
    "        return f'{self.first} {self.last} @email.com'\n",
    "\n",
    "    @property\n",
    "    def fullname(self):\n",
    "        return f'{self.first} {self.last}'\n",
    "\n",
    "    @fullname.setter\n",
    "    def fullname(self, name):\n",
    "        first, last = name.split(' ')\n",
    "        self.first = first\n",
    "        self.last = last\n",
    "        self.middle = '(.)(.)'\n",
    "\n",
    "    @fullname.deleter\n",
    "    def fullname(self):\n",
    "        print('Deleted full name')\n",
    "        self.first = None\n",
    "        self.last = None\n",
    "        self.middle = None\n",
    "\n",
    "emp_1 = Emp('John', 'Smith')\n",
    "\n",
    "# print('Email just before making use of @ property wrapper around email', emp_1.email) # this wont work now as it is being made as an method. AttributeError\n",
    "\n",
    "emp_1.first = 'Jhonny'\n",
    "\n",
    "emp_1.fullname = 'Kayden Kross' # here it works as a \"setter\"\n",
    "\n",
    "print(emp_1.first)\n",
    "print(emp_1.last)\n",
    "print(emp_1.email)\n",
    "print(emp_1.fullname)   # here it works as an attribute, as a \"getter\"\n",
    "print(f'{emp_1.first} {emp_1.middle} {emp_1.last}')\n",
    "\n",
    "del emp_1.fullname  # here it works as a \"deleter\"\n",
    "\n",
    "print(emp_1.first)\n",
    "print(emp_1.last)\n",
    "print(emp_1.email)\n",
    "print(emp_1.fullname)\n",
    "print(f'{emp_1.first} {emp_1.middle} {emp_1.last}')"
   ]
  },
  {
   "cell_type": "code",
   "execution_count": 15,
   "id": "e03e5d76",
   "metadata": {},
   "outputs": [
    {
     "name": "stdout",
     "output_type": "stream",
     "text": [
      "display_info ran with arguments (Hank, 30)\n",
      "display_info ran in : 1.0013468265533447 sec\n"
     ]
    }
   ],
   "source": [
    "# using .__name__ or .__doc__ or any magic methods on the orig_func, after wrapping it's defination with the decorator, will give the values associated with the wrapper func\n",
    "# one inefficient method is to explicitly assigning all those magic methods of the orig_func to the wrapper.__magic__, just before return statement ( return wrapper )\n",
    "# This is tedious. But pyhton provides efficient library to handle these\n",
    "from functools import wraps\n",
    "\n",
    "def my_logger(orig_func):\n",
    "    import logging\n",
    "    logging.basicConfig(filename='{}.log'.format(orig_func.__name__), level=logging.INFO)\n",
    "\n",
    "    # @wraps(orig_func) # not necessary because this wrapper function name is not been asked anywhere, unlike the time_wrapper which is asked here.\n",
    "    def wrapper(*args, **kwargs):\n",
    "        logging.info('{} Ran with args: {},  and kwargs: {}'.format(orig_func.__name__, args, kwargs))\n",
    "        return orig_func(*args, **kwargs)\n",
    "    return wrapper\n",
    "\n",
    "def my_timer(orig_func):\n",
    "    import time\n",
    "\n",
    "    @wraps(orig_func)   # theis wrapper name is asked in above wrapper function. Hence, it needed to be wrapped.\n",
    "    def time_wrapper(*args, **kwargs):\n",
    "        t1 = time.time()\n",
    "        result = orig_func(*args, **kwargs)\n",
    "        t2 = time.time() - t1\n",
    "        print('{} ran in : {} sec'.format(orig_func.__name__, t2))\n",
    "        return result\n",
    "    \n",
    "    return time_wrapper\n",
    "\n",
    "import time\n",
    "\n",
    "@my_logger\n",
    "@my_timer\n",
    "def display_info(name, age):\n",
    "    time.sleep(1)\n",
    "    print('display_info ran with arguments ({}, {})'.format(name, age))\n",
    "\n",
    "display_info('Hank', 30)"
   ]
  }
 ],
 "metadata": {
  "interpreter": {
   "hash": "a6570200391abd47b22bafa3ab36aba8327b6bca09374d4d4cb5f21cfca217ce"
  },
  "kernelspec": {
   "display_name": "Python 3 (ipykernel)",
   "language": "python",
   "name": "python3"
  },
  "language_info": {
   "codemirror_mode": {
    "name": "ipython",
    "version": 3
   },
   "file_extension": ".py",
   "mimetype": "text/x-python",
   "name": "python",
   "nbconvert_exporter": "python",
   "pygments_lexer": "ipython3",
   "version": "3.9.5"
  }
 },
 "nbformat": 4,
 "nbformat_minor": 5
}
