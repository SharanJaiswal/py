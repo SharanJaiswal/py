{
 "cells": [
  {
   "cell_type": "markdown",
   "id": "a4f1c1af",
   "metadata": {},
   "source": [
    "## Start of OOPs in Python"
   ]
  },
  {
   "cell_type": "code",
   "execution_count": null,
   "id": "c408c8b8",
   "metadata": {},
   "outputs": [],
   "source": [
    "# class Car(Object):     IS SAME AS     class Car:\n",
    "# creating object of class by approach \" obj = Class(<arguments[s]) \" is same as \" with Class(<arguments[s]) as obj : \"     \n",
    "# Later gives liberty to be careless about obj scope. More about it in Context Managers Notebook."
   ]
  },
  {
   "cell_type": "code",
   "execution_count": 1,
   "id": "b1960b08",
   "metadata": {},
   "outputs": [
    {
     "data": {
      "text/plain": [
       "<__main__.Car at 0x7f9bcc5be760>"
      ]
     },
     "execution_count": 1,
     "metadata": {},
     "output_type": "execute_result"
    }
   ],
   "source": [
    "class Car:\n",
    "    pass\n",
    "\n",
    "# initialize an object\n",
    "car1 = Car()\n",
    "car1"
   ]
  },
  {
   "cell_type": "code",
   "execution_count": 2,
   "id": "8e8baa5a",
   "metadata": {},
   "outputs": [],
   "source": [
    "car1.windows=5\n",
    "car1.doors=5"
   ]
  },
  {
   "cell_type": "code",
   "execution_count": 3,
   "id": "4214963f",
   "metadata": {},
   "outputs": [
    {
     "name": "stdout",
     "output_type": "stream",
     "text": [
      "3\n"
     ]
    }
   ],
   "source": [
    "car2 = Car()\n",
    "car2.windows=3\n",
    "car2.doors=2\n",
    "\n",
    "print(car2.windows)"
   ]
  },
  {
   "cell_type": "code",
   "execution_count": 4,
   "id": "12aaf832",
   "metadata": {},
   "outputs": [
    {
     "name": "stdout",
     "output_type": "stream",
     "text": [
      "petrol\n"
     ]
    }
   ],
   "source": [
    "car2.enginetype=\"petrol\"\n",
    "print(car2.enginetype)"
   ]
  },
  {
   "cell_type": "markdown",
   "id": "b7bda28a",
   "metadata": {},
   "source": [
    "so far we have seen that there is no limit on the number of attributes. It is a bad approach. To overcome this, there is \\_\\_init\\_\\_() in built function. It is initialization constructor, used to initialize the number of properties that should be initialized inside of that particular class."
   ]
  },
  {
   "cell_type": "markdown",
   "id": "3b38eca3",
   "metadata": {},
   "source": [
    "even if no 'Pass' is mentioned inside the class definition, instances can create its own attributes. These attributes is limited to that instance only, and is not created by default for any other instances. These attributes can be easily used in class defined functions, if that method's definitionhas mention of that attribute created, like \"self.\\<out_attr\\>\""
   ]
  },
  {
   "cell_type": "code",
   "execution_count": 5,
   "id": "dcfe315a",
   "metadata": {},
   "outputs": [
    {
     "name": "stdout",
     "output_type": "stream",
     "text": [
      "7 7\n"
     ]
    }
   ],
   "source": [
    "# prog to add two complex numbers using custom function\n",
    "\n",
    "class Complex:\n",
    "    # It is not necessary that __init__ should be placed before every class method. __init__ itself is optional\n",
    "    # It's just used to store the object's own variable during its instantiation, or to call some method during its instantiation. or some other instabtiation operation\n",
    "    # 'self' is just a conventional name accepted for first agrgument of every class method. We can use any other name also, \n",
    "    # but it should be be first argument, and hence should be unique in that methods only.\n",
    "    # Other class method can adopt same name for their first argument(self). But they be different also.\n",
    "    # Even what has been used as object identifier in one method, maynot be used i other. Or, maybe that name can be used for the other arguments other than self.\n",
    "    # Hence, every method will have its own identifier for object and other parameter references, and is scoped till that method only\n",
    "    def __init__(self, real, img):\n",
    "        self.real=real\n",
    "        self.img=img\n",
    "        \n",
    "    def add(self, number):\n",
    "        real=self.real+number.real\n",
    "        img=self.img+number.img\n",
    "        result=Complex(real, img)\n",
    "        return result\n",
    "    \n",
    "n1=Complex(4,5)\n",
    "n2=Complex(3,2)\n",
    "\n",
    "result=n1.add(n2)\n",
    "print(result.real, result.img)"
   ]
  },
  {
   "cell_type": "code",
   "execution_count": 6,
   "id": "7145a57b",
   "metadata": {
    "scrolled": false
   },
   "outputs": [
    {
     "data": {
      "text/plain": [
       "['__class__',\n",
       " '__delattr__',\n",
       " '__dict__',\n",
       " '__dir__',\n",
       " '__doc__',\n",
       " '__eq__',\n",
       " '__format__',\n",
       " '__ge__',\n",
       " '__getattribute__',\n",
       " '__gt__',\n",
       " '__hash__',\n",
       " '__init__',\n",
       " '__init_subclass__',\n",
       " '__le__',\n",
       " '__lt__',\n",
       " '__module__',\n",
       " '__ne__',\n",
       " '__new__',\n",
       " '__reduce__',\n",
       " '__reduce_ex__',\n",
       " '__repr__',\n",
       " '__setattr__',\n",
       " '__sizeof__',\n",
       " '__str__',\n",
       " '__subclasshook__',\n",
       " '__weakref__',\n",
       " 'doors',\n",
       " 'windows']"
      ]
     },
     "execution_count": 6,
     "metadata": {},
     "output_type": "execute_result"
    }
   ],
   "source": [
    "dir(car1)"
   ]
  },
  {
   "cell_type": "code",
   "execution_count": 7,
   "id": "4bfa23d6",
   "metadata": {},
   "outputs": [],
   "source": [
    "class Samp():\n",
    "    def __init__(self, atr1, atr2, atr3):\n",
    "        self.atr1=atr1\n",
    "        self._atr2=atr2\n",
    "        self.__atr3=atr3"
   ]
  },
  {
   "cell_type": "code",
   "execution_count": 8,
   "id": "3c8bf2d1",
   "metadata": {},
   "outputs": [],
   "source": [
    "obj1=Samp(2,3,6)"
   ]
  },
  {
   "cell_type": "code",
   "execution_count": 9,
   "id": "335d4d5b",
   "metadata": {},
   "outputs": [
    {
     "data": {
      "text/plain": [
       "['_Samp__atr3',\n",
       " '__class__',\n",
       " '__delattr__',\n",
       " '__dict__',\n",
       " '__dir__',\n",
       " '__doc__',\n",
       " '__eq__',\n",
       " '__format__',\n",
       " '__ge__',\n",
       " '__getattribute__',\n",
       " '__gt__',\n",
       " '__hash__',\n",
       " '__init__',\n",
       " '__init_subclass__',\n",
       " '__le__',\n",
       " '__lt__',\n",
       " '__module__',\n",
       " '__ne__',\n",
       " '__new__',\n",
       " '__reduce__',\n",
       " '__reduce_ex__',\n",
       " '__repr__',\n",
       " '__setattr__',\n",
       " '__sizeof__',\n",
       " '__str__',\n",
       " '__subclasshook__',\n",
       " '__weakref__',\n",
       " '_atr2',\n",
       " 'atr1']"
      ]
     },
     "execution_count": 9,
     "metadata": {},
     "output_type": "execute_result"
    }
   ],
   "source": [
    "dir(obj1)"
   ]
  },
  {
   "cell_type": "code",
   "execution_count": 7,
   "id": "6ebdf475",
   "metadata": {},
   "outputs": [],
   "source": [
    "class Caar:\n",
    "    def __init__(self, window, door, enginetype):\n",
    "        # creating/initializing attributes/variables(windows, doors, enginetypes) inside this class.\n",
    "        # append no more than single underscore. Prepend no more than double underscores.\n",
    "        self.windows=window    # no underscore : public access specifier\n",
    "        self._doors=door    # 1 underscore : protected access specifier can be accessed from their class as well as from the derived class\n",
    "        self.__enginetypes=enginetype    # 2 underscores : private access specifier can only be accessed from their class\n",
    "        \n",
    "    def self_driving(self):\n",
    "        return \"This is a {} engine car\".format(self.__enginetypes)"
   ]
  },
  {
   "cell_type": "code",
   "execution_count": 8,
   "id": "e45626c1",
   "metadata": {},
   "outputs": [],
   "source": [
    "caar1=Caar(4, 5, \"petrol\")\n",
    "# as soon as Caar is called, by defalult __init__() constructor is called, and it initializes the variables/attribute. The value of them is taken from the object creation"
   ]
  },
  {
   "cell_type": "markdown",
   "id": "aa408632",
   "metadata": {},
   "source": [
    "the self is referencing the object, and for that object all the variables/attributs are created"
   ]
  },
  {
   "cell_type": "code",
   "execution_count": 9,
   "id": "a6ed715c",
   "metadata": {},
   "outputs": [],
   "source": [
    "caar2=Caar(3,4,\"diesel\")"
   ]
  },
  {
   "cell_type": "code",
   "execution_count": 10,
   "id": "563f7fc5",
   "metadata": {},
   "outputs": [
    {
     "name": "stdout",
     "output_type": "stream",
     "text": [
      "4\n",
      "4\n",
      "diesel\n"
     ]
    }
   ],
   "source": [
    "print(caar1.windows)\n",
    "print(caar2._doors)\n",
    "print(caar2._Caar__enginetypes)"
   ]
  },
  {
   "cell_type": "code",
   "execution_count": 11,
   "id": "3cec6007",
   "metadata": {},
   "outputs": [
    {
     "data": {
      "text/plain": [
       "'This is a petrol engine car'"
      ]
     },
     "execution_count": 11,
     "metadata": {},
     "output_type": "execute_result"
    }
   ],
   "source": [
    "caar1.self_driving()"
   ]
  },
  {
   "cell_type": "markdown",
   "id": "9461dcd6",
   "metadata": {},
   "source": [
    "# INHERITANCE"
   ]
  },
  {
   "cell_type": "code",
   "execution_count": 3,
   "id": "51a6d7b9",
   "metadata": {},
   "outputs": [],
   "source": [
    "class Caaar:\n",
    "    def __init__(self, window, door, enginetype):\n",
    "        self.windows=window\n",
    "        self.doors=door\n",
    "        self.enginetypes=enginetype\n",
    "        \n",
    "    def drives(self):\n",
    "        print(\"The person drives the car\")"
   ]
  },
  {
   "cell_type": "markdown",
   "id": "4c92af15",
   "metadata": {},
   "source": [
    "#### making child class"
   ]
  },
  {
   "cell_type": "code",
   "execution_count": 4,
   "id": "5d8367ce",
   "metadata": {
    "scrolled": true
   },
   "outputs": [],
   "source": [
    "class audi(Caaar):\n",
    "    def __init__(self, windows, doors, enginetypes, enableai):\n",
    "        # It is not necessary that parent class constructor should be called first\n",
    "        super().__init__(windows, doors, enginetypes)   # instead of 'super()', one can use the name of the parent class. e.g., Caaar.__init__(sel.......\n",
    "        self.enableai=enableai\n",
    "# Some or all of the incoming arguments can be commonly shared between both parent and derived class. \n",
    "# Although, they will have their own copies of the attributes, with the same value(s)\n",
    "    def selfdriving(self):\n",
    "        print(\"Audi supports self-driving\")"
   ]
  },
  {
   "cell_type": "code",
   "execution_count": 5,
   "id": "4d4035f8",
   "metadata": {},
   "outputs": [
    {
     "name": "stdout",
     "output_type": "stream",
     "text": [
      "5 5 diesel\n"
     ]
    }
   ],
   "source": [
    "audiQ7=audi(5,5,\"diesel\", True)\n",
    "print(audiQ7.windows, audiQ7.doors, audiQ7.enginetypes)"
   ]
  },
  {
   "cell_type": "code",
   "execution_count": 18,
   "id": "a078d6d4",
   "metadata": {
    "scrolled": false
   },
   "outputs": [
    {
     "data": {
      "text/plain": [
       "['__class__',\n",
       " '__delattr__',\n",
       " '__dict__',\n",
       " '__dir__',\n",
       " '__doc__',\n",
       " '__eq__',\n",
       " '__format__',\n",
       " '__ge__',\n",
       " '__getattribute__',\n",
       " '__gt__',\n",
       " '__hash__',\n",
       " '__init__',\n",
       " '__init_subclass__',\n",
       " '__le__',\n",
       " '__lt__',\n",
       " '__module__',\n",
       " '__ne__',\n",
       " '__new__',\n",
       " '__reduce__',\n",
       " '__reduce_ex__',\n",
       " '__repr__',\n",
       " '__setattr__',\n",
       " '__sizeof__',\n",
       " '__str__',\n",
       " '__subclasshook__',\n",
       " '__weakref__',\n",
       " 'doors',\n",
       " 'drives',\n",
       " 'enableai',\n",
       " 'enginetypes',\n",
       " 'selfdriving',\n",
       " 'windows']"
      ]
     },
     "execution_count": 18,
     "metadata": {},
     "output_type": "execute_result"
    }
   ],
   "source": [
    "dir(audiQ7)"
   ]
  },
  {
   "cell_type": "markdown",
   "id": "3b0642a3",
   "metadata": {},
   "source": [
    "## Multiple Inheritance Order\n",
    "The hierarchial order of classes into which the python looks for the demanded method or attribute. First it looks in the current class, then its parent(s), then their/its parent(S and so on..."
   ]
  },
  {
   "cell_type": "code",
   "execution_count": 11,
   "id": "548d7dcb",
   "metadata": {},
   "outputs": [
    {
     "name": "stdout",
     "output_type": "stream",
     "text": [
      "Help on class Developer1 in module __main__:\n",
      "\n",
      "class Developer1(Employee)\n",
      " |  Developer1(name, pay)\n",
      " |  \n",
      " |  Method resolution order:\n",
      " |      Developer1\n",
      " |      Employee\n",
      " |      builtins.object\n",
      " |  \n",
      " |  Methods inherited from Employee:\n",
      " |  \n",
      " |  __init__(self, name, pay)\n",
      " |      Initialize self.  See help(type(self)) for accurate signature.\n",
      " |  \n",
      " |  apply_raise(self)\n",
      " |  \n",
      " |  ----------------------------------------------------------------------\n",
      " |  Data descriptors inherited from Employee:\n",
      " |  \n",
      " |  __dict__\n",
      " |      dictionary for instance variables (if defined)\n",
      " |  \n",
      " |  __weakref__\n",
      " |      list of weak references to the object (if defined)\n",
      " |  \n",
      " |  ----------------------------------------------------------------------\n",
      " |  Data and other attributes inherited from Employee:\n",
      " |  \n",
      " |  raise_amt = 1.1\n",
      "\n",
      "None\n"
     ]
    }
   ],
   "source": [
    "class Employee:\n",
    "    raise_amt = 1.10\n",
    "\n",
    "    def __init__(self, name, pay):\n",
    "        self.name = name\n",
    "        self.pay = pay\n",
    "\n",
    "    def apply_raise(self):\n",
    "        self.pay = self.pay * self.raise_amt\n",
    "\n",
    "class Developer1(Employee):\n",
    "    pass\n",
    "\n",
    "print(help(Developer1))"
   ]
  },
  {
   "cell_type": "code",
   "execution_count": 21,
   "id": "0ca5dbee",
   "metadata": {},
   "outputs": [
    {
     "name": "stdout",
     "output_type": "stream",
     "text": [
      "shady 1000\n",
      "1100.0\n",
      "****\n",
      "1000\n",
      "1100.0\n",
      "****\n",
      "1000\n",
      "900.0\n"
     ]
    }
   ],
   "source": [
    "obj = Developer1('shady', 1000)    # Pyhton will look for the __init__ method in the Developer class. Then if not found, it will look for it in its parent class Employee...\n",
    "print(obj.name, obj.pay)\n",
    "obj.apply_raise()\n",
    "print(obj.pay)  # raise increase as per the \"times\" inceament set in the parent class\n",
    "\n",
    "class Developer2(Employee):\n",
    "    raise_amt = 0.9 # this attribute will be overrided by the parent's class raise_amt attr, in case this class's object needs the raise_amt attribute value.\n",
    "\n",
    "print('****')\n",
    "\n",
    "obj_new1 = Employee('Chandrachoor', 1000)\n",
    "print(obj_new1.pay)\n",
    "obj_new1.apply_raise()\n",
    "print(obj_new1.pay)\n",
    "\n",
    "print('****')\n",
    "\n",
    "obj_new2 = Developer2('Chandramohan', 1000)\n",
    "print(obj_new2.pay)\n",
    "obj_new2.apply_raise()\n",
    "print(obj_new2.pay)\n"
   ]
  },
  {
   "cell_type": "markdown",
   "id": "51a452e7",
   "metadata": {},
   "source": [
    "## MULTIPLE INHERITANCE"
   ]
  },
  {
   "cell_type": "code",
   "execution_count": 19,
   "id": "2823203a",
   "metadata": {},
   "outputs": [],
   "source": [
    "class A:\n",
    "    def method1(self):\n",
    "        print(\"A class method is called here.\")\n",
    "    \n",
    "    def meth_a(self):\n",
    "        print(\"this is met A!\")"
   ]
  },
  {
   "cell_type": "code",
   "execution_count": 20,
   "id": "cec5ee91",
   "metadata": {},
   "outputs": [],
   "source": [
    "class B(A):\n",
    "    def method1(self):\n",
    "        print(\"B class method is called here.\")\n",
    "    \n",
    "    def meth_b(self):\n",
    "        print(\"this is met B!\")"
   ]
  },
  {
   "cell_type": "code",
   "execution_count": 21,
   "id": "31968170",
   "metadata": {},
   "outputs": [],
   "source": [
    "class C(A):\n",
    "    def method1(self):\n",
    "        print(\"C class method is called here.\")\n",
    "    \n",
    "    def meth_c(self):\n",
    "        print(\"this is met C!\")"
   ]
  },
  {
   "cell_type": "code",
   "execution_count": 22,
   "id": "0430f1b0",
   "metadata": {},
   "outputs": [],
   "source": [
    "class D(B,C):\n",
    "    def method1(self):\n",
    "        print(\"D class method is called here.\")\n",
    "    \n",
    "    def meth_d(self):\n",
    "        print(\"this is met D!\")"
   ]
  },
  {
   "cell_type": "markdown",
   "id": "480ad3ae",
   "metadata": {},
   "source": [
    "**Making instance of class D**"
   ]
  },
  {
   "cell_type": "code",
   "execution_count": 23,
   "id": "ca8ef093",
   "metadata": {},
   "outputs": [],
   "source": [
    "d=D()"
   ]
  },
  {
   "cell_type": "code",
   "execution_count": 24,
   "id": "c79acc93",
   "metadata": {},
   "outputs": [
    {
     "name": "stdout",
     "output_type": "stream",
     "text": [
      "this is met D!\n"
     ]
    }
   ],
   "source": [
    "d.meth_d()"
   ]
  },
  {
   "cell_type": "code",
   "execution_count": 25,
   "id": "420ee0ed",
   "metadata": {},
   "outputs": [
    {
     "name": "stdout",
     "output_type": "stream",
     "text": [
      "D class method is called here.\n"
     ]
    }
   ],
   "source": [
    "d.method1()"
   ]
  },
  {
   "cell_type": "code",
   "execution_count": 26,
   "id": "52d6c0c4",
   "metadata": {},
   "outputs": [
    {
     "name": "stdout",
     "output_type": "stream",
     "text": [
      "B class method is called here.\n",
      "this is met B!\n",
      "this is met B!\n",
      "this is met A!\n"
     ]
    }
   ],
   "source": [
    "# calling method1 of parent class with the instance of child class. (two methods)\n",
    "B.method1(d)    # M1\n",
    "B.meth_b(d)    # M1\n",
    "\n",
    "d.meth_b()    # M2\n",
    "d.meth_a()"
   ]
  },
  {
   "cell_type": "code",
   "execution_count": 27,
   "id": "f6e7c6ce",
   "metadata": {},
   "outputs": [
    {
     "name": "stdout",
     "output_type": "stream",
     "text": [
      "C class method is called here.\n",
      "this is met C!\n"
     ]
    }
   ],
   "source": [
    "C.method1(d)\n",
    "C.meth_c(d)"
   ]
  },
  {
   "cell_type": "code",
   "execution_count": 28,
   "id": "9a196207",
   "metadata": {
    "scrolled": true
   },
   "outputs": [
    {
     "name": "stdout",
     "output_type": "stream",
     "text": [
      "A class method is called here.\n",
      "this is met A!\n"
     ]
    }
   ],
   "source": [
    "# since A is parent of parent of D, so relevant attributes of A will also be inherited to D\n",
    "A.method1(d)\n",
    "A.meth_a(d)"
   ]
  },
  {
   "cell_type": "markdown",
   "id": "e0833725",
   "metadata": {},
   "source": [
    "###### Calling methods from the parent class as soon as class method is called"
   ]
  },
  {
   "cell_type": "code",
   "execution_count": 29,
   "id": "29559033",
   "metadata": {},
   "outputs": [],
   "source": [
    "class E(D):\n",
    "    def method1(self):\n",
    "        print(\"E class method is called here.\")\n",
    "        A.method1(self)    # calling parent class method using class. requires self keyword\n",
    "        B.method1(self)\n",
    "        C.method1(self)\n",
    "        D.method1(self)\n",
    "        # super() return temporary object of the super class of the subclass. Simply, its like an object of an parent class. Hence we dont provide self as parameter to the parent method call\n",
    "        super().method1()    # this doesn't need self keyword, and is orthodox method to call parent class method\n",
    "        # super().super().method1()  # bakaiti nahi chalta idhar"
   ]
  },
  {
   "cell_type": "code",
   "execution_count": 30,
   "id": "d3f7f086",
   "metadata": {},
   "outputs": [],
   "source": [
    "e=E()"
   ]
  },
  {
   "cell_type": "code",
   "execution_count": 31,
   "id": "81ca70ee",
   "metadata": {
    "scrolled": true
   },
   "outputs": [
    {
     "name": "stdout",
     "output_type": "stream",
     "text": [
      "E class method is called here.\n",
      "A class method is called here.\n",
      "B class method is called here.\n",
      "C class method is called here.\n",
      "D class method is called here.\n",
      "D class method is called here.\n"
     ]
    }
   ],
   "source": [
    "e.method1()"
   ]
  },
  {
   "cell_type": "markdown",
   "id": "e24034d2",
   "metadata": {},
   "source": [
    "## OOPs magic methods in Class\n",
    "Some magic happens in the background that helps to create the class's object."
   ]
  },
  {
   "cell_type": "code",
   "execution_count": 32,
   "id": "c8023901",
   "metadata": {},
   "outputs": [],
   "source": [
    "c=Caaar(4,5,\"diesel\")"
   ]
  },
  {
   "cell_type": "code",
   "execution_count": 33,
   "id": "8028f339",
   "metadata": {},
   "outputs": [
    {
     "data": {
      "text/plain": [
       "<__main__.Caaar at 0x7f9bcc55cdc0>"
      ]
     },
     "execution_count": 33,
     "metadata": {},
     "output_type": "execute_result"
    }
   ],
   "source": [
    "c"
   ]
  },
  {
   "cell_type": "code",
   "execution_count": 34,
   "id": "3fdb55a9",
   "metadata": {
    "scrolled": false
   },
   "outputs": [
    {
     "data": {
      "text/plain": [
       "['__class__',\n",
       " '__delattr__',\n",
       " '__dict__',\n",
       " '__dir__',\n",
       " '__doc__',\n",
       " '__eq__',\n",
       " '__format__',\n",
       " '__ge__',\n",
       " '__getattribute__',\n",
       " '__gt__',\n",
       " '__hash__',\n",
       " '__init__',\n",
       " '__init_subclass__',\n",
       " '__le__',\n",
       " '__lt__',\n",
       " '__module__',\n",
       " '__ne__',\n",
       " '__new__',\n",
       " '__reduce__',\n",
       " '__reduce_ex__',\n",
       " '__repr__',\n",
       " '__setattr__',\n",
       " '__sizeof__',\n",
       " '__str__',\n",
       " '__subclasshook__',\n",
       " '__weakref__',\n",
       " 'doors',\n",
       " 'drives',\n",
       " 'enginetypes',\n",
       " 'windows']"
      ]
     },
     "execution_count": 34,
     "metadata": {},
     "output_type": "execute_result"
    }
   ],
   "source": [
    "dir(c)    # all the double underscore enclodes methods listed below are called magic methods"
   ]
  },
  {
   "cell_type": "code",
   "execution_count": 35,
   "id": "102311e9",
   "metadata": {},
   "outputs": [],
   "source": [
    "class Caaar:\n",
    "    def __init__(self, window, door, enginetype):\n",
    "        self.windows=window\n",
    "        self.doors=door\n",
    "        self.enginetypes=enginetype\n",
    "        \n",
    "    def drives(self):\n",
    "        print(\"The person drives the car\")\n",
    "    \n",
    "    def __str__(self):\n",
    "        return \"The object has been initialized\""
   ]
  },
  {
   "cell_type": "code",
   "execution_count": 36,
   "id": "50023459",
   "metadata": {},
   "outputs": [],
   "source": [
    "c=Caaar(4, 5, \"Diesel\")"
   ]
  },
  {
   "cell_type": "markdown",
   "id": "063b8587",
   "metadata": {},
   "source": [
    "We can override magic methods. print(\\<objects\\>) calls \\_\\_str()\\_\\_. Here we'll override it, with our custom function definition."
   ]
  },
  {
   "cell_type": "code",
   "execution_count": 37,
   "id": "68b0b37d",
   "metadata": {},
   "outputs": [
    {
     "name": "stdout",
     "output_type": "stream",
     "text": [
      "The object has been initialized\n"
     ]
    }
   ],
   "source": [
    "print(c)"
   ]
  },
  {
   "cell_type": "code",
   "execution_count": 38,
   "id": "bb0e895d",
   "metadata": {},
   "outputs": [
    {
     "data": {
      "text/plain": [
       "<__main__.Caaar at 0x7f9bcc594370>"
      ]
     },
     "execution_count": 38,
     "metadata": {},
     "output_type": "execute_result"
    }
   ],
   "source": [
    "c\n",
    "# it'll be the same as it was giving in print(c). But now we've overridden __str__() which is called by print(<obj>)"
   ]
  },
  {
   "cell_type": "code",
   "execution_count": 39,
   "id": "ba0f2094",
   "metadata": {},
   "outputs": [
    {
     "data": {
      "text/plain": [
       "32"
      ]
     },
     "execution_count": 39,
     "metadata": {},
     "output_type": "execute_result"
    }
   ],
   "source": [
    "c.__sizeof__()"
   ]
  },
  {
   "cell_type": "code",
   "execution_count": 40,
   "id": "13044766",
   "metadata": {},
   "outputs": [
    {
     "data": {
      "text/plain": [
       "'The object has been initialized'"
      ]
     },
     "execution_count": 40,
     "metadata": {},
     "output_type": "execute_result"
    }
   ],
   "source": [
    "c.__str__()"
   ]
  },
  {
   "cell_type": "code",
   "execution_count": 12,
   "id": "611e9566",
   "metadata": {},
   "outputs": [],
   "source": [
    "class Caaar:\n",
    "    def __new__(self, window, door, enginetype):\n",
    "        print(\"New is being called even before init. It is called during class\\'s object creation\")\n",
    "    def __init__(self, window, door, enginetype):\n",
    "        self.windows=window\n",
    "        self.doors=door\n",
    "        self.enginetypes=enginetype\n",
    "        \n",
    "    def drives(self):\n",
    "        print(\"The person drives the car\", self.windows, self.doors, self.enginetypes)\n",
    "    \n",
    "    def __str__(self):  # can be here __repr__ also\n",
    "        print(\"The object has been initialized.\", self.windows)"
   ]
  },
  {
   "cell_type": "code",
   "execution_count": 13,
   "id": "16967069",
   "metadata": {},
   "outputs": [
    {
     "name": "stdout",
     "output_type": "stream",
     "text": [
      "New is being called even before init. It is called during class's object creation\n"
     ]
    }
   ],
   "source": [
    "c=Caaar(6, 7, \"Petrollllll\")"
   ]
  },
  {
   "cell_type": "code",
   "execution_count": 14,
   "id": "7b4d03f0",
   "metadata": {},
   "outputs": [
    {
     "ename": "AttributeError",
     "evalue": "'NoneType' object has no attribute 'windows'",
     "output_type": "error",
     "traceback": [
      "\u001b[0;31m---------------------------------------------------------------------------\u001b[0m",
      "\u001b[0;31mAttributeError\u001b[0m                            Traceback (most recent call last)",
      "\u001b[0;32m<ipython-input-14-7a9eedcd14cc>\u001b[0m in \u001b[0;36m<module>\u001b[0;34m\u001b[0m\n\u001b[0;32m----> 1\u001b[0;31m \u001b[0mc\u001b[0m\u001b[0;34m.\u001b[0m\u001b[0mwindows\u001b[0m\u001b[0;34m\u001b[0m\u001b[0;34m\u001b[0m\u001b[0m\n\u001b[0m",
      "\u001b[0;31mAttributeError\u001b[0m: 'NoneType' object has no attribute 'windows'"
     ]
    }
   ],
   "source": [
    "c.windows"
   ]
  },
  {
   "cell_type": "code",
   "execution_count": null,
   "id": "81c58adf",
   "metadata": {},
   "outputs": [],
   "source": [
    "c.drives()"
   ]
  },
  {
   "cell_type": "code",
   "execution_count": null,
   "id": "da69ed41",
   "metadata": {},
   "outputs": [],
   "source": [
    "# Default representation of __str__ calls __repr__ internally. Hence, if __str__ is redefined, the it will no longer look for __repr__\n",
    "# If only __repr__ is redefined, __str__ will call the redined __repr__\n",
    "# __str__ and __repr__ can be called as str(obj), print(obj), '{}'.format(obj) .... and repr(obj) respectively"
   ]
  },
  {
   "cell_type": "markdown",
   "id": "11ce1796",
   "metadata": {},
   "source": [
    "## Class methods and Class Variables"
   ]
  },
  {
   "cell_type": "code",
   "execution_count": 1,
   "id": "2677187e",
   "metadata": {},
   "outputs": [],
   "source": [
    "# Instance Methods can modify instance state and class state as well\n",
    "# classmethods can modify only class state, but not instance state\n",
    "# static neither modify class nor instance state, as they dontr have access to it\n",
    "# Although they can be called with using class as well as instances, but only prescribed should be practised."
   ]
  },
  {
   "cell_type": "code",
   "execution_count": 15,
   "id": "fa740f9d",
   "metadata": {},
   "outputs": [],
   "source": [
    "class Bike:\n",
    "    base_price = 100000     # class var. Any obj of this class will have common base price at any instance.\n",
    "                            # Value may vary at different time, but for every obj, value will be same.\n",
    "    \n",
    "    def __init__(self, window, door, power):\n",
    "        self.windows = window\n",
    "        self.doors = door\n",
    "        self.power = power\n",
    "        \n",
    "    def what_base_price(self):\n",
    "        print(\"The base price : {}\".format(self.base_price))\n",
    "        \n",
    "    @classmethod    # decorator\n",
    "    def revise_base_price(cls, inflation):\n",
    "        cls.base_price = cls.base_price + cls.base_price * inflation"
   ]
  },
  {
   "cell_type": "markdown",
   "id": "0425b410",
   "metadata": {},
   "source": [
    "**ways to access base price:**"
   ]
  },
  {
   "cell_type": "code",
   "execution_count": 16,
   "id": "958868b7",
   "metadata": {},
   "outputs": [
    {
     "name": "stdout",
     "output_type": "stream",
     "text": [
      "100000\n",
      "The base price : 100000\n",
      "100000\n"
     ]
    }
   ],
   "source": [
    "bike1 = Bike(4, 5, 2000)\n",
    "print(bike1.base_price)    # M1\n",
    "bike1.what_base_price()    # M2\n",
    "\n",
    "print(Bike.base_price)    # M3"
   ]
  },
  {
   "cell_type": "code",
   "execution_count": 17,
   "id": "cb9bdc50",
   "metadata": {},
   "outputs": [],
   "source": [
    "# updating inflated rate for the first time\n",
    "Bike.revise_base_price(0.10)"
   ]
  },
  {
   "cell_type": "code",
   "execution_count": 18,
   "id": "fa57b28c",
   "metadata": {},
   "outputs": [
    {
     "name": "stdout",
     "output_type": "stream",
     "text": [
      "110000.0\n",
      "The base price : 110000.0\n",
      "110000.0\n"
     ]
    }
   ],
   "source": [
    "print(bike1.base_price)    # M1\n",
    "bike1.what_base_price()    # M2\n",
    "\n",
    "print(Bike.base_price)    # M3"
   ]
  },
  {
   "cell_type": "markdown",
   "id": "81bc912f",
   "metadata": {},
   "source": [
    "**Here we are seeing that the class variable is also getting updated from the object. But this not allowed in real world practice. So avoid/restrict updation of class variable using its instance.**"
   ]
  },
  {
   "cell_type": "code",
   "execution_count": 19,
   "id": "2ffa8085",
   "metadata": {},
   "outputs": [],
   "source": [
    "bike1.revise_base_price(0.10)"
   ]
  },
  {
   "cell_type": "code",
   "execution_count": 20,
   "id": "6da04443",
   "metadata": {},
   "outputs": [
    {
     "name": "stdout",
     "output_type": "stream",
     "text": [
      "121000.0\n",
      "The base price : 121000.0\n",
      "121000.0\n"
     ]
    }
   ],
   "source": [
    "print(bike1.base_price)    # M1\n",
    "bike1.what_base_price()    # M2\n",
    "\n",
    "print(Bike.base_price)    # M3"
   ]
  },
  {
   "cell_type": "code",
   "execution_count": 21,
   "id": "9ac956ca",
   "metadata": {},
   "outputs": [],
   "source": [
    "bike2 = Bike(9, 12, 2000)"
   ]
  },
  {
   "cell_type": "code",
   "execution_count": 22,
   "id": "4dc7a12f",
   "metadata": {},
   "outputs": [
    {
     "name": "stdout",
     "output_type": "stream",
     "text": [
      "121000.0\n",
      "The base price : 121000.0\n",
      "121000.0\n"
     ]
    }
   ],
   "source": [
    "# for object bike2\n",
    "print(bike2.base_price)    # M1\n",
    "bike2.what_base_price()    # M2\n",
    "\n",
    "print(Bike.base_price)    # M3"
   ]
  },
  {
   "cell_type": "code",
   "execution_count": 23,
   "id": "901f9077",
   "metadata": {},
   "outputs": [
    {
     "name": "stdout",
     "output_type": "stream",
     "text": [
      "<__main__.Bike object at 0x7fcece8aed00>\n",
      "50\n"
     ]
    }
   ],
   "source": [
    "bike3 = Bike(9, 12, 2000)\n",
    "print(bike3)\n",
    "bike3.base_price = 50   # once class var gets changed for a given object, it removes link with that common class var, and sort of creates its own version of that class var\n",
    "print(bike3.base_price)"
   ]
  },
  {
   "cell_type": "code",
   "execution_count": 24,
   "id": "ad552f68",
   "metadata": {},
   "outputs": [
    {
     "name": "stdout",
     "output_type": "stream",
     "text": [
      "121000.0\n",
      "145200.0\n",
      "145200.0\n",
      "50\n"
     ]
    }
   ],
   "source": [
    "bike4 = Bike(9, 12, 2000)\n",
    "print(bike4.base_price)\n",
    "bike4.revise_base_price(0.2)\n",
    "print(bike4.base_price)\n",
    "print(bike2.base_price)\n",
    "print(bike3.base_price) # for bike3, object has its own version of its class var. Its gets detachec with the common property of class variable."
   ]
  },
  {
   "cell_type": "code",
   "execution_count": 2,
   "id": "ffa8a6c6",
   "metadata": {},
   "outputs": [
    {
     "name": "stdout",
     "output_type": "stream",
     "text": [
      "Santa Banta 69\n"
     ]
    }
   ],
   "source": [
    "# Another example\n",
    "class Employee:\n",
    "    def __init__(self, first, last, pay):\n",
    "        self.first = first\n",
    "        self.last = last\n",
    "        self.pay = pay\n",
    "\n",
    "    @classmethod\n",
    "    def from_string(cls, emp_str):\n",
    "        first, last, pay = emp_str.split('-')\n",
    "        return cls(first, last, pay)\n",
    "    \n",
    "# Way 1 to create objects if separate attribute values are present\n",
    "obj1 = Employee('Sheikh', 'chilli', 50)\n",
    "\n",
    "# Way 2: if consolidate string contains the info of all the attributes. This is an to use classmethods as an alternative constructors.\n",
    "emp1 = 'Santa-Banta-69'\n",
    "obj2 = Employee.from_string(emp1)\n",
    "print(obj2.first, obj2.last, obj2.pay)"
   ]
  },
  {
   "cell_type": "markdown",
   "id": "020754df",
   "metadata": {},
   "source": [
    "## Static Methods in Python\n",
    "As soon as the class gets loaded, the first thing that gets initialized is STATIC METHOD. Its lifetime is until when application is running. Unlike the other way, it doesn't get initialized everytime, when the instance being made. Initialize class for just once, and it will live forever. It can be called with classname, instancename, etc. It is fast.\n",
    "We use static method in place of classmethods if we see that there is no use of class or object in the method. In classmethod, we use cls."
   ]
  },
  {
   "cell_type": "code",
   "execution_count": 51,
   "id": "9112a12b",
   "metadata": {},
   "outputs": [],
   "source": [
    "class Bike:\n",
    "    base_price = 100_000    # class var. Any obj of this class will have common base price at any instance. Value may vary at different time, but for every obj, value will be same.\n",
    "\n",
    "    def __init__(self, window, door, power):\n",
    "        self.windows = window\n",
    "        self.doors = door\n",
    "        self.power = power\n",
    "\n",
    "    def what_base_price(self):\n",
    "        print(\"The base price : {}\".format(self.base_price))\n",
    "\n",
    "    @classmethod    # decorator\n",
    "    def revise_base_price(cls, inflation):\n",
    "        cls.base_price = cls.base_price + cls.base_price * inflation\n",
    "\n",
    "    @staticmethod\n",
    "    def check_year(year):    # we don't provide here neither INSTANCE nor CLASS parameter (or dont provide any parameter if we want), in static method, \n",
    "                             # because multiple copies of static method is not allowed to create.\n",
    "                             # Even then also, we can able to call this method, withe help of class or its object\n",
    "        if year==2021:\n",
    "            return True\n",
    "        else:\n",
    "            return False"
   ]
  },
  {
   "cell_type": "code",
   "execution_count": 52,
   "id": "a449cc25",
   "metadata": {},
   "outputs": [
    {
     "data": {
      "text/plain": [
       "True"
      ]
     },
     "execution_count": 52,
     "metadata": {},
     "output_type": "execute_result"
    }
   ],
   "source": [
    "Bike.check_year(2021)"
   ]
  },
  {
   "cell_type": "code",
   "execution_count": 53,
   "id": "25744502",
   "metadata": {},
   "outputs": [],
   "source": [
    "bike1 = Bike(4, 5, 2000)"
   ]
  },
  {
   "cell_type": "code",
   "execution_count": 54,
   "id": "24d00336",
   "metadata": {},
   "outputs": [
    {
     "data": {
      "text/plain": [
       "False"
      ]
     },
     "execution_count": 54,
     "metadata": {},
     "output_type": "execute_result"
    }
   ],
   "source": [
    "bike1.check_year(2034)"
   ]
  },
  {
   "cell_type": "markdown",
   "id": "ea79154a",
   "metadata": {},
   "source": [
    "**Use Case:**\n",
    "If check_year gives True in statement *if(bike1.check_year(<today_year_val>)*, then *Pass*. Else, call *Bike.revise_base_price* and update the base_price."
   ]
  },
  {
   "cell_type": "code",
   "execution_count": 1,
   "id": "90da6050",
   "metadata": {},
   "outputs": [
    {
     "name": "stdout",
     "output_type": "stream",
     "text": [
      "6\n",
      "diesel\n",
      "9\n"
     ]
    }
   ],
   "source": [
    "class Car:\n",
    "    def __init__(self, win, eng):\n",
    "        self.window = win   # the attributes\n",
    "        self.engine = eng   # the attributes\n",
    "\n",
    "class Alto(Car):\n",
    "    def __init__(self, gate, windows, engines): # the parameters\n",
    "        self.gates = gate    # |       |    # the attributes\n",
    "        super().__init__(windows, engines)  # the parameters from the enclosing method __init__ of the derives class\n",
    "\n",
    "alto = Alto(6, 9, 'diesel')\n",
    "print(alto.gates)   # printing attributes\n",
    "print(alto.engine)  # printing attributes\n",
    "print(alto.window)  # printing attributes"
   ]
  },
  {
   "cell_type": "code",
   "execution_count": 2,
   "id": "aa79b140",
   "metadata": {},
   "outputs": [
    {
     "name": "stdout",
     "output_type": "stream",
     "text": [
      "namba\n",
      "class method w/o init, neither with self nor cls as parameter.\n",
      "namba\n",
      "AFTER THE VALUE OF CLASS VAR CHANGED FROM ONE OF ITS OBJECT INSTANCE\n",
      "nimba\n",
      "namba\n",
      "namba\n",
      "AFTER THE VALUE OF CLASS VAR CHANGED FROM ONE OF ITS CLASS ITSELF\n",
      "NIMBUZZ\n",
      "nimba\n",
      "NIMBUZZ\n"
     ]
    }
   ],
   "source": [
    "class Jabba:\n",
    "    varval = 'namba'\n",
    "    def normal():\n",
    "        print(\"class method w/o init, neither with self nor cls as parameter.\")\n",
    "\n",
    "jab = Jabba()\n",
    "print(jab.varval)\n",
    "#jab.normal()   IT WONT WORK\n",
    "Jabba.normal()\n",
    "print(Jabba.varval)\n",
    "print('AFTER THE VALUE OF CLASS VAR CHANGED FROM ONE OF ITS OBJECT INSTANCE')\n",
    "jab.varval = 'nimba'    # if we change the class variable value fromm its object instance, then for that instance only the value gets updated. Not for the other object instances or for the class. Just for that instance. THIS IS HALF TRUTH\n",
    "print(jab.varval)\n",
    "print(Jabba.varval)\n",
    "jab2 = Jabba()\n",
    "print(jab2.varval)\n",
    "print('AFTER THE VALUE OF CLASS VAR CHANGED FROM ONE OF ITS CLASS ITSELF')\n",
    "Jabba.varval = 'NIMBUZZ'\n",
    "print(Jabba.varval) # If we change the class variable with the help of the class itself, then for all the derived object instances of that class, that updated value will be reflected, unless any explicit change of value occurs from the specific object, before or after of the change of the class value from the help of the class itself.\n",
    "print(jab.varval)\n",
    "print(jab2.varval)"
   ]
  },
  {
   "cell_type": "code",
   "execution_count": 1,
   "id": "7f5979e5",
   "metadata": {},
   "outputs": [
    {
     "name": "stdout",
     "output_type": "stream",
     "text": [
      "Ross Object created.\n",
      "Ross Object created.\n",
      "Rachel Object created.\n",
      "Rachel Object created.\n",
      "deleting the class Ross object instance.\n",
      "deleting the class Rachel object instance.\n",
      "bitch\n",
      "bitch\n",
      "boss\n",
      "deleting the class Ross object instance.\n",
      "deleting the class Rachel object instance.\n"
     ]
    }
   ],
   "source": [
    "# DESTRUCTOR\n",
    "class Ross:\n",
    "    def __init__(self):\n",
    "        print('Ross Object created.')\n",
    "\n",
    "    def __del__(self):\n",
    "        print('deleting the class Ross object instance.')\n",
    "\n",
    "class Rachel(Ross):\n",
    "    val = 'bitch'\n",
    "\n",
    "    def __init__(self):\n",
    "        print('Rachel Object created.')\n",
    "        self.var = 'boss'\n",
    "\n",
    "    def __del__(self):\n",
    "        print('deleting the class Rachel object instance.')\n",
    "\n",
    "ross1 = Ross()\n",
    "ross2 = Ross()\n",
    "\n",
    "rachel1 = Rachel()\n",
    "rachel2 = Rachel()\n",
    "\n",
    "del ross1   # class object got deleted\n",
    "del rachel1 # class object got deleted\n",
    "\n",
    "print(Rachel.val)\n",
    "\n",
    "del Ross    # class got deleted. Just class, not its object created. Now, no further object can be created with that class, unless new class is defined with the same name.\n",
    "del Rachel  # same as above\n",
    "\n",
    "print(rachel2.val)\n",
    "print(rachel2.var)\n",
    "\n",
    "del ross2\n",
    "del rachel2"
   ]
  },
  {
   "cell_type": "code",
   "execution_count": null,
   "id": "e836c0e9",
   "metadata": {},
   "outputs": [],
   "source": [
    "# from operator import attrgetter\n",
    "\"\"\"\n",
    "Return a callable object that fetches the given attribute(s) from its operand.\n",
    "After f = attrgetter('name'), the call f(r) returns r.name.\n",
    "After g = attrgetter('name', 'date'), the call g(r) returns (r.name, r.date).\n",
    "After h = attrgetter('name.first', 'name.last'), the call h(r) returns (r.name.first, r.name.last).\n",
    "It can be used as key=attrgettr('attr1', 'attr2') in sorted() function\n",
    "\"\"\""
   ]
  }
 ],
 "metadata": {
  "interpreter": {
   "hash": "a6570200391abd47b22bafa3ab36aba8327b6bca09374d4d4cb5f21cfca217ce"
  },
  "kernelspec": {
   "display_name": "Python 3 (ipykernel)",
   "language": "python",
   "name": "python3"
  },
  "language_info": {
   "codemirror_mode": {
    "name": "ipython",
    "version": 3
   },
   "file_extension": ".py",
   "mimetype": "text/x-python",
   "name": "python",
   "nbconvert_exporter": "python",
   "pygments_lexer": "ipython3",
   "version": "3.9.5"
  },
  "metadata": {
   "interpreter": {
    "hash": "a6570200391abd47b22bafa3ab36aba8327b6bca09374d4d4cb5f21cfca217ce"
   }
  }
 },
 "nbformat": 4,
 "nbformat_minor": 5
}
