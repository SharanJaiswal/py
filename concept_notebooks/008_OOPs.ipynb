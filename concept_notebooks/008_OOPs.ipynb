{
 "cells": [
  {
   "cell_type": "markdown",
   "id": "a4f1c1af",
   "metadata": {},
   "source": [
    "## Start of OOPs in Python"
   ]
  },
  {
   "cell_type": "code",
   "execution_count": null,
   "id": "c408c8b8",
   "metadata": {},
   "outputs": [],
   "source": [
    "# class Car(object):     IS LITERALLY SAME AS     class Car:\n",
    "# creating object of class by approach \" obj = Class(<arguments[s]) \" is same as \" with Class(<arguments[s]) as obj : \"     \n",
    "# Later gives liberty to be careless about obj scope. More about it in Context Managers Notebook."
   ]
  },
  {
   "cell_type": "code",
   "execution_count": null,
   "id": "b1960b08",
   "metadata": {},
   "outputs": [],
   "source": [
    "class Car:\n",
    "    pass\n",
    "\n",
    "# initialize an object\n",
    "car1 = Car()\n",
    "car1"
   ]
  },
  {
   "cell_type": "code",
   "execution_count": null,
   "id": "8e8baa5a",
   "metadata": {},
   "outputs": [],
   "source": [
    "car1.windows=5\n",
    "car1.doors=5"
   ]
  },
  {
   "cell_type": "code",
   "execution_count": null,
   "id": "4214963f",
   "metadata": {},
   "outputs": [],
   "source": [
    "car2 = Car()\n",
    "car2.windows=3\n",
    "car2.doors=2\n",
    "\n",
    "print(car2.windows)"
   ]
  },
  {
   "cell_type": "code",
   "execution_count": null,
   "id": "12aaf832",
   "metadata": {},
   "outputs": [],
   "source": [
    "car2.enginetype=\"petrol\"\n",
    "print(car2.enginetype)"
   ]
  },
  {
   "cell_type": "markdown",
   "id": "b7bda28a",
   "metadata": {},
   "source": [
    "so far we have seen that there is no limit on the number of attributes. It is a bad approach. To overcome this, there is \\_\\_init\\_\\_() in built function. It is initialization constructor, used to initialize the number of properties that should be initialized inside of that particular class."
   ]
  },
  {
   "cell_type": "markdown",
   "id": "3b38eca3",
   "metadata": {},
   "source": [
    "even if no 'Pass' is mentioned inside the class definition, instances can create its own attributes. These attributes is limited to that instance only, and is not created by default for any other instances. These attributes can be easily used in class defined functions, if that method's definitionhas mention of that attribute created, like \"self.\\<out_attr\\>\""
   ]
  },
  {
   "cell_type": "code",
   "execution_count": null,
   "id": "dcfe315a",
   "metadata": {},
   "outputs": [],
   "source": [
    "# prog to add two complex numbers using custom function\n",
    "\n",
    "class Complex:\n",
    "    # It is not necessary that __init__ should be placed before every class method. __init__ itself is optional\n",
    "    # It's just used to store the object's own variable during its instantiation, or to call some method during its instantiation. or some other instabtiation operation\n",
    "    # 'self' is just a conventional name accepted for first agrgument of every class method. We can use any other name also, \n",
    "    # but it should be be first argument, and hence should be unique in that methods only.\n",
    "    # Other class method can adopt same name for their first argument(self). But they may be different also.\n",
    "    # Even what has been used as object identifier in one method, maynot be used in other. Or, maybe that name can be used for the other arguments other than self.\n",
    "    # Hence, every method will have its own identifier for object and other parameter references, and is scoped till that method only\n",
    "    def __init__(self, real, img):\n",
    "        self.real=real\n",
    "        self.img=img\n",
    "        \n",
    "    def add(self, number):\n",
    "        real=self.real+number.real\n",
    "        img=self.img+number.img\n",
    "        result=Complex(real, img)\n",
    "        return result\n",
    "    \n",
    "n1=Complex(4,5)\n",
    "n2=Complex(3,2)\n",
    "\n",
    "result=n1.add(n2)\n",
    "print(result.real, result.img)"
   ]
  },
  {
   "cell_type": "code",
   "execution_count": null,
   "id": "7145a57b",
   "metadata": {
    "scrolled": false
   },
   "outputs": [],
   "source": [
    "dir(car1)"
   ]
  },
  {
   "cell_type": "code",
   "execution_count": null,
   "id": "4bfa23d6",
   "metadata": {},
   "outputs": [],
   "source": [
    "class Samp():\n",
    "    def __init__(self, atr1, atr2, atr3):\n",
    "        self.atr1=atr1\n",
    "        self._atr2=atr2\n",
    "        self.__atr3=atr3"
   ]
  },
  {
   "cell_type": "code",
   "execution_count": null,
   "id": "3c8bf2d1",
   "metadata": {},
   "outputs": [],
   "source": [
    "obj1=Samp(2,3,6)"
   ]
  },
  {
   "cell_type": "code",
   "execution_count": null,
   "id": "335d4d5b",
   "metadata": {},
   "outputs": [],
   "source": [
    "dir(obj1)"
   ]
  },
  {
   "cell_type": "code",
   "execution_count": null,
   "id": "6ebdf475",
   "metadata": {},
   "outputs": [],
   "source": [
    "class Caar:\n",
    "    def __init__(self, window, door, enginetype):\n",
    "        # creating/initializing attributes/variables(windows, doors, enginetypes) inside this class.\n",
    "        # append no more than single underscore. Prepend no more than double underscores.\n",
    "        self.windows=window    # no underscore : public access specifier\n",
    "        self._doors=door    # 1 underscore : protected access specifier can be accessed from their class as well as from the derived class\n",
    "        self.__enginetypes=enginetype    # 2 underscores : private access specifier can only be accessed from their class\n",
    "        \n",
    "    def self_driving(self):\n",
    "        return \"This is a {} engine car\".format(self.__enginetypes)"
   ]
  },
  {
   "cell_type": "code",
   "execution_count": null,
   "id": "e45626c1",
   "metadata": {},
   "outputs": [],
   "source": [
    "caar1=Caar(4, 5, \"petrol\")\n",
    "# as soon as Caar is called, by defalult __init__() constructor is called, and it initializes the variables/attribute. The value of them is taken from the object creation"
   ]
  },
  {
   "cell_type": "markdown",
   "id": "aa408632",
   "metadata": {},
   "source": [
    "the self is referencing the object, and for that object all the variables/attributs are created"
   ]
  },
  {
   "cell_type": "code",
   "execution_count": null,
   "id": "a6ed715c",
   "metadata": {},
   "outputs": [],
   "source": [
    "caar2=Caar(3,4,\"diesel\")"
   ]
  },
  {
   "cell_type": "code",
   "execution_count": null,
   "id": "563f7fc5",
   "metadata": {},
   "outputs": [],
   "source": [
    "print(caar1.windows)\n",
    "print(caar2._doors)\n",
    "print(caar2._Caar__enginetypes)"
   ]
  },
  {
   "cell_type": "code",
   "execution_count": null,
   "id": "3cec6007",
   "metadata": {},
   "outputs": [],
   "source": [
    "caar1.self_driving()"
   ]
  },
  {
   "cell_type": "markdown",
   "id": "9461dcd6",
   "metadata": {},
   "source": [
    "# INHERITANCE"
   ]
  },
  {
   "cell_type": "code",
   "execution_count": null,
   "id": "51a6d7b9",
   "metadata": {},
   "outputs": [],
   "source": [
    "class Caaar:\n",
    "    def __init__(self, window, door, enginetype):   # Deep-shit: this __init__ overrides the parent class __init__, and if this __init__ is not present\n",
    "                                                    # then base class __init__ would definately have been executed with argument constraint of base __init__\n",
    "        self.windows=window\n",
    "        self.doors=door\n",
    "        self.enginetypes=enginetype\n",
    "        \n",
    "    def drives(self):\n",
    "        print(\"The person drives the car\")"
   ]
  },
  {
   "cell_type": "markdown",
   "id": "4c92af15",
   "metadata": {},
   "source": [
    "#### making child class"
   ]
  },
  {
   "cell_type": "code",
   "execution_count": null,
   "id": "5d8367ce",
   "metadata": {
    "scrolled": true
   },
   "outputs": [],
   "source": [
    "class audi(Caaar):\n",
    "    def __init__(self, windows, doors, enginetypes, enableai):\n",
    "        # It is not necessary that parent class constructor should be called first\n",
    "        super().__init__(windows, doors, enginetypes)   # instead of 'super()', one can use the name of the parent class. e.g., Caaar.__init__(sel.......\n",
    "# parent class __init__ can also be be called anytime, anyplace as in methods that are other than child __init__, \n",
    "# and can be used to change the base class object value if it __init__ is again called with another set of parameters\n",
    "        self.enableai=enableai\n",
    "# Some or all of the incoming arguments can be commonly shared between both parent and derived class. \n",
    "# Although, they will have their own copies of the attributes, with the same value(s)\n",
    "    def selfdriving(self):\n",
    "        print(\"Audi supports self-driving\")"
   ]
  },
  {
   "cell_type": "code",
   "execution_count": null,
   "id": "4d4035f8",
   "metadata": {},
   "outputs": [],
   "source": [
    "audiQ7=audi(5,5,\"diesel\", True)\n",
    "print(audiQ7.windows, audiQ7.doors, audiQ7.enginetypes)"
   ]
  },
  {
   "cell_type": "code",
   "execution_count": null,
   "id": "a078d6d4",
   "metadata": {
    "scrolled": false
   },
   "outputs": [],
   "source": [
    "dir(audiQ7)"
   ]
  },
  {
   "cell_type": "markdown",
   "id": "3b0642a3",
   "metadata": {},
   "source": [
    "## Multiple Inheritance Order\n",
    "The hierarchial order of classes into which the python looks for the demanded method or attribute. First it looks in the current class, then its parent(s), then their/its parent(S and so on..."
   ]
  },
  {
   "cell_type": "code",
   "execution_count": null,
   "id": "548d7dcb",
   "metadata": {},
   "outputs": [],
   "source": [
    "class Employee:\n",
    "    raise_amt = 1.10\n",
    "\n",
    "    def __init__(self, name, pay):\n",
    "        self.name = name\n",
    "        self.pay = pay\n",
    "\n",
    "    def apply_raise(self):\n",
    "        self.pay = self.pay * self.raise_amt\n",
    "\n",
    "class Developer1(Employee):\n",
    "    pass\n",
    "\n",
    "print(help(Developer1))"
   ]
  },
  {
   "cell_type": "code",
   "execution_count": null,
   "id": "0ca5dbee",
   "metadata": {},
   "outputs": [],
   "source": [
    "obj = Developer1('shady', 1000)    # Pyhton will look for the __init__ method in the Developer class. Then if not found, it will look for it in its parent class Employee...\n",
    "print(obj.name, obj.pay)\n",
    "obj.apply_raise()\n",
    "print(obj.pay)  # raise increase as per the \"times\" inceament set in the parent class\n",
    "\n",
    "class Developer2(Employee):\n",
    "    raise_amt = 0.9 # this attribute will be overrided by the parent's class raise_amt attr, in case this class's object needs the raise_amt attribute value.\n",
    "\n",
    "print('****')\n",
    "\n",
    "obj_new1 = Employee('Chandrachoor', 1000)\n",
    "print(obj_new1.pay)\n",
    "obj_new1.apply_raise()\n",
    "print(obj_new1.pay)\n",
    "\n",
    "print('****')\n",
    "\n",
    "obj_new2 = Developer2('Chandramohan', 1000)\n",
    "print(obj_new2.pay)\n",
    "obj_new2.apply_raise()\n",
    "print(obj_new2.pay)\n"
   ]
  },
  {
   "cell_type": "markdown",
   "id": "51a452e7",
   "metadata": {},
   "source": [
    "## MULTIPLE INHERITANCE"
   ]
  },
  {
   "cell_type": "code",
   "execution_count": null,
   "id": "2823203a",
   "metadata": {},
   "outputs": [],
   "source": [
    "class A:\n",
    "    def method1(self):\n",
    "        print(\"A class method is called here.\")\n",
    "    \n",
    "    def meth_a(self):\n",
    "        print(\"this is met A!\")"
   ]
  },
  {
   "cell_type": "code",
   "execution_count": null,
   "id": "cec5ee91",
   "metadata": {},
   "outputs": [],
   "source": [
    "class B(A):\n",
    "    def method1(self):\n",
    "        print(\"B class method is called here.\")\n",
    "    \n",
    "    def meth_b(self):\n",
    "        print(\"this is met B!\")"
   ]
  },
  {
   "cell_type": "code",
   "execution_count": null,
   "id": "31968170",
   "metadata": {},
   "outputs": [],
   "source": [
    "class C(A):\n",
    "    def method1(self):\n",
    "        print(\"C class method is called here.\")\n",
    "    \n",
    "    def meth_c(self):\n",
    "        print(\"this is met C!\")"
   ]
  },
  {
   "cell_type": "code",
   "execution_count": null,
   "id": "0430f1b0",
   "metadata": {},
   "outputs": [],
   "source": [
    "class D(B,C):\n",
    "    def method1(self):\n",
    "        print(\"D class method is called here.\")\n",
    "    \n",
    "    def meth_d(self):\n",
    "        print(\"this is met D!\")"
   ]
  },
  {
   "cell_type": "markdown",
   "id": "480ad3ae",
   "metadata": {},
   "source": [
    "**Making instance of class D**"
   ]
  },
  {
   "cell_type": "code",
   "execution_count": null,
   "id": "ca8ef093",
   "metadata": {},
   "outputs": [],
   "source": [
    "d=D()"
   ]
  },
  {
   "cell_type": "code",
   "execution_count": null,
   "id": "c79acc93",
   "metadata": {},
   "outputs": [],
   "source": [
    "d.meth_d()"
   ]
  },
  {
   "cell_type": "code",
   "execution_count": null,
   "id": "420ee0ed",
   "metadata": {},
   "outputs": [],
   "source": [
    "d.method1()"
   ]
  },
  {
   "cell_type": "code",
   "execution_count": null,
   "id": "52d6c0c4",
   "metadata": {},
   "outputs": [],
   "source": [
    "# calling method1 of parent class with the instance of child class. (two methods)\n",
    "B.method1(d)    # M1\n",
    "B.meth_b(d)    # M1\n",
    "\n",
    "d.meth_b()    # M2\n",
    "d.meth_a()"
   ]
  },
  {
   "cell_type": "code",
   "execution_count": null,
   "id": "f6e7c6ce",
   "metadata": {},
   "outputs": [],
   "source": [
    "C.method1(d)\n",
    "C.meth_c(d)"
   ]
  },
  {
   "cell_type": "code",
   "execution_count": null,
   "id": "9a196207",
   "metadata": {
    "scrolled": true
   },
   "outputs": [],
   "source": [
    "# since A is parent of parent of D, so relevant attributes of A will also be inherited to D\n",
    "A.method1(d)\n",
    "A.meth_a(d)"
   ]
  },
  {
   "cell_type": "markdown",
   "id": "e0833725",
   "metadata": {},
   "source": [
    "###### Calling methods from the parent class as soon as class method is called"
   ]
  },
  {
   "cell_type": "code",
   "execution_count": null,
   "id": "29559033",
   "metadata": {},
   "outputs": [],
   "source": [
    "class E(D):\n",
    "    def method1(self):\n",
    "        print(\"E class method is called here.\")\n",
    "        A.method1(self)    # calling parent class method using class. requires self keyword\n",
    "        B.method1(self)\n",
    "        C.method1(self)\n",
    "        D.method1(self)\n",
    "        # super() return temporary object of the super class of the subclass. Simply, its like an object of an parent class. \n",
    "        # Hence we dont provide self as parameter to the parent method call\n",
    "        super().method1()    # this doesn't need self keyword, and is orthodox method to call parent class method\n",
    "        # super().super().method1()  # bakaiti nahi chalta idhar"
   ]
  },
  {
   "cell_type": "code",
   "execution_count": null,
   "id": "d3f7f086",
   "metadata": {},
   "outputs": [],
   "source": [
    "e=E()"
   ]
  },
  {
   "cell_type": "code",
   "execution_count": null,
   "id": "81ca70ee",
   "metadata": {
    "scrolled": true
   },
   "outputs": [],
   "source": [
    "e.method1()"
   ]
  },
  {
   "cell_type": "code",
   "execution_count": null,
   "id": "b6b17112",
   "metadata": {},
   "outputs": [],
   "source": [
    "class baseclass:\n",
    "    def __init__(self, somearg):\n",
    "        print(f'Parent|Base class __init_ has benn called. {somearg}')\n",
    "\n",
    "class derived1(baseclass):\n",
    "    pass    # since the derived class doesn't have __init__ method, hence parent class __init__ is being executed as per parent __init__ defination.\n",
    "# any instantiation that is being defined in base class __init__, and unless base class __init__ is not executed in child class, \n",
    "# ... then the attributes from parent is not derived in child class,\n",
    "#  ie, unless calling __init__ of parent directly or indirectly, the base class attributes that are defined in base __init__, will not be derived in the child class.\n",
    "\n",
    "samp_obj = derived1('dhinchak')"
   ]
  },
  {
   "cell_type": "markdown",
   "id": "3b5bc1bf",
   "metadata": {},
   "source": [
    "### Python MRO : Method Resolution Order"
   ]
  },
  {
   "cell_type": "code",
   "execution_count": null,
   "id": "8b8fa984",
   "metadata": {},
   "outputs": [],
   "source": [
    "class State:\n",
    "    def __init__(self):\n",
    "        print(\"INIT of STATE Class\")\n",
    "\n",
    "class Event:\n",
    "    def __init__(self):\n",
    "        print(\"INITof EVENT Class\")\n",
    "class Third:\n",
    "    def __init__(self):\n",
    "        print(\"INIT of Third CLass\")\n",
    "\n",
    "class HappyEvent(State, Event, Third):\n",
    "    def __init__(self):\n",
    "        print(\"INIT of HappyEvent Class\")\n",
    "        super().__init__()  # this calls __init__() of State Class, NOT Event Class. Alwyas call the first in the line of the parent class\n",
    "        super().__init__()  # ...even if we call again and again the Super().__init__() of the super class.\n",
    "        # anotehr way to call init of different parent class in the derived class. REMEMBER, this requires the object to call the method. HERE it is SELF\n",
    "        State.__init__(self)\n",
    "        Event.__init__(self)\n",
    "        Third.__init__(self)\n",
    "\n",
    "        # Preffered way to call any method of the parent class\n",
    "        super().__init__()  # super(HappyEvent, self).__init__()\n",
    "        super(State, self).__init__()   # observe that, in order to call the method of parent class other than first in the line, use parent class just before it\n",
    "        super(Event,self).__init__()\n",
    "# this method can be used to call any method of parent classES in case of multiple inheritance, in case the function name is aslo same in both the parent classes\n",
    "\n",
    "\n",
    "he1=HappyEvent()"
   ]
  },
  {
   "cell_type": "code",
   "execution_count": null,
   "id": "176ccfd7",
   "metadata": {},
   "outputs": [],
   "source": [
    "# To call all __init__ method of the parent|Base classes, include super().__init__() line in every Base Classes.\n",
    "# Toggle by commenting one-by-one every line super().__init__() in base classes, to see the effect of which __init__ gets called\n",
    "\n",
    "class State:\n",
    "    def __init__(self):\n",
    "        print(\"INIT of STATE Class\")\n",
    "        super().__init__()\n",
    "\n",
    "class Event1:\n",
    "    def __init__(self):\n",
    "        print(\"INIT of EVENT1 Class\")\n",
    "        super().__init__()\n",
    "\n",
    "class Event2:\n",
    "    def __init__(self):\n",
    "        print(\"INIT of EVENT2 Class\")\n",
    "        super().__init__()\n",
    "\n",
    "class Third(Event1, Event2):\n",
    "    def __init__(self):\n",
    "        print(\"INIT of THIRD Class\")\n",
    "        super().__init__()\n",
    "\n",
    "class HappyEvent(State, Third):\n",
    "    def __init__(self):\n",
    "        print(\"INIT of HappyEvent Class\")\n",
    "        super().__init__()  # on calling the __init__ of super(), all base calsses where super().__init__() is mentioned, will be called\n",
    "\n",
    "\n",
    "he1=HappyEvent()"
   ]
  },
  {
   "cell_type": "code",
   "execution_count": null,
   "id": "08c7c236",
   "metadata": {},
   "outputs": [],
   "source": [
    "# Passing parameters to the base classes from a single multiple inherited cl=hild class\n",
    "\n",
    "class First:                                                        #   class First():\n",
    "    def __init__(self, first, **kwargs):                            #       def __init__(self, first):\n",
    "        print(\"INIT of First Class...!!!\")                          #           print(\"...\")\n",
    "        super().__init__(**kwargs)                                  #           super.__init()\n",
    "        self.first=first                                            #           self.first = first\n",
    "\n",
    "class Second:                                                       #   class Second():\n",
    "    def __init__(self, second, **kwargs):                           #       def __init__(self, second):\n",
    "        print(\"INIT of Second Class...!!!\")                         #           print(\"...\")\n",
    "        super().__init__(**kwargs)                                  #           super().__init__()\n",
    "        self.second=second                                          #           self.second = second\n",
    "\n",
    "class Third:                                                        #   class Third():\n",
    "    def __init__(self, third, **kwargs):                            #       def __init__(self, third):\n",
    "        print(\"INIT of Third Class...!!!\")                          #           print(\"...\")\n",
    "        super().__init__(**kwargs)                                  #           super().__init__()\n",
    "        self.third=third                                            #           self.third = third\n",
    "\n",
    "\n",
    "class Combined(First, Second):                                      #   class Combined(First, Second):\n",
    "    def __init__(self, f, s):                                       #       def __init__(self, first, second):\n",
    "        super().__init__(first=f, second=s)                         #           super().__init(first,second)\n",
    "# changing the order of base class in-line mention wont affect      # this will create error as we are passing 2 parameters, but none of Base __init__ take >1\n",
    "# ... that 'first' param will land up in First class, & so on\n",
    "\n",
    "\n",
    "c=Combined('First', 'Second')\n",
    "print(c.first, c.second)"
   ]
  },
  {
   "cell_type": "markdown",
   "id": "943c6277",
   "metadata": {},
   "source": [
    "## super() class-method"
   ]
  },
  {
   "cell_type": "code",
   "execution_count": null,
   "id": "54630f6f",
   "metadata": {},
   "outputs": [],
   "source": [
    "# here we are having Base class init method is being called twice. But we do not want this to happen. Hence we'll use super() to call parent __init__\n",
    "# But why child2 is getting printed before child1. Here comes the method resolution order\n",
    "class Base:\n",
    "    def __init__(self):\n",
    "        print('Base.__init__')\n",
    "\n",
    "class Child1(Base):\n",
    "    def __init__(self):\n",
    "        # Base.__init__(self)\n",
    "        super().__init__()\n",
    "        print('Child1.__init__')\n",
    "\n",
    "class Child2(Base):\n",
    "    def __init__(self):\n",
    "        # Base.__init__(self)\n",
    "        super().__init__()\n",
    "        print('Child2.__init__')\n",
    "\n",
    "class GrandChilld(Child1, Child2):\n",
    "    def __init__(self):\n",
    "        # Child1.__init__(self)\n",
    "        # Child2.__init__(self)\n",
    "        super().__init__()\n",
    "        print('GrandChild.__init__')\n",
    "\n",
    "\n",
    "gc = GrandChilld()"
   ]
  },
  {
   "cell_type": "code",
   "execution_count": null,
   "id": "339156fc",
   "metadata": {},
   "outputs": [],
   "source": [
    "# For every class we define, there is a method resolution order that python computes, using C3 LINEARIZATION (merge sort of the MROs from the parent classes).\n",
    "# Its is subject to 3 constraints :\n",
    "#   1. child class gets checked before parent \n",
    "#   2. multiple parents gets checked in the order listed\n",
    "#   3. If there are 2 valid choices for the next class, the one from the first parent is chosen\n",
    "# When python sees super, it continues its search starting with the next class on the MRO as long as every redefined method consistently uses super and only calls\n",
    "# calls it once the entire MRO list will be worked through and each method will only be called once. Hence \"BASE CLASS\" is only called once.\n",
    "\n",
    "# Base is followed by child2, then child1, because in MRO list, leftmost is called at last and viceversa.\n",
    "print(GrandChilld.__mro__)\n",
    "\n",
    "\n",
    "# MY UNDERSTANDING:\n",
    "# If python has to choose among the sibling and parent, during calling the similar name method using super(), python chooses sibling first(L->R), then parent"
   ]
  },
  {
   "cell_type": "markdown",
   "id": "e24034d2",
   "metadata": {},
   "source": [
    "## OOPs magic methods in Class\n",
    "Some magic happens in the background that helps to create the class's object."
   ]
  },
  {
   "cell_type": "code",
   "execution_count": null,
   "id": "c8023901",
   "metadata": {},
   "outputs": [],
   "source": [
    "c=Caaar(4,5,\"diesel\")"
   ]
  },
  {
   "cell_type": "code",
   "execution_count": null,
   "id": "8028f339",
   "metadata": {},
   "outputs": [],
   "source": [
    "c"
   ]
  },
  {
   "cell_type": "code",
   "execution_count": null,
   "id": "3fdb55a9",
   "metadata": {
    "scrolled": false
   },
   "outputs": [],
   "source": [
    "dir(c)    # all the double underscore enclodes methods listed below are called magic methods"
   ]
  },
  {
   "cell_type": "code",
   "execution_count": null,
   "id": "102311e9",
   "metadata": {},
   "outputs": [],
   "source": [
    "class Caaar:\n",
    "    def __init__(self, window, door, enginetype):\n",
    "        self.windows=window\n",
    "        self.doors=door\n",
    "        self.enginetypes=enginetype\n",
    "        \n",
    "    def drives(self):\n",
    "        print(\"The person drives the car\")\n",
    "    \n",
    "    def __str__(self):\n",
    "        return \"The object has been initialized\""
   ]
  },
  {
   "cell_type": "code",
   "execution_count": null,
   "id": "50023459",
   "metadata": {},
   "outputs": [],
   "source": [
    "c=Caaar(4, 5, \"Diesel\")"
   ]
  },
  {
   "cell_type": "markdown",
   "id": "063b8587",
   "metadata": {},
   "source": [
    "We can override magic methods. print(\\<objects\\>) calls \\_\\_str()\\_\\_. Here we'll override it, with our custom function definition."
   ]
  },
  {
   "cell_type": "code",
   "execution_count": null,
   "id": "da69ed41",
   "metadata": {},
   "outputs": [],
   "source": [
    "# Default representation of __str__ calls __repr__ internally. Hence, if __str__ is redefined, the it will no longer look for __repr__\n",
    "# If only __repr__ is redefined, __str__ will call the redefined __repr__\n",
    "# __str__ and __repr__ can be called as str(obj), print(obj), '{}'.format(obj) .... and repr(obj) respectively"
   ]
  },
  {
   "cell_type": "code",
   "execution_count": null,
   "id": "68b0b37d",
   "metadata": {},
   "outputs": [],
   "source": [
    "print(c)\n",
    "print(c.__str__(), str(c))\n",
    "print(f'{c}')\n",
    "print(c.__repr__(), repr(c))"
   ]
  },
  {
   "cell_type": "code",
   "execution_count": null,
   "id": "bb0e895d",
   "metadata": {},
   "outputs": [],
   "source": [
    "c\n",
    "# it'll be the same as it was giving in print(c). But now we've overridden __str__() which is called by print(<obj>)"
   ]
  },
  {
   "cell_type": "code",
   "execution_count": null,
   "id": "ba0f2094",
   "metadata": {},
   "outputs": [],
   "source": [
    "c.__sizeof__()"
   ]
  },
  {
   "cell_type": "code",
   "execution_count": null,
   "id": "d7bab8c8",
   "metadata": {},
   "outputs": [],
   "source": [
    "# def how_objects_construction_works():\n",
    "#     x=A(1,2,3,x=4)\n",
    "\n",
    "#     x=A.__new__(A, *args **kwargs)\n",
    "#     if isinstance(x, A):\n",
    "#         type(x).__init__(x, *args, **kwargs)\n",
    "\n",
    "class Caaar:\n",
    "    def __new__(cls, window, door, enginetype):\n",
    "        print(\"New is being called even before init. It is called during class\\'s object creation\")\n",
    "        return super().__new__(cls) # __init__ will only be called if object of the same cls type is being returned by __new__\n",
    "        # else we would have left with wrong type of uninitialized object. Toggle commenting return statement in __new__ method to see effect\n",
    "        \n",
    "    def __init__(self, window, door, enginetype):   # it is only be called after __new__ if the returned object type of __new__ is saem as of cls type\n",
    "        print('init is called here')\n",
    "        self.windows=window\n",
    "        self.doors=door\n",
    "        self.enginetypes=enginetype\n",
    "        \n",
    "    def drives(self):\n",
    "        print(\"The person drives the car\", self.windows, self.doors, self.enginetypes)\n",
    "    \n",
    "    def __str__(self):  # can be here __repr__ also\n",
    "        print(\"The object has been initialized.\", self.windows)\n",
    "\n",
    "\n",
    "c=Caaar(6, 7, \"Petrollllll\")\n",
    "print(c.windows)\n",
    "c.drives()"
   ]
  },
  {
   "cell_type": "code",
   "execution_count": null,
   "id": "5e4084c8",
   "metadata": {},
   "outputs": [],
   "source": [
    "# ANOTHER EXAMPLE\n",
    "class UppercaseTuple(tuple):\n",
    "    def __new__(cls, iterable):\n",
    "        upper_iterable = (_.upper() for _ in iterable)\n",
    "        return super().__new__(cls, upper_iterable)\n",
    "\n",
    "def inheriting_immutable_uppercase_tuplr_example():\n",
    "    print(UppercaseTuple([\"hi\", \"there\"]))\n",
    "\n",
    "def main():\n",
    "    inheriting_immutable_uppercase_tuplr_example()\n",
    "\n",
    "if __name__ == '__main__':\n",
    "    # global space\n",
    "    main()"
   ]
  },
  {
   "cell_type": "code",
   "execution_count": null,
   "id": "d06cd310",
   "metadata": {},
   "outputs": [],
   "source": [
    "# SINGLETON DESIGN PATTERN\n",
    "\n",
    "class Singleton:    # eg global config object\n",
    "    _instance = None\n",
    "\n",
    "    def __new__(cls, *args, **kwargs):\n",
    "        if cls._instance is None:\n",
    "            cls._instance = super().__new__(cls, *args, **kwargs)\n",
    "        return cls._instance\n",
    "\n",
    "\n",
    "def singleton_example():\n",
    "    print(\"SINGLETON EXAMPLE\")\n",
    "    x = Singleton()\n",
    "    y = Singleton()\n",
    "    print(f'{x is y =}')\n",
    "\n",
    "\n",
    "def main():\n",
    "    singleton_example()\n",
    "\n",
    "\n",
    "if __name__ == '__main__':\n",
    "    main()"
   ]
  },
  {
   "cell_type": "code",
   "execution_count": null,
   "id": "e27e6245",
   "metadata": {},
   "outputs": [],
   "source": [
    "# SINGLETON ON STEROIDS!!!\n",
    "# Imagine that we want an object that is inevitably expensive to create and|or initialize, eg, going to DB to read the results of some query, or reading from file\n",
    "# You surely dont want to create the new instance if you have already one object created in the memory\n",
    "\n",
    "class Client:\n",
    "    _loaded = {}    # keeps track of which client has been loaded from the database\n",
    "    _db_file = \"file.db\"\n",
    "\n",
    "    def __new__(cls, client_id):\n",
    "        if (client := cls._loaded.get(client_id)) is not None: # when asked to create the new object, check if the connection has already been made with same client ID\n",
    "            print(f'returning existing client {client_id} from cache')\n",
    "            return client\n",
    "        \n",
    "        client = super().__new__(cls)\n",
    "        cls._loaded[client_id] = client\n",
    "        client._init_from_file(client_id, cls._db_file) # function call to make the connection in the database\n",
    "        return client\n",
    "    \n",
    "    def _init_from_file(self, client_id, file): # function definition to make the connection in the database\n",
    "        # lookup client in file and read properties\n",
    "        print(f'reading client {client_id} data from file, db, etc.')\n",
    "        name = ...\n",
    "        email = ...\n",
    "        self.name = name\n",
    "        self.email = email\n",
    "        self.id = client_id\n",
    "    \n",
    "\n",
    "def cached_client_example():\n",
    "    print(\"CLIENT CACHE EXPLAIND\")\n",
    "    x = Client(0)\n",
    "    y = Client(0)\n",
    "    print(f'{x is y=}')\n",
    "    z = Client(1)\n",
    "\n",
    "if __name__ == '__main__':\n",
    "    cached_client_example()"
   ]
  },
  {
   "cell_type": "code",
   "execution_count": null,
   "id": "f64b13af",
   "metadata": {},
   "outputs": [],
   "source": [
    "# SINGLETON ON VIAGRA\n",
    "import itertools\n",
    "\n",
    "\n",
    "class EncryptedFile:    # DO NOT USE ANY OF THESE FOR REAL ENCRYPTION\n",
    "    _registry = {}  # rot13 -> ROT13Text # using this dictionary to map encryption type to their actual encryption class\n",
    "\n",
    "    def __init_subclass__(cls, prefix, **kwargs):   # https://www.demo2s.com/python/python-init-subclass-method.html\n",
    "        super().__init_subclass__(**kwargs)\n",
    "        cls._registry[prefix] = cls\n",
    "    \n",
    "    def __new__(cls, path: str, key=None):\n",
    "        prefix, sep, suffix = path.partition(':///')\n",
    "        if sep:\n",
    "            file = suffix\n",
    "        else:\n",
    "            file = prefix\n",
    "            prefix = \"file\"\n",
    "        subclass = cls._registry[prefix]\n",
    "        obj = object.__new__(subclass)\n",
    "        obj.file = file\n",
    "        obj.key = key\n",
    "        return obj\n",
    "\n",
    "class Plaintext(EncryptedFile, prefix = 'file'):\n",
    "    def read(self):\n",
    "        with open(self.file, 'r') as f:\n",
    "            return f.read()\n",
    "\n",
    "class ROT13Text(EncryptedFile, prefix='rot13'):\n",
    "    def read(self):\n",
    "        with open(self.file, 'r') as f:\n",
    "            text = f.read()\n",
    "        return codecs.decode(text, 'rot_13')\n",
    "\n",
    "class OneTimePadXorText(EncryptedFile, prefix='otp'):\n",
    "    def __init__(self, path, key):\n",
    "        if isinstance(self.key, str):\n",
    "            self.key = self.key.encode()\n",
    "    \n",
    "    def xor_bytes_with_keys(self, b: bytes) -> bytes:\n",
    "        return bytes(b1 ^ b2 for b1, b2 in zip(b, itertools.cycle(self.key)))\n",
    "    \n",
    "    def read(self):\n",
    "        with open(self.file, 'rb') as f:\n",
    "            btext = f.read()\n",
    "        text = self.xor_bytes_with_keys(btext).decode()\n",
    "        return text\n",
    "\n",
    "def encrypted_file_example():\n",
    "    print(\"ENCRYPTED FILE EXAMPLE\")\n",
    "    print(EncryptedFile('plaintext_hello.txt').read())\n",
    "    print(EncryptedFile('rot13:///rot13_hello.txt').read())\n",
    "    print(EncryptedFile('otp:///otp_hello.txt', key='1234').read())\n",
    "\n",
    "def main():\n",
    "    encrypted_file_example()\n",
    "\n",
    "if __name__ == '__main__':\n",
    "    main()"
   ]
  },
  {
   "cell_type": "code",
   "execution_count": null,
   "id": "05c60507",
   "metadata": {},
   "outputs": [],
   "source": [
    "class P:\n",
    "    some_var = []   # class variable. Subclass will also have this variable as its class variable. Any changes made to it inside subclass is reflected everywhere\n",
    "    str_var = 'nimba'\n",
    "    def __init__(self):\n",
    "        print('grand class')\n",
    "\n",
    "class Q(P):\n",
    "    def __init__(self):\n",
    "        print('middle')\n",
    "        print(object.__new__(R))    # make oobject of any class using super() method over builtin object class\n",
    "        self.some_var.append('a')\n",
    "\n",
    "class Z(P):\n",
    "    def __init__(self):\n",
    "        print('this is another child of class P')\n",
    "\n",
    "class R(Q):\n",
    "    def __init__(self):\n",
    "        print('younger')\n",
    "\n",
    "p = P()\n",
    "print(p.some_var)\n",
    "q = Q()\n",
    "print(p.some_var, q.some_var)\n",
    "r = R()\n",
    "print(p.some_var, q.some_var, r.some_var)\n",
    "p2 = P()\n",
    "print(p.some_var, q.some_var, r.some_var, p2.some_var)\n",
    "q2 = Q()\n",
    "print(p.some_var, q.some_var, r.some_var, p2.some_var, q2.some_var)\n",
    "r2 = R()\n",
    "print(p.some_var, q.some_var, r.some_var, p2.some_var, q2.some_var, r2.some_var)\n",
    "p3 = P()\n",
    "p3.some_var[0] = 'b'\n",
    "P.some_var[1] = 'c'\n",
    "print(p.some_var, q.some_var, r.some_var, p2.some_var, q2.some_var, r2.some_var, p3.some_var)\n",
    "q3 = Q()\n",
    "q3.some_var[0] = 'd'\n",
    "Q.some_var[1] = 'e'\n",
    "print(p.some_var, q.some_var, r.some_var, p2.some_var, q2.some_var, r2.some_var, p3.some_var, q3.some_var)\n",
    "r3 = R()\n",
    "r3.some_var[0] = 'f'\n",
    "R.some_var[1] = 'g'\n",
    "print(p.some_var, q.some_var, r.some_var, p2.some_var, q2.some_var, r2.some_var, p3.some_var, q3.some_var, r3.some_var)\n",
    "\n",
    "print(\"*\"*20, \"\\n\")\n",
    "\n",
    "\n",
    "z=Z()\n",
    "print(z.some_var)\n",
    "z.some_var[0] = 'zz'\n",
    "\n",
    "print(p.str_var, q.str_var, r.str_var, p2.str_var, q2.str_var, r2.str_var, p3.str_var, q3.str_var, r3.str_var)\n",
    "\n",
    "z.str_var = 'dibba'\n",
    "\n",
    "print(z.str_var, p.str_var, q.str_var, r.str_var, p2.str_var, q2.str_var, r2.str_var, p3.str_var, q3.str_var, r3.str_var)\n",
    "print(z.some_var, p.some_var, q.some_var, r.some_var, p2.some_var, q2.some_var, r2.some_var, p3.some_var, q3.some_var, r3.some_var)"
   ]
  },
  {
   "cell_type": "code",
   "execution_count": null,
   "id": "e737be1a",
   "metadata": {},
   "outputs": [],
   "source": [
    "class A:\n",
    "    list_var = [1]\n",
    "    str_var = 'a'\n",
    "\n",
    "class B(A):\n",
    "    pass\n",
    "\n",
    "print(A.list_var, A.str_var, B.list_var, B.str_var, \"\\n\")\n",
    "\n",
    "a_obj = A()\n",
    "b_obj = B()\n",
    "\n",
    "print(a_obj.list_var, a_obj.str_var, b_obj.list_var, b_obj.str_var) # similar values observerd when accessed using A.list_var, etc.\n",
    "\n",
    "b_obj.list_var.append(2)    # this change can be seen everywhere\n",
    "b_obj.str_var = b_obj.str_var + 'b' # this change can only be seen with this instance, NOT at anywhere else.\n",
    "\n",
    "# proof\n",
    "print(\"\\n\", A.list_var, A.str_var, B.list_var, B.str_var)\n",
    "print(a_obj.list_var, a_obj.str_var, b_obj.list_var, b_obj.str_var)"
   ]
  },
  {
   "cell_type": "markdown",
   "id": "11ce1796",
   "metadata": {},
   "source": [
    "## Class methods and Class Variables"
   ]
  },
  {
   "cell_type": "code",
   "execution_count": null,
   "id": "2677187e",
   "metadata": {},
   "outputs": [],
   "source": [
    "# Instance Methods can modify instance state and class state as well. They work on specific instance object of the class, not any other instance of the class.\n",
    "# classmethods can modify only class state, but not instance state\n",
    "# static neither modify class nor instance state, as they dontr have access to it\n",
    "# Although static anc class methods can be called with using class as well as instances, but only prescribed should be practised.\n",
    "# class methods should only be called with class. eg., Class.method(...) OR type(obj).method(...) OR cls.method( ... )\n",
    "# instance methods ARE ONLY CALLED by using objects, because they take first parameter as class instance object. obj.method(...) OR Class..method(obj, ... )"
   ]
  },
  {
   "cell_type": "code",
   "execution_count": null,
   "id": "fa740f9d",
   "metadata": {},
   "outputs": [],
   "source": [
    "class Bike:\n",
    "    base_price = 100000     # class var. Any obj of this class will have common base price at any instance.\n",
    "                            # Value may vary at different time, but for every obj, value will be same.\n",
    "    \n",
    "    def __init__(self, window, door, power):\n",
    "        self.windows = window\n",
    "        self.doors = door\n",
    "        self.power = power\n",
    "        \n",
    "    def what_base_price(self):\n",
    "        print(\"The base price : {}\".format(self.base_price))\n",
    "        \n",
    "    @classmethod    # decorator\n",
    "    def revise_base_price(cls, inflation):\n",
    "        cls.base_price = cls.base_price + cls.base_price * inflation"
   ]
  },
  {
   "cell_type": "markdown",
   "id": "0425b410",
   "metadata": {},
   "source": [
    "**ways to access base price:**"
   ]
  },
  {
   "cell_type": "code",
   "execution_count": null,
   "id": "958868b7",
   "metadata": {},
   "outputs": [],
   "source": [
    "bike1 = Bike(4, 5, 2000)\n",
    "print(bike1.base_price)    # M1\n",
    "bike1.what_base_price()    # M2\n",
    "\n",
    "print(Bike.base_price)    # M3"
   ]
  },
  {
   "cell_type": "code",
   "execution_count": null,
   "id": "cb9bdc50",
   "metadata": {},
   "outputs": [],
   "source": [
    "# updating inflated rate for the first time\n",
    "Bike.revise_base_price(0.10)"
   ]
  },
  {
   "cell_type": "code",
   "execution_count": null,
   "id": "fa57b28c",
   "metadata": {},
   "outputs": [],
   "source": [
    "print(bike1.base_price)    # M1\n",
    "bike1.what_base_price()    # M2\n",
    "\n",
    "print(Bike.base_price)    # M3"
   ]
  },
  {
   "cell_type": "markdown",
   "id": "81bc912f",
   "metadata": {},
   "source": [
    "**Here we are seeing that the class variable is also getting updated from the object. But this not allowed in real world practice. So avoid/restrict updation of class variable using its instance.**"
   ]
  },
  {
   "cell_type": "code",
   "execution_count": null,
   "id": "2ffa8085",
   "metadata": {},
   "outputs": [],
   "source": [
    "bike1.revise_base_price(0.10)"
   ]
  },
  {
   "cell_type": "code",
   "execution_count": null,
   "id": "6da04443",
   "metadata": {},
   "outputs": [],
   "source": [
    "print(bike1.base_price)    # M1\n",
    "bike1.what_base_price()    # M2\n",
    "\n",
    "print(Bike.base_price)    # M3"
   ]
  },
  {
   "cell_type": "code",
   "execution_count": null,
   "id": "9ac956ca",
   "metadata": {},
   "outputs": [],
   "source": [
    "bike2 = Bike(9, 12, 2000)"
   ]
  },
  {
   "cell_type": "code",
   "execution_count": null,
   "id": "4dc7a12f",
   "metadata": {},
   "outputs": [],
   "source": [
    "# for object bike2\n",
    "print(bike2.base_price)    # M1\n",
    "bike2.what_base_price()    # M2\n",
    "\n",
    "print(Bike.base_price)    # M3"
   ]
  },
  {
   "cell_type": "code",
   "execution_count": null,
   "id": "901f9077",
   "metadata": {},
   "outputs": [],
   "source": [
    "bike3 = Bike(9, 12, 2000)\n",
    "print(bike3)\n",
    "bike3.base_price = 50   # once class var gets changed for a given object, it removes link with that common class var, and sort of creates its own version of that class var\n",
    "print(bike3.base_price)"
   ]
  },
  {
   "cell_type": "code",
   "execution_count": null,
   "id": "ad552f68",
   "metadata": {},
   "outputs": [],
   "source": [
    "bike4 = Bike(9, 12, 2000)\n",
    "print(bike4.base_price)\n",
    "bike4.revise_base_price(0.2)\n",
    "print(bike4.base_price)\n",
    "print(bike2.base_price)\n",
    "print(bike3.base_price) # for bike3, object has its own version of its class var. Its gets detachec with the common property of class variable."
   ]
  },
  {
   "cell_type": "code",
   "execution_count": null,
   "id": "29b1f9ba",
   "metadata": {},
   "outputs": [],
   "source": [
    "bike3.revise_base_price(2)\n",
    "print(bike4.base_price)\n",
    "print(bike2.base_price)\n",
    "print(bike3.base_price) # we can see that the class method still changes the class state property by calling the class method from the object that has removed the link from the common class state variable"
   ]
  },
  {
   "cell_type": "code",
   "execution_count": null,
   "id": "ffa8a6c6",
   "metadata": {},
   "outputs": [],
   "source": [
    "# Another example\n",
    "class Employee:\n",
    "    def __init__(self, first, last, pay):\n",
    "        self.first = first\n",
    "        self.last = last\n",
    "        self.pay = pay\n",
    "\n",
    "    @classmethod\n",
    "    def from_string(cls, emp_str):\n",
    "        first, last, pay = emp_str.split('-')\n",
    "        return cls(first, last, pay)\n",
    "    \n",
    "# Way 1 to create objects if separate attribute values are present\n",
    "obj1 = Employee('Sheikh', 'chilli', 50)\n",
    "\n",
    "# Way 2: if consolidate string contains the info of all the attributes. This is an to use classmethods as an alternative constructors.\n",
    "emp1 = 'Santa-Banta-69'\n",
    "obj2 = Employee.from_string(emp1)\n",
    "print(obj2.first, obj2.last, obj2.pay)"
   ]
  },
  {
   "cell_type": "markdown",
   "id": "020754df",
   "metadata": {},
   "source": [
    "## Static Methods in Python\n",
    "As soon as the class gets loaded, the first thing that gets initialized is STATIC METHOD. Its lifetime is until when application is running. Unlike the other way, it doesn't get initialized everytime, when the instance being made. Initialize class for just once, and it will live forever. It can be called with classname, instancename, etc. It is fast.\n",
    "We use static method in place of classmethods if we see that there is no use of class or object in the method. In classmethod, we use cls.\n",
    "We should avoid using static methods because its not affecting any instance related to class or its object, but still to use it we need provocation od an object or class, which is kind of costlier than directly calling a function which does the same operation."
   ]
  },
  {
   "cell_type": "code",
   "execution_count": null,
   "id": "9112a12b",
   "metadata": {},
   "outputs": [],
   "source": [
    "class Bike:\n",
    "    base_price = 100_000\n",
    "# class var. Any obj of this class will have common base price at any instance. Value may vary at different time, but for every obj, value will be same.\n",
    "\n",
    "    def __init__(self, window, door, power):\n",
    "        self.windows = window\n",
    "        self.doors = door\n",
    "        self.power = power\n",
    "\n",
    "    def what_base_price(self):\n",
    "        print(\"The base price : {}\".format(self.base_price))\n",
    "\n",
    "    @classmethod    # decorator\n",
    "    def revise_base_price(cls, inflation):\n",
    "        cls.base_price = cls.base_price + cls.base_price * inflation\n",
    "\n",
    "    @staticmethod\n",
    "    def check_year(year):    # we don't provide here neither INSTANCE nor CLASS parameter (or dont provide any parameter if we want), in static method, \n",
    "                             # because multiple copies of static method is not allowed to create.\n",
    "                             # Even then also, we can able to call this method, withe help of class or its object\n",
    "        if year==2021:\n",
    "            return True\n",
    "        else:\n",
    "            return False"
   ]
  },
  {
   "cell_type": "code",
   "execution_count": null,
   "id": "a449cc25",
   "metadata": {},
   "outputs": [],
   "source": [
    "Bike.check_year(2021)"
   ]
  },
  {
   "cell_type": "code",
   "execution_count": null,
   "id": "25744502",
   "metadata": {},
   "outputs": [],
   "source": [
    "bike1 = Bike(4, 5, 2000)"
   ]
  },
  {
   "cell_type": "code",
   "execution_count": null,
   "id": "24d00336",
   "metadata": {},
   "outputs": [],
   "source": [
    "bike1.check_year(2034)"
   ]
  },
  {
   "cell_type": "raw",
   "id": "ea79154a",
   "metadata": {},
   "source": [
    "**Use Case:**\n",
    "If check_year gives True in statement *if(bike1.check_year(<today_year_val>)*, then *Pass*. Else, call *Bike.revise_base_price* and update the base_price."
   ]
  },
  {
   "cell_type": "code",
   "execution_count": null,
   "id": "90da6050",
   "metadata": {},
   "outputs": [],
   "source": [
    "class Car:\n",
    "    def __init__(self, win, eng):\n",
    "        self.window = win   # the attributes\n",
    "        self.engine = eng   # the attributes\n",
    "\n",
    "class Alto(Car):\n",
    "    def __init__(self, gate, windows, engines): # the parameters\n",
    "        self.gates = gate    # |       |    # the attributes\n",
    "        super().__init__(windows, engines)  # the parameters from the enclosing method __init__ of the derives class\n",
    "\n",
    "alto = Alto(6, 9, 'diesel')\n",
    "print(alto.gates)   # printing attributes\n",
    "print(alto.engine)  # printing attributes\n",
    "print(alto.window)  # printing attributes"
   ]
  },
  {
   "cell_type": "code",
   "execution_count": null,
   "id": "aa79b140",
   "metadata": {},
   "outputs": [],
   "source": [
    "class Jabba:\n",
    "    varval = 'namba'\n",
    "    def normal():\n",
    "        print(\"class method w/o init, neither with self nor cls as parameter.\")\n",
    "\n",
    "jab = Jabba()\n",
    "print(jab.varval)\n",
    "# jab.normal()   # IT WONT WORK\n",
    "Jabba.normal()\n",
    "print(Jabba.varval)\n",
    "print('AFTER THE VALUE OF CLASS VAR CHANGED FROM ONE OF ITS OBJECT INSTANCE')\n",
    "jab.varval = 'nimba'    # if we change the class variable value fromm its object instance, then for that instance only the value gets updated. \n",
    "                        # Not for the other object instances or for the class. Just for that instance. THIS IS HALF TRUTH\n",
    "print(jab.varval)\n",
    "print(Jabba.varval)\n",
    "jab2 = Jabba()\n",
    "print(jab2.varval)\n",
    "print('AFTER THE VALUE OF CLASS VAR CHANGED FROM ONE OF ITS CLASS ITSELF')\n",
    "Jabba.varval = 'NIMBUZZ'\n",
    "print(Jabba.varval) \n",
    "# If we change the class variable with the help of the class itself, then for all the derived object instances of that class, that updated value will be reflected, \n",
    "# unless any explicit change of value occurs from the specific object, before or after of the change of the class value from the help of the class itself.\n",
    "print(jab.varval)\n",
    "print(jab2.varval)"
   ]
  },
  {
   "cell_type": "code",
   "execution_count": null,
   "id": "7f5979e5",
   "metadata": {},
   "outputs": [],
   "source": [
    "# DESTRUCTOR\n",
    "class Ross:\n",
    "    def __init__(self):\n",
    "        print('Ross Object created.')\n",
    "\n",
    "    def __del__(self):\n",
    "        print('deleting the class Ross object instance.')\n",
    "\n",
    "class Rachel(Ross):\n",
    "    val = 'bitch'\n",
    "\n",
    "    def __init__(self):\n",
    "        print('Rachel Object created.')\n",
    "        self.var = 'boss'\n",
    "    # toggle this __del__ method of the derived class to see the effect\n",
    "    def __del__(self):\n",
    "        print('deleting the class Rachel object instance.')\n",
    "\n",
    "ross1 = Ross()\n",
    "ross2 = Ross()\n",
    "\n",
    "rachel1 = Rachel()\n",
    "rachel2 = Rachel()\n",
    "\n",
    "del ross1   # class object got deleted\n",
    "del rachel1 # class object got deleted\n",
    "\n",
    "print(Rachel.val)\n",
    "\n",
    "del Ross    # class got deleted. Just class, not its object created. Now, no further object can be created with that class, unless new class is defined with the same name.\n",
    "del Rachel  # same as above\n",
    "\n",
    "print(rachel2.val)\n",
    "print(rachel2.var)\n",
    "\n",
    "del ross2\n",
    "del rachel2"
   ]
  },
  {
   "cell_type": "code",
   "execution_count": null,
   "id": "e836c0e9",
   "metadata": {},
   "outputs": [],
   "source": [
    "# from operator import attrgetter\n",
    "\"\"\"\n",
    "Return a callable object that fetches the given attribute(s) from its operand.\n",
    "After f = attrgetter('name'), the call f(r) returns r.name.\n",
    "After g = attrgetter('name', 'date'), the call g(r) returns (r.name, r.date).\n",
    "After h = attrgetter('name.first', 'name.last'), the call h(r) returns (r.name.first, r.name.last).\n",
    "It can be used as key=attrgettr('attr1', 'attr2') in sorted() function\n",
    "\"\"\""
   ]
  }
 ],
 "metadata": {
  "interpreter": {
   "hash": "a6570200391abd47b22bafa3ab36aba8327b6bca09374d4d4cb5f21cfca217ce"
  },
  "kernelspec": {
   "display_name": "Python 3 (ipykernel)",
   "language": "python",
   "name": "python3"
  },
  "language_info": {
   "codemirror_mode": {
    "name": "ipython",
    "version": 3
   },
   "file_extension": ".py",
   "mimetype": "text/x-python",
   "name": "python",
   "nbconvert_exporter": "python",
   "pygments_lexer": "ipython3",
   "version": "3.9.5"
  },
  "metadata": {
   "interpreter": {
    "hash": "a6570200391abd47b22bafa3ab36aba8327b6bca09374d4d4cb5f21cfca217ce"
   }
  }
 },
 "nbformat": 4,
 "nbformat_minor": 5
}
