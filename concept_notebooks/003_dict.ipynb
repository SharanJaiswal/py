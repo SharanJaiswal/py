{
 "cells": [
  {
   "cell_type": "markdown",
   "metadata": {},
   "source": [
    "# DICTIONARY\n",
    "Ordered from Py3.7 onwards, Changeable, No Duplicate Items (Duplicate values will overwrite existing values), Any Data Types"
   ]
  },
  {
   "cell_type": "code",
   "execution_count": null,
   "metadata": {},
   "outputs": [],
   "source": [
    "car = {\"brand\": \"Ford\",\"model\": \"Mustang\",\"year\": 1964}\n",
    "x = car.values()    # The view object contains the values of the dictionary, as a list. The view object will reflect any changes done to the dictionary\n",
    "print(x)\n",
    "car[\"bullet\"]=\"yes\" # This will update the car.values() x variable\n",
    "print(x)\n",
    "for i in x:\n",
    "    print(i)\n",
    "y = list(x)\n",
    "print(type(y))\n",
    "print(y)\n",
    "print(car)\n",
    "car[\"year\"] = 2018  # if the key is not present then it will create new key and assign the value to it\n",
    "car['name'] = 'something'\n",
    "print(x)\n",
    "print(car)"
   ]
  },
  {
   "cell_type": "code",
   "execution_count": null,
   "metadata": {},
   "outputs": [],
   "source": [
    "thisdict ={\"brand\": \"Ford\", \"model\": \"Mustang\", \"year\": 1964}\n",
    "x = thisdict[\"model\"]   # if the key is not present then, it will throw an KeyError. Use get funtion to handle error\n",
    "print(x)"
   ]
  },
  {
   "cell_type": "code",
   "execution_count": null,
   "metadata": {},
   "outputs": [],
   "source": [
    "car = {\"brand\": \"Ford\",\"model\": \"Mustang\",\"year\": 1964,\"owner\": None}\n",
    "x = car.get(\"model\")    # dictionary.get(keyname, [value]) . A value to return if the specified key does not exist.Default value None\n",
    "print(x)\n",
    "\n",
    "x = car.get(\"price\")\n",
    "print(x)\n",
    "\n",
    "x = car.get(\"price\", 15000)\n",
    "print(x)\n",
    "\n",
    "x = car.get(\"owner\", \"Sharan\")\n",
    "print(x)"
   ]
  },
  {
   "cell_type": "code",
   "execution_count": null,
   "metadata": {},
   "outputs": [],
   "source": [
    "car = {\"brand\": \"Ford\",\"model\": \"Mustang\",\"year\": 1964}\n",
    "x = car.keys()  # The view object will reflect any changes done to the dictionary\n",
    "print(x)\n",
    "car[\"color\"] = \"white\"\n",
    "print(x)"
   ]
  },
  {
   "cell_type": "code",
   "execution_count": null,
   "metadata": {},
   "outputs": [],
   "source": [
    "car = {\"brand\": \"Ford\", \"model\": \"Mustang\",  \"year\": 1964}\n",
    "x = car.copy()\n",
    "print(x)\n",
    "car[\"bullet\"]=\"yes\" # This wont change the already created copy of the dictionary created using .copy() method\n",
    "print(car)\n",
    "print(x)\n",
    "\n",
    "y = dict(car)\n",
    "print(y)"
   ]
  },
  {
   "cell_type": "code",
   "execution_count": null,
   "metadata": {},
   "outputs": [],
   "source": [
    "x = ('key1', 'key2', 'key3')    # could be any iterable\n",
    "y = 0   # this value of y can be any object, and its value is for all the keys as their values\n",
    "thisdict = dict.fromkeys(x, y)  # dict.fromkeys(keys, [value]) . returns a dictionary with the specified keys and the specified value. Default value for all keys is None\n",
    "print(thisdict)\n",
    "thisdict = dict.fromkeys(x)\n",
    "print(thisdict)\n",
    "print(x)\n",
    "\n",
    "y=('val1', 'val2', 'val3')  # even if y is any iterable, but it will be treated as single value\n",
    "thatdict=dict.fromkeys(x,y)\n",
    "print(thatdict)"
   ]
  },
  {
   "cell_type": "code",
   "execution_count": null,
   "metadata": {},
   "outputs": [],
   "source": [
    "car = {\"brand\": \"Ford\", \"model\": \"Mustang\",  \"year\": 1964}\n",
    "car.update({\"color\": \"White\"})  # updates or inserts if not exists, the specified items to the dictionary. \n",
    "                                # The specified items can be a dictionary, or an iterable object with key value pairs.\n",
    "print(car)\n",
    "\n",
    "put = {\"color\": \"White\", \"comp\":\"senn\"}\n",
    "car.update(put)\n",
    "print(car)"
   ]
  },
  {
   "cell_type": "code",
   "execution_count": null,
   "metadata": {},
   "outputs": [],
   "source": [
    "car = {\"brand\": \"Ford\",\"model\": \"Mustang\",\"year\": 1964}\n",
    "x = car.setdefault(\"model\", \"Bronco\")   # dictionary.setdefault(keyname, [value]) . for value, If the key exist, this parameter has no effect. \n",
    "# If the key does not exist, insert the key, this value becomes the key's value. Default value None. returns the value of the item with the specified key.\n",
    "print(x)\n",
    "print(car)\n",
    "x = car.setdefault(\"color\", \"white\")\n",
    "print(x)\n",
    "print(car)"
   ]
  },
  {
   "cell_type": "code",
   "execution_count": null,
   "metadata": {},
   "outputs": [],
   "source": [
    "car = {\"brand\": \"Ford\",\"model\": \"Mustang\",\"year\": 1964}\n",
    "x = car.items() # The items() method returns a view object. The view object contains the key-value pairs of the dictionary, as tuples in a list. \n",
    "                # The view object will reflect any changes done to the dictionary\n",
    "print(x)\n",
    "print(type(x))  # view object\n",
    "car[\"year\"] = 2018  # This will update the already created .items variable\n",
    "print(x)"
   ]
  },
  {
   "cell_type": "code",
   "execution_count": null,
   "metadata": {},
   "outputs": [],
   "source": [
    "\n",
    "car = {\"brand\": \"Ford\", \"model\": \"Mustang\",  \"year\": 1964}\n",
    "car.clear() # removes all the elements from dictionary\n",
    "print(car)"
   ]
  },
  {
   "cell_type": "code",
   "execution_count": null,
   "metadata": {},
   "outputs": [],
   "source": [
    "car = {\"brand\": \"Ford\",\"model\": \"Mustang\",\"year\": 1964}\n",
    "x = car.pop(\"model\")    # at least key value is required, ie, one argument is necessary and that must be existing. With 2 args, any key(existing or non-existing) and value for non-existing key\n",
    "print(car)\n",
    "print(x)    # value of removed item key.\n",
    "\n",
    "# dictionary.pop(keyname, [defaultvalue]) . defaultvalue is a value to return if the specified key do not exist. Requires at least one parameter.\n",
    "# If this parameter is not specified, and the no item with the specified key is found, an KeyError is raised\n",
    "x = car.pop(\"model\", \"not exists\")  # error line\n",
    "print(x) "
   ]
  },
  {
   "cell_type": "code",
   "execution_count": null,
   "metadata": {},
   "outputs": [],
   "source": [
    "car = {\"brand\": \"Ford\",\"model\": \"Mustang\",\"year\": 1964}\n",
    "x = car.popitem()   # removes the item that was last inserted into the dictionary. In versions before 3.7, the popitem() method removes a random item. \n",
    "                    # The removed item is the return value of the popitem() method, as a tuple\n",
    "print(x)\n",
    "print(car)\n",
    "x=car.popitem('brand')# this wont work. It doesn't take any argument\n",
    "print(x)\n",
    "print(car)"
   ]
  },
  {
   "cell_type": "code",
   "execution_count": null,
   "metadata": {},
   "outputs": [],
   "source": [
    "thisdict = {\"brand\": \"Ford\", \"model\": \"Mustang\", \"year\": 1964}\n",
    "del thisdict[\"model\"]\n",
    "print(thisdict)\n",
    "\n",
    "del thisdict\n",
    "try:\n",
    "    print(thisdict) \n",
    "except:\n",
    "    print(\"this will cause an error because \\\"thisdict\\\" no longer exists. \")"
   ]
  },
  {
   "cell_type": "markdown",
   "metadata": {},
   "source": [
    "for x, y in thisdict.items():\n",
    "\n",
    "for x in thisdict.keys():\n",
    "\n",
    "for x in thisdict.values():\n",
    "\n",
    "for x in thisdict:"
   ]
  },
  {
   "cell_type": "code",
   "execution_count": null,
   "metadata": {},
   "outputs": [],
   "source": [
    "myfamily = {\n",
    "  \"child1\" : {\n",
    "    \"name\" : \"Emil\",\n",
    "    \"year\" : 2004\n",
    "  },\n",
    "  \"child2\" : {\n",
    "    \"name\" : \"Tobias\",\n",
    "    \"year\" : 2007\n",
    "  },\n",
    "  \"child3\" : {\n",
    "    \"name\" : \"Linus\",\n",
    "    \"year\" : 2011\n",
    "  }\n",
    "}\n",
    "print(myfamily)\n",
    "\n",
    "child1 = {\n",
    "  \"name\" : \"Emil\",\n",
    "  \"year\" : 2004\n",
    "}\n",
    "child2 = {\n",
    "  \"name\" : \"Tobias\",\n",
    "  \"year\" : 2007\n",
    "}\n",
    "child3 = {\n",
    "  \"name\" : \"Linus\",\n",
    "  \"year\" : 2011\n",
    "}\n",
    "\n",
    "myfamily = {\n",
    "  \"child1\" : child1,\n",
    "  \"child2\" : child2,\n",
    "  \"child3\" : child3\n",
    "}\n",
    "print(myfamily)"
   ]
  },
  {
   "cell_type": "code",
   "execution_count": null,
   "metadata": {},
   "outputs": [],
   "source": [
    "# dict comprehension\n",
    "{i : i**2 for i in range(10)}"
   ]
  },
  {
   "cell_type": "code",
   "execution_count": null,
   "metadata": {},
   "outputs": [],
   "source": [
    "d = {'name': 'Emil', 'year': 2004}\n",
    "{i[0]:i[1] for i in d.items()}"
   ]
  },
  {
   "cell_type": "markdown",
   "metadata": {},
   "source": [
    "## Creating a dict of our own\n",
    "\n",
    "In dictionaries, KEYS shall be immutable data structures. Values can be anything. Because, it is keys that gets hashed."
   ]
  },
  {
   "cell_type": "code",
   "execution_count": null,
   "metadata": {},
   "outputs": [],
   "source": [
    "class MyDict:\n",
    "    def __init__(self, N=10_000):\n",
    "        self.N = N\n",
    "        self.table = [None]*N\n",
    "\n",
    "    def add(self, key, val):\n",
    "        index = hash(key) % self.N\n",
    "        self.table[index] = val\n",
    "\n",
    "    def __setitem__(self, key, val):\n",
    "        \"\"\" This special method lets us use the [] to add something to our object.\"\"\"\n",
    "        self.add(key, val)\n",
    "    \n",
    "    def get(self, key):\n",
    "        index = hash(key) % self.N\n",
    "        val = self.table[index]\n",
    "\n",
    "        if val is None:\n",
    "            raise KeyError(f\"The key {key} does not exists!\")\n",
    "\n",
    "        return val\n",
    "\n",
    "    def __getitem__(self, key):\n",
    "        \"\"\" This special method lets us use the [] to fetch something from our object.\"\"\"\n",
    "        return self.get(key)"
   ]
  },
  {
   "cell_type": "code",
   "execution_count": null,
   "metadata": {},
   "outputs": [],
   "source": [
    "# If I want to store some value with a key of the \"name\"\n",
    "# Then I use the hash value of \"name\" (the key) to\n",
    "# determine the location to store the value.\n",
    "\n",
    "# I want to associate the key \"name\" to the value of \"Don\"\n",
    "\n",
    "index = hash(\"name\") % 10_000\n",
    "print(f\"I am going to use the {index} to store my value\")"
   ]
  },
  {
   "cell_type": "code",
   "execution_count": null,
   "metadata": {},
   "outputs": [],
   "source": [
    "my_dict = MyDict()"
   ]
  },
  {
   "cell_type": "code",
   "execution_count": null,
   "metadata": {},
   "outputs": [],
   "source": [
    "my_dict.add(\"name\", \"Don\")"
   ]
  },
  {
   "cell_type": "code",
   "execution_count": null,
   "metadata": {},
   "outputs": [],
   "source": [
    "my_dict.get(\"name\")"
   ]
  },
  {
   "cell_type": "code",
   "execution_count": null,
   "metadata": {},
   "outputs": [],
   "source": [
    "my_dict.add('number', '555-666-4567')"
   ]
  },
  {
   "cell_type": "code",
   "execution_count": null,
   "metadata": {},
   "outputs": [],
   "source": [
    "my_dict.get('number')"
   ]
  },
  {
   "cell_type": "code",
   "execution_count": null,
   "metadata": {},
   "outputs": [],
   "source": [
    "my_dict.get(\"staff\")"
   ]
  },
  {
   "cell_type": "code",
   "execution_count": null,
   "metadata": {},
   "outputs": [],
   "source": [
    "my_dict.add(\"staff\", True)"
   ]
  },
  {
   "cell_type": "code",
   "execution_count": null,
   "metadata": {},
   "outputs": [],
   "source": [
    "my_dict.get(\"staff\")"
   ]
  },
  {
   "cell_type": "code",
   "execution_count": null,
   "metadata": {},
   "outputs": [],
   "source": [
    "mynew_dict = MyDict()"
   ]
  },
  {
   "cell_type": "code",
   "execution_count": null,
   "metadata": {},
   "outputs": [],
   "source": [
    "mynew_dict.add(\"title\", \"Jaiswal\")"
   ]
  },
  {
   "cell_type": "code",
   "execution_count": null,
   "metadata": {},
   "outputs": [],
   "source": [
    "mynew_dict['title']"
   ]
  },
  {
   "cell_type": "code",
   "execution_count": null,
   "metadata": {},
   "outputs": [],
   "source": [
    "mynew_dict['naam'] = \"Sharan\""
   ]
  },
  {
   "cell_type": "code",
   "execution_count": null,
   "metadata": {},
   "outputs": [],
   "source": [
    "mynew_dict['naam']"
   ]
  },
  {
   "cell_type": "markdown",
   "metadata": {},
   "source": [
    "### Example to add a new key-val pair in dictionary\n",
    "We need to convert from data1 to data2"
   ]
  },
  {
   "cell_type": "code",
   "execution_count": null,
   "metadata": {},
   "outputs": [],
   "source": [
    "data1 = [{'a' : 1, 'b' : 2}, {'a' : 2, 'b' : 3}, {'a' : 0, 'b' : 1}]\n",
    "data2 = [{'a' : 1, 'b' : 2, 'c' : True}, {'a' : 2, 'b' : 3, 'c' : True}, {'a' : 0, 'b' : 1, 'c' : True}]"
   ]
  },
  {
   "cell_type": "code",
   "execution_count": null,
   "metadata": {},
   "outputs": [],
   "source": [
    "def add_key_val(dict, key, val):\n",
    "    dict[key] = val\n",
    "    return dict\n",
    "daaa = [add_key_val(dict, 'test', pos) for pos, dict in enumerate(data1)]\n",
    "daaa"
   ]
  },
  {
   "cell_type": "code",
   "execution_count": null,
   "metadata": {},
   "outputs": [],
   "source": [
    "# emulating switch case in python\n",
    "# dictionaries can also be used in the form where key decides which function to call.\n",
    "# The returned value from the dictionary, from key-value pair, can be the lambda or any function object\n",
    "# This makes code faster if compared with the if-else statement\n",
    "\n",
    "arithmetic={\n",
    "    'add' : lambda x, y : x+y,\n",
    "    'sub' : lambda x, y : x-y,\n",
    "    'mul' : lambda x, y : x*y,\n",
    "    'div' : lambda x, y : x/y\n",
    "}\n",
    "def func_dispatcher(operator):\n",
    "    return arithmetic.get(operator, lambda x, y: None)\n",
    "\n",
    "print(func_dispatcher('gh')(3,6))\n",
    "print(func_dispatcher('mul')(2, 10))"
   ]
  },
  {
   "cell_type": "code",
   "execution_count": null,
   "metadata": {},
   "outputs": [],
   "source": [
    "# Merging two or more dictionaries in an efficient way\n",
    "d1 = {'a': 1, 'b': 2}\n",
    "d2 = {'c': 3, 'd': 4}\n",
    "d3 = {'a': 5, 'd': 6}\n",
    "{**d1, **d3, **d2}"
   ]
  },
  {
   "cell_type": "code",
   "execution_count": null,
   "metadata": {},
   "outputs": [],
   "source": [
    "a=69\n",
    "print(*d1)\n",
    "print(*d2)\n",
    "print(*d3)\n",
    "print(*d1, *d2, *d3)\n",
    "# print(d1[0])  # KeyError\n",
    "print(**d1) # TypeError, since print function does not take keyword argument outside of defined keywords like sep, end, etc."
   ]
  }
 ],
 "metadata": {
  "celltoolbar": "Raw Cell Format",
  "interpreter": {
   "hash": "a6570200391abd47b22bafa3ab36aba8327b6bca09374d4d4cb5f21cfca217ce"
  },
  "kernelspec": {
   "display_name": "Python 3 (ipykernel)",
   "language": "python",
   "name": "python3"
  },
  "language_info": {
   "codemirror_mode": {
    "name": "ipython",
    "version": 3
   },
   "file_extension": ".py",
   "mimetype": "text/x-python",
   "name": "python",
   "nbconvert_exporter": "python",
   "pygments_lexer": "ipython3",
   "version": "3.9.5"
  },
  "metadata": {
   "interpreter": {
    "hash": "a6570200391abd47b22bafa3ab36aba8327b6bca09374d4d4cb5f21cfca217ce"
   }
  }
 },
 "nbformat": 4,
 "nbformat_minor": 2
}
