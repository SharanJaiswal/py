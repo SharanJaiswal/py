{
 "cells": [
  {
   "cell_type": "markdown",
   "source": [
    "# DICTIONARY\n",
    "Ordered from Py3.7 onwards, Changeable, No Duplicate Items (Duplicate values will overwrite existing values), Any Data Types"
   ],
   "metadata": {}
  },
  {
   "cell_type": "code",
   "execution_count": 1,
   "source": [
    "car = {\"brand\": \"Ford\",\"model\": \"Mustang\",\"year\": 1964}\n",
    "x = car.values()    # The view object contains the values of the dictionary, as a list. The view object will reflect any changes done to the dictionary\n",
    "print(x)\n",
    "for i in x:\n",
    "    print(i)\n",
    "y = list(x)\n",
    "print(type(y))\n",
    "print(y)\n",
    "print(car)\n",
    "car[\"year\"] = 2018  # if the key is not present then it will create new key and assign the value to it\n",
    "print(x)\n",
    "print(car)"
   ],
   "outputs": [
    {
     "output_type": "stream",
     "name": "stdout",
     "text": [
      "dict_values(['Ford', 'Mustang', 1964])\n",
      "Ford\n",
      "Mustang\n",
      "1964\n",
      "<class 'list'>\n",
      "['Ford', 'Mustang', 1964]\n",
      "{'brand': 'Ford', 'model': 'Mustang', 'year': 1964}\n",
      "dict_values(['Ford', 'Mustang', 2018])\n",
      "{'brand': 'Ford', 'model': 'Mustang', 'year': 2018}\n"
     ]
    }
   ],
   "metadata": {}
  },
  {
   "cell_type": "code",
   "execution_count": 2,
   "source": [
    "thisdict ={\"brand\": \"Ford\", \"model\": \"Mustang\", \"year\": 1964}\n",
    "x = thisdict[\"model\"]   # if the key is not present then, it will throw an error. Use get funtion to handle error\n",
    "print(x)"
   ],
   "outputs": [
    {
     "output_type": "stream",
     "name": "stdout",
     "text": [
      "Mustang\n"
     ]
    }
   ],
   "metadata": {}
  },
  {
   "cell_type": "code",
   "execution_count": 3,
   "source": [
    "car = {\"brand\": \"Ford\",\"model\": \"Mustang\",\"year\": 1964,\"owner\": None}\n",
    "x = car.get(\"model\")    # dictionary.get(keyname, [value]) . A value to return if the specified key does not exist.Default value None\n",
    "print(x)\n",
    "\n",
    "x = car.get(\"price\")\n",
    "print(x)\n",
    "\n",
    "x = car.get(\"price\", 15000)\n",
    "print(x)\n",
    "\n",
    "x = car.get(\"owner\", \"Sharan\")\n",
    "print(x)"
   ],
   "outputs": [
    {
     "output_type": "stream",
     "name": "stdout",
     "text": [
      "Mustang\n",
      "None\n",
      "15000\n",
      "None\n"
     ]
    }
   ],
   "metadata": {}
  },
  {
   "cell_type": "code",
   "execution_count": 4,
   "source": [
    "car = {\"brand\": \"Ford\",\"model\": \"Mustang\",\"year\": 1964}\n",
    "x = car.keys()  # The view object will reflect any changes done to the dictionary\n",
    "print(x)\n",
    "car[\"color\"] = \"white\"\n",
    "print(x)"
   ],
   "outputs": [
    {
     "output_type": "stream",
     "name": "stdout",
     "text": [
      "dict_keys(['brand', 'model', 'year'])\n",
      "dict_keys(['brand', 'model', 'year', 'color'])\n"
     ]
    }
   ],
   "metadata": {}
  },
  {
   "cell_type": "code",
   "execution_count": 5,
   "source": [
    "car = {\"brand\": \"Ford\", \"model\": \"Mustang\",  \"year\": 1964}\n",
    "x = car.copy()\n",
    "print(x)\n",
    "print(car)\n",
    "\n",
    "y = dict(car)\n",
    "print(y)"
   ],
   "outputs": [
    {
     "output_type": "stream",
     "name": "stdout",
     "text": [
      "{'brand': 'Ford', 'model': 'Mustang', 'year': 1964}\n",
      "{'brand': 'Ford', 'model': 'Mustang', 'year': 1964}\n",
      "{'brand': 'Ford', 'model': 'Mustang', 'year': 1964}\n"
     ]
    }
   ],
   "metadata": {}
  },
  {
   "cell_type": "code",
   "execution_count": 6,
   "source": [
    "x = ('key1', 'key2', 'key3')    # could be any iterable\n",
    "y = 0   # this value of y can be any object, and its value is for all the keys as their values\n",
    "thisdict = dict.fromkeys(x, y)  # dict.fromkeys(keys, [value]) . returns a dictionary with the specified keys and the specified value. Default value for all keys is None\n",
    "print(thisdict)\n",
    "thisdict = dict.fromkeys(x)\n",
    "print(thisdict)\n",
    "print(x)"
   ],
   "outputs": [
    {
     "output_type": "stream",
     "name": "stdout",
     "text": [
      "{'key1': 0, 'key2': 0, 'key3': 0}\n",
      "{'key1': None, 'key2': None, 'key3': None}\n",
      "('key1', 'key2', 'key3')\n"
     ]
    }
   ],
   "metadata": {}
  },
  {
   "cell_type": "code",
   "execution_count": 1,
   "source": [
    "car = {\"brand\": \"Ford\", \"model\": \"Mustang\",  \"year\": 1964}\n",
    "car.update({\"color\": \"White\"})  # updates or inserts if not exists, the specified items to the dictionary. The specified items can be a dictionary, or an iterable object with key value pairs.\n",
    "print(car)\n",
    "\n",
    "put = {\"color\": \"White\", \"comp\":\"senn\"}\n",
    "car.update(put)\n",
    "print(car)"
   ],
   "outputs": [
    {
     "output_type": "stream",
     "name": "stdout",
     "text": [
      "{'brand': 'Ford', 'model': 'Mustang', 'year': 1964, 'color': 'White'}\n",
      "{'brand': 'Ford', 'model': 'Mustang', 'year': 1964, 'color': 'White', 'comp': 'senn'}\n"
     ]
    }
   ],
   "metadata": {}
  },
  {
   "cell_type": "code",
   "execution_count": 8,
   "source": [
    "car = {\"brand\": \"Ford\",\"model\": \"Mustang\",\"year\": 1964}\n",
    "x = car.setdefault(\"model\", \"Bronco\")   # dictionary.setdefault(keyname, [value]) . for value, If the key exist, this parameter has no effect. If the key does not exist, insert the key, this value becomes the key's value. Default value None. returns the value of the item with the specified key.\n",
    "print(x)\n",
    "print(car)\n",
    "x = car.setdefault(\"color\", \"white\")\n",
    "print(x)\n",
    "print(car)"
   ],
   "outputs": [
    {
     "output_type": "stream",
     "name": "stdout",
     "text": [
      "Mustang\n",
      "{'brand': 'Ford', 'model': 'Mustang', 'year': 1964}\n",
      "white\n",
      "{'brand': 'Ford', 'model': 'Mustang', 'year': 1964, 'color': 'white'}\n"
     ]
    }
   ],
   "metadata": {}
  },
  {
   "cell_type": "code",
   "execution_count": 9,
   "source": [
    " car = {\"brand\": \"Ford\",\"model\": \"Mustang\",\"year\": 1964}\n",
    "x = car.items() # The items() method returns a view object. The view object contains the key-value pairs of the dictionary, as tuples in a list. The view object will reflect any changes done to the dictionary\n",
    "print(x)\n",
    "print(type(x))  # view object\n",
    "car[\"year\"] = 2018\n",
    "print(x)"
   ],
   "outputs": [
    {
     "output_type": "stream",
     "name": "stdout",
     "text": [
      "dict_items([('brand', 'Ford'), ('model', 'Mustang'), ('year', 1964)])\n",
      "<class 'dict_items'>\n",
      "dict_items([('brand', 'Ford'), ('model', 'Mustang'), ('year', 2018)])\n"
     ]
    }
   ],
   "metadata": {}
  },
  {
   "cell_type": "code",
   "execution_count": 10,
   "source": [
    "\n",
    "car = {\"brand\": \"Ford\", \"model\": \"Mustang\",  \"year\": 1964}\n",
    "car.clear() # removes all the elements from dictionary\n",
    "print(car)"
   ],
   "outputs": [
    {
     "output_type": "stream",
     "name": "stdout",
     "text": [
      "{}\n"
     ]
    }
   ],
   "metadata": {}
  },
  {
   "cell_type": "code",
   "execution_count": 11,
   "source": [
    "car = {\"brand\": \"Ford\",\"model\": \"Mustang\",\"year\": 1964}\n",
    "x = car.pop(\"model\")\n",
    "print(car)\n",
    "print(x)    # value of removed item key.\n",
    "\n",
    "# dictionary.pop(keyname, [defaultvalue]) . defaultvalue is a value to return if the specified key do not exist.If this parameter is not specified, and the no item with the specified key is found, an error is raised\n",
    "x = car.pop(\"model\", \"not exists\")  # error line\n",
    "print(x) "
   ],
   "outputs": [
    {
     "output_type": "stream",
     "name": "stdout",
     "text": [
      "{'brand': 'Ford', 'year': 1964}\n",
      "Mustang\n",
      "not exists\n"
     ]
    }
   ],
   "metadata": {}
  },
  {
   "cell_type": "code",
   "execution_count": 1,
   "source": [
    "car = {\"brand\": \"Ford\",\"model\": \"Mustang\",\"year\": 1964}\n",
    "x = car.popitem()   # removes the item that was last inserted into the dictionary. In versions before 3.7, the popitem() method removes a random item. The removed item is the return value of the popitem() method, as a tuple\n",
    "print(x)\n",
    "print(car)\n",
    "x=car.popitem('brand')# this wont work. It doesn't take any argument\n",
    "print(x)\n",
    "print(car)"
   ],
   "outputs": [
    {
     "output_type": "stream",
     "name": "stdout",
     "text": [
      "('year', 1964)\n",
      "{'brand': 'Ford', 'model': 'Mustang'}\n"
     ]
    },
    {
     "output_type": "error",
     "ename": "TypeError",
     "evalue": "popitem() takes no arguments (1 given)",
     "traceback": [
      "\u001b[0;31m---------------------------------------------------------------------------\u001b[0m",
      "\u001b[0;31mTypeError\u001b[0m                                 Traceback (most recent call last)",
      "\u001b[0;32m<ipython-input-1-dc50c59534b8>\u001b[0m in \u001b[0;36m<module>\u001b[0;34m\u001b[0m\n\u001b[1;32m      3\u001b[0m \u001b[0mprint\u001b[0m\u001b[0;34m(\u001b[0m\u001b[0mx\u001b[0m\u001b[0;34m)\u001b[0m\u001b[0;34m\u001b[0m\u001b[0;34m\u001b[0m\u001b[0m\n\u001b[1;32m      4\u001b[0m \u001b[0mprint\u001b[0m\u001b[0;34m(\u001b[0m\u001b[0mcar\u001b[0m\u001b[0;34m)\u001b[0m\u001b[0;34m\u001b[0m\u001b[0;34m\u001b[0m\u001b[0m\n\u001b[0;32m----> 5\u001b[0;31m \u001b[0mx\u001b[0m\u001b[0;34m=\u001b[0m\u001b[0mcar\u001b[0m\u001b[0;34m.\u001b[0m\u001b[0mpopitem\u001b[0m\u001b[0;34m(\u001b[0m\u001b[0;34m'brand'\u001b[0m\u001b[0;34m)\u001b[0m\u001b[0;34m\u001b[0m\u001b[0;34m\u001b[0m\u001b[0m\n\u001b[0m\u001b[1;32m      6\u001b[0m \u001b[0mprint\u001b[0m\u001b[0;34m(\u001b[0m\u001b[0mx\u001b[0m\u001b[0;34m)\u001b[0m\u001b[0;34m\u001b[0m\u001b[0;34m\u001b[0m\u001b[0m\n\u001b[1;32m      7\u001b[0m \u001b[0mprint\u001b[0m\u001b[0;34m(\u001b[0m\u001b[0mcar\u001b[0m\u001b[0;34m)\u001b[0m\u001b[0;34m\u001b[0m\u001b[0;34m\u001b[0m\u001b[0m\n",
      "\u001b[0;31mTypeError\u001b[0m: popitem() takes no arguments (1 given)"
     ]
    }
   ],
   "metadata": {}
  },
  {
   "cell_type": "code",
   "execution_count": 13,
   "source": [
    "thisdict = {\"brand\": \"Ford\", \"model\": \"Mustang\", \"year\": 1964}\n",
    "del thisdict[\"model\"]\n",
    "print(thisdict)\n",
    "\n",
    "del thisdict\n",
    "try:\n",
    "    print(thisdict) \n",
    "except:\n",
    "    print(\"this will cause an error because \\\"thisdict\\\" no longer exists. \")"
   ],
   "outputs": [
    {
     "output_type": "stream",
     "name": "stdout",
     "text": [
      "{'brand': 'Ford', 'year': 1964}\n",
      "this will cause an error because \"thisdict\" no longer exists. \n"
     ]
    }
   ],
   "metadata": {}
  },
  {
   "cell_type": "markdown",
   "source": [
    "for x, y in thisdict.items():\n",
    "\n",
    "for x in thisdict.keys():\n",
    "\n",
    "for x in thisdict.values():\n",
    "\n",
    "for x in thisdict:"
   ],
   "metadata": {}
  },
  {
   "cell_type": "code",
   "execution_count": 14,
   "source": [
    "myfamily = {\n",
    "  \"child1\" : {\n",
    "    \"name\" : \"Emil\",\n",
    "    \"year\" : 2004\n",
    "  },\n",
    "  \"child2\" : {\n",
    "    \"name\" : \"Tobias\",\n",
    "    \"year\" : 2007\n",
    "  },\n",
    "  \"child3\" : {\n",
    "    \"name\" : \"Linus\",\n",
    "    \"year\" : 2011\n",
    "  }\n",
    "}\n",
    "print(myfamily)\n",
    "\n",
    "child1 = {\n",
    "  \"name\" : \"Emil\",\n",
    "  \"year\" : 2004\n",
    "}\n",
    "child2 = {\n",
    "  \"name\" : \"Tobias\",\n",
    "  \"year\" : 2007\n",
    "}\n",
    "child3 = {\n",
    "  \"name\" : \"Linus\",\n",
    "  \"year\" : 2011\n",
    "}\n",
    "\n",
    "myfamily = {\n",
    "  \"child1\" : child1,\n",
    "  \"child2\" : child2,\n",
    "  \"child3\" : child3\n",
    "}\n",
    "print(myfamily)"
   ],
   "outputs": [
    {
     "output_type": "stream",
     "name": "stdout",
     "text": [
      "{'child1': {'name': 'Emil', 'year': 2004}, 'child2': {'name': 'Tobias', 'year': 2007}, 'child3': {'name': 'Linus', 'year': 2011}}\n",
      "{'child1': {'name': 'Emil', 'year': 2004}, 'child2': {'name': 'Tobias', 'year': 2007}, 'child3': {'name': 'Linus', 'year': 2011}}\n"
     ]
    }
   ],
   "metadata": {}
  },
  {
   "cell_type": "code",
   "execution_count": 1,
   "source": [
    "# dict comprehension\n",
    "{i : i**2 for i in range (10)}"
   ],
   "outputs": [
    {
     "output_type": "execute_result",
     "data": {
      "text/plain": [
       "{0: 0, 1: 1, 2: 4, 3: 9, 4: 16, 5: 25, 6: 36, 7: 49, 8: 64, 9: 81}"
      ]
     },
     "metadata": {},
     "execution_count": 1
    }
   ],
   "metadata": {}
  },
  {
   "cell_type": "code",
   "execution_count": 2,
   "source": [
    "d = {'name': 'Emil', 'year': 2004}\n",
    "{i[0]:i[1] for i in d.items()}"
   ],
   "outputs": [
    {
     "output_type": "execute_result",
     "data": {
      "text/plain": [
       "{'name': 'name', 'year': 'year'}"
      ]
     },
     "metadata": {},
     "execution_count": 2
    }
   ],
   "metadata": {}
  },
  {
   "cell_type": "markdown",
   "source": [
    "## Creating a dict of our own\n",
    "\n",
    "In dictionaries, KEYS shall be immutable data structures. Values can be anything. Because, it is keys that gets hashed."
   ],
   "metadata": {}
  },
  {
   "cell_type": "code",
   "execution_count": 1,
   "source": [
    "class MyDict:\n",
    "    def __init__(self, N=10_000):\n",
    "        self.N = N\n",
    "        self.table = [None]*N\n",
    "\n",
    "    def add(self, key, val):\n",
    "        index = hash(key) % self.N\n",
    "        self.table[index] = val\n",
    "\n",
    "    def __setitem__(self, key, val):\n",
    "        \"\"\" This special method lets us use the [] to add something to our object.\"\"\"\n",
    "        self.add(key, val)\n",
    "    \n",
    "    def get(self, key):\n",
    "        index = hash(key) % self.N\n",
    "        val = self.table[index]\n",
    "\n",
    "        if val is None:\n",
    "            raise KeyError(f\"The key {key} does not exists!\")\n",
    "\n",
    "        return val\n",
    "\n",
    "    def __getitem__(self, key):\n",
    "        \"\"\" This special method lets us use the [] to fetch something from our object.\"\"\"\n",
    "        return self.get(key)"
   ],
   "outputs": [],
   "metadata": {}
  },
  {
   "cell_type": "code",
   "execution_count": 2,
   "source": [
    "# If I want to store some value with a key of the \"name\"\n",
    "# Then I use the hash value of \"name\" (the key) to\n",
    "# determine the location to store the value.\n",
    "\n",
    "# I want to associate the key \"name\" to the value of \"Don\"\n",
    "\n",
    "index = hash(\"name\") % 10_000\n",
    "print(f\"I am going to use the {index} to store my value\")"
   ],
   "outputs": [
    {
     "output_type": "stream",
     "name": "stdout",
     "text": [
      "I am going to use the 2135 to store my value\n"
     ]
    }
   ],
   "metadata": {}
  },
  {
   "cell_type": "code",
   "execution_count": 3,
   "source": [
    "my_dict = MyDict()"
   ],
   "outputs": [],
   "metadata": {}
  },
  {
   "cell_type": "code",
   "execution_count": 4,
   "source": [
    "my_dict.add(\"name\", \"Don\")"
   ],
   "outputs": [],
   "metadata": {}
  },
  {
   "cell_type": "code",
   "execution_count": 5,
   "source": [
    "my_dict.get(\"name\")"
   ],
   "outputs": [
    {
     "output_type": "execute_result",
     "data": {
      "text/plain": [
       "'Don'"
      ]
     },
     "metadata": {},
     "execution_count": 5
    }
   ],
   "metadata": {}
  },
  {
   "cell_type": "code",
   "execution_count": 6,
   "source": [
    "my_dict.add('number', '555-666-4567')"
   ],
   "outputs": [],
   "metadata": {}
  },
  {
   "cell_type": "code",
   "execution_count": 7,
   "source": [
    "my_dict.get('number')"
   ],
   "outputs": [
    {
     "output_type": "execute_result",
     "data": {
      "text/plain": [
       "'555-666-4567'"
      ]
     },
     "metadata": {},
     "execution_count": 7
    }
   ],
   "metadata": {}
  },
  {
   "cell_type": "code",
   "execution_count": 8,
   "source": [
    "my_dict.get(\"staff\")"
   ],
   "outputs": [
    {
     "output_type": "error",
     "ename": "KeyError",
     "evalue": "'The key staff does not exists!'",
     "traceback": [
      "\u001b[0;31m---------------------------------------------------------------------------\u001b[0m",
      "\u001b[0;31mKeyError\u001b[0m                                  Traceback (most recent call last)",
      "\u001b[0;32m<ipython-input-8-9a4cb6e15fe8>\u001b[0m in \u001b[0;36m<module>\u001b[0;34m\u001b[0m\n\u001b[0;32m----> 1\u001b[0;31m \u001b[0mmy_dict\u001b[0m\u001b[0;34m.\u001b[0m\u001b[0mget\u001b[0m\u001b[0;34m(\u001b[0m\u001b[0;34m\"staff\"\u001b[0m\u001b[0;34m)\u001b[0m\u001b[0;34m\u001b[0m\u001b[0;34m\u001b[0m\u001b[0m\n\u001b[0m",
      "\u001b[0;32m<ipython-input-1-f0cbf4845311>\u001b[0m in \u001b[0;36mget\u001b[0;34m(self, key)\u001b[0m\n\u001b[1;32m     17\u001b[0m \u001b[0;34m\u001b[0m\u001b[0m\n\u001b[1;32m     18\u001b[0m         \u001b[0;32mif\u001b[0m \u001b[0mval\u001b[0m \u001b[0;32mis\u001b[0m \u001b[0;32mNone\u001b[0m\u001b[0;34m:\u001b[0m\u001b[0;34m\u001b[0m\u001b[0;34m\u001b[0m\u001b[0m\n\u001b[0;32m---> 19\u001b[0;31m             \u001b[0;32mraise\u001b[0m \u001b[0mKeyError\u001b[0m\u001b[0;34m(\u001b[0m\u001b[0;34mf\"The key {key} does not exists!\"\u001b[0m\u001b[0;34m)\u001b[0m\u001b[0;34m\u001b[0m\u001b[0;34m\u001b[0m\u001b[0m\n\u001b[0m\u001b[1;32m     20\u001b[0m \u001b[0;34m\u001b[0m\u001b[0m\n\u001b[1;32m     21\u001b[0m         \u001b[0;32mreturn\u001b[0m \u001b[0mval\u001b[0m\u001b[0;34m\u001b[0m\u001b[0;34m\u001b[0m\u001b[0m\n",
      "\u001b[0;31mKeyError\u001b[0m: 'The key staff does not exists!'"
     ]
    }
   ],
   "metadata": {}
  },
  {
   "cell_type": "code",
   "execution_count": 9,
   "source": [
    "my_dict.add(\"staff\", True)"
   ],
   "outputs": [],
   "metadata": {}
  },
  {
   "cell_type": "code",
   "execution_count": 10,
   "source": [
    "my_dict.get(\"staff\")"
   ],
   "outputs": [
    {
     "output_type": "execute_result",
     "data": {
      "text/plain": [
       "True"
      ]
     },
     "metadata": {},
     "execution_count": 10
    }
   ],
   "metadata": {}
  },
  {
   "cell_type": "code",
   "execution_count": 11,
   "source": [
    "mynew_dict = MyDict()"
   ],
   "outputs": [],
   "metadata": {}
  },
  {
   "cell_type": "code",
   "execution_count": 12,
   "source": [
    "mynew_dict.add(\"title\", \"Jaiswal\")"
   ],
   "outputs": [],
   "metadata": {}
  },
  {
   "cell_type": "code",
   "execution_count": 13,
   "source": [
    "mynew_dict['title']"
   ],
   "outputs": [
    {
     "output_type": "execute_result",
     "data": {
      "text/plain": [
       "'Jaiswal'"
      ]
     },
     "metadata": {},
     "execution_count": 13
    }
   ],
   "metadata": {}
  },
  {
   "cell_type": "code",
   "execution_count": 14,
   "source": [
    "mynew_dict['naam'] = \"Sharan\""
   ],
   "outputs": [],
   "metadata": {}
  },
  {
   "cell_type": "code",
   "execution_count": 15,
   "source": [
    "mynew_dict['naam']"
   ],
   "outputs": [
    {
     "output_type": "execute_result",
     "data": {
      "text/plain": [
       "'Sharan'"
      ]
     },
     "metadata": {},
     "execution_count": 15
    }
   ],
   "metadata": {}
  },
  {
   "cell_type": "markdown",
   "source": [
    "### Example to add a new key-val pair in dictionary\n",
    "We need to convert from data1 to data2"
   ],
   "metadata": {}
  },
  {
   "cell_type": "code",
   "execution_count": 8,
   "source": [
    "data1 = [{'a' : 1, 'b' : 2}, {'a' : 2, 'b' : 3}, {'a' : 0, 'b' : 1}]\n",
    "data2 = [{'a' : 1, 'b' : 2, 'c' : True}, {'a' : 2, 'b' : 3, 'c' : True}, {'a' : 0, 'b' : 1, 'c' : True}]"
   ],
   "outputs": [],
   "metadata": {}
  },
  {
   "cell_type": "code",
   "execution_count": 9,
   "source": [
    "def add_key_val(dict, key, val):\n",
    "    dict[key] = val\n",
    "    return dict\n",
    "daaa = [add_key_val(dict, 'test', pos) for pos, dict in enumerate(data1)]"
   ],
   "outputs": [],
   "metadata": {}
  }
 ],
 "metadata": {
  "celltoolbar": "Raw Cell Format",
  "kernelspec": {
   "name": "python3",
   "display_name": "Python 3.8.5 64-bit ('base': conda)"
  },
  "language_info": {
   "codemirror_mode": {
    "name": "ipython",
    "version": 3
   },
   "file_extension": ".py",
   "mimetype": "text/x-python",
   "name": "python",
   "nbconvert_exporter": "python",
   "pygments_lexer": "ipython3",
   "version": "3.8.5"
  },
  "metadata": {
   "interpreter": {
    "hash": "a6570200391abd47b22bafa3ab36aba8327b6bca09374d4d4cb5f21cfca217ce"
   }
  },
  "interpreter": {
   "hash": "a6570200391abd47b22bafa3ab36aba8327b6bca09374d4d4cb5f21cfca217ce"
  }
 },
 "nbformat": 4,
 "nbformat_minor": 2
}