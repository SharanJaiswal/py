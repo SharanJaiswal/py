{
 "cells": [
  {
   "cell_type": "markdown",
   "id": "3d697e86",
   "metadata": {},
   "source": [
    "# Iterables V/s Iterators\n",
    "An iterable is an object that contains a countable number of values, It cab be iterated upon, meaning that you can traverse through all the values. Such objects basically implemets \\_\\_iter()\\_\\_ method. Since we can iterate through list hence LIST is iterable. All the items of iterables are allocated in the memory locations. Lists, tuples, dictionaries, sets, ans strings are all iterable objects. They are iterable containers which you can get an iterator from. All these objects have a iter() method which is used to get an iterator.\n",
    "\n",
    "\n",
    "Iterator can implement \\_\\_iter\\_\\_() or iter(), and \\_\\_next\\_\\_() or next()"
   ]
  },
  {
   "cell_type": "code",
   "execution_count": 1,
   "id": "e246786a",
   "metadata": {
    "scrolled": true
   },
   "outputs": [
    {
     "name": "stdout",
     "output_type": "stream",
     "text": [
      "1\n",
      "2\n",
      "3\n",
      "4\n",
      "5\n",
      "6\n",
      "7\n",
      "8\n",
      "9\n",
      "0\n"
     ]
    }
   ],
   "source": [
    "lst=[1,2,3,4,5,6,7,8,9,0]\n",
    "for i in lst:\n",
    "    print(i)"
   ]
  },
  {
   "cell_type": "markdown",
   "id": "bbce348b",
   "metadata": {},
   "source": [
    "# iter(<collection>) will convert iterables into iterator\n",
    "    \n",
    "### Properties of ITERATOR:\n",
    "    0. It is used when we are required to take consideration of space complexity. Because all the elements of the iterators will not get initialized at once. If we are required to get elements one by one, then we use iterator, and hence with the help of next() function we access the element one by one.\n",
    "    1. Unlike iterables, where all the values of it are initialized in the memory when it is created, iterators are not initialized in the memory when they are created.\n",
    "    2. When the in-built next(iterator) function is called, then only first value of the iterator is initialized in the memory.\n",
    "    3. When the elements are exhausted from the iterartors, next() function will throw an error.\n",
    "    4. To start from first element again, again make a iterator variable and then use next() function."
   ]
  },
  {
   "cell_type": "code",
   "execution_count": 3,
   "id": "261c8a4a",
   "metadata": {},
   "outputs": [
    {
     "name": "stdout",
     "output_type": "stream",
     "text": [
      "<list_iterator object at 0x7fa7e86dc5e0>\n"
     ]
    },
    {
     "data": {
      "text/plain": [
       "1"
      ]
     },
     "execution_count": 3,
     "metadata": {},
     "output_type": "execute_result"
    }
   ],
   "source": [
    "lst=[1,2,3,4,5,6,7,8,9,0]\n",
    "print(iter(lst))\n",
    "lst1 = iter(lst)\n",
    "next(lst1)"
   ]
  },
  {
   "cell_type": "code",
   "execution_count": 4,
   "id": "777f6a22",
   "metadata": {},
   "outputs": [
    {
     "data": {
      "text/plain": [
       "2"
      ]
     },
     "execution_count": 4,
     "metadata": {},
     "output_type": "execute_result"
    }
   ],
   "source": [
    "next(lst1)"
   ]
  },
  {
   "cell_type": "code",
   "execution_count": 13,
   "id": "a3451389",
   "metadata": {},
   "outputs": [
    {
     "ename": "StopIteration",
     "evalue": "",
     "output_type": "error",
     "traceback": [
      "\u001b[0;31m---------------------------------------------------------------------------\u001b[0m",
      "\u001b[0;31mStopIteration\u001b[0m                             Traceback (most recent call last)",
      "\u001b[0;32m<ipython-input-13-15dfa6f6acfc>\u001b[0m in \u001b[0;36m<module>\u001b[0;34m\u001b[0m\n\u001b[0;32m----> 1\u001b[0;31m \u001b[0mnext\u001b[0m\u001b[0;34m(\u001b[0m\u001b[0mlst1\u001b[0m\u001b[0;34m)\u001b[0m\u001b[0;34m\u001b[0m\u001b[0;34m\u001b[0m\u001b[0m\n\u001b[0m",
      "\u001b[0;31mStopIteration\u001b[0m: "
     ]
    }
   ],
   "source": [
    "next(lst1)"
   ]
  },
  {
   "cell_type": "markdown",
   "id": "47a19687",
   "metadata": {},
   "source": [
    "5. Another way of accessing the iterator elements is by using a loop statement, e.g. for loop.\n",
    "In for loop, StopIteration Exception is implicitly handeled. That is why, it is not throwing an error."
   ]
  },
  {
   "cell_type": "code",
   "execution_count": 5,
   "id": "dd44c506",
   "metadata": {},
   "outputs": [
    {
     "name": "stdout",
     "output_type": "stream",
     "text": [
      "1\n",
      "2\n",
      "3\n",
      "4\n",
      "5\n",
      "6\n",
      "7\n",
      "8\n",
      "9\n",
      "0\n"
     ]
    }
   ],
   "source": [
    "lst=[1,2,3,4,5,6,7,8,9,0]\n",
    "lst1 = iter(lst)\n",
    "\n",
    "for i in lst1:\n",
    "    print(i)"
   ]
  },
  {
   "cell_type": "markdown",
   "id": "8c81862c",
   "metadata": {},
   "source": [
    "# GENERATORS\n",
    "They are created because they are used to create disguised iterators itself. Basically, we perform the working of iterator, but with the generator technique. At the end, not iterator,but generator is created.\n",
    "1. To create iteration, we use **iter()** keyword.\n",
    "2. To create generator, we use **yield** keyword, along with function where yield will be in place of **return**.\n",
    "3. **yield** saves the local variable value. It also returns the local variable value.\n",
    "4. Once iterator/generator is created, we use **next()** to access the value.\n",
    "5. They helps to write fast and compact code.\n",
    "6. Performance of generators are better than iterators.\n",
    "7. Iterators are much more memory efficient.\n",
    "8. Generators are derived from iterator class itself."
   ]
  },
  {
   "cell_type": "code",
   "execution_count": 6,
   "id": "3e35fa75",
   "metadata": {},
   "outputs": [],
   "source": [
    "def square(n):\n",
    "    for i in range(n):\n",
    "        yield i**2"
   ]
  },
  {
   "cell_type": "code",
   "execution_count": 7,
   "id": "f7ebf904",
   "metadata": {},
   "outputs": [
    {
     "data": {
      "text/plain": [
       "<generator object square at 0x7f32542482e0>"
      ]
     },
     "execution_count": 7,
     "metadata": {},
     "output_type": "execute_result"
    }
   ],
   "source": [
    "square(3)"
   ]
  },
  {
   "cell_type": "code",
   "execution_count": 8,
   "id": "42016544",
   "metadata": {},
   "outputs": [
    {
     "name": "stdout",
     "output_type": "stream",
     "text": [
      "0\n",
      "1\n",
      "4\n"
     ]
    }
   ],
   "source": [
    "for i in square(3):\n",
    "    print(i)"
   ]
  },
  {
   "cell_type": "code",
   "execution_count": 9,
   "id": "b4c64f2d",
   "metadata": {},
   "outputs": [
    {
     "name": "stdout",
     "output_type": "stream",
     "text": [
      "0\n",
      "1\n",
      "4\n",
      "Itne mei itna hi milega\n"
     ]
    }
   ],
   "source": [
    "a=square(3)\n",
    "\n",
    "while True:\n",
    "    try:\n",
    "        print(next(a))\n",
    "    except StopIteration:\n",
    "        print(\"Itne mei itna hi milega\")\n",
    "        break"
   ]
  },
  {
   "cell_type": "code",
   "execution_count": 10,
   "id": "acb5ced2",
   "metadata": {},
   "outputs": [
    {
     "name": "stdout",
     "output_type": "stream",
     "text": [
      "2\n",
      "4\n",
      "6\n"
     ]
    },
    {
     "ename": "StopIteration",
     "evalue": "",
     "output_type": "error",
     "traceback": [
      "\u001b[0;31m---------------------------------------------------------------------------\u001b[0m",
      "\u001b[0;31mStopIteration\u001b[0m                             Traceback (most recent call last)",
      "\u001b[0;32m<ipython-input-10-5b7c6dd7a48a>\u001b[0m in \u001b[0;36m<module>\u001b[0;34m\u001b[0m\n\u001b[1;32m     15\u001b[0m \u001b[0mprint\u001b[0m\u001b[0;34m(\u001b[0m\u001b[0mnext\u001b[0m\u001b[0;34m(\u001b[0m\u001b[0mnum\u001b[0m\u001b[0;34m)\u001b[0m\u001b[0;34m)\u001b[0m\u001b[0;34m\u001b[0m\u001b[0;34m\u001b[0m\u001b[0m\n\u001b[1;32m     16\u001b[0m \u001b[0mprint\u001b[0m\u001b[0;34m(\u001b[0m\u001b[0mnext\u001b[0m\u001b[0;34m(\u001b[0m\u001b[0mnum\u001b[0m\u001b[0;34m)\u001b[0m\u001b[0;34m)\u001b[0m\u001b[0;34m\u001b[0m\u001b[0;34m\u001b[0m\u001b[0m\n\u001b[0;32m---> 17\u001b[0;31m \u001b[0mprint\u001b[0m\u001b[0;34m(\u001b[0m\u001b[0mnext\u001b[0m\u001b[0;34m(\u001b[0m\u001b[0mnum\u001b[0m\u001b[0;34m)\u001b[0m\u001b[0;34m)\u001b[0m\u001b[0;34m\u001b[0m\u001b[0;34m\u001b[0m\u001b[0m\n\u001b[0m",
      "\u001b[0;31mStopIteration\u001b[0m: "
     ]
    }
   ],
   "source": [
    "def even_gen():\n",
    "    n=0\n",
    "    \n",
    "    n+=2\n",
    "    yield n\n",
    "    \n",
    "    n+=2\n",
    "    yield n\n",
    "    \n",
    "    n+=2\n",
    "    yield n\n",
    "    \n",
    "num = even_gen()\n",
    "print(next(num))\n",
    "print(next(num))\n",
    "print(next(num))\n",
    "print(next(num))"
   ]
  },
  {
   "cell_type": "code",
   "execution_count": 11,
   "id": "322c5ca9",
   "metadata": {},
   "outputs": [
    {
     "name": "stdout",
     "output_type": "stream",
     "text": [
      "0\n",
      "1\n",
      "1\n",
      "2\n",
      "3\n",
      "5\n",
      "8\n"
     ]
    }
   ],
   "source": [
    "def fibo():\n",
    "    n1=0\n",
    "    n2=1\n",
    "    while True:\n",
    "        yield n1\n",
    "        n1,n2=n2,n1+n2\n",
    "        \n",
    "seq=fibo()\n",
    "\n",
    "print(next(seq))\n",
    "print(next(seq))\n",
    "print(next(seq))\n",
    "print(next(seq))\n",
    "print(next(seq))\n",
    "print(next(seq))\n",
    "print(next(seq))\n",
    "# as many number of times because we are using generators, and the StopIteration exception is not present hee like in iterators, if generators are handled wisely and smartly"
   ]
  },
  {
   "cell_type": "code",
   "execution_count": 12,
   "id": "46a2f7f9",
   "metadata": {},
   "outputs": [
    {
     "name": "stderr",
     "output_type": "stream",
     "text": [
      "<ipython-input-12-774d58af0d44>:3: DeprecationWarning: Using or importing the ABCs from 'collections' instead of from 'collections.abc' is deprecated since Python 3.3, and in 3.9 it will stop working\n",
      "  issubclass(types.GeneratorType, collections.Iterator)\n"
     ]
    },
    {
     "data": {
      "text/plain": [
       "True"
      ]
     },
     "execution_count": 12,
     "metadata": {},
     "output_type": "execute_result"
    }
   ],
   "source": [
    "import types, collections\n",
    "\n",
    "issubclass(types.GeneratorType, collections.Iterator)"
   ]
  }
 ],
 "metadata": {
  "kernelspec": {
   "display_name": "Python 3.8.5 64-bit ('base': conda)",
   "language": "python",
   "name": "python385jvsc74a57bd0a6570200391abd47b22bafa3ab36aba8327b6bca09374d4d4cb5f21cfca217ce"
  },
  "language_info": {
   "codemirror_mode": {
    "name": "ipython",
    "version": 3
   },
   "file_extension": ".py",
   "mimetype": "text/x-python",
   "name": "python",
   "nbconvert_exporter": "python",
   "pygments_lexer": "ipython3",
   "version": "3.8.5"
  },
  "metadata": {
   "interpreter": {
    "hash": "a6570200391abd47b22bafa3ab36aba8327b6bca09374d4d4cb5f21cfca217ce"
   }
  }
 },
 "nbformat": 4,
 "nbformat_minor": 5
}
