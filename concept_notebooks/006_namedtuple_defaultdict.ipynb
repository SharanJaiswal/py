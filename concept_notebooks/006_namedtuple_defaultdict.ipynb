{
 "cells": [
  {
   "cell_type": "code",
   "execution_count": 3,
   "metadata": {},
   "outputs": [],
   "source": [
    "import collections"
   ]
  },
  {
   "cell_type": "code",
   "execution_count": 4,
   "metadata": {},
   "outputs": [
    {
     "data": {
      "text/plain": [
       "__main__.Scienctist"
      ]
     },
     "execution_count": 4,
     "metadata": {},
     "output_type": "execute_result"
    }
   ],
   "source": [
    "Scientists = collections.namedtuple('Scienctist', ['name', 'field', 'born', 'nobel'])\n",
    "Scientists"
   ]
  },
  {
   "cell_type": "code",
   "execution_count": 5,
   "metadata": {},
   "outputs": [
    {
     "data": {
      "text/plain": [
       "['__add__',\n",
       " '__class__',\n",
       " '__class_getitem__',\n",
       " '__contains__',\n",
       " '__delattr__',\n",
       " '__dir__',\n",
       " '__doc__',\n",
       " '__eq__',\n",
       " '__format__',\n",
       " '__ge__',\n",
       " '__getattribute__',\n",
       " '__getitem__',\n",
       " '__getnewargs__',\n",
       " '__gt__',\n",
       " '__hash__',\n",
       " '__init__',\n",
       " '__init_subclass__',\n",
       " '__iter__',\n",
       " '__le__',\n",
       " '__len__',\n",
       " '__lt__',\n",
       " '__module__',\n",
       " '__mul__',\n",
       " '__ne__',\n",
       " '__new__',\n",
       " '__reduce__',\n",
       " '__reduce_ex__',\n",
       " '__repr__',\n",
       " '__rmul__',\n",
       " '__setattr__',\n",
       " '__sizeof__',\n",
       " '__slots__',\n",
       " '__str__',\n",
       " '__subclasshook__',\n",
       " '_asdict',\n",
       " '_field_defaults',\n",
       " '_fields',\n",
       " '_make',\n",
       " '_replace',\n",
       " 'born',\n",
       " 'count',\n",
       " 'field',\n",
       " 'index',\n",
       " 'name',\n",
       " 'nobel']"
      ]
     },
     "execution_count": 5,
     "metadata": {},
     "output_type": "execute_result"
    }
   ],
   "source": [
    "dir(Scientists)"
   ]
  },
  {
   "cell_type": "code",
   "execution_count": 6,
   "metadata": {},
   "outputs": [
    {
     "data": {
      "text/plain": [
       "Scienctist(name='Ada Lovelace', field='math', born=1815, nobel=False)"
      ]
     },
     "execution_count": 6,
     "metadata": {},
     "output_type": "execute_result"
    }
   ],
   "source": [
    "Scientists(name='Ada Lovelace', field='math', born=1815, nobel=False)"
   ]
  },
  {
   "cell_type": "code",
   "execution_count": 7,
   "metadata": {},
   "outputs": [
    {
     "data": {
      "text/plain": [
       "'Ada Lovelace'"
      ]
     },
     "execution_count": 7,
     "metadata": {},
     "output_type": "execute_result"
    }
   ],
   "source": [
    "ada = Scientists(name='Ada Lovelace', field='math', born=1815, nobel=False)\n",
    "ada.name"
   ]
  },
  {
   "cell_type": "code",
   "execution_count": 8,
   "metadata": {},
   "outputs": [
    {
     "ename": "AttributeError",
     "evalue": "can't set attribute",
     "output_type": "error",
     "traceback": [
      "\u001b[0;31m---------------------------------------------------------------------------\u001b[0m",
      "\u001b[0;31mAttributeError\u001b[0m                            Traceback (most recent call last)",
      "\u001b[0;32m/tmp/ipykernel_4889/1187945217.py\u001b[0m in \u001b[0;36m<module>\u001b[0;34m\u001b[0m\n\u001b[1;32m      1\u001b[0m \u001b[0;31m# namedtuples are immutable\u001b[0m\u001b[0;34m\u001b[0m\u001b[0;34m\u001b[0m\u001b[0;34m\u001b[0m\u001b[0m\n\u001b[0;32m----> 2\u001b[0;31m \u001b[0mada\u001b[0m\u001b[0;34m.\u001b[0m\u001b[0mname\u001b[0m \u001b[0;34m=\u001b[0m \u001b[0;34m'Sharan'\u001b[0m\u001b[0;34m\u001b[0m\u001b[0;34m\u001b[0m\u001b[0m\n\u001b[0m",
      "\u001b[0;31mAttributeError\u001b[0m: can't set attribute"
     ]
    }
   ],
   "source": [
    "# namedtuples are immutable\n",
    "ada.name = 'Sharan'"
   ]
  },
  {
   "cell_type": "code",
   "execution_count": 9,
   "metadata": {},
   "outputs": [
    {
     "data": {
      "text/plain": [
       "Scienctist(name='Sharan', field='math', born=1815, nobel=False)"
      ]
     },
     "execution_count": 9,
     "metadata": {},
     "output_type": "execute_result"
    }
   ],
   "source": [
    "ada._replace(name='Sharan')"
   ]
  },
  {
   "cell_type": "code",
   "execution_count": 10,
   "metadata": {},
   "outputs": [
    {
     "name": "stdout",
     "output_type": "stream",
     "text": [
      "Scienctist(name='Ada Lovelace', field='math', born=1815, nobel=False)\n",
      "Scienctist(name='Sharan', field='math', born=1815, nobel=False)\n"
     ]
    }
   ],
   "source": [
    "print(ada)\n",
    "ada1=ada._replace(name='Sharan')\n",
    "print(ada1)"
   ]
  },
  {
   "cell_type": "code",
   "execution_count": 11,
   "metadata": {},
   "outputs": [
    {
     "name": "stdout",
     "output_type": "stream",
     "text": [
      "Ada Lovelace\n",
      "Emmy Noether\n"
     ]
    },
    {
     "ename": "AttributeError",
     "evalue": "can't set attribute",
     "output_type": "error",
     "traceback": [
      "\u001b[0;31m---------------------------------------------------------------------------\u001b[0m",
      "\u001b[0;31mAttributeError\u001b[0m                            Traceback (most recent call last)",
      "\u001b[0;32m/tmp/ipykernel_4889/3828612046.py\u001b[0m in \u001b[0;36m<module>\u001b[0;34m\u001b[0m\n\u001b[1;32m      7\u001b[0m \u001b[0;32mdel\u001b[0m \u001b[0mprof_list\u001b[0m\u001b[0;34m[\u001b[0m\u001b[0;36m0\u001b[0m\u001b[0;34m]\u001b[0m    \u001b[0;31m# mutable list\u001b[0m\u001b[0;34m\u001b[0m\u001b[0;34m\u001b[0m\u001b[0m\n\u001b[1;32m      8\u001b[0m \u001b[0mprint\u001b[0m\u001b[0;34m(\u001b[0m\u001b[0mprof_list\u001b[0m\u001b[0;34m[\u001b[0m\u001b[0;36m0\u001b[0m\u001b[0;34m]\u001b[0m\u001b[0;34m.\u001b[0m\u001b[0mname\u001b[0m\u001b[0;34m)\u001b[0m\u001b[0;34m\u001b[0m\u001b[0;34m\u001b[0m\u001b[0m\n\u001b[0;32m----> 9\u001b[0;31m \u001b[0mprof_list\u001b[0m\u001b[0;34m[\u001b[0m\u001b[0;36m0\u001b[0m\u001b[0;34m]\u001b[0m\u001b[0;34m.\u001b[0m\u001b[0mname\u001b[0m \u001b[0;34m=\u001b[0m \u001b[0;34m'Sharan'\u001b[0m    \u001b[0;31m# still immutable namedtuple\u001b[0m\u001b[0;34m\u001b[0m\u001b[0;34m\u001b[0m\u001b[0m\n\u001b[0m",
      "\u001b[0;31mAttributeError\u001b[0m: can't set attribute"
     ]
    }
   ],
   "source": [
    "prof_list = [\n",
    "    Scientists(name='Ada Lovelace', field='math', born=1815, nobel=False),\n",
    "    Scientists(name='Emmy Noether', field='math', born=1882, nobel=False)\n",
    "    ]\n",
    "\n",
    "print(prof_list[0].name)\n",
    "del prof_list[0]    # mutable list\n",
    "print(prof_list[0].name)\n",
    "prof_list[0].name = 'Sharan'    # still immutable namedtuple"
   ]
  },
  {
   "cell_type": "code",
   "execution_count": 13,
   "metadata": {},
   "outputs": [
    {
     "name": "stdout",
     "output_type": "stream",
     "text": [
      "Ada Lovelace\n"
     ]
    },
    {
     "ename": "TypeError",
     "evalue": "'Scienctist' object does not support item assignment",
     "output_type": "error",
     "traceback": [
      "\u001b[0;31m---------------------------------------------------------------------------\u001b[0m",
      "\u001b[0;31mTypeError\u001b[0m                                 Traceback (most recent call last)",
      "\u001b[0;32m/tmp/ipykernel_4889/2608241466.py\u001b[0m in \u001b[0;36m<module>\u001b[0;34m\u001b[0m\n\u001b[1;32m      6\u001b[0m \u001b[0mprint\u001b[0m\u001b[0;34m(\u001b[0m\u001b[0mprof_list\u001b[0m\u001b[0;34m[\u001b[0m\u001b[0;36m0\u001b[0m\u001b[0;34m]\u001b[0m\u001b[0;34m[\u001b[0m\u001b[0;36m0\u001b[0m\u001b[0;34m]\u001b[0m\u001b[0;34m)\u001b[0m\u001b[0;34m\u001b[0m\u001b[0;34m\u001b[0m\u001b[0m\n\u001b[1;32m      7\u001b[0m \u001b[0;31m# del prof_list[0]    # immutable tuple\u001b[0m\u001b[0;34m\u001b[0m\u001b[0;34m\u001b[0m\u001b[0;34m\u001b[0m\u001b[0m\n\u001b[0;32m----> 8\u001b[0;31m \u001b[0mprof_list\u001b[0m\u001b[0;34m[\u001b[0m\u001b[0;36m0\u001b[0m\u001b[0;34m]\u001b[0m\u001b[0;34m[\u001b[0m\u001b[0;36m0\u001b[0m\u001b[0;34m]\u001b[0m \u001b[0;34m=\u001b[0m \u001b[0;34m'Sharan'\u001b[0m    \u001b[0;31m# iimutable tuple\u001b[0m\u001b[0;34m\u001b[0m\u001b[0;34m\u001b[0m\u001b[0m\n\u001b[0m",
      "\u001b[0;31mTypeError\u001b[0m: 'Scienctist' object does not support item assignment"
     ]
    }
   ],
   "source": [
    "prof_list = (\n",
    "    Scientists(name='Ada Lovelace', field='math', born=1815, nobel=False),\n",
    "    Scientists(name='Emmy Noether', field='math', born=1882, nobel=False)\n",
    "    )\n",
    "# named tuple supports indexing also, but still doesnt allow the direct change of the value of its members\n",
    "print(prof_list[0][0])         # name\n",
    "# del prof_list[0]             # immutable tuple\n",
    "prof_list[0][0] = 'Sharan'     # immutable tuple"
   ]
  },
  {
   "cell_type": "code",
   "execution_count": 12,
   "metadata": {},
   "outputs": [
    {
     "data": {
      "text/plain": [
       "({'name': 'Ada Lovelace', 'age': 206}, {'name': 'Emmy Noether', 'age': 139})"
      ]
     },
     "execution_count": 12,
     "metadata": {},
     "output_type": "execute_result"
    }
   ],
   "source": [
    "names_and_ages = tuple(map(lambda x : {'name': x.name, 'age': 2021-x.born}, prof_list))\n",
    "names_and_ages\n",
    "\n",
    "# This could be acheived in more pythonic eay by using tuple comprehension"
   ]
  },
  {
   "cell_type": "code",
   "execution_count": 13,
   "metadata": {},
   "outputs": [
    {
     "data": {
      "text/plain": [
       "{'math': ['Ada Lovelace'],\n",
       " 'physics': ['Noether', 'Emmy'],\n",
       " 'chemistry': ['Emmy Noether'],\n",
       " 'astronomy': []}"
      ]
     },
     "execution_count": 13,
     "metadata": {},
     "output_type": "execute_result"
    }
   ],
   "source": [
    "prof_list = (\n",
    "    Scientists(name='Ada Lovelace', field='math', born=1815, nobel=False),\n",
    "    Scientists(name='Emmy Noether', field='chemistry', born=1882, nobel=False),\n",
    "    Scientists(name='Noether', field='physics', born=1882, nobel=False),\n",
    "    Scientists(name='Emmy', field='physics', born=1882, nobel=False)\n",
    "    )\n",
    "\n",
    "def reducer(acc, ele):\n",
    "    acc[ele.field].append(ele.name)\n",
    "    return acc\n",
    "\n",
    "from functools import reduce\n",
    "reduce(\n",
    "    reducer,\n",
    "    prof_list,\n",
    "    {'math': [], 'physics': [], 'chemistry': [], 'astronomy': []}\n",
    ")"
   ]
  },
  {
   "cell_type": "code",
   "execution_count": 17,
   "metadata": {},
   "outputs": [
    {
     "name": "stdout",
     "output_type": "stream",
     "text": [
      "defaultdict(<class 'list'>, {'math': ['Ada Lovelace'], 'chemistry': ['Emmy Noether'], 'physics': ['Noether', 'Emmy']})\n"
     ]
    }
   ],
   "source": [
    "import collections\n",
    "from functools import reduce\n",
    "scientists_by_field = reduce(\n",
    "    reducer,\n",
    "    prof_list,\n",
    "    collections.defaultdict(list)\n",
    ")\n",
    "print(scientists_by_field)"
   ]
  },
  {
   "cell_type": "code",
   "execution_count": 27,
   "metadata": {},
   "outputs": [
    {
     "data": {
      "text/plain": [
       "{'math': ['Ada Lovelace'],\n",
       " 'physics': ['Noether', 'Emmy'],\n",
       " 'chemistry': ['Emmy Noether'],\n",
       " 'astronomy': []}"
      ]
     },
     "execution_count": 27,
     "metadata": {},
     "output_type": "execute_result"
    }
   ],
   "source": [
    "# Not efficient\n",
    "import functools\n",
    "scientists_by_field = functools.reduce(\n",
    "    lambda acc, val: {**acc, **{val.field: acc[val.field] + [val.name]}},\n",
    "    prof_list,\n",
    "    {'math': [], 'physics': [], 'chemistry': [], 'astronomy': []}\n",
    ")\n",
    "scientists_by_field"
   ]
  },
  {
   "cell_type": "code",
   "execution_count": 19,
   "metadata": {},
   "outputs": [
    {
     "data": {
      "text/plain": [
       "{'math': ['Ada Lovelace'],\n",
       " 'physics': ['Noether', 'Emmy'],\n",
       " 'chemistry': ['Emmy Noether'],\n",
       " 'astronomy': []}"
      ]
     },
     "execution_count": 19,
     "metadata": {},
     "output_type": "execute_result"
    }
   ],
   "source": [
    "prof_list = (\n",
    "    Scientists(name='Ada Lovelace', field='math', born=1815, nobel=False),\n",
    "    Scientists(name='Emmy Noether', field='chemistry', born=1882, nobel=False),\n",
    "    Scientists(name='Noether', field='physics', born=1882, nobel=False),\n",
    "    Scientists(name='Emmy', field='physics', born=1882, nobel=False)\n",
    "    )\n",
    "\n",
    "from functools import reduce\n",
    "reduce(\n",
    "    # reduce(lambda acc, val: (acc[val.field].append(val.name), acc)[1], prof_list, defaultdict(list))  # bettergeneric\n",
    "    lambda acc, sci: (acc[sci.field].append(sci.name), acc)[1],\n",
    "    prof_list,\n",
    "    {'math': [], 'physics': [], 'chemistry': [], 'astronomy': []}\n",
    ")"
   ]
  },
  {
   "cell_type": "markdown",
   "metadata": {},
   "source": [
    "# DEFAULTDICT\n",
    "Unlike the normal dictionary which raises KeyError, default dict returns the default value if we provide it. The default value is provided with the help of return value of function"
   ]
  },
  {
   "cell_type": "code",
   "execution_count": 18,
   "metadata": {},
   "outputs": [
    {
     "name": "stdout",
     "output_type": "stream",
     "text": [
      "1\n",
      "2\n",
      "Not Present\n"
     ]
    }
   ],
   "source": [
    "from collections import defaultdict\n",
    "\n",
    "def def_value():    # default factory can be 'list', 'int', etc.\n",
    "    return 'Not Present'\n",
    "\n",
    "d = defaultdict(def_value)\n",
    "d['a'] = 1\n",
    "d['b'] = 2\n",
    "\n",
    "print(d['a'])\n",
    "print(d['b'])\n",
    "print(d['c'])\n",
    "# Whats happening here is that everytime when we are trying to access the key, the key is created with the default value of the dafault_factory fucntions return value"
   ]
  },
  {
   "cell_type": "code",
   "execution_count": 22,
   "metadata": {},
   "outputs": [
    {
     "name": "stdout",
     "output_type": "stream",
     "text": [
      "<itertools.groupby object at 0x7fb7a7691450>\n",
      "{'Animal': [('Animal', 'cat'), ('Animal', 'dog')]}\n",
      "{'Bird': [('Bird', 'peacock'), ('Bird', 'pigeon')]}\n"
     ]
    }
   ],
   "source": [
    "import itertools\n",
    "\n",
    "a_list = [(\"Animal\", \"cat\"), \n",
    "          (\"Animal\", \"dog\"), \n",
    "          (\"Bird\", \"peacock\"), \n",
    "          (\"Bird\", \"pigeon\")]\n",
    "  \n",
    "an_iterator = itertools.groupby(a_list, lambda x : x[0])\n",
    "\n",
    "print(an_iterator)\n",
    "\n",
    "for key, group in an_iterator:\n",
    "    key_and_group = {key : list(group)}\n",
    "    print(key_and_group)"
   ]
  },
  {
   "cell_type": "code",
   "execution_count": 25,
   "metadata": {},
   "outputs": [
    {
     "data": {
      "text/plain": [
       "{'math': [Scienctist(name='Ada Lovelace', field='math', born=1815, nobel=False)],\n",
       " 'chemistry': [Scienctist(name='Emmy Noether', field='chemistry', born=1882, nobel=False)],\n",
       " 'physics': [Scienctist(name='Noether', field='physics', born=1882, nobel=False),\n",
       "  Scienctist(name='Emmy', field='physics', born=1882, nobel=False)]}"
      ]
     },
     "execution_count": 25,
     "metadata": {},
     "output_type": "execute_result"
    }
   ],
   "source": [
    "scientists_by_field = {\n",
    "    item[0]: list(item[1])\n",
    "    for item in itertools.groupby(prof_list, lambda x: x.field)\n",
    "}\n",
    "scientists_by_field"
   ]
  }
 ],
 "metadata": {
  "interpreter": {
   "hash": "a6570200391abd47b22bafa3ab36aba8327b6bca09374d4d4cb5f21cfca217ce"
  },
  "kernelspec": {
   "display_name": "Python 3 (ipykernel)",
   "language": "python",
   "name": "python3"
  },
  "language_info": {
   "codemirror_mode": {
    "name": "ipython",
    "version": 3
   },
   "file_extension": ".py",
   "mimetype": "text/x-python",
   "name": "python",
   "nbconvert_exporter": "python",
   "pygments_lexer": "ipython3",
   "version": "3.9.5"
  }
 },
 "nbformat": 4,
 "nbformat_minor": 2
}
