{
 "cells": [
  {
   "cell_type": "code",
   "execution_count": 5,
   "source": [
    "import collections"
   ],
   "outputs": [],
   "metadata": {}
  },
  {
   "cell_type": "code",
   "execution_count": 6,
   "source": [
    "Scientists = collections.namedtuple('Scienctist', ['name', 'field', 'born', 'nobel'])\n",
    "Scientists"
   ],
   "outputs": [
    {
     "output_type": "execute_result",
     "data": {
      "text/plain": [
       "__main__.Scienctist"
      ]
     },
     "metadata": {},
     "execution_count": 6
    }
   ],
   "metadata": {}
  },
  {
   "cell_type": "code",
   "execution_count": 7,
   "source": [
    "Scientists(name='Ada Lovelace', field='math', born=1815, nobel=False)"
   ],
   "outputs": [
    {
     "output_type": "execute_result",
     "data": {
      "text/plain": [
       "Scienctist(name='Ada Lovelace', field='math', born=1815, nobel=False)"
      ]
     },
     "metadata": {},
     "execution_count": 7
    }
   ],
   "metadata": {}
  },
  {
   "cell_type": "code",
   "execution_count": 8,
   "source": [
    "ada = Scientists(name='Ada Lovelace', field='math', born=1815, nobel=False)\n",
    "ada.name"
   ],
   "outputs": [
    {
     "output_type": "execute_result",
     "data": {
      "text/plain": [
       "'Ada Lovelace'"
      ]
     },
     "metadata": {},
     "execution_count": 8
    }
   ],
   "metadata": {}
  },
  {
   "cell_type": "code",
   "execution_count": 9,
   "source": [
    "# namedtuples are immutable\n",
    "ada.name = 'Sharan'"
   ],
   "outputs": [
    {
     "output_type": "error",
     "ename": "AttributeError",
     "evalue": "can't set attribute",
     "traceback": [
      "\u001b[0;31m---------------------------------------------------------------------------\u001b[0m",
      "\u001b[0;31mAttributeError\u001b[0m                            Traceback (most recent call last)",
      "\u001b[0;32m/tmp/ipykernel_10401/1187945217.py\u001b[0m in \u001b[0;36m<module>\u001b[0;34m\u001b[0m\n\u001b[1;32m      1\u001b[0m \u001b[0;31m# namedtuples are immutable\u001b[0m\u001b[0;34m\u001b[0m\u001b[0;34m\u001b[0m\u001b[0;34m\u001b[0m\u001b[0m\n\u001b[0;32m----> 2\u001b[0;31m \u001b[0mada\u001b[0m\u001b[0;34m.\u001b[0m\u001b[0mname\u001b[0m \u001b[0;34m=\u001b[0m \u001b[0;34m'Sharan'\u001b[0m\u001b[0;34m\u001b[0m\u001b[0;34m\u001b[0m\u001b[0m\n\u001b[0m",
      "\u001b[0;31mAttributeError\u001b[0m: can't set attribute"
     ]
    }
   ],
   "metadata": {}
  },
  {
   "cell_type": "code",
   "execution_count": 10,
   "source": [
    "prof_list = [\n",
    "    Scientists(name='Ada Lovelace', field='math', born=1815, nobel=False),\n",
    "    Scientists(name='Emmy Noether', field='math', born=1882, nobel=False)\n",
    "    ]\n",
    "\n",
    "print(prof_list[0].name)\n",
    "del prof_list[0]    # mutable list\n",
    "prof_list[0].name = 'Sharan'    # still immutable namedtuple"
   ],
   "outputs": [
    {
     "output_type": "stream",
     "name": "stdout",
     "text": [
      "Ada Lovelace\n"
     ]
    },
    {
     "output_type": "error",
     "ename": "AttributeError",
     "evalue": "can't set attribute",
     "traceback": [
      "\u001b[0;31m---------------------------------------------------------------------------\u001b[0m",
      "\u001b[0;31mAttributeError\u001b[0m                            Traceback (most recent call last)",
      "\u001b[0;32m/tmp/ipykernel_10401/1459710711.py\u001b[0m in \u001b[0;36m<module>\u001b[0;34m\u001b[0m\n\u001b[1;32m      6\u001b[0m \u001b[0mprint\u001b[0m\u001b[0;34m(\u001b[0m\u001b[0mprof_list\u001b[0m\u001b[0;34m[\u001b[0m\u001b[0;36m0\u001b[0m\u001b[0;34m]\u001b[0m\u001b[0;34m.\u001b[0m\u001b[0mname\u001b[0m\u001b[0;34m)\u001b[0m\u001b[0;34m\u001b[0m\u001b[0;34m\u001b[0m\u001b[0m\n\u001b[1;32m      7\u001b[0m \u001b[0;32mdel\u001b[0m \u001b[0mprof_list\u001b[0m\u001b[0;34m[\u001b[0m\u001b[0;36m0\u001b[0m\u001b[0;34m]\u001b[0m    \u001b[0;31m# mutable list\u001b[0m\u001b[0;34m\u001b[0m\u001b[0;34m\u001b[0m\u001b[0m\n\u001b[0;32m----> 8\u001b[0;31m \u001b[0mprof_list\u001b[0m\u001b[0;34m[\u001b[0m\u001b[0;36m0\u001b[0m\u001b[0;34m]\u001b[0m\u001b[0;34m.\u001b[0m\u001b[0mname\u001b[0m \u001b[0;34m=\u001b[0m \u001b[0;34m'Sharan'\u001b[0m    \u001b[0;31m# still immutable namedtuple\u001b[0m\u001b[0;34m\u001b[0m\u001b[0;34m\u001b[0m\u001b[0m\n\u001b[0m",
      "\u001b[0;31mAttributeError\u001b[0m: can't set attribute"
     ]
    }
   ],
   "metadata": {}
  },
  {
   "cell_type": "code",
   "execution_count": 11,
   "source": [
    "prof_list = (\n",
    "    Scientists(name='Ada Lovelace', field='math', born=1815, nobel=False),\n",
    "    Scientists(name='Emmy Noether', field='math', born=1882, nobel=False)\n",
    "    )\n",
    "\n",
    "print(prof_list[0].name)\n",
    "# del prof_list[0]    # immutable tuple\n",
    "prof_list[0].name = 'Sharan'    # iimutable tuple"
   ],
   "outputs": [
    {
     "output_type": "stream",
     "name": "stdout",
     "text": [
      "Ada Lovelace\n"
     ]
    },
    {
     "output_type": "error",
     "ename": "AttributeError",
     "evalue": "can't set attribute",
     "traceback": [
      "\u001b[0;31m---------------------------------------------------------------------------\u001b[0m",
      "\u001b[0;31mAttributeError\u001b[0m                            Traceback (most recent call last)",
      "\u001b[0;32m/tmp/ipykernel_10401/3992085209.py\u001b[0m in \u001b[0;36m<module>\u001b[0;34m\u001b[0m\n\u001b[1;32m      6\u001b[0m \u001b[0mprint\u001b[0m\u001b[0;34m(\u001b[0m\u001b[0mprof_list\u001b[0m\u001b[0;34m[\u001b[0m\u001b[0;36m0\u001b[0m\u001b[0;34m]\u001b[0m\u001b[0;34m.\u001b[0m\u001b[0mname\u001b[0m\u001b[0;34m)\u001b[0m\u001b[0;34m\u001b[0m\u001b[0;34m\u001b[0m\u001b[0m\n\u001b[1;32m      7\u001b[0m \u001b[0;31m# del prof_list[0]    # immutable tuple\u001b[0m\u001b[0;34m\u001b[0m\u001b[0;34m\u001b[0m\u001b[0;34m\u001b[0m\u001b[0m\n\u001b[0;32m----> 8\u001b[0;31m \u001b[0mprof_list\u001b[0m\u001b[0;34m[\u001b[0m\u001b[0;36m0\u001b[0m\u001b[0;34m]\u001b[0m\u001b[0;34m.\u001b[0m\u001b[0mname\u001b[0m \u001b[0;34m=\u001b[0m \u001b[0;34m'Sharan'\u001b[0m    \u001b[0;31m# iimutable tuple\u001b[0m\u001b[0;34m\u001b[0m\u001b[0;34m\u001b[0m\u001b[0m\n\u001b[0m",
      "\u001b[0;31mAttributeError\u001b[0m: can't set attribute"
     ]
    }
   ],
   "metadata": {}
  },
  {
   "cell_type": "code",
   "execution_count": 12,
   "source": [
    "names_and_ages = tuple(map(lambda x : {'name': x.name, 'age': 2021-x.born}, prof_list))\n",
    "names_and_ages\n",
    "\n",
    "# This could be acheived in more pythonic eay by using tuple comprehension"
   ],
   "outputs": [
    {
     "output_type": "execute_result",
     "data": {
      "text/plain": [
       "({'name': 'Ada Lovelace', 'age': 206}, {'name': 'Emmy Noether', 'age': 139})"
      ]
     },
     "metadata": {},
     "execution_count": 12
    }
   ],
   "metadata": {}
  },
  {
   "cell_type": "code",
   "execution_count": 13,
   "source": [
    "prof_list = (\n",
    "    Scientists(name='Ada Lovelace', field='math', born=1815, nobel=False),\n",
    "    Scientists(name='Emmy Noether', field='chemistry', born=1882, nobel=False),\n",
    "    Scientists(name='Noether', field='physics', born=1882, nobel=False),\n",
    "    Scientists(name='Emmy', field='physics', born=1882, nobel=False)\n",
    "    )\n",
    "\n",
    "def reducer(acc, ele):\n",
    "    acc[ele.field].append(ele.name)\n",
    "    return acc\n",
    "\n",
    "from functools import reduce\n",
    "reduce(\n",
    "    reducer,\n",
    "    prof_list,\n",
    "    {'math': [], 'physics': [], 'chemistry': [], 'astronomy': []}\n",
    ")"
   ],
   "outputs": [
    {
     "output_type": "execute_result",
     "data": {
      "text/plain": [
       "{'math': ['Ada Lovelace'],\n",
       " 'physics': ['Noether', 'Emmy'],\n",
       " 'chemistry': ['Emmy Noether'],\n",
       " 'astronomy': []}"
      ]
     },
     "metadata": {},
     "execution_count": 13
    }
   ],
   "metadata": {}
  },
  {
   "cell_type": "code",
   "execution_count": 17,
   "source": [
    "import collections\n",
    "from functools import reduce\n",
    "scientists_by_field = reduce(\n",
    "    reducer,\n",
    "    prof_list,\n",
    "    collections.defaultdict(list)\n",
    ")\n",
    "print(scientists_by_field)"
   ],
   "outputs": [
    {
     "output_type": "stream",
     "name": "stdout",
     "text": [
      "defaultdict(<class 'list'>, {'math': ['Ada Lovelace'], 'chemistry': ['Emmy Noether'], 'physics': ['Noether', 'Emmy']})\n"
     ]
    }
   ],
   "metadata": {}
  },
  {
   "cell_type": "code",
   "execution_count": 27,
   "source": [
    "# Not efficient\n",
    "import functools\n",
    "scientists_by_field = functools.reduce(\n",
    "    lambda acc, val: {**acc, **{val.field: acc[val.field] + [val.name]}},\n",
    "    prof_list,\n",
    "    {'math': [], 'physics': [], 'chemistry': [], 'astronomy': []}\n",
    ")\n",
    "scientists_by_field"
   ],
   "outputs": [
    {
     "output_type": "execute_result",
     "data": {
      "text/plain": [
       "{'math': ['Ada Lovelace'],\n",
       " 'physics': ['Noether', 'Emmy'],\n",
       " 'chemistry': ['Emmy Noether'],\n",
       " 'astronomy': []}"
      ]
     },
     "metadata": {},
     "execution_count": 27
    }
   ],
   "metadata": {}
  },
  {
   "cell_type": "code",
   "execution_count": 19,
   "source": [
    "prof_list = (\n",
    "    Scientists(name='Ada Lovelace', field='math', born=1815, nobel=False),\n",
    "    Scientists(name='Emmy Noether', field='chemistry', born=1882, nobel=False),\n",
    "    Scientists(name='Noether', field='physics', born=1882, nobel=False),\n",
    "    Scientists(name='Emmy', field='physics', born=1882, nobel=False)\n",
    "    )\n",
    "\n",
    "from functools import reduce\n",
    "reduce(\n",
    "    # reduce(lambda acc, val: (acc[val.field].append(val.name), acc)[1], prof_list, defaultdict(list))  # bettergeneric\n",
    "    lambda acc, sci: (acc[sci.field].append(sci.name), acc)[1],\n",
    "    prof_list,\n",
    "    {'math': [], 'physics': [], 'chemistry': [], 'astronomy': []}\n",
    ")"
   ],
   "outputs": [
    {
     "output_type": "execute_result",
     "data": {
      "text/plain": [
       "{'math': ['Ada Lovelace'],\n",
       " 'physics': ['Noether', 'Emmy'],\n",
       " 'chemistry': ['Emmy Noether'],\n",
       " 'astronomy': []}"
      ]
     },
     "metadata": {},
     "execution_count": 19
    }
   ],
   "metadata": {}
  },
  {
   "cell_type": "markdown",
   "source": [
    "# DEFAULTDICT\n",
    "Unlike the normal dictionary which raises KeyError, default dict returns the default value if we provide it. The default value is provided with the help of return value of function"
   ],
   "metadata": {}
  },
  {
   "cell_type": "code",
   "execution_count": 18,
   "source": [
    "from collections import defaultdict\n",
    "\n",
    "def def_value():    # default factory can be 'list', 'int', etc.\n",
    "    return 'Not Present'\n",
    "\n",
    "d = defaultdict(def_value)\n",
    "d['a'] = 1\n",
    "d['b'] = 2\n",
    "\n",
    "print(d['a'])\n",
    "print(d['b'])\n",
    "print(d['c'])\n",
    "# Whats happening here is that everytime when we are trying to access the key, the key is created with the default value of the dafault_factory fucntions return value"
   ],
   "outputs": [
    {
     "output_type": "stream",
     "name": "stdout",
     "text": [
      "1\n",
      "2\n",
      "Not Present\n"
     ]
    }
   ],
   "metadata": {}
  },
  {
   "cell_type": "code",
   "execution_count": 22,
   "source": [
    "import itertools\n",
    "\n",
    "a_list = [(\"Animal\", \"cat\"), \n",
    "          (\"Animal\", \"dog\"), \n",
    "          (\"Bird\", \"peacock\"), \n",
    "          (\"Bird\", \"pigeon\")]\n",
    "  \n",
    "an_iterator = itertools.groupby(a_list, lambda x : x[0])\n",
    "\n",
    "print(an_iterator)\n",
    "\n",
    "for key, group in an_iterator:\n",
    "    key_and_group = {key : list(group)}\n",
    "    print(key_and_group)"
   ],
   "outputs": [
    {
     "output_type": "stream",
     "name": "stdout",
     "text": [
      "<itertools.groupby object at 0x7fb7a7691450>\n",
      "{'Animal': [('Animal', 'cat'), ('Animal', 'dog')]}\n",
      "{'Bird': [('Bird', 'peacock'), ('Bird', 'pigeon')]}\n"
     ]
    }
   ],
   "metadata": {}
  },
  {
   "cell_type": "code",
   "execution_count": 25,
   "source": [
    "scientists_by_field = {\n",
    "    item[0]: list(item[1])\n",
    "    for item in itertools.groupby(prof_list, lambda x: x.field)\n",
    "}\n",
    "scientists_by_field"
   ],
   "outputs": [
    {
     "output_type": "execute_result",
     "data": {
      "text/plain": [
       "{'math': [Scienctist(name='Ada Lovelace', field='math', born=1815, nobel=False)],\n",
       " 'chemistry': [Scienctist(name='Emmy Noether', field='chemistry', born=1882, nobel=False)],\n",
       " 'physics': [Scienctist(name='Noether', field='physics', born=1882, nobel=False),\n",
       "  Scienctist(name='Emmy', field='physics', born=1882, nobel=False)]}"
      ]
     },
     "metadata": {},
     "execution_count": 25
    }
   ],
   "metadata": {}
  }
 ],
 "metadata": {
  "orig_nbformat": 4,
  "language_info": {
   "name": "python",
   "version": "3.9.5",
   "mimetype": "text/x-python",
   "codemirror_mode": {
    "name": "ipython",
    "version": 3
   },
   "pygments_lexer": "ipython3",
   "nbconvert_exporter": "python",
   "file_extension": ".py"
  },
  "kernelspec": {
   "name": "python3",
   "display_name": "Python 3.9.5 64-bit ('base': conda)"
  },
  "interpreter": {
   "hash": "a6570200391abd47b22bafa3ab36aba8327b6bca09374d4d4cb5f21cfca217ce"
  }
 },
 "nbformat": 4,
 "nbformat_minor": 2
}