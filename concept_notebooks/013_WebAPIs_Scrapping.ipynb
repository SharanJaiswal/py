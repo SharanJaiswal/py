{
 "cells": [
  {
   "cell_type": "code",
   "execution_count": null,
   "id": "e1092f7f",
   "metadata": {},
   "outputs": [],
   "source": [
    "import requests # pyhton package that makes web requests easy"
   ]
  },
  {
   "cell_type": "code",
   "execution_count": null,
   "id": "f4b670a2",
   "metadata": {},
   "outputs": [],
   "source": [
    "# there are various types of requests that we can make. One of them is \".get() request\"\n",
    "response = requests.get('https://google.com')"
   ]
  },
  {
   "cell_type": "code",
   "execution_count": null,
   "id": "4042a8f3",
   "metadata": {},
   "outputs": [],
   "source": [
    "# 200 : good OK\n",
    "# 300 : redirected\n",
    "# 400 : problem with the request\n",
    "# 500 : problems with the server\n",
    "print(response.status_code)\n",
    "print(response.reason)"
   ]
  },
  {
   "cell_type": "code",
   "execution_count": null,
   "id": "3a845e61",
   "metadata": {},
   "outputs": [],
   "source": [
    "response1 = requests.get('https://python.org/about/app')\n",
    "print(response1.status_code)\n",
    "print(response1.reason)"
   ]
  },
  {
   "cell_type": "code",
   "execution_count": null,
   "id": "7e62d664",
   "metadata": {},
   "outputs": [],
   "source": [
    "response.content # we get the strings of bytes, This is HTML"
   ]
  },
  {
   "cell_type": "code",
   "execution_count": null,
   "id": "b289aed9",
   "metadata": {},
   "outputs": [],
   "source": [
    "# URL is in two parts:\n",
    "# Base URL : 'https://www.google.com/search'\n",
    "# query string : (The part after the '?')\n",
    "url = 'https://www.google.com/search?q=python&source=hp&ei=jdMfYYGeHYq9mAWLpbeQAQ&iflsig=AINFCbYAAAAAYR_hneWvEItyErGfWAt_29sS1T_PC8kG&oq=pyhto&gs_lcp=Cgdnd3Mtd2l6EAMYADIHCAAQsQMQCjIHCAAQsQMQCjIHCAAQsQMQCjIHCAAQsQMQCjIHCAAQsQMQCjIHCAAQsQMQCjIHCAAQsQMQCjIHCAAQsQMQCjIHCC4QsQMQCjIHCAAQsQMQCjoOCAAQ6gIQjwEQjAMQ5QI6DgguEOoCEI8BEIwDEOUCOgsIABCABBCxAxCDAToICAAQgAQQsQM6BQguEIAEOgUIABCABDoICC4QgAQQsQM6BwgAEIAEEApQ5RxYpiRgly9oAXAAeACAAYoBiAGPBZIBAzAuNZgBAKABAbABCg&sclient=gws-wiz'"
   ]
  },
  {
   "cell_type": "code",
   "execution_count": null,
   "id": "346c71d4",
   "metadata": {},
   "outputs": [],
   "source": [
    "response = requests.get(url)"
   ]
  },
  {
   "cell_type": "code",
   "execution_count": null,
   "id": "f92e2512",
   "metadata": {},
   "outputs": [],
   "source": [
    "response.content"
   ]
  },
  {
   "cell_type": "code",
   "execution_count": null,
   "id": "110e64da",
   "metadata": {},
   "outputs": [],
   "source": [
    "url_base = 'https://dog-facts-api.herokuapp.com/api/v1/resources/dogs'\n",
    "response = requests.get(url_base + '?number=2')"
   ]
  },
  {
   "cell_type": "code",
   "execution_count": null,
   "id": "3048f25f",
   "metadata": {
    "scrolled": true
   },
   "outputs": [],
   "source": [
    "response.status_code"
   ]
  },
  {
   "cell_type": "code",
   "execution_count": null,
   "id": "055a91f4",
   "metadata": {},
   "outputs": [],
   "source": [
    "response.reason"
   ]
  },
  {
   "cell_type": "code",
   "execution_count": null,
   "id": "7f1e64e4",
   "metadata": {},
   "outputs": [],
   "source": [
    "response.content"
   ]
  },
  {
   "cell_type": "code",
   "execution_count": null,
   "id": "c42e18b9",
   "metadata": {},
   "outputs": [],
   "source": [
    "# This is a JSON string and not a python dictionary.\n",
    "# We can decode this JSON string into python object like dictionary\n",
    "response.text"
   ]
  },
  {
   "cell_type": "code",
   "execution_count": null,
   "id": "dccfd000",
   "metadata": {},
   "outputs": [],
   "source": [
    "import json\n",
    "\n",
    "# Loads that JSON string to be a Pyhton object\n",
    "data = json.loads(response.text)"
   ]
  },
  {
   "cell_type": "code",
   "execution_count": null,
   "id": "a1e0d6fd",
   "metadata": {
    "scrolled": true
   },
   "outputs": [],
   "source": [
    "data"
   ]
  },
  {
   "cell_type": "code",
   "execution_count": null,
   "id": "e7457b5e",
   "metadata": {},
   "outputs": [],
   "source": [
    "print(type(data))\n",
    "print(type(data[0]))"
   ]
  },
  {
   "cell_type": "code",
   "execution_count": null,
   "id": "7499baae",
   "metadata": {},
   "outputs": [],
   "source": [
    "data[0]['fact']"
   ]
  },
  {
   "cell_type": "code",
   "execution_count": null,
   "id": "4f6e10f3",
   "metadata": {},
   "outputs": [],
   "source": [
    "# Shorthand method:\n",
    "# If the response is in the form of the JSON, we can convert it to a Pyhton object using .json()\n",
    "# No need to do import json\n",
    "data = response.json()\n",
    "data"
   ]
  },
  {
   "cell_type": "code",
   "execution_count": null,
   "id": "92bb5956",
   "metadata": {},
   "outputs": [],
   "source": [
    "url_base = 'https://dog-facts-api.herokuapp.com/api/v1/resources/dogs' # before '?'\n",
    "params = {'number' : 3} # after '?' in the form of dictionary\n",
    "response = requests.get(url_base, params=params)"
   ]
  },
  {
   "cell_type": "code",
   "execution_count": null,
   "id": "d20ab53b",
   "metadata": {},
   "outputs": [],
   "source": [
    "response.url"
   ]
  },
  {
   "cell_type": "code",
   "execution_count": null,
   "id": "0137e74c",
   "metadata": {},
   "outputs": [],
   "source": [
    "response.text"
   ]
  },
  {
   "cell_type": "code",
   "execution_count": null,
   "id": "58c9bf3a",
   "metadata": {},
   "outputs": [],
   "source": [
    "response.content"
   ]
  },
  {
   "cell_type": "code",
   "execution_count": null,
   "id": "16c436a8",
   "metadata": {},
   "outputs": [],
   "source": [
    "response.status_code"
   ]
  },
  {
   "cell_type": "code",
   "execution_count": null,
   "id": "b3b6e45d",
   "metadata": {},
   "outputs": [],
   "source": [
    "response.reason"
   ]
  },
  {
   "cell_type": "code",
   "execution_count": null,
   "id": "8364c717",
   "metadata": {},
   "outputs": [],
   "source": [
    "response.json()"
   ]
  },
  {
   "cell_type": "markdown",
   "id": "62b61d4b",
   "metadata": {},
   "source": [
    "## requests reponse based upon ip address"
   ]
  },
  {
   "cell_type": "code",
   "execution_count": null,
   "id": "cc559080",
   "metadata": {},
   "outputs": [],
   "source": [
    "response = requests.get('https://api.ipify.org', params={'format' : 'json'})\n",
    "response.status_code"
   ]
  },
  {
   "cell_type": "code",
   "execution_count": null,
   "id": "95b1002e",
   "metadata": {},
   "outputs": [],
   "source": [
    "response.text"
   ]
  },
  {
   "cell_type": "code",
   "execution_count": null,
   "id": "e3be1344",
   "metadata": {},
   "outputs": [],
   "source": [
    "print(response.text)\n",
    "# Inside the print statement, response.text takes care of the formatting"
   ]
  },
  {
   "cell_type": "code",
   "execution_count": null,
   "id": "a35c1434",
   "metadata": {},
   "outputs": [],
   "source": [
    "response.content"
   ]
  },
  {
   "cell_type": "code",
   "execution_count": null,
   "id": "315bb35d",
   "metadata": {},
   "outputs": [],
   "source": [
    "print(response.content)"
   ]
  },
  {
   "cell_type": "code",
   "execution_count": null,
   "id": "6df4e505",
   "metadata": {},
   "outputs": [],
   "source": [
    "response.json()"
   ]
  },
  {
   "cell_type": "code",
   "execution_count": null,
   "id": "8e735ee6",
   "metadata": {},
   "outputs": [],
   "source": [
    "response.json()['ip']"
   ]
  },
  {
   "cell_type": "code",
   "execution_count": null,
   "id": "f4899ba1",
   "metadata": {},
   "outputs": [],
   "source": [
    "# Finding the location based on the IP address\n",
    "base_url = 'https://api.techniknews.net/ipgeo/'\n",
    "loc_response = requests.get(base_url + response.json()['ip'])\n",
    "# ip_addr = response.josn()['ip']\n",
    "# loc_response = requests.get(f'https://api.techniknews.net/ipgeo/{ip_addr}')\n",
    "loc_response.json()"
   ]
  },
  {
   "cell_type": "markdown",
   "id": "8b6508e8",
   "metadata": {},
   "source": [
    "# Web scrapping\n",
    "\n",
    "first we obtain the HTML using requests.get(url of web page)\n",
    "\n"
   ]
  },
  {
   "cell_type": "code",
   "execution_count": null,
   "id": "21410dcf",
   "metadata": {},
   "outputs": [],
   "source": [
    "response = requests.get('https://webscraper.io/test-sites/e-commerce/static/computers/laptops')\n",
    "response.status_code"
   ]
  },
  {
   "cell_type": "code",
   "execution_count": null,
   "id": "bf2f8aad",
   "metadata": {},
   "outputs": [],
   "source": [
    "response.reason"
   ]
  },
  {
   "cell_type": "code",
   "execution_count": null,
   "id": "6bde9987",
   "metadata": {},
   "outputs": [],
   "source": [
    "response.text"
   ]
  },
  {
   "cell_type": "code",
   "execution_count": null,
   "id": "6eeade1c",
   "metadata": {},
   "outputs": [],
   "source": [
    "# There is apackage called BeautifulSoup\n",
    "from bs4 import BeautifulSoup\n",
    "\n",
    "soup = BeautifulSoup(response.text)\n",
    "soup"
   ]
  },
  {
   "cell_type": "code",
   "execution_count": null,
   "id": "8d8c69f1",
   "metadata": {
    "scrolled": true
   },
   "outputs": [],
   "source": [
    "# Parsing soup\n",
    "soup.select('div.caption') # find all div tags with class value 'caption'"
   ]
  },
  {
   "cell_type": "code",
   "execution_count": null,
   "id": "0d06031a",
   "metadata": {},
   "outputs": [],
   "source": [
    "el_products = soup.find_all('div', class_='caption')"
   ]
  },
  {
   "cell_type": "code",
   "execution_count": null,
   "id": "753c47c9",
   "metadata": {},
   "outputs": [],
   "source": [
    "type(el_products)"
   ]
  },
  {
   "cell_type": "code",
   "execution_count": null,
   "id": "75831d9b",
   "metadata": {},
   "outputs": [],
   "source": [
    "el_products[0]"
   ]
  },
  {
   "cell_type": "code",
   "execution_count": null,
   "id": "ed737a24",
   "metadata": {},
   "outputs": [],
   "source": [
    "type(el_products[0])"
   ]
  },
  {
   "cell_type": "code",
   "execution_count": null,
   "id": "4a9f6445",
   "metadata": {},
   "outputs": [],
   "source": [
    "el_products[0].select('h4')"
   ]
  },
  {
   "cell_type": "code",
   "execution_count": null,
   "id": "b62a9c55",
   "metadata": {},
   "outputs": [],
   "source": [
    "el_products[0].select('h4')[0]"
   ]
  },
  {
   "cell_type": "code",
   "execution_count": null,
   "id": "64bc0ed3",
   "metadata": {},
   "outputs": [],
   "source": [
    "price = el_products[0].select_one('h4.price')\n",
    "price"
   ]
  },
  {
   "cell_type": "code",
   "execution_count": null,
   "id": "f2b989e4",
   "metadata": {},
   "outputs": [],
   "source": [
    "type(price)"
   ]
  },
  {
   "cell_type": "code",
   "execution_count": null,
   "id": "483f06dc",
   "metadata": {},
   "outputs": [],
   "source": [
    "price.text"
   ]
  },
  {
   "cell_type": "code",
   "execution_count": null,
   "id": "d402f6d0",
   "metadata": {},
   "outputs": [],
   "source": [
    "type(price.text)"
   ]
  },
  {
   "cell_type": "code",
   "execution_count": null,
   "id": "d16429ac",
   "metadata": {},
   "outputs": [],
   "source": [
    "price.text.replace('$', '')"
   ]
  },
  {
   "cell_type": "code",
   "execution_count": null,
   "id": "811f08e9",
   "metadata": {},
   "outputs": [],
   "source": [
    "# Lets pull out the title\n",
    "title_el = el_products[0].select_one('a')\n",
    "title_el"
   ]
  },
  {
   "cell_type": "code",
   "execution_count": null,
   "id": "4913871f",
   "metadata": {},
   "outputs": [],
   "source": [
    "title_el.text # content"
   ]
  },
  {
   "cell_type": "code",
   "execution_count": null,
   "id": "52d9023e",
   "metadata": {},
   "outputs": [],
   "source": [
    "title_el['title'] # value of title of the title attribute"
   ]
  },
  {
   "cell_type": "code",
   "execution_count": null,
   "id": "683437a4",
   "metadata": {},
   "outputs": [],
   "source": [
    "# Pulling out description\n",
    "el_products[0].select_one('p').text"
   ]
  },
  {
   "cell_type": "code",
   "execution_count": null,
   "id": "1e59a4b8",
   "metadata": {},
   "outputs": [],
   "source": [
    "# Lets use the dictionary to store the data/information we scrapped\n",
    "# Lets use functions to encapsulate our work\n",
    "\n",
    "def pull_info(product_el):\n",
    "    \"\"\"Return a dctionary of title, description, and price contained in HTML element.\"\"\"\n",
    "    title = product_el.select_one('a').text\n",
    "    description = product_el.select_one('p').text\n",
    "    price = product_el.select_one('h4.price').text.replace('$', '')\n",
    "    \n",
    "    return {\n",
    "        'title' : title,\n",
    "        'price' : price,\n",
    "        'description' : description\n",
    "    }"
   ]
  },
  {
   "cell_type": "code",
   "execution_count": null,
   "id": "ccc8fb68",
   "metadata": {},
   "outputs": [],
   "source": [
    "pull_info(el_products[4])"
   ]
  },
  {
   "cell_type": "code",
   "execution_count": null,
   "id": "5e6ad059",
   "metadata": {},
   "outputs": [],
   "source": [
    "[pull_info(el) for el in el_products]"
   ]
  },
  {
   "cell_type": "code",
   "execution_count": null,
   "id": "a3714d01",
   "metadata": {},
   "outputs": [],
   "source": [
    "# Lets encapsulate the whole process of getting list, right from getting the URL\n",
    "\n",
    "def get_response(url, page):\n",
    "    params = {'page' : page}\n",
    "    return requests.get(url, params=params)\n",
    "\n",
    "def create_soup(url, page):\n",
    "    response = get_response(url, page)\n",
    "    return BeautifulSoup(response.text)\n",
    "\n",
    "def create_list(url, page):\n",
    "    soup = create_soup(url, page)\n",
    "    \n",
    "    el_products = soup.select('div.caption')\n",
    "    prod_list = []\n",
    "        \n",
    "    return [{\n",
    "        'title': el.select_one('a').text,\n",
    "        'description' : el.select_one('p').text,\n",
    "        'price' : el.select_one('h4.price').text.replace('$', '')\n",
    "    } for el in el_products ]\n",
    "\n",
    "def scrape_page(url, page):\n",
    "    prods_details = create_list(url, page)\n",
    "    return prods_details\n",
    "\n",
    "def scrape_all(base_url, page_limit=5):\n",
    "    products = [prod for page in range(1, page_limit+1) for prod in scrape_page(base_url, page)]\n",
    "    print(f'Total Products are {len(products)} in number.')\n",
    "    return products\n",
    "    \n",
    "def dump_data(data):\n",
    "    with open('output.json', 'w') as f:\n",
    "        json.dump(data, f, indent=2)"
   ]
  },
  {
   "cell_type": "code",
   "execution_count": null,
   "id": "68d90f60",
   "metadata": {},
   "outputs": [],
   "source": [
    "url = 'https://webscraper.io/test-sites/e-commerce/static/computers/laptops'\n",
    "page_limit = 20\n",
    "data = scrape_all(url, page_limit)"
   ]
  },
  {
   "cell_type": "code",
   "execution_count": null,
   "id": "dda78288",
   "metadata": {},
   "outputs": [],
   "source": [
    "dump_data(data)"
   ]
  }
 ],
 "metadata": {
  "kernelspec": {
   "display_name": "Python 3.8.5 64-bit ('base': conda)",
   "language": "python",
   "name": "python385jvsc74a57bd0a6570200391abd47b22bafa3ab36aba8327b6bca09374d4d4cb5f21cfca217ce"
  },
  "language_info": {
   "codemirror_mode": {
    "name": "ipython",
    "version": 3
   },
   "file_extension": ".py",
   "mimetype": "text/x-python",
   "name": "python",
   "nbconvert_exporter": "python",
   "pygments_lexer": "ipython3",
   "version": "3.8.5"
  }
 },
 "nbformat": 4,
 "nbformat_minor": 5
}
