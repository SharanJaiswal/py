{
 "cells": [
  {
   "cell_type": "code",
   "execution_count": 1,
   "id": "e1092f7f",
   "metadata": {},
   "outputs": [],
   "source": [
    "import requests # pyhton package that makes web requests easy"
   ]
  },
  {
   "cell_type": "code",
   "execution_count": 2,
   "id": "f4b670a2",
   "metadata": {},
   "outputs": [],
   "source": [
    "# there are various types of requests that we can make. One of them is \".get() request\"\n",
    "response = requests.get('https://google.com')"
   ]
  },
  {
   "cell_type": "code",
   "execution_count": 8,
   "id": "4042a8f3",
   "metadata": {},
   "outputs": [
    {
     "name": "stdout",
     "output_type": "stream",
     "text": [
      "200\n",
      "OK\n"
     ]
    }
   ],
   "source": [
    "# 200 : good OK\n",
    "# 300 : redirected\n",
    "# 400 : problem with the request\n",
    "# 500 : problems with the server\n",
    "print(response.status_code)\n",
    "print(response.reason)"
   ]
  },
  {
   "cell_type": "code",
   "execution_count": 7,
   "id": "3a845e61",
   "metadata": {},
   "outputs": [
    {
     "name": "stdout",
     "output_type": "stream",
     "text": [
      "404\n",
      "Not Found\n"
     ]
    }
   ],
   "source": [
    "response1 = requests.get('https://python.org/about/app')\n",
    "print(response1.status_code)\n",
    "print(response1.reason)"
   ]
  },
  {
   "cell_type": "code",
   "execution_count": 9,
   "id": "7e62d664",
   "metadata": {},
   "outputs": [
    {
     "data": {
      "text/plain": [
       "b'<!doctype html><html itemscope=\"\" itemtype=\"http://schema.org/WebPage\" lang=\"en-IN\"><head><meta content=\"text/html; charset=UTF-8\" http-equiv=\"Content-Type\"><meta content=\"/images/branding/googleg/1x/googleg_standard_color_128dp.png\" itemprop=\"image\"><title>Google</title><script nonce=\"LX6gMHIBPI4hSm5pVNqLrw==\">(function(){window.google={kEI:\\'LtEfYcKCE8uTr7wPgYGk2AQ\\',kEXPI:\\'0,18168,754047,1,530320,56873,954,5104,207,4804,926,1390,383,246,5,1354,5251,1122515,1197784,498,119,328866,51224,16114,28684,17572,1325,3533,1362,9290,3027,3891,13691,4020,978,13228,3847,4192,6430,1141,6291,1221,5874,4517,2778,919,5081,1593,1279,2212,530,149,1943,2196,4101,3514,606,2023,1777,521,6344,8325,605,2622,2845,7,5599,6755,5096,7877,3748,1288,3407,908,2,941,2614,13142,3,346,230,1014,1,5445,148,10045,1278,991,1661,4,3821,11,1236,5803,74,1983,2627,2012,4069,7434,3824,3050,2658,4243,3112,32,5664,5749,2215,2306,638,1493,5586,3772,7428,5824,2305,228,992,3102,18,3120,6,908,3,3541,1,11943,2767,1814,283,912,5992,15447,8,1273,1344,371,2,3037,20,5548,20,599,615,3,33,3,5388,3,92,592,784,255,55,3,435,2377,1680,744,1274,1076,3502,2051,2923,2,1553,2,1,2,3929,1160,1269,17,1032,374,3717,291,2380,1575,1144,3482,1063,3,123,25,4580,745,4635,585,2589,448,2,2,5,2264,3536,1167,32,314,423,1126,806,190,2446,1386,1191,383,819,564,1362,553,582,1068,1998,1403,317,1264,52,635,1,127,2,1,78,253,695,2,5,159,6,483,59,49,539,528,986,696,2,898,560,926,1148,1161,1090,56,254,315,879,770,372,135,276,186,485,2054,155,65,444,393,685,1562,5589896,189,37,220,115,31,72,5995479,1172,2800696,882,444,1,2,80,1,1796,1,9,2553,1,748,141,795,563,1,4265,1,1,2,1331,4142,2609,155,17,13,72,139,4,2,20,2,169,13,19,46,5,39,96,548,29,2,2,1,2,1,2,2,7,4,1,2,2,2,2,2,2,353,513,186,1,1,158,3,2,2,2,2,2,4,2,3,3,269,5,224,1,2,4,1,1,3,48,23654568,299866,4039037,7,2307,338,3,2414,445,2,638,406,9,2259,477,622\\',kBL:\\'8pO8\\'};google.sn=\\'webhp\\';google.kHL=\\'en-IN\\';})();(function(){\\nvar f=this||self;var h,k=[];function l(a){for(var b;a&&(!a.getAttribute||!(b=a.getAttribute(\"eid\")));)a=a.parentNode;return b||h}function m(a){for(var b=null;a&&(!a.getAttribute||!(b=a.getAttribute(\"leid\")));)a=a.parentNode;return b}\\nfunction n(a,b,c,d,g){var e=\"\";c||-1!==b.search(\"&ei=\")||(e=\"&ei=\"+l(d),-1===b.search(\"&lei=\")&&(d=m(d))&&(e+=\"&lei=\"+d));d=\"\";!c&&f._cshid&&-1===b.search(\"&cshid=\")&&\"slh\"!==a&&(d=\"&cshid=\"+f._cshid);c=c||\"/\"+(g||\"gen_204\")+\"?atyp=i&ct=\"+a+\"&cad=\"+b+e+\"&zx=\"+Date.now()+d;/^http:/i.test(c)&&\"https:\"===window.location.protocol&&(google.ml&&google.ml(Error(\"a\"),!1,{src:c,glmm:1}),c=\"\");return c};h=google.kEI;google.getEI=l;google.getLEI=m;google.ml=function(){return null};google.log=function(a,b,c,d,g){if(c=n(a,b,c,d,g)){a=new Image;var e=k.length;k[e]=a;a.onerror=a.onload=a.onabort=function(){delete k[e]};a.src=c}};google.logUrl=n;}).call(this);(function(){\\ngoogle.y={};google.sy=[];google.x=function(a,b){if(a)var c=a.id;else{do c=Math.random();while(google.y[c])}google.y[c]=[a,b];return!1};google.sx=function(a){google.sy.push(a)};google.lm=[];google.plm=function(a){google.lm.push.apply(google.lm,a)};google.lq=[];google.load=function(a,b,c){google.lq.push([[a],b,c])};google.loadAll=function(a,b){google.lq.push([a,b])};google.bx=!1;google.lx=function(){};}).call(this);google.f={};(function(){\\ndocument.documentElement.addEventListener(\"submit\",function(b){var a;if(a=b.target){var c=a.getAttribute(\"data-submitfalse\");a=\"1\"==c||\"q\"==c&&!a.elements.q.value?!0:!1}else a=!1;a&&(b.preventDefault(),b.stopPropagation())},!0);document.documentElement.addEventListener(\"click\",function(b){var a;a:{for(a=b.target;a&&a!=document.documentElement;a=a.parentElement)if(\"A\"==a.tagName){a=\"1\"==a.getAttribute(\"data-nohref\");break a}a=!1}a&&b.preventDefault()},!0);}).call(this);</script><style>#gbar,#guser{font-size:13px;padding-top:1px !important;}#gbar{height:22px}#guser{padding-bottom:7px !important;text-align:right}.gbh,.gbd{border-top:1px solid #c9d7f1;font-size:1px}.gbh{height:0;position:absolute;top:24px;width:100%}@media all{.gb1{height:22px;margin-right:.5em;vertical-align:top}#gbar{float:left}}a.gb1,a.gb4{text-decoration:underline !important}a.gb1,a.gb4{color:#00c !important}.gbi .gb4{color:#dd8e27 !important}.gbf .gb4{color:#900 !important}\\n</style><style>body,td,a,p,.h{font-family:arial,sans-serif}body{margin:0;overflow-y:scroll}#gog{padding:3px 8px 0}td{line-height:.8em}.gac_m td{line-height:17px}form{margin-bottom:20px}.h{color:#1558d6}em{font-weight:bold;font-style:normal}.lst{height:25px;width:496px}.gsfi,.lst{font:18px arial,sans-serif}.gsfs{font:17px arial,sans-serif}.ds{display:inline-box;display:inline-block;margin:3px 0 4px;margin-left:4px}input{font-family:inherit}body{background:#fff;color:#000}a{color:#4b11a8;text-decoration:none}a:hover,a:active{text-decoration:underline}.fl a{color:#1558d6}a:visited{color:#4b11a8}.sblc{padding-top:5px}.sblc a{display:block;margin:2px 0;margin-left:13px;font-size:11px}.lsbb{background:#f8f9fa;border:solid 1px;border-color:#dadce0 #70757a #70757a #dadce0;height:30px}.lsbb{display:block}#WqQANb a{display:inline-block;margin:0 12px}.lsb{background:url(/images/nav_logo229.png) 0 -261px repeat-x;border:none;color:#000;cursor:pointer;height:30px;margin:0;outline:0;font:15px arial,sans-serif;vertical-align:top}.lsb:active{background:#dadce0}.lst:focus{outline:none}</style><script nonce=\"LX6gMHIBPI4hSm5pVNqLrw==\"></script></head><body bgcolor=\"#fff\"><script nonce=\"LX6gMHIBPI4hSm5pVNqLrw==\">(function(){var src=\\'/images/nav_logo229.png\\';var iesg=false;document.body.onload = function(){window.n && window.n();if (document.images){new Image().src=src;}\\nif (!iesg){document.f&&document.f.q.focus();document.gbqf&&document.gbqf.q.focus();}\\n}\\n})();</script><div id=\"mngb\"><div id=gbar><nobr><b class=gb1>Search</b> <a class=gb1 href=\"https://www.google.co.in/imghp?hl=en&tab=wi\">Images</a> <a class=gb1 href=\"https://maps.google.co.in/maps?hl=en&tab=wl\">Maps</a> <a class=gb1 href=\"https://play.google.com/?hl=en&tab=w8\">Play</a> <a class=gb1 href=\"https://www.youtube.com/?gl=IN&tab=w1\">YouTube</a> <a class=gb1 href=\"https://news.google.com/?tab=wn\">News</a> <a class=gb1 href=\"https://mail.google.com/mail/?tab=wm\">Gmail</a> <a class=gb1 href=\"https://drive.google.com/?tab=wo\">Drive</a> <a class=gb1 style=\"text-decoration:none\" href=\"https://www.google.co.in/intl/en/about/products?tab=wh\"><u>More</u> &raquo;</a></nobr></div><div id=guser width=100%><nobr><span id=gbn class=gbi></span><span id=gbf class=gbf></span><span id=gbe></span><a href=\"http://www.google.co.in/history/optout?hl=en\" class=gb4>Web History</a> | <a  href=\"/preferences?hl=en\" class=gb4>Settings</a> | <a target=_top id=gb_70 href=\"https://accounts.google.com/ServiceLogin?hl=en&passive=true&continue=https://www.google.com/&ec=GAZAAQ\" class=gb4>Sign in</a></nobr></div><div class=gbh style=left:0></div><div class=gbh style=right:0></div></div><center><br clear=\"all\" id=\"lgpd\"><div id=\"lga\"><img alt=\"Google\" height=\"92\" src=\"/images/branding/googlelogo/1x/googlelogo_white_background_color_272x92dp.png\" style=\"padding:28px 0 14px\" width=\"272\" id=\"hplogo\"><br><br></div><form action=\"/search\" name=\"f\"><table cellpadding=\"0\" cellspacing=\"0\"><tr valign=\"top\"><td width=\"25%\">&nbsp;</td><td align=\"center\" nowrap=\"\"><input name=\"ie\" value=\"ISO-8859-1\" type=\"hidden\"><input value=\"en-IN\" name=\"hl\" type=\"hidden\"><input name=\"source\" type=\"hidden\" value=\"hp\"><input name=\"biw\" type=\"hidden\"><input name=\"bih\" type=\"hidden\"><div class=\"ds\" style=\"height:32px;margin:4px 0\"><input class=\"lst\" style=\"margin:0;padding:5px 8px 0 6px;vertical-align:top;color:#000\" autocomplete=\"off\" value=\"\" title=\"Google Search\" maxlength=\"2048\" name=\"q\" size=\"57\"></div><br style=\"line-height:0\"><span class=\"ds\"><span class=\"lsbb\"><input class=\"lsb\" value=\"Google Search\" name=\"btnG\" type=\"submit\"></span></span><span class=\"ds\"><span class=\"lsbb\"><input class=\"lsb\" id=\"tsuid1\" value=\"I\\'m Feeling Lucky\" name=\"btnI\" type=\"submit\"><script nonce=\"LX6gMHIBPI4hSm5pVNqLrw==\">(function(){var id=\\'tsuid1\\';document.getElementById(id).onclick = function(){if (this.form.q.value){this.checked = 1;if (this.form.iflsig)this.form.iflsig.disabled = false;}\\nelse top.location=\\'/doodles/\\';};})();</script><input value=\"AINFCbYAAAAAYR_fPhfv_bsXYL_p5j4_St8OTkX-n1ZC\" name=\"iflsig\" type=\"hidden\"></span></span></td><td class=\"fl sblc\" align=\"left\" nowrap=\"\" width=\"25%\"><a href=\"/advanced_search?hl=en-IN&amp;authuser=0\">Advanced search</a></td></tr></table><input id=\"gbv\" name=\"gbv\" type=\"hidden\" value=\"1\"><script nonce=\"LX6gMHIBPI4hSm5pVNqLrw==\">(function(){\\nvar a,b=\"1\";if(document&&document.getElementById)if(\"undefined\"!=typeof XMLHttpRequest)b=\"2\";else if(\"undefined\"!=typeof ActiveXObject){var c,d,e=[\"MSXML2.XMLHTTP.6.0\",\"MSXML2.XMLHTTP.3.0\",\"MSXML2.XMLHTTP\",\"Microsoft.XMLHTTP\"];for(c=0;d=e[c++];)try{new ActiveXObject(d),b=\"2\"}catch(h){}}a=b;if(\"2\"==a&&-1==location.search.indexOf(\"&gbv=2\")){var f=google.gbvu,g=document.getElementById(\"gbv\");g&&(g.value=a);f&&window.setTimeout(function(){location.href=f},0)};}).call(this);</script></form><div id=\"gac_scont\"></div><div style=\"font-size:83%;min-height:3.5em\"><br><div id=\"gws-output-pages-elements-homepage_additional_languages__als\"><style>#gws-output-pages-elements-homepage_additional_languages__als{font-size:small;margin-bottom:24px}#SIvCob{color:#3c4043;display:inline-block;line-height:28px;}#SIvCob a{padding:0 3px;}.H6sW5{display:inline-block;margin:0 2px;white-space:nowrap}.z4hgWe{display:inline-block;margin:0 2px}</style><div id=\"SIvCob\">Google offered in:  <a href=\"https://www.google.com/setprefs?sig=0_sSDKnLq3Y-iClNMQXjuzsq1OGpM%3D&amp;hl=hi&amp;source=homepage&amp;sa=X&amp;ved=0ahUKEwjC0ePs-7_yAhXLyYsBHYEACUsQ2ZgBCAU\">&#2361;&#2367;&#2344;&#2381;&#2342;&#2368;</a>    <a href=\"https://www.google.com/setprefs?sig=0_sSDKnLq3Y-iClNMQXjuzsq1OGpM%3D&amp;hl=bn&amp;source=homepage&amp;sa=X&amp;ved=0ahUKEwjC0ePs-7_yAhXLyYsBHYEACUsQ2ZgBCAY\">&#2476;&#2494;&#2434;&#2482;&#2494;</a>    <a href=\"https://www.google.com/setprefs?sig=0_sSDKnLq3Y-iClNMQXjuzsq1OGpM%3D&amp;hl=te&amp;source=homepage&amp;sa=X&amp;ved=0ahUKEwjC0ePs-7_yAhXLyYsBHYEACUsQ2ZgBCAc\">&#3108;&#3142;&#3122;&#3137;&#3095;&#3137;</a>    <a href=\"https://www.google.com/setprefs?sig=0_sSDKnLq3Y-iClNMQXjuzsq1OGpM%3D&amp;hl=mr&amp;source=homepage&amp;sa=X&amp;ved=0ahUKEwjC0ePs-7_yAhXLyYsBHYEACUsQ2ZgBCAg\">&#2350;&#2352;&#2366;&#2336;&#2368;</a>    <a href=\"https://www.google.com/setprefs?sig=0_sSDKnLq3Y-iClNMQXjuzsq1OGpM%3D&amp;hl=ta&amp;source=homepage&amp;sa=X&amp;ved=0ahUKEwjC0ePs-7_yAhXLyYsBHYEACUsQ2ZgBCAk\">&#2980;&#2990;&#3007;&#2996;&#3021;</a>    <a href=\"https://www.google.com/setprefs?sig=0_sSDKnLq3Y-iClNMQXjuzsq1OGpM%3D&amp;hl=gu&amp;source=homepage&amp;sa=X&amp;ved=0ahUKEwjC0ePs-7_yAhXLyYsBHYEACUsQ2ZgBCAo\">&#2711;&#2753;&#2716;&#2736;&#2750;&#2724;&#2752;</a>    <a href=\"https://www.google.com/setprefs?sig=0_sSDKnLq3Y-iClNMQXjuzsq1OGpM%3D&amp;hl=kn&amp;source=homepage&amp;sa=X&amp;ved=0ahUKEwjC0ePs-7_yAhXLyYsBHYEACUsQ2ZgBCAs\">&#3221;&#3240;&#3277;&#3240;&#3233;</a>    <a href=\"https://www.google.com/setprefs?sig=0_sSDKnLq3Y-iClNMQXjuzsq1OGpM%3D&amp;hl=ml&amp;source=homepage&amp;sa=X&amp;ved=0ahUKEwjC0ePs-7_yAhXLyYsBHYEACUsQ2ZgBCAw\">&#3374;&#3378;&#3375;&#3390;&#3379;&#3330;</a>    <a href=\"https://www.google.com/setprefs?sig=0_sSDKnLq3Y-iClNMQXjuzsq1OGpM%3D&amp;hl=pa&amp;source=homepage&amp;sa=X&amp;ved=0ahUKEwjC0ePs-7_yAhXLyYsBHYEACUsQ2ZgBCA0\">&#2602;&#2672;&#2588;&#2622;&#2604;&#2624;</a>  </div></div></div><span id=\"footer\"><div style=\"font-size:10pt\"><div style=\"margin:19px auto;text-align:center\" id=\"WqQANb\"><a href=\"/intl/en/ads/\">Advertising\\xa0Programs</a><a href=\"http://www.google.co.in/services/\">Business Solutions</a><a href=\"/intl/en/about.html\">About Google</a><a href=\"https://www.google.com/setprefdomain?prefdom=IN&amp;prev=https://www.google.co.in/&amp;sig=K_0xVLfKXXpXsQbQzazn9HWjXE9xI%3D\">Google.co.in</a></div></div><p style=\"font-size:8pt;color:#70757a\">&copy; 2021 - <a href=\"/intl/en/policies/privacy/\">Privacy</a> - <a href=\"/intl/en/policies/terms/\">Terms</a></p></span></center><script nonce=\"LX6gMHIBPI4hSm5pVNqLrw==\">(function(){window.google.cdo={height:757,width:1440};(function(){\\nvar a=window.innerWidth,b=window.innerHeight;if(!a||!b){var c=window.document,d=\"CSS1Compat\"==c.compatMode?c.documentElement:c.body;a=d.clientWidth;b=d.clientHeight}a&&b&&(a!=google.cdo.width||b!=google.cdo.height)&&google.log(\"\",\"\",\"/client_204?&atyp=i&biw=\"+a+\"&bih=\"+b+\"&ei=\"+google.kEI);}).call(this);})();</script> <script nonce=\"LX6gMHIBPI4hSm5pVNqLrw==\">(function(){google.xjs={ck:\\'\\',cs:\\'\\',excm:[]};})();</script>  <script nonce=\"LX6gMHIBPI4hSm5pVNqLrw==\">(function(){var u=\\'/xjs/_/js/k\\\\x3dxjs.hp.en.mANdiD4tMLU.O/am\\\\x3dAPgEmA/d\\\\x3d1/ed\\\\x3d1/rs\\\\x3dACT90oE2vSvixrbQCucYZ3wTVyzYhp4eUA/m\\\\x3dsb_he,d\\';\\nvar e=this||self,f=function(a){return a};var g;var l=function(a,b){this.g=b===h?a:\"\"};l.prototype.toString=function(){return this.g+\"\"};var h={};function m(){var a=u;google.lx=function(){n(a);google.lx=function(){}};google.bx||google.lx()}\\nfunction n(a){google.timers&&google.timers.load&&google.tick&&google.tick(\"load\",\"xjsls\");var b=document;var c=\"SCRIPT\";\"application/xhtml+xml\"===b.contentType&&(c=c.toLowerCase());c=b.createElement(c);if(void 0===g){b=null;var k=e.trustedTypes;if(k&&k.createPolicy){try{b=k.createPolicy(\"goog#html\",{createHTML:f,createScript:f,createScriptURL:f})}catch(p){e.console&&e.console.error(p.message)}g=b}else g=b}a=(b=g)?b.createScriptURL(a):a;a=new l(a,h);c.src=a instanceof l&&a.constructor===l?a.g:\"type_error:TrustedResourceUrl\";var d;a=(c.ownerDocument&&c.ownerDocument.defaultView||window).document;(d=(a=null===(d=a.querySelector)||void 0===d?void 0:d.call(a,\"script[nonce]\"))?a.nonce||a.getAttribute(\"nonce\")||\"\":\"\")&&c.setAttribute(\"nonce\",d);document.body.appendChild(c);google.psa=!0};setTimeout(function(){m()},0);})();(function(){window.google.xjsu=\\'/xjs/_/js/k\\\\x3dxjs.hp.en.mANdiD4tMLU.O/am\\\\x3dAPgEmA/d\\\\x3d1/ed\\\\x3d1/rs\\\\x3dACT90oE2vSvixrbQCucYZ3wTVyzYhp4eUA/m\\\\x3dsb_he,d\\';})();function _DumpException(e){throw e;}\\nfunction _F_installCss(c){}\\n(function(){google.jl={attn:false,blt:\\'none\\',chnk:0,dw:false,emtn:0,end:0,ine:false,lls:\\'default\\',pdt:0,rep:0,sif:true,snet:true,strt:0,ubm:false,uwp:true};})();(function(){var pmc=\\'{\\\\x22d\\\\x22:{},\\\\x22sb_he\\\\x22:{\\\\x22agen\\\\x22:true,\\\\x22cgen\\\\x22:true,\\\\x22client\\\\x22:\\\\x22heirloom-hp\\\\x22,\\\\x22dh\\\\x22:true,\\\\x22dhqt\\\\x22:true,\\\\x22ds\\\\x22:\\\\x22\\\\x22,\\\\x22ffql\\\\x22:\\\\x22en\\\\x22,\\\\x22fl\\\\x22:true,\\\\x22host\\\\x22:\\\\x22google.com\\\\x22,\\\\x22isbh\\\\x22:28,\\\\x22jsonp\\\\x22:true,\\\\x22msgs\\\\x22:{\\\\x22cibl\\\\x22:\\\\x22Clear Search\\\\x22,\\\\x22dym\\\\x22:\\\\x22Did you mean:\\\\x22,\\\\x22lcky\\\\x22:\\\\x22I\\\\\\\\u0026#39;m Feeling Lucky\\\\x22,\\\\x22lml\\\\x22:\\\\x22Learn more\\\\x22,\\\\x22oskt\\\\x22:\\\\x22Input tools\\\\x22,\\\\x22psrc\\\\x22:\\\\x22This search was removed from your \\\\\\\\u003Ca href\\\\x3d\\\\\\\\\\\\x22/history\\\\\\\\\\\\x22\\\\\\\\u003EWeb History\\\\\\\\u003C/a\\\\\\\\u003E\\\\x22,\\\\x22psrl\\\\x22:\\\\x22Remove\\\\x22,\\\\x22sbit\\\\x22:\\\\x22Search by image\\\\x22,\\\\x22srch\\\\x22:\\\\x22Google Search\\\\x22},\\\\x22ovr\\\\x22:{},\\\\x22pq\\\\x22:\\\\x22\\\\x22,\\\\x22refpd\\\\x22:true,\\\\x22rfs\\\\x22:[],\\\\x22sbas\\\\x22:\\\\x220 3px 8px 0 rgba(0,0,0,0.2),0 0 0 1px rgba(0,0,0,0.08)\\\\x22,\\\\x22sbpl\\\\x22:16,\\\\x22sbpr\\\\x22:16,\\\\x22scd\\\\x22:10,\\\\x22stok\\\\x22:\\\\x22eMxBL0QkJ02jwS7WgJuatuFZ6x4\\\\x22,\\\\x22uhde\\\\x22:false}}\\';google.pmc=JSON.parse(pmc);})();</script>        </body></html>'"
      ]
     },
     "execution_count": 9,
     "metadata": {},
     "output_type": "execute_result"
    }
   ],
   "source": [
    "response.content # we get the strings of bytes, This is HTML"
   ]
  },
  {
   "cell_type": "code",
   "execution_count": 10,
   "id": "b289aed9",
   "metadata": {},
   "outputs": [],
   "source": [
    "# URL is in two parts:\n",
    "# Base URL : 'https://www.google.com/search'\n",
    "# query string : (The part after the '?')\n",
    "url = 'https://www.google.com/search?q=python&source=hp&ei=jdMfYYGeHYq9mAWLpbeQAQ&iflsig=AINFCbYAAAAAYR_hneWvEItyErGfWAt_29sS1T_PC8kG&oq=pyhto&gs_lcp=Cgdnd3Mtd2l6EAMYADIHCAAQsQMQCjIHCAAQsQMQCjIHCAAQsQMQCjIHCAAQsQMQCjIHCAAQsQMQCjIHCAAQsQMQCjIHCAAQsQMQCjIHCAAQsQMQCjIHCC4QsQMQCjIHCAAQsQMQCjoOCAAQ6gIQjwEQjAMQ5QI6DgguEOoCEI8BEIwDEOUCOgsIABCABBCxAxCDAToICAAQgAQQsQM6BQguEIAEOgUIABCABDoICC4QgAQQsQM6BwgAEIAEEApQ5RxYpiRgly9oAXAAeACAAYoBiAGPBZIBAzAuNZgBAKABAbABCg&sclient=gws-wiz'"
   ]
  },
  {
   "cell_type": "code",
   "execution_count": 12,
   "id": "346c71d4",
   "metadata": {},
   "outputs": [],
   "source": [
    "response = requests.get(url)"
   ]
  },
  {
   "cell_type": "code",
   "execution_count": 14,
   "id": "f92e2512",
   "metadata": {},
   "outputs": [
    {
     "data": {
      "text/plain": [
       "b'<!doctype html><html lang=\"en-IN\"><head><meta charset=\"UTF-8\"><meta content=\"/images/branding/googleg/1x/googleg_standard_color_128dp.png\" itemprop=\"image\"><title>python - Google Search</title><script nonce=\"k1mRH//1P/9tCOi1vB3n3Q==\">(function(){\\ndocument.documentElement.addEventListener(\"submit\",function(b){var a;if(a=b.target){var c=a.getAttribute(\"data-submitfalse\");a=\"1\"==c||\"q\"==c&&!a.elements.q.value?!0:!1}else a=!1;a&&(b.preventDefault(),b.stopPropagation())},!0);document.documentElement.addEventListener(\"click\",function(b){var a;a:{for(a=b.target;a&&a!=document.documentElement;a=a.parentElement)if(\"A\"==a.tagName){a=\"1\"==a.getAttribute(\"data-nohref\");break a}a=!1}a&&b.preventDefault()},!0);}).call(this);(function(){\\nvar a=window.performance;window.start=Date.now();a:{var b=window;if(a){var c=a.timing;if(c){var d=c.navigationStart,f=c.responseStart;if(f>d&&f<=window.start){window.start=f;b.wsrt=f-d;break a}}a.now&&(b.wsrt=Math.floor(a.now()))}}window.google=window.google||{};var h=function(g){g&&g.target.setAttribute(\"data-iml\",Date.now())};document.documentElement.addEventListener(\"load\",h,!0);google.rglh=function(){document.documentElement.removeEventListener(\"load\",h,!0)};}).call(this);(function(){\\nvar c=[],e=0;window.ping=function(b){-1==b.indexOf(\"&zx\")&&(b+=\"&zx=\"+Date.now());var a=new Image,d=e++;c[d]=a;a.onerror=a.onload=a.onabort=function(){delete c[d]};a.src=b};}).call(this);</script><style>body{margin:0 auto;max-width:736px;padding:0 8px;}a{color:#1967D2;text-decoration:none;tap-highlight-color:rgba(0,0,0,.10)}a:visited{color:#4B11A8}a:hover{text-decoration:underline}img{border:0}html{font-family:Roboto,Helvetica Neue,Arial,sans-serif;font-size:14px;line-height:20px;text-size-adjust:100%;color:#3c4043;word-wrap:break-word;background-color:#fff}.bRsWnc{background-color:#fff;border-top:1px solid #dadce0;height:39px;overflow:hidden}.N6RWV{height:51px;overflow-scrolling:touch;overflow-x:auto;overflow-y:hidden}.Uv67qb{box-pack:justify;font-size:12px;line-height:37px;justify-content:space-between;justify-content:space-between}.Uv67qb a,.Uv67qb span{color:#70757a;display:block;flex:none;padding:0 16px;text-align:center;text-transform:uppercase;}span.OXXup{border-bottom:2px solid #4285f4;color:#4285f4;font-weight:bold}a.eZt8xd:visited{color:#70757a}.FElbsf{border-left:1px solid rgba(0,0,0,.12)}header article{overflow:visible}.Pg70bf{height:39px;display:box;display:flex;display:flex;width:100%}.H0PQec{position:relative;flex:1}.sbc{display:flex;width:100%}.Pg70bf input{margin:2px 4px 2px 8px;}.x{width:26px;color:#70757a;font:27px/38px arial, sans-serif;line-height:40px;}#qdClwb{flex:0 0 auto;width:39px;height:39px;border-bottom:0;padding:0;border-top-right-radius:8px;background-color:#1a73e8;border:1px solid #1558d6;background-image:url(data:image/gif;base64,R0lGODdhJAAjAPIHAODr/nCk+MPZ/FmV96zK+/7+/5K5+kqL9iwAAAAAJAAjAEADani63P4wykmbKcQRXDscQAEMXmmeaLQVLCukzyC09AjfeK7v/MAajACLhPMVAgwjsUcEiZa8xgAYrVqv2Kx2iwsIAAABknfBBAKrTE4IcMyot8ur8datqIbQfJdnAfo2WE6BV05wXIiJigkAOw==);}.sc{font-size:16px;position:absolute;top:39px;left:0;right:0;box-shadow:0px 2px 5px rgba(0,0,0,.2);z-index:2;background-color:#fff}.sc>div{padding:10px 10px;padding-left:16px;padding-left:14px;border-top:1px solid #dfe1e5}.scs{background-color:#f8f9fa;}.noHIxc{display:block;font-size:16px;padding:0 0 0 8px;flex:1;height:35px;outline:none;border:none;width:100%;-webkit-tap-highlight-color:rgba(0,0,0,.00);overflow:hidden;}.sbc input[type=text]{background:none}.sml .cOl4Id{display:none}.l{display:none}.sml header{background:none}.sml .l{display:block;padding:0 8px}.sml .l{letter-spacing:-1px;text-align:center;border-radius:2px 0 0 0;font:22px/36px Futura, Arial, sans-serif;font-smoothing:antialiased}.bz1lBb{background:#fff;border-radius:8px 8px 0 0;box-shadow:0 1px 6px rgba(32, 33, 36, 0.18);margin-top:10px}.KP7LCb{border-radius:0 0 8px 8px;box-shadow:0 2px 3px rgba(32, 33, 36, 0.18);margin-bottom:10px;overflow:hidden}.cOl4Id{letter-spacing:-1px;text-align:center;font:22pt Futura, Arial, sans-serif;height:37px;font-smoothing:antialiased;padding:10px 0 5px 0;}.cOl4Id span{display:inline-block}.S591j{height:100%}.V6gwVd{color:#4285f4}.iWkuvd{color:#ea4335}.cDrQ7{color:#fcc934}.ntlR9{color:#34a853}.tJ3Myc{-webkit-transform:rotate(-20deg);position:relative;left:-1px;display:inline-block}footer{text-align:center;margin-top:18px}footer a,footer a:visited,.smiUbb{color:#70757a}.xeDNfc{margin:0 13px}#EOlPnc{margin-top:36px}#EOlPnc>div{margin:20px}.Srfpq{color:#70757a}</style></head><body jsmodel=\"TvHxbe\"><header id=\"hdr\"><script nonce=\"k1mRH//1P/9tCOi1vB3n3Q==\">(function(){\\nvar k=this||self,l=function(){},m=function(a){var b=typeof a;return\"object\"==b&&null!=a||\"function\"==b},n=function(a,b){function c(){}c.prototype=b.prototype;a.l=b.prototype;a.prototype=new c;a.prototype.constructor=a;a.o=function(d,e,f){for(var g=Array(arguments.length-2),h=2;h<arguments.length;h++)g[h-2]=arguments[h];return b.prototype[e].apply(d,g)}};var p=Array.prototype.indexOf?function(a,b){return Array.prototype.indexOf.call(a,b,void 0)}:function(a,b){if(\"string\"===typeof a)return\"string\"!==typeof b||1!=b.length?-1:a.indexOf(b,0);for(var c=0;c<a.length;c++)if(c in a&&a[c]===b)return c;return-1};var q=function(a){return\"string\"==typeof a.className?a.className:a.getAttribute&&a.getAttribute(\"class\")||\"\"},r=function(a,b){\"string\"==typeof a.className?a.className=b:a.setAttribute&&a.setAttribute(\"class\",b)},t=function(a,b){a.classList?b=a.classList.contains(b):(a=a.classList?a.classList:q(a).match(/\\\\S+/g)||[],b=0<=p(a,b));return b},w=function(){var a=u,b=v;a.classList?a.classList.remove(b):t(a,b)&&r(a,Array.prototype.filter.call(a.classList?a.classList:q(a).match(/\\\\S+/g)||[],function(c){return c!=\\nb}).join(\" \"))};var x;a:{var y=k.navigator;if(y){var z=y.userAgent;if(z){x=z;break a}}x=\"\"};var A=function(a){A[\" \"](a);return a};A[\" \"]=l;var B=-1!=x.indexOf(\"Gecko\")&&!(-1!=x.toLowerCase().indexOf(\"webkit\")&&-1==x.indexOf(\"Edge\"))&&!(-1!=x.indexOf(\"Trident\")||-1!=x.indexOf(\"MSIE\"))&&-1==x.indexOf(\"Edge\");var C=function(a,b){this.type=a;this.target=b};C.prototype.g=function(){};var D=function(){if(!k.addEventListener||!Object.defineProperty)return!1;var a=!1,b=Object.defineProperty({},\"passive\",{get:function(){a=!0}});try{k.addEventListener(\"test\",l,b),k.removeEventListener(\"test\",l,b)}catch(c){}return a}();var F=function(a){C.call(this,a?a.type:\"\");this.relatedTarget=this.target=null;this.button=this.screenY=this.screenX=this.clientY=this.clientX=0;this.key=\"\";this.keyCode=0;this.metaKey=this.shiftKey=this.altKey=this.ctrlKey=!1;this.state=null;this.pointerId=0;this.pointerType=\"\";this.h=null;if(a){var b=this.type=a.type,c=a.changedTouches&&a.changedTouches.length?a.changedTouches[0]:null;this.target=a.target||a.srcElement;var d=a.relatedTarget;if(d){if(B){a:{try{A(d.nodeName);var e=!0;break a}catch(f){}e=\\n!1}e||(d=null)}}else\"mouseover\"==b?d=a.fromElement:\"mouseout\"==b&&(d=a.toElement);this.relatedTarget=d;c?(this.clientX=void 0!==c.clientX?c.clientX:c.pageX,this.clientY=void 0!==c.clientY?c.clientY:c.pageY,this.screenX=c.screenX||0,this.screenY=c.screenY||0):(this.clientX=void 0!==a.clientX?a.clientX:a.pageX,this.clientY=void 0!==a.clientY?a.clientY:a.pageY,this.screenX=a.screenX||0,this.screenY=a.screenY||0);this.button=a.button;this.keyCode=a.keyCode||0;this.key=a.key||\"\";this.ctrlKey=a.ctrlKey;this.altKey=a.altKey;this.shiftKey=a.shiftKey;this.metaKey=a.metaKey;this.pointerId=a.pointerId||0;this.pointerType=\"string\"===typeof a.pointerType?a.pointerType:E[a.pointerType]||\"\";this.state=a.state;this.h=a;a.defaultPrevented&&F.l.g.call(this)}};n(F,C);var E={2:\"touch\",3:\"pen\",4:\"mouse\"};F.prototype.g=function(){F.l.g.call(this);var a=this.h;a.preventDefault?a.preventDefault():a.returnValue=!1};var G=\"closure_listenable_\"+(1E6*Math.random()|0);var H=0;var I=function(a,b,c,d,e){this.listener=a;this.g=null;this.src=b;this.type=c;this.capture=!!d;this.i=e;this.key=++H;this.h=this.j=!1},J=function(a){a.h=!0;a.listener=null;a.g=null;a.src=null;a.i=null};var K=function(a){this.src=a;this.g={};this.h=0};K.prototype.add=function(a,b,c,d,e){var f=a.toString();a=this.g[f];a||(a=this.g[f]=[],this.h++);var g;a:{for(g=0;g<a.length;++g){var h=a[g];if(!h.h&&h.listener==b&&h.capture==!!d&&h.i==e)break a}g=-1}-1<g?(b=a[g],c||(b.j=!1)):(b=new I(b,this.src,f,!!d,e),b.j=c,a.push(b));return b};var L=\"closure_lm_\"+(1E6*Math.random()|0),M={},N=0,P=function(a,b,c,d,e){if(d&&d.once)return O(a,b,c,d,e);if(Array.isArray(b)){for(var f=0;f<b.length;f++)P(a,b[f],c,d,e);return null}c=Q(c);return a&&a[G]?a.g(b,c,m(d)?!!d.capture:!!d,e):R(a,b,c,!1,d,e)},R=function(a,b,c,d,e,f){if(!b)throw Error(\"a\");var g=m(e)?!!e.capture:!!e,h=S(a);h||(a[L]=h=new K(a));c=h.add(b,c,d,g,f);if(c.g)return c;d=T();c.g=d;d.src=a;d.listener=c;if(a.addEventListener)D||(e=g),void 0===e&&(e=!1),a.addEventListener(b.toString(),d,e);else if(a.attachEvent)a.attachEvent(U(b.toString()),d);else if(a.addListener&&a.removeListener)a.addListener(d);else throw Error(\"b\");N++;return c},T=function(){var a=V,b=function(c){return a.call(b.src,b.listener,c)};return b},O=function(a,b,c,d,e){if(Array.isArray(b)){for(var f=0;f<b.length;f++)O(a,b[f],c,d,e);return null}c=Q(c);return a&&a[G]?a.h(b,c,m(d)?!!d.capture:!!d,e):R(a,b,c,!0,d,e)},W=function(a){if(\"number\"!==typeof a&&a&&!a.h){var b=a.src;if(b&&b[G])b.i(a);else{var c=a.type,d=a.g;b.removeEventListener?b.removeEventListener(c,d,a.capture):b.detachEvent?b.detachEvent(U(c),d):b.addListener&&b.removeListener&&b.removeListener(d);N--;if(c=S(b)){d=a.type;if(d in c.g){var e=c.g[d],f=p(e,a),g;(g=0<=f)&&Array.prototype.splice.call(e,f,1);g&&(J(a),0==c.g[d].length&&(delete c.g[d],c.h--))}0==c.h&&(c.src=null,b[L]=null)}else J(a)}}},U=function(a){return a in M?M[a]:M[a]=\"on\"+a},V=function(a,b){if(a.h)a=!0;else{b=new F(b,this);var c=a.listener,d=a.i||a.src;a.j&&W(a);a=c.call(d,b)}return a},S=function(a){a=a[L];return a instanceof K?a:null},X=\"__closure_events_fn_\"+(1E9*Math.random()>>>0),Q=function(a){if(\"function\"===typeof a)return a;a[X]||(a[X]=function(b){return a.handleEvent(b)});return a[X]};var v,u=document.documentElement,Y;function aa(){W(Y);Y=O(u,\"mousedown\",function(){w();Z()},{capture:!0})}function Z(){W(Y);Y=P(u,\"keydown\",function(a){if(9===a.keyCode){a=u;var b=v;if(a.classList)a.classList.add(b);else if(!t(a,b)){var c=q(a);r(a,c+(0<c.length?\" \"+b:b))}aa()}})};v=\"zAoYTe\";Z();}).call(this);(function(){var c=500;(function(){\\nwindow.screen&&window.screen.width<=c&&window.screen.height<=c&&document.getElementById(\"hdr\").classList.add(\"sml\");}).call(this);})();</script><div class=\"cOl4Id\"><a href=\"/?sa=X&amp;ved=0ahUKEwjZ-OLV_r_yAhVapZUCHep_ByAQOwgC\"><span class=\"V6gwVd\">G</span><span class=\"iWkuvd\">o</span><span class=\"cDrQ7\">o</span><span class=\"V6gwVd\">g</span><span class=\"ntlR9\">l</span><span class=\"iWkuvd tJ3Myc\">e</span></a></div><div class=\"bz1lBb\"><form class=\"Pg70bf\" id=\"sf\"><a class=\"l\" href=\"/?output=search&amp;ie=UTF-8&amp;sa=X&amp;ved=0ahUKEwjZ-OLV_r_yAhVapZUCHep_ByAQPAgE\"><span class=\"V6gwVd\">G</span><span class=\"iWkuvd\">o</span><span class=\"cDrQ7\">o</span><span class=\"V6gwVd\">g</span><span class=\"ntlR9\">l</span><span class=\"iWkuvd tJ3Myc\">e</span></a><input name=\"ie\" value=\"ISO-8859-1\" type=\"hidden\"><div class=\"H0PQec\"><div class=\"sbc esbc\"><input class=\"noHIxc\" value=\"python\" autocapitalize=\"none\" autocomplete=\"off\" name=\"q\" spellcheck=\"false\" type=\"text\"><input name=\"oq\" type=\"hidden\"><input name=\"aqs\" type=\"hidden\"><div class=\"x\">\\xd7</div><div class=\"sc\"></div></div></div><button id=\"qdClwb\" type=\"submit\"></button></form></div><noscript><meta content=\"0;url=/search?q=python&amp;ie=UTF-8&amp;gbv=1&amp;sei=I9QfYZnbFtrK1sQP6v-dgAI\" http-equiv=\"refresh\"><style>table,div,span,p{display:none}</style><div style=\"display:block\">Please click <a href=\"/search?q=python&amp;ie=UTF-8&amp;gbv=1&amp;sei=I9QfYZnbFtrK1sQP6v-dgAI\">here</a> if you are not redirected within a few seconds.</div></noscript></header><div id=\"main\"><div><div class=\"KP7LCb\"> <div class=\"bRsWnc\"> <div class=\"N6RWV\"> <div class=\"Pg70bf Uv67qb\"> <span class=\"OXXup\">All</span><a class=\"eZt8xd\" href=\"/search?q=python&amp;ie=UTF-8&amp;source=lnms&amp;tbm=bks&amp;sa=X&amp;ved=0ahUKEwjZ-OLV_r_yAhVapZUCHep_ByAQ_AUICCgB\">Books</a><a class=\"eZt8xd\" href=\"/search?q=python&amp;ie=UTF-8&amp;source=lnms&amp;tbm=isch&amp;sa=X&amp;ved=0ahUKEwjZ-OLV_r_yAhVapZUCHep_ByAQ_AUICSgC\">Images</a><a class=\"eZt8xd\" href=\"/search?q=python&amp;ie=UTF-8&amp;source=lnms&amp;tbm=nws&amp;sa=X&amp;ved=0ahUKEwjZ-OLV_r_yAhVapZUCHep_ByAQ_AUICigD\">News</a>  <a href=\"https://maps.google.com/maps?q=python&amp;iflsig=AINFCbYAAAAAYR_hneWvEItyErGfWAt_29sS1T_PC8kG&amp;gs_lcp=Cgdnd3Mtd2l6EAMYADIHCAAQsQMQCjIHCAAQsQMQCjIHCAAQsQMQCjIHCAAQsQMQCjIHCAAQsQMQCjIHCAAQsQMQCjIHCAAQsQMQCjIHCAAQsQMQCjIHCC4QsQMQCjIHCAAQsQMQCjoOCAAQ6gIQjwEQjAMQ5QI6DgguEOoCEI8BEIwDEOUCOgsIABCABBCxAxCDAToICAAQgAQQsQM6BQguEIAEOgUIABCABDoICC4QgAQQsQM6BwgAEIAEEApQ5RxYpiRgly9oAXAAeACAAYoBiAGPBZIBAzAuNZgBAKABAbABCg&amp;um=1&amp;ie=UTF-8&amp;sa=X&amp;ved=0ahUKEwjZ-OLV_r_yAhVapZUCHep_ByAQ_AUICygE\">Maps</a>  <a href=\"/search?q=python&amp;ie=UTF-8&amp;source=lnms&amp;tbm=vid&amp;sa=X&amp;ved=0ahUKEwjZ-OLV_r_yAhVapZUCHep_ByAQ_AUIDCgF\">Videos</a>  <a href=\"/search?q=python&amp;ie=UTF-8&amp;source=lnms&amp;tbm=shop&amp;sa=X&amp;ved=0ahUKEwjZ-OLV_r_yAhVapZUCHep_ByAQ_AUIDSgG\">Shopping</a>  <div class=\"FElbsf\"><a href=\"/advanced_search\" style=\"white-space:nowrap\" id=\"st-toggle\" role=\"button\">Search tools</a></div> </div> </div> </div> </div><div class=\"Pg70bf wEsjbd ZINbbc xpd O9g5cc uUPGi\" style=\"display:none\" id=\"st-card\"><style>.wEsjbd{background-color:#fff;height:44px;white-space:nowrap}.coPU8c{height:60px;overflow-scrolling:touch;overflow-x:auto;overflow-y:hidden}.Xj2aue{height:44px;overflow:hidden}.RnNGze{margin:11px 16px}.wEsjbd div,.wEsjbd a,.wEsjbd li{outline-width:0;outline:none}</style><div class=\"Xj2aue\"><div class=\"coPU8c\"><div class=\"RnNGze\"><style>.PA9J5{display:inline-block}.RXaOfd{display:inline-block;height:22px;position:relative;padding-top:0;padding-bottom:0;padding-right:16px;padding-left:0;line-height:22px;cursor:pointer;text-transform:uppercase;font-size:12px;color:#70757a}.sa1toc{display:none;position:absolute;background:#fff;border:1px solid #d6d6d6;box-shadow:0 2px 4px rgba(0,0,0,0.3);margin:0;white-space:nowrap;z-index:103;line-height:17px;padding-top:5px;padding-bottom:5px;padding-left:0}.PA9J5:hover .sa1toc{display:block}.mGSy8d a:active,.RXaOfd:active{color:#4285f4}</style><div class=\"PA9J5\"><div class=\"RXaOfd\" role=\"button\" tabindex=\"0\"><style>.TWMOUc{display:inline-block;padding-right:14px;white-space:nowrap}.vQYuGf{font-weight:bold}.OmTIzf{border-color:#909090 transparent;border-style:solid;border-width:4px 4px 0 4px;width:0;height:0;margin-left:-10px;top:50%;margin-top:-2px;position:absolute}.RXaOfd:active .OmTIzf{border-color:#4285f4 transparent}</style><div class=\"TWMOUc\">Any time</div><span class=\"OmTIzf\"></span></div><ul class=\"sa1toc ozatM\"><style>.ozatM{font-size:12px;text-transform:uppercase}.ozatM .yNFsl,.ozatM li{list-style-type:none;list-style-position:outside;list-style-image:none}.yNFsl.SkUj4c,.yNFsl a{color:rgba(0,0,0,0.54);text-decoration:none;padding:6px 44px 6px 14px;line-height:17px;display:block}.SkUj4c{background-image:url(//ssl.gstatic.com/ui/v1/menu/checkmark2.png);background-position:right center;background-repeat:no-repeat}.SkUj4c:active{background-color:#f8f9fa}</style><li class=\"yNFsl SkUj4c\">Any time</li><li class=\"yNFsl\"><a href=\"/search?q=python&amp;ie=UTF-8&amp;source=lnt&amp;tbs=qdr:h&amp;sa=X&amp;ved=0ahUKEwjZ-OLV_r_yAhVapZUCHep_ByAQpwUIDw\">Past hour</a></li><li class=\"yNFsl\"><a href=\"/search?q=python&amp;ie=UTF-8&amp;source=lnt&amp;tbs=qdr:d&amp;sa=X&amp;ved=0ahUKEwjZ-OLV_r_yAhVapZUCHep_ByAQpwUIEA\">Past 24 hours</a></li><li class=\"yNFsl\"><a href=\"/search?q=python&amp;ie=UTF-8&amp;source=lnt&amp;tbs=qdr:w&amp;sa=X&amp;ved=0ahUKEwjZ-OLV_r_yAhVapZUCHep_ByAQpwUIEQ\">Past week</a></li><li class=\"yNFsl\"><a href=\"/search?q=python&amp;ie=UTF-8&amp;source=lnt&amp;tbs=qdr:m&amp;sa=X&amp;ved=0ahUKEwjZ-OLV_r_yAhVapZUCHep_ByAQpwUIEg\">Past month</a></li><li class=\"yNFsl\"><a href=\"/search?q=python&amp;ie=UTF-8&amp;source=lnt&amp;tbs=qdr:y&amp;sa=X&amp;ved=0ahUKEwjZ-OLV_r_yAhVapZUCHep_ByAQpwUIEw\">Past year</a></li></ul></div><div class=\"PA9J5\"><div class=\"RXaOfd\" role=\"button\" tabindex=\"0\"><div class=\"TWMOUc\">All results</div><span class=\"OmTIzf\"></span></div><ul class=\"sa1toc ozatM\"><li class=\"yNFsl SkUj4c\">All results</li><li class=\"yNFsl\"><a href=\"/search?q=pyhto&amp;ie=UTF-8&amp;source=lnt&amp;tbs=li:1&amp;sa=X&amp;ved=0ahUKEwjZ-OLV_r_yAhVapZUCHep_ByAQpwUIFQ\">Verbatim</a></li></ul></div></div></div></div><script nonce=\"k1mRH//1P/9tCOi1vB3n3Q==\">(function(){\\nvar a=document.getElementById(\"st-toggle\"),b=document.getElementById(\"st-card\");a&&b&&a.addEventListener(\"click\",function(c){b.style.display=b.style.display?\"\":\"none\";c.preventDefault()},!1);}).call(this);</script></div></div><style>.ZINbbc{background-color:#fff;margin-bottom:10px;box-shadow:0 1px 6px rgba(32, 33, 36, 0.28);border-radius:8px}.uUPGi{font-size:14px;line-height:20px;}.O9g5cc>*:first-child{border-top-left-radius:8px;border-top-right-radius:8px}.O9g5cc>*:last-child{border-bottom-left-radius:8px;border-bottom-right-radius:8px}.O9g5cc>.qxDOhb>*:first-child{border-top-left-radius:8px;border-top-right-radius:8px}.O9g5cc>.qxDOhb>*:last-child{border-bottom-left-radius:8px;border-bottom-right-radius:8px}.rl7ilb{display:block;clear:both}.kCrYT{padding:12px 16px 12px}a.fdYsqf{color:#4B11A8}.zBAuLc{font-weight:normal;line-height:normal;margin:0;padding:0}.BNeawe{white-space:pre-line;word-wrap:break-word}.vvjwJb{color:#1967D2;font-size:16px;line-height:20px}a:visited .vvjwJb,.vvjwJb a:visited{color:#4B11A8}.vvjwJb.HrGdeb{color:#fff}a:visited .vvjwJb.HrGdeb,.vvjwJb.HrGdeb a:visited{color:rgba(255,255,255,.70)}.UPmit{font-size:14px;line-height:20px}.UPmit.HrGdeb{color:rgba(255,255,255,.70)}.UPmit.AP7Wnd{color:#0d652d}.x54gtf{height:1px;background-color:#dfe1e5;margin:0 16px}.Q0HXG{height:1px;background-color:#dfe1e5}.Ap5OSd{padding-bottom:12px}.s3v9rd{font-size:14px;line-height:20px}.s3v9rd.HrGdeb{color:#fff}.s3v9rd.AP7Wnd{color:#202124}.mSx1Ee{padding-left:48px;margin:0}.v9i61e{padding-bottom:8px}.XLloXe{color:#1967D2;font-size:14px;line-height:20px}a:visited .XLloXe,.XLloXe a:visited{color:#4B11A8}.XLloXe.HrGdeb{color:#fff}a:visited .XLloXe.HrGdeb,.XLloXe.HrGdeb a:visited{color:rgba(255,255,255,.70)}.r0bn4c.tr0dw{color:rgba(255,255,255,.70)}.r0bn4c.rQMQod{color:#70757a}.mEUgP{font-weight:bold;font-size:16px;color:#000;margin:0;padding:12px 16px 12px}.FCUp0c{font-weight:bold}.C7GS5b{margin-left:12px;display:table-cell;vertical-align:middle}.rkGIWe{padding:14px}.xpc .hwc,.xpx .hwx{display:none}.iIWm4b{box-sizing:border-box;min-height:48px}.fLtXsc{padding:14px;position:relative}.NtmAdb{width:40px;height:40px;overflow:hidden;margin-top:-10px;margin-bottom:-16px;margin-right:8px;border-radius:4px}.xpc .NtmAdb{display:inline-block}.xpx .NtmAdb{display:none}.Lt3Tzc{display:inline-block;padding-right:26px}.Lym8W{width:14px;height:20px;position:relative;margin:0 auto}.xCgLUe{position:absolute;right:16px;margin-top:-10px;top:50%}.Lym8W div{position:absolute;border-left:7px solid transparent;border-right:7px solid transparent;width:0;height:0;left:0}.IyYaEd{top:7px;border-top:7px solid #70757a}.ECUHQe{top:4px;border-top:7px solid #fff}.AeQQub{bottom:7px;border-bottom:7px solid #70757a}.YCU7eb{bottom:4px;border-bottom:7px solid #fff}.qxDOhb{border-radius:0}.yStFkb>div{border-radius:8px;box-shadow:none;border:1px solid #dadce0;margin-bottom:0}.oTWEpb{padding-top:12px}.n1Qedd{overflow:hidden;text-align:center}.KMAGC{margin:0 auto;display:block}.ho0sdc{margin:0 -50%;display:inline-block}.P1NWSe{display:table;width:100%;padding-top:16px;padding-bottom:16px;margin-bottom:-12px}.wOMIed{display:table-cell;vertical-align:top}.nkPlDb{vertical-align:middle}.JhFlyf{color:#3c4043;font-size:14px;text-align:center}.VQFmSd{display:block;white-space:pre-line;word-wrap:break-word}.JhFlyf.VQFmSd{line-height:20px}.f4J0H{padding:18px}.nGphre{float:right;padding-left:16px}.UykT9d{border-radius:8px;display:block}.nYT7Qb{clear:both}.R0jTRc{vertical-align:middle}.deIvCb{font-size:16px;line-height:20px;font-weight:400}.deIvCb.HrGdeb{color:#fff}.deIvCb.AP7Wnd{color:#202124}.tAd8D{font-size:14px;line-height:20px}.tAd8D.HrGdeb{color:rgba(255,255,255,.70)}.tAd8D.AP7Wnd{color:#70757a}.skVgpb{display:table;table-layout:fixed;width:100%}.VGHMXd{display:table-cell;vertical-align:middle;height:52px;text-align:center}.LpaDrb{margin:0 auto 8px;display:block}.vbShOe{padding-top:0}.AVsepf{padding-bottom:8px}.AVsepf.u2x1Od{padding-bottom:0}.Ru8idb{margin-top:-16px}.punez{font-weight:700;letter-spacing:0.75px;text-transform:uppercase}.wyrwXc{font-size:12px;line-height:16px}.wyrwXc.HrGdeb{color:#fff}.wyrwXc.AP7Wnd{color:#202124}.Xdlr0d{overflow-x:auto;-webkit-overflow-scrolling:touch;margin:0 -8px;padding:2px 0 16px 24px;margin-top:-2px;transform:translate3d(0,0,0)}.idg8be{display:table;border-collapse:separate;border-spacing:8px 0;margin:0 -8px;padding-right:16px}.BVG0Nb{display:table-cell;vertical-align:top;background-color:#fff;border-radius:8px;box-shadow:0 1px 6px rgba(32, 33, 36, 0.28);overflow:hidden}.EYOsld{display:inline-block;position:relative}.BFi9Zb{overflow:hidden;position:relative}.S7Jdze{align-items:center;display:flex;flex-direction:column;justify-content:space-around}hr{border:0;border-bottom:1px solid #dfe1e5;margin:0}.BUybKe,.HsnFBf{margin-left:16px}.BUybKe,.oM2GA{margin-right:16px}.XO7rhc{margin-right:-16px;margin-left:-16px}.ZM7ZNb{margin-right:-16px}.HbX59e{margin-left:}.r2fjmd{margin-bottom:;margin-top:}.ZTv9Bb{display:block}.nVTMpe{border-radius:8px}.X7NTVe{display:table;width:100%;padding-right:16px;box-sizing:border-box}.tHmfQe{display:table-cell;padding:12px 0 12px 16px}.UHtrk{width:72px}.HBTM6d{width:30px}.XS7yGd{display:table-cell;text-align:center;vertical-align:middle;padding:12px 0 12px 8px}.am3QBf{display:table;vertical-align:top}.Xb5VRe{color:#1967D2}a:visited .Xb5VRe{color:#4B11A8}.Xb5VRe.tr0dw{color:#fff}a:visited .Xb5VRe.tr0dw{color:rgba(255,255,255,.70)}.lcJF1d{border-radius:8px;margin-left:16px;float:right;}.SXn0g{overflow:hidden}.GXKcHe{display:inline-block}.p1CInd{position:relative}.HMoqlc{background-color:rgba(0,0,0,.12)}.qW7zYd{bottom:0;left:0;margin:auto;position:absolute;right:0;top:0}.X8r0X{background-image:url(data:image/png;base64,iVBORw0KGgoAAAANSUhEUgAAADAAAAAwCAQAAAD9CzEMAAABl0lEQVR4Ae2XveraUBiHY4xD3URx8F+9gHZW9EKEOgi9Cz8uQFtXiwRsobvgIoLXIfYCKrqoaadCk+Xp4HiSc15PQkvB512FB37xvB/Ok/8BXDqMWXMgICIi4MCaEW1cHFOZftBgxpkkTnygbi+osiTCRIhPxUbQ5wdSAnqPCQp84VF8PKmgyA4bthQlggI7bNnimQWfSYNvEvRJyzudoMpP0nKjnCxYkgWLJEFD+6ze8wsZIS/xghk6HN7wDRnTOIHLGR33F/IVCUdyqqCDHudewqhaqmAsEwijGqqCtUwgjGqlCg4ygTCqvSoIZAJhVFdVEMkEwqjCvyiwj+gt8oiy/8j/4G86QosSjZ6BKmhn2iqaqsDllFmz+x7X7Bw+ouMejYxJ/DyoZzRwflNLGpk+WTBPnskVAtJyoaRbW3qkpWtavHzS8Mm82XlssWVDXrb82ik2vJKu7x6+RTj5xw6QHjekXOjanFBlFoSCZzWnZH8EvmbKUdNzJtQER6ChXFoMWbHnSkjIlT0rBjTJyc/Y7OspkNYf1H6eRU02jH0AAAAASUVORK5CYII=);background-repeat:no-repeat;background-position:center}.SiONwe{background:rgba(32, 33, 36, 0.5);position:absolute;border-radius:4px;padding:2px 6px}.gGQDvd{padding:14px;position:relative}.Q71vJc{display:block;position:relative;width:100%}.kjGX2{position:absolute;left:48px;right:0;vertical-align:bottom;display:inline-block;color:#3c4043}.ieB2Dd{width:40px;height:40px;overflow:hidden;margin-top:-10px;margin-bottom:-16px;margin-right:8px;border-radius:4px;display:inline-block;border-radius:50%;}.LsF2v span{color:#fff;mask-image:url(data:image/png;base64,iVBORw0KGgoAAAANSUhEUgAAADAAAAAwCAQAAAD9CzEMAAABa0lEQVR4AeyWtUIYQRBAX6yLu0uH08Q9ZfInNHF36UKFlHwHNLi7u2uNN9hgg3PsCVtx753fzOkalgkJieErOXQwsWAHOXwjZjcvXohsYy7xBOYgycwhDs6RzEECcJZyxGA5Z/HJIUoQVAp4z22OL3ibdxs+WgmH8EUqorZzl83cpR1RU/FBDKI2cMrhAzYgaiyeydDUQc7hxDkGNSoDj1xH1CfsxDNEvYEnXmtaNiayNPK1vw+UgIkEfx+pRdOiMRGlkS14YlLTjmHimEZO4IlxTTuCiSMaOYkn2jQtChORGtlr+ycX4YlXrotptkb+wxM3XFa0J4j60E5TMaRRNXgmHlEbOevQ2DUi6gt8kGJorjsQNW23OpxbnOQEt3lPMYLKNJdsdpkjuv5lo9MX/nMBUT/jk3iHYUs9zwGQ4LeAaHTgxTgtpPOLpyj8Dn4LE4l79RbhLV7bvsVnsHmLz1gk0e7lQ0LmRzMAAAU5VLMEuZJZAAAAAElFTkSuQmCC)}.lRVwie{text-overflow:ellipsis;white-space:nowrap;overflow:hidden}.rLshyf,.BmP5tf{padding-top:12px;padding-bottom:12px}.YOx3Ab{padding-left:16px;}.w1C3Le,.BmP5tf,.G5NbBd,.CS4w5b{padding-left:16px;padding-right:16px;}.G5NbBd{padding-bottom:12px}.CS4w5b{padding-top:12px}.nMymef{display:flex}.G5eFlf{flex:1;display:block}.nMymef span{text-align:center}</style><div><!--SW_C_X--></div><div></div><div><div class=\"ZINbbc xpd O9g5cc uUPGi\"><div class=\"kCrYT\"><a href=\"/url?q=https://www.python.org/&amp;sa=U&amp;ved=2ahUKEwjZ-OLV_r_yAhVapZUCHep_ByAQFnoECAYQAQ&amp;usg=AOvVaw2hgSzDTWiwReuR11I5wZdQ\"><h3 class=\"zBAuLc\"><div class=\"BNeawe vvjwJb AP7Wnd\">Python.org</div></h3><div class=\"BNeawe UPmit AP7Wnd\">www.python.org</div></a></div><div class=\"x54gtf\"></div><div class=\"kCrYT\"><div><div class=\"BNeawe s3v9rd AP7Wnd\"><div><div><div class=\"Ap5OSd\"><div class=\"BNeawe s3v9rd AP7Wnd\">The official home of the Python Programming Language.</div></div><div class=\"v9i61e\"><div class=\"BNeawe s3v9rd AP7Wnd\"><span class=\"BNeawe\"><a href=\"/url?q=https://www.python.org/downloads/&amp;sa=U&amp;ved=2ahUKEwjZ-OLV_r_yAhVapZUCHep_ByAQjBAwAXoECAYQBA&amp;usg=AOvVaw0pDYcLAc6evU6Gf3SjFlVq\"><span class=\"XLloXe AP7Wnd\">Downloads</span></a></span></div></div><div class=\"v9i61e\"><div class=\"BNeawe s3v9rd AP7Wnd\"><span class=\"BNeawe\"><a href=\"/url?q=https://www.python.org/about/gettingstarted/&amp;sa=U&amp;ved=2ahUKEwjZ-OLV_r_yAhVapZUCHep_ByAQjBAwAnoECAYQBg&amp;usg=AOvVaw0KQmxFSQiWXT2Z7yzEwQuX\"><span class=\"XLloXe AP7Wnd\">Python For Beginners</span></a></span></div></div><div class=\"v9i61e\"><div class=\"BNeawe s3v9rd AP7Wnd\"><span class=\"BNeawe\"><a href=\"/url?q=https://docs.python.org/3/tutorial/&amp;sa=U&amp;ved=2ahUKEwjZ-OLV_r_yAhVapZUCHep_ByAQjBAwA3oECAYQCA&amp;usg=AOvVaw1x5Y_Nz3XeiuC3BJ3c8aS4\"><span class=\"XLloXe AP7Wnd\">Tutorial</span></a></span></div></div><div class=\"v9i61e\"><div class=\"BNeawe s3v9rd AP7Wnd\"><span class=\"BNeawe\"><a href=\"/url?q=https://docs.python.org/&amp;sa=U&amp;ved=2ahUKEwjZ-OLV_r_yAhVapZUCHep_ByAQjBAwBHoECAYQCg&amp;usg=AOvVaw30y8yrxWMloIYzs4ij0Cc0\"><span class=\"XLloXe AP7Wnd\">Python Docs</span></a></span></div></div><div class=\"v9i61e\"><div class=\"BNeawe s3v9rd AP7Wnd\"><span class=\"BNeawe\"><a href=\"/url?q=https://www.python.org/downloads/release/python-396/&amp;sa=U&amp;ved=2ahUKEwjZ-OLV_r_yAhVapZUCHep_ByAQjBAwBXoECAYQDA&amp;usg=AOvVaw3J113BLB0-UezpSM2ECD8W\"><span class=\"XLloXe AP7Wnd\">Python 3.9.6</span></a></span></div></div><div><div class=\"BNeawe s3v9rd AP7Wnd\"><span class=\"BNeawe\"><a href=\"/url?q=https://www.python.org/doc/&amp;sa=U&amp;ved=2ahUKEwjZ-OLV_r_yAhVapZUCHep_ByAQjBAwBnoECAYQDg&amp;usg=AOvVaw3TtEnPckDruTSsvlzMsYOT\"><span class=\"XLloXe AP7Wnd\">Documentation</span></a></span></div></div></div></div></div></div></div></div></div><div><div class=\"ZINbbc xpd O9g5cc uUPGi\"><div class=\"kCrYT\"><a href=\"/url?q=https://en.wikipedia.org/wiki/Python_(programming_language)&amp;sa=U&amp;ved=2ahUKEwjZ-OLV_r_yAhVapZUCHep_ByAQFnoECAEQAQ&amp;usg=AOvVaw1aWVSeq5B4T42aweNbsuTU\"><h3 class=\"zBAuLc\"><div class=\"BNeawe vvjwJb AP7Wnd\">Python (programming language) - Wikipedia</div></h3><div class=\"BNeawe UPmit AP7Wnd\">en.wikipedia.org &#8250; wiki &#8250; Python_(programming_language)</div></a></div><div class=\"x54gtf\"></div><div class=\"kCrYT\"><div><div class=\"BNeawe s3v9rd AP7Wnd\"><div><div><div class=\"BNeawe s3v9rd AP7Wnd\">Python is an interpreted high-level general-purpose programming language. Its design philosophy emphasizes code readability with its use of significant\\xa0...\\n\\nDeveloper: <span class=\"BNeawe\"><a href=\"/url?q=http://en.wikipedia.org/wiki/Python_Software_Foundation&amp;sa=U&amp;ved=2ahUKEwjZ-OLV_r_yAhVapZUCHep_ByAQs2Z6BAgBEAU&amp;usg=AOvVaw2YNVQVF8OhnRZGbKHXU0GG\"><span class=\"XLloXe AP7Wnd\">Python Software Foundation</span></a></span>\\nParadigm: <span class=\"BNeawe\"><a href=\"/url?q=http://en.wikipedia.org/wiki/Multi-paradigm_programming_language&amp;sa=U&amp;ved=2ahUKEwjZ-OLV_r_yAhVapZUCHep_ByAQs2Z6BAgBEAc&amp;usg=AOvVaw1homiUfsgwvjbi_BPT7pcj\"><span class=\"XLloXe AP7Wnd\">Multi-paradigm</span></a></span><span class=\"r0bn4c rQMQod\">: </span><span class=\"BNeawe\"><a href=\"/url?q=http://en.wikipedia.org/wiki/Object-oriented_programming&amp;sa=U&amp;ved=2ahUKEwjZ-OLV_r_yAhVapZUCHep_ByAQs2Z6BAgBEAg&amp;usg=AOvVaw1sp7gv_E3SnK5oFU7Twyz-\"><span class=\"XLloXe AP7Wnd\">object-oriented</span></a></span><span class=\"r0bn4c rQMQod\">, </span><span class=\"BNeawe\"><a href=\"/url?q=http://en.wikipedia.org/wiki/Procedural_programming&amp;sa=U&amp;ved=2ahUKEwjZ-OLV_r_yAhVapZUCHep_ByAQs2Z6BAgBEAk&amp;usg=AOvVaw2wMLBJn7bNNPZQW6TBaCOs\"><span class=\"XLloXe AP7Wnd\">procedural</span></a></span><span class=\"r0bn4c rQMQod\"> (</span><span class=\"BNeawe\"><a href=\"/url?q=http://en.wikipedia.org/wiki/Imperative_programming&amp;sa=U&amp;ved=2ahUKEwjZ-OLV_r_yAhVapZUCHep_ByAQs2Z6BAgBEAo&amp;usg=AOvVaw3-q89K9L4HiheWmpGIEHxU\"><span class=\"XLloXe AP7Wnd\">imperative</span></a></span><span class=\"r0bn4c rQMQod\">), </span><span class=\"BNeawe\"><a href=\"/url?q=http://en.wikipedia.org/wiki/Functional_programming&amp;sa=U&amp;ved=2ahUKEwjZ-OLV_r_yAhVapZUCHep_ByAQs2Z6BAgBEAs&amp;usg=AOvVaw1dhrcbZu2_BsdqeHddwsAA\"><span class=\"XLloXe AP7Wnd\">functional</span></a></span><span class=\"r0bn4c rQMQod\">, </span><span class=\"BNeawe\"><a href=\"/url?q=http://en.wikipedia.org/wiki/Structured_programming&amp;sa=U&amp;ved=2ahUKEwjZ-OLV_r_yAhVapZUCHep_ByAQs2Z6BAgBEAw&amp;usg=AOvVaw0ZJJcshsabBXQJrZlQQp8P\"><span class=\"XLloXe AP7Wnd\">structured</span></a></span><span class=\"r0bn4c rQMQod\">, </span><span class=\"BNeawe\"><a href=\"/url?q=http://en.wikipedia.org/wiki/Reflective_programming&amp;sa=U&amp;ved=2ahUKEwjZ-OLV_r_yAhVapZUCHep_ByAQs2Z6BAgBEA0&amp;usg=AOvVaw3qFrtEjJP1cpEhUbqRuFFO\"><span class=\"XLloXe AP7Wnd\">reflective</span></a></span>\\nFirst appeared: <span class=\"r0bn4c rQMQod\">February 20, 1991; 30 years ago</span>\\nStable release: <span class=\"r0bn4c rQMQod\">3.9.6 / 28 June 2021; 53 days ago</span></div></div></div></div></div></div></div></div><div><div class=\"ZINbbc xpd O9g5cc uUPGi\"><div class=\"kCrYT\"><a href=\"/url?q=https://www.w3schools.com/PYTHON/&amp;sa=U&amp;ved=2ahUKEwjZ-OLV_r_yAhVapZUCHep_ByAQFnoECAIQAQ&amp;usg=AOvVaw2PYiWw9kshNp4mCPSu8v1x\"><h3 class=\"zBAuLc\"><div class=\"BNeawe vvjwJb AP7Wnd\">Python Tutorial - W3Schools</div></h3><div class=\"BNeawe UPmit AP7Wnd\">www.w3schools.com &#8250; PYTHON</div></a></div><div class=\"x54gtf\"></div><div class=\"kCrYT\"><div><div class=\"BNeawe s3v9rd AP7Wnd\"><div><div><div class=\"BNeawe s3v9rd AP7Wnd\">Python Tutorial ... Python is a programming language. Python can be used on a server to create web applications. Start learning Python now \\xbb. Learning by Examples.</div></div></div></div></div></div></div></div><div><div class=\"ZINbbc xpd O9g5cc uUPGi\"><div></div><div class=\"mEUgP\"><span><div class=\"BNeawe\"><span class=\"FCUp0c rQMQod\">People also ask</span></div></span></div><div class=\"x54gtf\"></div><div><div class=\"xpc\"><div class=\"duf-h\"><div class=\"fLtXsc iIWm4b\" aria-expanded=\"false\" id=\"tsuid7\" role=\"button\" tabindex=\"0\" data-ved=\"2ahUKEwjZ-OLV_r_yAhVapZUCHep_ByAQuk56BAgJEAI\"><div class=\"Lt3Tzc\">What is python used for?</div><div class=\"Lym8W xCgLUe\"><div class=\"AeQQub hwc\"></div><div class=\"YCU7eb hwc\"></div><div class=\"IyYaEd hwx\"></div><div class=\"ECUHQe hwx\"></div></div></div></div><div class=\"qxDOhb\" id=\"accdef_8\"></div></div></div><div class=\"x54gtf\"></div><div><div class=\"xpc\"><div class=\"duf-h\"><div class=\"fLtXsc iIWm4b\" aria-expanded=\"false\" id=\"tsuid10\" role=\"button\" tabindex=\"0\" data-ved=\"2ahUKEwjZ-OLV_r_yAhVapZUCHep_ByAQuk56BAgJEAk\"><div class=\"Lt3Tzc\">Is python really easy to learn?</div><div class=\"Lym8W xCgLUe\"><div class=\"AeQQub hwc\"></div><div class=\"YCU7eb hwc\"></div><div class=\"IyYaEd hwx\"></div><div class=\"ECUHQe hwx\"></div></div></div></div><div class=\"qxDOhb\" id=\"accdef_11\"></div></div></div><div class=\"x54gtf\"></div><div><div class=\"xpc\"><div class=\"duf-h\"><div class=\"fLtXsc iIWm4b\" aria-expanded=\"false\" id=\"tsuid13\" role=\"button\" tabindex=\"0\" data-ved=\"2ahUKEwjZ-OLV_r_yAhVapZUCHep_ByAQuk56BAgJEBA\"><div class=\"Lt3Tzc\">What are basics of python?</div><div class=\"Lym8W xCgLUe\"><div class=\"AeQQub hwc\"></div><div class=\"YCU7eb hwc\"></div><div class=\"IyYaEd hwx\"></div><div class=\"ECUHQe hwx\"></div></div></div></div><div class=\"qxDOhb\" id=\"accdef_14\"></div></div></div><div class=\"x54gtf\"></div><div><div class=\"xpc\"><div class=\"duf-h\"><div class=\"fLtXsc iIWm4b\" aria-expanded=\"false\" id=\"tsuid16\" role=\"button\" tabindex=\"0\" data-ved=\"2ahUKEwjZ-OLV_r_yAhVapZUCHep_ByAQuk56BAgJEBc\"><div class=\"Lt3Tzc\">Is python good or bad?</div><div class=\"Lym8W xCgLUe\"><div class=\"AeQQub hwc\"></div><div class=\"YCU7eb hwc\"></div><div class=\"IyYaEd hwx\"></div><div class=\"ECUHQe hwx\"></div></div></div></div><div class=\"qxDOhb\" id=\"accdef_17\"></div></div></div></div></div><div><div class=\"ZINbbc xpd O9g5cc uUPGi\"><div class=\"kCrYT\"><a href=\"/url?q=https://www.codecademy.com/catalog/language/python&amp;sa=U&amp;ved=2ahUKEwjZ-OLV_r_yAhVapZUCHep_ByAQFnoECAAQAQ&amp;usg=AOvVaw0tUhntmu-1oAF2XQamYpuZ\"><h3 class=\"zBAuLc\"><div class=\"BNeawe vvjwJb AP7Wnd\">Python Courses &amp; Tutorials | Codecademy</div></h3><div class=\"BNeawe UPmit AP7Wnd\">www.codecademy.com &#8250; catalog &#8250; language &#8250; python</div></a></div><div class=\"x54gtf\"></div><div class=\"kCrYT\"><div><div class=\"BNeawe s3v9rd AP7Wnd\"><div><div><div class=\"BNeawe s3v9rd AP7Wnd\">Python is a general-purpose, versatile, and powerful programming language. It\\'s a great first language because it\\'s concise and easy to read.</div></div></div></div></div></div></div></div><div><div class=\"ZINbbc xpd O9g5cc uUPGi\"><div class=\"kCrYT\"><div class=\"nGphre\"><a href=\"/url?q=https://commons.wikimedia.org/wiki/File:Python-logo-notext.svg&amp;sa=U&amp;ved=2ahUKEwjZ-OLV_r_yAhVapZUCHep_ByAQwW4wEnoECAoQAg&amp;usg=AOvVaw2jM8NFWGYT8PpzsNUeAZno\"><img class=\"UykT9d\" alt=\"\" src=\"data:image/gif;base64,R0lGODlhAQABAIAAAP///////yH5BAEKAAEALAAAAAABAAEAAAICTAEAOw==\" style=\"max-width:72px;max-height:72px\" id=\"dimg_19\" data-deferred=\"1\"></a></div><span><h3 class=\"zBAuLc\"><div class=\"BNeawe deIvCb AP7Wnd\">Python</div></h3></span><span><div class=\"BNeawe tAd8D AP7Wnd\">High-level programming language</div></span><div class=\"nYT7Qb\"></div></div><div class=\"xpc\"><div><div class=\"Q0HXG\"></div><div class=\"kCrYT\"><div><div class=\"BNeawe s3v9rd AP7Wnd\"><div><div class=\"BNeawe s3v9rd AP7Wnd\">Python is an interpreted high-level general-purpose programming language. Its design philosophy emphasizes code readability with its use of significant indentation. Its language constructs as well as its object-oriented approach aim to help... <span class=\"BNeawe\"><a href=\"/url?q=https://en.wikipedia.org/wiki/Python_(programming_language)&amp;sa=U&amp;ved=2ahUKEwjZ-OLV_r_yAhVapZUCHep_ByAQmhMwFHoECAoQBw&amp;usg=AOvVaw3ve4t7cPHYlyah2n26db99\"><span class=\"XLloXe AP7Wnd\">Wikipedia</span></a></span></div></div></div></div></div><div class=\"vbShOe kCrYT\"><div class=\"AVsepf\"><div class=\"BNeawe s3v9rd AP7Wnd\"><span><span class=\"BNeawe s3v9rd AP7Wnd\">Developer</span></span>: <span><span class=\"BNeawe tAd8D AP7Wnd\"><span class=\"BNeawe\"><a href=\"/search?ie=UTF-8&amp;q=Python+Software+Foundation&amp;stick=H4sIAAAAAAAAAOPgE-LQz9U3MK0yjFfiBLGMjXMMC7REiout9MtTk9ISk0uKrVJSy1Jz8gsWsUoFVJZk5OcpBOenlZQnFqUquOWX5qUklmTm5wEARRLJ1UoAAAA&amp;sa=X&amp;ved=2ahUKEwjZ-OLV_r_yAhVapZUCHep_ByAQmxMwFnoECAoQCQ\"><span class=\"XLloXe AP7Wnd\">Python Software Foundation</span></a></span></span></span></div></div><div class=\"AVsepf\"><div class=\"BNeawe s3v9rd AP7Wnd\"><span><span class=\"BNeawe s3v9rd AP7Wnd\">Stable release</span></span>: <span><span class=\"BNeawe tAd8D AP7Wnd\">3.9.6 / <span class=\"BNeawe\"><a href=\"/search?ie=UTF-8&amp;q=28+June+2021&amp;stick=H4sIAAAAAAAAAOPgE-LQz9U3MK0yjFcS0C_RNzLMs0yzMDEyMc7JLdGSLC620i9PTUpLTC4ptiouSUzKiS9KzUlNLF7EymNkoeBVmpeqYGRgZAgA-I4OMEgAAAA&amp;sa=X&amp;ved=2ahUKEwjZ-OLV_r_yAhVapZUCHep_ByAQmxMwF3oECAoQCw\"><span class=\"XLloXe AP7Wnd\">28 June 2021</span></a></span>; 37 days ago</span></span></div></div><div class=\"AVsepf\"><div class=\"BNeawe s3v9rd AP7Wnd\"><span><span class=\"BNeawe s3v9rd AP7Wnd\">Typing discipline</span></span>: <span><span class=\"BNeawe tAd8D AP7Wnd\">Duck, dynamic, <span class=\"BNeawe\"><a href=\"/search?ie=UTF-8&amp;q=strong+typing&amp;stick=H4sIAAAAAAAAAOPgE-LQz9U3MK0yjFfi1k_XNzQyyKhKKqvQki4uttIvT01KS0wuKbYqqSxIjU_JLE7OLMjJzFvEyltcUpSfl64AFM_MSwcAT-qhtUYAAAA&amp;sa=X&amp;ved=2ahUKEwjZ-OLV_r_yAhVapZUCHep_ByAQmxMwGHoECAoQDQ\"><span class=\"XLloXe AP7Wnd\">strong typing</span></a></span>; gradual (since 3.5, but ignored in <span class=\"BNeawe\"><a href=\"/search?ie=UTF-8&amp;q=CPython&amp;stick=H4sIAAAAAAAAAOPgE-LQz9U3MK0yjFfiBLHMkioqkrSki4ut9MtTk9ISk0uKrUoqC1LjUzKLkzMLcjLzFrGyOwdUlmTk5wEAPgUXRT4AAAA&amp;sa=X&amp;ved=2ahUKEwjZ-OLV_r_yAhVapZUCHep_ByAQmxMwGHoECAoQDg\"><span class=\"XLloXe AP7Wnd\">CPython</span></a></span>)</span></span></div></div><div class=\"AVsepf\"><div class=\"BNeawe s3v9rd AP7Wnd\"><span><span class=\"BNeawe s3v9rd AP7Wnd\">Designed by</span></span>: <span><span class=\"BNeawe tAd8D AP7Wnd\"><span class=\"BNeawe\"><a href=\"/search?ie=UTF-8&amp;q=Guido+van+Rossum&amp;stick=H4sIAAAAAAAAAOPgE-LQz9U3MK0yjFfiBLEMMwxMk7UMMsqt9JPzc3JSk0sy8_P0C4ry04sSc3Mz89LjcxLz0ksT01OLrVJSizPT81JTFJIqF7EKuJdmpuQrlCXmKQTlFxeX5gIAXhtP9lwAAAA&amp;sa=X&amp;ved=2ahUKEwjZ-OLV_r_yAhVapZUCHep_ByAQmxMwGXoECAoQEA\"><span class=\"XLloXe AP7Wnd\">Guido van Rossum</span></a></span></span></span></div></div><div class=\"AVsepf hwc\"><div class=\"BNeawe s3v9rd AP7Wnd\"><span><span class=\"BNeawe s3v9rd AP7Wnd\">First appeared</span></span>: <span><span class=\"BNeawe tAd8D AP7Wnd\"><span class=\"BNeawe\"><a href=\"/search?ie=UTF-8&amp;q=February+1991&amp;stick=H4sIAAAAAAAAAOPgE-LQz9U3MK0yjFcS0C_RN8ooyU1JN64oK0mqKtGSLC620i9PTUpLTC4ptkrLLCouiU8sKEhNLFrEyuuWmlRUmlhUqWBoaWkIAJwPzk5JAAAA&amp;sa=X&amp;ved=2ahUKEwjZ-OLV_r_yAhVapZUCHep_ByAQmxMwGnoECAoQEg\"><span class=\"XLloXe AP7Wnd\">February 1991</span></a></span>; 30 years ago</span></span></div></div><div class=\"AVsepf hwc\"><div class=\"BNeawe s3v9rd AP7Wnd\"><span><span class=\"BNeawe s3v9rd AP7Wnd\">Paradigm</span></span>: <span><span class=\"BNeawe tAd8D AP7Wnd\">Multi-paradigm: object-oriented, <span class=\"BNeawe\"><a href=\"/search?ie=UTF-8&amp;q=procedural&amp;stick=H4sIAAAAAAAAAOPgE-LQz9U3MK0yjFeCsCpTTLVEi4ut9MtTk9ISk0uKrQoSixJTMtNzF7FyFRTlJ6emlBYl5gAAmYV0mzoAAAA&amp;sa=X&amp;ved=2ahUKEwjZ-OLV_r_yAhVapZUCHep_ByAQmxMwG3oECAoQFA\"><span class=\"XLloXe AP7Wnd\">procedural</span></a></span> (<span class=\"BNeawe\"><a href=\"/search?ie=UTF-8&amp;q=imperative&amp;stick=H4sIAAAAAAAAAOPgE-LQz9U3MK0yjFfiArGM0wuN0qq0RIuLrfTLU5PSEpNLiq0KEosSUzLTcxexcmXmFqQWJZZklqUCAA7679Q8AAAA&amp;sa=X&amp;ved=2ahUKEwjZ-OLV_r_yAhVapZUCHep_ByAQmxMwG3oECAoQFQ\"><span class=\"XLloXe AP7Wnd\">imperative</span></a></span>), functional, structured, reflective</span></span></div></div><div class=\"AVsepf u2x1Od hwc\"><div class=\"BNeawe s3v9rd AP7Wnd\"><span><span class=\"BNeawe s3v9rd AP7Wnd\">Filename extensions</span></span>: <span><span class=\"BNeawe tAd8D AP7Wnd\">.py,.pyi,.pyc,.pyd,.pyo (prior to 3.5),.pyw,.pyz (since 3.5)</span></span></div></div></div><div class=\"Q0HXG\"></div><div><div class=\"kCrYT\"><span class=\"punez\"><div class=\"BNeawe wyrwXc AP7Wnd\">Python libraries</div></span></div><div><div><div class=\"Xdlr0d\"><div class=\"idg8be\"><a class=\"BVG0Nb\" href=\"/search?ie=UTF-8&amp;q=TensorFlow&amp;stick=H4sIAAAAAAAAAONgFuLQz9U3MK0yjFfi1U_XNzRMKi8wLDbKNtYSyU620k_Oz83Nz7NKyS_PK08sSilexMoVkppXnF_klpNfDgCx8fy7PgAAAA&amp;sa=X&amp;ved=2ahUKEwjZ-OLV_r_yAhVapZUCHep_ByAQ0I4BMB16BAgKEBk\"><div><div style=\"width:112px\"><div class=\"S7Jdze\" style=\"width:112px;height:112px\"><img class=\"EYOsld\" alt=\"\" src=\"data:image/gif;base64,R0lGODlhAQABAIAAAP///////yH5BAEKAAEALAAAAAABAAEAAAICTAEAOw==\" style=\"max-width:112px;max-height:112px\" id=\"dimg_21\" data-deferred=\"1\"></div><div class=\"RWuggc kCrYT\"><div><div class=\"BNeawe s3v9rd AP7Wnd\">TensorFlow</div></div></div></div></div></a><a class=\"BVG0Nb\" href=\"/search?ie=UTF-8&amp;q=PyTorch&amp;stick=H4sIAAAAAAAAAONgFuLQz9U3MK0yjFfi1U_XNzRMTzG2NDAtM9QSyU620k_Oz83Nz7NKyS_PK08sSilexMoeUBmSX5ScAQBZXISTOwAAAA&amp;sa=X&amp;ved=2ahUKEwjZ-OLV_r_yAhVapZUCHep_ByAQ0I4BMB16BAgKEBs\"><div><div style=\"width:112px\"><div class=\"S7Jdze\" style=\"width:112px;height:112px\"><img class=\"EYOsld\" alt=\"\" src=\"data:image/gif;base64,R0lGODlhAQABAIAAAP///////yH5BAEKAAEALAAAAAABAAEAAAICTAEAOw==\" style=\"max-width:112px;max-height:112px\" id=\"dimg_23\" data-deferred=\"1\"></div><div class=\"RWuggc kCrYT\"><div><div class=\"BNeawe s3v9rd AP7Wnd\">PyTorch</div></div></div></div></div></a><a class=\"BVG0Nb\" href=\"/search?ie=UTF-8&amp;q=OpenCV&amp;stick=H4sIAAAAAAAAAONgFuLQz9U3MK0yjFfiBLHMsgyyTLREspOt9JPzc3Pz86xS8svzyhOLUooXsbL5F6TmOYcBALOm3_c2AAAA&amp;sa=X&amp;ved=2ahUKEwjZ-OLV_r_yAhVapZUCHep_ByAQ0I4BMB16BAgKEB0\"><div><div style=\"width:112px\"><div class=\"S7Jdze\" style=\"width:112px;height:112px\"><img class=\"EYOsld\" alt=\"\" src=\"data:image/gif;base64,R0lGODlhAQABAIAAAP///////yH5BAEKAAEALAAAAAABAAEAAAICTAEAOw==\" style=\"max-width:112px;max-height:112px\" id=\"dimg_25\" data-deferred=\"1\"></div><div class=\"RWuggc kCrYT\"><div><div class=\"BNeawe s3v9rd AP7Wnd\">OpenCV</div></div></div></div></div></a><a class=\"BVG0Nb\" href=\"/search?ie=UTF-8&amp;q=Theano&amp;stick=H4sIAAAAAAAAAONgFuLQz9U3MK0yjFfiArEyLE1zMyy0RLKTrfST83Nz8_OsUvLL88oTi1KKF7GyhWSkJublAwAMoZDCNwAAAA&amp;sa=X&amp;ved=2ahUKEwjZ-OLV_r_yAhVapZUCHep_ByAQ0I4BMB16BAgKEB8\"><div><div style=\"width:112px\"><div class=\"S7Jdze\" style=\"width:112px;height:112px\"><img class=\"EYOsld\" alt=\"\" src=\"data:image/gif;base64,R0lGODlhAQABAIAAAP///////yH5BAEKAAEALAAAAAABAAEAAAICTAEAOw==\" style=\"max-width:112px;max-height:112px\" id=\"dimg_27\" data-deferred=\"1\"></div><div class=\"RWuggc kCrYT\"><div><div class=\"BNeawe s3v9rd AP7Wnd\">Theano</div></div></div></div></div></a><a class=\"BVG0Nb\" href=\"/search?ie=UTF-8&amp;q=Requests&amp;stick=H4sIAAAAAAAAAONgFuLQz9U3MK0yjFfiBrEMjTLyDHOMtUSyk630k_Nzc_PzrFLyy_PKE4tSihexcgSlFpamFpcUAwBfX6itOgAAAA&amp;sa=X&amp;ved=2ahUKEwjZ-OLV_r_yAhVapZUCHep_ByAQ0I4BMB16BAgKECE\"><div><div style=\"width:112px\"><div class=\"S7Jdze\" style=\"width:112px;height:112px\"><img class=\"EYOsld\" alt=\"\" src=\"data:image/gif;base64,R0lGODlhAQABAIAAAP///////yH5BAEKAAEALAAAAAABAAEAAAICTAEAOw==\" style=\"max-width:112px;max-height:112px\" id=\"dimg_29\" data-deferred=\"1\"></div><div class=\"RWuggc kCrYT\"><div><div class=\"BNeawe s3v9rd AP7Wnd\">Requests</div></div></div></div></div></a><a class=\"BVG0Nb\" href=\"/search?ie=UTF-8&amp;q=Apache+Spark&amp;stick=H4sIAAAAAAAAAONgFuLQz9U3MK0yjFfiArHyUjIqCqu0RLKTrfST83Nz8_OsUvLL88oTi1KKF7HyOBYkJmekKgQXJBZlAwCas-s8PQAAAA&amp;sa=X&amp;ved=2ahUKEwjZ-OLV_r_yAhVapZUCHep_ByAQ0I4BMB16BAgKECM\"><div><div style=\"width:112px\"><div class=\"S7Jdze\" style=\"width:112px;height:112px\"><img class=\"EYOsld\" alt=\"\" src=\"data:image/gif;base64,R0lGODlhAQABAIAAAP///////yH5BAEKAAEALAAAAAABAAEAAAICTAEAOw==\" style=\"max-width:112px;max-height:112px\" id=\"dimg_31\" data-deferred=\"1\"></div><div class=\"RWuggc kCrYT\"><div><div class=\"BNeawe s3v9rd AP7Wnd\">Apache Spark</div></div></div></div></div></a></div></div></div></div></div><div class=\"hwc\"><div class=\"kCrYT\"><span class=\"punez\"><div class=\"BNeawe wyrwXc AP7Wnd\">Python compilers</div></span></div><div><div><div class=\"Xdlr0d\"><div class=\"idg8be\"><a class=\"BVG0Nb\" href=\"/search?ie=UTF-8&amp;q=Numba&amp;stick=H4sIAAAAAAAAAONgFuLQz9U3MK0yjFfiArGqUrItyky0RLKTrfST83Nz8_OsUvLL88oTi1KKF7Gy-pXmJiUCAE2hb0w2AAAA&amp;sa=X&amp;ved=2ahUKEwjZ-OLV_r_yAhVapZUCHep_ByAQ0I4BMB56BAgKECY\"><div><div style=\"width:112px\"><div class=\"S7Jdze\" style=\"width:112px;height:112px\"><img class=\"EYOsld\" alt=\"\" data-ll=\"https://encrypted-tbn0.gstatic.com/images?q=tbn:ANd9GcTTIUNu9g6rNHLIb8r27pxfmYBt1Y13y8o3L0dub-o0VLJlgva9fXuzuzs&amp;s=0\" src=\"data:image/gif;base64,R0lGODlhAQABAIAAAP///////yH5BAEKAAEALAAAAAABAAEAAAICTAEAOw==\" style=\"max-width:112px;max-height:112px\"></div><div class=\"RWuggc kCrYT\"><div><div class=\"BNeawe s3v9rd AP7Wnd\">Numba</div></div></div></div></div></a><a class=\"BVG0Nb\" href=\"/search?ie=UTF-8&amp;q=Pyjs&amp;stick=H4sIAAAAAAAAAONgFuLQz9U3MK0yjFfiArFMKs2TLMy1RLKTrfST83Nz8_OsUvLL88oTi1KKF7GyBFRmFQMA2WzTMDUAAAA&amp;sa=X&amp;ved=2ahUKEwjZ-OLV_r_yAhVapZUCHep_ByAQ0I4BMB56BAgKECg\"><div><div style=\"width:112px\"><div class=\"S7Jdze\" style=\"width:112px;height:112px\"><img class=\"EYOsld\" alt=\"\" data-ll=\"https://encrypted-tbn0.gstatic.com/images?q=tbn:ANd9GcTMdvzFcMYXfbV4bnAb_vppr4rudgPkTwEXwbqFkeA&amp;s=0\" src=\"data:image/gif;base64,R0lGODlhAQABAIAAAP///////yH5BAEKAAEALAAAAAABAAEAAAICTAEAOw==\" style=\"max-width:112px;max-height:112px\"></div><div class=\"RWuggc kCrYT\"><div><div class=\"BNeawe s3v9rd AP7Wnd\">Pyjs</div></div></div></div></div></a><a class=\"BVG0Nb\" href=\"/search?ie=UTF-8&amp;q=LLVM&amp;stick=H4sIAAAAAAAAAONgFuLQz9U3MK0yjFfiBLGM4uPTzLREspOt9JPzc3Pz86xS8svzyhOLUooXsbL4-IT5AgD_vt3UNAAAAA&amp;sa=X&amp;ved=2ahUKEwjZ-OLV_r_yAhVapZUCHep_ByAQ0I4BMB56BAgKECo\"><div><div style=\"width:112px\"><div class=\"S7Jdze\" style=\"width:112px;height:112px\"><img class=\"EYOsld\" alt=\"\" data-ll=\"https://encrypted-tbn0.gstatic.com/images?q=tbn:ANd9GcQBl5goR4qXJ4rkUyG8vFqoeRcbVxiUt-IalqZRmy_PDfJm6_j1VKFLt18&amp;s=0\" src=\"data:image/gif;base64,R0lGODlhAQABAIAAAP///////yH5BAEKAAEALAAAAAABAAEAAAICTAEAOw==\" style=\"max-width:112px;max-height:112px\"></div><div class=\"RWuggc kCrYT\"><div><div class=\"BNeawe s3v9rd AP7Wnd\">LLVM</div></div></div></div></div></a><a class=\"BVG0Nb\" href=\"/search?ie=UTF-8&amp;q=GNU+Compiler+Collection&amp;stick=H4sIAAAAAAAAAONgFuLQz9U3MK0yjFcCs4zN07O0RLKTrfST83Nz8_OsUvLL88oTi1KKF7GKu_uFKjjn5xZk5qQWARk5OanJJZn5eQCailmfRgAAAA&amp;sa=X&amp;ved=2ahUKEwjZ-OLV_r_yAhVapZUCHep_ByAQ0I4BMB56BAgKECw\"><div><div style=\"width:112px\"><div class=\"S7Jdze\" style=\"width:112px;height:112px\"><img class=\"EYOsld\" alt=\"\" data-ll=\"https://encrypted-tbn0.gstatic.com/images?q=tbn:ANd9GcReMWHkklurF3J7CzxhXhYZocSKfDtPkcBa5kuTIe_-QNLwv-DMMaab-Gs&amp;s=0\" src=\"data:image/gif;base64,R0lGODlhAQABAIAAAP///////yH5BAEKAAEALAAAAAABAAEAAAICTAEAOw==\" style=\"max-width:112px;max-height:112px\"></div><div class=\"RWuggc kCrYT\"><div><div class=\"BNeawe s3v9rd AP7Wnd\">GNU Compiler Collection</div></div></div></div></div></a><a class=\"BVG0Nb\" href=\"/search?ie=UTF-8&amp;q=Clang&amp;stick=H4sIAAAAAAAAAONgFuLQz9U3MK0yjFfiArGMyo3jkyq1RLKTrfST83Nz8_OsUvLL88oTi1KKF7GyOuck5qUDAE5gOQY2AAAA&amp;sa=X&amp;ved=2ahUKEwjZ-OLV_r_yAhVapZUCHep_ByAQ0I4BMB56BAgKEC4\"><div><div style=\"width:112px\"><div class=\"S7Jdze\" style=\"width:112px;height:112px\"><img class=\"EYOsld\" alt=\"\" data-ll=\"https://encrypted-tbn0.gstatic.com/images?q=tbn:ANd9GcSkKmyM711l_7bx2H4UhvqH-PHIimrJdE9Ir7YrGCwBvoiII4TPMrGauHo&amp;s=0\" src=\"data:image/gif;base64,R0lGODlhAQABAIAAAP///////yH5BAEKAAEALAAAAAABAAEAAAICTAEAOw==\" style=\"max-width:112px;max-height:112px\"></div><div class=\"RWuggc kCrYT\"><div><div class=\"BNeawe s3v9rd AP7Wnd\">Clang</div></div></div></div></div></a><a class=\"BVG0Nb\" href=\"/search?ie=UTF-8&amp;q=MinGW&amp;stick=H4sIAAAAAAAAAONgFuLQz9U3MK0yjFfiBLEM47ON0rVEspOt9JPzc3Pz86xS8svzyhOLUooXsbL6Zua5hwMAdA2erDUAAAA&amp;sa=X&amp;ved=2ahUKEwjZ-OLV_r_yAhVapZUCHep_ByAQ0I4BMB56BAgKEDA\"><div><div style=\"width:112px\"><div class=\"S7Jdze\" style=\"width:112px;height:112px\"><img class=\"EYOsld\" alt=\"\" data-ll=\"https://encrypted-tbn0.gstatic.com/images?q=tbn:ANd9GcQvbZRyBk7TmBwSwTIT7Vyx6jXYxYKZwqOT1-ris8Zp4Sscb85R5rW2aMc&amp;s=0\" src=\"data:image/gif;base64,R0lGODlhAQABAIAAAP///////yH5BAEKAAEALAAAAAABAAEAAAICTAEAOw==\" style=\"max-width:112px;max-height:112px\"></div><div class=\"RWuggc kCrYT\"><div><div class=\"BNeawe s3v9rd AP7Wnd\">MinGW</div></div></div></div></div></a></div></div></div></div></div><hr></div><div class=\"duf-h\"><div class=\"fLtXsc iIWm4b\" aria-expanded=\"false\" id=\"tsuid33\" style=\"text-align:center\" role=\"button\" tabindex=\"0\"><div class=\"Lym8W\"><div class=\"AeQQub hwc\"></div><div class=\"YCU7eb hwc\"></div><div class=\"IyYaEd hwx\"></div><div class=\"ECUHQe hwx\"></div></div></div></div></div></div></div><div><div class=\"ZINbbc xpd O9g5cc uUPGi\"><div class=\"kCrYT\"><div class=\"q4vBJc\"></div><span><h2 class=\"zBAuLc\"><div class=\"BNeawe deIvCb AP7Wnd\">See results about</div></h2></span></div><div class=\"Q0HXG\"></div><div class=\"X7NTVe\"><a class=\"tHmfQe\" href=\"/search?ie=UTF-8&amp;q=Python+Software+Foundation&amp;stick=H4sIAAAAAAAAAONgVuLUz9U3MDbOMSwAANA9r_gNAAAA&amp;sa=X&amp;ved=2ahUKEwjZ-OLV_r_yAhVapZUCHep_ByAQ6RMwIHoECAUQAw\"><div class=\"am3QBf\"><div><span><h3 class=\"zBAuLc\"><div class=\"BNeawe deIvCb AP7Wnd\"><span class=\"rQMQod Xb5VRe\">Python Software Foundation (Nonprofit organization)</span></div></h3></span><span><div class=\"BNeawe tAd8D AP7Wnd\">Headquarters: <span class=\"r0bn4c rQMQod\">Wilmington, Delaware, United States</span>\\nPresident: <span class=\"r0bn4c rQMQod\">Guido van Rossum</span></div></span></div></div></a><div class=\"UHtrk XS7yGd\"><a href=\"/search?ie=UTF-8&amp;q=Python+Software+Foundation&amp;stick=H4sIAAAAAAAAAONgVuLUz9U3MDbOMSwAANA9r_gNAAAA&amp;sa=X&amp;ved=2ahUKEwjZ-OLV_r_yAhVapZUCHep_ByAQ6RMwIHoECAUQBg\"><img class=\"ZTv9Bb nVTMpe\" alt=\"\" src=\"data:image/gif;base64,R0lGODlhAQABAIAAAP///////yH5BAEKAAEALAAAAAABAAEAAAICTAEAOw==\" style=\"max-width:72px;max-height:72px\" id=\"dimg_1\" data-deferred=\"1\"></a></div></div></div></div><div><div class=\"ZINbbc xpd O9g5cc uUPGi\"><div class=\"kCrYT\"><a href=\"/url?q=https://www.youtube.com/watch%3Fv%3DrfscVS0vtbw%26vl%3Den&amp;sa=U&amp;ved=2ahUKEwjZ-OLV_r_yAhVapZUCHep_ByAQtwJ6BAgIEAE&amp;usg=AOvVaw3erT043iNVUqfzV8WuysUU\"><h3 class=\"zBAuLc\"><div class=\"BNeawe vvjwJb AP7Wnd\">Learn Python - Full Course for Beginners [Tutorial] - YouTube</div></h3><div class=\"BNeawe UPmit AP7Wnd\">www.youtube.com &#8250; watch</div></a></div><div class=\"x54gtf\"></div><div class=\"kCrYT\"><a href=\"/url?q=https://www.youtube.com/watch%3Fv%3DrfscVS0vtbw%26vl%3Den&amp;sa=U&amp;ved=2ahUKEwjZ-OLV_r_yAhVapZUCHep_ByAQuAJ6BAgIEAI&amp;usg=AOvVaw058k0kxr3HPUnSQ2phhROh\"><div class=\"lcJF1d SXn0g GXKcHe p1CInd\"><div style=\"width:120px;height:67px;position:static\"><img class=\"EYOsld\" alt=\"Video for python\" src=\"data:image/gif;base64,R0lGODlhAQABAIAAAP///////yH5BAEKAAEALAAAAAABAAEAAAICTAEAOw==\" style=\"width:120px;height:67px\" id=\"dimg_3\" data-deferred=\"1\"></div><div class=\"qW7zYd HMoqlc\"></div><div class=\"qW7zYd X8r0X\" style=\"background-size:36px\"></div></div></a><div><div class=\"BNeawe s3v9rd AP7Wnd\"><div><div><div class=\"BNeawe s3v9rd AP7Wnd\"><span class=\"r0bn4c rQMQod\">11-Jul-2018</span><span class=\"r0bn4c rQMQod\"> \\xb7 </span>This course will give you a full introduction into all of the core concepts in python. Follow along ...Duration: <span class=\"r0bn4c rQMQod\">4:26:52</span><br>Posted: <span class=\"r0bn4c rQMQod\">11-Jul-2018</span></div></div></div></div></div><div class=\"rl7ilb\"></div></div></div></div><div><div class=\"ZINbbc xpd O9g5cc uUPGi\"><div class=\"kCrYT\"><a href=\"/url?q=https://www.youtube.com/watch%3Fv%3D_uQrJ0TkZlc%26vl%3Den&amp;sa=U&amp;ved=2ahUKEwjZ-OLV_r_yAhVapZUCHep_ByAQtwJ6BAgHEAE&amp;usg=AOvVaw3JXxQsjwe-5XpnryLrNF9A\"><h3 class=\"zBAuLc\"><div class=\"BNeawe vvjwJb AP7Wnd\">Python Tutorial for Beginners [Full Course] - YouTube</div></h3><div class=\"BNeawe UPmit AP7Wnd\">www.youtube.com &#8250; watch</div></a></div><div class=\"x54gtf\"></div><div class=\"kCrYT\"><a href=\"/url?q=https://www.youtube.com/watch%3Fv%3D_uQrJ0TkZlc%26vl%3Den&amp;sa=U&amp;ved=2ahUKEwjZ-OLV_r_yAhVapZUCHep_ByAQuAJ6BAgHEAI&amp;usg=AOvVaw0dIcg1w8DRuVFej4qQUmCN\"><div class=\"lcJF1d SXn0g GXKcHe p1CInd\"><div style=\"width:120px;height:67px;position:static\"><img class=\"EYOsld\" alt=\"Video for python\" src=\"data:image/gif;base64,R0lGODlhAQABAIAAAP///////yH5BAEKAAEALAAAAAABAAEAAAICTAEAOw==\" style=\"width:120px;height:67px\" id=\"dimg_4\" data-deferred=\"1\"></div><div class=\"qW7zYd HMoqlc\"></div><div class=\"qW7zYd X8r0X\" style=\"background-size:36px\"></div></div></a><div><div class=\"BNeawe s3v9rd AP7Wnd\"><div><div><div class=\"BNeawe s3v9rd AP7Wnd\"><span class=\"r0bn4c rQMQod\">18-Feb-2019</span><span class=\"r0bn4c rQMQod\"> \\xb7 </span>Python tutorial - Python for beginners - Go from Zero to Hero with Python (includes machine ...Duration: <span class=\"r0bn4c rQMQod\">6:14:07</span><br>Posted: <span class=\"r0bn4c rQMQod\">18-Feb-2019</span></div></div></div></div></div><div class=\"rl7ilb\"></div></div></div></div><div><div class=\"ZINbbc xpd O9g5cc uUPGi\"><div class=\"kCrYT\"><a href=\"/url?q=https://www.tutorialspoint.com/python/index.htm&amp;sa=U&amp;ved=2ahUKEwjZ-OLV_r_yAhVapZUCHep_ByAQFnoECAMQAQ&amp;usg=AOvVaw18201tVkzBwQgIE6JIzKlr\"><h3 class=\"zBAuLc\"><div class=\"BNeawe vvjwJb AP7Wnd\">Python Tutorial - Tutorialspoint</div></h3><div class=\"BNeawe UPmit AP7Wnd\">www.tutorialspoint.com &#8250; python</div></a></div><div class=\"x54gtf\"></div><div class=\"kCrYT\"><div><div class=\"BNeawe s3v9rd AP7Wnd\"><div><div><div class=\"BNeawe s3v9rd AP7Wnd\">Python is a general-purpose interpreted, interactive, object-oriented, and high-level programming language. It was created by Guido van Rossum during 1985-\\xa0...</div></div></div></div></div></div></div></div><div><div class=\"ZINbbc xpd O9g5cc uUPGi\"><div></div><div class=\"mEUgP\"><span><div class=\"BNeawe\">Related searches</div></span></div><div class=\"x54gtf\"></div><div><div class=\"gGQDvd iIWm4b\"><a class=\"Q71vJc\" href=\"/search?ie=UTF-8&amp;q=Python+W3schools&amp;sa=X&amp;ved=2ahUKEwjZ-OLV_r_yAhVapZUCHep_ByAQ1QIwJHoECAQQAg\"><accordion-entry-search-icon><span class=\"ieB2Dd WqQeqc LsF2v\"><span></span></span></accordion-entry-search-icon><div class=\"kjGX2\"><span><div class=\"BNeawe s3v9rd AP7Wnd lRVwie\">Python W3schools</div></span></div></a></div></div><div class=\"x54gtf\"></div><div><div class=\"gGQDvd iIWm4b\"><a class=\"Q71vJc\" href=\"/search?ie=UTF-8&amp;q=Python+program&amp;sa=X&amp;ved=2ahUKEwjZ-OLV_r_yAhVapZUCHep_ByAQ1QIwJXoECAQQBA\"><accordion-entry-search-icon><span class=\"ieB2Dd WqQeqc LsF2v\"><span></span></span></accordion-entry-search-icon><div class=\"kjGX2\"><span><div class=\"BNeawe s3v9rd AP7Wnd lRVwie\">Python program</div></span></div></a></div></div><div class=\"x54gtf\"></div><div><div class=\"gGQDvd iIWm4b\"><a class=\"Q71vJc\" href=\"/search?ie=UTF-8&amp;q=Python+Programming+PDF&amp;sa=X&amp;ved=2ahUKEwjZ-OLV_r_yAhVapZUCHep_ByAQ1QIwJnoECAQQBg\"><accordion-entry-search-icon><span class=\"ieB2Dd WqQeqc LsF2v\"><span></span></span></accordion-entry-search-icon><div class=\"kjGX2\"><span><div class=\"BNeawe s3v9rd AP7Wnd lRVwie\">Python Programming PDF</div></span></div></a></div></div><div class=\"x54gtf\"></div><div><div class=\"gGQDvd iIWm4b\"><a class=\"Q71vJc\" href=\"/search?ie=UTF-8&amp;q=Python+tutorial&amp;sa=X&amp;ved=2ahUKEwjZ-OLV_r_yAhVapZUCHep_ByAQ1QIwJ3oECAQQCA\"><accordion-entry-search-icon><span class=\"ieB2Dd WqQeqc LsF2v\"><span></span></span></accordion-entry-search-icon><div class=\"kjGX2\"><span><div class=\"BNeawe s3v9rd AP7Wnd lRVwie\">Python tutorial</div></span></div></a></div></div><div class=\"x54gtf\"></div><div><div class=\"gGQDvd iIWm4b\"><a class=\"Q71vJc\" href=\"/search?ie=UTF-8&amp;q=Python+download&amp;sa=X&amp;ved=2ahUKEwjZ-OLV_r_yAhVapZUCHep_ByAQ1QIwKHoECAQQCg\"><accordion-entry-search-icon><span class=\"ieB2Dd WqQeqc LsF2v\"><span></span></span></accordion-entry-search-icon><div class=\"kjGX2\"><span><div class=\"BNeawe s3v9rd AP7Wnd lRVwie\">Python download</div></span></div></a></div></div><div class=\"x54gtf\"></div><div><div class=\"gGQDvd iIWm4b\"><a class=\"Q71vJc\" href=\"/search?ie=UTF-8&amp;q=Codecademy+Python&amp;sa=X&amp;ved=2ahUKEwjZ-OLV_r_yAhVapZUCHep_ByAQ1QIwKXoECAQQDA\"><accordion-entry-search-icon><span class=\"ieB2Dd WqQeqc LsF2v\"><span></span></span></accordion-entry-search-icon><div class=\"kjGX2\"><span><div class=\"BNeawe s3v9rd AP7Wnd lRVwie\">Codecademy Python</div></span></div></a></div></div><div class=\"x54gtf\"></div><div><div class=\"gGQDvd iIWm4b\"><a class=\"Q71vJc\" href=\"/search?ie=UTF-8&amp;q=Python+operator&amp;sa=X&amp;ved=2ahUKEwjZ-OLV_r_yAhVapZUCHep_ByAQ1QIwKnoECAQQDg\"><accordion-entry-search-icon><span class=\"ieB2Dd WqQeqc LsF2v\"><span></span></span></accordion-entry-search-icon><div class=\"kjGX2\"><span><div class=\"BNeawe s3v9rd AP7Wnd lRVwie\">Python operator</div></span></div></a></div></div><div class=\"x54gtf\"></div><div><div class=\"gGQDvd iIWm4b\"><a class=\"Q71vJc\" href=\"/search?ie=UTF-8&amp;q=Python+meaning&amp;sa=X&amp;ved=2ahUKEwjZ-OLV_r_yAhVapZUCHep_ByAQ1QIwK3oECAQQEA\"><accordion-entry-search-icon><span class=\"ieB2Dd WqQeqc LsF2v\"><span></span></span></accordion-entry-search-icon><div class=\"kjGX2\"><span><div class=\"BNeawe s3v9rd AP7Wnd lRVwie\">Python meaning</div></span></div></a></div></div></div></div><footer> <div>  <div class=\"ZINbbc xpd O9g5cc uUPGi BmP5tf\"><div class=\"nMymef MUxGbd lyLwlc\"><a class=\"nBDE1b G5eFlf\" href=\"/search?q=python&amp;ie=UTF-8&amp;ei=I9QfYZnbFtrK1sQP6v-dgAI&amp;start=10&amp;sa=N\" aria-label=\"Next page\">Next &gt;</a></div></div> </div>  <div id=\"EOlPnc\"><div class=\"Srfpq\"><span class=\"unknown_loc\"></span><span id=\"xxxXMc\">221005, Varanasi, Uttar Pradesh</span><span id=\"ttWoPb\">&nbsp;-&nbsp;</span><span>From your Internet address</span><span>&nbsp;-&nbsp;</span><a href=\"/url?q=https://support.google.com/websearch%3Fp%3Dws_settings_location%26hl%3Den-IN&amp;sa=U&amp;ved=0ahUKEwjZ-OLV_r_yAhVapZUCHep_ByAQty4IsgE&amp;usg=AOvVaw2DZLx2EZmWrcR4SWk3T6Dc\">Learn more</a></div><div><a href=\"/url?q=https://accounts.google.com/ServiceLogin%3Fcontinue%3Dhttps://www.google.com/search%253Fq%253Dpython%2526source%253Dhp%2526ei%253DjdMfYYGeHYq9mAWLpbeQAQ%2526iflsig%253DAINFCbYAAAAAYR_hneWvEItyErGfWAt_29sS1T_PC8kG%2526oq%253Dpyhto%2526gs_lcp%253DCgdnd3Mtd2l6EAMYADIHCAAQsQMQCjIHCAAQsQMQCjIHCAAQsQMQCjIHCAAQsQMQCjIHCAAQsQMQCjIHCAAQsQMQCjIHCAAQsQMQCjIHCAAQsQMQCjIHCC4QsQMQCjIHCAAQsQMQCjoOCAAQ6gIQjwEQjAMQ5QI6DgguEOoCEI8BEIwDEOUCOgsIABCABBCxAxCDAToICAAQgAQQsQM6BQguEIAEOgUIABCABDoICC4QgAQQsQM6BwgAEIAEEApQ5RxYpiRgly9oAXAAeACAAYoBiAGPBZIBAzAuNZgBAKABAbABCg%2526sclient%253Dgws-wiz%26hl%3Den&amp;sa=U&amp;ved=0ahUKEwjZ-OLV_r_yAhVapZUCHep_ByAQxs8CCLMB&amp;usg=AOvVaw14yCf-C8Xn3DGNvwVRaBvj\">Sign in</a></div><div><a class=\"xeDNfc\" href=\"https://www.google.com/preferences?hl=en-IN&amp;fg=1&amp;sa=X&amp;ved=0ahUKEwjZ-OLV_r_yAhVapZUCHep_ByAQ5fUCCLQB\">Settings</a><a class=\"xeDNfc\" href=\"https://policies.google.com/privacy?hl=en-IN&amp;fg=1\">Privacy</a><a class=\"xeDNfc\" href=\"https://policies.google.com/terms?hl=en-IN&amp;fg=1\">Terms</a></div></div> </footer><script nonce=\"k1mRH//1P/9tCOi1vB3n3Q==\">(function(){var hl=\\'en-IN\\';(function(){\\nvar f=this||self,g=function(a){return a};var h,k=function(){if(void 0===h){var a=null,b=f.trustedTypes;if(b&&b.createPolicy){try{a=b.createPolicy(\"goog#html\",{createHTML:g,createScript:g,createScriptURL:g})}catch(c){f.console&&f.console.error(c.message)}h=a}else h=a}return h};var n=function(a,b){this.h=a===l&&b||\"\";this.g=m},p=function(a){return a instanceof n&&a.constructor===n&&a.g===m?a.h:\"type_error:Const\"},m={},l={};var r=function(a,b){this.g=b===q?a:\"\"};r.prototype.toString=function(){return this.g+\"\"};var t=function(a){return a instanceof r&&a.constructor===r?a.g:\"type_error:TrustedResourceUrl\"},x=function(){var a={},b=p(new n(l,\"/complete/search\"));if(!u.test(b))throw Error(\"a`\"+b);var c=b.replace(v,function(e,d){if(!Object.prototype.hasOwnProperty.call(a,d))throw Error(\"b`\"+d+\"`\"+b+\"`\"+JSON.stringify(a));e=a[d];return e instanceof n?p(e):encodeURIComponent(String(e))});return w(c)},v=/%{(\\\\w+)}/g,u=/^((https:)?\\\\/\\\\/[0-9a-z.:[\\\\]-]+\\\\/|\\\\/[^/\\\\\\\\]|[^:/\\\\\\\\%]+\\\\/|[^:/\\\\\\\\%]*[?#]|about:blank#)/i,y=/^([^?#]*)(\\\\?[^#]*)?(#[\\\\s\\\\S]*)?/,q={},w=function(a){var b=k();a=b?b.createScriptURL(a):a;return new r(a,q)},z=function(a,b,c){if(null==c)return b;if(\"string\"===typeof c)return c?a+encodeURIComponent(c):\"\";for(var e in c)if(Object.prototype.hasOwnProperty.call(c,e)){var d=c[e];d=Array.isArray(d)?d:[d];for(var C=0;C<d.length;C++){var Q=d[C];null!=Q&&(b||(b=a),b+=(b.length>a.length?\"&\":\"\")+encodeURIComponent(e)+\"=\"+encodeURIComponent(String(Q)))}}return b};var A={},B=function(a,b,c){this.g=c===A?a:\"\"};B.prototype.toString=function(){return this.g.toString()};var D=function(a){return a instanceof B&&a.constructor===B?a.g:\"type_error:SafeHtml\"},E=function(a){var b=k();a=b?b.createHTML(a):a;return new B(a,null,A)},F=new B(f.trustedTypes&&f.trustedTypes.emptyHTML||\"\",0,A);var aa=function(a){var b=!1,c;return function(){b||(c=a(),b=!0);return c}}(function(){var a=document.createElement(\"div\"),b=document.createElement(\"div\");b.appendChild(document.createElement(\"div\"));a.appendChild(b);b=a.firstChild.firstChild;a.innerHTML=D(F);return!b.parentElement}),ba=function(a,b){if(aa())for(;a.lastChild;)a.removeChild(a.lastChild);a.innerHTML=D(b)};var G=document.querySelector(\".l\"),H=document.querySelector(\"#sf\"),I=H.querySelector(\".sbc\"),J=H.querySelector(\"[type=text]\"),K=H.querySelector(\"[type=submit]\"),L=H.querySelector(\".sc\"),M=H.querySelector(\".x\"),N=J.value,O=[],P=-1,R=N,S,T,U;N||(M&&(M.style.display=\"none\"),V(!1));function V(a){if(I.classList.contains(\"esbc\")){var b=I.classList.contains(\"chsbc\"),c=I.classList.contains(\"rtlsbc\");a&&(L.style.display=\"block\",b?(H.style.borderRadius=\"20px 20px 0 0\",L.style.borderBottom=\"1px solid #DFE1E5\",K.style.borderRadius=c?\"20px 0 0 0\":\"0 20px 0 0\"):I.style.borderRadius=c?\"0 8px 0 0\":\"8px 0 0 0\");a||(L.style.display=\"none\",b?(H.style.borderRadius=\"20px\",L.style.borderBottom=\"none\",K.style.borderRadius=c?\"20px 0 0 20px\":\"0 20px 20px 0\"):I.style.borderRadius=c?\"0 8px 8px 0\":\"8px 0 0 8px\")}}function W(){H.querySelector(\"[name=oq]\").value=R;H.querySelector(\"[name=aqs]\").value=\"heirloom-srp.\"+(0<=P?P:\"\")+\".\"+(0<O.length?\"0l\"+O.length:\"\")}\\nfunction X(){S=null;if(T){var a={client:\"heirloom-srp\",hl:hl,json:\"t\",callback:\"hS\",q:T};\"undefined\"!==typeof ds&&ds&&(a.ds=ds);var b=document;var c=\"SCRIPT\";\"application/xhtml+xml\"===b.contentType&&(c=c.toLowerCase());c=b.createElement(c);b=x();b=y.exec(t(b).toString());var e=b[3]||\"\";a=w(b[1]+z(\"?\",b[2]||\"\",a)+z(\"#\",e,void 0));c.src=t(a);var d;a=(c.ownerDocument&&c.ownerDocument.defaultView||window).document;(d=(a=null===(d=a.querySelector)||void 0===d?void 0:d.call(a,\"script[nonce]\"))?a.nonce||\\na.getAttribute(\"nonce\")||\"\":\"\")&&c.setAttribute(\"nonce\",d);document.body.appendChild(c);T=null;S=setTimeout(X,500)}}function Y(){for(;L.firstChild;)L.removeChild(L.firstChild);O=[];P=-1;V(!1)}function Z(){var a=L.querySelector(\".scs\");a&&(a.className=\"\");0<=P?(a=L.childNodes[P],a.className=\"scs\",N=a.textContent):N=R;J.value=N}J.addEventListener(\"focus\",function(){G&&(G.style.display=\"none\")},!1);J.addEventListener(\"blur\",function(){Y();G&&(G.style.display=\"\")},!1);J.addEventListener(\"keyup\",function(a){N=J.value;U=!1;13==a.which?W():27==a.which?(Y(),G&&(G.style.display=\"\"),N=R,J.value=N):40==a.which?(P++,P>=O.length&&(P=-1),Z()):38==a.which?(P--,-1>P&&(P=O.length-1),Z()):(a=N)?(M&&(M.style.display=\"\"),T=a,S||X(),R=a):(M&&(M.style.display=\"none\"),V(!1),Y(),R=\"\",U=!0)},!1);K.addEventListener(\"click\",W,!1);M.addEventListener(\"click\",function(){J.value=\"\";M.style.display=\"none\";V(!1)},!1);I.addEventListener(\"click\",function(){J.focus()},!1);window.hS=function(a){if(!U){Y();0==a[1].length&&V(!1);for(var b=0;b<a[1].length;b++){var c=a[1][b][0],e=document.createElement(\"div\");ba(e,E(c));e.addEventListener(\"mousedown\",function(d){d.preventDefault();return!1},!1);c=c.replace(/<\\\\/?b>/g,\"\");e.addEventListener(\"click\",function(d){return function(){P=d;W();Z();Y();H.submit()}}(b),!1);L.appendChild(e);V(!0);O.push(c)}}};}).call(this);})();(function(){\\nfunction b(a){for(a=a.target||a.srcElement;a&&\"A\"!=a.nodeName;)a=a.parentElement;a&&(a.href||\"\").match(/\\\\/search.*[?&]tbm=isch/)&&(a.href+=\"&biw=\"+document.documentElement.clientWidth,a.href+=\"&bih=\"+document.documentElement.clientHeight)}document.addEventListener(\"click\",b,!1);document.addEventListener(\"touchStart\",b,!1);}).call(this);</script></div><!-- cctlcm 5 cctlcm --><textarea class=\"csi\" name=\"csi\" style=\"display:none\"></textarea><script nonce=\"k1mRH//1P/9tCOi1vB3n3Q==\">(function(){var e=\\'I9QfYZnbFtrK1sQP6v-dgAI\\';var sn=\\'web\\';(function(){\\nfunction y(a){if(!a||z(a))return 0;if(!a.getBoundingClientRect)return 1;var c=function(b){return b.getBoundingClientRect()};return A(a,c)?0:I(a,c)}function A(a,c){var b;a:{for(b=a;b&&null!==b;b=b.parentElement)if(\"hidden\"===b.style.overflow)break a;b=null}if(!b)return!1;a=c(a);c=c(b);return a.bottom<c.top||a.top>=c.bottom||a.right<c.left||a.left>=c.right}\\nfunction z(a){return\"none\"===a.style.display?!0:document.defaultView&&document.defaultView.getComputedStyle?(a=document.defaultView.getComputedStyle(a),!!a&&(\"hidden\"===a.visibility||\"0px\"===a.height&&\"0px\"===a.width)):!1}\\nfunction I(a,c){var b=c(a);a=b.left+window.pageXOffset;c=b.top+window.pageYOffset;var f=b.width;b=b.height;var g=0;if(0>=b&&0>=f)return g;var n=window.innerHeight||document.documentElement.clientHeight;0>c+b?g=2:c>=n&&(g=4);if(0>a+f||a>=(window.innerWidth||document.documentElement.clientWidth))g|=8;g||(g=1,c+b>n&&(g|=4));return g};var J=e,K=sn,L=[];function M(a,c,b){a=\"/gen_204?atyp=csi&s=\"+(K||\"web\")+\"&t=\"+a+(\"&lite=1&ei=\"+J+\"&conn=\"+(window.navigator&&window.navigator.connection?window.navigator.connection.type:-1)+c);c=\"&rt=\";for(var f in b)a+=\"\"+c+f+\".\"+b[f],c=\",\";return a}function N(a){a={prt:a};window.wsrt&&(a.wsrt=window.wsrt);return a}function O(a){window.ping?window.ping(a):(new Image).src=a}\\n(function(){for(var a=(new Date).getTime()-window.start,c=N(a),b=0,f=0,g=0,n=document.getElementsByTagName(\"img\"),q=\"&imn=\"+n.length+\"&biw=\"+window.innerWidth+\"&bih=\"+window.innerHeight,P=function(h,r){h.onload=function(){f=(new Date).getTime()-window.start;r&&++u==g&&(b=f,B());h.onload=null}},B=function(){q+=\"&ima=\"+g;c.aft=b;O(M(\"aft\",q,c))},u=0,Q=0,d=void 0;d=n[Q++];){var t=y(d),p=!!(t&1);p&&++g;var m=d.hasAttribute(\"data-ilite\"),v=d.hasAttribute(\"data-deferred\")||m,C=d.getAttribute(\"data-src\")||\\nd.getAttribute(\"data-lzysrc\"),D=!v&&C;L.push([t,v,D,google.ldi&&d.id&&google.ldi[d.id]||m&&C]);m=(t=d.complete&&(m||!v&&!(p&&D)))&&Number(d.getAttribute(\"data-iml\"))||0;t&&m?(p&&++u,m&&(d=m-window.start,p&&(b=Math.max(b,d)),f=Math.max(f,d))):P(d,p)}b||(b=a);f||(f=b);u==g&&B();google.rglh&&google.rglh();window.addEventListener(\"load\",function(){window.setTimeout(function(){c.ol=(new Date).getTime()-window.start;c.iml=f;var h=window.performance&&window.performance.timing;h&&(c.rqst=h.responseEnd-h.requestStart,c.rspt=h.responseEnd-h.responseStart);for(var r=h=0,E=0,F=0,G=0,R=0,k;k=L[R++];){var l=k[0],w=k[1],S=k[2];k=k[3];var T=0==l,x=l&8,H=l&4;l=1==l||2==l||x&&!H;!l||x||w&&!k||++E;w&&(l&&k&&++h,H&&!k&&++r);T||x?S||++G:w||++F}q+=\"&ime=\"+E+(\"&imex=\"+F+\"&imeh=\"+G)+(\"&imea=\"+h+\"&imeb=\"+r);O(M(\"all\",q,c))},0)},!1)})();}).call(this);})();</script><script nonce=\"k1mRH//1P/9tCOi1vB3n3Q==\">\\nfunction _setImagesSrc(e,d){function f(b){b.onerror=function(){b.style.display=\"none\"};b.src=d}for(var g=0,a=void 0;a=e[g++];){var c=document.getElementById(a)||document.querySelector(\\'img[data-iid=\"\\'+a+\\'\"]\\');c?(a=void 0,(null==(a=google.c)?0:a.setup)&&google.c.setup(c),f(c)):(google.iir=google.iir||{},google.iir[a]=d)}}\"undefined\"==typeof window.google&&(window.google={});</script><script nonce=\"k1mRH//1P/9tCOi1vB3n3Q==\">(function(){var s=\\'data:image/jpeg;base64,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\\\\x3d\\';var i=[\\'dimg_19\\'];_setImagesSrc(i,s);})();</script><script nonce=\"k1mRH//1P/9tCOi1vB3n3Q==\">(function(){var s=\\'data:image/png;base64,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\\';var i=[\\'dimg_21\\'];_setImagesSrc(i,s);})();</script><script nonce=\"k1mRH//1P/9tCOi1vB3n3Q==\">(function(){var s=\\'data:image/png;base64,iVBORw0KGgoAAAANSUhEUgAAAHAAAABwCAMAAADxPgR5AAAAclBMVEX////uTCzuRyTuSin2rqX97evuRSHuUTTtPhPtOw7+9fPvW0H+8/LtNgDtMgDtQhzvX0byiHn84t/85+XzjoDyf271oZb0nJD++vnwb1v3tq71p5360Mvyg3TwaVT4u7T5xsDxeGb729f0lorwZE3vVjsofrSvAAADc0lEQVRoge2Z7ZaiMAyGaQOlHaHVAR1UEMaP+7/FZSQV58ysNlW75+zh/YnEhyZpmrZRNGnSpEmTJk3yVfYWlpfMs7A8dgo6wiQVs5DAJOUQEtjzWEjgFy8k8MwLCBx44YDICwa0vB4YZOJfeAyCTPyRx1T8D3n7TV0F5BVzrXS6D8bLUvEVUpkE4kUbdX5mDoF4USPOD/lnIF5UmlcAb8yHOj8/zjeBeFG0UACg1sF4UbQ9paePZ07E+/Uleeq8p9Wz6uH5mNHq5wIeXEWqoyDxpDg+5t9G0niMyeYRXpxTef2UfGDleld0Xv/uuzdwZxNGOvA6jS/znS+vtQ6VK5fXVzbeeevHqxgMf2CWbgbLoZD3Zn6ZGmME4eRoX53APeK/mKdoLmtXkxqdCqnPEDuMoCFMrAadmncewE9MUVG42xRYl3zW48wOsKRYlXaI9JLaYsoYUge4R6Ciz4zF4B040syOQ6aJBZVnc9Slxlwrlp55mmgfj44+1dSVGLsx8pdaz+TOkxeFrqEXYiz41FBEhyFn6C38YfCpoBqWA1BuqcDt4BpBmr69GvQMeT61GAtqp7EcgKqjAruhYHDHJe0HkD5CTyAWGknepGykX6nBpDFOzcW1VsYvaawductsPL8UQwEzKnAGfsHfD7UUgFgTExiAmnquUeH6KzuaXYdtTU7uarAmUrMNs9ujGf4wuFyQDtXecLEwH2QgBpFY3LCw0UM4Lmx8TrGac88FP7r4lJQ2NmU8PNr3mOhT507/qtfXhF52FNZvwiKMiy+9cg+yaePsVOtQn5Q5a4mNOzAnDxV2eyf8Btj/g92Qcpcj9Wxm98u5VwS/tLV7fHH/9i6b2wMWRe6DRh3tR4vTnZOC95PlceLm4JuKyzEN592tFzt+ObCS3g49/5HNVAZq8Ve3ZgsF9j1988PuK74QmYH41xJQxWAuL+mHLzRWIxEkW/3wV7FiEkYeuQe6SWRgzDGuL67N6vhozIh7Cq9v/PTVXzIuDaS7piybXQpG8quf4Fkn37UR7FoAXPTiAN8eC0Pdov1VyTpnd5Wvn3k7s5HmNs7Qe/TbejvoG0ijD8+/T0wOSvHfaFypw9Pvus6qNmutxLdMAaH0evOS68NBWVvOtc6l6SVzredl+/rL4Kqo23i7jdu6eOHQJk2aNGnSpP9ZfwAofinfWaxMRQAAAABJRU5ErkJggg\\\\x3d\\\\x3d\\';var i=[\\'dimg_23\\'];_setImagesSrc(i,s);})();</script><script nonce=\"k1mRH//1P/9tCOi1vB3n3Q==\">(function(){var s=\\'data:image/png;base64,iVBORw0KGgoAAAANSUhEUgAAAHAAAABwCAMAAADxPgR5AAAA+VBMVEX///8BAf8B/wH/AQEAAAAA/wAAAP//AAAFBQV+/37s7OwwMDB4eP+2trb39/f7+/vx8f8XFxf/+fni/+L4//jb29vExP/6+v/m/+bs/+xUVFQ9PT1FRUUdHR3/ior/Z2f/29v/kpL/QkK6/7qN/43d/93Pz//M/8zZ2f/Jyf8yMv8e/x7r6/+zs/9N/01VVf9u/27j4/+7u//U/9Senp5mZmaqqqqGhob/pqb/s7P/7u7/vr7/zc3/WVn/5OT/np6u/64+/z5eXv9ISP87O/8ZGf+Z/5mgoP9vb//Nzc3/Nzf/GBj/d3f/Tk7/KSlk/2SSkv+Dg/+pqf/sE9cDAAAHuUlEQVRoge1Ye1faShAPNFkwCijyUAi+QHlVFAW9VWvRikrVqv3+H6Y7m9fu7GZBQu+5557OH5DsTOa3MzuvxDCm0Vbq06yUepmqbTrtpD4AmPonPuA2wxN+Uj5hxqfUj4vFG0iBnvaet7ZenlIK3pe4gLsKvC+uGfnLPRlxLy4gVplKbXHcLzJ7Jx7eFdKIfbbzCfO/xQP85p1TEC9YH9sRJxLXp1+RAXKi7WIT4wFij15JEnlRJOYh5hHek0JmCwHGSowdBLirkLlCMrGi5gpFhGr31At8XMUDvETuko+QErJwSyXznwW8miEgLmY455lplqC5RDKxOlQeBU1EWvAiMfvF9MS/WGjiS6VNrpRbiy1t33D7wTGIG1Tc4i23JzGv5YYYd6p5EtsTRdzmxpZdxKU/OzEBd+Wefh1yf0ojRuxBUW7pfC7KHr+MC2g8I5U/8jx3G4dMPkrPzHQtmIhNuH4SszC+gWiGSH39EHcuyu+F9U2uI/kfPPdapeDDxA3fqWeJexlwF/JmwSjI7lRKERMvAeD2gvDC/FaacO1tZ4F4UKHddyMl85nNwqnt+BnBEZ3AI7P6gsXL80LxWGxEBj28D8QaLJR08RLZWvM/n5TTVVyKwqNxs2B3/h9pvX6/BNSob/x5sMLo2OLpdVT4k3CnrwCSDAluj5v/GpwP2Zvq2tVIzudITqEBaAzPBQ0ureT6FLjblUi8zkMEZ/9GMi6w8V6PVxoTchDBeyTkVml+MwqOAt7o4+aBkAT5rua1CFBfZoyi8ZKWPmhWKF6CkF9K5nfKSyjs1+K9avHeAY8qHascd8J4FLEtrtctiw8SIWgsSxsx1J8uIHmXmasdMJ5tp8Wvb+jss5Z0eCUXjiHKJ/XmMxPkrsyt30TjUUBdxKyOA5UJcou5fcJxH8P1ey3eSGfgbaiRmljScoNj3NQ4lKaEDq/EmYDdZhhtkdvxuUuWFC9+5aYX2pS4c+PF/0Gp0SEC2+eqIoYudbtdwNWmhGggxCJfOA8x13NAQ8KjxXq0XjAK6/WePiWORI1UJ1dSy0TisjMu4BC1rJv94KlNHd6qpJE8hqd4MJbYR7COayhtfzoQnh4IxhMaQ/k75o/7gUe5n5nxIOr5qEB4AWIYU+TEkJJ+Wmfg9YmHRBSJj7wKR1zoWqJDZx8n+kgbkXv7GxLp0KlCPEKrN/vIdIi0Pcoiq8gJ47LXJ0LAxsx4aPtyYQN6FGUSfR/Q//mAR2njTfBBM1a0dRbInAxpUUAxZj4w+a6Iu++UFTInyAttCVB1hBtLItXVgKpNlaYCqkrZqSXSvRpQNWIcIsADKWhGiqewjGfhO1LWUjwqyzRR0KjmiWN1YOGAUIxt5SMUWJ+NjaS4+65crgvIQMsTKclZjamF85CuddEhykP2PQJMeoGFs1qRiI9oTzAt93CzOEUP7eN24lf3cgepS+DE+IVbMFT3EW6HXTEV17tYIPCBGBHQ70REaSBgA/h+Es3AVpevNs0uHpGtzVCh0J4Aka82h4Qgtps5yKcA2fB1bi7Jr4vcGCcPEeMH38jWo8x1Z/O66hX09b7erDeOVa+noxDwXdZJyMrDSenw7YgoeG6mSkNNMhwTFZwu57S+pJRBuiRz/AaNw0ZHaBBfkdVGEleKbixpEE4q7ln0iBPIZzZDiKEh3fsjTzhCnupmfWQg6pc403QGcsVdjsUoPGkgkGbhSLxD/jEpNSIAexhPeF/TAoqfOTZ1b4ghXlfRnlWRqsDDE5ZUwJR4yvmjPQOi4svJxo1laaOUvnJEvNjAVxptlKq/1BR62sihb1SRLzatjtZIoppYgRqaT0P6j1FluW5ycGJ88rTfUxUzBtfbj3rIpVKEkVBbo7/70ULekwoo+5hY18OBkb/upAIKC7eq0Yqn5msXDYXd1+ZM7xvlk6MxEamzMg0OaLPZuAnRGnXtS7BI/ZOVEPPura2axSNo47RZb57O9cW7f9AutVvRn2X/0l+ai+xJ5mwwGJxlMnYsPdlihiny9GQygkIb7uGiWKmZPq05k7nhikNOT6VoGA69OAv5Z/S2CvswRRrMicfrSZvmsk1X0qYTClTpLcXPLgPbTK9RYqLp+dxqu3pADf1Pp+nGi2t0KesLZIFP7Z7A/1kR1ukRmO4u5jIw0GNPwJhqYJNLZ/Rmmf4PzDTnRXhsOBfgkNczAb+6GIG2iicAgmGgFMEroZasnQ1vjJxt2zkRhi55Vw6vJ+sCgjbT9peoB0AAXB+eWjbNJO1hpTIwMpXqcrUycDFymaFDb53KgO0h41SGueLQoQLn8HiuyuvJVR3HybpWeT4Fax1QVeMP1jAAMAcRYA7OvZBbZiqcIASXQZye9nLRX7C92OPdweg89Cl48hwUASAnssacAIA0qSqVNdPzPDxqOhXH9J6jgDXqRXdh6AFiPOrTtOdTG+SK4MMoQC8EJnShSndOl4fepplFGf9IqC/NWjYCMOv4PmU5mdUBghbfFXQhCAnb3WkmOB1aQNLFCEDmmArvUQ2g5/sBA4BsLeaAAkCAcfcOVyxoUAh7Pq1RObvm71gFmGWA54bh+2LieqTCyH2SwqzZHCBLCyloQF/azLhaau5+auLOvLRQAKb9OulpUACG6RU0Cs+ngUd/A+jAwASuKjEWAAAAAElFTkSuQmCC\\';var i=[\\'dimg_25\\'];_setImagesSrc(i,s);})();</script><script nonce=\"k1mRH//1P/9tCOi1vB3n3Q==\">(function(){var s=\\'data:image/jpeg;base64,/9j/4AAQSkZJRgABAQAAAQABAAD/2wCEAAkGBwgHBgkIBwgKCgkLDRYPDQwMDRsUFRAWIB0iIiAdHx8kKDQsJCYxJx8fLT0tMTU3Ojo6Iys/RD84QzQ5OjcBCgoKDQwNGg8PGjclHyU3Nzc3Nzc3Nzc3Nzc3Nzc3Nzc3Nzc3Nzc3Nzc3Nzc3Nzc3Nzc3Nzc3Nzc3Nzc3Nzc3N//AABEIAHAAcAMBIgACEQEDEQH/xAAbAAEAAgMBAQAAAAAAAAAAAAAABAUBAwYCB//EADQQAAEEAgAEBAMFCQEAAAAAAAEAAgMEBREGEiExExRBUQciYRVxgZHBIzJFcnWyw9HwF//EABcBAQEBAQAAAAAAAAAAAAAAAAACAQP/xAAfEQEBAQEAAQQDAAAAAAAAAAAAARECMQMhUWESQYH/2gAMAwEAAhEDEQA/APuKIiAiIgIiICIiAiIgIiICIiAiIgIiICIiAiIgIiICIiAiIgIi02rUFOB89qVkMMY2+R7gGtH1KDci1xysljbJG4PY4czXNOwR7hQftqp9u/Yu3+c8v5jXL8vJvXf336Iy2TyskWNptGsosbCcwQ1lFjabQZRY2m0GUREBcR8SmZg4LJOhmpDF+APFY+NxmPXro717ei7dc9x/DJPwbl44mlzzXJAHrrr+iri51EepN5qNwtFxGIMe67Yxjsf4DfkiieJNcvy9S7XtvoqfMS34/ieGYqKJ9qXEhjXTE8kY8Qkudrqda1r1JC6HhbOYu7icdDWyFaSY12DwhIOfYaNjXfppVg6/Fk7H8G/yK55rlZPxmVswmZzMPEz8Dn/KyyPrmxXsVmljXAEAggn/ALS3TXMtmM1doYq3HRq0C1k9kwiR75HNDuVoPQAAt2evdRruv/Usb0/hkv8ActEVKtf4tzVTIWLVWQPjlrxQW3wiZhYNyaaRs7HKf5Vmftu3M+1pSt5TG5iDG5e1Fchttea1lsXhvDmjZY8A6PTqCNdimRbxbNfmGNnxVSkw6idNE+SSToO+iAOu1FpUqVfimCvTM918EL3zTWLj5vKk9GgBxIBd8310FQ04sTm87nDxdaBmq2nMgq2LBjZHEP3SG7G9+/8AtJC9Xw6jhbOXr1zI4rMQxR5Cg5oe+DfhyNcNtcAeo+5VOOznE+ct5arjRj64o3HxCxNG5wLQflbyg9XdDs9uo6KF8ORjxxZxAMREIqHhw+ABvTm9fmG/QnZB9irX4c68Xib+tTfoq6km/wATzb1Off5TuDc3cyta7FlY4o71Cw6Cfwt8jiPUb/FVVDM8UcSMmv4F2Oq45sjmV/Mxue6xo65tgjQK2cIxibL8Yxg6573Lv220qN8O8xQxfDP2blLUFO5j5JGWIpnhpb8xOxvuOqyzzZ9N2+0t+XQ8H592exskk8IguVp3V7UIOwyRvfX0V+uJ+GrX2I8zleQtr5DIySwbGuZg6c349fyXbBR3M6dfTtvMtF5c0OGj2XpFK0CHD42C0LUOPqR2Bv8AasgaH9e/UDa3mnW815swReZ5OTxuQc/L35ebvrfopCIzIjup1nW223QRGy1pY2YsHOG+wd30o+Sw2NyrWtyVGCyG/u+LGHFv3H0VgiGRCx2Lo4yDwMdVhrRb2WxMDQT7n6rVdweKyE7Z72NqWJW9nywtcfzIVkiGRFgo1a8z5oK0Mc0gDXyMjDXOA7AkdwPReq9OtVMprV4ofFeZJPDYG87j3J13P1UhEMR4KdavJLJBBFE+Z3NK5jAC93u7Xc/eot3A4m/O2e9jaliVvZ8sLXH8yFZImmR4ijZEwMjaGsaNBoGgAvaIjRERAREQEREBERAREQEREBERAREQEREBERAREQEREBERAREQf//Z\\';var i=[\\'dimg_27\\'];_setImagesSrc(i,s);})();</script><script nonce=\"k1mRH//1P/9tCOi1vB3n3Q==\">(function(){var s=\\'data:image/jpeg;base64,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\\\\x3d\\\\x3d\\';var i=[\\'dimg_29\\'];_setImagesSrc(i,s);})();</script><script nonce=\"k1mRH//1P/9tCOi1vB3n3Q==\">(function(){var s=\\'data:image/png;base64,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\\';var i=[\\'dimg_31\\'];_setImagesSrc(i,s);})();</script><script nonce=\"k1mRH//1P/9tCOi1vB3n3Q==\">(function(){var s=\\'data:image/png;base64,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\\';var i=[\\'dimg_1\\'];_setImagesSrc(i,s);})();</script><script nonce=\"k1mRH//1P/9tCOi1vB3n3Q==\">(function(){var s=\\'data:image/jpeg;base64,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\\';var i=[\\'dimg_3\\'];_setImagesSrc(i,s);})();</script><script nonce=\"k1mRH//1P/9tCOi1vB3n3Q==\">(function(){var s=\\'data:image/jpeg;base64,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\\\\x3d\\\\x3d\\';var i=[\\'dimg_4\\'];_setImagesSrc(i,s);})();</script><script nonce=\"k1mRH//1P/9tCOi1vB3n3Q==\">(function(){var e=\\'I9QfYZnbFtrK1sQP6v-dgAI\\';(function(){\\nvar a=e;2===(window.performance&&window.performance.navigation&&window.performance.navigation.type)&&window.ping(\"/gen_204?ct=backbutton&ei=\"+a);}).call(this);})();(function(){\\nvar b=[function(){google.tick&&google.tick(\"load\",\"dcl\")}];google.dclc=function(a){b.length?b.push(a):a()};function c(){for(var a;a=b.shift();)a()}window.addEventListener?(document.addEventListener(\"DOMContentLoaded\",c,!1),window.addEventListener(\"load\",c,!1)):window.attachEvent&&window.attachEvent(\"onload\",c);}).call(this);(function(){(function(){google.csct={};google.csct.ps=\\'AOvVaw335AC0Vr05s5cy-aMTwvJT\\\\x26ust\\\\x3d1629562275412553\\';})();})();(function(){(function(){google.csct.rd=true;})();})();(function(){\\nwindow.xp=function(b){function f(k,g,h){return\"xp\"+(\"x\"==g?\"c\":\"x\")+h}for(var c=/\\\\bxp(x|c)(\\\\d?)\\\\b/,a=b;a;){var e=a.className,d=e.match(c);if(d){d=\"c\"==d[1];a.className=e.replace(c,f);b&&b.setAttribute(\"aria-expanded\",d);if(d)for(b=a.getElementsByTagName(\"img\"),c=0;c<b.length;++c)if(a=b[c],e=a.getAttribute(\"data-ll\"))a.src=e,a.removeAttribute(\"data-ll\");break}a=a.parentElement}};})();(function(){(function(){\\nwindow.logVe=function(a){a&&a.attributes[\"data-ved\"]&&window.ping(\"/gen_204?ved=\"+a.attributes[\"data-ved\"].value)};}).call(this);})();(function(){(function(){var id=\\'tsuid7\\';var lve=true;(function(){\\n\\n\\nvar e=\"undefined\"!=typeof navigator&&!/Opera/.test(navigator.userAgent)&&/WebKit/.test(navigator.userAgent),f={A:1,INPUT:1,TEXTAREA:1,SELECT:1,BUTTON:1},g={A:13,BUTTON:0,CHECKBOX:32,COMBOBOX:13,FILE:0,GRIDCELL:13,LINK:13,LISTBOX:13,MENU:0,MENUBAR:0,MENUITEM:0,MENUITEMCHECKBOX:0,MENUITEMRADIO:0,OPTION:0,RADIO:32,RADIOGROUP:32,RESET:0,SUBMIT:0,SWITCH:32,TAB:0,TREE:13,TREEITEM:13},h={CHECKBOX:!0,FILE:!0,OPTION:!0,RADIO:!0},k={COLOR:!0,DATE:!0,DATETIME:!0,\"DATETIME-LOCAL\":!0,EMAIL:!0,MONTH:!0,NUMBER:!0,PASSWORD:!0,RANGE:!0,SEARCH:!0,TEL:!0,TEXT:!0,TEXTAREA:!0,TIME:!0,URL:!0,WEEK:!0};document.getElementById(id).onclick=function(){window.xp(this);lve&&window.logVe(this)};document.getElementById(id).onkeydown=function(d){var c=d.which||d.keyCode;e&&3==c&&(c=13);if(13!=c&&32!=c)c=!1;else{var a=d.target||d.srcElement;!a.getAttribute&&a.parentNode&&(a=a.parentNode);var b;if(!(b=\"keydown\"!=d.type)){if(b=\"getAttribute\"in a)b=!((a.getAttribute(\"type\")||a.tagName).toUpperCase()in k);b=!(b&&!(\"BUTTON\"==a.tagName.toUpperCase()||a.type&&\"FILE\"==a.type.toUpperCase())&&!a.isContentEditable)}(b=b||d.ctrlKey||d.shiftKey||d.altKey||d.metaKey||(a.getAttribute(\"type\")||a.tagName).toUpperCase()in\\nh&&32==c)||((b=a.tagName in f)||(b=a.getAttributeNode(\"tabindex\"),b=null!=b&&b.specified),b=!(b&&!a.disabled));if(b)c=!1;else{b=(a.getAttribute(\"role\")||a.type||a.tagName).toUpperCase();var l=!(b in g)&&13==c;a=\"INPUT\"!=a.tagName.toUpperCase()||!!a.type;c=(0==g[b]%c||l)&&a}}c&&(d.preventDefault(),window.xp(this),lve&&window.logVe(this))};}).call(this);})();})();(function(){window.jsl=window.jsl||{};window.jsl.dh=window.jsl.dh||function(i,c,d){try{var e=document.getElementById(i);if(e){e.innerHTML=c;if(d){d();}}else{if(window.jsl.el){window.jsl.el(new Error(\\'Missing ID.\\'),{\\'id\\':i});}}}catch(e){if(window.jsl.el){window.jsl.el(new Error(\\'jsl.dh\\'));}}};})();(function(){window.jsl.dh(\\'accdef_8\\',\\'\\\\x3cdiv\\\\x3e\\\\x3cdiv style\\\\x3d\\\\x22padding-bottom:12px;padding-top:0px\\\\x22 class\\\\x3d\\\\x22hwc kCrYT\\\\x22\\\\x3e\\\\x3cdiv class\\\\x3d\\\\x22yStFkb\\\\x22\\\\x3e\\\\x3cdiv class\\\\x3d\\\\x22ZINbbc xpd O9g5cc uUPGi\\\\x22\\\\x3e\\\\x3cdiv class\\\\x3d\\\\x22kCrYT\\\\x22\\\\x3e\\\\x3cdiv\\\\x3e\\\\x3cdiv class\\\\x3d\\\\x22BNeawe s3v9rd AP7Wnd\\\\x22\\\\x3e\\\\x3cdiv\\\\x3e\\\\x3cdiv class\\\\x3d\\\\x22BNeawe s3v9rd AP7Wnd\\\\x22\\\\x3e\\\\x3cspan class\\\\x3d\\\\x22FCUp0c rQMQod\\\\x22\\\\x3ePython\\\\x3c/span\\\\x3e is a general-purpose programming language, so it can be \\\\x3cspan class\\\\x3d\\\\x22FCUp0c rQMQod\\\\x22\\\\x3eused\\\\x3c/span\\\\x3e for many things. \\\\x3cspan class\\\\x3d\\\\x22FCUp0c rQMQod\\\\x22\\\\x3ePython\\\\x3c/span\\\\x3e is \\\\x3cspan class\\\\x3d\\\\x22FCUp0c rQMQod\\\\x22\\\\x3eused\\\\x3c/span\\\\x3e for web development, AI, machine learning, operating systems, mobile application development, and video games.\\\\x3c/div\\\\x3e\\\\x3c/div\\\\x3e\\\\x3c/div\\\\x3e\\\\x3c/div\\\\x3e\\\\x3c/div\\\\x3e\\\\x3cdiv class\\\\x3d\\\\x22x54gtf\\\\x22\\\\x3e\\\\x3c/div\\\\x3e\\\\x3cdiv class\\\\x3d\\\\x22kCrYT\\\\x22\\\\x3e\\\\x3ca href\\\\x3d\\\\x22/url?q\\\\x3dhttps://careerkarma.com/blog/what-python-is-used-for/\\\\x26amp;sa\\\\x3dU\\\\x26amp;ved\\\\x3d2ahUKEwjZ-OLV_r_yAhVapZUCHep_ByAQFnoECAkQBQ\\\\x26amp;usg\\\\x3dAOvVaw01gzStZpreuDCTnXujDPsq\\\\x22\\\\x3e\\\\x3cspan\\\\x3e\\\\x3cdiv class\\\\x3d\\\\x22BNeawe vvjwJb AP7Wnd\\\\x22\\\\x3eWhat is Python Used For? | The Many Uses of Python Programming\\\\x3c/div\\\\x3e\\\\x3c/span\\\\x3e\\\\x3cspan\\\\x3e\\\\x3cdiv class\\\\x3d\\\\x22BNeawe UPmit AP7Wnd\\\\x22\\\\x3ecareerkarma.com \\\\x26gt; blog \\\\x26gt; what-python-is-used-for\\\\x3c/div\\\\x3e\\\\x3c/span\\\\x3e\\\\x3c/a\\\\x3e\\\\x3c/div\\\\x3e\\\\x3c/div\\\\x3e\\\\x3c/div\\\\x3e\\\\x3cdiv\\\\x3e\\\\x3cdiv class\\\\x3d\\\\x22P1NWSe\\\\x22\\\\x3e\\\\x3cdiv class\\\\x3d\\\\x22wOMIed nkPlDb\\\\x22\\\\x3e\\\\x3cspan class\\\\x3d\\\\x22JhFlyf VQFmSd\\\\x22\\\\x3e\\\\x3ca class\\\\x3d\\\\x22f4J0H\\\\x22 href\\\\x3d\\\\x22https://www.google.com/search?ie\\\\x3dUTF-8\\\\x26amp;ei\\\\x3dI9QfYZnbFtrK1sQP6v-dgAI\\\\x26amp;q\\\\x3dWhat+is+python+used+for?\\\\x26amp;sa\\\\x3dX\\\\x26amp;ved\\\\x3d2ahUKEwjZ-OLV_r_yAhVapZUCHep_ByAQzmd6BAgJEAc\\\\x22\\\\x3eMore results\\\\x3c/a\\\\x3e\\\\x3c/span\\\\x3e\\\\x3c/div\\\\x3e\\\\x3c/div\\\\x3e\\\\x3c/div\\\\x3e\\\\x3c/div\\\\x3e\\\\x3c/div\\\\x3e\\');})();(function(){(function(){var id=\\'tsuid10\\';var lve=true;(function(){\\n\\n\\nvar e=\"undefined\"!=typeof navigator&&!/Opera/.test(navigator.userAgent)&&/WebKit/.test(navigator.userAgent),f={A:1,INPUT:1,TEXTAREA:1,SELECT:1,BUTTON:1},g={A:13,BUTTON:0,CHECKBOX:32,COMBOBOX:13,FILE:0,GRIDCELL:13,LINK:13,LISTBOX:13,MENU:0,MENUBAR:0,MENUITEM:0,MENUITEMCHECKBOX:0,MENUITEMRADIO:0,OPTION:0,RADIO:32,RADIOGROUP:32,RESET:0,SUBMIT:0,SWITCH:32,TAB:0,TREE:13,TREEITEM:13},h={CHECKBOX:!0,FILE:!0,OPTION:!0,RADIO:!0},k={COLOR:!0,DATE:!0,DATETIME:!0,\"DATETIME-LOCAL\":!0,EMAIL:!0,MONTH:!0,NUMBER:!0,PASSWORD:!0,RANGE:!0,SEARCH:!0,TEL:!0,TEXT:!0,TEXTAREA:!0,TIME:!0,URL:!0,WEEK:!0};document.getElementById(id).onclick=function(){window.xp(this);lve&&window.logVe(this)};document.getElementById(id).onkeydown=function(d){var c=d.which||d.keyCode;e&&3==c&&(c=13);if(13!=c&&32!=c)c=!1;else{var a=d.target||d.srcElement;!a.getAttribute&&a.parentNode&&(a=a.parentNode);var b;if(!(b=\"keydown\"!=d.type)){if(b=\"getAttribute\"in a)b=!((a.getAttribute(\"type\")||a.tagName).toUpperCase()in k);b=!(b&&!(\"BUTTON\"==a.tagName.toUpperCase()||a.type&&\"FILE\"==a.type.toUpperCase())&&!a.isContentEditable)}(b=b||d.ctrlKey||d.shiftKey||d.altKey||d.metaKey||(a.getAttribute(\"type\")||a.tagName).toUpperCase()in\\nh&&32==c)||((b=a.tagName in f)||(b=a.getAttributeNode(\"tabindex\"),b=null!=b&&b.specified),b=!(b&&!a.disabled));if(b)c=!1;else{b=(a.getAttribute(\"role\")||a.type||a.tagName).toUpperCase();var l=!(b in g)&&13==c;a=\"INPUT\"!=a.tagName.toUpperCase()||!!a.type;c=(0==g[b]%c||l)&&a}}c&&(d.preventDefault(),window.xp(this),lve&&window.logVe(this))};}).call(this);})();})();(function(){window.jsl.dh(\\'accdef_11\\',\\'\\\\x3cdiv\\\\x3e\\\\x3cdiv style\\\\x3d\\\\x22padding-bottom:12px;padding-top:0px\\\\x22 class\\\\x3d\\\\x22hwc kCrYT\\\\x22\\\\x3e\\\\x3cdiv class\\\\x3d\\\\x22yStFkb\\\\x22\\\\x3e\\\\x3cdiv class\\\\x3d\\\\x22ZINbbc xpd O9g5cc uUPGi\\\\x22\\\\x3e\\\\x3cdiv class\\\\x3d\\\\x22kCrYT\\\\x22\\\\x3e\\\\x3cdiv\\\\x3e\\\\x3cdiv class\\\\x3d\\\\x22BNeawe s3v9rd AP7Wnd\\\\x22\\\\x3e\\\\x3cdiv\\\\x3e\\\\x3cdiv class\\\\x3d\\\\x22BNeawe s3v9rd AP7Wnd\\\\x22\\\\x3eIs it Hard to Learn Python? \\\\x3cspan class\\\\x3d\\\\x22FCUp0c rQMQod\\\\x22\\\\x3ePython is widely considered one of the easiest programming languages for a beginner to learn\\\\x3c/span\\\\x3e, but it is also difficult to master. Anyone can learn Python if they work hard enough at it, but becoming a Python Developer will require a lot of practice and patience.\\\\x3c/div\\\\x3e\\\\x3c/div\\\\x3e\\\\x3c/div\\\\x3e\\\\x3c/div\\\\x3e\\\\x3c/div\\\\x3e\\\\x3cdiv class\\\\x3d\\\\x22x54gtf\\\\x22\\\\x3e\\\\x3c/div\\\\x3e\\\\x3cdiv class\\\\x3d\\\\x22kCrYT\\\\x22\\\\x3e\\\\x3ca href\\\\x3d\\\\x22/url?q\\\\x3dhttps://brainstation.io/career-guides/how-long-does-it-take-to-learn-python\\\\x26amp;sa\\\\x3dU\\\\x26amp;ved\\\\x3d2ahUKEwjZ-OLV_r_yAhVapZUCHep_ByAQFnoECAkQDA\\\\x26amp;usg\\\\x3dAOvVaw06byX_PU-nrvCwZ2xzIrH5\\\\x22\\\\x3e\\\\x3cspan\\\\x3e\\\\x3cdiv class\\\\x3d\\\\x22BNeawe vvjwJb AP7Wnd\\\\x22\\\\x3eHow Long Does it Take to Learn Python? (2021 Guide) | BrainStation\\\\xae\\\\x3c/div\\\\x3e\\\\x3c/span\\\\x3e\\\\x3cspan\\\\x3e\\\\x3cdiv class\\\\x3d\\\\x22BNeawe UPmit AP7Wnd\\\\x22\\\\x3ebrainstation.io \\\\x26gt; career-guides \\\\x26gt; how-long-does-it-take-to-learn-python\\\\x3c/div\\\\x3e\\\\x3c/span\\\\x3e\\\\x3c/a\\\\x3e\\\\x3c/div\\\\x3e\\\\x3c/div\\\\x3e\\\\x3c/div\\\\x3e\\\\x3cdiv\\\\x3e\\\\x3cdiv class\\\\x3d\\\\x22P1NWSe\\\\x22\\\\x3e\\\\x3cdiv class\\\\x3d\\\\x22wOMIed nkPlDb\\\\x22\\\\x3e\\\\x3cspan class\\\\x3d\\\\x22JhFlyf VQFmSd\\\\x22\\\\x3e\\\\x3ca class\\\\x3d\\\\x22f4J0H\\\\x22 href\\\\x3d\\\\x22https://www.google.com/search?ie\\\\x3dUTF-8\\\\x26amp;ei\\\\x3dI9QfYZnbFtrK1sQP6v-dgAI\\\\x26amp;q\\\\x3dIs+python+really+easy+to+learn?\\\\x26amp;sa\\\\x3dX\\\\x26amp;ved\\\\x3d2ahUKEwjZ-OLV_r_yAhVapZUCHep_ByAQzmd6BAgJEA4\\\\x22\\\\x3eMore results\\\\x3c/a\\\\x3e\\\\x3c/span\\\\x3e\\\\x3c/div\\\\x3e\\\\x3c/div\\\\x3e\\\\x3c/div\\\\x3e\\\\x3c/div\\\\x3e\\\\x3c/div\\\\x3e\\');})();(function(){(function(){var id=\\'tsuid13\\';var lve=true;(function(){\\n\\n\\nvar e=\"undefined\"!=typeof navigator&&!/Opera/.test(navigator.userAgent)&&/WebKit/.test(navigator.userAgent),f={A:1,INPUT:1,TEXTAREA:1,SELECT:1,BUTTON:1},g={A:13,BUTTON:0,CHECKBOX:32,COMBOBOX:13,FILE:0,GRIDCELL:13,LINK:13,LISTBOX:13,MENU:0,MENUBAR:0,MENUITEM:0,MENUITEMCHECKBOX:0,MENUITEMRADIO:0,OPTION:0,RADIO:32,RADIOGROUP:32,RESET:0,SUBMIT:0,SWITCH:32,TAB:0,TREE:13,TREEITEM:13},h={CHECKBOX:!0,FILE:!0,OPTION:!0,RADIO:!0},k={COLOR:!0,DATE:!0,DATETIME:!0,\"DATETIME-LOCAL\":!0,EMAIL:!0,MONTH:!0,NUMBER:!0,PASSWORD:!0,RANGE:!0,SEARCH:!0,TEL:!0,TEXT:!0,TEXTAREA:!0,TIME:!0,URL:!0,WEEK:!0};document.getElementById(id).onclick=function(){window.xp(this);lve&&window.logVe(this)};document.getElementById(id).onkeydown=function(d){var c=d.which||d.keyCode;e&&3==c&&(c=13);if(13!=c&&32!=c)c=!1;else{var a=d.target||d.srcElement;!a.getAttribute&&a.parentNode&&(a=a.parentNode);var b;if(!(b=\"keydown\"!=d.type)){if(b=\"getAttribute\"in a)b=!((a.getAttribute(\"type\")||a.tagName).toUpperCase()in k);b=!(b&&!(\"BUTTON\"==a.tagName.toUpperCase()||a.type&&\"FILE\"==a.type.toUpperCase())&&!a.isContentEditable)}(b=b||d.ctrlKey||d.shiftKey||d.altKey||d.metaKey||(a.getAttribute(\"type\")||a.tagName).toUpperCase()in\\nh&&32==c)||((b=a.tagName in f)||(b=a.getAttributeNode(\"tabindex\"),b=null!=b&&b.specified),b=!(b&&!a.disabled));if(b)c=!1;else{b=(a.getAttribute(\"role\")||a.type||a.tagName).toUpperCase();var l=!(b in g)&&13==c;a=\"INPUT\"!=a.tagName.toUpperCase()||!!a.type;c=(0==g[b]%c||l)&&a}}c&&(d.preventDefault(),window.xp(this),lve&&window.logVe(this))};}).call(this);})();})();(function(){window.jsl.dh(\\'accdef_14\\',\\'\\\\x3cdiv\\\\x3e\\\\x3cdiv style\\\\x3d\\\\x22padding-bottom:12px;padding-top:0px\\\\x22 class\\\\x3d\\\\x22hwc kCrYT\\\\x22\\\\x3e\\\\x3cdiv class\\\\x3d\\\\x22yStFkb\\\\x22\\\\x3e\\\\x3cdiv class\\\\x3d\\\\x22ZINbbc xpd O9g5cc uUPGi\\\\x22\\\\x3e\\\\x3cdiv class\\\\x3d\\\\x22kCrYT\\\\x22\\\\x3e\\\\x3cdiv\\\\x3e\\\\x3cdiv class\\\\x3d\\\\x22BNeawe s3v9rd AP7Wnd\\\\x22\\\\x3e\\\\x3cdiv\\\\x3e\\\\x3cdiv class\\\\x3d\\\\x22BNeawe s3v9rd AP7Wnd\\\\x22\\\\x3e\\\\x3cspan class\\\\x3d\\\\x22FCUp0c rQMQod\\\\x22\\\\x3ePython uses new lines to complete a command\\\\x3c/span\\\\x3e, as opposed to other programming languages which often use semicolons or parentheses. Python relies on indentation, using whitespace, to define scope; such as the scope of loops, functions and classes. Other programming languages often use curly-brackets for this purpose.\\\\x3c/div\\\\x3e\\\\x3c/div\\\\x3e\\\\x3c/div\\\\x3e\\\\x3c/div\\\\x3e\\\\x3c/div\\\\x3e\\\\x3cdiv class\\\\x3d\\\\x22x54gtf\\\\x22\\\\x3e\\\\x3c/div\\\\x3e\\\\x3cdiv class\\\\x3d\\\\x22kCrYT\\\\x22\\\\x3e\\\\x3ca href\\\\x3d\\\\x22/url?q\\\\x3dhttps://www.w3schools.com/python/python_intro.asp\\\\x26amp;sa\\\\x3dU\\\\x26amp;ved\\\\x3d2ahUKEwjZ-OLV_r_yAhVapZUCHep_ByAQFnoECAkQEw\\\\x26amp;usg\\\\x3dAOvVaw0EKRnGocV6VVNpr7p5FmRM\\\\x22\\\\x3e\\\\x3cspan\\\\x3e\\\\x3cdiv class\\\\x3d\\\\x22BNeawe vvjwJb AP7Wnd\\\\x22\\\\x3eIntroduction to Python - W3Schools\\\\x3c/div\\\\x3e\\\\x3c/span\\\\x3e\\\\x3cspan\\\\x3e\\\\x3cdiv class\\\\x3d\\\\x22BNeawe UPmit AP7Wnd\\\\x22\\\\x3ewww.w3schools.com \\\\x26gt; python \\\\x26gt; python_intro\\\\x3c/div\\\\x3e\\\\x3c/span\\\\x3e\\\\x3c/a\\\\x3e\\\\x3c/div\\\\x3e\\\\x3c/div\\\\x3e\\\\x3c/div\\\\x3e\\\\x3cdiv\\\\x3e\\\\x3cdiv class\\\\x3d\\\\x22P1NWSe\\\\x22\\\\x3e\\\\x3cdiv class\\\\x3d\\\\x22wOMIed nkPlDb\\\\x22\\\\x3e\\\\x3cspan class\\\\x3d\\\\x22JhFlyf VQFmSd\\\\x22\\\\x3e\\\\x3ca class\\\\x3d\\\\x22f4J0H\\\\x22 href\\\\x3d\\\\x22https://www.google.com/search?ie\\\\x3dUTF-8\\\\x26amp;ei\\\\x3dI9QfYZnbFtrK1sQP6v-dgAI\\\\x26amp;q\\\\x3dWhat+are+basics+of+python?\\\\x26amp;sa\\\\x3dX\\\\x26amp;ved\\\\x3d2ahUKEwjZ-OLV_r_yAhVapZUCHep_ByAQzmd6BAgJEBU\\\\x22\\\\x3eMore results\\\\x3c/a\\\\x3e\\\\x3c/span\\\\x3e\\\\x3c/div\\\\x3e\\\\x3c/div\\\\x3e\\\\x3c/div\\\\x3e\\\\x3c/div\\\\x3e\\\\x3c/div\\\\x3e\\');})();(function(){(function(){var id=\\'tsuid16\\';var lve=true;(function(){\\n\\n\\nvar e=\"undefined\"!=typeof navigator&&!/Opera/.test(navigator.userAgent)&&/WebKit/.test(navigator.userAgent),f={A:1,INPUT:1,TEXTAREA:1,SELECT:1,BUTTON:1},g={A:13,BUTTON:0,CHECKBOX:32,COMBOBOX:13,FILE:0,GRIDCELL:13,LINK:13,LISTBOX:13,MENU:0,MENUBAR:0,MENUITEM:0,MENUITEMCHECKBOX:0,MENUITEMRADIO:0,OPTION:0,RADIO:32,RADIOGROUP:32,RESET:0,SUBMIT:0,SWITCH:32,TAB:0,TREE:13,TREEITEM:13},h={CHECKBOX:!0,FILE:!0,OPTION:!0,RADIO:!0},k={COLOR:!0,DATE:!0,DATETIME:!0,\"DATETIME-LOCAL\":!0,EMAIL:!0,MONTH:!0,NUMBER:!0,PASSWORD:!0,RANGE:!0,SEARCH:!0,TEL:!0,TEXT:!0,TEXTAREA:!0,TIME:!0,URL:!0,WEEK:!0};document.getElementById(id).onclick=function(){window.xp(this);lve&&window.logVe(this)};document.getElementById(id).onkeydown=function(d){var c=d.which||d.keyCode;e&&3==c&&(c=13);if(13!=c&&32!=c)c=!1;else{var a=d.target||d.srcElement;!a.getAttribute&&a.parentNode&&(a=a.parentNode);var b;if(!(b=\"keydown\"!=d.type)){if(b=\"getAttribute\"in a)b=!((a.getAttribute(\"type\")||a.tagName).toUpperCase()in k);b=!(b&&!(\"BUTTON\"==a.tagName.toUpperCase()||a.type&&\"FILE\"==a.type.toUpperCase())&&!a.isContentEditable)}(b=b||d.ctrlKey||d.shiftKey||d.altKey||d.metaKey||(a.getAttribute(\"type\")||a.tagName).toUpperCase()in\\nh&&32==c)||((b=a.tagName in f)||(b=a.getAttributeNode(\"tabindex\"),b=null!=b&&b.specified),b=!(b&&!a.disabled));if(b)c=!1;else{b=(a.getAttribute(\"role\")||a.type||a.tagName).toUpperCase();var l=!(b in g)&&13==c;a=\"INPUT\"!=a.tagName.toUpperCase()||!!a.type;c=(0==g[b]%c||l)&&a}}c&&(d.preventDefault(),window.xp(this),lve&&window.logVe(this))};}).call(this);})();})();(function(){window.jsl.dh(\\'accdef_17\\',\\'\\\\x3cdiv\\\\x3e\\\\x3cdiv style\\\\x3d\\\\x22padding-bottom:12px;padding-top:0px\\\\x22 class\\\\x3d\\\\x22hwc kCrYT\\\\x22\\\\x3e\\\\x3cdiv class\\\\x3d\\\\x22yStFkb\\\\x22\\\\x3e\\\\x3cdiv class\\\\x3d\\\\x22ZINbbc xpd O9g5cc uUPGi\\\\x22\\\\x3e\\\\x3cdiv class\\\\x3d\\\\x22kCrYT\\\\x22\\\\x3e\\\\x3cdiv\\\\x3e\\\\x3cdiv class\\\\x3d\\\\x22BNeawe s3v9rd AP7Wnd\\\\x22\\\\x3e\\\\x3cdiv\\\\x3e\\\\x3cdiv class\\\\x3d\\\\x22BNeawe s3v9rd AP7Wnd\\\\x22\\\\x3ePython is a vastly used \\\\x3cspan class\\\\x3d\\\\x22FCUp0c rQMQod\\\\x22\\\\x3eprogramming language\\\\x3c/span\\\\x3e. Despite all Advantages and Disadvantages of Python, it is still one of the most preferred and trusted languages for desktop and web server-side application development.\\\\x3c/div\\\\x3e\\\\x3c/div\\\\x3e\\\\x3c/div\\\\x3e\\\\x3c/div\\\\x3e\\\\x3c/div\\\\x3e\\\\x3cdiv class\\\\x3d\\\\x22x54gtf\\\\x22\\\\x3e\\\\x3c/div\\\\x3e\\\\x3cdiv class\\\\x3d\\\\x22kCrYT\\\\x22\\\\x3e\\\\x3ca href\\\\x3d\\\\x22/url?q\\\\x3dhttps://squareboat.com/blog/advantages-and-disadvantages-of-python\\\\x26amp;sa\\\\x3dU\\\\x26amp;ved\\\\x3d2ahUKEwjZ-OLV_r_yAhVapZUCHep_ByAQFnoECAkQGg\\\\x26amp;usg\\\\x3dAOvVaw3A3vEWnlI6mT1GtzWqJqyI\\\\x22\\\\x3e\\\\x3cspan\\\\x3e\\\\x3cdiv class\\\\x3d\\\\x22BNeawe vvjwJb AP7Wnd\\\\x22\\\\x3eAdvantages and Disadvantages of Python - Squareboat\\\\x3c/div\\\\x3e\\\\x3c/span\\\\x3e\\\\x3cspan\\\\x3e\\\\x3cdiv class\\\\x3d\\\\x22BNeawe UPmit AP7Wnd\\\\x22\\\\x3esquareboat.com \\\\x26gt; blog \\\\x26gt; advantages-and-disadvantages-of-python\\\\x3c/div\\\\x3e\\\\x3c/span\\\\x3e\\\\x3c/a\\\\x3e\\\\x3c/div\\\\x3e\\\\x3c/div\\\\x3e\\\\x3c/div\\\\x3e\\\\x3cdiv\\\\x3e\\\\x3cdiv class\\\\x3d\\\\x22P1NWSe\\\\x22\\\\x3e\\\\x3cdiv class\\\\x3d\\\\x22wOMIed nkPlDb\\\\x22\\\\x3e\\\\x3cspan class\\\\x3d\\\\x22JhFlyf VQFmSd\\\\x22\\\\x3e\\\\x3ca class\\\\x3d\\\\x22f4J0H\\\\x22 href\\\\x3d\\\\x22https://www.google.com/search?ie\\\\x3dUTF-8\\\\x26amp;ei\\\\x3dI9QfYZnbFtrK1sQP6v-dgAI\\\\x26amp;q\\\\x3dIs+python+good+or+bad?\\\\x26amp;sa\\\\x3dX\\\\x26amp;ved\\\\x3d2ahUKEwjZ-OLV_r_yAhVapZUCHep_ByAQzmd6BAgJEBw\\\\x22\\\\x3eMore results\\\\x3c/a\\\\x3e\\\\x3c/span\\\\x3e\\\\x3c/div\\\\x3e\\\\x3c/div\\\\x3e\\\\x3c/div\\\\x3e\\\\x3c/div\\\\x3e\\\\x3c/div\\\\x3e\\');})();(function(){(function(){var id=\\'tsuid33\\';var lve=false;(function(){\\n\\n\\nvar e=\"undefined\"!=typeof navigator&&!/Opera/.test(navigator.userAgent)&&/WebKit/.test(navigator.userAgent),f={A:1,INPUT:1,TEXTAREA:1,SELECT:1,BUTTON:1},g={A:13,BUTTON:0,CHECKBOX:32,COMBOBOX:13,FILE:0,GRIDCELL:13,LINK:13,LISTBOX:13,MENU:0,MENUBAR:0,MENUITEM:0,MENUITEMCHECKBOX:0,MENUITEMRADIO:0,OPTION:0,RADIO:32,RADIOGROUP:32,RESET:0,SUBMIT:0,SWITCH:32,TAB:0,TREE:13,TREEITEM:13},h={CHECKBOX:!0,FILE:!0,OPTION:!0,RADIO:!0},k={COLOR:!0,DATE:!0,DATETIME:!0,\"DATETIME-LOCAL\":!0,EMAIL:!0,MONTH:!0,NUMBER:!0,PASSWORD:!0,RANGE:!0,SEARCH:!0,TEL:!0,TEXT:!0,TEXTAREA:!0,TIME:!0,URL:!0,WEEK:!0};document.getElementById(id).onclick=function(){window.xp(this);lve&&window.logVe(this)};document.getElementById(id).onkeydown=function(d){var c=d.which||d.keyCode;e&&3==c&&(c=13);if(13!=c&&32!=c)c=!1;else{var a=d.target||d.srcElement;!a.getAttribute&&a.parentNode&&(a=a.parentNode);var b;if(!(b=\"keydown\"!=d.type)){if(b=\"getAttribute\"in a)b=!((a.getAttribute(\"type\")||a.tagName).toUpperCase()in k);b=!(b&&!(\"BUTTON\"==a.tagName.toUpperCase()||a.type&&\"FILE\"==a.type.toUpperCase())&&!a.isContentEditable)}(b=b||d.ctrlKey||d.shiftKey||d.altKey||d.metaKey||(a.getAttribute(\"type\")||a.tagName).toUpperCase()in\\nh&&32==c)||((b=a.tagName in f)||(b=a.getAttributeNode(\"tabindex\"),b=null!=b&&b.specified),b=!(b&&!a.disabled));if(b)c=!1;else{b=(a.getAttribute(\"role\")||a.type||a.tagName).toUpperCase();var l=!(b in g)&&13==c;a=\"INPUT\"!=a.tagName.toUpperCase()||!!a.type;c=(0==g[b]%c||l)&&a}}c&&(d.preventDefault(),window.xp(this),lve&&window.logVe(this))};}).call(this);})();})();google.drty&&google.drty();</script></body></html>'"
      ]
     },
     "execution_count": 14,
     "metadata": {},
     "output_type": "execute_result"
    }
   ],
   "source": [
    "response.content"
   ]
  },
  {
   "cell_type": "code",
   "execution_count": 26,
   "id": "110e64da",
   "metadata": {},
   "outputs": [],
   "source": [
    "url_base = 'https://dog-facts-api.herokuapp.com/api/v1/resources/dogs'\n",
    "response = requests.get(url_base + '?number=2')"
   ]
  },
  {
   "cell_type": "code",
   "execution_count": 27,
   "id": "3048f25f",
   "metadata": {
    "scrolled": true
   },
   "outputs": [
    {
     "data": {
      "text/plain": [
       "200"
      ]
     },
     "execution_count": 27,
     "metadata": {},
     "output_type": "execute_result"
    }
   ],
   "source": [
    "response.status_code"
   ]
  },
  {
   "cell_type": "code",
   "execution_count": 29,
   "id": "055a91f4",
   "metadata": {},
   "outputs": [
    {
     "data": {
      "text/plain": [
       "'OK'"
      ]
     },
     "execution_count": 29,
     "metadata": {},
     "output_type": "execute_result"
    }
   ],
   "source": [
    "response.reason"
   ]
  },
  {
   "cell_type": "code",
   "execution_count": 30,
   "id": "7f1e64e4",
   "metadata": {},
   "outputs": [
    {
     "data": {
      "text/plain": [
       "b'[\\n  {\\n    \"fact\": \"The origin of amputating a dog\\\\u2019s tail may go back to the Roman writer Lucius Columella\\\\u2019s \\\\\"A.D. 4-70\\\\\"} assertion that tail docking prevented rabies. \"\\n  }, \\n  {\\n    \"fact\": \"Dogs who bark the most: Miniature Schnauzers, Cairn Terriers, Yorkshire Terriers, Fox Terriers and West Highland White Terriers.\"\\n  }\\n]\\n'"
      ]
     },
     "execution_count": 30,
     "metadata": {},
     "output_type": "execute_result"
    }
   ],
   "source": [
    "response.content"
   ]
  },
  {
   "cell_type": "code",
   "execution_count": 31,
   "id": "c42e18b9",
   "metadata": {},
   "outputs": [
    {
     "data": {
      "text/plain": [
       "'[\\n  {\\n    \"fact\": \"The origin of amputating a dog\\\\u2019s tail may go back to the Roman writer Lucius Columella\\\\u2019s \\\\\"A.D. 4-70\\\\\"} assertion that tail docking prevented rabies. \"\\n  }, \\n  {\\n    \"fact\": \"Dogs who bark the most: Miniature Schnauzers, Cairn Terriers, Yorkshire Terriers, Fox Terriers and West Highland White Terriers.\"\\n  }\\n]\\n'"
      ]
     },
     "execution_count": 31,
     "metadata": {},
     "output_type": "execute_result"
    }
   ],
   "source": [
    "# This is a JSON string and not a python dictionary.\n",
    "# We can decode this JSON string into python object like dictionary\n",
    "response.text"
   ]
  },
  {
   "cell_type": "code",
   "execution_count": 32,
   "id": "dccfd000",
   "metadata": {},
   "outputs": [],
   "source": [
    "import json\n",
    "\n",
    "# Loads that JSON string to be a Pyhton object\n",
    "data = json.loads(response.text)"
   ]
  },
  {
   "cell_type": "code",
   "execution_count": 33,
   "id": "a1e0d6fd",
   "metadata": {
    "scrolled": true
   },
   "outputs": [
    {
     "data": {
      "text/plain": [
       "[{'fact': 'The origin of amputating a dog’s tail may go back to the Roman writer Lucius Columella’s \"A.D. 4-70\"} assertion that tail docking prevented rabies. '},\n",
       " {'fact': 'Dogs who bark the most: Miniature Schnauzers, Cairn Terriers, Yorkshire Terriers, Fox Terriers and West Highland White Terriers.'}]"
      ]
     },
     "execution_count": 33,
     "metadata": {},
     "output_type": "execute_result"
    }
   ],
   "source": [
    "data"
   ]
  },
  {
   "cell_type": "code",
   "execution_count": 34,
   "id": "e7457b5e",
   "metadata": {},
   "outputs": [
    {
     "name": "stdout",
     "output_type": "stream",
     "text": [
      "<class 'list'>\n",
      "<class 'dict'>\n"
     ]
    }
   ],
   "source": [
    "print(type(data))\n",
    "print(type(data[0]))"
   ]
  },
  {
   "cell_type": "code",
   "execution_count": 43,
   "id": "7499baae",
   "metadata": {},
   "outputs": [
    {
     "data": {
      "text/plain": [
       "'The origin of amputating a dog’s tail may go back to the Roman writer Lucius Columella’s \"A.D. 4-70\"} assertion that tail docking prevented rabies. '"
      ]
     },
     "execution_count": 43,
     "metadata": {},
     "output_type": "execute_result"
    }
   ],
   "source": [
    "data[0]['fact']"
   ]
  },
  {
   "cell_type": "code",
   "execution_count": 44,
   "id": "4f6e10f3",
   "metadata": {},
   "outputs": [
    {
     "data": {
      "text/plain": [
       "[{'fact': 'The origin of amputating a dog’s tail may go back to the Roman writer Lucius Columella’s \"A.D. 4-70\"} assertion that tail docking prevented rabies. '},\n",
       " {'fact': 'Dogs who bark the most: Miniature Schnauzers, Cairn Terriers, Yorkshire Terriers, Fox Terriers and West Highland White Terriers.'}]"
      ]
     },
     "execution_count": 44,
     "metadata": {},
     "output_type": "execute_result"
    }
   ],
   "source": [
    "# Shorthand method:\n",
    "# If the response is in the form of the JSON, we can convert it to a Pyhton object using .json()\n",
    "# No need to do import json\n",
    "data = response.json()\n",
    "data"
   ]
  },
  {
   "cell_type": "code",
   "execution_count": 49,
   "id": "92bb5956",
   "metadata": {},
   "outputs": [],
   "source": [
    "url_base = 'https://dog-facts-api.herokuapp.com/api/v1/resources/dogs' # before '?'\n",
    "params = {'number' : 3} # after '?' in the form of dictionary\n",
    "response = requests.get(url_base, params=params)"
   ]
  },
  {
   "cell_type": "code",
   "execution_count": 50,
   "id": "d20ab53b",
   "metadata": {},
   "outputs": [
    {
     "data": {
      "text/plain": [
       "'https://dog-facts-api.herokuapp.com/api/v1/resources/dogs?number=3'"
      ]
     },
     "execution_count": 50,
     "metadata": {},
     "output_type": "execute_result"
    }
   ],
   "source": [
    "response.url"
   ]
  },
  {
   "cell_type": "code",
   "execution_count": 51,
   "id": "0137e74c",
   "metadata": {},
   "outputs": [
    {
     "data": {
      "text/plain": [
       "'[\\n  {\\n    \"fact\": \"The phrase \\\\\"raining cats and dogs\\\\\" originated in 17th century England when it is believed that many cats and dogs drowned during heavy periods of rain.\"\\n  }, \\n  {\\n    \"fact\": \"Dogs judge objects first by their movement, then by their brightness, and lastly by their shape.\"\\n  }, \\n  {\\n    \"fact\": \"Dogs with little human contact in the first three months typically don\\\\u2019t make good pets.\"\\n  }\\n]\\n'"
      ]
     },
     "execution_count": 51,
     "metadata": {},
     "output_type": "execute_result"
    }
   ],
   "source": [
    "response.text"
   ]
  },
  {
   "cell_type": "code",
   "execution_count": 52,
   "id": "58c9bf3a",
   "metadata": {},
   "outputs": [
    {
     "data": {
      "text/plain": [
       "b'[\\n  {\\n    \"fact\": \"The phrase \\\\\"raining cats and dogs\\\\\" originated in 17th century England when it is believed that many cats and dogs drowned during heavy periods of rain.\"\\n  }, \\n  {\\n    \"fact\": \"Dogs judge objects first by their movement, then by their brightness, and lastly by their shape.\"\\n  }, \\n  {\\n    \"fact\": \"Dogs with little human contact in the first three months typically don\\\\u2019t make good pets.\"\\n  }\\n]\\n'"
      ]
     },
     "execution_count": 52,
     "metadata": {},
     "output_type": "execute_result"
    }
   ],
   "source": [
    "response.content"
   ]
  },
  {
   "cell_type": "code",
   "execution_count": 53,
   "id": "16c436a8",
   "metadata": {},
   "outputs": [
    {
     "data": {
      "text/plain": [
       "200"
      ]
     },
     "execution_count": 53,
     "metadata": {},
     "output_type": "execute_result"
    }
   ],
   "source": [
    "response.status_code"
   ]
  },
  {
   "cell_type": "code",
   "execution_count": 54,
   "id": "b3b6e45d",
   "metadata": {},
   "outputs": [
    {
     "data": {
      "text/plain": [
       "'OK'"
      ]
     },
     "execution_count": 54,
     "metadata": {},
     "output_type": "execute_result"
    }
   ],
   "source": [
    "response.reason"
   ]
  },
  {
   "cell_type": "code",
   "execution_count": 55,
   "id": "8364c717",
   "metadata": {},
   "outputs": [
    {
     "data": {
      "text/plain": [
       "[{'fact': 'The phrase \"raining cats and dogs\" originated in 17th century England when it is believed that many cats and dogs drowned during heavy periods of rain.'},\n",
       " {'fact': 'Dogs judge objects first by their movement, then by their brightness, and lastly by their shape.'},\n",
       " {'fact': 'Dogs with little human contact in the first three months typically don’t make good pets.'}]"
      ]
     },
     "execution_count": 55,
     "metadata": {},
     "output_type": "execute_result"
    }
   ],
   "source": [
    "response.json()"
   ]
  },
  {
   "cell_type": "markdown",
   "id": "62b61d4b",
   "metadata": {},
   "source": [
    "## requests reponse based upon ip address"
   ]
  },
  {
   "cell_type": "code",
   "execution_count": 64,
   "id": "cc559080",
   "metadata": {},
   "outputs": [
    {
     "data": {
      "text/plain": [
       "200"
      ]
     },
     "execution_count": 64,
     "metadata": {},
     "output_type": "execute_result"
    }
   ],
   "source": [
    "response = requests.get('https://api.ipify.org', params={'format' : 'json'})\n",
    "response.status_code"
   ]
  },
  {
   "cell_type": "code",
   "execution_count": 65,
   "id": "95b1002e",
   "metadata": {},
   "outputs": [
    {
     "data": {
      "text/plain": [
       "'{\"ip\":\"103.158.131.110\"}'"
      ]
     },
     "execution_count": 65,
     "metadata": {},
     "output_type": "execute_result"
    }
   ],
   "source": [
    "response.text"
   ]
  },
  {
   "cell_type": "code",
   "execution_count": 81,
   "id": "e3be1344",
   "metadata": {},
   "outputs": [
    {
     "name": "stdout",
     "output_type": "stream",
     "text": [
      "{\"ip\":\"103.158.131.110\"}\n"
     ]
    }
   ],
   "source": [
    "print(response.text)\n",
    "# Inside the print statement, response.text takes care of the formatting"
   ]
  },
  {
   "cell_type": "code",
   "execution_count": 67,
   "id": "a35c1434",
   "metadata": {},
   "outputs": [
    {
     "data": {
      "text/plain": [
       "b'{\"ip\":\"103.158.131.110\"}'"
      ]
     },
     "execution_count": 67,
     "metadata": {},
     "output_type": "execute_result"
    }
   ],
   "source": [
    "response.content"
   ]
  },
  {
   "cell_type": "code",
   "execution_count": 68,
   "id": "315bb35d",
   "metadata": {},
   "outputs": [
    {
     "name": "stdout",
     "output_type": "stream",
     "text": [
      "b'{\"ip\":\"103.158.131.110\"}'\n"
     ]
    }
   ],
   "source": [
    "print(response.content)"
   ]
  },
  {
   "cell_type": "code",
   "execution_count": 69,
   "id": "6df4e505",
   "metadata": {},
   "outputs": [
    {
     "data": {
      "text/plain": [
       "{'ip': '103.158.131.110'}"
      ]
     },
     "execution_count": 69,
     "metadata": {},
     "output_type": "execute_result"
    }
   ],
   "source": [
    "response.json()"
   ]
  },
  {
   "cell_type": "code",
   "execution_count": 76,
   "id": "8e735ee6",
   "metadata": {},
   "outputs": [
    {
     "data": {
      "text/plain": [
       "'103.158.131.110'"
      ]
     },
     "execution_count": 76,
     "metadata": {},
     "output_type": "execute_result"
    }
   ],
   "source": [
    "response.json()['ip']"
   ]
  },
  {
   "cell_type": "code",
   "execution_count": 80,
   "id": "f4899ba1",
   "metadata": {},
   "outputs": [
    {
     "data": {
      "text/plain": [
       "{'status': 'success',\n",
       " 'continent': 'Asia',\n",
       " 'country': 'India',\n",
       " 'countryCode': 'IN',\n",
       " 'regionName': 'Uttar Pradesh',\n",
       " 'city': 'Varanasi',\n",
       " 'zip': '221010',\n",
       " 'lat': 25.2979,\n",
       " 'lon': 82.9956,\n",
       " 'timezone': 'Asia/Kolkata',\n",
       " 'currency': 'INR',\n",
       " 'isp': 'Netmatix Network Private Limited',\n",
       " 'org': 'Netmatix Network Private Limited',\n",
       " 'as': 'AS141311 Netmatix Network Private Limited',\n",
       " 'reverse': '',\n",
       " 'mobile': True,\n",
       " 'proxy': False,\n",
       " 'ip': '103.158.131.110'}"
      ]
     },
     "execution_count": 80,
     "metadata": {},
     "output_type": "execute_result"
    }
   ],
   "source": [
    "# Finding the location based on the IP address\n",
    "base_url = 'https://api.techniknews.net/ipgeo/'\n",
    "loc_response = requests.get(base_url + response.json()['ip'])\n",
    "# ip_addr = response.josn()['ip']\n",
    "# loc_response = requests.get(f'https://api.techniknews.net/ipgeo/{ip_addr}')\n",
    "loc_response.json()"
   ]
  },
  {
   "cell_type": "markdown",
   "id": "8b6508e8",
   "metadata": {},
   "source": [
    "# Web scrapping\n",
    "\n",
    "first we obtain the HTML using requests.get(url of web page)\n",
    "\n"
   ]
  },
  {
   "cell_type": "code",
   "execution_count": 82,
   "id": "21410dcf",
   "metadata": {},
   "outputs": [
    {
     "data": {
      "text/plain": [
       "200"
      ]
     },
     "execution_count": 82,
     "metadata": {},
     "output_type": "execute_result"
    }
   ],
   "source": [
    "response = requests.get('https://webscraper.io/test-sites/e-commerce/static/computers/laptops')\n",
    "response.status_code"
   ]
  },
  {
   "cell_type": "code",
   "execution_count": 83,
   "id": "bf2f8aad",
   "metadata": {},
   "outputs": [
    {
     "data": {
      "text/plain": [
       "'OK'"
      ]
     },
     "execution_count": 83,
     "metadata": {},
     "output_type": "execute_result"
    }
   ],
   "source": [
    "response.reason"
   ]
  },
  {
   "cell_type": "code",
   "execution_count": 84,
   "id": "6bde9987",
   "metadata": {},
   "outputs": [
    {
     "data": {
      "text/plain": [
       "'<!DOCTYPE html>\\n<html lang=\"en\">\\n<head>\\n\\n\\t\\t\\t<!-- Anti-flicker snippet (recommended)  -->\\n<style>.async-hide {\\n\\t\\topacity: 0 !important\\n\\t} </style>\\n<script>(function (a, s, y, n, c, h, i, d, e) {\\n\\t\\ts.className += \\' \\' + y;\\n\\t\\th.start = 1 * new Date;\\n\\t\\th.end = i = function () {\\n\\t\\t\\ts.className = s.className.replace(RegExp(\\' ?\\' + y), \\'\\')\\n\\t\\t};\\n\\t\\t(a[n] = a[n] || []).hide = h;\\n\\t\\tsetTimeout(function () {\\n\\t\\t\\ti();\\n\\t\\t\\th.end = null\\n\\t\\t}, c);\\n\\t\\th.timeout = c;\\n\\t})(window, document.documentElement, \\'async-hide\\', \\'dataLayer\\', 4000,\\n\\t\\t{\\'GTM-NVFPDWB\\': true});</script>\\n\\t\\n\\t<!-- Google Tag Manager -->\\n<script>(function (w, d, s, l, i) {\\n\\t\\tw[l] = w[l] || [];\\n\\t\\tw[l].push({\\n\\t\\t\\t\\'gtm.start\\':\\n\\t\\t\\t\\tnew Date().getTime(), event: \\'gtm.js\\'\\n\\t\\t});\\n\\t\\tvar f = d.getElementsByTagName(s)[0],\\n\\t\\t\\tj = d.createElement(s), dl = l != \\'dataLayer\\' ? \\'&l=\\' + l : \\'\\';\\n\\t\\tj.async = true;\\n\\t\\tj.src =\\n\\t\\t\\t\\'https://www.googletagmanager.com/gtm.js?id=\\' + i + dl;\\n\\t\\tf.parentNode.insertBefore(j, f);\\n\\t})(window, document, \\'script\\', \\'dataLayer\\', \\'GTM-NVFPDWB\\');</script>\\n<!-- End Google Tag Manager -->\\n\\t<title>Web Scraper Test Sites</title>\\n\\t<meta charset=\"utf-8\">\\n\\t<meta http-equiv=\"X-UA-Compatible\" content=\"IE=edge,chrome=1\">\\n\\n\\t<meta name=\"keywords\"\\n\\t      content=\"web scraping,Web Scraper,Chrome extension,Crawling,Cross platform scraper\"/>\\n\\t<meta name=\"description\"\\n\\t      content=\"The most popular web scraping extension. Start scraping in minutes. Automate your tasks with our Cloud Scraper. No software to download, no coding needed.\"/>\\n\\t<link rel=\"icon\" sizes=\"128x128\" href=\"/favicon.png\">\\n\\n\\t<meta name=\"viewport\" content=\"width=device-width, initial-scale=1.0\">\\n\\t\\n\\t<link rel=\"stylesheet\" href=\"/css/app.css?id=e4de8db16b64e604046e\">\\n\\n\\t<link rel=\"canonical\" href=\"https://webscraper.io/test-sites/e-commerce/static/computers/laptops\">\\n\\t<link rel=\"apple-touch-icon\" href=\"/img/logo-icon.png\">\\n\\n\\t\\t<script defer src=\"/js/app.js?id=e64f07a3ce1d466cf04c\"></script>\\n\\n\\t\\n</head>\\n<body>\\n<!-- Google Tag Manager (noscript) -->\\n<noscript>\\n\\t<iframe src=\"https://www.googletagmanager.com/ns.html?id=GTM-NVFPDWB\"\\n\\t        height=\"0\" width=\"0\" style=\"display:none;visibility:hidden\"></iframe>\\n</noscript>\\n<!-- End Google Tag Manager (noscript) -->\\n<header role=\"banner\" class=\"navbar navbar-fixed-top navbar-static\">\\n\\t<div class=\"container\">\\n\\n\\t\\t<div class=\"navbar-header\">\\n\\n\\t\\t\\t<a data-toggle=\"collapse-side\" data-target=\".side-collapse\" data-target-2=\".side-collapse-container\">\\n\\t\\t\\t\\t<button type=\"button\" class=\"navbar-toggle pull-right collapsed\" data-toggle=\"collapse\"\\n\\t\\t\\t\\t        data-target=\"#navbar\" data-target-2=\".side-collapse-container\" data-target-3=\".side-collapse\"\\n\\t\\t\\t\\t        aria-expanded=\"false\" aria-controls=\"navbar\">\\n\\n\\t\\t\\t\\t\\t<span class=\"sr-only\">Toggle navigation</span>\\n\\t\\t\\t\\t\\t<span class=\"icon-bar top-bar\"></span>\\n\\t\\t\\t\\t\\t<span class=\"icon-bar middle-bar\"></span>\\n\\t\\t\\t\\t\\t<span class=\"icon-bar bottom-bar\"></span>\\n\\n\\t\\t\\t\\t</button>\\n\\t\\t\\t</a>\\n\\t\\t\\t<div class=\"navbar-brand\">\\n\\t\\t\\t\\t<a href=\"/\"><img src=\"/img/logo_white.svg\" alt=\"Web Scraper\"></a>\\n\\t\\t\\t</div>\\n\\t\\t</div>\\n\\n\\t\\t<div class=\"side-collapse in\">\\n\\t\\t\\t<nav id=\"navbar\" role=\"navigation\" class=\"navbar-collapse collapse\">\\n\\t\\t\\t\\t<ul class=\"nav navbar-nav navbar-right\">\\n\\t\\t\\t\\t\\t<li class=\"hidden\">\\n\\t\\t\\t\\t\\t\\t<a href=\"#page-top\"></a>\\n\\t\\t\\t\\t\\t</li>\\n\\t\\t\\t\\t\\t\\n\\t\\t\\t\\t\\t\\n\\t\\t\\t\\t\\t\\n\\t\\t\\t\\t\\t\\n\\t\\t\\t\\t\\t\\n\\t\\t\\t\\t\\t\\n\\t\\t\\t\\t\\t\\n\\t\\t\\t\\t\\t<li>\\n\\t\\t\\t\\t\\t\\t<a href=\"/\" class=\"menuitm\">\\n\\t\\t\\t\\t\\t\\t\\t<p>Web Scraper</p>\\n\\t\\t\\t\\t\\t\\t\\t<div class=\"crta\"></div>\\n\\t\\t\\t\\t\\t\\t</a>\\n\\t\\t\\t\\t\\t</li>\\n\\t\\t\\t\\t\\t<li>\\n\\t\\t\\t\\t\\t\\t<a href=\"/cloud-scraper\" class=\"menuitm\">\\n\\t\\t\\t\\t\\t\\t\\t<p>Cloud Scraper</p>\\n\\t\\t\\t\\t\\t\\t\\t<div class=\"crta\"></div>\\n\\t\\t\\t\\t\\t\\t</a>\\n\\t\\t\\t\\t\\t</li>\\n\\t\\t\\t\\t\\t<li>\\n\\t\\t\\t\\t\\t\\t<a href=\"/pricing\" class=\"menuitm\">\\n\\t\\t\\t\\t\\t\\t\\t<p>Pricing</p>\\n\\t\\t\\t\\t\\t\\t\\t<div class=\"crta\"></div>\\n\\t\\t\\t\\t\\t\\t</a>\\n\\t\\t\\t\\t\\t</li>\\n\\t\\t\\t\\t\\t\\n\\t\\t\\t\\t\\t\\n\\t\\t\\t\\t\\t\\n\\t\\t\\t\\t\\t\\n\\t\\t\\t\\t\\t\\n\\t\\t\\t\\t\\t\\n\\t\\t\\t\\t\\t\\n\\t\\t\\t\\t\\t\\n\\t\\t\\t\\t\\t\\n\\t\\t\\t\\t\\t\\n\\t\\t\\t\\t\\t<li class=\"dropdown\">\\n\\t\\t\\t\\t\\t\\t<a href=\"#section3\" class=\"menuitm dropdown-toggle\" data-toggle=\"dropdown\">\\n\\t\\t\\t\\t\\t\\t\\t<p>Learn</p>\\n\\t\\t\\t\\t\\t\\t\\t<div class=\"crta\"></div>\\n\\t\\t\\t\\t\\t\\t</a>\\n\\t\\t\\t\\t\\t\\t<ul class=\"dropdown-menu\">\\n\\t\\t\\t\\t\\t\\t\\t<li>\\n\\t\\t\\t\\t\\t\\t\\t\\t<a href=\"/documentation\">Documentation</a>\\n\\t\\t\\t\\t\\t\\t\\t</li>\\n\\t\\t\\t\\t\\t\\t\\t<li>\\n\\t\\t\\t\\t\\t\\t\\t\\t<a href=\"/tutorials\">Video Tutorials</a>\\n\\t\\t\\t\\t\\t\\t\\t</li>\\n\\t\\t\\t\\t\\t\\t\\t<li>\\n\\t\\t\\t\\t\\t\\t\\t\\t<a href=\"/how-to-videos\">How to</a>\\n\\t\\t\\t\\t\\t\\t\\t</li>\\n\\t\\t\\t\\t\\t\\t\\t<li>\\n\\t\\t\\t\\t\\t\\t\\t\\t<a href=\"/test-sites\">Test Sites</a>\\n\\t\\t\\t\\t\\t\\t\\t</li>\\n\\t\\t\\t\\t\\t\\t\\t<li>\\n\\t\\t\\t\\t\\t\\t\\t\\t<a href=\"https://forum.webscraper.io/\" target=\"_blank\" rel=\"noopener\">Forum</a>\\n\\t\\t\\t\\t\\t\\t\\t</li>\\n\\t\\t\\t\\t\\t\\t</ul>\\n\\t\\t\\t\\t\\t</li>\\n\\t\\t\\t\\t\\t<li>\\n\\t\\t\\t\\t\\t\\t<a target=\"_blank\" href=\"https://chrome.google.com/webstore/detail/web-scraper/jnhgnonknehpejjnehehllkliplmbmhn?hl=en\" class=\"btn-menu1 install-extension\" rel=\"noopener\">Install</a>\\n\\t\\t\\t\\t\\t</li>\\n\\t\\t\\t\\t\\t<li>\\n\\t\\t\\t\\t\\t\\t<a href=\"https://cloud.webscraper.io/\" class=\"btn-menu2\">Login</a>\\n\\t\\t\\t\\t\\t</li>\\n\\t\\t\\t\\t</ul>\\n\\t\\t\\t</nav>\\n\\t\\t</div>\\n\\t</div>\\n</header>\\n\\n<div class=\"wrapper\">\\n\\t\\t<div class=\"formenu-here container-fluid\">\\n\\n\\t</div>\\n\\t<div class=\"container-fluid blog-hero\">\\n\\t\\t<div class=\"container\">\\n\\t\\t\\t<div class=\"row\">\\n\\t\\t\\t\\t<div class=\"col-md-12\">\\n\\t\\t\\t\\t\\t<h1>Test Sites</h1>\\n\\t\\t\\t\\t</div>\\n\\t\\t\\t</div>\\n\\t\\t</div>\\n\\t</div>\\n\\n\\t<div class=\"container test-site\">\\n\\t\\t<div class=\"row\">\\n\\t\\t\\t<div class=\"col-md-3 sidebar\">\\n\\t\\t\\t\\t\\t<div class=\"navbar-default sidebar\" role=\"navigation\">\\n\\t<div class=\"sidebar-nav navbar-collapse\">\\n\\t\\t<ul class=\"nav\" id=\"side-menu\">\\n\\n\\t\\t\\t<li >\\n\\t\\t\\t\\t<a href=\"/test-sites/e-commerce/static\">Home</a>\\n\\t\\t\\t</li>\\n\\n\\t\\t\\t\\t\\t\\t<li  class=\"active\" >\\n\\t\\t\\t\\t<a href=\"/test-sites/e-commerce/static/computers\" class=\"category-link \">\\n\\t\\t\\t\\t\\tComputers\\n\\t\\t\\t\\t\\t<span class=\"fa arrow\"></span>\\n\\t\\t\\t\\t</a>\\n\\n\\t\\t\\t\\t\\t\\t\\t\\t<ul class=\"nav nav-second-level collapse in\">\\n\\t\\t\\t\\t\\t\\t\\t\\t\\t\\t<li>\\n\\t\\t\\t\\t\\t\\t<a href=\"/test-sites/e-commerce/static/computers/laptops\" class=\"subcategory-link  active \">\\n\\t\\t\\t\\t\\t\\t\\tLaptops\\n\\t\\t\\t\\t\\t\\t</a>\\n\\t\\t\\t\\t\\t</li>\\n\\t\\t\\t\\t\\t\\t\\t\\t\\t\\t<li>\\n\\t\\t\\t\\t\\t\\t<a href=\"/test-sites/e-commerce/static/computers/tablets\" class=\"subcategory-link \">\\n\\t\\t\\t\\t\\t\\t\\tTablets\\n\\t\\t\\t\\t\\t\\t</a>\\n\\t\\t\\t\\t\\t</li>\\n\\t\\t\\t\\t\\t\\t\\t\\t\\t</ul>\\n\\t\\t\\t\\t\\t\\t\\t</li>\\n\\t\\t\\t\\t\\t\\t<li >\\n\\t\\t\\t\\t<a href=\"/test-sites/e-commerce/static/phones\" class=\"category-link \">\\n\\t\\t\\t\\t\\tPhones\\n\\t\\t\\t\\t\\t<span class=\"fa arrow\"></span>\\n\\t\\t\\t\\t</a>\\n\\n\\t\\t\\t\\t\\t\\t\\t</li>\\n\\t\\t\\t\\t\\t</ul>\\n\\t</div>\\n</div>\\n\\n\\t\\t\\t</div>\\n\\t\\t\\t<div class=\"col-md-9\">\\n\\t\\t\\t\\t\\t<h1 class=\"page-header\">Computers / Laptops</h1>\\n\\n<div class=\"row\">\\n\\t\\t\\t<div class=\"col-sm-4 col-lg-4 col-md-4\">\\n\\t<div class=\"thumbnail\">\\n\\t\\t<img class=\"img-responsive\" alt=\"item\"\\n\\t\\t     src=\"/images/test-sites/e-commerce/items/cart2.png\">\\n\\t\\t<div class=\"caption\">\\n\\t\\t\\t<h4 class=\"pull-right price\">$416.99</h4>\\n\\t\\t\\t<h4>\\n\\t\\t\\t\\t\\t\\t\\t\\t\\t<a href=\"/test-sites/e-commerce/static/product/516\" class=\"title\" title=\"Packard 255 G2\">Packard 255 G2</a>\\n\\t\\t\\t\\t\\t\\t\\t</h4>\\n\\t\\t\\t<p class=\"description\">15.6&quot;, AMD E2-3800 1.3GHz, 4GB, 500GB, Windows 8.1</p>\\n\\n\\t\\t</div>\\n\\t\\t<div class=\"ratings\">\\n\\t\\t\\t<p class=\"pull-right\">2 reviews</p>\\n\\t\\t\\t<p data-rating=\"2\">\\n\\t\\t\\t\\t\\t\\t\\t\\t<span class=\"glyphicon glyphicon-star\"></span>\\n\\t\\t\\t\\t\\t\\t\\t\\t<span class=\"glyphicon glyphicon-star\"></span>\\n\\t\\t\\t\\t\\t\\t\\t</p>\\n\\t\\t</div>\\n\\t</div>\\n</div>\\n\\t\\t\\t<div class=\"col-sm-4 col-lg-4 col-md-4\">\\n\\t<div class=\"thumbnail\">\\n\\t\\t<img class=\"img-responsive\" alt=\"item\"\\n\\t\\t     src=\"/images/test-sites/e-commerce/items/cart2.png\">\\n\\t\\t<div class=\"caption\">\\n\\t\\t\\t<h4 class=\"pull-right price\">$306.99</h4>\\n\\t\\t\\t<h4>\\n\\t\\t\\t\\t\\t\\t\\t\\t\\t<a href=\"/test-sites/e-commerce/static/product/517\" class=\"title\" title=\"Aspire E1-510\">Aspire E1-510</a>\\n\\t\\t\\t\\t\\t\\t\\t</h4>\\n\\t\\t\\t<p class=\"description\">15.6&quot;, Pentium N3520 2.16GHz, 4GB, 500GB, Linux</p>\\n\\n\\t\\t</div>\\n\\t\\t<div class=\"ratings\">\\n\\t\\t\\t<p class=\"pull-right\">2 reviews</p>\\n\\t\\t\\t<p data-rating=\"3\">\\n\\t\\t\\t\\t\\t\\t\\t\\t<span class=\"glyphicon glyphicon-star\"></span>\\n\\t\\t\\t\\t\\t\\t\\t\\t<span class=\"glyphicon glyphicon-star\"></span>\\n\\t\\t\\t\\t\\t\\t\\t\\t<span class=\"glyphicon glyphicon-star\"></span>\\n\\t\\t\\t\\t\\t\\t\\t</p>\\n\\t\\t</div>\\n\\t</div>\\n</div>\\n\\t\\t\\t<div class=\"col-sm-4 col-lg-4 col-md-4\">\\n\\t<div class=\"thumbnail\">\\n\\t\\t<img class=\"img-responsive\" alt=\"item\"\\n\\t\\t     src=\"/images/test-sites/e-commerce/items/cart2.png\">\\n\\t\\t<div class=\"caption\">\\n\\t\\t\\t<h4 class=\"pull-right price\">$1178.99</h4>\\n\\t\\t\\t<h4>\\n\\t\\t\\t\\t\\t\\t\\t\\t\\t<a href=\"/test-sites/e-commerce/static/product/518\" class=\"title\" title=\"ThinkPad T540p\">ThinkPad T540p</a>\\n\\t\\t\\t\\t\\t\\t\\t</h4>\\n\\t\\t\\t<p class=\"description\">15.6&quot;, Core i5-4200M, 4GB, 500GB, Win7 Pro 64bit</p>\\n\\n\\t\\t</div>\\n\\t\\t<div class=\"ratings\">\\n\\t\\t\\t<p class=\"pull-right\">2 reviews</p>\\n\\t\\t\\t<p data-rating=\"1\">\\n\\t\\t\\t\\t\\t\\t\\t\\t<span class=\"glyphicon glyphicon-star\"></span>\\n\\t\\t\\t\\t\\t\\t\\t</p>\\n\\t\\t</div>\\n\\t</div>\\n</div>\\n\\t\\t\\t<div class=\"col-sm-4 col-lg-4 col-md-4\">\\n\\t<div class=\"thumbnail\">\\n\\t\\t<img class=\"img-responsive\" alt=\"item\"\\n\\t\\t     src=\"/images/test-sites/e-commerce/items/cart2.png\">\\n\\t\\t<div class=\"caption\">\\n\\t\\t\\t<h4 class=\"pull-right price\">$739.99</h4>\\n\\t\\t\\t<h4>\\n\\t\\t\\t\\t\\t\\t\\t\\t\\t<a href=\"/test-sites/e-commerce/static/product/519\" class=\"title\" title=\"ProBook\">ProBook</a>\\n\\t\\t\\t\\t\\t\\t\\t</h4>\\n\\t\\t\\t<p class=\"description\">14&quot;, Core i5 2.6GHz, 4GB, 500GB, Win7 Pro 64bit</p>\\n\\n\\t\\t</div>\\n\\t\\t<div class=\"ratings\">\\n\\t\\t\\t<p class=\"pull-right\">8 reviews</p>\\n\\t\\t\\t<p data-rating=\"4\">\\n\\t\\t\\t\\t\\t\\t\\t\\t<span class=\"glyphicon glyphicon-star\"></span>\\n\\t\\t\\t\\t\\t\\t\\t\\t<span class=\"glyphicon glyphicon-star\"></span>\\n\\t\\t\\t\\t\\t\\t\\t\\t<span class=\"glyphicon glyphicon-star\"></span>\\n\\t\\t\\t\\t\\t\\t\\t\\t<span class=\"glyphicon glyphicon-star\"></span>\\n\\t\\t\\t\\t\\t\\t\\t</p>\\n\\t\\t</div>\\n\\t</div>\\n</div>\\n\\t\\t\\t<div class=\"col-sm-4 col-lg-4 col-md-4\">\\n\\t<div class=\"thumbnail\">\\n\\t\\t<img class=\"img-responsive\" alt=\"item\"\\n\\t\\t     src=\"/images/test-sites/e-commerce/items/cart2.png\">\\n\\t\\t<div class=\"caption\">\\n\\t\\t\\t<h4 class=\"pull-right price\">$1311.99</h4>\\n\\t\\t\\t<h4>\\n\\t\\t\\t\\t\\t\\t\\t\\t\\t<a href=\"/test-sites/e-commerce/static/product/520\" class=\"title\" title=\"ThinkPad X240\">ThinkPad X240</a>\\n\\t\\t\\t\\t\\t\\t\\t</h4>\\n\\t\\t\\t<p class=\"description\">12.5&quot;, Core i5-4300U, 8GB, 240GB SSD, Win7 Pro 64bit</p>\\n\\n\\t\\t</div>\\n\\t\\t<div class=\"ratings\">\\n\\t\\t\\t<p class=\"pull-right\">12 reviews</p>\\n\\t\\t\\t<p data-rating=\"3\">\\n\\t\\t\\t\\t\\t\\t\\t\\t<span class=\"glyphicon glyphicon-star\"></span>\\n\\t\\t\\t\\t\\t\\t\\t\\t<span class=\"glyphicon glyphicon-star\"></span>\\n\\t\\t\\t\\t\\t\\t\\t\\t<span class=\"glyphicon glyphicon-star\"></span>\\n\\t\\t\\t\\t\\t\\t\\t</p>\\n\\t\\t</div>\\n\\t</div>\\n</div>\\n\\t\\t\\t<div class=\"col-sm-4 col-lg-4 col-md-4\">\\n\\t<div class=\"thumbnail\">\\n\\t\\t<img class=\"img-responsive\" alt=\"item\"\\n\\t\\t     src=\"/images/test-sites/e-commerce/items/cart2.png\">\\n\\t\\t<div class=\"caption\">\\n\\t\\t\\t<h4 class=\"pull-right price\">$581.99</h4>\\n\\t\\t\\t<h4>\\n\\t\\t\\t\\t\\t\\t\\t\\t\\t<a href=\"/test-sites/e-commerce/static/product/521\" class=\"title\" title=\"Aspire E1-572G\">Aspire E1-572G</a>\\n\\t\\t\\t\\t\\t\\t\\t</h4>\\n\\t\\t\\t<p class=\"description\">15.6&quot;, Core i5-4200U, 8GB, 1TB, Radeon R7 M265, Windows 8.1</p>\\n\\n\\t\\t</div>\\n\\t\\t<div class=\"ratings\">\\n\\t\\t\\t<p class=\"pull-right\">2 reviews</p>\\n\\t\\t\\t<p data-rating=\"1\">\\n\\t\\t\\t\\t\\t\\t\\t\\t<span class=\"glyphicon glyphicon-star\"></span>\\n\\t\\t\\t\\t\\t\\t\\t</p>\\n\\t\\t</div>\\n\\t</div>\\n</div>\\n\\t</div>\\n\\n\\n<ul class=\"pagination\" role=\"navigation\">\\n        \\n                    <li class=\"page-item disabled\" aria-disabled=\"true\" aria-label=\"&laquo; Previous\">\\n                <span class=\"page-link\" aria-hidden=\"true\">&lsaquo;</span>\\n            </li>\\n        \\n        \\n                    \\n            \\n            \\n                                                                        <li class=\"page-item active\" aria-current=\"page\"><span class=\"page-link\">1</span></li>\\n                                                                                <li class=\"page-item\"><a class=\"page-link\" href=\"/test-sites/e-commerce/static/computers/laptops?page=2\">2</a></li>\\n                                                                                <li class=\"page-item\"><a class=\"page-link\" href=\"/test-sites/e-commerce/static/computers/laptops?page=3\">3</a></li>\\n                                                                                <li class=\"page-item\"><a class=\"page-link\" href=\"/test-sites/e-commerce/static/computers/laptops?page=4\">4</a></li>\\n                                                                                <li class=\"page-item\"><a class=\"page-link\" href=\"/test-sites/e-commerce/static/computers/laptops?page=5\">5</a></li>\\n                                                                                <li class=\"page-item\"><a class=\"page-link\" href=\"/test-sites/e-commerce/static/computers/laptops?page=6\">6</a></li>\\n                                                                                <li class=\"page-item\"><a class=\"page-link\" href=\"/test-sites/e-commerce/static/computers/laptops?page=7\">7</a></li>\\n                                                                                <li class=\"page-item\"><a class=\"page-link\" href=\"/test-sites/e-commerce/static/computers/laptops?page=8\">8</a></li>\\n                                                                    \\n                            <li class=\"page-item disabled\" aria-disabled=\"true\"><span class=\"page-link\">...</span></li>\\n            \\n            \\n                                \\n            \\n            \\n                                                                        <li class=\"page-item\"><a class=\"page-link\" href=\"/test-sites/e-commerce/static/computers/laptops?page=19\">19</a></li>\\n                                                                                <li class=\"page-item\"><a class=\"page-link\" href=\"/test-sites/e-commerce/static/computers/laptops?page=20\">20</a></li>\\n                                                        \\n        \\n                    <li class=\"page-item\">\\n                <a class=\"page-link\" href=\"/test-sites/e-commerce/static/computers/laptops?page=2\" rel=\"next\" aria-label=\"Next &raquo;\">&rsaquo;</a>\\n            </li>\\n            </ul>\\n\\n\\n\\n\\n\\t\\t\\t</div>\\n\\t\\t</div>\\n\\t</div>\\n\\t<div class=\"clearfix\"></div>\\n\\t<div class=\"push\"></div>\\n</div>\\n\\n<div class=\"container-fluid footer\" id=\"layout-footer\">\\n\\t<div class=\"container\">\\n\\t\\t<div class=\"row\">\\n\\t\\t\\t<div class=\"col-md-3\">\\n\\t\\t\\t\\t<ul>\\n\\t\\t\\t\\t\\t<li><p>Products</p></li>\\n\\t\\t\\t\\t\\t<li>\\n\\t\\t\\t\\t\\t\\t<a href=\"/\">Web Scraper browser extension</a>\\n\\t\\t\\t\\t\\t</li>\\n\\t\\t\\t\\t\\t<li>\\n\\t\\t\\t\\t\\t\\t<a href=\"/pricing\">Web Scraper Cloud</a>\\n\\t\\t\\t\\t\\t</li>\\n\\t\\t\\t\\t\\t\\t\\t\\t\\t\\t\\n\\t\\t\\t\\t\\t\\n\\t\\t\\t\\t</ul>\\n\\t\\t\\t</div>\\n\\t\\t\\t<div class=\"col-md-3\">\\n\\t\\t\\t\\t<ul>\\n\\t\\t\\t\\t\\t<li><p>Company</p></li>\\n\\t\\t\\t\\t\\t\\n\\t\\t\\t\\t\\t<li><a href=\"/contact\">Contact</a>\\n\\t\\t\\t\\t\\t</li>\\n\\t\\t\\t\\t\\t\\n\\t\\t\\t\\t\\t<li>\\n\\t\\t\\t\\t\\t\\t<a href=\"/privacy-policy\">Website Privacy Policy</a>\\n\\t\\t\\t\\t\\t</li>\\n\\t\\t\\t\\t\\t<li>\\n\\t\\t\\t\\t\\t\\t<a href=\"/extension-privacy-policy\">Browser Extension Privacy Policy</a>\\n\\t\\t\\t\\t\\t</li>\\n\\t\\t\\t\\t\\t<li>\\n\\t\\t\\t\\t\\t\\t<a href=\"http://webscraperio.us-east-1.elasticbeanstalk.com/downloads/Web_Scraper_Media_Kit.zip\">Media kit</a>\\n\\t\\t\\t\\t\\t</li>\\n\\t\\t\\t\\t\\t\\n\\t\\t\\t\\t\\t<li><a href=\"/jobs\">Jobs</a></li>\\n\\t\\t\\t\\t</ul>\\n\\t\\t\\t</div>\\n\\t\\t\\t<div class=\"col-md-3\">\\n\\t\\t\\t\\t<ul>\\n\\t\\t\\t\\t\\t<li><p>Resources</p></li>\\n\\t\\t\\t\\t\\t<li><a href=\"/blog\">Blog</a></li>\\n\\t\\t\\t\\t\\t<li>\\n\\t\\t\\t\\t\\t\\t<a href=\"/documentation\">Documentation</a>\\n\\t\\t\\t\\t\\t</li>\\n\\t\\t\\t\\t\\t<li>\\n\\t\\t\\t\\t\\t\\t<a href=\"/tutorials\">Video Tutorials</a>\\n\\t\\t\\t\\t\\t</li>\\n\\t\\t\\t\\t\\t<li>\\n\\t\\t\\t\\t\\t\\t<a href=\"/screenshots\">Screenshots</a>\\n\\t\\t\\t\\t\\t</li>\\n\\t\\t\\t\\t\\t<li>\\n\\t\\t\\t\\t\\t\\t<a href=\"/test-sites\">Test Sites</a>\\n\\t\\t\\t\\t\\t</li>\\n\\t\\t\\t\\t\\t<li>\\n\\t\\t\\t\\t\\t\\t<a target=\"_blank\" href=\"https://forum.webscraper.io/\" rel=\"noopener\">Forum</a>\\n\\t\\t\\t\\t\\t</li>\\n\\t\\t\\t\\t</ul>\\n\\t\\t\\t</div>\\n\\t\\t\\t<div class=\"col-md-3\">\\n\\t\\t\\t\\t<ul>\\n\\t\\t\\t\\t\\t<li><p>CONTACT US</p></li>\\n\\t\\t\\t\\t\\t<li>\\n\\t\\t\\t\\t\\t\\t<a href=\"mailto:info@webscraper.io\">info@webscraper.io</a>\\n\\t\\t\\t\\t\\t</li>\\n\\t\\t\\t\\t\\t\\n\\t\\t\\t\\t\\t<li>Rupniecibas iela 30,<br> Riga, Latvia, LV-1045</li>\\n\\t\\t\\t\\t</ul>\\n\\t\\t\\t\\t<ul class=\"smedia\">\\n\\t\\t\\t\\t\\t<li>\\n\\t\\t\\t\\t\\t\\t<a href=\"https://www.facebook.com/webscraperio/\" target=\"_blank\" rel=\"noopener\"><img src=\"/img/fbicon.png\" alt=\"Web Scraper on Facebook\"></a>\\n\\t\\t\\t\\t\\t</li>\\n\\t\\t\\t\\t\\t<li>\\n\\t\\t\\t\\t\\t\\t<a href=\"https://twitter.com/webscraperio\" target=\"_blank\" rel=\"noopener\"><img src=\"/img/twicon.png\" alt=\"Web Scraper on Twitter\"></a>\\n\\t\\t\\t\\t\\t</li>\\n\\t\\t\\t\\t\\t\\n\\n\\t\\t\\t\\t</ul>\\n\\t\\t\\t</div>\\n\\t\\t</div>\\n\\t\\t<div class=\"row\">\\n\\t\\t\\t<div class=\"col-md-12\">\\n\\t\\t\\t\\t<p class=\"copyright\">Copyright &copy 2021\\n\\t\\t\\t\\t\\t<a href=\"#\">Web Scraper</a> | All rights\\n\\t\\t\\t\\t\\treserved | Made by zoom59</p>\\n\\t\\t\\t</div>\\n\\t\\t</div>\\n\\t</div>\\n</div>\\n\\n\\n</body>\\n</html>\\n'"
      ]
     },
     "execution_count": 84,
     "metadata": {},
     "output_type": "execute_result"
    }
   ],
   "source": [
    "response.text"
   ]
  },
  {
   "cell_type": "code",
   "execution_count": 123,
   "id": "6eeade1c",
   "metadata": {},
   "outputs": [
    {
     "data": {
      "text/plain": [
       "<!DOCTYPE html>\n",
       "\n",
       "<html lang=\"en\">\n",
       "<head>\n",
       "<!-- Anti-flicker snippet (recommended)  -->\n",
       "<style>.async-hide {\n",
       "\t\topacity: 0 !important\n",
       "\t} </style>\n",
       "<script>(function (a, s, y, n, c, h, i, d, e) {\n",
       "\t\ts.className += ' ' + y;\n",
       "\t\th.start = 1 * new Date;\n",
       "\t\th.end = i = function () {\n",
       "\t\t\ts.className = s.className.replace(RegExp(' ?' + y), '')\n",
       "\t\t};\n",
       "\t\t(a[n] = a[n] || []).hide = h;\n",
       "\t\tsetTimeout(function () {\n",
       "\t\t\ti();\n",
       "\t\t\th.end = null\n",
       "\t\t}, c);\n",
       "\t\th.timeout = c;\n",
       "\t})(window, document.documentElement, 'async-hide', 'dataLayer', 4000,\n",
       "\t\t{'GTM-NVFPDWB': true});</script>\n",
       "<!-- Google Tag Manager -->\n",
       "<script>(function (w, d, s, l, i) {\n",
       "\t\tw[l] = w[l] || [];\n",
       "\t\tw[l].push({\n",
       "\t\t\t'gtm.start':\n",
       "\t\t\t\tnew Date().getTime(), event: 'gtm.js'\n",
       "\t\t});\n",
       "\t\tvar f = d.getElementsByTagName(s)[0],\n",
       "\t\t\tj = d.createElement(s), dl = l != 'dataLayer' ? '&l=' + l : '';\n",
       "\t\tj.async = true;\n",
       "\t\tj.src =\n",
       "\t\t\t'https://www.googletagmanager.com/gtm.js?id=' + i + dl;\n",
       "\t\tf.parentNode.insertBefore(j, f);\n",
       "\t})(window, document, 'script', 'dataLayer', 'GTM-NVFPDWB');</script>\n",
       "<!-- End Google Tag Manager -->\n",
       "<title>Web Scraper Test Sites</title>\n",
       "<meta charset=\"utf-8\"/>\n",
       "<meta content=\"IE=edge,chrome=1\" http-equiv=\"X-UA-Compatible\"/>\n",
       "<meta content=\"web scraping,Web Scraper,Chrome extension,Crawling,Cross platform scraper\" name=\"keywords\">\n",
       "<meta content=\"The most popular web scraping extension. Start scraping in minutes. Automate your tasks with our Cloud Scraper. No software to download, no coding needed.\" name=\"description\">\n",
       "<link href=\"/favicon.png\" rel=\"icon\" sizes=\"128x128\"/>\n",
       "<meta content=\"width=device-width, initial-scale=1.0\" name=\"viewport\"/>\n",
       "<link href=\"/css/app.css?id=e4de8db16b64e604046e\" rel=\"stylesheet\"/>\n",
       "<link href=\"https://webscraper.io/test-sites/e-commerce/static/computers/laptops\" rel=\"canonical\"/>\n",
       "<link href=\"/img/logo-icon.png\" rel=\"apple-touch-icon\"/>\n",
       "<script defer=\"\" src=\"/js/app.js?id=e64f07a3ce1d466cf04c\"></script>\n",
       "</meta></meta></head>\n",
       "<body>\n",
       "<!-- Google Tag Manager (noscript) -->\n",
       "<noscript>\n",
       "<iframe height=\"0\" src=\"https://www.googletagmanager.com/ns.html?id=GTM-NVFPDWB\" style=\"display:none;visibility:hidden\" width=\"0\"></iframe>\n",
       "</noscript>\n",
       "<!-- End Google Tag Manager (noscript) -->\n",
       "<header class=\"navbar navbar-fixed-top navbar-static\" role=\"banner\">\n",
       "<div class=\"container\">\n",
       "<div class=\"navbar-header\">\n",
       "<a data-target=\".side-collapse\" data-target-2=\".side-collapse-container\" data-toggle=\"collapse-side\">\n",
       "<button aria-controls=\"navbar\" aria-expanded=\"false\" class=\"navbar-toggle pull-right collapsed\" data-target=\"#navbar\" data-target-2=\".side-collapse-container\" data-target-3=\".side-collapse\" data-toggle=\"collapse\" type=\"button\">\n",
       "<span class=\"sr-only\">Toggle navigation</span>\n",
       "<span class=\"icon-bar top-bar\"></span>\n",
       "<span class=\"icon-bar middle-bar\"></span>\n",
       "<span class=\"icon-bar bottom-bar\"></span>\n",
       "</button>\n",
       "</a>\n",
       "<div class=\"navbar-brand\">\n",
       "<a href=\"/\"><img alt=\"Web Scraper\" src=\"/img/logo_white.svg\"/></a>\n",
       "</div>\n",
       "</div>\n",
       "<div class=\"side-collapse in\">\n",
       "<nav class=\"navbar-collapse collapse\" id=\"navbar\" role=\"navigation\">\n",
       "<ul class=\"nav navbar-nav navbar-right\">\n",
       "<li class=\"hidden\">\n",
       "<a href=\"#page-top\"></a>\n",
       "</li>\n",
       "<li>\n",
       "<a class=\"menuitm\" href=\"/\">\n",
       "<p>Web Scraper</p>\n",
       "<div class=\"crta\"></div>\n",
       "</a>\n",
       "</li>\n",
       "<li>\n",
       "<a class=\"menuitm\" href=\"/cloud-scraper\">\n",
       "<p>Cloud Scraper</p>\n",
       "<div class=\"crta\"></div>\n",
       "</a>\n",
       "</li>\n",
       "<li>\n",
       "<a class=\"menuitm\" href=\"/pricing\">\n",
       "<p>Pricing</p>\n",
       "<div class=\"crta\"></div>\n",
       "</a>\n",
       "</li>\n",
       "<li class=\"dropdown\">\n",
       "<a class=\"menuitm dropdown-toggle\" data-toggle=\"dropdown\" href=\"#section3\">\n",
       "<p>Learn</p>\n",
       "<div class=\"crta\"></div>\n",
       "</a>\n",
       "<ul class=\"dropdown-menu\">\n",
       "<li>\n",
       "<a href=\"/documentation\">Documentation</a>\n",
       "</li>\n",
       "<li>\n",
       "<a href=\"/tutorials\">Video Tutorials</a>\n",
       "</li>\n",
       "<li>\n",
       "<a href=\"/how-to-videos\">How to</a>\n",
       "</li>\n",
       "<li>\n",
       "<a href=\"/test-sites\">Test Sites</a>\n",
       "</li>\n",
       "<li>\n",
       "<a href=\"https://forum.webscraper.io/\" rel=\"noopener\" target=\"_blank\">Forum</a>\n",
       "</li>\n",
       "</ul>\n",
       "</li>\n",
       "<li>\n",
       "<a class=\"btn-menu1 install-extension\" href=\"https://chrome.google.com/webstore/detail/web-scraper/jnhgnonknehpejjnehehllkliplmbmhn?hl=en\" rel=\"noopener\" target=\"_blank\">Install</a>\n",
       "</li>\n",
       "<li>\n",
       "<a class=\"btn-menu2\" href=\"https://cloud.webscraper.io/\">Login</a>\n",
       "</li>\n",
       "</ul>\n",
       "</nav>\n",
       "</div>\n",
       "</div>\n",
       "</header>\n",
       "<div class=\"wrapper\">\n",
       "<div class=\"formenu-here container-fluid\">\n",
       "</div>\n",
       "<div class=\"container-fluid blog-hero\">\n",
       "<div class=\"container\">\n",
       "<div class=\"row\">\n",
       "<div class=\"col-md-12\">\n",
       "<h1>Test Sites</h1>\n",
       "</div>\n",
       "</div>\n",
       "</div>\n",
       "</div>\n",
       "<div class=\"container test-site\">\n",
       "<div class=\"row\">\n",
       "<div class=\"col-md-3 sidebar\">\n",
       "<div class=\"navbar-default sidebar\" role=\"navigation\">\n",
       "<div class=\"sidebar-nav navbar-collapse\">\n",
       "<ul class=\"nav\" id=\"side-menu\">\n",
       "<li>\n",
       "<a href=\"/test-sites/e-commerce/static\">Home</a>\n",
       "</li>\n",
       "<li class=\"active\">\n",
       "<a class=\"category-link\" href=\"/test-sites/e-commerce/static/computers\">\n",
       "\t\t\t\t\tComputers\n",
       "\t\t\t\t\t<span class=\"fa arrow\"></span>\n",
       "</a>\n",
       "<ul class=\"nav nav-second-level collapse in\">\n",
       "<li>\n",
       "<a class=\"subcategory-link active\" href=\"/test-sites/e-commerce/static/computers/laptops\">\n",
       "\t\t\t\t\t\t\tLaptops\n",
       "\t\t\t\t\t\t</a>\n",
       "</li>\n",
       "<li>\n",
       "<a class=\"subcategory-link\" href=\"/test-sites/e-commerce/static/computers/tablets\">\n",
       "\t\t\t\t\t\t\tTablets\n",
       "\t\t\t\t\t\t</a>\n",
       "</li>\n",
       "</ul>\n",
       "</li>\n",
       "<li>\n",
       "<a class=\"category-link\" href=\"/test-sites/e-commerce/static/phones\">\n",
       "\t\t\t\t\tPhones\n",
       "\t\t\t\t\t<span class=\"fa arrow\"></span>\n",
       "</a>\n",
       "</li>\n",
       "</ul>\n",
       "</div>\n",
       "</div>\n",
       "</div>\n",
       "<div class=\"col-md-9\">\n",
       "<h1 class=\"page-header\">Computers / Laptops</h1>\n",
       "<div class=\"row\">\n",
       "<div class=\"col-sm-4 col-lg-4 col-md-4\">\n",
       "<div class=\"thumbnail\">\n",
       "<img alt=\"item\" class=\"img-responsive\" src=\"/images/test-sites/e-commerce/items/cart2.png\"/>\n",
       "<div class=\"caption\">\n",
       "<h4 class=\"pull-right price\">$416.99</h4>\n",
       "<h4>\n",
       "<a class=\"title\" href=\"/test-sites/e-commerce/static/product/516\" title=\"Packard 255 G2\">Packard 255 G2</a>\n",
       "</h4>\n",
       "<p class=\"description\">15.6\", AMD E2-3800 1.3GHz, 4GB, 500GB, Windows 8.1</p>\n",
       "</div>\n",
       "<div class=\"ratings\">\n",
       "<p class=\"pull-right\">2 reviews</p>\n",
       "<p data-rating=\"2\">\n",
       "<span class=\"glyphicon glyphicon-star\"></span>\n",
       "<span class=\"glyphicon glyphicon-star\"></span>\n",
       "</p>\n",
       "</div>\n",
       "</div>\n",
       "</div>\n",
       "<div class=\"col-sm-4 col-lg-4 col-md-4\">\n",
       "<div class=\"thumbnail\">\n",
       "<img alt=\"item\" class=\"img-responsive\" src=\"/images/test-sites/e-commerce/items/cart2.png\"/>\n",
       "<div class=\"caption\">\n",
       "<h4 class=\"pull-right price\">$306.99</h4>\n",
       "<h4>\n",
       "<a class=\"title\" href=\"/test-sites/e-commerce/static/product/517\" title=\"Aspire E1-510\">Aspire E1-510</a>\n",
       "</h4>\n",
       "<p class=\"description\">15.6\", Pentium N3520 2.16GHz, 4GB, 500GB, Linux</p>\n",
       "</div>\n",
       "<div class=\"ratings\">\n",
       "<p class=\"pull-right\">2 reviews</p>\n",
       "<p data-rating=\"3\">\n",
       "<span class=\"glyphicon glyphicon-star\"></span>\n",
       "<span class=\"glyphicon glyphicon-star\"></span>\n",
       "<span class=\"glyphicon glyphicon-star\"></span>\n",
       "</p>\n",
       "</div>\n",
       "</div>\n",
       "</div>\n",
       "<div class=\"col-sm-4 col-lg-4 col-md-4\">\n",
       "<div class=\"thumbnail\">\n",
       "<img alt=\"item\" class=\"img-responsive\" src=\"/images/test-sites/e-commerce/items/cart2.png\"/>\n",
       "<div class=\"caption\">\n",
       "<h4 class=\"pull-right price\">$1178.99</h4>\n",
       "<h4>\n",
       "<a class=\"title\" href=\"/test-sites/e-commerce/static/product/518\" title=\"ThinkPad T540p\">ThinkPad T540p</a>\n",
       "</h4>\n",
       "<p class=\"description\">15.6\", Core i5-4200M, 4GB, 500GB, Win7 Pro 64bit</p>\n",
       "</div>\n",
       "<div class=\"ratings\">\n",
       "<p class=\"pull-right\">2 reviews</p>\n",
       "<p data-rating=\"1\">\n",
       "<span class=\"glyphicon glyphicon-star\"></span>\n",
       "</p>\n",
       "</div>\n",
       "</div>\n",
       "</div>\n",
       "<div class=\"col-sm-4 col-lg-4 col-md-4\">\n",
       "<div class=\"thumbnail\">\n",
       "<img alt=\"item\" class=\"img-responsive\" src=\"/images/test-sites/e-commerce/items/cart2.png\"/>\n",
       "<div class=\"caption\">\n",
       "<h4 class=\"pull-right price\">$739.99</h4>\n",
       "<h4>\n",
       "<a class=\"title\" href=\"/test-sites/e-commerce/static/product/519\" title=\"ProBook\">ProBook</a>\n",
       "</h4>\n",
       "<p class=\"description\">14\", Core i5 2.6GHz, 4GB, 500GB, Win7 Pro 64bit</p>\n",
       "</div>\n",
       "<div class=\"ratings\">\n",
       "<p class=\"pull-right\">8 reviews</p>\n",
       "<p data-rating=\"4\">\n",
       "<span class=\"glyphicon glyphicon-star\"></span>\n",
       "<span class=\"glyphicon glyphicon-star\"></span>\n",
       "<span class=\"glyphicon glyphicon-star\"></span>\n",
       "<span class=\"glyphicon glyphicon-star\"></span>\n",
       "</p>\n",
       "</div>\n",
       "</div>\n",
       "</div>\n",
       "<div class=\"col-sm-4 col-lg-4 col-md-4\">\n",
       "<div class=\"thumbnail\">\n",
       "<img alt=\"item\" class=\"img-responsive\" src=\"/images/test-sites/e-commerce/items/cart2.png\"/>\n",
       "<div class=\"caption\">\n",
       "<h4 class=\"pull-right price\">$1311.99</h4>\n",
       "<h4>\n",
       "<a class=\"title\" href=\"/test-sites/e-commerce/static/product/520\" title=\"ThinkPad X240\">ThinkPad X240</a>\n",
       "</h4>\n",
       "<p class=\"description\">12.5\", Core i5-4300U, 8GB, 240GB SSD, Win7 Pro 64bit</p>\n",
       "</div>\n",
       "<div class=\"ratings\">\n",
       "<p class=\"pull-right\">12 reviews</p>\n",
       "<p data-rating=\"3\">\n",
       "<span class=\"glyphicon glyphicon-star\"></span>\n",
       "<span class=\"glyphicon glyphicon-star\"></span>\n",
       "<span class=\"glyphicon glyphicon-star\"></span>\n",
       "</p>\n",
       "</div>\n",
       "</div>\n",
       "</div>\n",
       "<div class=\"col-sm-4 col-lg-4 col-md-4\">\n",
       "<div class=\"thumbnail\">\n",
       "<img alt=\"item\" class=\"img-responsive\" src=\"/images/test-sites/e-commerce/items/cart2.png\"/>\n",
       "<div class=\"caption\">\n",
       "<h4 class=\"pull-right price\">$581.99</h4>\n",
       "<h4>\n",
       "<a class=\"title\" href=\"/test-sites/e-commerce/static/product/521\" title=\"Aspire E1-572G\">Aspire E1-572G</a>\n",
       "</h4>\n",
       "<p class=\"description\">15.6\", Core i5-4200U, 8GB, 1TB, Radeon R7 M265, Windows 8.1</p>\n",
       "</div>\n",
       "<div class=\"ratings\">\n",
       "<p class=\"pull-right\">2 reviews</p>\n",
       "<p data-rating=\"1\">\n",
       "<span class=\"glyphicon glyphicon-star\"></span>\n",
       "</p>\n",
       "</div>\n",
       "</div>\n",
       "</div>\n",
       "</div>\n",
       "<ul class=\"pagination\" role=\"navigation\">\n",
       "<li aria-disabled=\"true\" aria-label=\"« Previous\" class=\"page-item disabled\">\n",
       "<span aria-hidden=\"true\" class=\"page-link\">‹</span>\n",
       "</li>\n",
       "<li aria-current=\"page\" class=\"page-item active\"><span class=\"page-link\">1</span></li>\n",
       "<li class=\"page-item\"><a class=\"page-link\" href=\"/test-sites/e-commerce/static/computers/laptops?page=2\">2</a></li>\n",
       "<li class=\"page-item\"><a class=\"page-link\" href=\"/test-sites/e-commerce/static/computers/laptops?page=3\">3</a></li>\n",
       "<li class=\"page-item\"><a class=\"page-link\" href=\"/test-sites/e-commerce/static/computers/laptops?page=4\">4</a></li>\n",
       "<li class=\"page-item\"><a class=\"page-link\" href=\"/test-sites/e-commerce/static/computers/laptops?page=5\">5</a></li>\n",
       "<li class=\"page-item\"><a class=\"page-link\" href=\"/test-sites/e-commerce/static/computers/laptops?page=6\">6</a></li>\n",
       "<li class=\"page-item\"><a class=\"page-link\" href=\"/test-sites/e-commerce/static/computers/laptops?page=7\">7</a></li>\n",
       "<li class=\"page-item\"><a class=\"page-link\" href=\"/test-sites/e-commerce/static/computers/laptops?page=8\">8</a></li>\n",
       "<li aria-disabled=\"true\" class=\"page-item disabled\"><span class=\"page-link\">...</span></li>\n",
       "<li class=\"page-item\"><a class=\"page-link\" href=\"/test-sites/e-commerce/static/computers/laptops?page=19\">19</a></li>\n",
       "<li class=\"page-item\"><a class=\"page-link\" href=\"/test-sites/e-commerce/static/computers/laptops?page=20\">20</a></li>\n",
       "<li class=\"page-item\">\n",
       "<a aria-label=\"Next »\" class=\"page-link\" href=\"/test-sites/e-commerce/static/computers/laptops?page=2\" rel=\"next\">›</a>\n",
       "</li>\n",
       "</ul>\n",
       "</div>\n",
       "</div>\n",
       "</div>\n",
       "<div class=\"clearfix\"></div>\n",
       "<div class=\"push\"></div>\n",
       "</div>\n",
       "<div class=\"container-fluid footer\" id=\"layout-footer\">\n",
       "<div class=\"container\">\n",
       "<div class=\"row\">\n",
       "<div class=\"col-md-3\">\n",
       "<ul>\n",
       "<li><p>Products</p></li>\n",
       "<li>\n",
       "<a href=\"/\">Web Scraper browser extension</a>\n",
       "</li>\n",
       "<li>\n",
       "<a href=\"/pricing\">Web Scraper Cloud</a>\n",
       "</li>\n",
       "</ul>\n",
       "</div>\n",
       "<div class=\"col-md-3\">\n",
       "<ul>\n",
       "<li><p>Company</p></li>\n",
       "<li><a href=\"/contact\">Contact</a>\n",
       "</li>\n",
       "<li>\n",
       "<a href=\"/privacy-policy\">Website Privacy Policy</a>\n",
       "</li>\n",
       "<li>\n",
       "<a href=\"/extension-privacy-policy\">Browser Extension Privacy Policy</a>\n",
       "</li>\n",
       "<li>\n",
       "<a href=\"http://webscraperio.us-east-1.elasticbeanstalk.com/downloads/Web_Scraper_Media_Kit.zip\">Media kit</a>\n",
       "</li>\n",
       "<li><a href=\"/jobs\">Jobs</a></li>\n",
       "</ul>\n",
       "</div>\n",
       "<div class=\"col-md-3\">\n",
       "<ul>\n",
       "<li><p>Resources</p></li>\n",
       "<li><a href=\"/blog\">Blog</a></li>\n",
       "<li>\n",
       "<a href=\"/documentation\">Documentation</a>\n",
       "</li>\n",
       "<li>\n",
       "<a href=\"/tutorials\">Video Tutorials</a>\n",
       "</li>\n",
       "<li>\n",
       "<a href=\"/screenshots\">Screenshots</a>\n",
       "</li>\n",
       "<li>\n",
       "<a href=\"/test-sites\">Test Sites</a>\n",
       "</li>\n",
       "<li>\n",
       "<a href=\"https://forum.webscraper.io/\" rel=\"noopener\" target=\"_blank\">Forum</a>\n",
       "</li>\n",
       "</ul>\n",
       "</div>\n",
       "<div class=\"col-md-3\">\n",
       "<ul>\n",
       "<li><p>CONTACT US</p></li>\n",
       "<li>\n",
       "<a href=\"mailto:info@webscraper.io\">info@webscraper.io</a>\n",
       "</li>\n",
       "<li>Rupniecibas iela 30,<br/> Riga, Latvia, LV-1045</li>\n",
       "</ul>\n",
       "<ul class=\"smedia\">\n",
       "<li>\n",
       "<a href=\"https://www.facebook.com/webscraperio/\" rel=\"noopener\" target=\"_blank\"><img alt=\"Web Scraper on Facebook\" src=\"/img/fbicon.png\"/></a>\n",
       "</li>\n",
       "<li>\n",
       "<a href=\"https://twitter.com/webscraperio\" rel=\"noopener\" target=\"_blank\"><img alt=\"Web Scraper on Twitter\" src=\"/img/twicon.png\"/></a>\n",
       "</li>\n",
       "</ul>\n",
       "</div>\n",
       "</div>\n",
       "<div class=\"row\">\n",
       "<div class=\"col-md-12\">\n",
       "<p class=\"copyright\">Copyright © 2021\n",
       "\t\t\t\t\t<a href=\"#\">Web Scraper</a> | All rights\n",
       "\t\t\t\t\treserved | Made by zoom59</p>\n",
       "</div>\n",
       "</div>\n",
       "</div>\n",
       "</div>\n",
       "</body>\n",
       "</html>"
      ]
     },
     "execution_count": 123,
     "metadata": {},
     "output_type": "execute_result"
    }
   ],
   "source": [
    "# There is apackage called BeautifulSoup\n",
    "from bs4 import BeautifulSoup\n",
    "\n",
    "soup = BeautifulSoup(response.text)\n",
    "soup"
   ]
  },
  {
   "cell_type": "code",
   "execution_count": 124,
   "id": "8d8c69f1",
   "metadata": {
    "scrolled": true
   },
   "outputs": [
    {
     "data": {
      "text/plain": [
       "[<div class=\"caption\">\n",
       " <h4 class=\"pull-right price\">$416.99</h4>\n",
       " <h4>\n",
       " <a class=\"title\" href=\"/test-sites/e-commerce/static/product/516\" title=\"Packard 255 G2\">Packard 255 G2</a>\n",
       " </h4>\n",
       " <p class=\"description\">15.6\", AMD E2-3800 1.3GHz, 4GB, 500GB, Windows 8.1</p>\n",
       " </div>,\n",
       " <div class=\"caption\">\n",
       " <h4 class=\"pull-right price\">$306.99</h4>\n",
       " <h4>\n",
       " <a class=\"title\" href=\"/test-sites/e-commerce/static/product/517\" title=\"Aspire E1-510\">Aspire E1-510</a>\n",
       " </h4>\n",
       " <p class=\"description\">15.6\", Pentium N3520 2.16GHz, 4GB, 500GB, Linux</p>\n",
       " </div>,\n",
       " <div class=\"caption\">\n",
       " <h4 class=\"pull-right price\">$1178.99</h4>\n",
       " <h4>\n",
       " <a class=\"title\" href=\"/test-sites/e-commerce/static/product/518\" title=\"ThinkPad T540p\">ThinkPad T540p</a>\n",
       " </h4>\n",
       " <p class=\"description\">15.6\", Core i5-4200M, 4GB, 500GB, Win7 Pro 64bit</p>\n",
       " </div>,\n",
       " <div class=\"caption\">\n",
       " <h4 class=\"pull-right price\">$739.99</h4>\n",
       " <h4>\n",
       " <a class=\"title\" href=\"/test-sites/e-commerce/static/product/519\" title=\"ProBook\">ProBook</a>\n",
       " </h4>\n",
       " <p class=\"description\">14\", Core i5 2.6GHz, 4GB, 500GB, Win7 Pro 64bit</p>\n",
       " </div>,\n",
       " <div class=\"caption\">\n",
       " <h4 class=\"pull-right price\">$1311.99</h4>\n",
       " <h4>\n",
       " <a class=\"title\" href=\"/test-sites/e-commerce/static/product/520\" title=\"ThinkPad X240\">ThinkPad X240</a>\n",
       " </h4>\n",
       " <p class=\"description\">12.5\", Core i5-4300U, 8GB, 240GB SSD, Win7 Pro 64bit</p>\n",
       " </div>,\n",
       " <div class=\"caption\">\n",
       " <h4 class=\"pull-right price\">$581.99</h4>\n",
       " <h4>\n",
       " <a class=\"title\" href=\"/test-sites/e-commerce/static/product/521\" title=\"Aspire E1-572G\">Aspire E1-572G</a>\n",
       " </h4>\n",
       " <p class=\"description\">15.6\", Core i5-4200U, 8GB, 1TB, Radeon R7 M265, Windows 8.1</p>\n",
       " </div>]"
      ]
     },
     "execution_count": 124,
     "metadata": {},
     "output_type": "execute_result"
    }
   ],
   "source": [
    "# Parsing soup\n",
    "soup.select('div.caption') # find all div tags with class value 'caption'"
   ]
  },
  {
   "cell_type": "code",
   "execution_count": 125,
   "id": "0d06031a",
   "metadata": {},
   "outputs": [],
   "source": [
    "el_products = soup.find_all('div', class_='caption')"
   ]
  },
  {
   "cell_type": "code",
   "execution_count": 126,
   "id": "753c47c9",
   "metadata": {},
   "outputs": [
    {
     "data": {
      "text/plain": [
       "bs4.element.ResultSet"
      ]
     },
     "execution_count": 126,
     "metadata": {},
     "output_type": "execute_result"
    }
   ],
   "source": [
    "type(el_products)"
   ]
  },
  {
   "cell_type": "code",
   "execution_count": 127,
   "id": "75831d9b",
   "metadata": {},
   "outputs": [
    {
     "data": {
      "text/plain": [
       "<div class=\"caption\">\n",
       "<h4 class=\"pull-right price\">$416.99</h4>\n",
       "<h4>\n",
       "<a class=\"title\" href=\"/test-sites/e-commerce/static/product/516\" title=\"Packard 255 G2\">Packard 255 G2</a>\n",
       "</h4>\n",
       "<p class=\"description\">15.6\", AMD E2-3800 1.3GHz, 4GB, 500GB, Windows 8.1</p>\n",
       "</div>"
      ]
     },
     "execution_count": 127,
     "metadata": {},
     "output_type": "execute_result"
    }
   ],
   "source": [
    "el_products[0]"
   ]
  },
  {
   "cell_type": "code",
   "execution_count": 128,
   "id": "ed737a24",
   "metadata": {},
   "outputs": [
    {
     "data": {
      "text/plain": [
       "bs4.element.Tag"
      ]
     },
     "execution_count": 128,
     "metadata": {},
     "output_type": "execute_result"
    }
   ],
   "source": [
    "type(el_products[0])"
   ]
  },
  {
   "cell_type": "code",
   "execution_count": 129,
   "id": "4a9f6445",
   "metadata": {},
   "outputs": [
    {
     "data": {
      "text/plain": [
       "[<h4 class=\"pull-right price\">$416.99</h4>,\n",
       " <h4>\n",
       " <a class=\"title\" href=\"/test-sites/e-commerce/static/product/516\" title=\"Packard 255 G2\">Packard 255 G2</a>\n",
       " </h4>]"
      ]
     },
     "execution_count": 129,
     "metadata": {},
     "output_type": "execute_result"
    }
   ],
   "source": [
    "el_products[0].select('h4')"
   ]
  },
  {
   "cell_type": "code",
   "execution_count": 130,
   "id": "b62a9c55",
   "metadata": {},
   "outputs": [
    {
     "data": {
      "text/plain": [
       "<h4 class=\"pull-right price\">$416.99</h4>"
      ]
     },
     "execution_count": 130,
     "metadata": {},
     "output_type": "execute_result"
    }
   ],
   "source": [
    "el_products[0].select('h4')[0]"
   ]
  },
  {
   "cell_type": "code",
   "execution_count": 131,
   "id": "64bc0ed3",
   "metadata": {},
   "outputs": [
    {
     "data": {
      "text/plain": [
       "<h4 class=\"pull-right price\">$416.99</h4>"
      ]
     },
     "execution_count": 131,
     "metadata": {},
     "output_type": "execute_result"
    }
   ],
   "source": [
    "price = el_products[0].select_one('h4.price')\n",
    "price"
   ]
  },
  {
   "cell_type": "code",
   "execution_count": 132,
   "id": "f2b989e4",
   "metadata": {},
   "outputs": [
    {
     "data": {
      "text/plain": [
       "bs4.element.Tag"
      ]
     },
     "execution_count": 132,
     "metadata": {},
     "output_type": "execute_result"
    }
   ],
   "source": [
    "type(price)"
   ]
  },
  {
   "cell_type": "code",
   "execution_count": 133,
   "id": "483f06dc",
   "metadata": {},
   "outputs": [
    {
     "data": {
      "text/plain": [
       "'$416.99'"
      ]
     },
     "execution_count": 133,
     "metadata": {},
     "output_type": "execute_result"
    }
   ],
   "source": [
    "price.text"
   ]
  },
  {
   "cell_type": "code",
   "execution_count": 134,
   "id": "d402f6d0",
   "metadata": {},
   "outputs": [
    {
     "data": {
      "text/plain": [
       "str"
      ]
     },
     "execution_count": 134,
     "metadata": {},
     "output_type": "execute_result"
    }
   ],
   "source": [
    "type(price.text)"
   ]
  },
  {
   "cell_type": "code",
   "execution_count": 135,
   "id": "d16429ac",
   "metadata": {},
   "outputs": [
    {
     "data": {
      "text/plain": [
       "'416.99'"
      ]
     },
     "execution_count": 135,
     "metadata": {},
     "output_type": "execute_result"
    }
   ],
   "source": [
    "price.text.replace('$', '')"
   ]
  },
  {
   "cell_type": "code",
   "execution_count": 136,
   "id": "811f08e9",
   "metadata": {},
   "outputs": [
    {
     "data": {
      "text/plain": [
       "<a class=\"title\" href=\"/test-sites/e-commerce/static/product/516\" title=\"Packard 255 G2\">Packard 255 G2</a>"
      ]
     },
     "execution_count": 136,
     "metadata": {},
     "output_type": "execute_result"
    }
   ],
   "source": [
    "# Lets pull out the title\n",
    "title_el = el_products[0].select_one('a')\n",
    "title_el"
   ]
  },
  {
   "cell_type": "code",
   "execution_count": 137,
   "id": "4913871f",
   "metadata": {},
   "outputs": [
    {
     "data": {
      "text/plain": [
       "'Packard 255 G2'"
      ]
     },
     "execution_count": 137,
     "metadata": {},
     "output_type": "execute_result"
    }
   ],
   "source": [
    "title_el.text # content"
   ]
  },
  {
   "cell_type": "code",
   "execution_count": 138,
   "id": "52d9023e",
   "metadata": {},
   "outputs": [
    {
     "data": {
      "text/plain": [
       "'Packard 255 G2'"
      ]
     },
     "execution_count": 138,
     "metadata": {},
     "output_type": "execute_result"
    }
   ],
   "source": [
    "title_el['title'] # value of title of the title attribute"
   ]
  },
  {
   "cell_type": "code",
   "execution_count": 139,
   "id": "683437a4",
   "metadata": {},
   "outputs": [
    {
     "data": {
      "text/plain": [
       "'15.6\", AMD E2-3800 1.3GHz, 4GB, 500GB, Windows 8.1'"
      ]
     },
     "execution_count": 139,
     "metadata": {},
     "output_type": "execute_result"
    }
   ],
   "source": [
    "# Pulling out description\n",
    "el_products[0].select_one('p').text"
   ]
  },
  {
   "cell_type": "code",
   "execution_count": 140,
   "id": "1e59a4b8",
   "metadata": {},
   "outputs": [],
   "source": [
    "# Lets use the dictionary to store the data/information we scrapped\n",
    "# Lets use functions to encapsulate our work\n",
    "\n",
    "def pull_info(product_el):\n",
    "    \"\"\"Return a dctionary of title, description, and price contained in HTML element.\"\"\"\n",
    "    title = product_el.select_one('a').text\n",
    "    description = product_el.select_one('p').text\n",
    "    price = product_el.select_one('h4.price').text.replace('$', '')\n",
    "    \n",
    "    return {\n",
    "        'title' : title,\n",
    "        'price' : price,\n",
    "        'description' : description\n",
    "    }"
   ]
  },
  {
   "cell_type": "code",
   "execution_count": 141,
   "id": "ccc8fb68",
   "metadata": {},
   "outputs": [
    {
     "data": {
      "text/plain": [
       "{'title': 'ThinkPad X240',\n",
       " 'price': '1311.99',\n",
       " 'description': '12.5\", Core i5-4300U, 8GB, 240GB SSD, Win7 Pro 64bit'}"
      ]
     },
     "execution_count": 141,
     "metadata": {},
     "output_type": "execute_result"
    }
   ],
   "source": [
    "pull_info(el_products[4])"
   ]
  },
  {
   "cell_type": "code",
   "execution_count": 142,
   "id": "5e6ad059",
   "metadata": {},
   "outputs": [
    {
     "data": {
      "text/plain": [
       "[{'title': 'Packard 255 G2',\n",
       "  'price': '416.99',\n",
       "  'description': '15.6\", AMD E2-3800 1.3GHz, 4GB, 500GB, Windows 8.1'},\n",
       " {'title': 'Aspire E1-510',\n",
       "  'price': '306.99',\n",
       "  'description': '15.6\", Pentium N3520 2.16GHz, 4GB, 500GB, Linux'},\n",
       " {'title': 'ThinkPad T540p',\n",
       "  'price': '1178.99',\n",
       "  'description': '15.6\", Core i5-4200M, 4GB, 500GB, Win7 Pro 64bit'},\n",
       " {'title': 'ProBook',\n",
       "  'price': '739.99',\n",
       "  'description': '14\", Core i5 2.6GHz, 4GB, 500GB, Win7 Pro 64bit'},\n",
       " {'title': 'ThinkPad X240',\n",
       "  'price': '1311.99',\n",
       "  'description': '12.5\", Core i5-4300U, 8GB, 240GB SSD, Win7 Pro 64bit'},\n",
       " {'title': 'Aspire E1-572G',\n",
       "  'price': '581.99',\n",
       "  'description': '15.6\", Core i5-4200U, 8GB, 1TB, Radeon R7 M265, Windows 8.1'}]"
      ]
     },
     "execution_count": 142,
     "metadata": {},
     "output_type": "execute_result"
    }
   ],
   "source": [
    "[pull_info(el) for el in el_products]"
   ]
  },
  {
   "cell_type": "code",
   "execution_count": 178,
   "id": "a3714d01",
   "metadata": {},
   "outputs": [],
   "source": [
    "# Lets encapsulate the whole process of getting list, right from getting the URL\n",
    "\n",
    "def get_response(url, page):\n",
    "    params = {'page' : page}\n",
    "    return requests.get(url, params=params)\n",
    "\n",
    "def create_soup(url, page):\n",
    "    response = get_response(url, page)\n",
    "    return BeautifulSoup(response.text)\n",
    "\n",
    "def create_list(url, page):\n",
    "    soup = create_soup(url, page)\n",
    "    \n",
    "    el_products = soup.select('div.caption')\n",
    "    prod_list = []\n",
    "        \n",
    "    return [{\n",
    "        'title': el.select_one('a').text,\n",
    "        'description' : el.select_one('p').text,\n",
    "        'price' : el.select_one('h4.price').text.replace('$', '')\n",
    "    } for el in el_products ]\n",
    "\n",
    "def scrape_page(url, page):\n",
    "    prods_details = create_list(url, page)\n",
    "    return prods_details\n",
    "\n",
    "def scrape_all(base_url, page_limit=5):\n",
    "    products = [prod for page in range(1, page_limit+1) for prod in scrape_page(base_url, page)]\n",
    "    print(f'Total Products are {len(products)} in number.')\n",
    "    return products\n",
    "    \n",
    "def dump_data(data):\n",
    "    with open('output.json', 'w') as f:\n",
    "        json.dump(data, f, indent=2)"
   ]
  },
  {
   "cell_type": "code",
   "execution_count": 181,
   "id": "68d90f60",
   "metadata": {},
   "outputs": [
    {
     "name": "stdout",
     "output_type": "stream",
     "text": [
      "Total Products are 117 in number.\n"
     ]
    }
   ],
   "source": [
    "url = 'https://webscraper.io/test-sites/e-commerce/static/computers/laptops'\n",
    "page_limit = 20\n",
    "data = scrape_all(url, page_limit)"
   ]
  },
  {
   "cell_type": "code",
   "execution_count": 182,
   "id": "dda78288",
   "metadata": {},
   "outputs": [],
   "source": [
    "dump_data(data)"
   ]
  }
 ],
 "metadata": {
  "kernelspec": {
   "display_name": "Python 3.8.5 64-bit ('base': conda)",
   "language": "python",
   "name": "python385jvsc74a57bd0a6570200391abd47b22bafa3ab36aba8327b6bca09374d4d4cb5f21cfca217ce"
  },
  "language_info": {
   "codemirror_mode": {
    "name": "ipython",
    "version": 3
   },
   "file_extension": ".py",
   "mimetype": "text/x-python",
   "name": "python",
   "nbconvert_exporter": "python",
   "pygments_lexer": "ipython3",
   "version": "3.8.5"
  }
 },
 "nbformat": 4,
 "nbformat_minor": 5
}
