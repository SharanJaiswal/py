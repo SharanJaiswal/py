{
 "cells": [
  {
   "cell_type": "markdown",
   "id": "4cbf40dd",
   "metadata": {},
   "source": [
    "# Iterables V/s Iterators\n",
    "An iterable is an object that contains a countable number of values, It can be iterated upon, meaning that you can traverse through all the values. Such objects basically implemets \\_\\_iter()\\_\\_ method. Since we can iterate through list hence LIST is iterable. All the items of iterables are allocated in the memory locations. Lists, tuples, dictionaries, sets, ans strings are all iterable objects. They are iterable containers which you can get an iterator from. All these objects have a iter() method which is used to get an iterator.\n",
    "\n",
    "\n",
    "Iterator can implement \\_\\_iter\\_\\_() or iter(), and \\_\\_next\\_\\_() or next()"
   ]
  },
  {
   "cell_type": "code",
   "execution_count": null,
   "id": "6c0c392c",
   "metadata": {
    "scrolled": true
   },
   "outputs": [],
   "source": [
    "lst=[1,2,3,4,5,6,7,8,9,0]\n",
    "for i in lst:\n",
    "    print(i)"
   ]
  },
  {
   "cell_type": "markdown",
   "id": "c8a786cf",
   "metadata": {},
   "source": [
    "# iter(<collection>) will convert iterables into iterator\n",
    "    \n",
    "### Properties of ITERATOR:\n",
    "    0. It is used when we are required to take consideration of space complexity. Because all the elements of the iterators will not get initialized at once. If we are required to get elements one by one, then we use iterator, and hence with the help of next() function we access the element one by one.\n",
    "    1. Unlike iterables, where all the values of it are initialized in the memory when it is created, iterators are not initialized in the memory when they are created.\n",
    "    2. When the in-built next(iterator) function is called, then only first value of the iterator is initialized in the memory.\n",
    "    3. When the elements are exhausted from the iterartors, next() function will throw an error.\n",
    "    4. To start from first element again, again make a iterator variable and then use next() function.\n",
    "    5. Remember that iterator object gets generated once calling iter(). So, everything needs to be done there only. next() is just for calling item one by one of iterator object."
   ]
  },
  {
   "cell_type": "code",
   "execution_count": null,
   "id": "524265d4",
   "metadata": {},
   "outputs": [],
   "source": [
    "lst=[1,2,3,4,5,6,7,8,9,0]\n",
    "print(iter(lst))\n",
    "lst1 = iter(lst)\n",
    "lst += [23,24,25,26,27,28,29]\n",
    "next(lst1)"
   ]
  },
  {
   "cell_type": "code",
   "execution_count": null,
   "id": "6e1fc723",
   "metadata": {},
   "outputs": [],
   "source": [
    "next(lst1)"
   ]
  },
  {
   "cell_type": "code",
   "execution_count": null,
   "id": "ed80bc35",
   "metadata": {},
   "outputs": [],
   "source": [
    "next(lst1)  # Whe there is nothing to return from the iterator object, an exception of type StopIteration Exception is raised"
   ]
  },
  {
   "cell_type": "raw",
   "id": "05045858",
   "metadata": {},
   "source": [
    "Another way of accessing the iterator elements is by using a loop statement, e.g. for loop.\n",
    "In for loop, StopIteration Exception is implicitly handeled. That is why, it is not throwing an error."
   ]
  },
  {
   "cell_type": "code",
   "execution_count": null,
   "id": "65648a31",
   "metadata": {},
   "outputs": [],
   "source": [
    "lst=[1,2,3,4,5,6,7,8,9,0]\n",
    "lst1 = iter(lst)\n",
    "\n",
    "for i in lst1:\n",
    "    print(i)"
   ]
  },
  {
   "cell_type": "code",
   "execution_count": null,
   "id": "6d3e3d64",
   "metadata": {},
   "outputs": [],
   "source": [
    "class MyNumbers:\n",
    "  def __iter__(self):\n",
    "    self.a = 1\n",
    "    return self\n",
    "\n",
    "  def __next__(self):   # this will give output as many time as we want, whenever next() will be called\n",
    "    x = self.a\n",
    "    self.a += 1\n",
    "    return x\n",
    "\n",
    "myclass = MyNumbers()\n",
    "myiter = iter(myclass)\n",
    "\n",
    "print(next(myiter))\n",
    "print(next(myiter))\n",
    "print(next(myiter))\n",
    "print(next(myiter))\n",
    "print(next(myiter))"
   ]
  },
  {
   "cell_type": "code",
   "execution_count": null,
   "id": "0d039c6e",
   "metadata": {},
   "outputs": [],
   "source": [
    "class DoubleIt:\n",
    "    def __init__(self):\n",
    "        self.start = 1\n",
    "\n",
    "    def __iter__(self):\n",
    "        return self\n",
    "\n",
    "    def __next__(self): # just for the sentinel part, we can name this method as __call__ because we are not using __next__ in sentinel part. \n",
    "                        # But due to second part, its here\n",
    "        self.start *= 2\n",
    "        return self.start\n",
    "\n",
    "    __call__ = __next__ # Here we make the object callable, if we are providing the sentinel, beacuse sentinel requires the callable object.\n",
    "\n",
    "# If sentinel is given then the first parameter should be callable. If the the first object is not callable, then we make it callable.\n",
    "# A callable object is called until sentinel is reached.\n",
    "# If sentinel is reached then the StopIteration is raised. Sentinal is not sent back.\n",
    "my_iter = iter(DoubleIt(), 16)\n",
    "for x in my_iter:\n",
    "    print(x)\n",
    "\n",
    "print('*'*10)\n",
    "\n",
    "obj = DoubleIt()\n",
    "print(next(obj))\n",
    "print(next(obj))\n",
    "print(next(obj))\n",
    "print(next(obj))\n",
    "print(next(obj))\n",
    "print(next(obj))\n",
    "# and so on..."
   ]
  },
  {
   "cell_type": "code",
   "execution_count": null,
   "id": "0bb8173c",
   "metadata": {},
   "outputs": [],
   "source": [
    "class MyNumbers:\n",
    "  def __iter__(self):\n",
    "    self.a = 1\n",
    "    return self\n",
    "\n",
    "  def __next__(self):\n",
    "    if self.a <= 5:\n",
    "      x = self.a\n",
    "      self.a += 1\n",
    "      return x\n",
    "    else:\n",
    "      raise StopIteration \n",
    "      return  # prints None in exception handling\n",
    "# StopIteration shall only be used when using __iter__() and hence __next__. Also. using raising StopIteration exception is no longer used.\n",
    "# Simply return None in else part, and in the last, remove the try-expect block. Just put print(next(myiter))\n",
    "# The iterator/generator object will implicitly take care of StopIteration w/o its mention\n",
    "\n",
    "myclass = MyNumbers()\n",
    "myiter = iter(myclass)\n",
    "\n",
    "# for x in myiter:\n",
    "#   print(x)\n",
    "print(next(myiter))\n",
    "print(next(myiter))\n",
    "print(next(myiter))\n",
    "print(next(myiter))\n",
    "print(next(myiter))\n",
    "try:\n",
    "  print(next(myiter))\n",
    "except Exception as ex:\n",
    "  print(type(ex).__name__)"
   ]
  },
  {
   "cell_type": "markdown",
   "id": "598a60a4",
   "metadata": {},
   "source": [
    "# GENERATORS\n",
    "They are created because they are used to create disguised iterators itself. Basically, we perform the working of iterator, but with the generator technique. At the end, not iterator,but generator is created.\n",
    "1. To create iteration, we use **iter()** keyword.\n",
    "2. To create generator, we use **yield** keyword, along with function where yield will be in place of **return**.\n",
    "3. **yield** saves the local variable value. It also returns the local variable value.\n",
    "4. Once iterator/generator is created, we use **next()** to access the value.\n",
    "5. They helps to write fast and compact code.\n",
    "6. Performance of generators are better than iterators.\n",
    "7. Iterators are much more memory efficient.\n",
    "8. Generators are derived from iterator class itself.\n",
    "9. Unlike iterators, generators dont give an generator object that that contains all the answer output at once. Instead, they generate each value at a time when calling next().\n",
    "10. Hence, for loop can't be run over them, because there is no whole collection of output in the created generator object.\n",
    "11. Generators are always made up by defining a function. Calling that function return a generator(iterator in disguise) object, and iterator being a pointer, catches values that are generated by generator.\n",
    "12. yield pause the generator function, while return keyword removes the function from the call stack."
   ]
  },
  {
   "cell_type": "code",
   "execution_count": null,
   "id": "b57fc538",
   "metadata": {},
   "outputs": [],
   "source": [
    "def square(n):\n",
    "    for i in range(n):\n",
    "        yield i**2"
   ]
  },
  {
   "cell_type": "code",
   "execution_count": null,
   "id": "56eda29c",
   "metadata": {},
   "outputs": [],
   "source": [
    "print(square(3))\n",
    "print(list(square(3)))"
   ]
  },
  {
   "cell_type": "code",
   "execution_count": null,
   "id": "6a3022c2",
   "metadata": {},
   "outputs": [],
   "source": [
    "for i in square(3):\n",
    "    print(i)"
   ]
  },
  {
   "cell_type": "code",
   "execution_count": null,
   "id": "309de8ea",
   "metadata": {},
   "outputs": [],
   "source": [
    "a=square(3)\n",
    "\n",
    "while True:\n",
    "    try:\n",
    "        print(next(a))\n",
    "    except StopIteration:\n",
    "        print(\"Itne mei itna hi milega\")\n",
    "        break"
   ]
  },
  {
   "cell_type": "code",
   "execution_count": null,
   "id": "e8b67284",
   "metadata": {},
   "outputs": [],
   "source": [
    "def even_gen():\n",
    "    n=0\n",
    "    \n",
    "    n+=2\n",
    "    yield n\n",
    "    \n",
    "    n+=2\n",
    "    yield n\n",
    "    \n",
    "    n+=2\n",
    "    yield n\n",
    "    \n",
    "num = even_gen()\n",
    "print(num)\n",
    "print(next(num))\n",
    "print(next(num))\n",
    "print(next(num))\n",
    "print(next(num))"
   ]
  },
  {
   "cell_type": "code",
   "execution_count": null,
   "id": "9b59375f",
   "metadata": {},
   "outputs": [],
   "source": [
    "def fibo():\n",
    "    n1=0\n",
    "    n2=1\n",
    "    while True:\n",
    "        yield n1\n",
    "        n1,n2=n2,n1+n2\n",
    "        \n",
    "seq=fibo()\n",
    "\n",
    "print(next(seq))\n",
    "print(next(seq))\n",
    "print(next(seq))\n",
    "print(next(seq))\n",
    "print(next(seq))\n",
    "print(next(seq))\n",
    "print(next(seq))\n",
    "# as many number of times because we are using generators, \n",
    "# and the StopIteration exception is not present hee like in iterators, if generators are handled wisely and smartly\n",
    "# StopIteration is raised inside of next(). StopIteration is raised because there is no return value (Or, return None) from the generator function"
   ]
  },
  {
   "cell_type": "code",
   "execution_count": null,
   "id": "f1cbfd50",
   "metadata": {},
   "outputs": [],
   "source": [
    "def fibo():\n",
    "    n1=0\n",
    "    n2=1\n",
    "    while True:\n",
    "        if n1 == 8:\n",
    "            # raise StopIteration   # It is depriciated\n",
    "            break\n",
    "        else:\n",
    "            yield n1\n",
    "            n1,n2=n2,n1+n2\n",
    "        \n",
    "seq=fibo()\n",
    "\n",
    "# for ele in seq:\n",
    "#     print(ele)  # dont use print(next(seq)) because for loop already calls next on the iterator (which it creates from the generator automatically)\n",
    "\n",
    "while True:\n",
    "    try:\n",
    "        print(next(seq))\n",
    "    except Exception as e:  # We could also erite except StopIteration:\n",
    "        print(type(e).__name__)\n",
    "        print('This exception is raised in the generator operation defining function. Hence it is handled here.')\n",
    "        break"
   ]
  },
  {
   "cell_type": "code",
   "execution_count": null,
   "id": "79c94d14",
   "metadata": {},
   "outputs": [],
   "source": [
    "# making list an generator object\n",
    "lst = [1, 2, 3, 4, 5, 6, 7, 8]\n",
    "\n",
    "def gen(lst):\n",
    "    for ele in lst:\n",
    "        yield(ele)\n",
    "\n",
    "gen_ele = gen(lst)\n",
    "\n",
    "del lst # we deleted even the original list from its existence scope. Still next() works\n",
    "\n",
    "print(next(gen_ele))\n",
    "print(next(gen_ele))\n",
    "print(next(gen_ele))\n",
    "print(next(gen_ele))\n",
    "print(next(gen_ele))\n",
    "print(next(gen_ele))\n",
    "print(next(gen_ele))\n",
    "print(next(gen_ele))\n",
    "print(next(gen_ele))"
   ]
  },
  {
   "cell_type": "code",
   "execution_count": null,
   "id": "69f9d351",
   "metadata": {},
   "outputs": [],
   "source": [
    "def my_range(start, stop, step):\n",
    "    while start < stop:\n",
    "        yield start\n",
    "        start += step\n",
    "\n",
    "for i in my_range(1, 10, 2):\n",
    "    print(i)"
   ]
  },
  {
   "cell_type": "code",
   "execution_count": null,
   "id": "5a457f63",
   "metadata": {},
   "outputs": [],
   "source": [
    "def fib():\n",
    "    a,b = 0,1\n",
    "    while True:\n",
    "        yield a\n",
    "        a,b = b, a+b\n",
    "\n",
    "for f in fib():\n",
    "    if f > 5:\n",
    "        break\n",
    "    print(f)\n",
    "\n",
    "print(f)\n",
    "print(f)\n",
    "print(f)\n",
    "# print(list(fib()))    # Just dont run these kind of iterator/generator functions which doesn't have terminating condition."
   ]
  },
  {
   "cell_type": "code",
   "execution_count": null,
   "id": "118d0581",
   "metadata": {},
   "outputs": [],
   "source": [
    "(i**2 for i in range (10))  # this gives generator object"
   ]
  },
  {
   "cell_type": "code",
   "execution_count": null,
   "id": "e21db0da",
   "metadata": {},
   "outputs": [],
   "source": [
    "import types, collections\n",
    "\n",
    "issubclass(types.GeneratorType, collections.Iterator)"
   ]
  }
 ],
 "metadata": {
  "interpreter": {
   "hash": "a6570200391abd47b22bafa3ab36aba8327b6bca09374d4d4cb5f21cfca217ce"
  },
  "kernelspec": {
   "display_name": "Python 3 (ipykernel)",
   "language": "python",
   "name": "python3"
  },
  "language_info": {
   "codemirror_mode": {
    "name": "ipython",
    "version": 3
   },
   "file_extension": ".py",
   "mimetype": "text/x-python",
   "name": "python",
   "nbconvert_exporter": "python",
   "pygments_lexer": "ipython3",
   "version": "3.9.5"
  },
  "metadata": {
   "interpreter": {
    "hash": "a6570200391abd47b22bafa3ab36aba8327b6bca09374d4d4cb5f21cfca217ce"
   }
  }
 },
 "nbformat": 4,
 "nbformat_minor": 5
}
