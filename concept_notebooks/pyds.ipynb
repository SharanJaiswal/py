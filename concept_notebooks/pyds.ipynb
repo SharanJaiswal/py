{
 "cells": [
  {
   "cell_type": "markdown",
   "metadata": {},
   "source": [
    "'>>>' in python terminal is called 'Chevron Prompt'\n",
    "\n",
    "docstrings should be the first line in the function, class modules, so on....., and has to be multi-line comments only. Not regular comments.\n",
    "\n",
    "print(pythonobject.\\_\\_doc\\_\\_)"
   ]
  },
  {
   "cell_type": "code",
   "execution_count": 1,
   "metadata": {},
   "outputs": [
    {
     "name": "stdout",
     "output_type": "stream",
     "text": [
      "<class 'int'>\n",
      "<class 'str'>\n"
     ]
    }
   ],
   "source": [
    "x = 5\n",
    "y = \"John\"\n",
    "print(type(x))\n",
    "print(type(y))"
   ]
  },
  {
   "cell_type": "code",
   "execution_count": 2,
   "metadata": {},
   "outputs": [
    {
     "name": "stdout",
     "output_type": "stream",
     "text": [
      "Orange\n",
      "Banana\n",
      "Cherry\n"
     ]
    }
   ],
   "source": [
    "x,y,z=\"Orange\", \"Banana\", \"Cherry\"\n",
    "print(x)\n",
    "print(y)\n",
    "print(z)"
   ]
  },
  {
   "cell_type": "code",
   "execution_count": 3,
   "metadata": {},
   "outputs": [
    {
     "name": "stdout",
     "output_type": "stream",
     "text": [
      "Orange\n",
      "Orange\n",
      "Orange\n"
     ]
    }
   ],
   "source": [
    "x=y=z=\"Orange\"\n",
    "print(x)\n",
    "print(y)\n",
    "print(z)"
   ]
  },
  {
   "cell_type": "code",
   "execution_count": 1,
   "metadata": {},
   "outputs": [
    {
     "name": "stdout",
     "output_type": "stream",
     "text": [
      "apple\n",
      "banana\n",
      "guava\n"
     ]
    }
   ],
   "source": [
    "fruits = [\"apple\", \"banana\", \"guava\"]\n",
    "x,y,z=fruits\n",
    "print(x)\n",
    "print(y)\n",
    "print(z)"
   ]
  },
  {
   "cell_type": "code",
   "execution_count": 5,
   "metadata": {},
   "outputs": [
    {
     "ename": "SyntaxError",
     "evalue": "starred assignment target must be in a list or tuple (<ipython-input-5-d6da25905974>, line 3)",
     "output_type": "error",
     "traceback": [
      "\u001b[0;36m  File \u001b[0;32m\"<ipython-input-5-d6da25905974>\"\u001b[0;36m, line \u001b[0;32m3\u001b[0m\n\u001b[0;31m    *x = 5,4,8,9,6,3,2,1,5,4,7\u001b[0m\n\u001b[0m    ^\u001b[0m\n\u001b[0;31mSyntaxError\u001b[0m\u001b[0;31m:\u001b[0m starred assignment target must be in a list or tuple\n"
     ]
    }
   ],
   "source": [
    "#LHS should always be a list or tuple\n",
    "\n",
    "*x = 5,4,8,9,6,3,2,1,5,4,7\n",
    "print(x)"
   ]
  },
  {
   "cell_type": "code",
   "execution_count": 16,
   "metadata": {},
   "outputs": [
    {
     "name": "stdout",
     "output_type": "stream",
     "text": [
      "[5, 4, 8, 9, 6, 3, 2, 1, 5, 4, 7]\n",
      "(5, 4, 8, 9, 6, 3, 2, 1, 5, 4, 7)\n"
     ]
    }
   ],
   "source": [
    "y=[*x] = 5,4,8,9,6,3,2,1,5,4,7\n",
    "print(x)  # list\n",
    "print(y)  # tuple"
   ]
  },
  {
   "cell_type": "code",
   "execution_count": 6,
   "metadata": {},
   "outputs": [
    {
     "name": "stdout",
     "output_type": "stream",
     "text": [
      "['apple', 'banana']\n",
      "guava\n"
     ]
    }
   ],
   "source": [
    "fruits = [\"apple\", \"banana\", \"guava\"]\n",
    "*x,y=fruits\n",
    "print(x)    # whether its List or Tuple, *x will always be list natively\n",
    "print(y)"
   ]
  },
  {
   "cell_type": "code",
   "execution_count": 7,
   "metadata": {},
   "outputs": [
    {
     "name": "stdout",
     "output_type": "stream",
     "text": [
      "Saint jaiswaaaaaal\n",
      "Sharan jaiswaaaaaal\n",
      "A boy\n"
     ]
    }
   ],
   "source": [
    "x=\"Sharan \"\n",
    "y=\"Jaiswal\"\n",
    "\n",
    "def myFunc():\n",
    "    x=\"Saint \"  # this local var will override the global var with the same name.\n",
    "    global z    # For making the scope global, firstly declare the object as global. Then define it.\n",
    "    z=\"A boy\"\n",
    "    global y\n",
    "    y=\"jaiswaaaaaal\"    # Not overriding the global var 'y' with local var 'y'. Instead we are accessing that global variable itself and changing its value.\n",
    "    print(x+y)  #also, if accessing of global var is used for changing its value, then within that scope, it cant be used unless it is changed.\n",
    "\n",
    "myFunc()\n",
    "\n",
    "print(x+y)\n",
    "print(z)"
   ]
  },
  {
   "cell_type": "markdown",
   "metadata": {},
   "source": [
    "<code>type(var)</code> : <code><class 'type'></code>\n",
    "\n",
    "Text Type: \tstr\n",
    "\n",
    "Numeric Types: \tint, float, complex\n",
    "\n",
    "Sequence Types: \tlist, tuple, range\n",
    "\n",
    "Mapping Type: \tdict\n",
    "\n",
    "Set Types: \tset, frozenset\n",
    "\n",
    "Boolean Type: \tbool\n",
    "\n",
    "Binary Types: \tbytes, bytearray, memoryview"
   ]
  },
  {
   "cell_type": "code",
   "execution_count": 8,
   "metadata": {},
   "outputs": [
    {
     "name": "stdout",
     "output_type": "stream",
     "text": [
      "True\n",
      "True\n",
      "True\n"
     ]
    }
   ],
   "source": [
    "x = 2\n",
    "print(isinstance(x, int))\n",
    "\n",
    "# If the type parameter is in tuple (any other iterable is not allowed), this function will return True if the object is one of the types in the tuple.\n",
    "x = isinstance(\"Hello\", (float, int, str, list, dict, tuple))\n",
    "print(x)\n",
    "\n",
    "\n",
    "class myObj:\n",
    "  name = \"John\"\n",
    "y = myObj()\n",
    "x = isinstance(y, myObj)\n",
    "print(x)"
   ]
  },
  {
   "cell_type": "code",
   "execution_count": 47,
   "metadata": {},
   "outputs": [
    {
     "name": "stdout",
     "output_type": "stream",
     "text": [
      "8\n"
     ]
    }
   ],
   "source": [
    "import random\n",
    "print(random.randrange(1, 10))"
   ]
  },
  {
   "cell_type": "code",
   "execution_count": 10,
   "metadata": {},
   "outputs": [
    {
     "name": "stdout",
     "output_type": "stream",
     "text": [
      "True\n",
      "Yes, 'free' is present.\n",
      "Yes, 'expensive' is NOT present.\n"
     ]
    }
   ],
   "source": [
    "txt = \"The best things in life are free!\"\n",
    "print(\"free\" in txt)\n",
    "if \"free\" in txt:\n",
    "  print(\"Yes, 'free' is present.\")\n",
    "if \"expensive\" not in txt:\n",
    "  print(\"Yes, 'expensive' is NOT present.\")"
   ]
  },
  {
   "cell_type": "code",
   "execution_count": 11,
   "metadata": {},
   "outputs": [
    {
     "name": "stdout",
     "output_type": "stream",
     "text": [
      "a is greater than b\n",
      "B\n",
      "=\n"
     ]
    }
   ],
   "source": [
    "a = 2\n",
    "b = 330\n",
    "\n",
    "if a < b: print(\"a is greater than b\")\n",
    "    \n",
    "print(\"A\") if a > b else print(\"B\")\n",
    "\n",
    "a = 330\n",
    "b = 330\n",
    "print(\"A\") if a > b else print(\"=\") if a == b else print(\"B\") "
   ]
  },
  {
   "cell_type": "code",
   "execution_count": 12,
   "metadata": {
    "scrolled": false
   },
   "outputs": [
    {
     "name": "stdout",
     "output_type": "stream",
     "text": [
      "0\n",
      "1\n",
      "2\n",
      "3\n",
      "4\n",
      "5\n",
      "Finally finished!\n"
     ]
    }
   ],
   "source": [
    "for x in range(6):\n",
    "  print(x)\n",
    " # if x == 5:\n",
    " # \tbreak\n",
    "  continue\n",
    "else:\n",
    "  print(\"Finally finished!\")\n",
    "# The else keyword in a for loop specifies a block of code to be executed when the loop is finished. The else block will NOT be executed if the loop is stopped by a break statement.\n",
    "# else can be used in while loops also\n",
    "# for loops cannot be empty, but if you for some reason have a for loop with no content, put in the pass statement to avoid getting an error.\n",
    "\n",
    "for x in [0, 1, 2]:\n",
    "  pass \n",
    "\n",
    "# iteration variable can be more than 1 on for loop, generally used to iterate dict.items()"
   ]
  },
  {
   "cell_type": "markdown",
   "metadata": {},
   "source": [
    "# Functions"
   ]
  },
  {
   "cell_type": "code",
   "execution_count": 17,
   "metadata": {},
   "outputs": [
    {
     "name": "stdout",
     "output_type": "stream",
     "text": [
      "<class 'list'>\n",
      "<class 'tuple'>\n"
     ]
    }
   ],
   "source": [
    "def func(x):\n",
    "    print(type(x))    # normal user defined function sends collection as a whole to the function\n",
    "ages = [5, 12, 17, 18, 24, 32]\n",
    "func(ages)\n",
    "ages = (5, 12, 17, 18, 24, 32)\n",
    "func(ages)"
   ]
  },
  {
   "cell_type": "code",
   "execution_count": 50,
   "metadata": {},
   "outputs": [
    {
     "name": "stdout",
     "output_type": "stream",
     "text": [
      "The youngest child is Linus\n",
      "Emil\n",
      "Tobias\n",
      "Linus\n",
      "<class 'tuple'>\n",
      "The youngest child is Tobias\n",
      "The youngest child is Adam\n",
      "His last name is Refsnes\n",
      "<class 'dict'>\n",
      "('Sharan', 'Jaiswal')\n",
      "{'age': 26, 'dob': 1999}\n",
      "(['Sharan', 'Jaiswal'], {'age': 26, 'dob': 1999})\n",
      "{}\n",
      "('Sharan', 'Jaiswal')\n",
      "{'age': 26, 'dob': 1999}\n"
     ]
    }
   ],
   "source": [
    "def my_function(*kids):  # Arbitrary Arguments, *args . add a * before the parameter name in the function definition. This way the function will receive a tuple of arguments, and can access the items accordingly\n",
    "  print(\"The youngest child is \" + kids[2])\n",
    "  for name in kids:\n",
    "    print(name)\n",
    "  print(type(kids))\n",
    "\n",
    "#my_function[\"Emil\", \"Tobias\", \"Linus\"] it wont work\n",
    "#my_function([\"Emil\", \"Tobias\", \"Linus\"]) neither this will work\n",
    "my_function(\"Emil\", \"Tobias\", \"Linus\")\n",
    "\n",
    "#####################################################\n",
    "\n",
    "def my_function(child3, child2, child1, child4 = \"Adam\"):  # Keyword Arguments *kwargs . with known number of keyword arguments\n",
    "    print(\"The youngest child is \" + child3)\n",
    "    print(\"The youngest child is \" + child4)   # default value can also be defined for an argument along with this method\n",
    "\n",
    "my_function(child2 = \"Emil\", child3 = \"Tobias\", child1 = \"Linus\")\n",
    "\n",
    "#####################################################\n",
    "\n",
    "def my_function(**kid):  # Arbritary Keyword Arguments **kwargs . with unknown number of keyword arguments\n",
    "  print(\"His last name is \" + kid[\"lname\"])\n",
    "  print(type(kid))\n",
    "\n",
    "my_function(fname = \"Tobias\", lname = \"Refsnes\") \n",
    "\n",
    "#####################################################\n",
    "\n",
    "def hello(*args, **kwargs):\n",
    "    print(args)\n",
    "    print(kwargs)\n",
    "\n",
    "# hello(\"Sharan\", age = 24, \"Jaiswal\", dob = 1999) # It wont run. So order of type of parameters must be followed\n",
    "hello(\"Sharan\", \"Jaiswal\", age = 26, dob = 1999)\n",
    "\n",
    "lst=[\"Sharan\", \"Jaiswal\"]\n",
    "dict_args = {'age': 26, 'dob':1999}\n",
    "hello(lst, dict_args)    # this will transfer arguments as positional/arbritary args, and kwargs will get nothing\n",
    "#rectified:\n",
    "hello(*lst, **dict_args)\n",
    "# hello(**dict_args, *lst) # Error. Even now also, arguments order cant be changed wrt parameters"
   ]
  },
  {
   "cell_type": "code",
   "execution_count": 15,
   "metadata": {
    "scrolled": true
   },
   "outputs": [
    {
     "name": "stdout",
     "output_type": "stream",
     "text": [
      "I am from India\n",
      "I am from Norway\n",
      "apple\n",
      "banana\n",
      "cherry\n",
      "<class 'list'>\n",
      "0\n",
      "1\n",
      "3\n",
      "6\n"
     ]
    },
    {
     "data": {
      "text/plain": [
       "6"
      ]
     },
     "execution_count": 15,
     "metadata": {},
     "output_type": "execute_result"
    }
   ],
   "source": [
    "def my_function(country = \"Norway\"):\n",
    "  print(\"I am from \" + country)\n",
    "\n",
    "my_function(\"India\")\n",
    "my_function()\n",
    "\n",
    "#####################################################\n",
    "\n",
    "def my_function(food):  # Passing a list as an arguments\n",
    "  for x in food:\n",
    "    print(x)\n",
    "  print(type(food))\n",
    "\n",
    "fruits = [\"apple\", \"banana\", \"cherry\"]\n",
    "\n",
    "my_function(fruits)\n",
    "\n",
    "#####################################################\n",
    "\n",
    "def myfunction():  # when no function definition is present\n",
    "  pass\n",
    "\n",
    "#####################################################\n",
    "\n",
    "def tri_recursion(k):\n",
    "    if (k > 0):\n",
    "        result = k + tri_recursion(k - 1)\n",
    "        print(result)\n",
    "    else:\n",
    "        result = 0\n",
    "        print(result)\n",
    "    return result\n",
    "    \n",
    "tri_recursion(3)"
   ]
  },
  {
   "cell_type": "code",
   "execution_count": 16,
   "metadata": {},
   "outputs": [
    {
     "name": "stdout",
     "output_type": "stream",
     "text": [
      "(20, 25)\n"
     ]
    }
   ],
   "source": [
    "def evenoddsum(lst):\n",
    "    esum=0\n",
    "    osum=0\n",
    "    for i in lst:\n",
    "        if (i%2==0):\n",
    "            esum=esum+i\n",
    "        else:\n",
    "            osum=osum+i\n",
    "    return esum, osum    # multiple returns are always items of a tuple\n",
    "\n",
    "lst = [1,2,3,4,5,6,7,8,9,0]\n",
    "print(evenoddsum(lst))"
   ]
  },
  {
   "cell_type": "markdown",
   "metadata": {},
   "source": [
    "# Lambda\n",
    "anonymous function; one or many argsuments ===> one return value\n",
    "\n",
    "It returns expression value, even without the return keyword"
   ]
  },
  {
   "cell_type": "code",
   "execution_count": 17,
   "metadata": {},
   "outputs": [
    {
     "name": "stdout",
     "output_type": "stream",
     "text": [
      "40\n",
      "22\n",
      "33\n",
      "-5\n",
      "0\n",
      "9\n"
     ]
    },
    {
     "data": {
      "text/plain": [
       "13"
      ]
     },
     "execution_count": 17,
     "metadata": {},
     "output_type": "execute_result"
    }
   ],
   "source": [
    "x = lambda a, b : a * b +10\n",
    "print(x(5, 6))\n",
    "\n",
    "def myfunc(n):\n",
    "  return lambda a : a * n\n",
    "mydoubler = myfunc(2)\n",
    "mytripler = myfunc(3)\n",
    "print(mydoubler(11))\n",
    "print(mytripler(11))\n",
    "\n",
    "def build_quadratic_function(a,b,c):\n",
    "    \"\"\"Returns ther function f(x) = ax^2 + bx + c\"\"\"\n",
    "    return lambda x : a*x**2 + b*x + c\n",
    "f = build_quadratic_function(2, 3, -5)\n",
    "print(f(0))\n",
    "print(f(1))\n",
    "print(f(2))\n",
    "build_quadratic_function(3, 0, 1)(2)  # 3x^2+1 evaluated for x=2"
   ]
  },
  {
   "cell_type": "markdown",
   "metadata": {},
   "source": [
    "# Exception Handling\n",
    "Errors are composed of SYNTAX ERRORS & EXCEPTIONS(caught during run-time).\n",
    "\n",
    "## try: ... except: ... \\[else: ... \\]\\[finally: ...\\]\n",
    "1. Test block of code for errors\n",
    "2. handle the error, You can define as many exception blocks as you want, e.g. if you want to execute a special block of code for a special kind of error. Or, just you can send the error message to the user. You can use here **quit()** function to exit the program.\n",
    "3. this block is defined with code, which will be executed when no errors is raised.\n",
    "4. executes code, regardless of the result of try-except block. Generally used for cleanup operations."
   ]
  },
  {
   "cell_type": "markdown",
   "metadata": {},
   "source": [
    "In custom error message handling, we write the possible child error message at the top in the exception ladder. At last, we write the exception of the 'Exception' class"
   ]
  },
  {
   "cell_type": "code",
   "execution_count": 18,
   "metadata": {},
   "outputs": [
    {
     "name": "stdout",
     "output_type": "stream",
     "text": [
      "Variable jabba is not defined\n"
     ]
    }
   ],
   "source": [
    "try:\n",
    "  print(jabba)\n",
    "except NameError:  # as ne # Print one message if the try block raises a NameError and another for other errors\n",
    "  print(\"Variable jabba is not defined\")\n",
    "except:\n",
    "  print(\"Something else went wrong\") "
   ]
  },
  {
   "cell_type": "code",
   "execution_count": 19,
   "metadata": {},
   "outputs": [
    {
     "name": "stdout",
     "output_type": "stream",
     "text": [
      "unsupported operand type(s) for +: 'int' and 'str'\n"
     ]
    }
   ],
   "source": [
    "try:\n",
    "    a=1\n",
    "    b='s'\n",
    "    c=a+b\n",
    "except NameError as ex1:\n",
    "    print(\"The user have not defined the variable\")\n",
    "except Exception as ex:\n",
    "    print(ex)    # or here also one can put their custom message"
   ]
  },
  {
   "cell_type": "code",
   "execution_count": 20,
   "metadata": {},
   "outputs": [
    {
     "name": "stdout",
     "output_type": "stream",
     "text": [
      "Try to make datatype similar\n"
     ]
    }
   ],
   "source": [
    "try:\n",
    "    a=1\n",
    "    b='s'\n",
    "    c=a+b\n",
    "except NameError:\n",
    "    print(\"The user have not defined the variable\")\n",
    "except TypeError:\n",
    "    print(\"Try to make datatype similar\")\n",
    "except Exception as ex:\n",
    "    print(ex)    # or here also one can put their custom message"
   ]
  },
  {
   "cell_type": "code",
   "execution_count": 21,
   "metadata": {},
   "outputs": [
    {
     "name": "stdout",
     "output_type": "stream",
     "text": [
      "Hello\n",
      "Nothing went wrong\n"
     ]
    }
   ],
   "source": [
    "try:\n",
    "  print(\"Hello\")\n",
    "except:\n",
    "  print(\"Something went wrong\")\n",
    "else:\n",
    "  print(\"Nothing went wrong\") "
   ]
  },
  {
   "cell_type": "code",
   "execution_count": 52,
   "metadata": {},
   "outputs": [
    {
     "name": "stdout",
     "output_type": "stream",
     "text": [
      "Something went wrong\n",
      "The 'try except' is finished\n"
     ]
    }
   ],
   "source": [
    "y=10\n",
    "#del y # toggle this line as a comment to see the effect\n",
    "try:\n",
    "  print(y)\n",
    "except:\n",
    "  print(\"Something went wrong\")\n",
    "else:\n",
    "  print(\"try didnt gets executed\")\n",
    "finally:\n",
    "  print(\"The 'try except' is finished\") "
   ]
  },
  {
   "cell_type": "markdown",
   "metadata": {},
   "source": [
    "# Raise/Throw an exception\n",
    "An exception can be raised if certain user-defined condition occurs.\n",
    "You can define what kind of error to raise, and the text to print to the user."
   ]
  },
  {
   "cell_type": "markdown",
   "metadata": {},
   "source": [
    "#### Exception\n",
    "This is the main exception class. All the other exception class are derived from this exception class."
   ]
  },
  {
   "cell_type": "code",
   "execution_count": 23,
   "metadata": {},
   "outputs": [
    {
     "ename": "Exception",
     "evalue": "Sorry, no numbers below zero",
     "output_type": "error",
     "traceback": [
      "\u001b[0;31m---------------------------------------------------------------------------\u001b[0m",
      "\u001b[0;31mException\u001b[0m                                 Traceback (most recent call last)",
      "\u001b[0;32m<ipython-input-23-1129764d2a7a>\u001b[0m in \u001b[0;36m<module>\u001b[0;34m\u001b[0m\n\u001b[1;32m      2\u001b[0m \u001b[0;34m\u001b[0m\u001b[0m\n\u001b[1;32m      3\u001b[0m \u001b[0;32mif\u001b[0m \u001b[0mx\u001b[0m \u001b[0;34m<\u001b[0m \u001b[0;36m0\u001b[0m\u001b[0;34m:\u001b[0m\u001b[0;34m\u001b[0m\u001b[0;34m\u001b[0m\u001b[0m\n\u001b[0;32m----> 4\u001b[0;31m   \u001b[0;32mraise\u001b[0m \u001b[0mException\u001b[0m\u001b[0;34m(\u001b[0m\u001b[0;34m\"Sorry, no numbers below zero\"\u001b[0m\u001b[0;34m)\u001b[0m\u001b[0;34m\u001b[0m\u001b[0;34m\u001b[0m\u001b[0m\n\u001b[0m\u001b[1;32m      5\u001b[0m \u001b[0;34m\u001b[0m\u001b[0m\n\u001b[1;32m      6\u001b[0m \u001b[0;31m# code will not execute after this, even though error is raised and handeled\u001b[0m\u001b[0;34m\u001b[0m\u001b[0;34m\u001b[0m\u001b[0;34m\u001b[0m\u001b[0m\n",
      "\u001b[0;31mException\u001b[0m: Sorry, no numbers below zero"
     ]
    }
   ],
   "source": [
    "x = -1\n",
    "\n",
    "if x < 0:\n",
    "  raise Exception(\"Sorry, no numbers below zero\") \n",
    "\n",
    "# code will not execute after this, even though error is raised and handeled"
   ]
  },
  {
   "cell_type": "code",
   "execution_count": 24,
   "metadata": {},
   "outputs": [
    {
     "ename": "NameError",
     "evalue": "name 'q' is not defined",
     "output_type": "error",
     "traceback": [
      "\u001b[0;31m---------------------------------------------------------------------------\u001b[0m",
      "\u001b[0;31mNameError\u001b[0m                                 Traceback (most recent call last)",
      "\u001b[0;32m<ipython-input-24-af532074f79a>\u001b[0m in \u001b[0;36m<module>\u001b[0;34m\u001b[0m\n\u001b[0;32m----> 1\u001b[0;31m \u001b[0mp\u001b[0m\u001b[0;34m=\u001b[0m\u001b[0mq\u001b[0m\u001b[0;34m\u001b[0m\u001b[0;34m\u001b[0m\u001b[0m\n\u001b[0m",
      "\u001b[0;31mNameError\u001b[0m: name 'q' is not defined"
     ]
    }
   ],
   "source": [
    "p=q"
   ]
  },
  {
   "cell_type": "markdown",
   "metadata": {},
   "source": [
    "This above specific type of exception, i.e., 'NameError' exception is basically derived from the 'Exception' class."
   ]
  },
  {
   "cell_type": "code",
   "execution_count": 25,
   "metadata": {},
   "outputs": [
    {
     "name": "stdout",
     "output_type": "stream",
     "text": [
      "name 'q' is not defined\n"
     ]
    }
   ],
   "source": [
    "try:\n",
    "    p=q\n",
    "except Exception as ex:    # here we called the Exception Class and aliased it as 'ex'\n",
    "    print(ex)    # here we can see that the ex contains the same error message string that was given in the above cell execution"
   ]
  },
  {
   "cell_type": "markdown",
   "metadata": {},
   "source": [
    "One can handle this exception and customize this exception message. This is called exception handling, and we did it in the previous section."
   ]
  },
  {
   "cell_type": "code",
   "execution_count": 26,
   "metadata": {},
   "outputs": [
    {
     "ename": "TypeError",
     "evalue": "Only integers are allowed",
     "output_type": "error",
     "traceback": [
      "\u001b[0;31m---------------------------------------------------------------------------\u001b[0m",
      "\u001b[0;31mTypeError\u001b[0m                                 Traceback (most recent call last)",
      "\u001b[0;32m<ipython-input-26-ac71689f5629>\u001b[0m in \u001b[0;36m<module>\u001b[0;34m\u001b[0m\n\u001b[1;32m      2\u001b[0m \u001b[0;34m\u001b[0m\u001b[0m\n\u001b[1;32m      3\u001b[0m \u001b[0;32mif\u001b[0m \u001b[0;32mnot\u001b[0m \u001b[0mtype\u001b[0m\u001b[0;34m(\u001b[0m\u001b[0mx\u001b[0m\u001b[0;34m)\u001b[0m \u001b[0;32mis\u001b[0m \u001b[0mint\u001b[0m\u001b[0;34m:\u001b[0m\u001b[0;34m\u001b[0m\u001b[0;34m\u001b[0m\u001b[0m\n\u001b[0;32m----> 4\u001b[0;31m   \u001b[0;32mraise\u001b[0m \u001b[0mTypeError\u001b[0m\u001b[0;34m(\u001b[0m\u001b[0;34m\"Only integers are allowed\"\u001b[0m\u001b[0;34m)\u001b[0m\u001b[0;34m\u001b[0m\u001b[0;34m\u001b[0m\u001b[0m\n\u001b[0m",
      "\u001b[0;31mTypeError\u001b[0m: Only integers are allowed"
     ]
    }
   ],
   "source": [
    "x = \"hello\"\n",
    "\n",
    "if not type(x) is int:\n",
    "  raise TypeError(\"Only integers are allowed\") "
   ]
  },
  {
   "cell_type": "code",
   "execution_count": 59,
   "metadata": {},
   "outputs": [
    {
     "name": "stdout",
     "output_type": "stream",
     "text": [
      "handled\n"
     ]
    },
    {
     "ename": "Exception",
     "evalue": "koi nahi hai idhar",
     "output_type": "error",
     "traceback": [
      "\u001b[0;31m---------------------------------------------------------------------------\u001b[0m",
      "\u001b[0;31mException\u001b[0m                                 Traceback (most recent call last)",
      "\u001b[0;32m<ipython-input-59-69baa609aeab>\u001b[0m in \u001b[0;36m<module>\u001b[0;34m\u001b[0m\n\u001b[1;32m      7\u001b[0m         \u001b[0mprint\u001b[0m\u001b[0;34m(\u001b[0m\u001b[0;34m'handled'\u001b[0m\u001b[0;34m)\u001b[0m\u001b[0;34m\u001b[0m\u001b[0;34m\u001b[0m\u001b[0m\n\u001b[1;32m      8\u001b[0m     \u001b[0;32mfinally\u001b[0m\u001b[0;34m:\u001b[0m\u001b[0;34m\u001b[0m\u001b[0;34m\u001b[0m\u001b[0m\n\u001b[0;32m----> 9\u001b[0;31m         \u001b[0;32mraise\u001b[0m \u001b[0mException\u001b[0m\u001b[0;34m(\u001b[0m\u001b[0;34m'koi nahi hai idhar'\u001b[0m\u001b[0;34m)\u001b[0m\u001b[0;34m\u001b[0m\u001b[0;34m\u001b[0m\u001b[0m\n\u001b[0m",
      "\u001b[0;31mException\u001b[0m: koi nahi hai idhar"
     ]
    }
   ],
   "source": [
    "x = \"hello\"\n",
    "# if error/exception is raised in try block, then only it can be handeled, else\n",
    "# exception can be raised anywhere by own wish, even if error occurs or not\n",
    "if type(x) is not int:\n",
    "    try:\n",
    "        raise TypeError(\"Only integers are allowed\")\n",
    "    except:\n",
    "        print('handled')\n",
    "    finally:\n",
    "        raise Exception('koi nahi hai idhar')"
   ]
  },
  {
   "cell_type": "markdown",
   "metadata": {},
   "source": [
    "### Creating Custom Exception"
   ]
  },
  {
   "cell_type": "code",
   "execution_count": 67,
   "metadata": {},
   "outputs": [
    {
     "name": "stdout",
     "output_type": "stream",
     "text": [
      "Enter the year of birth: 2015\n",
      "age out of range\n"
     ]
    }
   ],
   "source": [
    "class Error(Exception):    # deriving Exception class into custom generic class.\n",
    "    pass    # instead defining any particular exception, we'll print our own exception\n",
    "\n",
    "class dobException(Error):\n",
    "    pass\n",
    "\n",
    "year=int(input(\"Enter the year of birth: \"))\n",
    "age=2021-year\n",
    "try:\n",
    "    if age<=30 and age>20:\n",
    "        pass\n",
    "    else:\n",
    "        raise dobException\n",
    "except dobException:\n",
    "    print(\"age out of range\")"
   ]
  },
  {
   "cell_type": "markdown",
   "metadata": {},
   "source": [
    "LEARN COMMON ERROR TYPES AND THEIR PROCESS TO RAISE ERROR TYPE AND THEIR HANDLING"
   ]
  },
  {
   "cell_type": "markdown",
   "metadata": {},
   "source": [
    "# Built-in Function of python"
   ]
  },
  {
   "cell_type": "markdown",
   "metadata": {},
   "source": [
    "abs(\\<num\\>)\n",
    "\n",
    "all(\\<iterable\\>) # returns True if all the elements from the iterable are True. Else False.\n",
    "\n",
    "any(\\<iterable\\>)\n",
    "\n",
    "bin(\\<num\\>)  # return binary number of integer \\<num\\>. Other numbers are not allowed\n",
    "\n",
    "bool()  # It will return False if parameters will be empty objects like empty list, dictionary, tuple, string, 0, 0.00 ..., False, None\n",
    "\n",
    "complex(\\['\\]real, \\[imaginary number pary w/o 'j'\\]\\['\\])  # outputs (r+ij)\n",
    "\n",
    "filter(bool returning function for each item in iterable, iterable) # returns an iterator where the items are filtered through a function to test if the item is accepted or not.\n",
    "\n",
    "min() max()\n",
    "\n",
    "ord() . It returns the number representing the unicode code of a specified character.\n",
    "\n",
    "chr() . returns the character that represents the specified unicode.\n",
    "\n",
    "pow(base, exponent\\[, modulus\\])    # modulus is always any integer except 0, allowed only when base and exponent are integer.\n",
    "\n",
    "hash()  Returns the hash value of a specified object"
   ]
  },
  {
   "cell_type": "code",
   "execution_count": 69,
   "metadata": {},
   "outputs": [
    {
     "data": {
      "text/plain": [
       "False"
      ]
     },
     "execution_count": 69,
     "metadata": {},
     "output_type": "execute_result"
    }
   ],
   "source": [
    "all([[]])   # even empty list as an iterable element is not considered as True"
   ]
  },
  {
   "cell_type": "markdown",
   "metadata": {},
   "source": [
    "# FILTER Function\n",
    "callable(object_name).....    Returns True/False from the callig fucntion. But filter returns iterator of elements which are passes as true from the iterable."
   ]
  },
  {
   "cell_type": "code",
   "execution_count": 81,
   "metadata": {
    "scrolled": true
   },
   "outputs": [
    {
     "name": "stdout",
     "output_type": "stream",
     "text": [
      "<filter object at 0x7fb7a6f25640>\n",
      "<class 'int'>\n",
      "<class 'int'>\n",
      "<class 'int'>\n",
      "18\n",
      "24\n",
      "32\n",
      "True\n"
     ]
    }
   ],
   "source": [
    "def myFunc(x):\n",
    "    if x < 18:\n",
    "        print(type(x))    # filter function sends one by one colletion items. NOT whole item at a time, as a normal function\n",
    "        return False\n",
    "    else:\n",
    "        return True\n",
    "\n",
    "# filter only looks for true value. not false in general. Above AKA: filter(lambda num: num<18, ages)\n",
    "\n",
    "ages = [5, 12, 17, 18, 24, 32]\n",
    "ads=adults = filter(myFunc, ages)\n",
    "print(adults)\n",
    "\n",
    "#print(list(adults))\n",
    "for x in adults:\n",
    "    print(x)\n",
    "    \n",
    "# testing 'all' on iterator\n",
    "print(all(ads))"
   ]
  },
  {
   "cell_type": "markdown",
   "metadata": {},
   "source": [
    "# MAP Function"
   ]
  },
  {
   "cell_type": "code",
   "execution_count": 83,
   "metadata": {},
   "outputs": [
    {
     "name": "stdout",
     "output_type": "stream",
     "text": [
      "<map object at 0x7fb7a6f0a130>\n",
      "['appleorange', 'bananalemon', 'cherrypineapple']\n"
     ]
    }
   ],
   "source": [
    "def myfunc(a, b):\n",
    "  return a + b\n",
    "x = map(myfunc, ('apple', 'banana', 'cherry'), ('orange', 'lemon', 'pineapple', 'guava'))\n",
    "print(x)    # returns map object. Memory has not been instantiated using map. Because it used lazy-loading technique. list(map(<func_n>, iterable(s))) will return list\n",
    "#convert the map into a list, or in any collection form, for readability:\n",
    "print(list(x))\n",
    "\n",
    "\n",
    "# map() function executes a specified function for each item in an iterable. The item is sent to the function as a parameter.\n",
    "# function: Required. The function to execute for each item\n",
    "#iterable: Required. A sequence, collection or an iterator object. You can send as many iterables as you like, just make sure the function has one parameter for each iterable.\n"
   ]
  },
  {
   "cell_type": "markdown",
   "metadata": {},
   "source": [
    "# ZIP Function"
   ]
  },
  {
   "cell_type": "code",
   "execution_count": 82,
   "metadata": {
    "scrolled": true
   },
   "outputs": [
    {
     "name": "stdout",
     "output_type": "stream",
     "text": [
      "<zip object at 0x7fb7a6ec5580>\n",
      "[('John', 'Jenny'), ('Charles', 'Christy'), (5, 8), ('Mike', 'Monica')]\n",
      "()\n",
      "<zip object at 0x7fb7a6ec5580>\n"
     ]
    }
   ],
   "source": [
    "a = (\"John\", \"Charles\", 5, \"Mike\")\n",
    "b = [\"Jenny\", \"Christy\", 8, \"Monica\", \"Vicky\"]\n",
    "x = zip(a, b)    # input could be be any iterable. Output is iterator.\n",
    "print(x)\n",
    "print(list(x))\n",
    "print(tuple(x))\n",
    "print(x)\n",
    "\n",
    "# returns a zip object, which is an iterator of tuples where the first item in each passed iterator is paired together, and then the second item in each passed iterator are paired together etc. If the passed iterators have different lengths, the iterator with the least items decides the length of the new iterator."
   ]
  },
  {
   "cell_type": "code",
   "execution_count": 32,
   "metadata": {},
   "outputs": [
    {
     "name": "stdout",
     "output_type": "stream",
     "text": [
      "('John', 'Jenny')\n",
      "('Charles', 'Christy')\n",
      "('Mike', 'Monica')\n"
     ]
    }
   ],
   "source": [
    "a = (\"John\", \"Charles\", \"Mike\")\n",
    "b = [\"Jenny\", \"Christy\", \"Monica\", \"Vicky\"]\n",
    "x = zip(a, b)    # input could be be any iterable\n",
    "\n",
    "for i in x:\n",
    "    print(i)"
   ]
  },
  {
   "cell_type": "code",
   "execution_count": 33,
   "metadata": {},
   "outputs": [
    {
     "name": "stdout",
     "output_type": "stream",
     "text": [
      "John Jenny\n",
      "Charles Christy\n",
      "Mike Monica\n"
     ]
    }
   ],
   "source": [
    "a = (\"John\", \"Charles\", \"Mike\")\n",
    "b = [\"Jenny\", \"Christy\", \"Monica\", \"Vicky\"]\n",
    "x = zip(a, b)    # input could be be any iterable\n",
    "\n",
    "for i,j in x:\n",
    "    print(i, j)"
   ]
  },
  {
   "cell_type": "code",
   "execution_count": 34,
   "metadata": {},
   "outputs": [
    {
     "data": {
      "text/plain": [
       "[]"
      ]
     },
     "execution_count": 34,
     "metadata": {},
     "output_type": "execute_result"
    }
   ],
   "source": [
    "# creating zip object\n",
    "list(zip()) # one can put tuples as zip items inside zip()"
   ]
  },
  {
   "cell_type": "code",
   "execution_count": 85,
   "metadata": {},
   "outputs": [],
   "source": [
    "dict1={'name':\"Sharan\", \"title\":\"jaiswal\", \"age\": 23}\n",
    "dict2={'name':\"jaiswal\", \"title\":\"sharan\", \"age\": 32}"
   ]
  },
  {
   "cell_type": "code",
   "execution_count": 86,
   "metadata": {},
   "outputs": [],
   "source": [
    "dictionary = zip(dict1, dict2)"
   ]
  },
  {
   "cell_type": "code",
   "execution_count": 87,
   "metadata": {},
   "outputs": [
    {
     "name": "stdout",
     "output_type": "stream",
     "text": [
      "('name', 'name')\n",
      "('title', 'title')\n",
      "('age', 'age')\n"
     ]
    }
   ],
   "source": [
    "for i in dictionary:\n",
    "    print(i)"
   ]
  },
  {
   "cell_type": "code",
   "execution_count": 88,
   "metadata": {},
   "outputs": [],
   "source": [
    "dictionary = zip(dict1.items(), dict2.items())"
   ]
  },
  {
   "cell_type": "code",
   "execution_count": 39,
   "metadata": {
    "scrolled": true
   },
   "outputs": [
    {
     "name": "stdout",
     "output_type": "stream",
     "text": [
      "(('name', 'Sharan'), ('name', 'jaiswal'))\n",
      "(('title', 'jaiswal'), ('title', 'sharan'))\n",
      "(('age', 23), ('age', 32))\n"
     ]
    }
   ],
   "source": [
    "for i in dictionary:\n",
    "    print(i)"
   ]
  },
  {
   "cell_type": "code",
   "execution_count": 89,
   "metadata": {},
   "outputs": [
    {
     "name": "stdout",
     "output_type": "stream",
     "text": [
      "name Sharan\n",
      "name jaiswal\n",
      "title jaiswal\n",
      "title sharan\n",
      "age 23\n",
      "age 32\n"
     ]
    }
   ],
   "source": [
    "for (i,j),(i2, j2) in dictionary:\n",
    "    print(i,j)\n",
    "    print(i2, j2)"
   ]
  },
  {
   "cell_type": "markdown",
   "metadata": {},
   "source": [
    "# EVAL Function \n",
    "VALUATING EXPRESSIONS DYNAMICALLY. Evaluates python expression which are written as strings.\n",
    "1. Parse the expression.\n",
    "2. Compile the expression into byte code.\n",
    "3. Evaluate the python expression.\n",
    "4. Return the result.\n",
    "\n",
    "eval(source, \\[globals=None, \\[locals=None\\]\\]\\[, /\\])"
   ]
  },
  {
   "cell_type": "code",
   "execution_count": 41,
   "metadata": {
    "scrolled": true
   },
   "outputs": [
    {
     "data": {
      "text/plain": [
       "28.5"
      ]
     },
     "execution_count": 41,
     "metadata": {},
     "output_type": "execute_result"
    }
   ],
   "source": [
    "eval(\"5*5+7/2\")"
   ]
  },
  {
   "cell_type": "code",
   "execution_count": 64,
   "metadata": {
    "scrolled": true
   },
   "outputs": [
    {
     "name": "stdout",
     "output_type": "stream",
     "text": [
      "Enter the expression to evaluate : 5*8/6\n"
     ]
    },
    {
     "data": {
      "text/plain": [
       "6.666666666666667"
      ]
     },
     "execution_count": 64,
     "metadata": {},
     "output_type": "execute_result"
    }
   ],
   "source": [
    "eval(input(\"Enter the expression to evaluate : \"))"
   ]
  },
  {
   "cell_type": "code",
   "execution_count": 43,
   "metadata": {},
   "outputs": [],
   "source": [
    "def sq_num(num):\n",
    "    return num**2"
   ]
  },
  {
   "cell_type": "code",
   "execution_count": 44,
   "metadata": {},
   "outputs": [
    {
     "data": {
      "text/plain": [
       "4"
      ]
     },
     "execution_count": 44,
     "metadata": {},
     "output_type": "execute_result"
    }
   ],
   "source": [
    "sq_num(2)"
   ]
  },
  {
   "cell_type": "code",
   "execution_count": 45,
   "metadata": {},
   "outputs": [
    {
     "data": {
      "text/plain": [
       "4"
      ]
     },
     "execution_count": 45,
     "metadata": {},
     "output_type": "execute_result"
    }
   ],
   "source": [
    "eval(\"sq_num(2)\")"
   ]
  },
  {
   "cell_type": "markdown",
   "metadata": {},
   "source": [
    "working of eval.\n",
    "compile()"
   ]
  },
  {
   "cell_type": "code",
   "execution_count": 46,
   "metadata": {},
   "outputs": [],
   "source": [
    "var=compile(\"5*5\", \"<string>\", \"eval\")   # parsing and compiling into the byte code"
   ]
  },
  {
   "cell_type": "code",
   "execution_count": 47,
   "metadata": {},
   "outputs": [
    {
     "data": {
      "text/plain": [
       "<code object <module> at 0x7f8b1c432870, file \"<string>\", line 1>"
      ]
     },
     "execution_count": 47,
     "metadata": {},
     "output_type": "execute_result"
    }
   ],
   "source": [
    "var"
   ]
  },
  {
   "cell_type": "code",
   "execution_count": 48,
   "metadata": {},
   "outputs": [
    {
     "data": {
      "text/plain": [
       "25"
      ]
     },
     "execution_count": 48,
     "metadata": {},
     "output_type": "execute_result"
    }
   ],
   "source": [
    "eval(var)"
   ]
  },
  {
   "cell_type": "markdown",
   "metadata": {},
   "source": [
    "###### Globals parameter"
   ]
  },
  {
   "cell_type": "code",
   "execution_count": 49,
   "metadata": {},
   "outputs": [
    {
     "ename": "TypeError",
     "evalue": "unsupported operand type(s) for +: 'zip' and 'int'",
     "output_type": "error",
     "traceback": [
      "\u001b[0;31m---------------------------------------------------------------------------\u001b[0m",
      "\u001b[0;31mTypeError\u001b[0m                                 Traceback (most recent call last)",
      "\u001b[0;32m<ipython-input-49-40ee5cd58b41>\u001b[0m in \u001b[0;36m<module>\u001b[0;34m\u001b[0m\n\u001b[0;32m----> 1\u001b[0;31m \u001b[0meval\u001b[0m\u001b[0;34m(\u001b[0m\u001b[0;34m\"x+50+x**2\"\u001b[0m\u001b[0;34m)\u001b[0m    \u001b[0;31m# it will give error because x is not defined\u001b[0m\u001b[0;34m\u001b[0m\u001b[0;34m\u001b[0m\u001b[0m\n\u001b[0m",
      "\u001b[0;32m<string>\u001b[0m in \u001b[0;36m<module>\u001b[0;34m\u001b[0m\n",
      "\u001b[0;31mTypeError\u001b[0m: unsupported operand type(s) for +: 'zip' and 'int'"
     ]
    }
   ],
   "source": [
    "eval(\"x+50+x**2\")    # it will give error because x is not defined"
   ]
  },
  {
   "cell_type": "code",
   "execution_count": 50,
   "metadata": {},
   "outputs": [
    {
     "data": {
      "text/plain": [
       "60"
      ]
     },
     "execution_count": 50,
     "metadata": {},
     "output_type": "execute_result"
    }
   ],
   "source": [
    "eval(\"mu+50\", {\"mu\": 10})"
   ]
  },
  {
   "cell_type": "code",
   "execution_count": 51,
   "metadata": {},
   "outputs": [
    {
     "data": {
      "text/plain": [
       "470"
      ]
     },
     "execution_count": 51,
     "metadata": {},
     "output_type": "execute_result"
    }
   ],
   "source": [
    "x=20\n",
    "eval(\"x+50+x**2\", {\"x\":x})"
   ]
  },
  {
   "cell_type": "code",
   "execution_count": 52,
   "metadata": {},
   "outputs": [
    {
     "data": {
      "text/plain": [
       "50"
      ]
     },
     "execution_count": 52,
     "metadata": {},
     "output_type": "execute_result"
    }
   ],
   "source": [
    "x=0\n",
    "eval(\"x+50+x**2\")"
   ]
  },
  {
   "cell_type": "code",
   "execution_count": 53,
   "metadata": {},
   "outputs": [
    {
     "ename": "NameError",
     "evalue": "name 'y' is not defined",
     "output_type": "error",
     "traceback": [
      "\u001b[0;31m---------------------------------------------------------------------------\u001b[0m",
      "\u001b[0;31mNameError\u001b[0m                                 Traceback (most recent call last)",
      "\u001b[0;32m<ipython-input-53-d49df39fbe2f>\u001b[0m in \u001b[0;36m<module>\u001b[0;34m\u001b[0m\n\u001b[1;32m      3\u001b[0m \u001b[0my\u001b[0m\u001b[0;34m=\u001b[0m\u001b[0;36m20\u001b[0m\u001b[0;34m\u001b[0m\u001b[0;34m\u001b[0m\u001b[0m\n\u001b[1;32m      4\u001b[0m \u001b[0mz\u001b[0m\u001b[0;34m=\u001b[0m\u001b[0;36m100\u001b[0m\u001b[0;34m\u001b[0m\u001b[0;34m\u001b[0m\u001b[0m\n\u001b[0;32m----> 5\u001b[0;31m \u001b[0meval\u001b[0m\u001b[0;34m(\u001b[0m\u001b[0;34m\"w+x+y+z\"\u001b[0m\u001b[0;34m,\u001b[0m \u001b[0;34m{\u001b[0m\u001b[0;34m\"x\"\u001b[0m\u001b[0;34m:\u001b[0m\u001b[0mx\u001b[0m\u001b[0;34m,\u001b[0m \u001b[0;34m\"z\"\u001b[0m\u001b[0;34m:\u001b[0m\u001b[0mz\u001b[0m\u001b[0;34m,\u001b[0m \u001b[0;34m\"w\"\u001b[0m\u001b[0;34m:\u001b[0m \u001b[0;36m40\u001b[0m\u001b[0;34m}\u001b[0m\u001b[0;34m)\u001b[0m\u001b[0;34m\u001b[0m\u001b[0;34m\u001b[0m\u001b[0m\n\u001b[0m",
      "\u001b[0;32m<string>\u001b[0m in \u001b[0;36m<module>\u001b[0;34m\u001b[0m\n",
      "\u001b[0;31mNameError\u001b[0m: name 'y' is not defined"
     ]
    }
   ],
   "source": [
    "w=34\n",
    "x=100\n",
    "y=20\n",
    "z=100\n",
    "eval(\"w+x+y+z\", {\"x\":x, \"z\":z, \"w\": 40})"
   ]
  },
  {
   "cell_type": "code",
   "execution_count": 91,
   "metadata": {},
   "outputs": [
    {
     "data": {
      "text/plain": [
       "10"
      ]
     },
     "execution_count": 91,
     "metadata": {},
     "output_type": "execute_result"
    }
   ],
   "source": [
    "eval(\"w+x+y+z\", {}, {\"x\":1, \"z\":2, \"w\": 3, \"y\":4})    # locals"
   ]
  },
  {
   "cell_type": "markdown",
   "metadata": {},
   "source": [
    "**Minimizing security issues**"
   ]
  },
  {
   "cell_type": "markdown",
   "metadata": {},
   "source": [
    "# Sorting and Compairing of collection items\n",
    "\n",
    "### Any sequences can be compared. Underlying concept is, corresponding elements are compared.\n",
    "\n",
    "One can use **sorted(iterable, key=key, reverse=True/False)** function. Sorting of collection cant be done when that sequence contains BOTH string values AND numeric values. Strings are sorted alphabetically, and numbers are sorted numerically."
   ]
  },
  {
   "cell_type": "code",
   "execution_count": 55,
   "metadata": {},
   "outputs": [
    {
     "ename": "TypeError",
     "evalue": "'<' not supported between instances of 'str' and 'int'",
     "output_type": "error",
     "traceback": [
      "\u001b[0;31m---------------------------------------------------------------------------\u001b[0m",
      "\u001b[0;31mTypeError\u001b[0m                                 Traceback (most recent call last)",
      "\u001b[0;32m<ipython-input-55-1e5348b9b154>\u001b[0m in \u001b[0;36m<module>\u001b[0;34m\u001b[0m\n\u001b[1;32m      1\u001b[0m \u001b[0mlst\u001b[0m \u001b[0;34m=\u001b[0m \u001b[0;34m[\u001b[0m\u001b[0;36m0\u001b[0m\u001b[0;34m,\u001b[0m\u001b[0;36m1\u001b[0m\u001b[0;34m,\u001b[0m\u001b[0;36m2\u001b[0m\u001b[0;34m,\u001b[0m\u001b[0;34m'a'\u001b[0m\u001b[0;34m,\u001b[0m \u001b[0;34m\"sharan\"\u001b[0m\u001b[0;34m,\u001b[0m \u001b[0;34m'b'\u001b[0m\u001b[0;34m,\u001b[0m \u001b[0;34m\"Sharan\"\u001b[0m\u001b[0;34m,\u001b[0m \u001b[0;32mNone\u001b[0m\u001b[0;34m]\u001b[0m\u001b[0;34m\u001b[0m\u001b[0;34m\u001b[0m\u001b[0m\n\u001b[0;32m----> 2\u001b[0;31m \u001b[0mx\u001b[0m \u001b[0;34m=\u001b[0m \u001b[0msorted\u001b[0m\u001b[0;34m(\u001b[0m\u001b[0mlst\u001b[0m\u001b[0;34m)\u001b[0m\u001b[0;34m\u001b[0m\u001b[0;34m\u001b[0m\u001b[0m\n\u001b[0m",
      "\u001b[0;31mTypeError\u001b[0m: '<' not supported between instances of 'str' and 'int'"
     ]
    }
   ],
   "source": [
    "lst = [0,1,2,'a', \"sharan\", 'b', \"Sharan\", None]\n",
    "x = sorted(lst)"
   ]
  },
  {
   "cell_type": "code",
   "execution_count": 56,
   "metadata": {},
   "outputs": [
    {
     "data": {
      "text/plain": [
       "[0, 1, 2, 3, 4]"
      ]
     },
     "execution_count": 56,
     "metadata": {},
     "output_type": "execute_result"
    }
   ],
   "source": [
    "lst=[0,1,2,3,4]\n",
    "x = sorted(lst)\n",
    "x"
   ]
  },
  {
   "cell_type": "code",
   "execution_count": 57,
   "metadata": {},
   "outputs": [
    {
     "data": {
      "text/plain": [
       "['0',\n",
       " '1',\n",
       " '6',\n",
       " '9',\n",
       " 'A',\n",
       " 'B',\n",
       " 'C',\n",
       " 'SHARAN',\n",
       " 'a',\n",
       " 'b',\n",
       " 'c',\n",
       " 'd',\n",
       " 'e',\n",
       " 'sharan']"
      ]
     },
     "execution_count": 57,
     "metadata": {},
     "output_type": "execute_result"
    }
   ],
   "source": [
    "lst=['a', 'b', 'c', 'A', \"sharan\", \"SHARAN\", 'B', 'C', 'd', 'e', '0','1','6','9']\n",
    "x = sorted(lst)\n",
    "x"
   ]
  },
  {
   "cell_type": "code",
   "execution_count": 58,
   "metadata": {},
   "outputs": [
    {
     "data": {
      "text/plain": [
       "[('a', 22), ('b', 10), ('c', 1)]"
      ]
     },
     "execution_count": 58,
     "metadata": {},
     "output_type": "execute_result"
    }
   ],
   "source": [
    "d={'b':10, 'c':1, 'a':22}\n",
    "t=sorted(d.items())\n",
    "t"
   ]
  },
  {
   "cell_type": "code",
   "execution_count": 59,
   "metadata": {},
   "outputs": [
    {
     "name": "stdout",
     "output_type": "stream",
     "text": [
      "[(10, 'b'), (1, 'c'), (22, 'a')]\n",
      "[(22, 'a'), (10, 'b'), (1, 'c')]\n",
      "[(22, 'a'), (10, 'b'), (1, 'c')]\n"
     ]
    }
   ],
   "source": [
    "# sorting based on values of dictionary using SORTED()\n",
    "\n",
    "d={'b':10, 'c':1, 'a':22}\n",
    "tmp=list()\n",
    "\n",
    "for k,v in d.items():\n",
    "    tmp.append((v,k))\n",
    "    \n",
    "print(tmp)\n",
    "\n",
    "tmp=sorted(tmp, reverse = True)\n",
    "print(tmp)\n",
    "\n",
    "\n",
    "print(sorted([(v,k) for (k,v) in d.items()], reverse = True))"
   ]
  },
  {
   "cell_type": "markdown",
   "metadata": {},
   "source": [
    "## Assert Statements in Python\n",
    "It is used to check if a given logical expression is True or False. Program execution proceeds only if the expressions is true and raises the **AssertionError** when it is False.\n",
    "\n",
    "It can be used as a check point in the program flow"
   ]
  },
  {
   "cell_type": "code",
   "execution_count": 60,
   "metadata": {},
   "outputs": [
    {
     "data": {
      "text/plain": [
       "True"
      ]
     },
     "execution_count": 60,
     "metadata": {},
     "output_type": "execute_result"
    }
   ],
   "source": [
    "10>=10 # this is not assert statement"
   ]
  },
  {
   "cell_type": "code",
   "execution_count": 61,
   "metadata": {},
   "outputs": [
    {
     "data": {
      "text/plain": [
       "False"
      ]
     },
     "execution_count": 61,
     "metadata": {},
     "output_type": "execute_result"
    }
   ],
   "source": [
    "10>10  # this is not assert statement"
   ]
  },
  {
   "cell_type": "code",
   "execution_count": 62,
   "metadata": {},
   "outputs": [
    {
     "ename": "AssertionError",
     "evalue": "",
     "output_type": "error",
     "traceback": [
      "\u001b[0;31m---------------------------------------------------------------------------\u001b[0m",
      "\u001b[0;31mAssertionError\u001b[0m                            Traceback (most recent call last)",
      "\u001b[0;32m<ipython-input-62-cd3ba8613112>\u001b[0m in \u001b[0;36m<module>\u001b[0;34m\u001b[0m\n\u001b[1;32m      1\u001b[0m \u001b[0mnum\u001b[0m\u001b[0;34m=\u001b[0m\u001b[0;36m12\u001b[0m\u001b[0;34m\u001b[0m\u001b[0;34m\u001b[0m\u001b[0m\n\u001b[0;32m----> 2\u001b[0;31m \u001b[0;32massert\u001b[0m \u001b[0mnum\u001b[0m\u001b[0;34m<\u001b[0m\u001b[0;36m10\u001b[0m\u001b[0;34m\u001b[0m\u001b[0;34m\u001b[0m\u001b[0m\n\u001b[0m",
      "\u001b[0;31mAssertionError\u001b[0m: "
     ]
    }
   ],
   "source": [
    "num=12\n",
    "assert num<10"
   ]
  },
  {
   "cell_type": "code",
   "execution_count": 63,
   "metadata": {},
   "outputs": [
    {
     "name": "stdout",
     "output_type": "stream",
     "text": [
      "enter a number: 456\n",
      "The number is even.\n"
     ]
    }
   ],
   "source": [
    "try:\n",
    "    num=int(input(\"enter a number: \"))\n",
    "    assert num%2==0\n",
    "    print(\"The number is even.\")\n",
    "except AssertionError:\n",
    "    print(\"Please enter even number\")"
   ]
  },
  {
   "cell_type": "code",
   "execution_count": 4,
   "metadata": {},
   "outputs": [
    {
     "name": "stdout",
     "output_type": "stream",
     "text": [
      "\u001b[0;31mType:\u001b[0m        module\n",
      "\u001b[0;31mString form:\u001b[0m <module 'this' from '/home/sharan/miniconda3/lib/python3.8/this.py'>\n",
      "\u001b[0;31mFile:\u001b[0m        ~/miniconda3/lib/python3.8/this.py\n",
      "\u001b[0;31mSource:\u001b[0m     \n",
      "\u001b[0ms\u001b[0m \u001b[0;34m=\u001b[0m \u001b[0;34m\"\"\"Gur Mra bs Clguba, ol Gvz Crgref\u001b[0m\n",
      "\u001b[0;34m\u001b[0m\n",
      "\u001b[0;34mOrnhgvshy vf orggre guna htyl.\u001b[0m\n",
      "\u001b[0;34mRkcyvpvg vf orggre guna vzcyvpvg.\u001b[0m\n",
      "\u001b[0;34mFvzcyr vf orggre guna pbzcyrk.\u001b[0m\n",
      "\u001b[0;34mPbzcyrk vf orggre guna pbzcyvpngrq.\u001b[0m\n",
      "\u001b[0;34mSyng vf orggre guna arfgrq.\u001b[0m\n",
      "\u001b[0;34mFcnefr vf orggre guna qrafr.\u001b[0m\n",
      "\u001b[0;34mErnqnovyvgl pbhagf.\u001b[0m\n",
      "\u001b[0;34mFcrpvny pnfrf nera'g fcrpvny rabhtu gb oernx gur ehyrf.\u001b[0m\n",
      "\u001b[0;34mNygubhtu cenpgvpnyvgl orngf chevgl.\u001b[0m\n",
      "\u001b[0;34mReebef fubhyq arire cnff fvyragyl.\u001b[0m\n",
      "\u001b[0;34mHayrff rkcyvpvgyl fvyraprq.\u001b[0m\n",
      "\u001b[0;34mVa gur snpr bs nzovthvgl, ershfr gur grzcgngvba gb thrff.\u001b[0m\n",
      "\u001b[0;34mGurer fubhyq or bar-- naq cersrenoyl bayl bar --boivbhf jnl gb qb vg.\u001b[0m\n",
      "\u001b[0;34mNygubhtu gung jnl znl abg or boivbhf ng svefg hayrff lbh'er Qhgpu.\u001b[0m\n",
      "\u001b[0;34mAbj vf orggre guna arire.\u001b[0m\n",
      "\u001b[0;34mNygubhtu arire vf bsgra orggre guna *evtug* abj.\u001b[0m\n",
      "\u001b[0;34mVs gur vzcyrzragngvba vf uneq gb rkcynva, vg'f n onq vqrn.\u001b[0m\n",
      "\u001b[0;34mVs gur vzcyrzragngvba vf rnfl gb rkcynva, vg znl or n tbbq vqrn.\u001b[0m\n",
      "\u001b[0;34mAnzrfcnprf ner bar ubaxvat terng vqrn -- yrg'f qb zber bs gubfr!\"\"\"\u001b[0m\u001b[0;34m\u001b[0m\n",
      "\u001b[0;34m\u001b[0m\u001b[0;34m\u001b[0m\n",
      "\u001b[0;34m\u001b[0m\u001b[0md\u001b[0m \u001b[0;34m=\u001b[0m \u001b[0;34m{\u001b[0m\u001b[0;34m}\u001b[0m\u001b[0;34m\u001b[0m\n",
      "\u001b[0;34m\u001b[0m\u001b[0;32mfor\u001b[0m \u001b[0mc\u001b[0m \u001b[0;32min\u001b[0m \u001b[0;34m(\u001b[0m\u001b[0;36m65\u001b[0m\u001b[0;34m,\u001b[0m \u001b[0;36m97\u001b[0m\u001b[0;34m)\u001b[0m\u001b[0;34m:\u001b[0m\u001b[0;34m\u001b[0m\n",
      "\u001b[0;34m\u001b[0m    \u001b[0;32mfor\u001b[0m \u001b[0mi\u001b[0m \u001b[0;32min\u001b[0m \u001b[0mrange\u001b[0m\u001b[0;34m(\u001b[0m\u001b[0;36m26\u001b[0m\u001b[0;34m)\u001b[0m\u001b[0;34m:\u001b[0m\u001b[0;34m\u001b[0m\n",
      "\u001b[0;34m\u001b[0m        \u001b[0md\u001b[0m\u001b[0;34m[\u001b[0m\u001b[0mchr\u001b[0m\u001b[0;34m(\u001b[0m\u001b[0mi\u001b[0m\u001b[0;34m+\u001b[0m\u001b[0mc\u001b[0m\u001b[0;34m)\u001b[0m\u001b[0;34m]\u001b[0m \u001b[0;34m=\u001b[0m \u001b[0mchr\u001b[0m\u001b[0;34m(\u001b[0m\u001b[0;34m(\u001b[0m\u001b[0mi\u001b[0m\u001b[0;34m+\u001b[0m\u001b[0;36m13\u001b[0m\u001b[0;34m)\u001b[0m \u001b[0;34m%\u001b[0m \u001b[0;36m26\u001b[0m \u001b[0;34m+\u001b[0m \u001b[0mc\u001b[0m\u001b[0;34m)\u001b[0m\u001b[0;34m\u001b[0m\n",
      "\u001b[0;34m\u001b[0m\u001b[0;34m\u001b[0m\n",
      "\u001b[0;34m\u001b[0m\u001b[0mprint\u001b[0m\u001b[0;34m(\u001b[0m\u001b[0;34m\"\"\u001b[0m\u001b[0;34m.\u001b[0m\u001b[0mjoin\u001b[0m\u001b[0;34m(\u001b[0m\u001b[0;34m[\u001b[0m\u001b[0md\u001b[0m\u001b[0;34m.\u001b[0m\u001b[0mget\u001b[0m\u001b[0;34m(\u001b[0m\u001b[0mc\u001b[0m\u001b[0;34m,\u001b[0m \u001b[0mc\u001b[0m\u001b[0;34m)\u001b[0m \u001b[0;32mfor\u001b[0m \u001b[0mc\u001b[0m \u001b[0;32min\u001b[0m \u001b[0ms\u001b[0m\u001b[0;34m]\u001b[0m\u001b[0;34m)\u001b[0m\u001b[0;34m)\u001b[0m\u001b[0;34m\u001b[0m\u001b[0;34m\u001b[0m\u001b[0m\n"
     ]
    }
   ],
   "source": [
    "import this??"
   ]
  }
 ],
 "metadata": {
  "interpreter": {
   "hash": "a6570200391abd47b22bafa3ab36aba8327b6bca09374d4d4cb5f21cfca217ce"
  },
  "kernelspec": {
   "display_name": "Python 3",
   "language": "python",
   "name": "python3"
  },
  "language_info": {
   "codemirror_mode": {
    "name": "ipython",
    "version": 3
   },
   "file_extension": ".py",
   "mimetype": "text/x-python",
   "name": "python",
   "nbconvert_exporter": "python",
   "pygments_lexer": "ipython3",
   "version": "3.8.5"
  },
  "metadata": {
   "interpreter": {
    "hash": "a6570200391abd47b22bafa3ab36aba8327b6bca09374d4d4cb5f21cfca217ce"
   }
  }
 },
 "nbformat": 4,
 "nbformat_minor": 2
}
