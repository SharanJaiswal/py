{
 "cells": [
  {
   "cell_type": "markdown",
   "metadata": {},
   "source": [
    "### Managing resources easily, so that setup and tear down of those resources can happen automatically\n",
    "### It starts from \"with\", followed by object constructor using \"classname(blah blah)\", followed by the object name alias like \"as obj:\"\n",
    "### Within this scope the object survives. Outside of this scope orif any error occurs in the scope, the object variable kinda deletes the value it holds. The varible still exists.\n",
    "### It really does not deletes it, instead the scope of the value that it holds, gets deleted."
   ]
  },
  {
   "cell_type": "code",
   "execution_count": 2,
   "metadata": {},
   "outputs": [
    {
     "name": "stdout",
     "output_type": "stream",
     "text": [
      "True\n"
     ]
    }
   ],
   "source": [
    "# Emulation of the context manager using the class\n",
    "\n",
    "class Open_File():\n",
    "    def __init__(self, filename, mode):\n",
    "        self.filename = filename\n",
    "        self.mode = mode\n",
    "\n",
    "    # The 'with' keyword calls __enter__ method, after the object gets created once __init__ constructor gets called.\n",
    "    def __enter__(self):    # Act as setup of context manager\n",
    "        self.filehand = open(self.filename, self.mode)\n",
    "        return self.filehand    # this line sends the return value to the object variable in the 'with ... as obj:' statement\n",
    "\n",
    "    def __exit__(self, exc_type, exc_val, exc_traceback):   # act as teardown of the context managers\n",
    "        if self.filehand:\n",
    "            self.filehand.close()\n",
    "\n",
    "with Open_File('newb.txt', 'a') as f:\n",
    "    f.write('\\nTesting from context manager')\n",
    "# here __exit__ method gets called\n",
    "print(f.closed) # Returns True"
   ]
  },
  {
   "cell_type": "code",
   "execution_count": 2,
   "metadata": {},
   "outputs": [
    {
     "name": "stdout",
     "output_type": "stream",
     "text": [
      "True\n"
     ]
    }
   ],
   "source": [
    "# Emulation of the context manager using the function\n",
    "\n",
    "from contextlib import  contextmanager  # this will be used to decorate the generator function\n",
    "\n",
    "@contextmanager\n",
    "def open_file(file, mode):\n",
    "    try:\n",
    "        f = open(file, mode)\n",
    "        yield f # __enter__ part. Until the scope ends, the execution pointer of this function will execute this line and halts here. Once the context gets over, the code after yield gets executed\n",
    "    finally:\n",
    "        f.close()\n",
    "\n",
    "with open_file('newb.txt', 'a') as f:\n",
    "    f.write('\\nLorem ipsum dolor')\n",
    "\n",
    "print(f.closed)"
   ]
  },
  {
   "cell_type": "code",
   "execution_count": 6,
   "metadata": {},
   "outputs": [
    {
     "name": "stdout",
     "output_type": "stream",
     "text": [
      "['graph.py', 'combinatorics.py', '001_linkedList.py', 'hash.py', 'stack.py', 'queue.py', 'binarySearchTree.py', 'tree.py']\n",
      "['survey.xls', 'nasdaq_goog.csv', 'ser3.csv', 'stocks_3_levels.xlsx', 'wmt.csv', '01_panda.ipynb', '03_numpy.ipynb', '02_matplot.ipynb', 'data.csv', '.ipynb_checkpoints', 'stocks.xlsx', 'sosurveydataset', '04_datetime_timedelta.ipynb', 'pilot1.csv']\n",
      "/home/sharan/projects/py/concept_notebooks\n"
     ]
    }
   ],
   "source": [
    "import os\n",
    "# from contextlib import contextmanager     # already imported\n",
    "\n",
    "@ contextmanager\n",
    "def change_dir(destination):\n",
    "    try:\n",
    "        cwd = os.getcwd()\n",
    "        os.chdir(destination)\n",
    "        yield   # this is written here because to halt the execution pointer in this function till here, until the context manager ends its scope\n",
    "    finally:\n",
    "        os.chdir(cwd)\n",
    "\n",
    "with change_dir('../data_struct'):\n",
    "    print(os.listdir())\n",
    "\n",
    "with change_dir('../DSc'):\n",
    "    print(os.listdir())\n",
    "\n",
    "print(os.getcwd())\n",
    "    "
   ]
  }
 ],
 "metadata": {
  "interpreter": {
   "hash": "a6570200391abd47b22bafa3ab36aba8327b6bca09374d4d4cb5f21cfca217ce"
  },
  "kernelspec": {
   "display_name": "Python 3.9.5 64-bit ('base': conda)",
   "name": "python3"
  },
  "language_info": {
   "codemirror_mode": {
    "name": "ipython",
    "version": 3
   },
   "file_extension": ".py",
   "mimetype": "text/x-python",
   "name": "python",
   "nbconvert_exporter": "python",
   "pygments_lexer": "ipython3",
   "version": "3.9.5"
  },
  "orig_nbformat": 4
 },
 "nbformat": 4,
 "nbformat_minor": 2
}
