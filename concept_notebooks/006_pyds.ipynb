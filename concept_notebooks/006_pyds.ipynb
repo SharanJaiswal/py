{
 "cells": [
  {
   "cell_type": "markdown",
   "source": [
    "'>>>' in python terminal is called 'Chevron Prompt'\n",
    "\n",
    "docstrings should be the first line in the function, class modules, so on....., and has to be multi-line comments only. Not regular comments.\n",
    "\n",
    "print(pythonobject.\\_\\_doc\\_\\_)"
   ],
   "metadata": {}
  },
  {
   "cell_type": "code",
   "execution_count": 1,
   "source": [
    "x = 5\n",
    "y = \"John\"\n",
    "print(type(x))\n",
    "print(type(y))"
   ],
   "outputs": [
    {
     "output_type": "stream",
     "name": "stdout",
     "text": [
      "<class 'int'>\n",
      "<class 'str'>\n"
     ]
    }
   ],
   "metadata": {}
  },
  {
   "cell_type": "code",
   "execution_count": 2,
   "source": [
    "x,y,z=\"Orange\", \"Banana\", \"Cherry\"\n",
    "print(x)\n",
    "print(y)\n",
    "print(z)"
   ],
   "outputs": [
    {
     "output_type": "stream",
     "name": "stdout",
     "text": [
      "Orange\n",
      "Banana\n",
      "Cherry\n"
     ]
    }
   ],
   "metadata": {}
  },
  {
   "cell_type": "code",
   "execution_count": 3,
   "source": [
    "x=y=z=\"Orange\"\n",
    "print(x)\n",
    "print(y)\n",
    "print(z)"
   ],
   "outputs": [
    {
     "output_type": "stream",
     "name": "stdout",
     "text": [
      "Orange\n",
      "Orange\n",
      "Orange\n"
     ]
    }
   ],
   "metadata": {}
  },
  {
   "cell_type": "code",
   "execution_count": 1,
   "source": [
    "fruits = [\"apple\", \"banana\", \"guava\"]\n",
    "x,y,z=fruits\n",
    "print(x)\n",
    "print(y)\n",
    "print(z)"
   ],
   "outputs": [
    {
     "output_type": "stream",
     "name": "stdout",
     "text": [
      "apple\n",
      "banana\n",
      "guava\n"
     ]
    }
   ],
   "metadata": {}
  },
  {
   "cell_type": "code",
   "execution_count": 5,
   "source": [
    "#LHS should always be a list or tuple\n",
    "\n",
    "*x = 5,4,8,9,6,3,2,1,5,4,7\n",
    "print(x)"
   ],
   "outputs": [
    {
     "output_type": "error",
     "ename": "SyntaxError",
     "evalue": "starred assignment target must be in a list or tuple (<ipython-input-5-d6da25905974>, line 3)",
     "traceback": [
      "\u001b[0;36m  File \u001b[0;32m\"<ipython-input-5-d6da25905974>\"\u001b[0;36m, line \u001b[0;32m3\u001b[0m\n\u001b[0;31m    *x = 5,4,8,9,6,3,2,1,5,4,7\u001b[0m\n\u001b[0m    ^\u001b[0m\n\u001b[0;31mSyntaxError\u001b[0m\u001b[0;31m:\u001b[0m starred assignment target must be in a list or tuple\n"
     ]
    }
   ],
   "metadata": {
    "scrolled": true
   }
  },
  {
   "cell_type": "code",
   "execution_count": 16,
   "source": [
    "y=[*x] = 5,4,8,9,6,3,2,1,5,4,7\n",
    "print(x)  # list\n",
    "print(y)  # tuple"
   ],
   "outputs": [
    {
     "output_type": "stream",
     "name": "stdout",
     "text": [
      "[5, 4, 8, 9, 6, 3, 2, 1, 5, 4, 7]\n",
      "(5, 4, 8, 9, 6, 3, 2, 1, 5, 4, 7)\n"
     ]
    }
   ],
   "metadata": {}
  },
  {
   "cell_type": "code",
   "execution_count": 6,
   "source": [
    "fruits = [\"apple\", \"banana\", \"guava\"]\n",
    "*x,y=fruits\n",
    "print(x)    # whether its List or Tuple, *x will always be list natively\n",
    "print(y)"
   ],
   "outputs": [
    {
     "output_type": "stream",
     "name": "stdout",
     "text": [
      "['apple', 'banana']\n",
      "guava\n"
     ]
    }
   ],
   "metadata": {}
  },
  {
   "cell_type": "code",
   "execution_count": 7,
   "source": [
    "x=\"Sharan \"\n",
    "y=\"Jaiswal\"\n",
    "\n",
    "def myFunc():\n",
    "    x=\"Saint \"  # this local var will override the global var with the same name.\n",
    "    global z    # For making the scope global, firstly declare the object as global. Then define it.\n",
    "    z=\"A boy\"\n",
    "    global y\n",
    "    y=\"jaiswaaaaaal\"    # Not overriding the global var 'y' with local var 'y'. Instead we are accessing that global variable itself and changing its value.\n",
    "    print(x+y)  #also, if accessing of global var is used for changing its value, then within that scope, it cant be used unless it is changed.\n",
    "\n",
    "myFunc()\n",
    "\n",
    "print(x+y)\n",
    "print(z)"
   ],
   "outputs": [
    {
     "output_type": "stream",
     "name": "stdout",
     "text": [
      "Saint jaiswaaaaaal\n",
      "Sharan jaiswaaaaaal\n",
      "A boy\n"
     ]
    }
   ],
   "metadata": {}
  },
  {
   "cell_type": "code",
   "execution_count": 14,
   "source": [
    "# Thats the order/scope of variable in python\n",
    "\"\"\" LEGB : Local, Enclosing, Global, Built-in \"\"\"\n",
    "\n",
    "x = 'global_x'\n",
    "\n",
    "def extreme():\n",
    "    x = 'extreme_x'\n",
    "    def outer():\n",
    "        x = 'outer_x'\n",
    "        def inner():\n",
    "            # global x    # it will capture real global variable x, if exists\n",
    "            nonlocal x  # it will capture the immediate enclosing scope variable 'x' present, if any. Else it will throw an error\n",
    "            x = 'inner_x'\n",
    "            print(x)\n",
    "        \n",
    "        inner()\n",
    "        print(x)\n",
    "    \n",
    "    outer()\n",
    "    print(x)\n",
    "\n",
    "print(x)\n",
    "print('*'*10)\n",
    "extreme()\n",
    "print('*'*10)\n",
    "print(x)\n",
    "print('*'*10)\n",
    "extreme()"
   ],
   "outputs": [
    {
     "output_type": "stream",
     "name": "stdout",
     "text": [
      "global_x\n",
      "**********\n",
      "inner_x\n",
      "inner_x\n",
      "extreme_x\n",
      "**********\n",
      "global_x\n",
      "**********\n",
      "inner_x\n",
      "inner_x\n",
      "extreme_x\n"
     ]
    }
   ],
   "metadata": {}
  },
  {
   "cell_type": "markdown",
   "source": [
    "<code>type(var)</code> : <code><class 'type'></code>\n",
    "\n",
    "Text Type: \tstr\n",
    "\n",
    "Numeric Types: \tint, float, complex\n",
    "\n",
    "Sequence Types: \tlist, tuple, range\n",
    "\n",
    "Mapping Type: \tdict\n",
    "\n",
    "Set Types: \tset, frozenset\n",
    "\n",
    "Boolean Type: \tbool\n",
    "\n",
    "Binary Types: \tbytes, bytearray, memoryview"
   ],
   "metadata": {}
  },
  {
   "cell_type": "code",
   "execution_count": 8,
   "source": [
    "x = 2\n",
    "print(isinstance(x, int))\n",
    "\n",
    "# If the type parameter is in tuple (any other iterable is not allowed), this function will return True if the object is one of the types in the tuple.\n",
    "x = isinstance(\"Hello\", (float, int, str, list, dict, tuple))\n",
    "print(x)\n",
    "\n",
    "\n",
    "class myObj:\n",
    "  name = \"John\"\n",
    "y = myObj()\n",
    "x = isinstance(y, myObj)\n",
    "print(x)"
   ],
   "outputs": [
    {
     "output_type": "stream",
     "name": "stdout",
     "text": [
      "True\n",
      "True\n",
      "True\n"
     ]
    }
   ],
   "metadata": {}
  },
  {
   "cell_type": "code",
   "execution_count": 47,
   "source": [
    "import random\n",
    "print(random.randrange(1, 10))"
   ],
   "outputs": [
    {
     "output_type": "stream",
     "name": "stdout",
     "text": [
      "8\n"
     ]
    }
   ],
   "metadata": {}
  },
  {
   "cell_type": "code",
   "execution_count": 10,
   "source": [
    "txt = \"The best things in life are free!\"\n",
    "print(\"free\" in txt)\n",
    "if \"free\" in txt:\n",
    "  print(\"Yes, 'free' is present.\")\n",
    "if \"expensive\" not in txt:\n",
    "  print(\"Yes, 'expensive' is NOT present.\")"
   ],
   "outputs": [
    {
     "output_type": "stream",
     "name": "stdout",
     "text": [
      "True\n",
      "Yes, 'free' is present.\n",
      "Yes, 'expensive' is NOT present.\n"
     ]
    }
   ],
   "metadata": {}
  },
  {
   "cell_type": "code",
   "execution_count": 11,
   "source": [
    "a = 2\n",
    "b = 330\n",
    "\n",
    "if a < b: print(\"a is greater than b\")\n",
    "    \n",
    "print(\"A\") if a > b else print(\"B\")\n",
    "\n",
    "a = 330\n",
    "b = 330\n",
    "print(\"A\") if a > b else print(\"=\") if a == b else print(\"B\") "
   ],
   "outputs": [
    {
     "output_type": "stream",
     "name": "stdout",
     "text": [
      "a is greater than b\n",
      "B\n",
      "=\n"
     ]
    }
   ],
   "metadata": {}
  },
  {
   "cell_type": "code",
   "execution_count": 12,
   "source": [
    "for x in range(6):\n",
    "  print(x)\n",
    " # if x == 5:\n",
    " # \tbreak\n",
    "  continue\n",
    "else:\n",
    "  print(\"Finally finished!\")\n",
    "# The else keyword in a for loop specifies a block of code to be executed when the loop is finished. The else block will NOT be executed if the loop is stopped by a break statement.\n",
    "# else can be used in while loops also\n",
    "# for loops cannot be empty, but if you for some reason have a for loop with no content, put in the pass statement to avoid getting an error.\n",
    "\n",
    "for x in [0, 1, 2]:\n",
    "  pass \n",
    "\n",
    "# iteration variable can be more than 1 on for loop, generally used to iterate dict.items()"
   ],
   "outputs": [
    {
     "output_type": "stream",
     "name": "stdout",
     "text": [
      "0\n",
      "1\n",
      "2\n",
      "3\n",
      "4\n",
      "5\n",
      "Finally finished!\n"
     ]
    }
   ],
   "metadata": {
    "scrolled": false
   }
  },
  {
   "cell_type": "markdown",
   "source": [
    "# Functions"
   ],
   "metadata": {}
  },
  {
   "cell_type": "code",
   "execution_count": 17,
   "source": [
    "def func(x):\n",
    "    print(type(x))    # normal user defined function sends collection as a whole to the function\n",
    "ages = [5, 12, 17, 18, 24, 32]\n",
    "func(ages)\n",
    "ages = (5, 12, 17, 18, 24, 32)\n",
    "func(ages)"
   ],
   "outputs": [
    {
     "output_type": "stream",
     "name": "stdout",
     "text": [
      "<class 'list'>\n",
      "<class 'tuple'>\n"
     ]
    }
   ],
   "metadata": {}
  },
  {
   "cell_type": "code",
   "execution_count": 4,
   "source": [
    "def my_function(*kids):  # Arbitrary Arguments, *args . add a * before the parameter name in the function definition. This way the function will receive a tuple of arguments, and can access the items accordingly\n",
    "  print(\"The youngest child is \" + kids[2])\n",
    "  for name in kids:\n",
    "    print(name)\n",
    "  print(type(kids))\n",
    "\n",
    "#my_function[\"Emil\", \"Tobias\", \"Linus\"] it wont work\n",
    "#my_function([\"Emil\", \"Tobias\", \"Linus\"]) neither this will work\n",
    "my_function(\"Emil\", \"Tobias\", \"Linus\")\n",
    "\n",
    "#####################################################\n",
    "\n",
    "def my_function(child3, child2, child1, child4 = \"Adam\"):  # Keyword Arguments *kwargs . with known number of keyword arguments\n",
    "    print(\"The youngest child is \" + child3)\n",
    "    print(\"The youngest child is \" + child4)   # default value can also be defined for an argument along with this method\n",
    "\n",
    "my_function(child2 = \"Emil\", child3 = \"Tobias\", child1 = \"Linus\")\n",
    "\n",
    "#####################################################\n",
    "\n",
    "def my_function(**kid):  # Arbritary Keyword Arguments **kwargs . with unknown number of keyword arguments\n",
    "  print(\"His last name is \" + kid[\"lname\"])\n",
    "  print(type(kid))\n",
    "\n",
    "my_function(fname = \"Tobias\", lname = \"Refsnes\") \n",
    "\n",
    "#####################################################\n",
    "\n",
    "def hello(*args, **kwargs):\n",
    "    print(args)\n",
    "    print(kwargs)\n",
    "\n",
    "# hello(\"Sharan\", age = 24, \"Jaiswal\", dob = 1999) # It wont run. So order of type of parameters must be followed\n",
    "hello(\"Sharan\", \"Jaiswal\", age = 26, dob = 1999)\n",
    "\n",
    "lst=[\"Sharan\", \"Jaiswal\"]\n",
    "dict_args = {'age': 26, 'dob':1999}\n",
    "hello(lst, dict_args)    # this will transfer arguments as positional/arbritary args, and kwargs will get nothing\n",
    "#rectified:\n",
    "hello(*lst, **dict_args)\n",
    "# hello(**dict_args, *lst) # Error. Even now also, arguments order cant be changed wrt parameters"
   ],
   "outputs": [
    {
     "output_type": "stream",
     "name": "stdout",
     "text": [
      "The youngest child is Linus\n",
      "Emil\n",
      "Tobias\n",
      "Linus\n",
      "<class 'tuple'>\n",
      "The youngest child is Tobias\n",
      "The youngest child is Adam\n",
      "His last name is Refsnes\n",
      "<class 'dict'>\n",
      "('Sharan', 'Jaiswal')\n",
      "{'age': 26, 'dob': 1999}\n",
      "(['Sharan', 'Jaiswal'], {'age': 26, 'dob': 1999})\n",
      "{}\n",
      "('Sharan', 'Jaiswal')\n",
      "{'age': 26, 'dob': 1999}\n"
     ]
    }
   ],
   "metadata": {}
  },
  {
   "cell_type": "code",
   "execution_count": 3,
   "source": [
    "def my_function(country = \"Norway\"):\n",
    "  print(\"I am from \" + country)\n",
    "\n",
    "my_function(\"India\")\n",
    "my_function()\n",
    "\n",
    "#####################################################\n",
    "\n",
    "def my_function(food):  # Passing a list as an arguments\n",
    "  for x in food:\n",
    "    print(x)\n",
    "  print(type(food))\n",
    "\n",
    "fruits = [\"apple\", \"banana\", \"cherry\"]\n",
    "\n",
    "my_function(fruits)\n",
    "\n",
    "#####################################################\n",
    "\n",
    "def myfunction():  # when no function definition is present\n",
    "  pass\n",
    "\n",
    "#####################################################\n",
    "\n",
    "def tri_recursion(k):\n",
    "    if (k > 0):\n",
    "        result = k + tri_recursion(k - 1)\n",
    "        print(result)\n",
    "    else:\n",
    "        result = 0\n",
    "        print(result)\n",
    "    return result\n",
    "    \n",
    "tri_recursion(3)"
   ],
   "outputs": [
    {
     "output_type": "stream",
     "name": "stdout",
     "text": [
      "I am from India\n",
      "I am from Norway\n",
      "apple\n",
      "banana\n",
      "cherry\n",
      "<class 'list'>\n",
      "0\n",
      "1\n",
      "3\n",
      "6\n"
     ]
    },
    {
     "output_type": "execute_result",
     "data": {
      "text/plain": [
       "6"
      ]
     },
     "metadata": {},
     "execution_count": 3
    }
   ],
   "metadata": {
    "scrolled": true
   }
  },
  {
   "cell_type": "code",
   "execution_count": 16,
   "source": [
    "def evenoddsum(lst):\n",
    "    esum=0\n",
    "    osum=0\n",
    "    for i in lst:\n",
    "        if (i%2==0):\n",
    "            esum=esum+i\n",
    "        else:\n",
    "            osum=osum+i\n",
    "    return esum, osum    # multiple returns are always items of a tuple\n",
    "\n",
    "lst = [1,2,3,4,5,6,7,8,9,0]\n",
    "print(evenoddsum(lst))"
   ],
   "outputs": [
    {
     "output_type": "stream",
     "name": "stdout",
     "text": [
      "(20, 25)\n"
     ]
    }
   ],
   "metadata": {}
  },
  {
   "cell_type": "markdown",
   "source": [
    "# Lambda\n",
    "anonymous function; one or many argsuments ===> one return value\n",
    "\n",
    "It returns expression value, even without the return keyword"
   ],
   "metadata": {}
  },
  {
   "cell_type": "code",
   "execution_count": 17,
   "source": [
    "x = lambda a, b : a * b +10\n",
    "print(x(5, 6))\n",
    "\n",
    "def myfunc(n):\n",
    "  return lambda a : a * n\n",
    "mydoubler = myfunc(2)\n",
    "mytripler = myfunc(3)\n",
    "print(mydoubler(11))\n",
    "print(mytripler(11))\n",
    "\n",
    "def build_quadratic_function(a,b,c):\n",
    "    \"\"\"Returns ther function f(x) = ax^2 + bx + c\"\"\"\n",
    "    return lambda x : a*x**2 + b*x + c\n",
    "f = build_quadratic_function(2, 3, -5)\n",
    "print(f(0))\n",
    "print(f(1))\n",
    "print(f(2))\n",
    "build_quadratic_function(3, 0, 1)(2)  # 3x^2+1 evaluated for x=2"
   ],
   "outputs": [
    {
     "output_type": "stream",
     "name": "stdout",
     "text": [
      "40\n",
      "22\n",
      "33\n",
      "-5\n",
      "0\n",
      "9\n"
     ]
    },
    {
     "output_type": "execute_result",
     "data": {
      "text/plain": [
       "13"
      ]
     },
     "metadata": {},
     "execution_count": 17
    }
   ],
   "metadata": {}
  },
  {
   "cell_type": "markdown",
   "source": [
    "# Exception Handling\n",
    "Errors are composed of SYNTAX ERRORS & EXCEPTIONS(caught during run-time).\n",
    "\n",
    "## try: ... except: ... \\[else: ... \\]\\[finally: ...\\]\n",
    "1. Test block of code for errors\n",
    "2. handle the error, You can define as many exception blocks as you want, e.g. if you want to execute a special block of code for a special kind of error. Or, just you can send the error message to the user. You can use here **quit()** function to exit the program.\n",
    "3. this block is defined with code, which will be executed when no errors is raised.\n",
    "4. executes code, regardless of the result of try-except block. Generally used for cleanup operations."
   ],
   "metadata": {}
  },
  {
   "cell_type": "markdown",
   "source": [
    "In custom error message handling, we write the possible child error message at the top in the exception ladder. At last, we write the exception of the 'Exception' class"
   ],
   "metadata": {}
  },
  {
   "cell_type": "code",
   "execution_count": 18,
   "source": [
    "try:\n",
    "  print(jabba)\n",
    "except NameError:  # as ne # Print one message if the try block raises a NameError and another for other errors\n",
    "  print(\"Variable jabba is not defined\")\n",
    "except:\n",
    "  print(\"Something else went wrong\") "
   ],
   "outputs": [
    {
     "output_type": "stream",
     "name": "stdout",
     "text": [
      "Variable jabba is not defined\n"
     ]
    }
   ],
   "metadata": {}
  },
  {
   "cell_type": "code",
   "execution_count": 19,
   "source": [
    "try:\n",
    "    a=1\n",
    "    b='s'\n",
    "    c=a+b\n",
    "except NameError as ex1:\n",
    "    print(\"The user have not defined the variable\")\n",
    "except Exception as ex:\n",
    "    print(ex)    # or here also one can put their custom message"
   ],
   "outputs": [
    {
     "output_type": "stream",
     "name": "stdout",
     "text": [
      "unsupported operand type(s) for +: 'int' and 'str'\n"
     ]
    }
   ],
   "metadata": {}
  },
  {
   "cell_type": "code",
   "execution_count": 20,
   "source": [
    "try:\n",
    "    a=1\n",
    "    b='s'\n",
    "    c=a+b\n",
    "except NameError:\n",
    "    print(\"The user have not defined the variable\")\n",
    "except TypeError:\n",
    "    print(\"Try to make datatype similar\")\n",
    "except Exception as ex:\n",
    "    print(ex)    # or here also one can put their custom message"
   ],
   "outputs": [
    {
     "output_type": "stream",
     "name": "stdout",
     "text": [
      "Try to make datatype similar\n"
     ]
    }
   ],
   "metadata": {}
  },
  {
   "cell_type": "code",
   "execution_count": 2,
   "source": [
    "try:\n",
    "    a=1\n",
    "    b='s'\n",
    "    c=a+b\n",
    "except (NameError, TypeError):\n",
    "    print(\"Try to make datatype similar or The user have not defined the variable\")\n",
    "except Exception as ex:\n",
    "    print(ex)"
   ],
   "outputs": [
    {
     "output_type": "stream",
     "name": "stdout",
     "text": [
      "Try to make datatype similar or The user have not defined the variable\n"
     ]
    }
   ],
   "metadata": {}
  },
  {
   "cell_type": "code",
   "execution_count": 21,
   "source": [
    "try:\n",
    "  print(\"Hello\")\n",
    "except:\n",
    "  print(\"Something went wrong\")\n",
    "else:\n",
    "  print(\"Nothing went wrong\") "
   ],
   "outputs": [
    {
     "output_type": "stream",
     "name": "stdout",
     "text": [
      "Hello\n",
      "Nothing went wrong\n"
     ]
    }
   ],
   "metadata": {}
  },
  {
   "cell_type": "code",
   "execution_count": 52,
   "source": [
    "y=10\n",
    "#del y # toggle this line as a comment to see the effect\n",
    "try:\n",
    "  print(y)\n",
    "except:\n",
    "  print(\"Something went wrong\")\n",
    "else:\n",
    "  print(\"try didnt gets executed\")\n",
    "finally:\n",
    "  print(\"The 'try except' is finished\") "
   ],
   "outputs": [
    {
     "output_type": "stream",
     "name": "stdout",
     "text": [
      "Something went wrong\n",
      "The 'try except' is finished\n"
     ]
    }
   ],
   "metadata": {}
  },
  {
   "cell_type": "markdown",
   "source": [
    "# Raise/Throw an exception\n",
    "An exception can be raised if certain user-defined condition occurs.\n",
    "You can define what kind of error to raise, and the text to print to the user."
   ],
   "metadata": {}
  },
  {
   "cell_type": "markdown",
   "source": [
    "#### Exception\n",
    "This is the main exception class. All the other exception class are derived from this exception class."
   ],
   "metadata": {}
  },
  {
   "cell_type": "code",
   "execution_count": 23,
   "source": [
    "x = -1\n",
    "\n",
    "if x < 0:\n",
    "  raise Exception(\"Sorry, no numbers below zero\") \n",
    "\n",
    "# code will not execute after this, even though error is raised and handeled"
   ],
   "outputs": [
    {
     "output_type": "error",
     "ename": "Exception",
     "evalue": "Sorry, no numbers below zero",
     "traceback": [
      "\u001b[0;31m---------------------------------------------------------------------------\u001b[0m",
      "\u001b[0;31mException\u001b[0m                                 Traceback (most recent call last)",
      "\u001b[0;32m<ipython-input-23-1129764d2a7a>\u001b[0m in \u001b[0;36m<module>\u001b[0;34m\u001b[0m\n\u001b[1;32m      2\u001b[0m \u001b[0;34m\u001b[0m\u001b[0m\n\u001b[1;32m      3\u001b[0m \u001b[0;32mif\u001b[0m \u001b[0mx\u001b[0m \u001b[0;34m<\u001b[0m \u001b[0;36m0\u001b[0m\u001b[0;34m:\u001b[0m\u001b[0;34m\u001b[0m\u001b[0;34m\u001b[0m\u001b[0m\n\u001b[0;32m----> 4\u001b[0;31m   \u001b[0;32mraise\u001b[0m \u001b[0mException\u001b[0m\u001b[0;34m(\u001b[0m\u001b[0;34m\"Sorry, no numbers below zero\"\u001b[0m\u001b[0;34m)\u001b[0m\u001b[0;34m\u001b[0m\u001b[0;34m\u001b[0m\u001b[0m\n\u001b[0m\u001b[1;32m      5\u001b[0m \u001b[0;34m\u001b[0m\u001b[0m\n\u001b[1;32m      6\u001b[0m \u001b[0;31m# code will not execute after this, even though error is raised and handeled\u001b[0m\u001b[0;34m\u001b[0m\u001b[0;34m\u001b[0m\u001b[0;34m\u001b[0m\u001b[0m\n",
      "\u001b[0;31mException\u001b[0m: Sorry, no numbers below zero"
     ]
    }
   ],
   "metadata": {}
  },
  {
   "cell_type": "code",
   "execution_count": 24,
   "source": [
    "p=q"
   ],
   "outputs": [
    {
     "output_type": "error",
     "ename": "NameError",
     "evalue": "name 'q' is not defined",
     "traceback": [
      "\u001b[0;31m---------------------------------------------------------------------------\u001b[0m",
      "\u001b[0;31mNameError\u001b[0m                                 Traceback (most recent call last)",
      "\u001b[0;32m<ipython-input-24-af532074f79a>\u001b[0m in \u001b[0;36m<module>\u001b[0;34m\u001b[0m\n\u001b[0;32m----> 1\u001b[0;31m \u001b[0mp\u001b[0m\u001b[0;34m=\u001b[0m\u001b[0mq\u001b[0m\u001b[0;34m\u001b[0m\u001b[0;34m\u001b[0m\u001b[0m\n\u001b[0m",
      "\u001b[0;31mNameError\u001b[0m: name 'q' is not defined"
     ]
    }
   ],
   "metadata": {}
  },
  {
   "cell_type": "markdown",
   "source": [
    "This above specific type of exception, i.e., 'NameError' exception is basically derived from the 'Exception' class."
   ],
   "metadata": {}
  },
  {
   "cell_type": "code",
   "execution_count": 25,
   "source": [
    "try:\n",
    "    p=q\n",
    "except Exception as ex:    # here we called the Exception Class object and aliased it as 'ex'\n",
    "    print(ex)    # here we can see that the ex contains the same error message string that was given in the above cell execution"
   ],
   "outputs": [
    {
     "output_type": "stream",
     "name": "stdout",
     "text": [
      "name 'q' is not defined\n"
     ]
    }
   ],
   "metadata": {}
  },
  {
   "cell_type": "markdown",
   "source": [
    "One can handle this exception and customize this exception message. This is called exception handling, and we did it in the previous section."
   ],
   "metadata": {}
  },
  {
   "cell_type": "code",
   "execution_count": 26,
   "source": [
    "x = \"hello\"\n",
    "\n",
    "if not type(x) is int:\n",
    "  raise TypeError(\"Only integers are allowed\") "
   ],
   "outputs": [
    {
     "output_type": "error",
     "ename": "TypeError",
     "evalue": "Only integers are allowed",
     "traceback": [
      "\u001b[0;31m---------------------------------------------------------------------------\u001b[0m",
      "\u001b[0;31mTypeError\u001b[0m                                 Traceback (most recent call last)",
      "\u001b[0;32m<ipython-input-26-ac71689f5629>\u001b[0m in \u001b[0;36m<module>\u001b[0;34m\u001b[0m\n\u001b[1;32m      2\u001b[0m \u001b[0;34m\u001b[0m\u001b[0m\n\u001b[1;32m      3\u001b[0m \u001b[0;32mif\u001b[0m \u001b[0;32mnot\u001b[0m \u001b[0mtype\u001b[0m\u001b[0;34m(\u001b[0m\u001b[0mx\u001b[0m\u001b[0;34m)\u001b[0m \u001b[0;32mis\u001b[0m \u001b[0mint\u001b[0m\u001b[0;34m:\u001b[0m\u001b[0;34m\u001b[0m\u001b[0;34m\u001b[0m\u001b[0m\n\u001b[0;32m----> 4\u001b[0;31m   \u001b[0;32mraise\u001b[0m \u001b[0mTypeError\u001b[0m\u001b[0;34m(\u001b[0m\u001b[0;34m\"Only integers are allowed\"\u001b[0m\u001b[0;34m)\u001b[0m\u001b[0;34m\u001b[0m\u001b[0;34m\u001b[0m\u001b[0m\n\u001b[0m",
      "\u001b[0;31mTypeError\u001b[0m: Only integers are allowed"
     ]
    }
   ],
   "metadata": {}
  },
  {
   "cell_type": "code",
   "execution_count": 1,
   "source": [
    "x = \"hello\"\n",
    "# if error/exception is raised in try block, then only it can be handeled, else\n",
    "# exception can be raised anywhere by own wish, even if error occurs or not\n",
    "if type(x) is not int:\n",
    "    try:\n",
    "        raise TypeError(\"Only integers are allowed\")\n",
    "    except:\n",
    "        print('handled')\n",
    "    finally:\n",
    "        raise Exception('koi nahi hai idhar')"
   ],
   "outputs": [
    {
     "output_type": "stream",
     "name": "stdout",
     "text": [
      "handled\n"
     ]
    },
    {
     "output_type": "error",
     "ename": "Exception",
     "evalue": "koi nahi hai idhar",
     "traceback": [
      "\u001b[0;31m---------------------------------------------------------------------------\u001b[0m",
      "\u001b[0;31mException\u001b[0m                                 Traceback (most recent call last)",
      "\u001b[0;32m<ipython-input-1-c8a4329f25c7>\u001b[0m in \u001b[0;36m<module>\u001b[0;34m\u001b[0m\n\u001b[1;32m      8\u001b[0m         \u001b[0mprint\u001b[0m\u001b[0;34m(\u001b[0m\u001b[0;34m'handled'\u001b[0m\u001b[0;34m)\u001b[0m\u001b[0;34m\u001b[0m\u001b[0;34m\u001b[0m\u001b[0m\n\u001b[1;32m      9\u001b[0m     \u001b[0;32mfinally\u001b[0m\u001b[0;34m:\u001b[0m\u001b[0;34m\u001b[0m\u001b[0;34m\u001b[0m\u001b[0m\n\u001b[0;32m---> 10\u001b[0;31m         \u001b[0;32mraise\u001b[0m \u001b[0mException\u001b[0m\u001b[0;34m(\u001b[0m\u001b[0;34m'koi nahi hai idhar'\u001b[0m\u001b[0;34m)\u001b[0m\u001b[0;34m\u001b[0m\u001b[0;34m\u001b[0m\u001b[0m\n\u001b[0m",
      "\u001b[0;31mException\u001b[0m: koi nahi hai idhar"
     ]
    }
   ],
   "metadata": {}
  },
  {
   "cell_type": "code",
   "execution_count": 2,
   "source": [
    "if type(x) is not int:\n",
    "    try:\n",
    "        raise TypeError(\"Only integers are allowed\")\n",
    "    except TypeError as te:\n",
    "        print(te)\n",
    "    except:\n",
    "        print('handled')\n",
    "    finally:\n",
    "        raise Exception('koi nahi hai idhar')"
   ],
   "outputs": [
    {
     "output_type": "stream",
     "name": "stdout",
     "text": [
      "Only integers are allowed\n"
     ]
    },
    {
     "output_type": "error",
     "ename": "Exception",
     "evalue": "koi nahi hai idhar",
     "traceback": [
      "\u001b[0;31m---------------------------------------------------------------------------\u001b[0m",
      "\u001b[0;31mException\u001b[0m                                 Traceback (most recent call last)",
      "\u001b[0;32m<ipython-input-2-f9f5bb45898e>\u001b[0m in \u001b[0;36m<module>\u001b[0;34m\u001b[0m\n\u001b[1;32m      7\u001b[0m         \u001b[0mprint\u001b[0m\u001b[0;34m(\u001b[0m\u001b[0;34m'handled'\u001b[0m\u001b[0;34m)\u001b[0m\u001b[0;34m\u001b[0m\u001b[0;34m\u001b[0m\u001b[0m\n\u001b[1;32m      8\u001b[0m     \u001b[0;32mfinally\u001b[0m\u001b[0;34m:\u001b[0m\u001b[0;34m\u001b[0m\u001b[0;34m\u001b[0m\u001b[0m\n\u001b[0;32m----> 9\u001b[0;31m         \u001b[0;32mraise\u001b[0m \u001b[0mException\u001b[0m\u001b[0;34m(\u001b[0m\u001b[0;34m'koi nahi hai idhar'\u001b[0m\u001b[0;34m)\u001b[0m\u001b[0;34m\u001b[0m\u001b[0;34m\u001b[0m\u001b[0m\n\u001b[0m",
      "\u001b[0;31mException\u001b[0m: koi nahi hai idhar"
     ]
    }
   ],
   "metadata": {}
  },
  {
   "cell_type": "code",
   "execution_count": 3,
   "source": [
    "if type(x) is not int:\n",
    "    try:\n",
    "        raise TypeError(\"Only integers are allowed\")\n",
    "    except:\n",
    "        print('handled')\n",
    "    except TypeError as te:\n",
    "        print(te)\n",
    "    finally:\n",
    "        raise Exception('koi nahi hai idhar')"
   ],
   "outputs": [
    {
     "output_type": "error",
     "ename": "SyntaxError",
     "evalue": "default 'except:' must be last (<ipython-input-3-8925b71ba798>, line 3)",
     "traceback": [
      "\u001b[0;36m  File \u001b[0;32m\"<ipython-input-3-8925b71ba798>\"\u001b[0;36m, line \u001b[0;32m3\u001b[0m\n\u001b[0;31m    raise TypeError(\"Only integers are allowed\")\u001b[0m\n\u001b[0m    ^\u001b[0m\n\u001b[0;31mSyntaxError\u001b[0m\u001b[0;31m:\u001b[0m default 'except:' must be last\n"
     ]
    }
   ],
   "metadata": {}
  },
  {
   "cell_type": "markdown",
   "source": [
    "### Creating Custom Exception"
   ],
   "metadata": {}
  },
  {
   "cell_type": "code",
   "execution_count": 3,
   "source": [
    "class MyError(Exception):\n",
    "    pass"
   ],
   "outputs": [],
   "metadata": {}
  },
  {
   "cell_type": "code",
   "execution_count": 4,
   "source": [
    "raise MyError"
   ],
   "outputs": [
    {
     "output_type": "error",
     "ename": "MyError",
     "evalue": "",
     "traceback": [
      "\u001b[0;31m---------------------------------------------------------------------------\u001b[0m",
      "\u001b[0;31mMyError\u001b[0m                                   Traceback (most recent call last)",
      "\u001b[0;32m<ipython-input-4-6f28808d74c7>\u001b[0m in \u001b[0;36m<module>\u001b[0;34m\u001b[0m\n\u001b[0;32m----> 1\u001b[0;31m \u001b[0;32mraise\u001b[0m \u001b[0mMyError\u001b[0m\u001b[0;34m\u001b[0m\u001b[0;34m\u001b[0m\u001b[0m\n\u001b[0m",
      "\u001b[0;31mMyError\u001b[0m: "
     ]
    }
   ],
   "metadata": {}
  },
  {
   "cell_type": "code",
   "execution_count": 5,
   "source": [
    "class MyError(Exception):\n",
    "    pass"
   ],
   "outputs": [],
   "metadata": {}
  },
  {
   "cell_type": "code",
   "execution_count": 6,
   "source": [
    "raise MyError(\"My custom message\")"
   ],
   "outputs": [
    {
     "output_type": "error",
     "ename": "MyError",
     "evalue": "My custom message",
     "traceback": [
      "\u001b[0;31m---------------------------------------------------------------------------\u001b[0m",
      "\u001b[0;31mMyError\u001b[0m                                   Traceback (most recent call last)",
      "\u001b[0;32m<ipython-input-6-db846e3222c9>\u001b[0m in \u001b[0;36m<module>\u001b[0;34m\u001b[0m\n\u001b[0;32m----> 1\u001b[0;31m \u001b[0;32mraise\u001b[0m \u001b[0mMyError\u001b[0m\u001b[0;34m(\u001b[0m\u001b[0;34m\"My custom message\"\u001b[0m\u001b[0;34m)\u001b[0m\u001b[0;34m\u001b[0m\u001b[0;34m\u001b[0m\u001b[0m\n\u001b[0m",
      "\u001b[0;31mMyError\u001b[0m: My custom message"
     ]
    }
   ],
   "metadata": {}
  },
  {
   "cell_type": "code",
   "execution_count": 1,
   "source": [
    "class Error(Exception):    # deriving Exception class into custom generic class.\n",
    "    pass    # instead defining any particular exception, we'll print our own exception\n",
    "\n",
    "class dobException(Error):\n",
    "    pass\n",
    "\n",
    "year=int(input(\"Enter the year of birth: \"))\n",
    "age=2021-year\n",
    "try:\n",
    "    if age<=30 and age>20:\n",
    "        pass\n",
    "    else:\n",
    "        raise dobException\n",
    "except dobException:\n",
    "    print(\"age out of range\")"
   ],
   "outputs": [
    {
     "output_type": "error",
     "ename": "ValueError",
     "evalue": "invalid literal for int() with base 10: ''",
     "traceback": [
      "\u001b[0;31m---------------------------------------------------------------------------\u001b[0m",
      "\u001b[0;31mValueError\u001b[0m                                Traceback (most recent call last)",
      "\u001b[0;32m<ipython-input-1-c44f6162444b>\u001b[0m in \u001b[0;36m<module>\u001b[0;34m\u001b[0m\n\u001b[1;32m      5\u001b[0m     \u001b[0;32mpass\u001b[0m\u001b[0;34m\u001b[0m\u001b[0;34m\u001b[0m\u001b[0m\n\u001b[1;32m      6\u001b[0m \u001b[0;34m\u001b[0m\u001b[0m\n\u001b[0;32m----> 7\u001b[0;31m \u001b[0myear\u001b[0m\u001b[0;34m=\u001b[0m\u001b[0mint\u001b[0m\u001b[0;34m(\u001b[0m\u001b[0minput\u001b[0m\u001b[0;34m(\u001b[0m\u001b[0;34m\"Enter the year of birth: \"\u001b[0m\u001b[0;34m)\u001b[0m\u001b[0;34m)\u001b[0m\u001b[0;34m\u001b[0m\u001b[0;34m\u001b[0m\u001b[0m\n\u001b[0m\u001b[1;32m      8\u001b[0m \u001b[0mage\u001b[0m\u001b[0;34m=\u001b[0m\u001b[0;36m2021\u001b[0m\u001b[0;34m-\u001b[0m\u001b[0myear\u001b[0m\u001b[0;34m\u001b[0m\u001b[0;34m\u001b[0m\u001b[0m\n\u001b[1;32m      9\u001b[0m \u001b[0;32mtry\u001b[0m\u001b[0;34m:\u001b[0m\u001b[0;34m\u001b[0m\u001b[0;34m\u001b[0m\u001b[0m\n",
      "\u001b[0;31mValueError\u001b[0m: invalid literal for int() with base 10: ''"
     ]
    }
   ],
   "metadata": {}
  },
  {
   "cell_type": "markdown",
   "source": [
    "LEARN COMMON ERROR TYPES AND THEIR PROCESS TO RAISE ERROR TYPE AND THEIR HANDLING"
   ],
   "metadata": {}
  },
  {
   "cell_type": "markdown",
   "source": [
    "# Built-in Function of python"
   ],
   "metadata": {}
  },
  {
   "cell_type": "markdown",
   "source": [
    "abs(\\<num\\>)\n",
    "\n",
    "all(\\<iterable\\>) # returns True if all the elements from the iterable are True. Else False.\n",
    "\n",
    "any(\\<iterable\\>)\n",
    "\n",
    "bin(\\<num\\>)  # return binary number of integer \\<num\\>. Other numbers are not allowed\n",
    "\n",
    "bool()  # It will return False if parameters will be empty objects like empty list, dictionary, tuple, string, 0, 0.00 ..., False, None\n",
    "\n",
    "complex(\\['\\]real, \\[imaginary number pary w/o 'j'\\]\\['\\])  # outputs (r+ij)\n",
    "\n",
    "filter(bool returning function for each item in iterable, iterable) # returns an iterator where the items are filtered through a function to test if the item is accepted or not.\n",
    "\n",
    "min() max()\n",
    "\n",
    "ord() . It returns the number representing the unicode code of a specified character.\n",
    "\n",
    "chr() . returns the character that represents the specified unicode.\n",
    "\n",
    "pow(base, exponent\\[, modulus\\])    # modulus is always any integer except 0, allowed only when base and exponent are integer.\n",
    "\n",
    "hash()  Returns the hash value of a specified object"
   ],
   "metadata": {}
  },
  {
   "cell_type": "code",
   "execution_count": 69,
   "source": [
    "all([[]])   # even empty list as an iterable element is not considered as True"
   ],
   "outputs": [
    {
     "output_type": "execute_result",
     "data": {
      "text/plain": [
       "False"
      ]
     },
     "metadata": {},
     "execution_count": 69
    }
   ],
   "metadata": {}
  },
  {
   "cell_type": "markdown",
   "source": [
    "# FILTER Function\n",
    "callable(object_name).....    Returns True/False from the callig fucntion. But filter returns iterator of elements which are passes as true from the iterable."
   ],
   "metadata": {}
  },
  {
   "cell_type": "code",
   "execution_count": 81,
   "source": [
    "def myFunc(x):\n",
    "    if x < 18:\n",
    "        print(type(x))    # filter function sends one by one colletion items. NOT whole item at a time, as a normal function\n",
    "        return False\n",
    "    else:\n",
    "        return True\n",
    "\n",
    "# filter only looks for true value. not false in general. Above AKA: filter(lambda num: num<18, ages)\n",
    "\n",
    "ages = [5, 12, 17, 18, 24, 32]\n",
    "ads=adults = filter(myFunc, ages)\n",
    "print(adults)\n",
    "\n",
    "#print(list(adults))\n",
    "for x in adults:\n",
    "    print(x)\n",
    "    \n",
    "# testing 'all' on iterator\n",
    "print(all(ads))"
   ],
   "outputs": [
    {
     "output_type": "stream",
     "name": "stdout",
     "text": [
      "<filter object at 0x7fb7a6f25640>\n",
      "<class 'int'>\n",
      "<class 'int'>\n",
      "<class 'int'>\n",
      "18\n",
      "24\n",
      "32\n",
      "True\n"
     ]
    }
   ],
   "metadata": {
    "scrolled": true
   }
  },
  {
   "cell_type": "markdown",
   "source": [
    "# MAP Function"
   ],
   "metadata": {}
  },
  {
   "cell_type": "code",
   "execution_count": 3,
   "source": [
    "def myfunc(a, b, c, d):\n",
    "  return a + b + c + d\n",
    "x = map(myfunc, ('apple', 'banana', 'cherry'), ('orange', 'lemon', 'pineapple', 'guava'), ('abba', 'jabba', 'chabba'), 'sharan')\n",
    "print(x)    # returns map object. Memory has not been instantiated using map. Because it used lazy-loading technique. list(map(<func_n>, iterable(s))) will return list\n",
    "#convert the map into a list, or in any collection form, for readability:\n",
    "print(list(x))\n",
    "\n",
    "\n",
    "# map() function executes a specified function for each item in an iterable. The item is sent to the function as a parameter.\n",
    "# function: Required. The function to execute for each item\n",
    "#iterable: Required. A sequence, collection or an iterator object. You can send as many iterables as you like, just make sure the function has one parameter for each iterable.\n"
   ],
   "outputs": [
    {
     "output_type": "stream",
     "name": "stdout",
     "text": [
      "<map object at 0x7f3aa32d7070>\n",
      "['appleorangeabbas', 'bananalemonjabbah', 'cherrypineapplechabbaa']\n"
     ]
    }
   ],
   "metadata": {}
  },
  {
   "cell_type": "code",
   "execution_count": 2,
   "source": [
    "nums = range(10)\n",
    "x = map(lambda x : x*x, nums)\n",
    "print(x)\n",
    "print(list(x))"
   ],
   "outputs": [
    {
     "output_type": "stream",
     "name": "stdout",
     "text": [
      "<map object at 0x7f5c1e2d4550>\n",
      "[0, 1, 4, 9, 16, 25, 36, 49, 64, 81]\n"
     ]
    }
   ],
   "metadata": {}
  },
  {
   "cell_type": "markdown",
   "source": [
    "# ZIP Function"
   ],
   "metadata": {}
  },
  {
   "cell_type": "code",
   "execution_count": 5,
   "source": [
    "a = (\"John\", \"Charles\", 5, \"Mike\")\n",
    "b = [\"Jenny\", \"Christy\", 8, \"Monica\", \"Vicky\"]\n",
    "x = zip(a, b)    # input could be be any iterable. Output is iterator.\n",
    "print(x)\n",
    "print(list(x))\n",
    "print(tuple(x))\n",
    "print(x)\n",
    "\n",
    "# returns a zip object, which is an iterator of tuples where the first item in each passed iterator is paired together, and then the second item in each passed iterator are paired together etc. If the passed iterators have different lengths, the iterator with the least items decides the length of the new iterator."
   ],
   "outputs": [
    {
     "output_type": "stream",
     "name": "stdout",
     "text": [
      "<zip object at 0x7f3aa32da780>\n",
      "[('John', 'Jenny'), ('Charles', 'Christy'), (5, 8), ('Mike', 'Monica')]\n",
      "()\n",
      "<zip object at 0x7f3aa32da780>\n"
     ]
    }
   ],
   "metadata": {
    "scrolled": true
   }
  },
  {
   "cell_type": "code",
   "execution_count": 6,
   "source": [
    "a = (\"John\", \"Charles\", \"Mike\")\n",
    "b = [\"Jenny\", \"Christy\", \"Monica\", \"Vicky\"]\n",
    "c = ('orange', 'lemon', 'pineapple', 'guava')\n",
    "x = zip(a, b, c)    # input could be be any iterable\n",
    "\n",
    "for i in x:\n",
    "    print(i)"
   ],
   "outputs": [
    {
     "output_type": "stream",
     "name": "stdout",
     "text": [
      "('John', 'Jenny', 'orange')\n",
      "('Charles', 'Christy', 'lemon')\n",
      "('Mike', 'Monica', 'pineapple')\n"
     ]
    }
   ],
   "metadata": {}
  },
  {
   "cell_type": "code",
   "execution_count": 33,
   "source": [
    "a = (\"John\", \"Charles\", \"Mike\")\n",
    "b = [\"Jenny\", \"Christy\", \"Monica\", \"Vicky\"]\n",
    "x = zip(a, b)    # input could be be any iterable\n",
    "\n",
    "for i,j in x:\n",
    "    print(i, j)"
   ],
   "outputs": [
    {
     "output_type": "stream",
     "name": "stdout",
     "text": [
      "John Jenny\n",
      "Charles Christy\n",
      "Mike Monica\n"
     ]
    }
   ],
   "metadata": {}
  },
  {
   "cell_type": "code",
   "execution_count": 34,
   "source": [
    "# creating zip object\n",
    "list(zip()) # one can put tuples as zip items inside zip()"
   ],
   "outputs": [
    {
     "output_type": "execute_result",
     "data": {
      "text/plain": [
       "[]"
      ]
     },
     "metadata": {},
     "execution_count": 34
    }
   ],
   "metadata": {}
  },
  {
   "cell_type": "code",
   "execution_count": 85,
   "source": [
    "dict1={'name':\"Sharan\", \"title\":\"jaiswal\", \"age\": 23}\n",
    "dict2={'name':\"jaiswal\", \"title\":\"sharan\", \"age\": 32}"
   ],
   "outputs": [],
   "metadata": {}
  },
  {
   "cell_type": "code",
   "execution_count": 86,
   "source": [
    "dictionary = zip(dict1, dict2)"
   ],
   "outputs": [],
   "metadata": {}
  },
  {
   "cell_type": "code",
   "execution_count": 87,
   "source": [
    "for i in dictionary:\n",
    "    print(i)"
   ],
   "outputs": [
    {
     "output_type": "stream",
     "name": "stdout",
     "text": [
      "('name', 'name')\n",
      "('title', 'title')\n",
      "('age', 'age')\n"
     ]
    }
   ],
   "metadata": {}
  },
  {
   "cell_type": "code",
   "execution_count": 88,
   "source": [
    "dictionary = zip(dict1.items(), dict2.items())"
   ],
   "outputs": [],
   "metadata": {}
  },
  {
   "cell_type": "code",
   "execution_count": 39,
   "source": [
    "for i in dictionary:\n",
    "    print(i)"
   ],
   "outputs": [
    {
     "output_type": "stream",
     "name": "stdout",
     "text": [
      "(('name', 'Sharan'), ('name', 'jaiswal'))\n",
      "(('title', 'jaiswal'), ('title', 'sharan'))\n",
      "(('age', 23), ('age', 32))\n"
     ]
    }
   ],
   "metadata": {
    "scrolled": true
   }
  },
  {
   "cell_type": "code",
   "execution_count": 89,
   "source": [
    "for (i,j),(i2, j2) in dictionary:\n",
    "    print(i,j)\n",
    "    print(i2, j2)"
   ],
   "outputs": [
    {
     "output_type": "stream",
     "name": "stdout",
     "text": [
      "name Sharan\n",
      "name jaiswal\n",
      "title jaiswal\n",
      "title sharan\n",
      "age 23\n",
      "age 32\n"
     ]
    }
   ],
   "metadata": {}
  },
  {
   "cell_type": "markdown",
   "source": [
    "# EVAL Function \n",
    "VALUATING EXPRESSIONS DYNAMICALLY. Evaluates python expression which are written as strings.\n",
    "1. Parse the expression.\n",
    "2. Compile the expression into byte code.\n",
    "3. Evaluate the python expression.\n",
    "4. Return the result.\n",
    "\n",
    "eval(source, \\[globals=None, \\[locals=None\\]\\]\\[, /\\])"
   ],
   "metadata": {}
  },
  {
   "cell_type": "code",
   "execution_count": 41,
   "source": [
    "eval(\"5*5+7/2\")"
   ],
   "outputs": [
    {
     "output_type": "execute_result",
     "data": {
      "text/plain": [
       "28.5"
      ]
     },
     "metadata": {},
     "execution_count": 41
    }
   ],
   "metadata": {
    "scrolled": true
   }
  },
  {
   "cell_type": "code",
   "execution_count": 64,
   "source": [
    "eval(input(\"Enter the expression to evaluate : \"))"
   ],
   "outputs": [
    {
     "output_type": "stream",
     "name": "stdout",
     "text": [
      "Enter the expression to evaluate : 5*8/6\n"
     ]
    },
    {
     "output_type": "execute_result",
     "data": {
      "text/plain": [
       "6.666666666666667"
      ]
     },
     "metadata": {},
     "execution_count": 64
    }
   ],
   "metadata": {
    "scrolled": true
   }
  },
  {
   "cell_type": "code",
   "execution_count": 43,
   "source": [
    "def sq_num(num):\n",
    "    return num**2"
   ],
   "outputs": [],
   "metadata": {}
  },
  {
   "cell_type": "code",
   "execution_count": 44,
   "source": [
    "sq_num(2)"
   ],
   "outputs": [
    {
     "output_type": "execute_result",
     "data": {
      "text/plain": [
       "4"
      ]
     },
     "metadata": {},
     "execution_count": 44
    }
   ],
   "metadata": {}
  },
  {
   "cell_type": "code",
   "execution_count": 45,
   "source": [
    "eval(\"sq_num(2)\")"
   ],
   "outputs": [
    {
     "output_type": "execute_result",
     "data": {
      "text/plain": [
       "4"
      ]
     },
     "metadata": {},
     "execution_count": 45
    }
   ],
   "metadata": {}
  },
  {
   "cell_type": "markdown",
   "source": [
    "working of eval.\n",
    "compile()"
   ],
   "metadata": {}
  },
  {
   "cell_type": "code",
   "execution_count": 46,
   "source": [
    "var=compile(\"5*5\", \"<string>\", \"eval\")   # parsing and compiling into the byte code"
   ],
   "outputs": [],
   "metadata": {}
  },
  {
   "cell_type": "code",
   "execution_count": 47,
   "source": [
    "var"
   ],
   "outputs": [
    {
     "output_type": "execute_result",
     "data": {
      "text/plain": [
       "<code object <module> at 0x7f8b1c432870, file \"<string>\", line 1>"
      ]
     },
     "metadata": {},
     "execution_count": 47
    }
   ],
   "metadata": {}
  },
  {
   "cell_type": "code",
   "execution_count": 48,
   "source": [
    "eval(var)"
   ],
   "outputs": [
    {
     "output_type": "execute_result",
     "data": {
      "text/plain": [
       "25"
      ]
     },
     "metadata": {},
     "execution_count": 48
    }
   ],
   "metadata": {}
  },
  {
   "cell_type": "markdown",
   "source": [
    "###### Globals parameter"
   ],
   "metadata": {}
  },
  {
   "cell_type": "code",
   "execution_count": 49,
   "source": [
    "eval(\"x+50+x**2\")    # it will give error because x is not defined"
   ],
   "outputs": [
    {
     "output_type": "error",
     "ename": "TypeError",
     "evalue": "unsupported operand type(s) for +: 'zip' and 'int'",
     "traceback": [
      "\u001b[0;31m---------------------------------------------------------------------------\u001b[0m",
      "\u001b[0;31mTypeError\u001b[0m                                 Traceback (most recent call last)",
      "\u001b[0;32m<ipython-input-49-40ee5cd58b41>\u001b[0m in \u001b[0;36m<module>\u001b[0;34m\u001b[0m\n\u001b[0;32m----> 1\u001b[0;31m \u001b[0meval\u001b[0m\u001b[0;34m(\u001b[0m\u001b[0;34m\"x+50+x**2\"\u001b[0m\u001b[0;34m)\u001b[0m    \u001b[0;31m# it will give error because x is not defined\u001b[0m\u001b[0;34m\u001b[0m\u001b[0;34m\u001b[0m\u001b[0m\n\u001b[0m",
      "\u001b[0;32m<string>\u001b[0m in \u001b[0;36m<module>\u001b[0;34m\u001b[0m\n",
      "\u001b[0;31mTypeError\u001b[0m: unsupported operand type(s) for +: 'zip' and 'int'"
     ]
    }
   ],
   "metadata": {}
  },
  {
   "cell_type": "code",
   "execution_count": 50,
   "source": [
    "eval(\"mu+50\", {\"mu\": 10})"
   ],
   "outputs": [
    {
     "output_type": "execute_result",
     "data": {
      "text/plain": [
       "60"
      ]
     },
     "metadata": {},
     "execution_count": 50
    }
   ],
   "metadata": {}
  },
  {
   "cell_type": "code",
   "execution_count": 51,
   "source": [
    "x=20\n",
    "eval(\"x+50+x**2\", {\"x\":x})"
   ],
   "outputs": [
    {
     "output_type": "execute_result",
     "data": {
      "text/plain": [
       "470"
      ]
     },
     "metadata": {},
     "execution_count": 51
    }
   ],
   "metadata": {}
  },
  {
   "cell_type": "code",
   "execution_count": 52,
   "source": [
    "x=0\n",
    "eval(\"x+50+x**2\")"
   ],
   "outputs": [
    {
     "output_type": "execute_result",
     "data": {
      "text/plain": [
       "50"
      ]
     },
     "metadata": {},
     "execution_count": 52
    }
   ],
   "metadata": {}
  },
  {
   "cell_type": "code",
   "execution_count": 53,
   "source": [
    "w=34\n",
    "x=100\n",
    "y=20\n",
    "z=100\n",
    "eval(\"w+x+y+z\", {\"x\":x, \"z\":z, \"w\": 40})"
   ],
   "outputs": [
    {
     "output_type": "error",
     "ename": "NameError",
     "evalue": "name 'y' is not defined",
     "traceback": [
      "\u001b[0;31m---------------------------------------------------------------------------\u001b[0m",
      "\u001b[0;31mNameError\u001b[0m                                 Traceback (most recent call last)",
      "\u001b[0;32m<ipython-input-53-d49df39fbe2f>\u001b[0m in \u001b[0;36m<module>\u001b[0;34m\u001b[0m\n\u001b[1;32m      3\u001b[0m \u001b[0my\u001b[0m\u001b[0;34m=\u001b[0m\u001b[0;36m20\u001b[0m\u001b[0;34m\u001b[0m\u001b[0;34m\u001b[0m\u001b[0m\n\u001b[1;32m      4\u001b[0m \u001b[0mz\u001b[0m\u001b[0;34m=\u001b[0m\u001b[0;36m100\u001b[0m\u001b[0;34m\u001b[0m\u001b[0;34m\u001b[0m\u001b[0m\n\u001b[0;32m----> 5\u001b[0;31m \u001b[0meval\u001b[0m\u001b[0;34m(\u001b[0m\u001b[0;34m\"w+x+y+z\"\u001b[0m\u001b[0;34m,\u001b[0m \u001b[0;34m{\u001b[0m\u001b[0;34m\"x\"\u001b[0m\u001b[0;34m:\u001b[0m\u001b[0mx\u001b[0m\u001b[0;34m,\u001b[0m \u001b[0;34m\"z\"\u001b[0m\u001b[0;34m:\u001b[0m\u001b[0mz\u001b[0m\u001b[0;34m,\u001b[0m \u001b[0;34m\"w\"\u001b[0m\u001b[0;34m:\u001b[0m \u001b[0;36m40\u001b[0m\u001b[0;34m}\u001b[0m\u001b[0;34m)\u001b[0m\u001b[0;34m\u001b[0m\u001b[0;34m\u001b[0m\u001b[0m\n\u001b[0m",
      "\u001b[0;32m<string>\u001b[0m in \u001b[0;36m<module>\u001b[0;34m\u001b[0m\n",
      "\u001b[0;31mNameError\u001b[0m: name 'y' is not defined"
     ]
    }
   ],
   "metadata": {}
  },
  {
   "cell_type": "code",
   "execution_count": 91,
   "source": [
    "eval(\"w+x+y+z\", {}, {\"x\":1, \"z\":2, \"w\": 3, \"y\":4})    # locals"
   ],
   "outputs": [
    {
     "output_type": "execute_result",
     "data": {
      "text/plain": [
       "10"
      ]
     },
     "metadata": {},
     "execution_count": 91
    }
   ],
   "metadata": {}
  },
  {
   "cell_type": "markdown",
   "source": [
    "**Minimizing security issues**"
   ],
   "metadata": {}
  },
  {
   "cell_type": "markdown",
   "source": [
    "# Sorting and Compairing of collection items\n",
    "\n",
    "### Any sequences can be compared. Underlying concept is, corresponding elements are compared.\n",
    "\n",
    "One can use **sorted(iterable, key=key, reverse=True/False)** function. Sorting of collection cant be done when that sequence contains BOTH string values AND numeric values. Strings are sorted alphabetically, and numbers are sorted numerically."
   ],
   "metadata": {}
  },
  {
   "cell_type": "code",
   "execution_count": 55,
   "source": [
    "lst = [0,1,2,'a', \"sharan\", 'b', \"Sharan\", None]\n",
    "x = sorted(lst)"
   ],
   "outputs": [
    {
     "output_type": "error",
     "ename": "TypeError",
     "evalue": "'<' not supported between instances of 'str' and 'int'",
     "traceback": [
      "\u001b[0;31m---------------------------------------------------------------------------\u001b[0m",
      "\u001b[0;31mTypeError\u001b[0m                                 Traceback (most recent call last)",
      "\u001b[0;32m<ipython-input-55-1e5348b9b154>\u001b[0m in \u001b[0;36m<module>\u001b[0;34m\u001b[0m\n\u001b[1;32m      1\u001b[0m \u001b[0mlst\u001b[0m \u001b[0;34m=\u001b[0m \u001b[0;34m[\u001b[0m\u001b[0;36m0\u001b[0m\u001b[0;34m,\u001b[0m\u001b[0;36m1\u001b[0m\u001b[0;34m,\u001b[0m\u001b[0;36m2\u001b[0m\u001b[0;34m,\u001b[0m\u001b[0;34m'a'\u001b[0m\u001b[0;34m,\u001b[0m \u001b[0;34m\"sharan\"\u001b[0m\u001b[0;34m,\u001b[0m \u001b[0;34m'b'\u001b[0m\u001b[0;34m,\u001b[0m \u001b[0;34m\"Sharan\"\u001b[0m\u001b[0;34m,\u001b[0m \u001b[0;32mNone\u001b[0m\u001b[0;34m]\u001b[0m\u001b[0;34m\u001b[0m\u001b[0;34m\u001b[0m\u001b[0m\n\u001b[0;32m----> 2\u001b[0;31m \u001b[0mx\u001b[0m \u001b[0;34m=\u001b[0m \u001b[0msorted\u001b[0m\u001b[0;34m(\u001b[0m\u001b[0mlst\u001b[0m\u001b[0;34m)\u001b[0m\u001b[0;34m\u001b[0m\u001b[0;34m\u001b[0m\u001b[0m\n\u001b[0m",
      "\u001b[0;31mTypeError\u001b[0m: '<' not supported between instances of 'str' and 'int'"
     ]
    }
   ],
   "metadata": {}
  },
  {
   "cell_type": "code",
   "execution_count": 56,
   "source": [
    "lst=[0,1,2,3,4]\n",
    "x = sorted(lst)\n",
    "x"
   ],
   "outputs": [
    {
     "output_type": "execute_result",
     "data": {
      "text/plain": [
       "[0, 1, 2, 3, 4]"
      ]
     },
     "metadata": {},
     "execution_count": 56
    }
   ],
   "metadata": {}
  },
  {
   "cell_type": "code",
   "execution_count": 57,
   "source": [
    "lst=['a', 'b', 'c', 'A', \"sharan\", \"SHARAN\", 'B', 'C', 'd', 'e', '0','1','6','9']\n",
    "x = sorted(lst)\n",
    "x"
   ],
   "outputs": [
    {
     "output_type": "execute_result",
     "data": {
      "text/plain": [
       "['0',\n",
       " '1',\n",
       " '6',\n",
       " '9',\n",
       " 'A',\n",
       " 'B',\n",
       " 'C',\n",
       " 'SHARAN',\n",
       " 'a',\n",
       " 'b',\n",
       " 'c',\n",
       " 'd',\n",
       " 'e',\n",
       " 'sharan']"
      ]
     },
     "metadata": {},
     "execution_count": 57
    }
   ],
   "metadata": {}
  },
  {
   "cell_type": "code",
   "execution_count": 58,
   "source": [
    "d={'b':10, 'c':1, 'a':22}\n",
    "t=sorted(d.items())\n",
    "t"
   ],
   "outputs": [
    {
     "output_type": "execute_result",
     "data": {
      "text/plain": [
       "[('a', 22), ('b', 10), ('c', 1)]"
      ]
     },
     "metadata": {},
     "execution_count": 58
    }
   ],
   "metadata": {}
  },
  {
   "cell_type": "code",
   "execution_count": 59,
   "source": [
    "# sorting based on values of dictionary using SORTED()\n",
    "\n",
    "d={'b':10, 'c':1, 'a':22}\n",
    "tmp=list()\n",
    "\n",
    "for k,v in d.items():\n",
    "    tmp.append((v,k))\n",
    "    \n",
    "print(tmp)\n",
    "\n",
    "tmp=sorted(tmp, reverse = True)\n",
    "print(tmp)\n",
    "\n",
    "\n",
    "print(sorted([(v,k) for (k,v) in d.items()], reverse = True))"
   ],
   "outputs": [
    {
     "output_type": "stream",
     "name": "stdout",
     "text": [
      "[(10, 'b'), (1, 'c'), (22, 'a')]\n",
      "[(22, 'a'), (10, 'b'), (1, 'c')]\n",
      "[(22, 'a'), (10, 'b'), (1, 'c')]\n"
     ]
    }
   ],
   "metadata": {}
  },
  {
   "cell_type": "markdown",
   "source": [
    "## Assert Statements in Python\n",
    "It is used to check if a given logical expression is True or False. Program execution proceeds only if the expressions is true and raises the **AssertionError** when it is False.\n",
    "\n",
    "It can be used as a check point in the program flow"
   ],
   "metadata": {}
  },
  {
   "cell_type": "code",
   "execution_count": 60,
   "source": [
    "10>=10 # this is not assert statement"
   ],
   "outputs": [
    {
     "output_type": "execute_result",
     "data": {
      "text/plain": [
       "True"
      ]
     },
     "metadata": {},
     "execution_count": 60
    }
   ],
   "metadata": {}
  },
  {
   "cell_type": "code",
   "execution_count": 61,
   "source": [
    "10>10  # this is not assert statement"
   ],
   "outputs": [
    {
     "output_type": "execute_result",
     "data": {
      "text/plain": [
       "False"
      ]
     },
     "metadata": {},
     "execution_count": 61
    }
   ],
   "metadata": {}
  },
  {
   "cell_type": "code",
   "execution_count": 62,
   "source": [
    "num=12\n",
    "assert num<10"
   ],
   "outputs": [
    {
     "output_type": "error",
     "ename": "AssertionError",
     "evalue": "",
     "traceback": [
      "\u001b[0;31m---------------------------------------------------------------------------\u001b[0m",
      "\u001b[0;31mAssertionError\u001b[0m                            Traceback (most recent call last)",
      "\u001b[0;32m<ipython-input-62-cd3ba8613112>\u001b[0m in \u001b[0;36m<module>\u001b[0;34m\u001b[0m\n\u001b[1;32m      1\u001b[0m \u001b[0mnum\u001b[0m\u001b[0;34m=\u001b[0m\u001b[0;36m12\u001b[0m\u001b[0;34m\u001b[0m\u001b[0;34m\u001b[0m\u001b[0m\n\u001b[0;32m----> 2\u001b[0;31m \u001b[0;32massert\u001b[0m \u001b[0mnum\u001b[0m\u001b[0;34m<\u001b[0m\u001b[0;36m10\u001b[0m\u001b[0;34m\u001b[0m\u001b[0;34m\u001b[0m\u001b[0m\n\u001b[0m",
      "\u001b[0;31mAssertionError\u001b[0m: "
     ]
    }
   ],
   "metadata": {}
  },
  {
   "cell_type": "code",
   "execution_count": 63,
   "source": [
    "try:\n",
    "    num=int(input(\"enter a number: \"))\n",
    "    assert num%2==0\n",
    "    print(\"The number is even.\")\n",
    "except AssertionError:\n",
    "    print(\"Please enter even number\")"
   ],
   "outputs": [
    {
     "output_type": "stream",
     "name": "stdout",
     "text": [
      "enter a number: 456\n",
      "The number is even.\n"
     ]
    }
   ],
   "metadata": {}
  },
  {
   "cell_type": "code",
   "execution_count": 4,
   "source": [
    "import this??"
   ],
   "outputs": [
    {
     "output_type": "stream",
     "name": "stdout",
     "text": [
      "\u001b[0;31mType:\u001b[0m        module\n",
      "\u001b[0;31mString form:\u001b[0m <module 'this' from '/home/sharan/miniconda3/lib/python3.8/this.py'>\n",
      "\u001b[0;31mFile:\u001b[0m        ~/miniconda3/lib/python3.8/this.py\n",
      "\u001b[0;31mSource:\u001b[0m     \n",
      "\u001b[0ms\u001b[0m \u001b[0;34m=\u001b[0m \u001b[0;34m\"\"\"Gur Mra bs Clguba, ol Gvz Crgref\u001b[0m\n",
      "\u001b[0;34m\u001b[0m\n",
      "\u001b[0;34mOrnhgvshy vf orggre guna htyl.\u001b[0m\n",
      "\u001b[0;34mRkcyvpvg vf orggre guna vzcyvpvg.\u001b[0m\n",
      "\u001b[0;34mFvzcyr vf orggre guna pbzcyrk.\u001b[0m\n",
      "\u001b[0;34mPbzcyrk vf orggre guna pbzcyvpngrq.\u001b[0m\n",
      "\u001b[0;34mSyng vf orggre guna arfgrq.\u001b[0m\n",
      "\u001b[0;34mFcnefr vf orggre guna qrafr.\u001b[0m\n",
      "\u001b[0;34mErnqnovyvgl pbhagf.\u001b[0m\n",
      "\u001b[0;34mFcrpvny pnfrf nera'g fcrpvny rabhtu gb oernx gur ehyrf.\u001b[0m\n",
      "\u001b[0;34mNygubhtu cenpgvpnyvgl orngf chevgl.\u001b[0m\n",
      "\u001b[0;34mReebef fubhyq arire cnff fvyragyl.\u001b[0m\n",
      "\u001b[0;34mHayrff rkcyvpvgyl fvyraprq.\u001b[0m\n",
      "\u001b[0;34mVa gur snpr bs nzovthvgl, ershfr gur grzcgngvba gb thrff.\u001b[0m\n",
      "\u001b[0;34mGurer fubhyq or bar-- naq cersrenoyl bayl bar --boivbhf jnl gb qb vg.\u001b[0m\n",
      "\u001b[0;34mNygubhtu gung jnl znl abg or boivbhf ng svefg hayrff lbh'er Qhgpu.\u001b[0m\n",
      "\u001b[0;34mAbj vf orggre guna arire.\u001b[0m\n",
      "\u001b[0;34mNygubhtu arire vf bsgra orggre guna *evtug* abj.\u001b[0m\n",
      "\u001b[0;34mVs gur vzcyrzragngvba vf uneq gb rkcynva, vg'f n onq vqrn.\u001b[0m\n",
      "\u001b[0;34mVs gur vzcyrzragngvba vf rnfl gb rkcynva, vg znl or n tbbq vqrn.\u001b[0m\n",
      "\u001b[0;34mAnzrfcnprf ner bar ubaxvat terng vqrn -- yrg'f qb zber bs gubfr!\"\"\"\u001b[0m\u001b[0;34m\u001b[0m\n",
      "\u001b[0;34m\u001b[0m\u001b[0;34m\u001b[0m\n",
      "\u001b[0;34m\u001b[0m\u001b[0md\u001b[0m \u001b[0;34m=\u001b[0m \u001b[0;34m{\u001b[0m\u001b[0;34m}\u001b[0m\u001b[0;34m\u001b[0m\n",
      "\u001b[0;34m\u001b[0m\u001b[0;32mfor\u001b[0m \u001b[0mc\u001b[0m \u001b[0;32min\u001b[0m \u001b[0;34m(\u001b[0m\u001b[0;36m65\u001b[0m\u001b[0;34m,\u001b[0m \u001b[0;36m97\u001b[0m\u001b[0;34m)\u001b[0m\u001b[0;34m:\u001b[0m\u001b[0;34m\u001b[0m\n",
      "\u001b[0;34m\u001b[0m    \u001b[0;32mfor\u001b[0m \u001b[0mi\u001b[0m \u001b[0;32min\u001b[0m \u001b[0mrange\u001b[0m\u001b[0;34m(\u001b[0m\u001b[0;36m26\u001b[0m\u001b[0;34m)\u001b[0m\u001b[0;34m:\u001b[0m\u001b[0;34m\u001b[0m\n",
      "\u001b[0;34m\u001b[0m        \u001b[0md\u001b[0m\u001b[0;34m[\u001b[0m\u001b[0mchr\u001b[0m\u001b[0;34m(\u001b[0m\u001b[0mi\u001b[0m\u001b[0;34m+\u001b[0m\u001b[0mc\u001b[0m\u001b[0;34m)\u001b[0m\u001b[0;34m]\u001b[0m \u001b[0;34m=\u001b[0m \u001b[0mchr\u001b[0m\u001b[0;34m(\u001b[0m\u001b[0;34m(\u001b[0m\u001b[0mi\u001b[0m\u001b[0;34m+\u001b[0m\u001b[0;36m13\u001b[0m\u001b[0;34m)\u001b[0m \u001b[0;34m%\u001b[0m \u001b[0;36m26\u001b[0m \u001b[0;34m+\u001b[0m \u001b[0mc\u001b[0m\u001b[0;34m)\u001b[0m\u001b[0;34m\u001b[0m\n",
      "\u001b[0;34m\u001b[0m\u001b[0;34m\u001b[0m\n",
      "\u001b[0;34m\u001b[0m\u001b[0mprint\u001b[0m\u001b[0;34m(\u001b[0m\u001b[0;34m\"\"\u001b[0m\u001b[0;34m.\u001b[0m\u001b[0mjoin\u001b[0m\u001b[0;34m(\u001b[0m\u001b[0;34m[\u001b[0m\u001b[0md\u001b[0m\u001b[0;34m.\u001b[0m\u001b[0mget\u001b[0m\u001b[0;34m(\u001b[0m\u001b[0mc\u001b[0m\u001b[0;34m,\u001b[0m \u001b[0mc\u001b[0m\u001b[0;34m)\u001b[0m \u001b[0;32mfor\u001b[0m \u001b[0mc\u001b[0m \u001b[0;32min\u001b[0m \u001b[0ms\u001b[0m\u001b[0;34m]\u001b[0m\u001b[0;34m)\u001b[0m\u001b[0;34m)\u001b[0m\u001b[0;34m\u001b[0m\u001b[0;34m\u001b[0m\u001b[0m\n"
     ]
    }
   ],
   "metadata": {}
  },
  {
   "cell_type": "markdown",
   "source": [
    "## Hash Function\n",
    "Hash function takes up only immutable objects as its argument"
   ],
   "metadata": {}
  },
  {
   "cell_type": "code",
   "execution_count": 7,
   "source": [
    "hash((1,2,3,4,5))"
   ],
   "outputs": [
    {
     "output_type": "execute_result",
     "data": {
      "text/plain": [
       "-5659871693760987716"
      ]
     },
     "metadata": {},
     "execution_count": 7
    }
   ],
   "metadata": {}
  },
  {
   "cell_type": "code",
   "execution_count": 8,
   "source": [
    "hash([2,3,4,5])"
   ],
   "outputs": [
    {
     "output_type": "error",
     "ename": "TypeError",
     "evalue": "unhashable type: 'list'",
     "traceback": [
      "\u001b[0;31m---------------------------------------------------------------------------\u001b[0m",
      "\u001b[0;31mTypeError\u001b[0m                                 Traceback (most recent call last)",
      "\u001b[0;32m<ipython-input-8-e5d4de7779f9>\u001b[0m in \u001b[0;36m<module>\u001b[0;34m\u001b[0m\n\u001b[0;32m----> 1\u001b[0;31m \u001b[0mhash\u001b[0m\u001b[0;34m(\u001b[0m\u001b[0;34m[\u001b[0m\u001b[0;36m2\u001b[0m\u001b[0;34m,\u001b[0m\u001b[0;36m3\u001b[0m\u001b[0;34m,\u001b[0m\u001b[0;36m4\u001b[0m\u001b[0;34m,\u001b[0m\u001b[0;36m5\u001b[0m\u001b[0;34m]\u001b[0m\u001b[0;34m)\u001b[0m\u001b[0;34m\u001b[0m\u001b[0;34m\u001b[0m\u001b[0m\n\u001b[0m",
      "\u001b[0;31mTypeError\u001b[0m: unhashable type: 'list'"
     ]
    }
   ],
   "metadata": {}
  },
  {
   "cell_type": "code",
   "execution_count": 12,
   "source": [
    "var = 47\n",
    "hash(var)"
   ],
   "outputs": [
    {
     "output_type": "execute_result",
     "data": {
      "text/plain": [
       "47"
      ]
     },
     "metadata": {},
     "execution_count": 12
    }
   ],
   "metadata": {}
  },
  {
   "cell_type": "code",
   "execution_count": 10,
   "source": [
    "name = 'Sharan'\n",
    "hash(name)"
   ],
   "outputs": [
    {
     "output_type": "execute_result",
     "data": {
      "text/plain": [
       "6336300501747837843"
      ]
     },
     "metadata": {},
     "execution_count": 10
    }
   ],
   "metadata": {}
  },
  {
   "cell_type": "code",
   "execution_count": 13,
   "source": [
    "lst = [1,2,3,4]\n",
    "hash(lst)"
   ],
   "outputs": [
    {
     "output_type": "error",
     "ename": "TypeError",
     "evalue": "unhashable type: 'list'",
     "traceback": [
      "\u001b[0;31m---------------------------------------------------------------------------\u001b[0m",
      "\u001b[0;31mTypeError\u001b[0m                                 Traceback (most recent call last)",
      "\u001b[0;32m<ipython-input-13-164116ffe001>\u001b[0m in \u001b[0;36m<module>\u001b[0;34m\u001b[0m\n\u001b[1;32m      1\u001b[0m \u001b[0mlst\u001b[0m \u001b[0;34m=\u001b[0m \u001b[0;34m[\u001b[0m\u001b[0;36m1\u001b[0m\u001b[0;34m,\u001b[0m\u001b[0;36m2\u001b[0m\u001b[0;34m,\u001b[0m\u001b[0;36m3\u001b[0m\u001b[0;34m,\u001b[0m\u001b[0;36m4\u001b[0m\u001b[0;34m]\u001b[0m\u001b[0;34m\u001b[0m\u001b[0;34m\u001b[0m\u001b[0m\n\u001b[0;32m----> 2\u001b[0;31m \u001b[0mhash\u001b[0m\u001b[0;34m(\u001b[0m\u001b[0mlst\u001b[0m\u001b[0;34m)\u001b[0m\u001b[0;34m\u001b[0m\u001b[0;34m\u001b[0m\u001b[0m\n\u001b[0m",
      "\u001b[0;31mTypeError\u001b[0m: unhashable type: 'list'"
     ]
    }
   ],
   "metadata": {}
  },
  {
   "cell_type": "code",
   "execution_count": 14,
   "source": [
    "tup=(2,3,4,5)\n",
    "hash(tup)"
   ],
   "outputs": [
    {
     "output_type": "execute_result",
     "data": {
      "text/plain": [
       "7852972215226871095"
      ]
     },
     "metadata": {},
     "execution_count": 14
    }
   ],
   "metadata": {}
  },
  {
   "cell_type": "code",
   "execution_count": 29,
   "source": [
    "from hashlib import sha256\n",
    "sha256(\"hello\".encode('utf-8'))"
   ],
   "outputs": [
    {
     "output_type": "execute_result",
     "data": {
      "text/plain": [
       "<sha256 HASH object @ 0x7f21b05c0a30>"
      ]
     },
     "metadata": {},
     "execution_count": 29
    }
   ],
   "metadata": {}
  },
  {
   "cell_type": "code",
   "execution_count": 33,
   "source": [
    "# from hashlib import sha256\n",
    "m = sha256()\n",
    "m.update(b'password123')\n",
    "m.hexdigest()"
   ],
   "outputs": [
    {
     "output_type": "execute_result",
     "data": {
      "text/plain": [
       "'ef92b778bafe771e89245b89ecbc08a44a4e166c06659911881f383d4473e94f'"
      ]
     },
     "metadata": {},
     "execution_count": 33
    }
   ],
   "metadata": {}
  },
  {
   "cell_type": "code",
   "execution_count": 30,
   "source": [
    "def clearence(username, password):\n",
    "    hash_val = hash(password)\n",
    "\n",
    "    # Query the database for the hash value of the username\n",
    "    hash_val_db = query_db(username)\n",
    "\n",
    "    if hash_val == hash_val_db:\n",
    "        return True\n",
    "    else:\n",
    "        return False"
   ],
   "outputs": [],
   "metadata": {}
  },
  {
   "cell_type": "code",
   "execution_count": 34,
   "source": [
    "# other application of hash value\n",
    "table = list(range(400_000))"
   ],
   "outputs": [],
   "metadata": {}
  },
  {
   "cell_type": "code",
   "execution_count": 35,
   "source": [
    "%%timeit\n",
    "400_000 in table"
   ],
   "outputs": [
    {
     "output_type": "stream",
     "name": "stdout",
     "text": [
      "6.95 ms ± 1.18 ms per loop (mean ± std. dev. of 7 runs, 100 loops each)\n"
     ]
    }
   ],
   "metadata": {}
  },
  {
   "cell_type": "code",
   "execution_count": 36,
   "source": [
    "# another approach. Faster approach\n",
    "my_set = set(range(400_000))"
   ],
   "outputs": [],
   "metadata": {}
  },
  {
   "cell_type": "code",
   "execution_count": 37,
   "source": [
    "%%timeit\n",
    "400_000 in my_set   # thats a huge difference in time. Its much faster because its independent of the size of the input"
   ],
   "outputs": [
    {
     "output_type": "stream",
     "name": "stdout",
     "text": [
      "46 ns ± 5.41 ns per loop (mean ± std. dev. of 7 runs, 10000000 loops each)\n"
     ]
    }
   ],
   "metadata": {}
  }
 ],
 "metadata": {
  "interpreter": {
   "hash": "a6570200391abd47b22bafa3ab36aba8327b6bca09374d4d4cb5f21cfca217ce"
  },
  "kernelspec": {
   "name": "python3",
   "display_name": "Python 3.8.5 64-bit ('base': conda)"
  },
  "language_info": {
   "codemirror_mode": {
    "name": "ipython",
    "version": 3
   },
   "file_extension": ".py",
   "mimetype": "text/x-python",
   "name": "python",
   "nbconvert_exporter": "python",
   "pygments_lexer": "ipython3",
   "version": "3.8.5"
  },
  "metadata": {
   "interpreter": {
    "hash": "a6570200391abd47b22bafa3ab36aba8327b6bca09374d4d4cb5f21cfca217ce"
   }
  }
 },
 "nbformat": 4,
 "nbformat_minor": 2
}