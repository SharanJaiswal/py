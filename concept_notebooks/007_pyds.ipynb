{
 "cells": [
  {
   "cell_type": "markdown",
   "metadata": {},
   "source": [
    "'>>>' in python terminal is called 'Chevron Prompt'\n",
    "\n",
    "docstrings should be the first line in the function, class modules, so on....., and has to be multi-line comments only. Not regular comments.\n",
    "\n",
    "print(pythonobject.\\_\\_doc\\_\\_)"
   ]
  },
  {
   "cell_type": "code",
   "execution_count": 1,
   "metadata": {},
   "outputs": [
    {
     "name": "stdout",
     "output_type": "stream",
     "text": [
      "<class 'int'>\n",
      "<class 'str'>\n"
     ]
    }
   ],
   "source": [
    "x = 5\n",
    "y = \"John\"\n",
    "print(type(x))\n",
    "print(type(y))"
   ]
  },
  {
   "cell_type": "code",
   "execution_count": 2,
   "metadata": {},
   "outputs": [
    {
     "name": "stdout",
     "output_type": "stream",
     "text": [
      "Orange\n",
      "Banana\n",
      "Cherry\n"
     ]
    }
   ],
   "source": [
    "x,y,z=\"Orange\", \"Banana\", \"Cherry\"\n",
    "print(x)\n",
    "print(y)\n",
    "print(z)"
   ]
  },
  {
   "cell_type": "code",
   "execution_count": 2,
   "metadata": {},
   "outputs": [
    {
     "name": "stdout",
     "output_type": "stream",
     "text": [
      "Orange\n",
      "Orange\n",
      "Orange\n"
     ]
    }
   ],
   "source": [
    "x=y=z=\"Orange\"\n",
    "print(x)\n",
    "print(y)\n",
    "print(z)"
   ]
  },
  {
   "cell_type": "code",
   "execution_count": 1,
   "metadata": {},
   "outputs": [
    {
     "name": "stdout",
     "output_type": "stream",
     "text": [
      "apple\n",
      "banana\n",
      "guava\n",
      "apple\n",
      "banana\n",
      "guava\n"
     ]
    }
   ],
   "source": [
    "fruits = [\"apple\", \"banana\", \"guava\"]\n",
    "x,y,z=fruits\n",
    "print(x)\n",
    "print(y)\n",
    "print(z)\n",
    "fruits[0:0]=\"tomato\"    # changing the ordering of the element wont effect the value of the unfolding variables.\n",
    "print(x)\n",
    "print(y)\n",
    "print(z)"
   ]
  },
  {
   "cell_type": "code",
   "execution_count": 1,
   "metadata": {
    "scrolled": true
   },
   "outputs": [
    {
     "ename": "SyntaxError",
     "evalue": "starred assignment target must be in a list or tuple (3328620124.py, line 3)",
     "output_type": "error",
     "traceback": [
      "\u001b[0;36m  File \u001b[0;32m\"/tmp/ipykernel_4608/3328620124.py\"\u001b[0;36m, line \u001b[0;32m3\u001b[0m\n\u001b[0;31m    *x = 5,4,8,9,6,3,2,1,5,4,7\u001b[0m\n\u001b[0m    ^\u001b[0m\n\u001b[0;31mSyntaxError\u001b[0m\u001b[0;31m:\u001b[0m starred assignment target must be in a list or tuple\n"
     ]
    }
   ],
   "source": [
    "#LHS should always be a list or tuple\n",
    "\n",
    "*x = 5,4,8,9,6,3,2,1,5,4,7\n",
    "print(x)"
   ]
  },
  {
   "cell_type": "code",
   "execution_count": 4,
   "metadata": {},
   "outputs": [
    {
     "ename": "SyntaxError",
     "evalue": "starred assignment target must be in a list or tuple (1882599419.py, line 1)",
     "output_type": "error",
     "traceback": [
      "\u001b[0;36m  File \u001b[0;32m\"/tmp/ipykernel_3476/1882599419.py\"\u001b[0;36m, line \u001b[0;32m1\u001b[0m\n\u001b[0;31m    *x=(5,4,8,9,6,3,2,1,5,4,7)\u001b[0m\n\u001b[0m    ^\u001b[0m\n\u001b[0;31mSyntaxError\u001b[0m\u001b[0;31m:\u001b[0m starred assignment target must be in a list or tuple\n"
     ]
    }
   ],
   "source": [
    "*x=(5,4,8,9,6,3,2,1,5,4,7)\n",
    "print(type(x))"
   ]
  },
  {
   "cell_type": "code",
   "execution_count": 2,
   "metadata": {},
   "outputs": [
    {
     "ename": "SyntaxError",
     "evalue": "starred assignment target must be in a list or tuple (726170148.py, line 1)",
     "output_type": "error",
     "traceback": [
      "\u001b[0;36m  File \u001b[0;32m\"/tmp/ipykernel_4608/726170148.py\"\u001b[0;36m, line \u001b[0;32m1\u001b[0m\n\u001b[0;31m    *x=[5,4,8,9,6,3,2,1,5,4,7]\u001b[0m\n\u001b[0m    ^\u001b[0m\n\u001b[0;31mSyntaxError\u001b[0m\u001b[0;31m:\u001b[0m starred assignment target must be in a list or tuple\n"
     ]
    }
   ],
   "source": [
    "*x=[5,4,8,9,6,3,2,1,5,4,7]\n",
    "print(type(x))"
   ]
  },
  {
   "cell_type": "code",
   "execution_count": 1,
   "metadata": {},
   "outputs": [
    {
     "name": "stdout",
     "output_type": "stream",
     "text": [
      "[5, 4, 8, 9, 6, 3, 2, 1, 5, 4, 7]\n",
      "(5, 4, 8, 9, 6, 3, 2, 1, 5, 4, 7)\n"
     ]
    }
   ],
   "source": [
    "y=[*x] = 5,4,8,9,6,3,2,1,5,4,7  # we cant use [x] simply. We have to use [*x]\n",
    "print(x)  # list\n",
    "print(y)  # tuple"
   ]
  },
  {
   "cell_type": "code",
   "execution_count": 2,
   "metadata": {},
   "outputs": [
    {
     "name": "stdout",
     "output_type": "stream",
     "text": [
      "(5, 4, 8, 9, 6, 3, 2, 1, 5, 4, 7)\n"
     ]
    }
   ],
   "source": [
    "y = 5,4,8,9,6,3,2,1,5,4,7\n",
    "print(y)    # tuple, even if the numbers/elements are not within parenthesis."
   ]
  },
  {
   "cell_type": "code",
   "execution_count": 7,
   "metadata": {},
   "outputs": [
    {
     "name": "stdout",
     "output_type": "stream",
     "text": [
      "['apple', 'banana']\n",
      "guava\n"
     ]
    }
   ],
   "source": [
    "fruits = [\"apple\", \"banana\", \"guava\"]\n",
    "*x,y=fruits\n",
    "print(x)    # whether its List or Tuple in RHS, *x will always be list natively\n",
    "print(y)"
   ]
  },
  {
   "cell_type": "code",
   "execution_count": 3,
   "metadata": {},
   "outputs": [
    {
     "name": "stdout",
     "output_type": "stream",
     "text": [
      "['apple', 'banana']\n",
      "guava\n"
     ]
    }
   ],
   "source": [
    "fruits = (\"apple\", \"banana\", \"guava\")\n",
    "*x,y=fruits\n",
    "print(x)    # whether its List or Tuple in RHS, *x will always be list natively\n",
    "print(y)"
   ]
  },
  {
   "cell_type": "code",
   "execution_count": 1,
   "metadata": {},
   "outputs": [
    {
     "ename": "ValueError",
     "evalue": "too many values to unpack (expected 2)",
     "output_type": "error",
     "traceback": [
      "\u001b[0;31m---------------------------------------------------------------------------\u001b[0m",
      "\u001b[0;31mValueError\u001b[0m                                Traceback (most recent call last)",
      "\u001b[0;32m/tmp/ipykernel_3476/1189984866.py\u001b[0m in \u001b[0;36m<module>\u001b[0;34m\u001b[0m\n\u001b[1;32m      1\u001b[0m \u001b[0mfruits\u001b[0m \u001b[0;34m=\u001b[0m \u001b[0;34m[\u001b[0m\u001b[0;34m\"apple\"\u001b[0m\u001b[0;34m,\u001b[0m \u001b[0;34m\"banana\"\u001b[0m\u001b[0;34m,\u001b[0m \u001b[0;34m\"guava\"\u001b[0m\u001b[0;34m]\u001b[0m\u001b[0;34m\u001b[0m\u001b[0;34m\u001b[0m\u001b[0m\n\u001b[0;32m----> 2\u001b[0;31m \u001b[0mx\u001b[0m\u001b[0;34m,\u001b[0m\u001b[0my\u001b[0m\u001b[0;34m=\u001b[0m\u001b[0mfruits\u001b[0m\u001b[0;34m\u001b[0m\u001b[0;34m\u001b[0m\u001b[0m\n\u001b[0m\u001b[1;32m      3\u001b[0m \u001b[0mprint\u001b[0m\u001b[0;34m(\u001b[0m\u001b[0mx\u001b[0m\u001b[0;34m)\u001b[0m\u001b[0;34m\u001b[0m\u001b[0;34m\u001b[0m\u001b[0m\n\u001b[1;32m      4\u001b[0m \u001b[0mprint\u001b[0m\u001b[0;34m(\u001b[0m\u001b[0my\u001b[0m\u001b[0;34m)\u001b[0m\u001b[0;34m\u001b[0m\u001b[0;34m\u001b[0m\u001b[0m\n",
      "\u001b[0;31mValueError\u001b[0m: too many values to unpack (expected 2)"
     ]
    }
   ],
   "source": [
    "fruits = [\"apple\", \"banana\", \"guava\"]\n",
    "x,y=fruits\n",
    "print(x)\n",
    "print(y)"
   ]
  },
  {
   "cell_type": "code",
   "execution_count": 8,
   "metadata": {},
   "outputs": [
    {
     "name": "stdout",
     "output_type": "stream",
     "text": [
      "Saint jaiswaaaaaal\n",
      "Sharan jaiswaaaaaal\n",
      "A boy\n"
     ]
    }
   ],
   "source": [
    "x=\"Sharan \"\n",
    "y=\"Jaiswal\"\n",
    "\n",
    "def myFunc():\n",
    "    x=\"Saint \"  # this local var will override the global var with the same name.\n",
    "    global z    # For making the scope global, firstly declare the object as global. Then define it.\n",
    "    z=\"A boy\"\n",
    "    global y\n",
    "    y=\"jaiswaaaaaal\"    # Not overriding the global var 'y' with local var 'y'. Instead we are accessing that global variable itself and changing its value.\n",
    "    print(x+y)  #also, if accessing of global var is used for changing its value, then within that scope, it cant be used unless it is changed.\n",
    "\n",
    "myFunc()\n",
    "\n",
    "print(x+y)\n",
    "print(z)"
   ]
  },
  {
   "cell_type": "code",
   "execution_count": 2,
   "metadata": {},
   "outputs": [
    {
     "name": "stdout",
     "output_type": "stream",
     "text": [
      "global_x\n",
      "**********\n",
      "Inside extreme function.\n",
      "Calling outer function\n",
      "Inside outer function\n",
      "Calling inner function\n",
      "Inside inner function\n",
      "inner_x\n",
      "inner_x\n",
      "extreme_x\n",
      "**********\n",
      "global_x\n"
     ]
    }
   ],
   "source": [
    "# Thats the order/scope of variable in python\n",
    "\"\"\" LEGB : Local, Enclosing, Global, Built-in \"\"\"\n",
    "\n",
    "x = 'global_x'\n",
    "\n",
    "def extreme():\n",
    "    print(\"Inside extreme function.\")\n",
    "    x = 'extreme_x'\n",
    "    def outer():\n",
    "        print(\"Inside outer function\")\n",
    "        x = 'outer_x'\n",
    "        def inner():\n",
    "            print(\"Inside inner function\")\n",
    "            # global x    # it will capture real global variable x, if exists\n",
    "            nonlocal x  # it will capture the immediate enclosing scope variable 'x' present, if any. Else it will throw an error\n",
    "            x = 'inner_x'\n",
    "            print(x)\n",
    "        \n",
    "        print(\"Calling inner function\")\n",
    "        inner()\n",
    "        print(x)\n",
    "    \n",
    "    print(\"Calling outer function\")\n",
    "    outer()\n",
    "    print(x)\n",
    "\n",
    "print(x)\n",
    "print('*'*10)\n",
    "extreme()\n",
    "print('*'*10)\n",
    "print(x)"
   ]
  },
  {
   "cell_type": "markdown",
   "metadata": {},
   "source": [
    "<code>type(var)</code> : <code><class 'type'></code>\n",
    "\n",
    "Text Type: \tstr\n",
    "\n",
    "Numeric Types: \tint, float, complex\n",
    "\n",
    "Sequence Types: \tlist, tuple, range\n",
    "\n",
    "Mapping Type: \tdict\n",
    "\n",
    "Set Types: \tset, frozenset\n",
    "\n",
    "Boolean Type: \tbool\n",
    "\n",
    "Binary Types: \tbytes, bytearray, memoryview"
   ]
  },
  {
   "cell_type": "code",
   "execution_count": 10,
   "metadata": {},
   "outputs": [
    {
     "name": "stdout",
     "output_type": "stream",
     "text": [
      "True\n",
      "True\n",
      "True\n"
     ]
    }
   ],
   "source": [
    "x = 2\n",
    "print(isinstance(x, int))\n",
    "\n",
    "# If the type parameter is in tuple (any other iterable is not allowed), this function will return True if the object is one of the types in the tuple.\n",
    "x = isinstance(\"Hello\", (float, int, str, list, dict, tuple))\n",
    "print(x)\n",
    "\n",
    "\n",
    "class myObj:\n",
    "  name = \"John\"\n",
    "y = myObj()\n",
    "x = isinstance(y, myObj)\n",
    "print(x)"
   ]
  },
  {
   "cell_type": "code",
   "execution_count": 14,
   "metadata": {},
   "outputs": [
    {
     "name": "stdout",
     "output_type": "stream",
     "text": [
      "8\n"
     ]
    }
   ],
   "source": [
    "import random\n",
    "print(random.randrange(1, 10))"
   ]
  },
  {
   "cell_type": "code",
   "execution_count": 12,
   "metadata": {},
   "outputs": [
    {
     "name": "stdout",
     "output_type": "stream",
     "text": [
      "True\n",
      "Yes, 'free' is present.\n",
      "Yes, 'expensive' is NOT present.\n"
     ]
    }
   ],
   "source": [
    "txt = \"The best things in life are free!\"\n",
    "print(\"free\" in txt)\n",
    "if \"free\" in txt:\n",
    "  print(\"Yes, 'free' is present.\")\n",
    "if \"expensive\" not in txt:\n",
    "  print(\"Yes, 'expensive' is NOT present.\")"
   ]
  },
  {
   "cell_type": "code",
   "execution_count": 13,
   "metadata": {},
   "outputs": [
    {
     "name": "stdout",
     "output_type": "stream",
     "text": [
      "a is greater than b\n",
      "B\n",
      "=\n"
     ]
    }
   ],
   "source": [
    "a = 2\n",
    "b = 330\n",
    "\n",
    "if a < b: print(\"a is greater than b\")\n",
    "    \n",
    "print(\"A\") if a > b else print(\"B\")\n",
    "\n",
    "a = 330\n",
    "b = 330\n",
    "print(\"A\") if a > b else print(\"=\") if a == b else print(\"B\") "
   ]
  },
  {
   "cell_type": "code",
   "execution_count": 14,
   "metadata": {
    "scrolled": false
   },
   "outputs": [
    {
     "name": "stdout",
     "output_type": "stream",
     "text": [
      "0\n",
      "1\n",
      "2\n",
      "3\n",
      "4\n",
      "5\n",
      "Finally finished!\n"
     ]
    }
   ],
   "source": [
    "for x in range(6):\n",
    "  print(x)\n",
    " # if x == 5:\n",
    " # \tbreak\n",
    "  continue\n",
    "else:\n",
    "  print(\"Finally finished!\")\n",
    "# The else keyword in a for loop specifies a block of code to be executed when the loop is finished. \n",
    "# The else block will NOT be executed if the loop is stopped by a break statement.\n",
    "# else can be used in while loops also\n",
    "# for loops cannot be empty, but if you for some reason have a for loop with no content, put in the pass statement to avoid getting an error.\n",
    "\n",
    "for x in [0, 1, 2]:\n",
    "  pass \n",
    "\n",
    "# iteration variable can be more than 1 on for loop, generally used to iterate dict.items()"
   ]
  },
  {
   "cell_type": "markdown",
   "metadata": {},
   "source": [
    "# Functions"
   ]
  },
  {
   "cell_type": "code",
   "execution_count": 10,
   "metadata": {},
   "outputs": [
    {
     "name": "stdout",
     "output_type": "stream",
     "text": [
      "<class 'list'>\n",
      "[5, 12, 17, 18, 24, 32]\n",
      "<class 'tuple'>\n",
      "([5, 12, 17, 18, 24, 32],)\n",
      "<class 'tuple'>\n",
      "(5, 12, 17, 18, 24, 32)\n",
      "<class 'tuple'>\n",
      "((5, 12, 17, 18, 24, 32),)\n"
     ]
    }
   ],
   "source": [
    "def funcx(x):\n",
    "    print(type(x))    # normal user defined function sends collection as a whole to the function\n",
    "    print(x)    # single input as it is passed to the function\n",
    "\n",
    "def funcy(*y):\n",
    "# incoming input should be discrete items. Elements of collections will not be considered discrete items, but the collection as a whole will be considered as 1 discrete item.\n",
    "# each discrete item is then will be considered as the element of the tuple, which will be then used by the function body.\n",
    "    print(type(y))\n",
    "    print(y)    # tuple of the discrete input(s). A very interesting things to notice in this example is that the tuple has only 1 element, and after that element 1 comma is present. TUPLE CHARACTERISTIC\n",
    "\n",
    "ages = [5, 12, 17, 18, 24, 32]\n",
    "funcx(ages)\n",
    "funcy(ages)\n",
    "ages = (5, 12, 17, 18, 24, 32)\n",
    "funcx(ages)\n",
    "funcy(ages)"
   ]
  },
  {
   "cell_type": "code",
   "execution_count": 12,
   "metadata": {},
   "outputs": [
    {
     "name": "stdout",
     "output_type": "stream",
     "text": [
      "The youngest child is Linus\n",
      "Emil\n",
      "Tobias\n",
      "Linus\n",
      "<class 'tuple'>\n",
      "The youngest child is Tobias\n",
      "The youngest child is Adam\n",
      "His last name is Refsnes\n",
      "<class 'dict'>\n",
      "('Sharan', 'Jaiswal')\n",
      "{'age': 26, 'dob': 1999}\n",
      "(['Sharan', 'Jaiswal'], {'age': 26, 'dob': 1999})\n",
      "{}\n",
      "('Sharan', 'Jaiswal')\n",
      "{'age': 26, 'dob': 1999}\n"
     ]
    }
   ],
   "source": [
    "# Arbitrary Arguments, *args . add a * before the parameter name in the function definition. \n",
    "# This way the function will receive a tuple of arguments, and can access the items accordingly\n",
    "def my_function(*kids):\n",
    "  print(\"The youngest child is \" + kids[2])\n",
    "  for name in kids:\n",
    "    print(name)\n",
    "  print(type(kids))\n",
    "\n",
    "# my_function[\"Emil\", \"Tobias\", \"Linus\"] it wont work\n",
    "# my_function([\"Emil\", \"Tobias\", \"Linus\"]) # neither this will work because of IndexError\n",
    "my_function(\"Emil\", \"Tobias\", \"Linus\")\n",
    "\n",
    "#####################################################\n",
    "\n",
    "def my_function(child3, child2, child1, child4 = \"Adam\"):  # Keyword Arguments *kwargs . with known number of keyword arguments\n",
    "    print(\"The youngest child is \" + child3)\n",
    "    print(\"The youngest child is \" + child4)   # default value can also be defined for an argument along with this method\n",
    "\n",
    "my_function(child2 = \"Emil\", child3 = \"Tobias\", child1 = \"Linus\")\n",
    "\n",
    "#####################################################\n",
    "\n",
    "def my_function(**kid):  # Arbritary Keyword Arguments **kwargs . with unknown number of keyword arguments\n",
    "  print(\"His last name is \" + kid[\"lname\"])\n",
    "  print(type(kid))\n",
    "\n",
    "my_function(fname = \"Tobias\", lname = \"Refsnes\") \n",
    "\n",
    "#####################################################\n",
    "\n",
    "def hello(*args, **kwargs):\n",
    "    print(args)\n",
    "    print(kwargs)\n",
    "\n",
    "# hello(\"Sharan\", age = 24, \"Jaiswal\", dob = 1999) # It wont run. So order of type of parameters must be followed\n",
    "hello(\"Sharan\", \"Jaiswal\", age = 26, dob = 1999)\n",
    "\n",
    "lst=[\"Sharan\", \"Jaiswal\"]\n",
    "dict_args = {'age': 26, 'dob':1999}\n",
    "hello(lst, dict_args)    # this will transfer arguments as positional/arbritary args, and kwargs will get nothing\n",
    "#rectified:\n",
    "hello(*lst, **dict_args)\n",
    "# hello(**dict_args, *lst) # Error. Even now also, arguments order cant be changed wrt parameters"
   ]
  },
  {
   "cell_type": "code",
   "execution_count": 1,
   "metadata": {},
   "outputs": [
    {
     "name": "stdout",
     "output_type": "stream",
     "text": [
      "<1, 0, 1>\n",
      "<2, 3, 4>\n",
      "<0, 1, 4>\n",
      "<5, 2, 1>\n",
      "<19, 2, 1>\n"
     ]
    }
   ],
   "source": [
    "def print_vector(x,y,z):\n",
    "    print(f'<{x}, {y}, {z}>')\n",
    "\n",
    "print_vector(1,0,1)\n",
    "\n",
    "tuple_vect = (2,3,4)    # or any list or any iterable. Corresponding element based on the order of the argument and parameter, x takes 2, y takes 3, and z 4 below\n",
    "print_vector(*tuple_vect)\n",
    "\n",
    "gen_expr = (x*x for x in range(3))\n",
    "print_vector(*gen_expr)\n",
    "\n",
    "dict_vect = {'z': 1, 'y': 2, 'x': 5}\n",
    "print_vector(**dict_vect)   # very interesting and IMPORTANT example. Here, if the keys of the dictionary somehow doesnt match with the name of the parameterss\n",
    "                            # in the function definition, then program would have crashed.\n",
    "\n",
    "dict_vect = {'z': 1, 'y': 2, 'x': 5, 'x':19}\n",
    "print_vector(**dict_vect)"
   ]
  },
  {
   "cell_type": "code",
   "execution_count": 15,
   "metadata": {},
   "outputs": [
    {
     "name": "stdout",
     "output_type": "stream",
     "text": [
      "Sharan Jasiwal\n",
      "Sharan san\n"
     ]
    },
    {
     "ename": "TypeError",
     "evalue": "whatsmyname() got multiple values for argument 'first'",
     "output_type": "error",
     "traceback": [
      "\u001b[0;31m---------------------------------------------------------------------------\u001b[0m",
      "\u001b[0;31mTypeError\u001b[0m                                 Traceback (most recent call last)",
      "\u001b[0;32m/tmp/ipykernel_7366/3911712753.py\u001b[0m in \u001b[0;36m<module>\u001b[0;34m\u001b[0m\n\u001b[1;32m      4\u001b[0m \u001b[0mwhatsmyname\u001b[0m\u001b[0;34m(\u001b[0m\u001b[0;34m**\u001b[0m\u001b[0;34m{\u001b[0m\u001b[0;34m'first'\u001b[0m\u001b[0;34m:\u001b[0m\u001b[0;34m'Sharan'\u001b[0m\u001b[0;34m,\u001b[0m \u001b[0;34m'last'\u001b[0m\u001b[0;34m:\u001b[0m\u001b[0;34m'Jasiwal'\u001b[0m\u001b[0;34m}\u001b[0m\u001b[0;34m)\u001b[0m\u001b[0;34m\u001b[0m\u001b[0;34m\u001b[0m\u001b[0m\n\u001b[1;32m      5\u001b[0m \u001b[0mwhatsmyname\u001b[0m\u001b[0;34m(\u001b[0m\u001b[0;34m**\u001b[0m\u001b[0;34m{\u001b[0m\u001b[0;34m'first'\u001b[0m\u001b[0;34m:\u001b[0m\u001b[0;34m'Sharan'\u001b[0m\u001b[0;34m}\u001b[0m\u001b[0;34m)\u001b[0m\u001b[0;34m\u001b[0m\u001b[0;34m\u001b[0m\u001b[0m\n\u001b[0;32m----> 6\u001b[0;31m \u001b[0mwhatsmyname\u001b[0m\u001b[0;34m(\u001b[0m\u001b[0;34m'Saint'\u001b[0m\u001b[0;34m,\u001b[0m \u001b[0;34m'Ji'\u001b[0m\u001b[0;34m,\u001b[0m \u001b[0;34m**\u001b[0m\u001b[0;34m{\u001b[0m\u001b[0;34m'first'\u001b[0m\u001b[0;34m:\u001b[0m\u001b[0;34m'Sharan'\u001b[0m\u001b[0;34m,\u001b[0m \u001b[0;34m'last'\u001b[0m\u001b[0;34m:\u001b[0m\u001b[0;34m'Jasiwal'\u001b[0m\u001b[0;34m}\u001b[0m\u001b[0;34m)\u001b[0m\u001b[0;34m\u001b[0m\u001b[0;34m\u001b[0m\u001b[0m\n\u001b[0m",
      "\u001b[0;31mTypeError\u001b[0m: whatsmyname() got multiple values for argument 'first'"
     ]
    }
   ],
   "source": [
    "def whatsmyname(first, last='san', **kwargs):\n",
    "    print(f'{first} {last}')\n",
    "\n",
    "whatsmyname(**{'first':'Sharan', 'last':'Jasiwal'})\n",
    "whatsmyname(**{'first':'Sharan'})\n",
    "whatsmyname('Saint', 'Ji', **{'first':'Sharan', 'last':'Jasiwal'})\n",
    "# if positional argument's parameter has been provided, dont use its kwarg with key as same positional argument. It'll create multiple value conflict\n",
    "# Its NOT like, as if the latest value of thet positional argument will get updated"
   ]
  },
  {
   "cell_type": "code",
   "execution_count": 18,
   "metadata": {
    "scrolled": true
   },
   "outputs": [
    {
     "name": "stdout",
     "output_type": "stream",
     "text": [
      "I am from India\n",
      "I am from Norway\n",
      "apple\n",
      "banana\n",
      "cherry\n",
      "<class 'list'>\n",
      "0\n",
      "1\n",
      "3\n",
      "6\n"
     ]
    },
    {
     "data": {
      "text/plain": [
       "6"
      ]
     },
     "execution_count": 18,
     "metadata": {},
     "output_type": "execute_result"
    }
   ],
   "source": [
    "def my_function(country = \"Norway\"):\n",
    "  print(\"I am from \" + country)\n",
    "\n",
    "my_function(\"India\")\n",
    "my_function()\n",
    "\n",
    "#####################################################\n",
    "\n",
    "def my_function(food):  # Passing a list as an arguments\n",
    "  for x in food:\n",
    "    print(x)\n",
    "  print(type(food))\n",
    "\n",
    "fruits = [\"apple\", \"banana\", \"cherry\"]\n",
    "\n",
    "my_function(fruits)\n",
    "\n",
    "#####################################################\n",
    "\n",
    "def myfunction():  # when no function definition is present\n",
    "  pass\n",
    "\n",
    "#####################################################\n",
    "\n",
    "def tri_recursion(k):\n",
    "    if (k > 0):\n",
    "        result = k + tri_recursion(k - 1)\n",
    "        print(result)\n",
    "    else:\n",
    "        result = 0\n",
    "        print(result)\n",
    "    return result\n",
    "    \n",
    "tri_recursion(3)"
   ]
  },
  {
   "cell_type": "code",
   "execution_count": 19,
   "metadata": {},
   "outputs": [
    {
     "name": "stdout",
     "output_type": "stream",
     "text": [
      "(20, 25)\n"
     ]
    }
   ],
   "source": [
    "def evenoddsum(lst):\n",
    "    esum=0\n",
    "    osum=0\n",
    "    for i in lst:\n",
    "        if (i%2==0):\n",
    "            esum=esum+i\n",
    "        else:\n",
    "            osum=osum+i\n",
    "    return esum, osum    # multiple returns are always items of a tuple\n",
    "\n",
    "lst = [1,2,3,4,5,6,7,8,9,0]\n",
    "print(evenoddsum(lst))"
   ]
  },
  {
   "cell_type": "markdown",
   "metadata": {},
   "source": [
    "# Lambda\n",
    "anonymous function; one or many argsuments ===> one return value\n",
    "\n",
    "It returns expression value, even without the return keyword"
   ]
  },
  {
   "cell_type": "code",
   "execution_count": 4,
   "metadata": {},
   "outputs": [
    {
     "name": "stdout",
     "output_type": "stream",
     "text": [
      "40\n",
      "22\n",
      "33\n",
      "-5\n",
      "0\n",
      "9\n"
     ]
    },
    {
     "data": {
      "text/plain": [
       "13"
      ]
     },
     "execution_count": 4,
     "metadata": {},
     "output_type": "execute_result"
    }
   ],
   "source": [
    "x = lambda a, b : a * b +10\n",
    "print(x(5, 6))\n",
    "\n",
    "def myfunc(n):\n",
    "  return lambda a : a * n\n",
    "mydoubler = myfunc(2)\n",
    "mytripler = myfunc(3)\n",
    "print(mydoubler(11))\n",
    "print(mytripler(11))\n",
    "\n",
    "def build_quadratic_function(a,b,c):\n",
    "    \"\"\"Returns ther function f(x) = ax^2 + bx + c\"\"\"\n",
    "    return lambda x : a*x**2 + b*x + c\n",
    "f = build_quadratic_function(2, 3, -5)\n",
    "print(f(0))\n",
    "print(f(1))\n",
    "print(f(2))\n",
    "build_quadratic_function(3, 0, 1)(2)  # 3x^2+1 evaluated for x=2"
   ]
  },
  {
   "cell_type": "markdown",
   "metadata": {},
   "source": [
    "# Exception Handling\n",
    "Errors are composed of SYNTAX ERRORS & EXCEPTIONS(caught during run-time).\n",
    "\n",
    "## try: ... except: ... \\[else: ... \\]\\[finally: ...\\]\n",
    "1. Test block of code for errors\n",
    "2. handle the error, You can define as many exception blocks as you want, e.g. if you want to execute a special block of code for a special kind of error. Or, just you can send the error message to the user. You can use here **quit()** function to exit the program.\n",
    "3. this block is defined with code, which will be executed when no errors is raised.\n",
    "4. executes code, regardless of the result of try-except block. Generally used for cleanup operations."
   ]
  },
  {
   "cell_type": "markdown",
   "metadata": {},
   "source": [
    "In custom error message handling, we write the possible child error message at the top in the exception ladder. At last, we write the exception of the 'Exception' class"
   ]
  },
  {
   "cell_type": "code",
   "execution_count": 21,
   "metadata": {},
   "outputs": [
    {
     "name": "stdout",
     "output_type": "stream",
     "text": [
      "Variable jabba is not defined\n"
     ]
    }
   ],
   "source": [
    "try:\n",
    "  print(jabba)\n",
    "except NameError:  # as ne # Print one message if the try block raises a NameError and another for other errors\n",
    "  print(\"Variable jabba is not defined\")\n",
    "except:\n",
    "  print(\"Something else went wrong\") "
   ]
  },
  {
   "cell_type": "code",
   "execution_count": 1,
   "metadata": {},
   "outputs": [
    {
     "name": "stdout",
     "output_type": "stream",
     "text": [
      "unsupported operand type(s) for +: 'int' and 'str'\n",
      "TypeError\n"
     ]
    }
   ],
   "source": [
    "try:\n",
    "    a=1\n",
    "    b='s'\n",
    "    c=a+b\n",
    "except NameError as ex1:\n",
    "    print(\"The user have not defined the variable\")\n",
    "except Exception as ex:\n",
    "    print(ex)    # or here also one can put their custom message\n",
    "    print(type(ex).__name__)"
   ]
  },
  {
   "cell_type": "code",
   "execution_count": 23,
   "metadata": {},
   "outputs": [
    {
     "name": "stdout",
     "output_type": "stream",
     "text": [
      "Try to make datatype similar\n"
     ]
    }
   ],
   "source": [
    "try:\n",
    "    a=1\n",
    "    b='s'\n",
    "    c=a+b\n",
    "except NameError:\n",
    "    print(\"The user have not defined the variable\")\n",
    "except TypeError:\n",
    "    print(\"Try to make datatype similar\")\n",
    "except Exception as ex:\n",
    "    print(ex)    # or here also one can put their custom message"
   ]
  },
  {
   "cell_type": "code",
   "execution_count": 1,
   "metadata": {},
   "outputs": [
    {
     "name": "stdout",
     "output_type": "stream",
     "text": [
      "Try to make datatype similar or The user have not defined the variable\n",
      "TypeError\n"
     ]
    }
   ],
   "source": [
    "try:\n",
    "    a=1\n",
    "    b='s'\n",
    "    c=a+b\n",
    "except (NameError, TypeError) as some_exception:\n",
    "    print(\"Try to make datatype similar or The user have not defined the variable\")\n",
    "    print(type(some_exception).__name__)\n",
    "except Exception as ex:\n",
    "    print(ex)"
   ]
  },
  {
   "cell_type": "code",
   "execution_count": 25,
   "metadata": {},
   "outputs": [
    {
     "name": "stdout",
     "output_type": "stream",
     "text": [
      "Hello\n",
      "Nothing went wrong\n"
     ]
    }
   ],
   "source": [
    "try:\n",
    "  print(\"Hello\")\n",
    "except:\n",
    "  print(\"Something went wrong\")\n",
    "else:\n",
    "  print(\"Nothing went wrong\") "
   ]
  },
  {
   "cell_type": "code",
   "execution_count": 10,
   "metadata": {},
   "outputs": [
    {
     "name": "stdout",
     "output_type": "stream",
     "text": [
      "10\n",
      "try didnt gets executed\n",
      "The 'try except' is finished\n"
     ]
    }
   ],
   "source": [
    "y=10\n",
    "# del y # toggle this line as a comment to see the effect\n",
    "try:\n",
    "  print(y)\n",
    "except:\n",
    "  print(\"Something went wrong\")\n",
    "else:\n",
    "  print(\"try didnt gets executed\")\n",
    "finally:\n",
    "  print(\"The 'try except' is finished\") "
   ]
  },
  {
   "cell_type": "markdown",
   "metadata": {},
   "source": [
    "# Raise/Throw an exception\n",
    "An exception can be raised if certain user-defined condition occurs.\n",
    "You can define what kind of error to raise, and the text to print to the user."
   ]
  },
  {
   "cell_type": "markdown",
   "metadata": {},
   "source": [
    "#### Exception\n",
    "This is the main exception class. All the other exception class are derived from this exception class."
   ]
  },
  {
   "cell_type": "code",
   "execution_count": 27,
   "metadata": {},
   "outputs": [
    {
     "ename": "Exception",
     "evalue": "Sorry, no numbers below zero",
     "output_type": "error",
     "traceback": [
      "\u001b[0;31m---------------------------------------------------------------------------\u001b[0m",
      "\u001b[0;31mException\u001b[0m                                 Traceback (most recent call last)",
      "\u001b[0;32m/tmp/ipykernel_3631/2342066242.py\u001b[0m in \u001b[0;36m<module>\u001b[0;34m\u001b[0m\n\u001b[1;32m      2\u001b[0m \u001b[0;34m\u001b[0m\u001b[0m\n\u001b[1;32m      3\u001b[0m \u001b[0;32mif\u001b[0m \u001b[0mx\u001b[0m \u001b[0;34m<\u001b[0m \u001b[0;36m0\u001b[0m\u001b[0;34m:\u001b[0m\u001b[0;34m\u001b[0m\u001b[0;34m\u001b[0m\u001b[0m\n\u001b[0;32m----> 4\u001b[0;31m   \u001b[0;32mraise\u001b[0m \u001b[0mException\u001b[0m\u001b[0;34m(\u001b[0m\u001b[0;34m\"Sorry, no numbers below zero\"\u001b[0m\u001b[0;34m)\u001b[0m\u001b[0;34m\u001b[0m\u001b[0;34m\u001b[0m\u001b[0m\n\u001b[0m\u001b[1;32m      5\u001b[0m \u001b[0;34m\u001b[0m\u001b[0m\n\u001b[1;32m      6\u001b[0m \u001b[0;31m# code will not execute after this, even though error is raised and handeled\u001b[0m\u001b[0;34m\u001b[0m\u001b[0;34m\u001b[0m\u001b[0;34m\u001b[0m\u001b[0m\n",
      "\u001b[0;31mException\u001b[0m: Sorry, no numbers below zero"
     ]
    }
   ],
   "source": [
    "x = -1\n",
    "\n",
    "if x < 0:\n",
    "  raise Exception(\"Sorry, no numbers below zero\") \n",
    "\n",
    "# code will not execute after this, even though error is raised and handeled"
   ]
  },
  {
   "cell_type": "code",
   "execution_count": 28,
   "metadata": {},
   "outputs": [
    {
     "ename": "NameError",
     "evalue": "name 'q' is not defined",
     "output_type": "error",
     "traceback": [
      "\u001b[0;31m---------------------------------------------------------------------------\u001b[0m",
      "\u001b[0;31mNameError\u001b[0m                                 Traceback (most recent call last)",
      "\u001b[0;32m/tmp/ipykernel_3631/3242440529.py\u001b[0m in \u001b[0;36m<module>\u001b[0;34m\u001b[0m\n\u001b[0;32m----> 1\u001b[0;31m \u001b[0mp\u001b[0m\u001b[0;34m=\u001b[0m\u001b[0mq\u001b[0m\u001b[0;34m\u001b[0m\u001b[0;34m\u001b[0m\u001b[0m\n\u001b[0m",
      "\u001b[0;31mNameError\u001b[0m: name 'q' is not defined"
     ]
    }
   ],
   "source": [
    "p=q"
   ]
  },
  {
   "cell_type": "markdown",
   "metadata": {},
   "source": [
    "This above specific type of exception, i.e., 'NameError' exception is basically derived from the 'Exception' class."
   ]
  },
  {
   "cell_type": "code",
   "execution_count": 29,
   "metadata": {},
   "outputs": [
    {
     "name": "stdout",
     "output_type": "stream",
     "text": [
      "name 'q' is not defined\n"
     ]
    }
   ],
   "source": [
    "try:\n",
    "    p=q\n",
    "except Exception as ex:    # here we called the Exception Class object and aliased it as 'ex'\n",
    "    print(ex)    # here we can see that the ex contains the same error message string that was given in the above cell execution"
   ]
  },
  {
   "cell_type": "markdown",
   "metadata": {},
   "source": [
    "One can handle this exception and customize this exception message. This is called exception handling, and we did it in the previous section."
   ]
  },
  {
   "cell_type": "code",
   "execution_count": 30,
   "metadata": {},
   "outputs": [
    {
     "ename": "TypeError",
     "evalue": "Only integers are allowed",
     "output_type": "error",
     "traceback": [
      "\u001b[0;31m---------------------------------------------------------------------------\u001b[0m",
      "\u001b[0;31mTypeError\u001b[0m                                 Traceback (most recent call last)",
      "\u001b[0;32m/tmp/ipykernel_3631/752372459.py\u001b[0m in \u001b[0;36m<module>\u001b[0;34m\u001b[0m\n\u001b[1;32m      2\u001b[0m \u001b[0;34m\u001b[0m\u001b[0m\n\u001b[1;32m      3\u001b[0m \u001b[0;32mif\u001b[0m \u001b[0;32mnot\u001b[0m \u001b[0mtype\u001b[0m\u001b[0;34m(\u001b[0m\u001b[0mx\u001b[0m\u001b[0;34m)\u001b[0m \u001b[0;32mis\u001b[0m \u001b[0mint\u001b[0m\u001b[0;34m:\u001b[0m\u001b[0;34m\u001b[0m\u001b[0;34m\u001b[0m\u001b[0m\n\u001b[0;32m----> 4\u001b[0;31m   \u001b[0;32mraise\u001b[0m \u001b[0mTypeError\u001b[0m\u001b[0;34m(\u001b[0m\u001b[0;34m\"Only integers are allowed\"\u001b[0m\u001b[0;34m)\u001b[0m\u001b[0;34m\u001b[0m\u001b[0;34m\u001b[0m\u001b[0m\n\u001b[0m",
      "\u001b[0;31mTypeError\u001b[0m: Only integers are allowed"
     ]
    }
   ],
   "source": [
    "x = \"hello\"\n",
    "\n",
    "if not type(x) is int:\n",
    "  raise TypeError(\"Only integers are allowed\") "
   ]
  },
  {
   "cell_type": "code",
   "execution_count": 31,
   "metadata": {},
   "outputs": [
    {
     "name": "stdout",
     "output_type": "stream",
     "text": [
      "handled\n"
     ]
    },
    {
     "ename": "Exception",
     "evalue": "koi nahi hai idhar",
     "output_type": "error",
     "traceback": [
      "\u001b[0;31m---------------------------------------------------------------------------\u001b[0m",
      "\u001b[0;31mException\u001b[0m                                 Traceback (most recent call last)",
      "\u001b[0;32m/tmp/ipykernel_3631/219850610.py\u001b[0m in \u001b[0;36m<module>\u001b[0;34m\u001b[0m\n\u001b[1;32m      8\u001b[0m         \u001b[0mprint\u001b[0m\u001b[0;34m(\u001b[0m\u001b[0;34m'handled'\u001b[0m\u001b[0;34m)\u001b[0m\u001b[0;34m\u001b[0m\u001b[0;34m\u001b[0m\u001b[0m\n\u001b[1;32m      9\u001b[0m     \u001b[0;32mfinally\u001b[0m\u001b[0;34m:\u001b[0m\u001b[0;34m\u001b[0m\u001b[0;34m\u001b[0m\u001b[0m\n\u001b[0;32m---> 10\u001b[0;31m         \u001b[0;32mraise\u001b[0m \u001b[0mException\u001b[0m\u001b[0;34m(\u001b[0m\u001b[0;34m'koi nahi hai idhar'\u001b[0m\u001b[0;34m)\u001b[0m\u001b[0;34m\u001b[0m\u001b[0;34m\u001b[0m\u001b[0m\n\u001b[0m",
      "\u001b[0;31mException\u001b[0m: koi nahi hai idhar"
     ]
    }
   ],
   "source": [
    "x = \"hello\"\n",
    "# if error/exception is raised in try block, then only it can be handled, else\n",
    "# exception can be raised anywhere by own wish, even if error occurs or not\n",
    "if type(x) is not int:\n",
    "    try:\n",
    "        raise TypeError(\"Only integers are allowed\")\n",
    "    except:\n",
    "        print('handled')\n",
    "    finally:\n",
    "        raise Exception('koi nahi hai idhar')"
   ]
  },
  {
   "cell_type": "code",
   "execution_count": 32,
   "metadata": {},
   "outputs": [
    {
     "name": "stdout",
     "output_type": "stream",
     "text": [
      "Only integers are allowed\n"
     ]
    },
    {
     "ename": "Exception",
     "evalue": "koi nahi hai idhar",
     "output_type": "error",
     "traceback": [
      "\u001b[0;31m---------------------------------------------------------------------------\u001b[0m",
      "\u001b[0;31mException\u001b[0m                                 Traceback (most recent call last)",
      "\u001b[0;32m/tmp/ipykernel_3631/3979998209.py\u001b[0m in \u001b[0;36m<module>\u001b[0;34m\u001b[0m\n\u001b[1;32m      7\u001b[0m         \u001b[0mprint\u001b[0m\u001b[0;34m(\u001b[0m\u001b[0;34m'handled'\u001b[0m\u001b[0;34m)\u001b[0m\u001b[0;34m\u001b[0m\u001b[0;34m\u001b[0m\u001b[0m\n\u001b[1;32m      8\u001b[0m     \u001b[0;32mfinally\u001b[0m\u001b[0;34m:\u001b[0m\u001b[0;34m\u001b[0m\u001b[0;34m\u001b[0m\u001b[0m\n\u001b[0;32m----> 9\u001b[0;31m         \u001b[0;32mraise\u001b[0m \u001b[0mException\u001b[0m\u001b[0;34m(\u001b[0m\u001b[0;34m'koi nahi hai idhar'\u001b[0m\u001b[0;34m)\u001b[0m\u001b[0;34m\u001b[0m\u001b[0;34m\u001b[0m\u001b[0m\n\u001b[0m",
      "\u001b[0;31mException\u001b[0m: koi nahi hai idhar"
     ]
    }
   ],
   "source": [
    "if type(x) is not int:\n",
    "    try:\n",
    "        raise TypeError(\"Only integers are allowed\")\n",
    "    except TypeError as te:\n",
    "        print(te)\n",
    "    except:\n",
    "        print('handled')\n",
    "    finally:\n",
    "        raise Exception('koi nahi hai idhar')"
   ]
  },
  {
   "cell_type": "code",
   "execution_count": 33,
   "metadata": {},
   "outputs": [
    {
     "name": "stdout",
     "output_type": "stream",
     "text": [
      "\n"
     ]
    },
    {
     "ename": "Exception",
     "evalue": "",
     "output_type": "error",
     "traceback": [
      "\u001b[0;31m---------------------------------------------------------------------------\u001b[0m",
      "\u001b[0;31mException\u001b[0m                                 Traceback (most recent call last)",
      "\u001b[0;32m/tmp/ipykernel_3631/4064170477.py\u001b[0m in \u001b[0;36m<module>\u001b[0;34m\u001b[0m\n\u001b[1;32m      4\u001b[0m     \u001b[0mprint\u001b[0m\u001b[0;34m(\u001b[0m\u001b[0me\u001b[0m\u001b[0;34m)\u001b[0m\u001b[0;34m\u001b[0m\u001b[0;34m\u001b[0m\u001b[0m\n\u001b[1;32m      5\u001b[0m \u001b[0;32mfinally\u001b[0m\u001b[0;34m:\u001b[0m\u001b[0;34m\u001b[0m\u001b[0;34m\u001b[0m\u001b[0m\n\u001b[0;32m----> 6\u001b[0;31m     \u001b[0;32mraise\u001b[0m \u001b[0mException\u001b[0m\u001b[0;34m\u001b[0m\u001b[0;34m\u001b[0m\u001b[0m\n\u001b[0m",
      "\u001b[0;31mException\u001b[0m: "
     ]
    }
   ],
   "source": [
    "try:\n",
    "    raise Exception\n",
    "except Exception as e:\n",
    "    print(e)\n",
    "finally:\n",
    "    raise Exception"
   ]
  },
  {
   "cell_type": "code",
   "execution_count": 34,
   "metadata": {},
   "outputs": [
    {
     "ename": "SyntaxError",
     "evalue": "default 'except:' must be last (505038779.py, line 3)",
     "output_type": "error",
     "traceback": [
      "\u001b[0;36m  File \u001b[0;32m\"/tmp/ipykernel_3631/505038779.py\"\u001b[0;36m, line \u001b[0;32m3\u001b[0m\n\u001b[0;31m    raise TypeError(\"Only integers are allowed\")\u001b[0m\n\u001b[0m    ^\u001b[0m\n\u001b[0;31mSyntaxError\u001b[0m\u001b[0;31m:\u001b[0m default 'except:' must be last\n"
     ]
    }
   ],
   "source": [
    "if type(x) is not int:\n",
    "    try:\n",
    "        raise TypeError(\"Only integers are allowed\")\n",
    "    except:\n",
    "        print('handled')\n",
    "    except TypeError as te:\n",
    "        print(te)\n",
    "    finally:\n",
    "        raise Exception('koi nahi hai idhar')"
   ]
  },
  {
   "cell_type": "markdown",
   "metadata": {},
   "source": [
    "### Creating Custom Exception"
   ]
  },
  {
   "cell_type": "code",
   "execution_count": 35,
   "metadata": {},
   "outputs": [],
   "source": [
    "class MyError(Exception):\n",
    "    pass"
   ]
  },
  {
   "cell_type": "code",
   "execution_count": 36,
   "metadata": {},
   "outputs": [
    {
     "ename": "MyError",
     "evalue": "",
     "output_type": "error",
     "traceback": [
      "\u001b[0;31m---------------------------------------------------------------------------\u001b[0m",
      "\u001b[0;31mMyError\u001b[0m                                   Traceback (most recent call last)",
      "\u001b[0;32m/tmp/ipykernel_3631/1578886822.py\u001b[0m in \u001b[0;36m<module>\u001b[0;34m\u001b[0m\n\u001b[0;32m----> 1\u001b[0;31m \u001b[0;32mraise\u001b[0m \u001b[0mMyError\u001b[0m\u001b[0;34m\u001b[0m\u001b[0;34m\u001b[0m\u001b[0m\n\u001b[0m",
      "\u001b[0;31mMyError\u001b[0m: "
     ]
    }
   ],
   "source": [
    "raise MyError"
   ]
  },
  {
   "cell_type": "code",
   "execution_count": 37,
   "metadata": {},
   "outputs": [],
   "source": [
    "class MyError(Exception):\n",
    "    pass"
   ]
  },
  {
   "cell_type": "code",
   "execution_count": 38,
   "metadata": {},
   "outputs": [
    {
     "ename": "MyError",
     "evalue": "My custom message",
     "output_type": "error",
     "traceback": [
      "\u001b[0;31m---------------------------------------------------------------------------\u001b[0m",
      "\u001b[0;31mMyError\u001b[0m                                   Traceback (most recent call last)",
      "\u001b[0;32m/tmp/ipykernel_3631/1914816368.py\u001b[0m in \u001b[0;36m<module>\u001b[0;34m\u001b[0m\n\u001b[0;32m----> 1\u001b[0;31m \u001b[0;32mraise\u001b[0m \u001b[0mMyError\u001b[0m\u001b[0;34m(\u001b[0m\u001b[0;34m\"My custom message\"\u001b[0m\u001b[0;34m)\u001b[0m\u001b[0;34m\u001b[0m\u001b[0;34m\u001b[0m\u001b[0m\n\u001b[0m",
      "\u001b[0;31mMyError\u001b[0m: My custom message"
     ]
    }
   ],
   "source": [
    "raise MyError(\"My custom message\")"
   ]
  },
  {
   "cell_type": "code",
   "execution_count": 2,
   "metadata": {},
   "outputs": [
    {
     "name": "stdout",
     "output_type": "stream",
     "text": [
      "age out of range\n"
     ]
    }
   ],
   "source": [
    "class Error(Exception):    # deriving Exception class into custom generic class.\n",
    "    pass    # instead defining any particular exception, we'll print our own exception\n",
    "\n",
    "class dobException(Error):\n",
    "    pass\n",
    "\n",
    "year=int(input(\"Enter the year of birth: \"))\n",
    "age=2021-year\n",
    "try:\n",
    "    if age<=30 and age>20:\n",
    "        pass\n",
    "    else:\n",
    "        raise dobException\n",
    "except dobException:\n",
    "    print(\"age out of range\")"
   ]
  },
  {
   "cell_type": "code",
   "execution_count": 24,
   "metadata": {},
   "outputs": [
    {
     "ename": "SyntaxError",
     "evalue": "unexpected EOF while parsing (600424842.py, line 4)",
     "output_type": "error",
     "traceback": [
      "\u001b[0;36m  File \u001b[0;32m\"/tmp/ipykernel_3314/600424842.py\"\u001b[0;36m, line \u001b[0;32m4\u001b[0m\n\u001b[0;31m    # pass\u001b[0m\n\u001b[0m          ^\u001b[0m\n\u001b[0;31mSyntaxError\u001b[0m\u001b[0;31m:\u001b[0m unexpected EOF while parsing\n"
     ]
    }
   ],
   "source": [
    "try:\n",
    "    print('a'+5)    # except block is utmost necessary with try block. We can use pass keyword inside except block if we do not want to deal with the except block\n",
    "# except:\n",
    "    # pass"
   ]
  },
  {
   "cell_type": "code",
   "execution_count": 25,
   "metadata": {},
   "outputs": [
    {
     "name": "stdout",
     "output_type": "stream",
     "text": [
      "False\n",
      "False\n",
      "False\n",
      "True\n"
     ]
    }
   ],
   "source": [
    "# https://docs.python.org/3/library/exceptions.html#exception-hierarchy\n",
    "print(issubclass(KeyboardInterrupt, Exception))\n",
    "print(issubclass(SystemExit, Exception))\n",
    "print(issubclass(BaseException, Exception))\n",
    "print(issubclass(Exception, BaseException))"
   ]
  },
  {
   "cell_type": "code",
   "execution_count": 27,
   "metadata": {},
   "outputs": [
    {
     "name": "stdout",
     "output_type": "stream",
     "text": [
      "It is system-exit exception handling\n"
     ]
    }
   ],
   "source": [
    "# for terminating the python program, along with termination with keyboard\n",
    "import time\n",
    "try:\n",
    "    while 1:\n",
    "        time.sleep(2)\n",
    "        raise SystemExit    # used by quit(), sys.exit() internally\n",
    "except KeyboardInterrupt:\n",
    "    print(\"keyboard interrupted 1\")\n",
    "    print(\"keyboard interrupted 2\")\n",
    "    print(\"keyboard interrupted 3\")\n",
    "    print(\"keyboard interrupted 4\")\n",
    "except:\n",
    "    print(\"It is system-exit exception handling\")"
   ]
  },
  {
   "cell_type": "markdown",
   "metadata": {},
   "source": [
    "LEARN COMMON ERROR TYPES AND THEIR PROCESS TO RAISE ERROR TYPE AND THEIR HANDLING\n",
    "\n",
    "https://medium.com/analytics-vidhya/6-exceptionally-common-pitfalls-of-python-exception-handling-44871d6afbc7"
   ]
  },
  {
   "cell_type": "markdown",
   "metadata": {},
   "source": [
    "# Built-in Function of python"
   ]
  },
  {
   "cell_type": "markdown",
   "metadata": {},
   "source": [
    "abs(\\<num\\>)\n",
    "\n",
    "all(\\<iterable\\>) # returns True if all the elements from the iterable are True. Else False.\n",
    "\n",
    "any(\\<iterable\\>)\n",
    "\n",
    "bin(\\<num\\>)  # return binary number of integer \\<num\\>. Other numbers are not allowed\n",
    "\n",
    "bool()  # It will return False if parameters will be empty objects like empty list, dictionary, tuple, string, 0, 0.00 ..., False, None\n",
    "\n",
    "complex(\\['\\]real, \\[imaginary number pary w/o 'j'\\]\\['\\])  # outputs (r+ij)\n",
    "\n",
    "filter(bool returning function for each item in iterable, iterable) # returns an iterator where the items are filtered through a function to test if the item is accepted or not.\n",
    "\n",
    "min() max()\n",
    "\n",
    "ord() . It returns the number representing the unicode code of a specified character.\n",
    "\n",
    "chr() . returns the character that represents the specified unicode.\n",
    "\n",
    "pow(base, exponent\\[, modulus\\])    # modulus is always any integer except 0, allowed only when base and exponent are integer.\n",
    "\n",
    "hash()  Returns the hash value of a specified object"
   ]
  },
  {
   "cell_type": "code",
   "execution_count": 40,
   "metadata": {},
   "outputs": [
    {
     "data": {
      "text/plain": [
       "False"
      ]
     },
     "execution_count": 40,
     "metadata": {},
     "output_type": "execute_result"
    }
   ],
   "source": [
    "all([[]])   # even empty list as an iterable element is not considered as True"
   ]
  },
  {
   "cell_type": "code",
   "execution_count": 41,
   "metadata": {},
   "outputs": [
    {
     "name": "stdout",
     "output_type": "stream",
     "text": [
      "True\n",
      "{True: 'maybe'}\n",
      "{1: 'maybe'}\n"
     ]
    }
   ],
   "source": [
    "# Since:\n",
    "print(True == 1 == 1.0)\n",
    "# Hence:\n",
    "print({True: 'yes', 1: 'no', 1.0: 'maybe'})\n",
    "print({1: 'yes', True: 'no', 1.0: 'maybe'})"
   ]
  },
  {
   "cell_type": "markdown",
   "metadata": {},
   "source": [
    "# FILTER Function\n",
    "callable(object_name).....    Function mentioned as the first argument returns True/False. But filter returns iterator of elements which are passes as true from the iterable. Only those elements from the original iterator which passed as true, are the part of the filter object iterator. Since it is an iterator, hence the iterator object points to the input object. It does not already calculates the final out and stores in the iterator object, but in contrast it knows from where to start, if the elements of the putput will be called. Hence, it is evident that the function is executed only when output elements is being demanded from the iterator object."
   ]
  },
  {
   "cell_type": "code",
   "execution_count": 1,
   "metadata": {
    "scrolled": true
   },
   "outputs": [
    {
     "name": "stdout",
     "output_type": "stream",
     "text": [
      "*****\n",
      "<filter object at 0x7ff2f433c760>\n",
      "*****\n",
      "<class 'int'>\n",
      "<class 'int'>\n",
      "<class 'int'>\n",
      "18\n",
      "24\n",
      "32\n",
      "True\n"
     ]
    }
   ],
   "source": [
    "def myFunc(x):\n",
    "    if x < 18:\n",
    "        print(type(x))    # filter function sends one by one colletion items. NOT whole item at a time, as a normal function\n",
    "        return False\n",
    "    else:\n",
    "        return True\n",
    "\n",
    "print(\"*\"*5)\n",
    "# filter only looks for true value. not false in general. Above AKA: filter(lambda num: num<18, ages)\n",
    "\n",
    "ages = [5, 12, 17, 18, 24, 32]\n",
    "ads=adults = filter(myFunc, ages)\n",
    "print(adults)\n",
    "print(\"*\"*5)\n",
    "#print(list(adults))\n",
    "for x in adults:\n",
    "    print(x)\n",
    "    \n",
    "# testing 'all' on iterator\n",
    "print(all(ads))"
   ]
  },
  {
   "cell_type": "markdown",
   "metadata": {},
   "source": [
    "# MAP Function\n",
    "It takes the values and gives to the function. The function then process those inputs and returns the output. All outputs collectively makes an iterator. Since it is an iterator, hence the iterator object points to the input object. It does not already calculates the final out and stores in the iterator object, but in contrast it knows from where to start, sends elements of the input iterable one-by-one, if the elements of the output will be called. Hence, it is evident that the function is executed only when element from input is sent to function, and output elements is being demanded from the iterator object."
   ]
  },
  {
   "cell_type": "code",
   "execution_count": 5,
   "metadata": {},
   "outputs": [
    {
     "name": "stdout",
     "output_type": "stream",
     "text": [
      "<map object at 0x7f0b2569d3d0>\n",
      "Only two because last 'zz' has only 2 characters\n",
      "<class 'str'> <class 'str'> <class 'str'> <class 'str'>\n",
      "<class 'str'> <class 'str'> <class 'str'> <class 'str'>\n",
      "['appleorangeabbaz', 'bananalemonjabbaz']\n",
      "<class 'str'> <class 'str'> <class 'str'> <class 'str'>\n",
      "<class 'str'> <class 'str'> <class 'str'> <class 'str'>\n",
      "<class 'str'> <class 'str'> <class 'str'> <class 'str'>\n",
      "['appleorangeabbas', 'bananalemonjabbah', 'cherrypineapplechabbaa']\n"
     ]
    }
   ],
   "source": [
    "def myfunc(a, b, c, d):\n",
    "  print(type(a), type(b), type(c), type(d))\n",
    "  return a + b + c + d\n",
    "x = map(myfunc, ('apple', 'banana', 'cherry'), ('orange', 'lemon', 'pineapple', 'guava'), ('abba', 'jabba', 'chabba'), 'zz')\n",
    "print(x)    # returns map object. Memory has not been instantiated using map.z \n",
    "# Because it used lazy-loading technique. list(map(<func_n>, iterable(s))) will return list\n",
    "# convert the map into a list, or in any collection form, for readability:\n",
    "print('Only two because last \\'zz\\' has only 2 characters')\n",
    "print(list(x))\n",
    "\n",
    "x = map(myfunc, ('apple', 'banana', 'cherry'), ('orange', 'lemon', 'pineapple', 'guava'), ('abba', 'jabba', 'chabba'), 'sharan')\n",
    "print(list(x))\n",
    "\n",
    "# map() function executes a specified function for each item in an iterable. The item is sent to the function as a parameter.\n",
    "# function: Required. The function to execute for each item\n",
    "#iterable: Required. A sequence, collection or an iterator object. You can send as many iterables as you like, just make sure the function has one parameter for each iterable.\n"
   ]
  },
  {
   "cell_type": "code",
   "execution_count": 44,
   "metadata": {},
   "outputs": [
    {
     "name": "stdout",
     "output_type": "stream",
     "text": [
      "<map object at 0x7f540765ecd0>\n",
      "[0, 1, 4, 9, 16, 25, 36, 49, 64, 81]\n"
     ]
    }
   ],
   "source": [
    "nums = range(10)\n",
    "x = map(lambda x : x*x, nums)\n",
    "print(x)\n",
    "print(list(x))"
   ]
  },
  {
   "cell_type": "markdown",
   "metadata": {},
   "source": [
    "# ZIP Function"
   ]
  },
  {
   "cell_type": "code",
   "execution_count": 45,
   "metadata": {
    "scrolled": true
   },
   "outputs": [
    {
     "name": "stdout",
     "output_type": "stream",
     "text": [
      "<zip object at 0x7f540759f380>\n",
      "[('John', 'Jenny'), ('Charles', 'Christy'), (5, 8), ('Mike', 'Monica')]\n",
      "()\n",
      "<zip object at 0x7f540759f380>\n"
     ]
    }
   ],
   "source": [
    "a = (\"John\", \"Charles\", 5, \"Mike\")\n",
    "b = [\"Jenny\", \"Christy\", 8, \"Monica\", \"Vicky\"]\n",
    "x = zip(a, b)    # input could be be any iterable. Output is iterator.\n",
    "print(x)\n",
    "print(list(x))\n",
    "print(tuple(x))\n",
    "print(x)\n",
    "\n",
    "# returns a zip object, which is an iterator of tuples where the first item in each passed iterator is paired together, \n",
    "# and then the second item in each passed iterator are paired together etc. \n",
    "# If the passed iterators have different lengths, the iterator with the least items decides the length of the new iterator."
   ]
  },
  {
   "cell_type": "code",
   "execution_count": 46,
   "metadata": {},
   "outputs": [
    {
     "name": "stdout",
     "output_type": "stream",
     "text": [
      "('John', 'Jenny', 'orange')\n",
      "('Charles', 'Christy', 'lemon')\n",
      "('Mike', 'Monica', 'pineapple')\n"
     ]
    }
   ],
   "source": [
    "a = (\"John\", \"Charles\", \"Mike\")\n",
    "b = [\"Jenny\", \"Christy\", \"Monica\", \"Vicky\"]\n",
    "c = ('orange', 'lemon', 'pineapple', 'guava')\n",
    "x = zip(a, b, c)    # input could be be any iterable\n",
    "\n",
    "for i in x:\n",
    "    print(i)"
   ]
  },
  {
   "cell_type": "code",
   "execution_count": 47,
   "metadata": {},
   "outputs": [
    {
     "name": "stdout",
     "output_type": "stream",
     "text": [
      "John Jenny\n",
      "Charles Christy\n",
      "Mike Monica\n"
     ]
    }
   ],
   "source": [
    "a = (\"John\", \"Charles\", \"Mike\")\n",
    "b = [\"Jenny\", \"Christy\", \"Monica\", \"Vicky\"]\n",
    "x = zip(a, b)    # input could be be any iterable\n",
    "\n",
    "for i,j in x:\n",
    "    print(i, j)"
   ]
  },
  {
   "cell_type": "code",
   "execution_count": 48,
   "metadata": {},
   "outputs": [
    {
     "data": {
      "text/plain": [
       "[]"
      ]
     },
     "execution_count": 48,
     "metadata": {},
     "output_type": "execute_result"
    }
   ],
   "source": [
    "# creating zip object\n",
    "list(zip()) # one can put tuples as zip items inside zip()"
   ]
  },
  {
   "cell_type": "code",
   "execution_count": 3,
   "metadata": {},
   "outputs": [],
   "source": [
    "dict1={'name':\"Sharan\", \"title\":\"jaiswal\", \"age\": 23}\n",
    "dict2={'name':\"jaiswal\", \"title\":\"sharan\", \"age\": 32}"
   ]
  },
  {
   "cell_type": "code",
   "execution_count": 4,
   "metadata": {},
   "outputs": [],
   "source": [
    "dictionary = zip(dict1, dict2)"
   ]
  },
  {
   "cell_type": "code",
   "execution_count": 5,
   "metadata": {},
   "outputs": [
    {
     "name": "stdout",
     "output_type": "stream",
     "text": [
      "('name', 'name')\n",
      "('title', 'title')\n",
      "('age', 'age')\n"
     ]
    }
   ],
   "source": [
    "for i in dictionary:\n",
    "    print(i)"
   ]
  },
  {
   "cell_type": "code",
   "execution_count": 9,
   "metadata": {},
   "outputs": [],
   "source": [
    "dictionary = zip(dict1.items(), dict2.items())"
   ]
  },
  {
   "cell_type": "code",
   "execution_count": 7,
   "metadata": {
    "scrolled": true
   },
   "outputs": [
    {
     "name": "stdout",
     "output_type": "stream",
     "text": [
      "(('name', 'Sharan'), ('name', 'jaiswal'))\n",
      "(('title', 'jaiswal'), ('title', 'sharan'))\n",
      "(('age', 23), ('age', 32))\n"
     ]
    }
   ],
   "source": [
    "for i in dictionary:\n",
    "    print(i)"
   ]
  },
  {
   "cell_type": "code",
   "execution_count": 10,
   "metadata": {},
   "outputs": [
    {
     "name": "stdout",
     "output_type": "stream",
     "text": [
      "name Sharan\n",
      "name jaiswal\n",
      "title jaiswal\n",
      "title sharan\n",
      "age 23\n",
      "age 32\n"
     ]
    }
   ],
   "source": [
    "for (i,j),(i2, j2) in dictionary:\n",
    "    print(i,j)\n",
    "    print(i2, j2)"
   ]
  },
  {
   "cell_type": "markdown",
   "metadata": {},
   "source": [
    "# ENUMERATE Function\n",
    "Outputs a list of tuple. First ele in tup is index from 0, or the index that has been passed. second is the Ith ele of the iterable from 0th index, irrespective of the passed starting point of the index. Iterable can be string also."
   ]
  },
  {
   "cell_type": "code",
   "execution_count": 7,
   "metadata": {},
   "outputs": [
    {
     "name": "stdout",
     "output_type": "stream",
     "text": [
      "(0, 'eat')\n",
      "(1, 'sleep')\n",
      "(2, 'repeat')\n",
      "100 eat\n",
      "101 sleep\n",
      "102 repeat\n"
     ]
    }
   ],
   "source": [
    "l1 = [\"eat\",\"sleep\",\"repeat\"]\n",
    "\n",
    "for ele in enumerate(l1):\n",
    "    print (ele)\n",
    "\n",
    "for count,ele in enumerate(l1,100):\n",
    "    print (count,ele)"
   ]
  },
  {
   "cell_type": "markdown",
   "metadata": {},
   "source": [
    "# REDUCE Function\n",
    "1. Function takes up 2 mandatory args,1 optional arg.\n",
    "2. First arg is processing function that takes up two arguments.\n",
    "3. Second arg is the iterable whose elements will be the inputs for the processing function, taken from left to right.\n",
    "4. Third arg is optional, which is the initial value of the processing inputs."
   ]
  },
  {
   "cell_type": "code",
   "execution_count": 1,
   "metadata": {},
   "outputs": [
    {
     "name": "stdout",
     "output_type": "stream",
     "text": [
      "110 10\n"
     ]
    }
   ],
   "source": [
    "from functools import reduce\n",
    "lst = range(5)\n",
    "orig_val = 100\n",
    "sum_val = reduce((lambda x, y: x+y), lst, orig_val)\n",
    "sum_val2 = reduce((lambda x, y: x+y), lst)\n",
    "print(sum_val, sum_val2)"
   ]
  },
  {
   "cell_type": "markdown",
   "metadata": {},
   "source": [
    "# ACCUMULATE Function\n",
    "Unlike REDUCE function which gives single value, accumulate gives the iterator of the values corresponding to each element in the input iterable. Unlike REDUCE, it just takes two arguments, not the optional third argument at all."
   ]
  },
  {
   "cell_type": "code",
   "execution_count": 28,
   "metadata": {},
   "outputs": [
    {
     "name": "stdout",
     "output_type": "stream",
     "text": [
      "<itertools.accumulate object at 0x7fca5d3dac80>\n",
      "[0, 1, 3, 6, 10]\n"
     ]
    }
   ],
   "source": [
    "from itertools import accumulate\n",
    "lst = range(5)\n",
    "sum_val = accumulate(lst, (lambda x, y: x+y))\n",
    "print(sum_val)\n",
    "print(list(sum_val))\n"
   ]
  },
  {
   "cell_type": "markdown",
   "metadata": {},
   "source": [
    "# EVAL Function \n",
    "VALUATING EXPRESSIONS DYNAMICALLY. Evaluates python expression which are written as strings.\n",
    "1. Parse the expression.\n",
    "2. Compile the expression into byte code.\n",
    "3. Evaluate the python expression.\n",
    "4. Return the result.\n",
    "\n",
    "eval(source, \\[globals=None, \\[locals=None\\]\\]\\[, /\\])"
   ]
  },
  {
   "cell_type": "code",
   "execution_count": null,
   "metadata": {
    "scrolled": true
   },
   "outputs": [
    {
     "data": {
      "text/plain": [
       "28.5"
      ]
     },
     "execution_count": 80,
     "metadata": {},
     "output_type": "execute_result"
    }
   ],
   "source": [
    "eval(\"5*5+7/2\")"
   ]
  },
  {
   "cell_type": "code",
   "execution_count": null,
   "metadata": {
    "scrolled": true
   },
   "outputs": [
    {
     "data": {
      "text/plain": [
       "10"
      ]
     },
     "execution_count": 81,
     "metadata": {},
     "output_type": "execute_result"
    }
   ],
   "source": [
    "eval(input(\"Enter the expression to evaluate : \"))"
   ]
  },
  {
   "cell_type": "code",
   "execution_count": null,
   "metadata": {},
   "outputs": [],
   "source": [
    "def sq_num(num):\n",
    "    return num**2"
   ]
  },
  {
   "cell_type": "code",
   "execution_count": null,
   "metadata": {},
   "outputs": [
    {
     "data": {
      "text/plain": [
       "4"
      ]
     },
     "execution_count": 83,
     "metadata": {},
     "output_type": "execute_result"
    }
   ],
   "source": [
    "sq_num(2)"
   ]
  },
  {
   "cell_type": "code",
   "execution_count": null,
   "metadata": {},
   "outputs": [
    {
     "data": {
      "text/plain": [
       "4"
      ]
     },
     "execution_count": 84,
     "metadata": {},
     "output_type": "execute_result"
    }
   ],
   "source": [
    "eval(\"sq_num(2)\")"
   ]
  },
  {
   "cell_type": "markdown",
   "metadata": {},
   "source": [
    "working of eval.\n",
    "\n",
    "compile()"
   ]
  },
  {
   "cell_type": "code",
   "execution_count": null,
   "metadata": {},
   "outputs": [],
   "source": [
    "var=compile(\"5*5\", \"<string>\", \"eval\")   # parsing and compiling into the byte code"
   ]
  },
  {
   "cell_type": "code",
   "execution_count": null,
   "metadata": {},
   "outputs": [
    {
     "data": {
      "text/plain": [
       "<code object <module> at 0x7f78583b52f0, file \"<string>\", line 1>"
      ]
     },
     "execution_count": 86,
     "metadata": {},
     "output_type": "execute_result"
    }
   ],
   "source": [
    "var"
   ]
  },
  {
   "cell_type": "code",
   "execution_count": null,
   "metadata": {},
   "outputs": [
    {
     "data": {
      "text/plain": [
       "25"
      ]
     },
     "execution_count": 87,
     "metadata": {},
     "output_type": "execute_result"
    }
   ],
   "source": [
    "eval(var)"
   ]
  },
  {
   "cell_type": "markdown",
   "metadata": {},
   "source": [
    "###### Globals parameter"
   ]
  },
  {
   "cell_type": "code",
   "execution_count": null,
   "metadata": {},
   "outputs": [
    {
     "ename": "TypeError",
     "evalue": "unsupported operand type(s) for +: 'zip' and 'int'",
     "output_type": "error",
     "traceback": [
      "\u001b[0;31m---------------------------------------------------------------------------\u001b[0m",
      "\u001b[0;31mTypeError\u001b[0m                                 Traceback (most recent call last)",
      "\u001b[0;32m/tmp/ipykernel_4571/3692080757.py\u001b[0m in \u001b[0;36m<module>\u001b[0;34m\u001b[0m\n\u001b[0;32m----> 1\u001b[0;31m \u001b[0meval\u001b[0m\u001b[0;34m(\u001b[0m\u001b[0;34m\"x+50+x**2\"\u001b[0m\u001b[0;34m)\u001b[0m    \u001b[0;31m# it will give error because x is not defined\u001b[0m\u001b[0;34m\u001b[0m\u001b[0;34m\u001b[0m\u001b[0m\n\u001b[0m",
      "\u001b[0;32m<string>\u001b[0m in \u001b[0;36m<module>\u001b[0;34m\u001b[0m\n",
      "\u001b[0;31mTypeError\u001b[0m: unsupported operand type(s) for +: 'zip' and 'int'"
     ]
    }
   ],
   "source": [
    "eval(\"x+50+x**2\")    # it will give error because x is not defined"
   ]
  },
  {
   "cell_type": "code",
   "execution_count": null,
   "metadata": {},
   "outputs": [
    {
     "data": {
      "text/plain": [
       "60"
      ]
     },
     "execution_count": 89,
     "metadata": {},
     "output_type": "execute_result"
    }
   ],
   "source": [
    "eval(\"mu+50\", {\"mu\": 10})"
   ]
  },
  {
   "cell_type": "code",
   "execution_count": null,
   "metadata": {},
   "outputs": [
    {
     "data": {
      "text/plain": [
       "470"
      ]
     },
     "execution_count": 90,
     "metadata": {},
     "output_type": "execute_result"
    }
   ],
   "source": [
    "x=20\n",
    "eval(\"x+50+x**2\", {\"x\":x})"
   ]
  },
  {
   "cell_type": "code",
   "execution_count": null,
   "metadata": {},
   "outputs": [
    {
     "data": {
      "text/plain": [
       "50"
      ]
     },
     "execution_count": 91,
     "metadata": {},
     "output_type": "execute_result"
    }
   ],
   "source": [
    "x=0\n",
    "eval(\"x+50+x**2\")"
   ]
  },
  {
   "cell_type": "code",
   "execution_count": null,
   "metadata": {},
   "outputs": [
    {
     "ename": "NameError",
     "evalue": "name 'y' is not defined",
     "output_type": "error",
     "traceback": [
      "\u001b[0;31m---------------------------------------------------------------------------\u001b[0m",
      "\u001b[0;31mNameError\u001b[0m                                 Traceback (most recent call last)",
      "\u001b[0;32m/tmp/ipykernel_4571/3543552152.py\u001b[0m in \u001b[0;36m<module>\u001b[0;34m\u001b[0m\n\u001b[1;32m      3\u001b[0m \u001b[0my\u001b[0m\u001b[0;34m=\u001b[0m\u001b[0;36m20\u001b[0m\u001b[0;34m\u001b[0m\u001b[0;34m\u001b[0m\u001b[0m\n\u001b[1;32m      4\u001b[0m \u001b[0mz\u001b[0m\u001b[0;34m=\u001b[0m\u001b[0;36m100\u001b[0m\u001b[0;34m\u001b[0m\u001b[0;34m\u001b[0m\u001b[0m\n\u001b[0;32m----> 5\u001b[0;31m \u001b[0meval\u001b[0m\u001b[0;34m(\u001b[0m\u001b[0;34m\"w+x+y+z\"\u001b[0m\u001b[0;34m,\u001b[0m \u001b[0;34m{\u001b[0m\u001b[0;34m\"x\"\u001b[0m\u001b[0;34m:\u001b[0m\u001b[0mx\u001b[0m\u001b[0;34m,\u001b[0m \u001b[0;34m\"z\"\u001b[0m\u001b[0;34m:\u001b[0m\u001b[0mz\u001b[0m\u001b[0;34m,\u001b[0m \u001b[0;34m\"w\"\u001b[0m\u001b[0;34m:\u001b[0m \u001b[0;36m40\u001b[0m\u001b[0;34m}\u001b[0m\u001b[0;34m)\u001b[0m\u001b[0;34m\u001b[0m\u001b[0;34m\u001b[0m\u001b[0m\n\u001b[0m",
      "\u001b[0;32m<string>\u001b[0m in \u001b[0;36m<module>\u001b[0;34m\u001b[0m\n",
      "\u001b[0;31mNameError\u001b[0m: name 'y' is not defined"
     ]
    }
   ],
   "source": [
    "w=34\n",
    "x=100\n",
    "y=20\n",
    "z=100\n",
    "eval(\"w+x+y+z\", {\"x\":x, \"z\":z, \"w\": 40})"
   ]
  },
  {
   "cell_type": "code",
   "execution_count": null,
   "metadata": {},
   "outputs": [
    {
     "data": {
      "text/plain": [
       "10"
      ]
     },
     "execution_count": 91,
     "metadata": {},
     "output_type": "execute_result"
    }
   ],
   "source": [
    "eval(\"w+x+y+z\", {}, {\"x\":1, \"z\":2, \"w\": 3, \"y\":4})    # locals"
   ]
  },
  {
   "cell_type": "markdown",
   "metadata": {},
   "source": [
    "**Minimizing security issues**"
   ]
  },
  {
   "cell_type": "markdown",
   "metadata": {},
   "source": [
    "# Sorting and Compairing of collection items\n",
    "\n",
    "### Any sequences can be compared. Underlying concept is, corresponding elements are compared.\n",
    "\n",
    "One can use **sorted(iterable, key=key, reverse=True/False)** function. Sorting of collection cant be done when that sequence contains BOTH string values AND numeric values. Strings are sorted alphabetically, and numbers are sorted numerically."
   ]
  },
  {
   "cell_type": "code",
   "execution_count": null,
   "metadata": {},
   "outputs": [
    {
     "ename": "TypeError",
     "evalue": "'<' not supported between instances of 'str' and 'int'",
     "output_type": "error",
     "traceback": [
      "\u001b[0;31m---------------------------------------------------------------------------\u001b[0m",
      "\u001b[0;31mTypeError\u001b[0m                                 Traceback (most recent call last)",
      "\u001b[0;32m<ipython-input-55-1e5348b9b154>\u001b[0m in \u001b[0;36m<module>\u001b[0;34m\u001b[0m\n\u001b[1;32m      1\u001b[0m \u001b[0mlst\u001b[0m \u001b[0;34m=\u001b[0m \u001b[0;34m[\u001b[0m\u001b[0;36m0\u001b[0m\u001b[0;34m,\u001b[0m\u001b[0;36m1\u001b[0m\u001b[0;34m,\u001b[0m\u001b[0;36m2\u001b[0m\u001b[0;34m,\u001b[0m\u001b[0;34m'a'\u001b[0m\u001b[0;34m,\u001b[0m \u001b[0;34m\"sharan\"\u001b[0m\u001b[0;34m,\u001b[0m \u001b[0;34m'b'\u001b[0m\u001b[0;34m,\u001b[0m \u001b[0;34m\"Sharan\"\u001b[0m\u001b[0;34m,\u001b[0m \u001b[0;32mNone\u001b[0m\u001b[0;34m]\u001b[0m\u001b[0;34m\u001b[0m\u001b[0;34m\u001b[0m\u001b[0m\n\u001b[0;32m----> 2\u001b[0;31m \u001b[0mx\u001b[0m \u001b[0;34m=\u001b[0m \u001b[0msorted\u001b[0m\u001b[0;34m(\u001b[0m\u001b[0mlst\u001b[0m\u001b[0;34m)\u001b[0m\u001b[0;34m\u001b[0m\u001b[0;34m\u001b[0m\u001b[0m\n\u001b[0m",
      "\u001b[0;31mTypeError\u001b[0m: '<' not supported between instances of 'str' and 'int'"
     ]
    }
   ],
   "source": [
    "lst = [0,1,2,'a', \"sharan\", 'b', \"Sharan\", None]\n",
    "x = sorted(lst)"
   ]
  },
  {
   "cell_type": "code",
   "execution_count": 1,
   "metadata": {},
   "outputs": [
    {
     "name": "stdout",
     "output_type": "stream",
     "text": [
      "[0, 1, 2, 3, 4]\n",
      "[0, 1, 4, -1]\n",
      "[0, 1, 2, 3, 4]\n"
     ]
    }
   ],
   "source": [
    "lst=[0,1,2,3,4] # unlike reversed, it creates the shallow copy of the object output, which doesn't get affected by furthur changing of the input, even after changing i/p\n",
    "x = sorted(lst)\n",
    "lst.append(-1)\n",
    "lst.pop(2)  # pops out 2\n",
    "lst.pop(2)  # popa out 3\n",
    "print(x)\n",
    "print(lst)\n",
    "print(x)"
   ]
  },
  {
   "cell_type": "code",
   "execution_count": null,
   "metadata": {},
   "outputs": [
    {
     "data": {
      "text/plain": [
       "['0',\n",
       " '1',\n",
       " '6',\n",
       " '9',\n",
       " 'A',\n",
       " 'B',\n",
       " 'C',\n",
       " 'SHARAN',\n",
       " 'a',\n",
       " 'b',\n",
       " 'c',\n",
       " 'd',\n",
       " 'e',\n",
       " 'sharan']"
      ]
     },
     "execution_count": 57,
     "metadata": {},
     "output_type": "execute_result"
    }
   ],
   "source": [
    "lst=['a', 'b', 'c', 'A', \"sharan\", \"SHARAN\", 'B', 'C', 'd', 'e', '0','1','6','9']\n",
    "x = sorted(lst)\n",
    "x"
   ]
  },
  {
   "cell_type": "code",
   "execution_count": null,
   "metadata": {},
   "outputs": [
    {
     "data": {
      "text/plain": [
       "[('a', 22), ('b', 10), ('c', 1)]"
      ]
     },
     "execution_count": 58,
     "metadata": {},
     "output_type": "execute_result"
    }
   ],
   "source": [
    "d={'b':10, 'c':1, 'a':22}\n",
    "t=sorted(d.items())\n",
    "t"
   ]
  },
  {
   "cell_type": "code",
   "execution_count": null,
   "metadata": {},
   "outputs": [
    {
     "name": "stdout",
     "output_type": "stream",
     "text": [
      "[(10, 'b'), (1, 'c'), (22, 'a')]\n",
      "[(22, 'a'), (10, 'b'), (1, 'c')]\n",
      "[(22, 'a'), (10, 'b'), (1, 'c')]\n"
     ]
    }
   ],
   "source": [
    "# sorting based on values of dictionary using SORTED()\n",
    "\n",
    "d={'b':10, 'c':1, 'a':22}\n",
    "tmp=list()\n",
    "\n",
    "for k,v in d.items():\n",
    "    tmp.append((v,k))\n",
    "    \n",
    "print(tmp)\n",
    "\n",
    "tmp=sorted(tmp, reverse = True)\n",
    "print(tmp)\n",
    "\n",
    "\n",
    "print(sorted([(v,k) for (k,v) in d.items()], reverse = True))"
   ]
  },
  {
   "cell_type": "markdown",
   "metadata": {},
   "source": [
    "## Assert Statements in Python\n",
    "It is used to check if a given logical expression is True or False. Program execution proceeds only if the expressions is true and raises the **AssertionError** when it is False.\n",
    "\n",
    "It can be used as a check point in the program flow"
   ]
  },
  {
   "cell_type": "code",
   "execution_count": null,
   "metadata": {},
   "outputs": [
    {
     "data": {
      "text/plain": [
       "True"
      ]
     },
     "execution_count": 60,
     "metadata": {},
     "output_type": "execute_result"
    }
   ],
   "source": [
    "10>=10 # this is not assert statement"
   ]
  },
  {
   "cell_type": "code",
   "execution_count": null,
   "metadata": {},
   "outputs": [
    {
     "data": {
      "text/plain": [
       "False"
      ]
     },
     "execution_count": 61,
     "metadata": {},
     "output_type": "execute_result"
    }
   ],
   "source": [
    "10>10  # this is not assert statement"
   ]
  },
  {
   "cell_type": "code",
   "execution_count": null,
   "metadata": {},
   "outputs": [
    {
     "ename": "AssertionError",
     "evalue": "",
     "output_type": "error",
     "traceback": [
      "\u001b[0;31m---------------------------------------------------------------------------\u001b[0m",
      "\u001b[0;31mAssertionError\u001b[0m                            Traceback (most recent call last)",
      "\u001b[0;32m<ipython-input-62-cd3ba8613112>\u001b[0m in \u001b[0;36m<module>\u001b[0;34m\u001b[0m\n\u001b[1;32m      1\u001b[0m \u001b[0mnum\u001b[0m\u001b[0;34m=\u001b[0m\u001b[0;36m12\u001b[0m\u001b[0;34m\u001b[0m\u001b[0;34m\u001b[0m\u001b[0m\n\u001b[0;32m----> 2\u001b[0;31m \u001b[0;32massert\u001b[0m \u001b[0mnum\u001b[0m\u001b[0;34m<\u001b[0m\u001b[0;36m10\u001b[0m\u001b[0;34m\u001b[0m\u001b[0;34m\u001b[0m\u001b[0m\n\u001b[0m",
      "\u001b[0;31mAssertionError\u001b[0m: "
     ]
    }
   ],
   "source": [
    "num=12\n",
    "assert num<10"
   ]
  },
  {
   "cell_type": "code",
   "execution_count": null,
   "metadata": {},
   "outputs": [
    {
     "name": "stdout",
     "output_type": "stream",
     "text": [
      "enter a number: 456\n",
      "The number is even.\n"
     ]
    }
   ],
   "source": [
    "try:\n",
    "    num=int(input(\"enter a number: \"))\n",
    "    assert num%2==0\n",
    "    print(\"The number is even.\")\n",
    "except AssertionError:\n",
    "    print(\"Please enter even number\")"
   ]
  },
  {
   "cell_type": "code",
   "execution_count": 19,
   "metadata": {},
   "outputs": [
    {
     "name": "stdout",
     "output_type": "stream",
     "text": [
      "Object `this` not found.\n"
     ]
    }
   ],
   "source": [
    "import this??"
   ]
  },
  {
   "cell_type": "markdown",
   "metadata": {},
   "source": [
    "## Hash Function\n",
    "Hash function takes up only immutable objects as its argument"
   ]
  },
  {
   "cell_type": "code",
   "execution_count": null,
   "metadata": {},
   "outputs": [
    {
     "data": {
      "text/plain": [
       "-5659871693760987716"
      ]
     },
     "execution_count": 7,
     "metadata": {},
     "output_type": "execute_result"
    }
   ],
   "source": [
    "hash((1,2,3,4,5))"
   ]
  },
  {
   "cell_type": "code",
   "execution_count": null,
   "metadata": {},
   "outputs": [
    {
     "ename": "TypeError",
     "evalue": "unhashable type: 'list'",
     "output_type": "error",
     "traceback": [
      "\u001b[0;31m---------------------------------------------------------------------------\u001b[0m",
      "\u001b[0;31mTypeError\u001b[0m                                 Traceback (most recent call last)",
      "\u001b[0;32m<ipython-input-8-e5d4de7779f9>\u001b[0m in \u001b[0;36m<module>\u001b[0;34m\u001b[0m\n\u001b[0;32m----> 1\u001b[0;31m \u001b[0mhash\u001b[0m\u001b[0;34m(\u001b[0m\u001b[0;34m[\u001b[0m\u001b[0;36m2\u001b[0m\u001b[0;34m,\u001b[0m\u001b[0;36m3\u001b[0m\u001b[0;34m,\u001b[0m\u001b[0;36m4\u001b[0m\u001b[0;34m,\u001b[0m\u001b[0;36m5\u001b[0m\u001b[0;34m]\u001b[0m\u001b[0;34m)\u001b[0m\u001b[0;34m\u001b[0m\u001b[0;34m\u001b[0m\u001b[0m\n\u001b[0m",
      "\u001b[0;31mTypeError\u001b[0m: unhashable type: 'list'"
     ]
    }
   ],
   "source": [
    "hash([2,3,4,5])"
   ]
  },
  {
   "cell_type": "code",
   "execution_count": null,
   "metadata": {},
   "outputs": [
    {
     "data": {
      "text/plain": [
       "47"
      ]
     },
     "execution_count": 12,
     "metadata": {},
     "output_type": "execute_result"
    }
   ],
   "source": [
    "var = 47\n",
    "hash(var)"
   ]
  },
  {
   "cell_type": "code",
   "execution_count": null,
   "metadata": {},
   "outputs": [
    {
     "data": {
      "text/plain": [
       "6336300501747837843"
      ]
     },
     "execution_count": 10,
     "metadata": {},
     "output_type": "execute_result"
    }
   ],
   "source": [
    "name = 'Sharan'\n",
    "hash(name)"
   ]
  },
  {
   "cell_type": "code",
   "execution_count": null,
   "metadata": {},
   "outputs": [
    {
     "ename": "TypeError",
     "evalue": "unhashable type: 'list'",
     "output_type": "error",
     "traceback": [
      "\u001b[0;31m---------------------------------------------------------------------------\u001b[0m",
      "\u001b[0;31mTypeError\u001b[0m                                 Traceback (most recent call last)",
      "\u001b[0;32m<ipython-input-13-164116ffe001>\u001b[0m in \u001b[0;36m<module>\u001b[0;34m\u001b[0m\n\u001b[1;32m      1\u001b[0m \u001b[0mlst\u001b[0m \u001b[0;34m=\u001b[0m \u001b[0;34m[\u001b[0m\u001b[0;36m1\u001b[0m\u001b[0;34m,\u001b[0m\u001b[0;36m2\u001b[0m\u001b[0;34m,\u001b[0m\u001b[0;36m3\u001b[0m\u001b[0;34m,\u001b[0m\u001b[0;36m4\u001b[0m\u001b[0;34m]\u001b[0m\u001b[0;34m\u001b[0m\u001b[0;34m\u001b[0m\u001b[0m\n\u001b[0;32m----> 2\u001b[0;31m \u001b[0mhash\u001b[0m\u001b[0;34m(\u001b[0m\u001b[0mlst\u001b[0m\u001b[0;34m)\u001b[0m\u001b[0;34m\u001b[0m\u001b[0;34m\u001b[0m\u001b[0m\n\u001b[0m",
      "\u001b[0;31mTypeError\u001b[0m: unhashable type: 'list'"
     ]
    }
   ],
   "source": [
    "lst = [1,2,3,4]\n",
    "hash(lst)"
   ]
  },
  {
   "cell_type": "code",
   "execution_count": null,
   "metadata": {},
   "outputs": [
    {
     "data": {
      "text/plain": [
       "7852972215226871095"
      ]
     },
     "execution_count": 14,
     "metadata": {},
     "output_type": "execute_result"
    }
   ],
   "source": [
    "tup=(2,3,4,5)\n",
    "hash(tup)"
   ]
  },
  {
   "cell_type": "code",
   "execution_count": null,
   "metadata": {},
   "outputs": [
    {
     "data": {
      "text/plain": [
       "<sha256 HASH object @ 0x7f21b05c0a30>"
      ]
     },
     "execution_count": 29,
     "metadata": {},
     "output_type": "execute_result"
    }
   ],
   "source": [
    "from hashlib import sha256\n",
    "sha256(\"hello\".encode('utf-8'))"
   ]
  },
  {
   "cell_type": "code",
   "execution_count": null,
   "metadata": {},
   "outputs": [
    {
     "data": {
      "text/plain": [
       "'ef92b778bafe771e89245b89ecbc08a44a4e166c06659911881f383d4473e94f'"
      ]
     },
     "execution_count": 33,
     "metadata": {},
     "output_type": "execute_result"
    }
   ],
   "source": [
    "# from hashlib import sha256\n",
    "m = sha256()\n",
    "m.update(b'password123')\n",
    "m.hexdigest()"
   ]
  },
  {
   "cell_type": "code",
   "execution_count": null,
   "metadata": {},
   "outputs": [],
   "source": [
    "def clearence(username, password):\n",
    "    hash_val = hash(password)\n",
    "\n",
    "    # Query the database for the hash value of the username\n",
    "    hash_val_db = query_db(username)\n",
    "\n",
    "    if hash_val == hash_val_db:\n",
    "        return True\n",
    "    else:\n",
    "        return False"
   ]
  },
  {
   "cell_type": "code",
   "execution_count": null,
   "metadata": {},
   "outputs": [],
   "source": [
    "# other application of hash value\n",
    "table = list(range(400_000))"
   ]
  },
  {
   "cell_type": "code",
   "execution_count": null,
   "metadata": {},
   "outputs": [
    {
     "name": "stdout",
     "output_type": "stream",
     "text": [
      "6.95 ms ± 1.18 ms per loop (mean ± std. dev. of 7 runs, 100 loops each)\n"
     ]
    }
   ],
   "source": [
    "%%timeit\n",
    "400_000 in table"
   ]
  },
  {
   "cell_type": "code",
   "execution_count": null,
   "metadata": {},
   "outputs": [],
   "source": [
    "# another approach. Faster approach\n",
    "my_set = set(range(400_000))"
   ]
  },
  {
   "cell_type": "code",
   "execution_count": null,
   "metadata": {},
   "outputs": [
    {
     "name": "stdout",
     "output_type": "stream",
     "text": [
      "46 ns ± 5.41 ns per loop (mean ± std. dev. of 7 runs, 10000000 loops each)\n"
     ]
    }
   ],
   "source": [
    "%%timeit\n",
    "400_000 in my_set   # thats a huge difference in time. Its much faster because its independent of the size of the input"
   ]
  }
 ],
 "metadata": {
  "interpreter": {
   "hash": "a6570200391abd47b22bafa3ab36aba8327b6bca09374d4d4cb5f21cfca217ce"
  },
  "kernelspec": {
   "display_name": "Python 3 (ipykernel)",
   "language": "python",
   "name": "python3"
  },
  "language_info": {
   "codemirror_mode": {
    "name": "ipython",
    "version": 3
   },
   "file_extension": ".py",
   "mimetype": "text/x-python",
   "name": "python",
   "nbconvert_exporter": "python",
   "pygments_lexer": "ipython3",
   "version": "3.9.5"
  },
  "metadata": {
   "interpreter": {
    "hash": "a6570200391abd47b22bafa3ab36aba8327b6bca09374d4d4cb5f21cfca217ce"
   }
  }
 },
 "nbformat": 4,
 "nbformat_minor": 2
}
