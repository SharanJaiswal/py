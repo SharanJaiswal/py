{
 "cells": [
  {
   "cell_type": "markdown",
   "metadata": {},
   "source": [
    "# STRINGS\n",
    "Strings are Immutable, Indexed. They are iterable."
   ]
  },
  {
   "cell_type": "code",
   "execution_count": 1,
   "metadata": {},
   "outputs": [
    {
     "name": "stdout",
     "output_type": "stream",
     "text": [
      "llo\n",
      "Hello\n",
      "llo, World!\n",
      "orl\n"
     ]
    }
   ],
   "source": [
    "b = \"Hello, World!\"\n",
    "# indexing starts from 0\n",
    "print(b[2:5])\n",
    "print(b[:5])\n",
    "print(b[2:])\n",
    "print(b[-5:-2]) # hence, [relative left : relative right] in any case."
   ]
  },
  {
   "cell_type": "code",
   "execution_count": 7,
   "metadata": {},
   "outputs": [
    {
     "name": "stdout",
     "output_type": "stream",
     "text": [
      "Hello, World\n"
     ]
    }
   ],
   "source": [
    "a=\"Hello, World\"\n",
    "print(a)\n",
    "# a[0:5]=\"J\"  # not possible because item assignment is not possible in python string\n",
    "# a[0]=\"J\"    # For similar reasons, this is also not possible"
   ]
  },
  {
   "cell_type": "code",
   "execution_count": 2,
   "metadata": {},
   "outputs": [
    {
     "name": "stdout",
     "output_type": "stream",
     "text": [
      "My name is:sharan\n",
      "My name is: sharan\n",
      "Jaiswal sharan\n",
      "sharansharansharan\n",
      "sharanJaiswal\n"
     ]
    }
   ],
   "source": [
    "x=\"sharan\"\n",
    "y=\"Jaiswal\"\n",
    "print(\"My name is:\"+x)\n",
    "print(\"My name is:\",x)\n",
    "print(y,x)\n",
    "print(x*3)\n",
    "print(x+y)"
   ]
  },
  {
   "cell_type": "code",
   "execution_count": 5,
   "metadata": {},
   "outputs": [
    {
     "name": "stdout",
     "output_type": "stream",
     "text": [
      "36 is my age.\n",
      "Hello, and welcome to my world.\n",
      "Welcome To My World Hello B2B2B2 And 3G3G3G Jabba\n",
      "aussen\n",
      "außen\n",
      "hELLO mY3433 --=_(*%% HDF O) nAME iS peterAUSSEN\n",
      "       banana       \n"
     ]
    }
   ],
   "source": [
    "# str.method(parameter) or string.method(parameter)\n",
    "\n",
    "txt1 = \"36 is my age.\"\n",
    "txt2 = \"hello, and welcome to my world.\"\n",
    "x = txt1.capitalize()\n",
    "y = txt2.capitalize()   # if first character in the str is alphabet, then only it'll work. Otherwise, it'll return the same str.\n",
    "print (x)\n",
    "print (y)\n",
    "\n",
    "txt = \"Welcome to my world hello b2b2b2 and 3g3g3g jabba\"\n",
    "x = txt.title() # converts everyfirst alphabet, after the non-alphabet character, to opposite case.\n",
    "print(x)\n",
    "\n",
    "mystr = 'außen'\n",
    "print(mystr.casefold())\n",
    "mystr = 'außen'\n",
    "print(mystr.lower())    # the German lowercase letter 'ß' is equivalent to 'ss'. \n",
    "                        # Since it is already lowercase, the lower() method would not convert it; whereas the casefold() converts it to 'ss'\n",
    "\n",
    "txt = \"Hello My3433 --=_(*%% hdf o) Name Is PETERaußen\"\n",
    "x = txt.swapcase()\n",
    "print(x) \n",
    "\n",
    "txt = \"banana\"\n",
    "x = txt.center(20)  # string.center(length, [character]). Whichever among len(str) or length will be max, that length of string will be output.\n",
    "print(x)"
   ]
  },
  {
   "cell_type": "code",
   "execution_count": 9,
   "metadata": {},
   "outputs": [
    {
     "name": "stdout",
     "output_type": "stream",
     "text": [
      "banana               is my favorite fruit.\n",
      "1....banana\n"
     ]
    }
   ],
   "source": [
    "txt = \"banana\"\n",
    "x = txt.ljust(20)   # string.l|rjust(length, [character]) default value of'character' us \" \"(space). \n",
    "                    # Whichever among len(str) or length will be max, that length of string will be output.\n",
    "print(x, \"is my favorite fruit.\") \n",
    "\n",
    "\n",
    "txt = \",,,,,ssaaww.1....banana\"\n",
    "x = txt.lstrip(\",.asw\") # string.lstrip([characters]) space is the default leading CHARACTER-SET to remove. there is also .strip() & .rstrip()\n",
    "print(x) "
   ]
  },
  {
   "cell_type": "code",
   "execution_count": 7,
   "metadata": {},
   "outputs": [
    {
     "name": "stdout",
     "output_type": "stream",
     "text": [
      "3\n",
      "True\n",
      "False\n",
      "-1\n",
      "21\n",
      "I like apples\n",
      "00000hello\n",
      "welcome to the jungle\n",
      "000010.000\n"
     ]
    }
   ],
   "source": [
    "\n",
    "txt = \"I love apples, apple are jdfapplekdslk my favorite fruit.\"\n",
    "x = txt.count(\"apple\")  # string.count(value, [start], [end]) ..... default value is 0\n",
    "print(x)\n",
    "\n",
    "x = txt.endswith(\".\")\n",
    "print(x)    # string.endswith(value, [start], [end]) ....default is False\n",
    "txt1 = \"hello\"\n",
    "x = txt1.startswith(\"hello\", 0, 3)\n",
    "print(x)    # the whole match should be present within the limits\n",
    "\n",
    "txt = \"Hello, welcome to my world.\"\n",
    "print(txt.find(\"q\"))    # finds first|last occurence only.\n",
    "                        # Default, if not found, is -1. string.[r]find(value, [start, [end]]). \n",
    "                        # counted index is referenced from left, starting from 0 as usual, i.e., it will always be +ve if found, even if [r] is used\n",
    "# print(txt.[r]index(\"q\"[,start[,end]])) # raises exception if value not found. Hence dont use. Similar as find(), but without ecxeption handiling\n",
    "print(txt.rindex('w', -10))\n",
    "\n",
    "# True/False --> string.isalnum() isalpha() isdigit() isidentifier()(a-z0-9_) islower|upper()(only checks for alphabet for string consisting of anything) \n",
    "# isnumeric()(negative[-], floats[.eE], ,-_, are not. simple +ve int, ² and ¾ are giving True) \n",
    "\n",
    "txt = \"I like bananas\"\n",
    "x = txt.replace(\"bananas\", \"apples\")    # string.replace(oldvalue, newvalue, count) .Relpaces all occurences unless count specified for first <count> occurences.\n",
    "print(x)\n",
    "\n",
    "a = \"hello\"\n",
    "b = \"welcome to the jungle\"\n",
    "c = \"10.000\"\n",
    "print(a.zfill(10))\n",
    "print(b.zfill(10))\n",
    "print(c.zfill(10))"
   ]
  },
  {
   "cell_type": "code",
   "execution_count": 6,
   "metadata": {},
   "outputs": [
    {
     "name": "stdout",
     "output_type": "stream",
     "text": [
      "John#Peter#Vicky\n",
      "nameTESTcountry\n"
     ]
    }
   ],
   "source": [
    "# string_separator.join(iterable) Takes all items in an iterable and joins them into one string. Separator must be string.\n",
    "\n",
    "myTuple = (\"John\", \"Peter\", \"Vicky\")\n",
    "x = \"#\".join(myTuple)\n",
    "print(x) \n",
    "\n",
    "myDict = {\"name\": \"John\", \"country\": \"Norway\"}\n",
    "mySeparator = \"TEST\"\n",
    "x = mySeparator.join(myDict)\n",
    "print(x)"
   ]
  },
  {
   "cell_type": "code",
   "execution_count": 3,
   "metadata": {},
   "outputs": [
    {
     "name": "stdout",
     "output_type": "stream",
     "text": [
      "('I could eat ', 'bananas', ' all day')\n",
      "('I could eat bananas all day', '', '')\n",
      "('', '', 'I could eat bananas all day')\n"
     ]
    },
    {
     "data": {
      "text/plain": [
       "'\\nSearch for the first match of the word \"bananas\", and return a tuple with three elements:\\n\\n1 - everything before the \"match\", if match not found then whole input str\\n2 - the \"match\", if match not found then empty str\\n3 - everything after the \"match\", if match not found then empty str\\n===================================\\nif \\'rpartition\\' is used, then the first match from the last is looked for. Rest all will be same.\\n'"
      ]
     },
     "execution_count": 3,
     "metadata": {},
     "output_type": "execute_result"
    }
   ],
   "source": [
    "txt = \"I could eat bananas all day\"\n",
    "x = txt.partition(\"bananas\")\n",
    "print(x)\n",
    "x = txt.partition(\"apple\")\n",
    "print(x)\n",
    "x = txt.rpartition(\"apple\")\n",
    "print(x)\n",
    "\n",
    "\"\"\"\n",
    "Search for the first match of the word \"bananas\", and return a tuple with three elements:\n",
    "\n",
    "1 - everything before the \"match\", if match not found then whole input str\n",
    "2 - the \"match\", if match not found then empty str\n",
    "3 - everything after the \"match\", if match not found then empty str\n",
    "===================================\n",
    "if 'rpartition' is used, then the first match from the last is looked for. Rest all will be same.\n",
    "\"\"\""
   ]
  },
  {
   "cell_type": "code",
   "execution_count": 10,
   "metadata": {},
   "outputs": [
    {
     "name": "stdout",
     "output_type": "stream",
     "text": [
      "['#welcom#e', 't#o#', 'the', 'jun#gle#']\n",
      "['', 'welcom', 'e    t#o# the jun#gle#']\n",
      "['', 'welcom', 'e    t', 'o', ' the jun', 'gle', '']\n",
      "['#welcom#e', '', '', '', 't#o#', 'the', 'jun#gle#']\n",
      "['', '', '', '', '', '', '']\n"
     ]
    }
   ],
   "source": [
    "txt = \"#welcom#e    t#o# the jun#gle#\"\n",
    "x = txt.split()\n",
    "print(x)\n",
    "x = txt.split(\"#\", 2)\n",
    "print(x)\n",
    "x = txt.split(\"#\")\n",
    "print(x)\n",
    "x = txt.split(\" \")   # string.split([separator, [maxsplit]]) default values are <whitespaces> and <-1>(which means all occurences)\n",
    "print(x)\n",
    "txt = \"#\"*6\n",
    "x=txt.split(\"#\")\n",
    "print(x)"
   ]
  },
  {
   "cell_type": "code",
   "execution_count": 11,
   "metadata": {
    "scrolled": true
   },
   "outputs": [
    {
     "name": "stdout",
     "output_type": "stream",
     "text": [
      "['Thank you for the music', 'Welcome to the jungle']\n",
      "['Thank you for the music\\n', 'Welcome to the jungle']\n",
      "Thank you for the music\n",
      "\n",
      "Welcome to the jungle\n"
     ]
    }
   ],
   "source": [
    "txt = \"Thank you for the music\\nWelcome to the jungle\"\n",
    "x = txt.splitlines()\n",
    "print(x)\n",
    "x = txt.splitlines(True)\n",
    "print(x)\n",
    "print(x[0])\n",
    "print(x[1])"
   ]
  },
  {
   "cell_type": "raw",
   "metadata": {},
   "source": [
    "Since pyhton strings are immutable, hence we need special methods to make any changes(replace or delete character(s)) to the eisting string.\n",
    "We could use .replace() method, but this would not change the corresponding character of the arguments provided. Instead, .replace() method changes the occurence of first arg with the second arg.\n",
    ".translate() method uses table which contains the 256 character string, givng the translation for each character indexed by its ordinal. This mapping table can be created using the .maketrans() method.\n",
    ".maketrans(x,y,z) method takes one compulsory argument, and 2 optional arguments. Hence can contain 1,2 or 3 arguments.\n",
    "If only 1 argument: It must be dictionary, mapping unicode ordinals or chars to unicode ordinals, strings, or None. Character keys will be then converted to ordinals.\n",
    "If only 2 arguments are passed, string type and both must be of equal length, corres char mapping takes palce. Individual characters in both the arguments will be converted to the ordinal key-val pairs.\n",
    "If 3 argument is also present, then it must be a string type argument, where each character of it will be mapped to None.\n",
    "string.translate(table) # Required. Either a dictionary, or a mapping table describing how to perform the replace\n",
    "The translate() method returns a copy of the input string where some specified characters are replaced with the character described in a dictionary, or in a mapping table.\n",
    "If a character is not specified in the dictionary/table, the character will not be replaced.\n",
    "If you use a dictionary as mapping table, you must use ordinal integer unicodes instead of characters."
   ]
  },
  {
   "cell_type": "code",
   "execution_count": 15,
   "metadata": {},
   "outputs": [
    {
     "name": "stdout",
     "output_type": "stream",
     "text": [
      "{97: '1', 98: '2', 99: '3'}\n",
      "{97: 49, 98: 50, 99: 51, 100: 52, 101: 53}\n",
      "{97: 49, 98: 50, 99: 51, 100: 52, 101: 53, 40: None, 36: None, 38: None}\n"
     ]
    }
   ],
   "source": [
    "str_main=\"((Hello guy$s& and welcome.\"\n",
    "\n",
    "# with only 1 argument passed to maketrans method\n",
    "dict1={\"a\":\"1\", \"b\":\"2\", 99:\"3\"}\n",
    "tab=string.maketrans(dict1) # Character keys will be then converted to ordinals in the mapping table.\n",
    "print(tab)\n",
    "\n",
    "# with 2 arguments passed to the maketrans method\n",
    "str1, str2=\"abcde\", \"12345\"\n",
    "t=string.maketrans(str1, str2)  # Individual characters in both the arguments will be converted to the ordinal key-val pairs.\n",
    "print(t)\n",
    "\n",
    "# with 3 arguments where all 3 arguments will be of string type\n",
    "str1, str2, str3 = \"abcde\", \"12345\", \"($&\"\n",
    "t=string.maketrans(str1, str2, str3)\n",
    "print(t)\n"
   ]
  },
  {
   "cell_type": "code",
   "execution_count": 16,
   "metadata": {},
   "outputs": [
    {
     "name": "stdout",
     "output_type": "stream",
     "text": [
      "Hello Pam!\n",
      "Hello Pam!\n",
      "Hi Joe!\n",
      "G i Joe!\n",
      "G i Joe!\n"
     ]
    }
   ],
   "source": [
    "#use a dictionary with ascii codes to replace 83 (S) with 80 (P):\n",
    "mydict = {83:  80}\n",
    "txt = \"Hello Sam!\"\n",
    "print(txt.translate(mydict))\n",
    "\n",
    "txt = \"Hello Sam!\"\n",
    "mytable = txt.maketrans(\"S\", \"P\")\n",
    "print(txt.translate(mytable)) \n",
    "\n",
    "txt = \"Hi Sam!\"\n",
    "x = \"mSa\"\n",
    "y = \"eJo\"\n",
    "mytable = txt.maketrans(x, y)\n",
    "print(txt.translate(mytable)) \n",
    "\n",
    "txt = \"Good night Sam!\"\n",
    "x = \"mSa\"\n",
    "y = \"eJo\"\n",
    "z = \"odnght\"\n",
    "mytable = txt.maketrans(x, y, z)\n",
    "print(txt.translate(mytable)) \n",
    "\n",
    "txt = \"Good night Sam!\"\n",
    "mydict = {109: 101, 83: 74, 97: 111, 111: None, 100: None, 110: None, 103: None, 104: None, 116: None}\n",
    "print(txt.translate(mydict)) "
   ]
  },
  {
   "cell_type": "code",
   "execution_count": 15,
   "metadata": {},
   "outputs": [
    {
     "name": "stdout",
     "output_type": "stream",
     "text": [
      "Hello Pam!\n",
      "{109: 101, 83: 74, 97: 111}\n",
      "Hi Joe!\n",
      "G i Joe jkljoekjk!\n",
      "{109: 101, 83: None, 97: 111, 111: None, 100: None, 110: None, 103: None, 104: None, 116: None}\n"
     ]
    }
   ],
   "source": [
    "# Create a mapping table, and use it in the translate() method to replace any \"S\" characters with a \"P\" character:\n",
    "txt = \"Hello Sam!\"\n",
    "mytable = txt.maketrans(\"S\", \"P\")\n",
    "print(txt.translate(mytable))\n",
    "\n",
    "# The maketrans() method returns a mapping table that can be used with the translate() method to replace specified characters.\n",
    "txt = \"Hi Sam!\"\n",
    "x = \"mSa\"\n",
    "y = \"eJo\"\n",
    "mytable = txt.maketrans(x, y)\n",
    "print(mytable)\n",
    "print(txt.translate(mytable)) \n",
    "\n",
    "txt = \"Good night Sam jkljdamkjkd!\"\n",
    "x = \"mSa\"\n",
    "y = \"eJo\"\n",
    "z = \"odnght\"\n",
    "mytable = txt.maketrans(x, y, z)\n",
    "print(txt.translate(mytable)) \n",
    "\n",
    "\n",
    "txt = \"Good night Sam!\"\n",
    "x = \"mSa\"\n",
    "y = \"eJo\"\n",
    "z = \"odnSght\"\n",
    "print(txt.maketrans(x, y, z)) "
   ]
  },
  {
   "cell_type": "code",
   "execution_count": 14,
   "metadata": {},
   "outputs": [
    {
     "name": "stdout",
     "output_type": "stream",
     "text": [
      "Good night Joe!\n"
     ]
    }
   ],
   "source": [
    "txt = \"Good night Sam!\"\n",
    "mydict = {109: 101, 83: 74, 97: 111}\n",
    "print(txt.translate(mydict)) "
   ]
  },
  {
   "cell_type": "code",
   "execution_count": 1,
   "metadata": {},
   "outputs": [
    {
     "name": "stdout",
     "output_type": "stream",
     "text": [
      "For only 49.00 dollars!\n",
      "My name is John, I'm 36 My name is John, I'm 36 My name is John, I'm 36\n",
      "My name is Sharan and I am 24 years old.\n",
      "My name is Sharan and I am 24 years old.\n",
      "We have 49       chickens.\n",
      "We have       49 chickens.\n",
      "We have    49    chickens.\n",
      "The temperature is -      5 degrees celsius.\n",
      "The temperature is 00000005 degrees celsius.\n",
      "**cat**\n",
      "*cat**\n"
     ]
    }
   ],
   "source": [
    "# string.format(value1, value2...)\n",
    "# value1, value2,.... ----> Required. One or more values that should be formatted and inserted in the string.\n",
    "# The values are either a list of values separated by commas, a key=value list, or a combination of both.The values can be of any data type.\n",
    "\n",
    "txt = \"For only {price:.2f} dollars!\"\n",
    "print(txt.format(price = 49)) \n",
    "\n",
    "# The placeholders can be identified using named indexes {price}, numbered indexes {0}, or even empty placeholders {}\n",
    "txt1 = \"My name is {fname}, I'm {age}\".format(fname = \"John\", age = 36)\n",
    "txt2 = \"My name is {0}, I'm {1}\".format(\"John\",36)  # can be used to generate the masrkup language line of code\n",
    "txt3 = \"My name is {}, I'm {}\".format(\"John\",36) \n",
    "print(txt1, txt2, txt3)\n",
    "\n",
    "# unpacking\n",
    "person = {'name':'Sharan', 'age':24}\n",
    "print('My name is {} and I am {} years old.'.format(person['name'], person['age']))\n",
    "sentence = 'My name is {name} and I am {age} years old.'.format(**person)  # this makes the palceholders more readable instead of person[name] or person[age]\n",
    "print(sentence)\n",
    "\n",
    "# insert the number 8 to set the available space for the value to 8 characters.\n",
    "txt = \"We have {:<8} chickens.\"\n",
    "print(txt.format(49))   # Use \"<\" to left-align the value:\n",
    "txt = \"We have {:>8} chickens.\"\n",
    "print(txt.format(49))   # Use \">\" to right-align the value:\n",
    "txt = \"We have {:^8} chickens.\"\n",
    "print(txt.format(49))   # Use \"^\" to center-align the value:\n",
    "txt = \"The temperature is {:=8} degrees celsius.\"\n",
    "print(txt.format(-5))   # Use \"=\" to place the plus/minus sign at the left most position:\n",
    "txt = \"The temperature is {:0=8} degrees celsius.\"\n",
    "print(txt.format(5))\n",
    "print(\"{:*^7}\".format(\"cat\"))\n",
    "print(\"{:*^6}\".format(\"cat\"))"
   ]
  },
  {
   "cell_type": "code",
   "execution_count": 9,
   "metadata": {},
   "outputs": [
    {
     "name": "stdout",
     "output_type": "stream",
     "text": [
      "The value is 9 EoS\n",
      "The value is 9 EoS\n",
      "The value is 10 EoS\n",
      "The value is 10 EoS\n",
      "The value is 11 EoS\n",
      "The value is 11 EoS\n",
      "The temperature is between -3 and +7 degrees celsius.\n",
      "The temperature is between -3 and 7 degrees celsius.\n",
      "The temperature is between -3 and  7 degrees celsius.\n",
      "The universe is 13,800,000,000 years old.\n",
      "The universe is 13_800_000_000 years old.\n",
      "The binary version of 5 is 101\n",
      "We have 5 chickens.\n",
      "We have 5.000000e+00 chickens.\n",
      "We have 5.000000E+00 chickens.\n",
      "Hello Adam, your balance is   230.235\n",
      "Hello Adam, your balance is 00230.235\n",
      "The price is 45.000000 dollars.\n",
      "The price is INF dollars.\n",
      "The price is inf dollars.\n"
     ]
    }
   ],
   "source": [
    "\n",
    "for i in range(9, 12):\n",
    "    sentence1 = 'The value is {:} EoS'.format(i)\n",
    "    print(sentence1)\n",
    "    sentence2 = 'The value is {:2} EoS'.format(i)  # at least 2 digits with zero-padded\n",
    "    print(sentence1)\n",
    "\n",
    "txt = \"The temperature is between {:+} and {:+} degrees celsius.\"\n",
    "print(txt.format(-3, 7))    # Use \"+\" to always indicate if the number is positive or negative:\n",
    "txt = \"The temperature is between {:-} and {:-} degrees celsius.\"\n",
    "print(txt.format(-3, 7))    # Use \"-\" to always indicate if the number is negative (positive numbers are displayed without any sign):\n",
    "txt = \"The temperature is between {: } and {: } degrees celsius.\"\n",
    "print(txt.format(-3, 7))    # Use \" \" (a space) to insert a space before positive numbers and a minus sign before negative numbers:\n",
    "txt = \"The universe is {:,} years old.\"\n",
    "print(txt.format(13800000000))  # Use \",\" to add a comma as a thousand separator:\n",
    "txt = \"The universe is {:_} years old.\"\n",
    "print(txt.format(13800000000))  # Use \"_\" to add a underscore character as a thousand separator:\n",
    "txt = \"The binary version of {0} is {0:b}\"\n",
    "print(txt.format(5))    # Use \"b\" to convert the number into binary format:\n",
    "txt = \"We have {:d} chickens.\"\n",
    "print(txt.format(0b101))    # Use \"d\" to convert a number, in this case a binary number, into decimal number format:\n",
    "txt = \"We have {:e} chickens.\"\n",
    "print(txt.format(5))    # Use \"e\" to convert a number into scientific number format (with a lower-case e):\n",
    "txt = \"We have {:E} chickens.\"\n",
    "print(txt.format(5))    # Use \"E\" to convert a number into scientific number format (with an upper-case E):\n",
    "txt = \"Hello {name}, your balance is {blc:9.3f}\"\n",
    "print(txt.format(name=\"Adam\", blc=230.2346))\n",
    "txt = \"Hello {0}, your balance is {blc:09.3f}\"\n",
    "print(txt.format(\"Adam\", blc=230.2346))\n",
    "txt = \"The price is {:f} dollars.\"\n",
    "print(txt.format(45))   # without the \".2\" inside the placeholder, this number will be displayed like this:\n",
    "x = float('inf')    # float('-inf')  math.inf -math.inf np.inf -np.inf math.isinf(num) \n",
    "# N+ is < inf and N- > -inf       https://towardsdatascience.com/how-to-deal-with-infinity-in-python-ab041fc95546\n",
    "txt = \"The price is {:F} dollars.\"\n",
    "print(txt.format(x))    # Use \"F\" to convert a number into a fixed point number, but display infinity and nan as INF and NAN:\n",
    "txt = \"The price is {:f} dollars.\"\n",
    "print(txt.format(x))    # same example, but with a lower case f:"
   ]
  },
  {
   "cell_type": "code",
   "execution_count": 9,
   "metadata": {},
   "outputs": [
    {
     "name": "stdout",
     "output_type": "stream",
     "text": [
      "The octal version of 10 is 12\n",
      "The Hexadecimal version of 255 is ff\n",
      "The Hexadecimal version of 255 is FF\n",
      "You scored 25.000000%\n",
      "You scored 25%\n"
     ]
    }
   ],
   "source": [
    "txt = \"The octal version of {0} is {0:o}\"\n",
    "print(txt.format(10))   # Use \"o\" to convert the number into octal format:\n",
    "txt = \"The Hexadecimal version of {0} is {0:x}\"\n",
    "print(txt.format(255))  # Use \"x\" to convert the number into Hex format:\n",
    "txt = \"The Hexadecimal version of {0} is {0:X}\"\n",
    "print(txt.format(255))  # Use \"X\" to convert the number into upper-case Hex format:\n",
    "txt = \"You scored {:%}\"\n",
    "print(txt.format(0.25)) # Use \"%\" to convert the number into a percentage format:\n",
    "txt = \"You scored {:.0%}\"\n",
    "print(txt.format(0.25)) # Or, without any decimals:\n",
    "# :g for general format.\n",
    "# :G for general format using upper case E\n",
    "# :n for Number format. Same as 'd'. Except it uses current locale setting for number separator\n",
    "# :% for Percentage. Multiples by 100 and puts % at the end.\n",
    "\n",
    "\n",
    "# https://www.programiz.com/python-programming/methods/string/format\n",
    "# https://www.programiz.com/python-programming/methods/string/format_map"
   ]
  },
  {
   "cell_type": "code",
   "execution_count": 8,
   "metadata": {},
   "outputs": [
    {
     "name": "stdout",
     "output_type": "stream",
     "text": [
      "September 24, 2016\n",
      "September 24, 2016 fell on a Saturday and was the 268 day of the year.\n"
     ]
    }
   ],
   "source": [
    "import datetime\n",
    "my_date = datetime.datetime(2016, 9, 24, 12, 30, 45)\n",
    "sentence = '{:%B %d, %Y}'.format(my_date)\n",
    "print(sentence)\n",
    "print('{0:%B %d, %Y} fell on a {0:%A} and was the {0:%j} day of the year.'.format(my_date))"
   ]
  },
  {
   "cell_type": "code",
   "execution_count": null,
   "metadata": {},
   "outputs": [],
   "source": [
    "# Reverse a string\n",
    "txt = \"Hello World\"[::-1]\n",
    "print(txt)"
   ]
  }
 ],
 "metadata": {
  "interpreter": {
   "hash": "a6570200391abd47b22bafa3ab36aba8327b6bca09374d4d4cb5f21cfca217ce"
  },
  "kernelspec": {
   "display_name": "Python 3 (ipykernel)",
   "language": "python",
   "name": "python3"
  },
  "language_info": {
   "codemirror_mode": {
    "name": "ipython",
    "version": 3
   },
   "file_extension": ".py",
   "mimetype": "text/x-python",
   "name": "python",
   "nbconvert_exporter": "python",
   "pygments_lexer": "ipython3",
   "version": "3.9.5"
  },
  "metadata": {
   "interpreter": {
    "hash": "a6570200391abd47b22bafa3ab36aba8327b6bca09374d4d4cb5f21cfca217ce"
   }
  }
 },
 "nbformat": 4,
 "nbformat_minor": 2
}
